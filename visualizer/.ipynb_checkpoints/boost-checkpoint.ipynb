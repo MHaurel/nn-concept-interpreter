{
 "cells": [
  {
   "cell_type": "markdown",
   "id": "ead0b9c4",
   "metadata": {},
   "source": [
    "# Trying to boost a category (concept)"
   ]
  },
  {
   "cell_type": "code",
   "execution_count": 1,
   "id": "6cccede7",
   "metadata": {},
   "outputs": [],
   "source": [
    "import os\n",
    "import pandas as pd\n",
    "import numpy as np\n",
    "\n",
    "%matplotlib inline\n",
    "import matplotlib.pyplot as plt\n",
    "import seaborn as sns\n",
    "\n",
    "import tensorflow as tf\n",
    "from tensorflow import keras\n",
    "from tensorflow.keras.models import Sequential\n",
    "from tensorflow.keras.layers import Dense"
   ]
  },
  {
   "cell_type": "code",
   "execution_count": 2,
   "id": "47adb163",
   "metadata": {},
   "outputs": [
    {
     "name": "stdout",
     "output_type": "stream",
     "text": [
      "Model: \"sequential\"\n",
      "_________________________________________________________________\n",
      " Layer (type)                Output Shape              Param #   \n",
      "=================================================================\n",
      " embedding (Embedding)       (None, 150, 64)           640000    \n",
      "                                                                 \n",
      " lstm (LSTM)                 (None, 16)                5184      \n",
      "                                                                 \n",
      " dense (Dense)               (None, 8)                 136       \n",
      "                                                                 \n",
      " dropout (Dropout)           (None, 8)                 0         \n",
      "                                                                 \n",
      " dense_1 (Dense)             (None, 4)                 36        \n",
      "                                                                 \n",
      " dense_2 (Dense)             (None, 1)                 5         \n",
      "                                                                 \n",
      "=================================================================\n",
      "Total params: 645,361\n",
      "Trainable params: 645,361\n",
      "Non-trainable params: 0\n",
      "_________________________________________________________________\n"
     ]
    }
   ],
   "source": [
    "model = keras.models.load_model(os.path.join('models', 'painter_model'))\n",
    "model.summary()"
   ]
  },
  {
   "cell_type": "code",
   "execution_count": 3,
   "id": "bdd9de79",
   "metadata": {},
   "outputs": [],
   "source": [
    "dirname = \"painters_ds\""
   ]
  },
  {
   "cell_type": "code",
   "execution_count": 4,
   "id": "b28779e7",
   "metadata": {},
   "outputs": [
    {
     "data": {
      "text/html": [
       "<div>\n",
       "<style scoped>\n",
       "    .dataframe tbody tr th:only-of-type {\n",
       "        vertical-align: middle;\n",
       "    }\n",
       "\n",
       "    .dataframe tbody tr th {\n",
       "        vertical-align: top;\n",
       "    }\n",
       "\n",
       "    .dataframe thead th {\n",
       "        text-align: right;\n",
       "    }\n",
       "</style>\n",
       "<table border=\"1\" class=\"dataframe\">\n",
       "  <thead>\n",
       "    <tr style=\"text-align: right;\">\n",
       "      <th></th>\n",
       "      <th>category</th>\n",
       "      <th>input</th>\n",
       "      <th>output</th>\n",
       "    </tr>\n",
       "  </thead>\n",
       "  <tbody>\n",
       "    <tr>\n",
       "      <th>http://dbpedia.org/resource/Alexander_Semionov</th>\n",
       "      <td>[http://dbpedia.org/resource/Russia]</td>\n",
       "      <td>[0, 0, 0, 0, 0, 0, 0, 0, 0, 0, 0, 0, 0, 0, 0, ...</td>\n",
       "      <td>1</td>\n",
       "    </tr>\n",
       "    <tr>\n",
       "      <th>http://dbpedia.org/resource/Howardena_Pindell</th>\n",
       "      <td>[http://dbpedia.org/resource/United_States]</td>\n",
       "      <td>[0, 0, 0, 0, 0, 0, 0, 0, 0, 0, 0, 0, 0, 0, 0, ...</td>\n",
       "      <td>1</td>\n",
       "    </tr>\n",
       "    <tr>\n",
       "      <th>http://dbpedia.org/resource/Étienne_Moreau-Nélaton</th>\n",
       "      <td>[http://dbpedia.org/resource/France]</td>\n",
       "      <td>[0, 0, 0, 0, 0, 0, 0, 0, 0, 0, 0, 0, 0, 0, 0, ...</td>\n",
       "      <td>1</td>\n",
       "    </tr>\n",
       "  </tbody>\n",
       "</table>\n",
       "</div>"
      ],
      "text/plain": [
       "                                                                                       category  \\\n",
       "http://dbpedia.org/resource/Alexander_Semionov             [http://dbpedia.org/resource/Russia]   \n",
       "http://dbpedia.org/resource/Howardena_Pindell       [http://dbpedia.org/resource/United_States]   \n",
       "http://dbpedia.org/resource/Étienne_Moreau-Nélaton         [http://dbpedia.org/resource/France]   \n",
       "\n",
       "                                                                                                input  \\\n",
       "http://dbpedia.org/resource/Alexander_Semionov      [0, 0, 0, 0, 0, 0, 0, 0, 0, 0, 0, 0, 0, 0, 0, ...   \n",
       "http://dbpedia.org/resource/Howardena_Pindell       [0, 0, 0, 0, 0, 0, 0, 0, 0, 0, 0, 0, 0, 0, 0, ...   \n",
       "http://dbpedia.org/resource/Étienne_Moreau-Nélaton  [0, 0, 0, 0, 0, 0, 0, 0, 0, 0, 0, 0, 0, 0, 0, ...   \n",
       "\n",
       "                                                    output  \n",
       "http://dbpedia.org/resource/Alexander_Semionov           1  \n",
       "http://dbpedia.org/resource/Howardena_Pindell            1  \n",
       "http://dbpedia.org/resource/Étienne_Moreau-Nélaton       1  "
      ]
     },
     "execution_count": 4,
     "metadata": {},
     "output_type": "execute_result"
    }
   ],
   "source": [
    "wdf = pd.read_json('./data/' + dirname + \".json\")\n",
    "wdf.head(3)"
   ]
  },
  {
   "cell_type": "code",
   "execution_count": 5,
   "id": "01f5586c",
   "metadata": {},
   "outputs": [
    {
     "name": "stdout",
     "output_type": "stream",
     "text": [
      "0 - embedding.pkl\n",
      "1 - lstm.pkl\n",
      "2 - dense.pkl\n",
      "3 - dropout.pkl\n",
      "4 - dense_1.pkl\n",
      "5 - dense_2.pkl\n",
      "embedding-not-mean.pkl\n"
     ]
    }
   ],
   "source": [
    "dfs = []\n",
    "for filename in os.listdir(os.path.join('visualizer_data', 'activations', dirname)):\n",
    "    if filename.split('.')[-1] == 'pkl' and 'table_data' not in filename and 'n_' not in filename:\n",
    "        print(filename)\n",
    "        dfs.append(pd.read_pickle(os.path.join('visualizer_data', 'activations', dirname, filename)))"
   ]
  },
  {
   "cell_type": "code",
   "execution_count": 37,
   "id": "63c9a0ad",
   "metadata": {},
   "outputs": [
    {
     "name": "stdout",
     "output_type": "stream",
     "text": [
      "Using layer embedding\n"
     ]
    }
   ],
   "source": [
    "layer_to_explore = 0\n",
    "df = dfs[layer_to_explore]\n",
    "print(f\"Using layer {model.layers[layer_to_explore].name}\")"
   ]
  },
  {
   "cell_type": "code",
   "execution_count": 38,
   "id": "8d2d275d",
   "metadata": {},
   "outputs": [
    {
     "data": {
      "text/html": [
       "<div>\n",
       "<style scoped>\n",
       "    .dataframe tbody tr th:only-of-type {\n",
       "        vertical-align: middle;\n",
       "    }\n",
       "\n",
       "    .dataframe tbody tr th {\n",
       "        vertical-align: top;\n",
       "    }\n",
       "\n",
       "    .dataframe thead th {\n",
       "        text-align: right;\n",
       "    }\n",
       "</style>\n",
       "<table border=\"1\" class=\"dataframe\">\n",
       "  <thead>\n",
       "    <tr style=\"text-align: right;\">\n",
       "      <th></th>\n",
       "      <th>category</th>\n",
       "      <th>input</th>\n",
       "      <th>true</th>\n",
       "      <th>pred</th>\n",
       "      <th>neuron_1</th>\n",
       "      <th>neuron_2</th>\n",
       "      <th>neuron_3</th>\n",
       "      <th>neuron_4</th>\n",
       "      <th>neuron_5</th>\n",
       "      <th>neuron_6</th>\n",
       "      <th>...</th>\n",
       "      <th>neuron_55</th>\n",
       "      <th>neuron_56</th>\n",
       "      <th>neuron_57</th>\n",
       "      <th>neuron_58</th>\n",
       "      <th>neuron_59</th>\n",
       "      <th>neuron_60</th>\n",
       "      <th>neuron_61</th>\n",
       "      <th>neuron_62</th>\n",
       "      <th>neuron_63</th>\n",
       "      <th>neuron_64</th>\n",
       "    </tr>\n",
       "  </thead>\n",
       "  <tbody>\n",
       "    <tr>\n",
       "      <th>http://dbpedia.org/resource/Alexander_Semionov</th>\n",
       "      <td>[http://dbpedia.org/resource/Russia]</td>\n",
       "      <td>[0, 0, 0, 0, 0, 0, 0, 0, 0, 0, 0, 0, 0, 0, 0, ...</td>\n",
       "      <td>1</td>\n",
       "      <td>1</td>\n",
       "      <td>0.547359</td>\n",
       "      <td>-0.328434</td>\n",
       "      <td>-0.172445</td>\n",
       "      <td>0.069439</td>\n",
       "      <td>-0.628683</td>\n",
       "      <td>1.294147</td>\n",
       "      <td>...</td>\n",
       "      <td>0.466627</td>\n",
       "      <td>0.293625</td>\n",
       "      <td>-0.208663</td>\n",
       "      <td>-0.316626</td>\n",
       "      <td>-0.006433</td>\n",
       "      <td>-0.412829</td>\n",
       "      <td>0.242208</td>\n",
       "      <td>0.072852</td>\n",
       "      <td>0.725296</td>\n",
       "      <td>-0.755482</td>\n",
       "    </tr>\n",
       "  </tbody>\n",
       "</table>\n",
       "<p>1 rows × 68 columns</p>\n",
       "</div>"
      ],
      "text/plain": [
       "                                                                            category  \\\n",
       "http://dbpedia.org/resource/Alexander_Semionov  [http://dbpedia.org/resource/Russia]   \n",
       "\n",
       "                                                                                            input  \\\n",
       "http://dbpedia.org/resource/Alexander_Semionov  [0, 0, 0, 0, 0, 0, 0, 0, 0, 0, 0, 0, 0, 0, 0, ...   \n",
       "\n",
       "                                                true  pred  neuron_1  \\\n",
       "http://dbpedia.org/resource/Alexander_Semionov     1     1  0.547359   \n",
       "\n",
       "                                                neuron_2  neuron_3  neuron_4  \\\n",
       "http://dbpedia.org/resource/Alexander_Semionov -0.328434 -0.172445  0.069439   \n",
       "\n",
       "                                                neuron_5  neuron_6  ...  \\\n",
       "http://dbpedia.org/resource/Alexander_Semionov -0.628683  1.294147  ...   \n",
       "\n",
       "                                                neuron_55  neuron_56  \\\n",
       "http://dbpedia.org/resource/Alexander_Semionov   0.466627   0.293625   \n",
       "\n",
       "                                                neuron_57  neuron_58  \\\n",
       "http://dbpedia.org/resource/Alexander_Semionov  -0.208663  -0.316626   \n",
       "\n",
       "                                                neuron_59  neuron_60  \\\n",
       "http://dbpedia.org/resource/Alexander_Semionov  -0.006433  -0.412829   \n",
       "\n",
       "                                                neuron_61  neuron_62  \\\n",
       "http://dbpedia.org/resource/Alexander_Semionov   0.242208   0.072852   \n",
       "\n",
       "                                                neuron_63  neuron_64  \n",
       "http://dbpedia.org/resource/Alexander_Semionov   0.725296  -0.755482  \n",
       "\n",
       "[1 rows x 68 columns]"
      ]
     },
     "execution_count": 38,
     "metadata": {},
     "output_type": "execute_result"
    }
   ],
   "source": [
    "df.head(1)"
   ]
  },
  {
   "cell_type": "code",
   "execution_count": 39,
   "id": "34a68978",
   "metadata": {},
   "outputs": [
    {
     "data": {
      "text/plain": [
       "neuron_1     0.547359\n",
       "neuron_2    -0.328434\n",
       "neuron_3    -0.172445\n",
       "neuron_4     0.069439\n",
       "neuron_5    -0.628683\n",
       "               ...   \n",
       "neuron_60   -0.412829\n",
       "neuron_61    0.242208\n",
       "neuron_62    0.072852\n",
       "neuron_63    0.725296\n",
       "neuron_64   -0.755482\n",
       "Name: http://dbpedia.org/resource/Alexander_Semionov, Length: 64, dtype: object"
      ]
     },
     "execution_count": 39,
     "metadata": {},
     "output_type": "execute_result"
    }
   ],
   "source": [
    "df.iloc[0, 4:]"
   ]
  },
  {
   "cell_type": "code",
   "execution_count": 40,
   "id": "8afd8b8b",
   "metadata": {},
   "outputs": [],
   "source": [
    "def plot_activ(df, df2=None, df3=None):\n",
    "    \n",
    "#     plt.figure(figsize=(15, 6))\n",
    "#     sns.lineplot(x=range(len(df.iloc[0, :])), y=df.iloc[0, :])\n",
    "#     if df2 is not None:\n",
    "#         sns.lineplot(x=range(len(df2.iloc[0, :])), y=df2.iloc[0, :])\n",
    "#     plt.show()\n",
    "    \n",
    "#     plt.figure(figsize=(15, 6))\n",
    "#     sns.scatterplot(x=range(len(df.iloc[0, :])), y=df.iloc[0, :])\n",
    "#     if df2 is not None:\n",
    "#         sns.scatterplot(x=range(len(df2.iloc[0, :])), y=df2.iloc[0, :])\n",
    "#     plt.show()\n",
    "\n",
    "    fig, axes = plt.subplots(1, 2, figsize=(15, 6))\n",
    "    fig.suptitle('Visualizing sample vs cat')\n",
    "    \n",
    "    sns.lineplot(ax=axes[0], x=range(len(df.iloc[0, :])), y=df.iloc[0, :])\n",
    "    if df2 is not None:\n",
    "        sns.lineplot(ax=axes[0], x=range(len(df2.iloc[0, :])), y=df2.iloc[0, :])\n",
    "    if df3 is not None:\n",
    "        sns.lineplot(ax=axes[0], x=range(len(df3.iloc[0, :])), y=df3.iloc[0, :])\n",
    "    axes[0].set_title('Line plot')\n",
    "    \n",
    "    \n",
    "    sns.scatterplot(ax=axes[1], x=range(len(df.iloc[0, :])), y=df.iloc[0, :])\n",
    "    if df2 is not None:\n",
    "        sns.scatterplot(ax=axes[1], x=range(len(df2.iloc[0, :])), y=df2.iloc[0, :])\n",
    "    if df3 is not None:\n",
    "        sns.scatterplot(ax=axes[1], x=range(len(df3.iloc[0, :])), y=df3.iloc[0, :])\n",
    "    axes[1].set_title('Scatter plot')\n",
    "    \n",
    "    fig.legend(['df1', 'df2', 'df3'])\n",
    "    \n",
    "    \n",
    "def get_cat_df(df, cat):\n",
    "    return df[df.category.apply(lambda x: cat in x)]\n",
    "\n",
    "def get_mean_activations(df):\n",
    "    df_act = df.iloc[:, 4:]\n",
    "    return df_act.mean()"
   ]
  },
  {
   "cell_type": "code",
   "execution_count": 41,
   "id": "0a66a334",
   "metadata": {},
   "outputs": [],
   "source": [
    "cat = 'http://dbpedia.org/resource/Russia'"
   ]
  },
  {
   "cell_type": "code",
   "execution_count": 42,
   "id": "37137a0a",
   "metadata": {},
   "outputs": [
    {
     "data": {
      "text/html": [
       "<div>\n",
       "<style scoped>\n",
       "    .dataframe tbody tr th:only-of-type {\n",
       "        vertical-align: middle;\n",
       "    }\n",
       "\n",
       "    .dataframe tbody tr th {\n",
       "        vertical-align: top;\n",
       "    }\n",
       "\n",
       "    .dataframe thead th {\n",
       "        text-align: right;\n",
       "    }\n",
       "</style>\n",
       "<table border=\"1\" class=\"dataframe\">\n",
       "  <thead>\n",
       "    <tr style=\"text-align: right;\">\n",
       "      <th></th>\n",
       "      <th>neuron_1</th>\n",
       "      <th>neuron_2</th>\n",
       "      <th>neuron_3</th>\n",
       "      <th>neuron_4</th>\n",
       "      <th>neuron_5</th>\n",
       "      <th>neuron_6</th>\n",
       "      <th>neuron_7</th>\n",
       "      <th>neuron_8</th>\n",
       "      <th>neuron_9</th>\n",
       "      <th>neuron_10</th>\n",
       "      <th>...</th>\n",
       "      <th>neuron_55</th>\n",
       "      <th>neuron_56</th>\n",
       "      <th>neuron_57</th>\n",
       "      <th>neuron_58</th>\n",
       "      <th>neuron_59</th>\n",
       "      <th>neuron_60</th>\n",
       "      <th>neuron_61</th>\n",
       "      <th>neuron_62</th>\n",
       "      <th>neuron_63</th>\n",
       "      <th>neuron_64</th>\n",
       "    </tr>\n",
       "  </thead>\n",
       "  <tbody>\n",
       "    <tr>\n",
       "      <th>0</th>\n",
       "      <td>0.165338</td>\n",
       "      <td>-0.519022</td>\n",
       "      <td>-0.310005</td>\n",
       "      <td>0.391009</td>\n",
       "      <td>-0.775784</td>\n",
       "      <td>0.537406</td>\n",
       "      <td>-0.08439</td>\n",
       "      <td>-0.20704</td>\n",
       "      <td>0.027329</td>\n",
       "      <td>-0.238381</td>\n",
       "      <td>...</td>\n",
       "      <td>-0.040775</td>\n",
       "      <td>-0.125858</td>\n",
       "      <td>0.220746</td>\n",
       "      <td>0.132845</td>\n",
       "      <td>-0.308484</td>\n",
       "      <td>0.102303</td>\n",
       "      <td>-0.253206</td>\n",
       "      <td>0.417666</td>\n",
       "      <td>0.167214</td>\n",
       "      <td>-0.270119</td>\n",
       "    </tr>\n",
       "  </tbody>\n",
       "</table>\n",
       "<p>1 rows × 64 columns</p>\n",
       "</div>"
      ],
      "text/plain": [
       "   neuron_1  neuron_2  neuron_3  neuron_4  neuron_5  neuron_6  neuron_7  \\\n",
       "0  0.165338 -0.519022 -0.310005  0.391009 -0.775784  0.537406  -0.08439   \n",
       "\n",
       "   neuron_8  neuron_9  neuron_10  ...  neuron_55  neuron_56  neuron_57  \\\n",
       "0  -0.20704  0.027329  -0.238381  ...  -0.040775  -0.125858   0.220746   \n",
       "\n",
       "   neuron_58  neuron_59  neuron_60  neuron_61  neuron_62  neuron_63  neuron_64  \n",
       "0   0.132845  -0.308484   0.102303  -0.253206   0.417666   0.167214  -0.270119  \n",
       "\n",
       "[1 rows x 64 columns]"
      ]
     },
     "execution_count": 42,
     "metadata": {},
     "output_type": "execute_result"
    }
   ],
   "source": [
    "df_cat = get_cat_df(df, cat)\n",
    "df_mean_cat = get_mean_activations(df_cat)\n",
    "df_mean_cat = pd.DataFrame(df_mean_cat).T\n",
    "df_mean_cat"
   ]
  },
  {
   "cell_type": "code",
   "execution_count": 43,
   "id": "3da4b8f3",
   "metadata": {},
   "outputs": [
    {
     "data": {
      "image/png": "[encoded data removed]",
      "text/plain": [
       "<Figure size 1080x432 with 2 Axes>"
      ]
     },
     "metadata": {
      "needs_background": "light"
     },
     "output_type": "display_data"
    }
   ],
   "source": [
    "plot_activ(df_mean_cat)"
   ]
  },
  {
   "cell_type": "code",
   "execution_count": 44,
   "id": "914dbb3b",
   "metadata": {},
   "outputs": [],
   "source": [
    "def get_sample(df, cat=None):\n",
    "    if cat is None:\n",
    "        return df[df.pred != df.true].sample(n=1)\n",
    "    else:\n",
    "        return get_cat_df(df, cat)[df.pred != df.true].sample(n=1)"
   ]
  },
  {
   "cell_type": "code",
   "execution_count": 45,
   "id": "761d7198",
   "metadata": {},
   "outputs": [
    {
     "data": {
      "text/plain": [
       "'http://dbpedia.org/resource/Russia'"
      ]
     },
     "execution_count": 45,
     "metadata": {},
     "output_type": "execute_result"
    }
   ],
   "source": [
    "cat"
   ]
  },
  {
   "cell_type": "code",
   "execution_count": 46,
   "id": "03fae16b",
   "metadata": {},
   "outputs": [
    {
     "name": "stderr",
     "output_type": "stream",
     "text": [
      "C:\\Users\\maxim\\AppData\\Local\\Temp/ipykernel_19608/370248897.py:5: UserWarning: Boolean Series key will be reindexed to match DataFrame index.\n",
      "  return get_cat_df(df, cat)[df.pred != df.true].sample(n=1)\n"
     ]
    },
    {
     "data": {
      "text/html": [
       "<div>\n",
       "<style scoped>\n",
       "    .dataframe tbody tr th:only-of-type {\n",
       "        vertical-align: middle;\n",
       "    }\n",
       "\n",
       "    .dataframe tbody tr th {\n",
       "        vertical-align: top;\n",
       "    }\n",
       "\n",
       "    .dataframe thead th {\n",
       "        text-align: right;\n",
       "    }\n",
       "</style>\n",
       "<table border=\"1\" class=\"dataframe\">\n",
       "  <thead>\n",
       "    <tr style=\"text-align: right;\">\n",
       "      <th></th>\n",
       "      <th>category</th>\n",
       "      <th>input</th>\n",
       "      <th>true</th>\n",
       "      <th>pred</th>\n",
       "      <th>neuron_1</th>\n",
       "      <th>neuron_2</th>\n",
       "      <th>neuron_3</th>\n",
       "      <th>neuron_4</th>\n",
       "      <th>neuron_5</th>\n",
       "      <th>neuron_6</th>\n",
       "      <th>...</th>\n",
       "      <th>neuron_55</th>\n",
       "      <th>neuron_56</th>\n",
       "      <th>neuron_57</th>\n",
       "      <th>neuron_58</th>\n",
       "      <th>neuron_59</th>\n",
       "      <th>neuron_60</th>\n",
       "      <th>neuron_61</th>\n",
       "      <th>neuron_62</th>\n",
       "      <th>neuron_63</th>\n",
       "      <th>neuron_64</th>\n",
       "    </tr>\n",
       "  </thead>\n",
       "  <tbody>\n",
       "    <tr>\n",
       "      <th>http://dbpedia.org/resource/Ivan_Akimov</th>\n",
       "      <td>[http://dbpedia.org/resource/Russia]</td>\n",
       "      <td>[0, 0, 0, 0, 0, 0, 0, 0, 0, 0, 0, 0, 0, 0, 0, ...</td>\n",
       "      <td>0</td>\n",
       "      <td>1</td>\n",
       "      <td>0.882411</td>\n",
       "      <td>0.111641</td>\n",
       "      <td>0.417913</td>\n",
       "      <td>-0.163115</td>\n",
       "      <td>0.35656</td>\n",
       "      <td>0.50402</td>\n",
       "      <td>...</td>\n",
       "      <td>0.629632</td>\n",
       "      <td>0.557856</td>\n",
       "      <td>-0.550852</td>\n",
       "      <td>-0.617036</td>\n",
       "      <td>0.515044</td>\n",
       "      <td>-0.61316</td>\n",
       "      <td>0.321389</td>\n",
       "      <td>-0.354875</td>\n",
       "      <td>0.856982</td>\n",
       "      <td>-0.933014</td>\n",
       "    </tr>\n",
       "  </tbody>\n",
       "</table>\n",
       "<p>1 rows × 68 columns</p>\n",
       "</div>"
      ],
      "text/plain": [
       "                                                                     category  \\\n",
       "http://dbpedia.org/resource/Ivan_Akimov  [http://dbpedia.org/resource/Russia]   \n",
       "\n",
       "                                                                                     input  \\\n",
       "http://dbpedia.org/resource/Ivan_Akimov  [0, 0, 0, 0, 0, 0, 0, 0, 0, 0, 0, 0, 0, 0, 0, ...   \n",
       "\n",
       "                                         true  pred  neuron_1  neuron_2  \\\n",
       "http://dbpedia.org/resource/Ivan_Akimov     0     1  0.882411  0.111641   \n",
       "\n",
       "                                         neuron_3  neuron_4  neuron_5  \\\n",
       "http://dbpedia.org/resource/Ivan_Akimov  0.417913 -0.163115   0.35656   \n",
       "\n",
       "                                         neuron_6  ...  neuron_55  neuron_56  \\\n",
       "http://dbpedia.org/resource/Ivan_Akimov   0.50402  ...   0.629632   0.557856   \n",
       "\n",
       "                                         neuron_57  neuron_58  neuron_59  \\\n",
       "http://dbpedia.org/resource/Ivan_Akimov  -0.550852  -0.617036   0.515044   \n",
       "\n",
       "                                         neuron_60  neuron_61  neuron_62  \\\n",
       "http://dbpedia.org/resource/Ivan_Akimov   -0.61316   0.321389  -0.354875   \n",
       "\n",
       "                                         neuron_63  neuron_64  \n",
       "http://dbpedia.org/resource/Ivan_Akimov   0.856982  -0.933014  \n",
       "\n",
       "[1 rows x 68 columns]"
      ]
     },
     "execution_count": 46,
     "metadata": {},
     "output_type": "execute_result"
    }
   ],
   "source": [
    "sample = get_sample(df, 'http://dbpedia.org/resource/Russia')\n",
    "sample"
   ]
  },
  {
   "cell_type": "code",
   "execution_count": 47,
   "id": "b703c0a3",
   "metadata": {},
   "outputs": [
    {
     "data": {
      "text/html": [
       "<div>\n",
       "<style scoped>\n",
       "    .dataframe tbody tr th:only-of-type {\n",
       "        vertical-align: middle;\n",
       "    }\n",
       "\n",
       "    .dataframe tbody tr th {\n",
       "        vertical-align: top;\n",
       "    }\n",
       "\n",
       "    .dataframe thead th {\n",
       "        text-align: right;\n",
       "    }\n",
       "</style>\n",
       "<table border=\"1\" class=\"dataframe\">\n",
       "  <thead>\n",
       "    <tr style=\"text-align: right;\">\n",
       "      <th></th>\n",
       "      <th>neuron_1</th>\n",
       "      <th>neuron_2</th>\n",
       "      <th>neuron_3</th>\n",
       "      <th>neuron_4</th>\n",
       "      <th>neuron_5</th>\n",
       "      <th>neuron_6</th>\n",
       "      <th>neuron_7</th>\n",
       "      <th>neuron_8</th>\n",
       "      <th>neuron_9</th>\n",
       "      <th>neuron_10</th>\n",
       "      <th>...</th>\n",
       "      <th>neuron_55</th>\n",
       "      <th>neuron_56</th>\n",
       "      <th>neuron_57</th>\n",
       "      <th>neuron_58</th>\n",
       "      <th>neuron_59</th>\n",
       "      <th>neuron_60</th>\n",
       "      <th>neuron_61</th>\n",
       "      <th>neuron_62</th>\n",
       "      <th>neuron_63</th>\n",
       "      <th>neuron_64</th>\n",
       "    </tr>\n",
       "  </thead>\n",
       "  <tbody>\n",
       "    <tr>\n",
       "      <th>http://dbpedia.org/resource/Ivan_Akimov</th>\n",
       "      <td>0.882411</td>\n",
       "      <td>0.111641</td>\n",
       "      <td>0.417913</td>\n",
       "      <td>-0.163115</td>\n",
       "      <td>0.35656</td>\n",
       "      <td>0.50402</td>\n",
       "      <td>-0.703461</td>\n",
       "      <td>0.53223</td>\n",
       "      <td>-0.547207</td>\n",
       "      <td>-0.846148</td>\n",
       "      <td>...</td>\n",
       "      <td>0.629632</td>\n",
       "      <td>0.557856</td>\n",
       "      <td>-0.550852</td>\n",
       "      <td>-0.617036</td>\n",
       "      <td>0.515044</td>\n",
       "      <td>-0.61316</td>\n",
       "      <td>0.321389</td>\n",
       "      <td>-0.354875</td>\n",
       "      <td>0.856982</td>\n",
       "      <td>-0.933014</td>\n",
       "    </tr>\n",
       "  </tbody>\n",
       "</table>\n",
       "<p>1 rows × 64 columns</p>\n",
       "</div>"
      ],
      "text/plain": [
       "                                         neuron_1  neuron_2  neuron_3  \\\n",
       "http://dbpedia.org/resource/Ivan_Akimov  0.882411  0.111641  0.417913   \n",
       "\n",
       "                                         neuron_4  neuron_5  neuron_6  \\\n",
       "http://dbpedia.org/resource/Ivan_Akimov -0.163115   0.35656   0.50402   \n",
       "\n",
       "                                         neuron_7  neuron_8  neuron_9  \\\n",
       "http://dbpedia.org/resource/Ivan_Akimov -0.703461   0.53223 -0.547207   \n",
       "\n",
       "                                         neuron_10  ...  neuron_55  neuron_56  \\\n",
       "http://dbpedia.org/resource/Ivan_Akimov  -0.846148  ...   0.629632   0.557856   \n",
       "\n",
       "                                         neuron_57  neuron_58  neuron_59  \\\n",
       "http://dbpedia.org/resource/Ivan_Akimov  -0.550852  -0.617036   0.515044   \n",
       "\n",
       "                                         neuron_60  neuron_61  neuron_62  \\\n",
       "http://dbpedia.org/resource/Ivan_Akimov   -0.61316   0.321389  -0.354875   \n",
       "\n",
       "                                         neuron_63  neuron_64  \n",
       "http://dbpedia.org/resource/Ivan_Akimov   0.856982  -0.933014  \n",
       "\n",
       "[1 rows x 64 columns]"
      ]
     },
     "execution_count": 47,
     "metadata": {},
     "output_type": "execute_result"
    }
   ],
   "source": [
    "activations_cols = [x for x in sample.columns if \"neuron\" in x]\n",
    "df_act_sample = sample.loc[:, activations_cols]\n",
    "df_act_sample"
   ]
  },
  {
   "cell_type": "code",
   "execution_count": 48,
   "id": "f55b4662",
   "metadata": {},
   "outputs": [
    {
     "data": {
      "image/png": "[encoded data removed]",
      "text/plain": [
       "<Figure size 1080x432 with 2 Axes>"
      ]
     },
     "metadata": {
      "needs_background": "light"
     },
     "output_type": "display_data"
    }
   ],
   "source": [
    "plot_activ(df_mean_cat, df_act_sample)"
   ]
  },
  {
   "cell_type": "code",
   "execution_count": 49,
   "id": "a4e5e42e",
   "metadata": {},
   "outputs": [],
   "source": [
    "def get_diffs(df, sample_df):\n",
    "    return sample_df.reset_index().drop(columns=['index']) - df"
   ]
  },
  {
   "cell_type": "code",
   "execution_count": 50,
   "id": "f27a110c",
   "metadata": {},
   "outputs": [
    {
     "data": {
      "text/html": [
       "<div>\n",
       "<style scoped>\n",
       "    .dataframe tbody tr th:only-of-type {\n",
       "        vertical-align: middle;\n",
       "    }\n",
       "\n",
       "    .dataframe tbody tr th {\n",
       "        vertical-align: top;\n",
       "    }\n",
       "\n",
       "    .dataframe thead th {\n",
       "        text-align: right;\n",
       "    }\n",
       "</style>\n",
       "<table border=\"1\" class=\"dataframe\">\n",
       "  <thead>\n",
       "    <tr style=\"text-align: right;\">\n",
       "      <th></th>\n",
       "      <th>neuron_1</th>\n",
       "      <th>neuron_2</th>\n",
       "      <th>neuron_3</th>\n",
       "      <th>neuron_4</th>\n",
       "      <th>neuron_5</th>\n",
       "      <th>neuron_6</th>\n",
       "      <th>neuron_7</th>\n",
       "      <th>neuron_8</th>\n",
       "      <th>neuron_9</th>\n",
       "      <th>neuron_10</th>\n",
       "      <th>...</th>\n",
       "      <th>neuron_55</th>\n",
       "      <th>neuron_56</th>\n",
       "      <th>neuron_57</th>\n",
       "      <th>neuron_58</th>\n",
       "      <th>neuron_59</th>\n",
       "      <th>neuron_60</th>\n",
       "      <th>neuron_61</th>\n",
       "      <th>neuron_62</th>\n",
       "      <th>neuron_63</th>\n",
       "      <th>neuron_64</th>\n",
       "    </tr>\n",
       "  </thead>\n",
       "  <tbody>\n",
       "    <tr>\n",
       "      <th>0</th>\n",
       "      <td>0.717073</td>\n",
       "      <td>0.630664</td>\n",
       "      <td>0.727918</td>\n",
       "      <td>-0.554123</td>\n",
       "      <td>1.132344</td>\n",
       "      <td>-0.033386</td>\n",
       "      <td>-0.619071</td>\n",
       "      <td>0.73927</td>\n",
       "      <td>-0.574536</td>\n",
       "      <td>-0.607766</td>\n",
       "      <td>...</td>\n",
       "      <td>0.670408</td>\n",
       "      <td>0.683714</td>\n",
       "      <td>-0.771598</td>\n",
       "      <td>-0.749881</td>\n",
       "      <td>0.823528</td>\n",
       "      <td>-0.715462</td>\n",
       "      <td>0.574595</td>\n",
       "      <td>-0.772542</td>\n",
       "      <td>0.689768</td>\n",
       "      <td>-0.662895</td>\n",
       "    </tr>\n",
       "  </tbody>\n",
       "</table>\n",
       "<p>1 rows × 64 columns</p>\n",
       "</div>"
      ],
      "text/plain": [
       "   neuron_1  neuron_2  neuron_3  neuron_4  neuron_5  neuron_6  neuron_7  \\\n",
       "0  0.717073  0.630664  0.727918 -0.554123  1.132344 -0.033386 -0.619071   \n",
       "\n",
       "   neuron_8  neuron_9  neuron_10  ...  neuron_55  neuron_56  neuron_57  \\\n",
       "0   0.73927 -0.574536  -0.607766  ...   0.670408   0.683714  -0.771598   \n",
       "\n",
       "   neuron_58  neuron_59  neuron_60  neuron_61  neuron_62  neuron_63  neuron_64  \n",
       "0  -0.749881   0.823528  -0.715462   0.574595  -0.772542   0.689768  -0.662895  \n",
       "\n",
       "[1 rows x 64 columns]"
      ]
     },
     "execution_count": 50,
     "metadata": {},
     "output_type": "execute_result"
    }
   ],
   "source": [
    "diffs = get_diffs(df_mean_cat, df_act_sample)\n",
    "diffs"
   ]
  },
  {
   "cell_type": "code",
   "execution_count": 51,
   "id": "0aef63b7",
   "metadata": {},
   "outputs": [
    {
     "name": "stdout",
     "output_type": "stream",
     "text": [
      "Average difference is: 0.6289498805999756\n"
     ]
    }
   ],
   "source": [
    "avg_diff = abs(diffs).sum().sum()/len(diffs.iloc[0, :])\n",
    "print(f\"Average difference is: {avg_diff}\")"
   ]
  },
  {
   "cell_type": "markdown",
   "id": "d3636ea3",
   "metadata": {},
   "source": [
    "### Re-adjust activations\n",
    "\n",
    "On rapproche les activations du sample vers les activations de la catégorie cible d'un facteur 10% sur les neurones dont la différence est significative (i.e. pvalue < 0.01).\n",
    "\n",
    "On a alors besoin de 3 éléments:\n",
    "* le dataframe des activations du sample\n",
    "* le dataframe des activations moyennes de la catégorie cible\n",
    "* le dataframe des pvalues de la catégorie cible (avec maybe l'information sur la significativité de la pvalue, ici fixée à <= 0.01)"
   ]
  },
  {
   "cell_type": "code",
   "execution_count": 63,
   "id": "3e81a860",
   "metadata": {},
   "outputs": [
    {
     "data": {
      "text/html": [
       "<div>\n",
       "<style scoped>\n",
       "    .dataframe tbody tr th:only-of-type {\n",
       "        vertical-align: middle;\n",
       "    }\n",
       "\n",
       "    .dataframe tbody tr th {\n",
       "        vertical-align: top;\n",
       "    }\n",
       "\n",
       "    .dataframe thead th {\n",
       "        text-align: right;\n",
       "    }\n",
       "</style>\n",
       "<table border=\"1\" class=\"dataframe\">\n",
       "  <thead>\n",
       "    <tr style=\"text-align: right;\">\n",
       "      <th></th>\n",
       "      <th>pvalue</th>\n",
       "    </tr>\n",
       "  </thead>\n",
       "  <tbody>\n",
       "    <tr>\n",
       "      <th>0</th>\n",
       "      <td>1.587716e-01</td>\n",
       "    </tr>\n",
       "    <tr>\n",
       "      <th>1</th>\n",
       "      <td>4.878287e-09</td>\n",
       "    </tr>\n",
       "    <tr>\n",
       "      <th>2</th>\n",
       "      <td>6.452485e-05</td>\n",
       "    </tr>\n",
       "    <tr>\n",
       "      <th>3</th>\n",
       "      <td>1.579483e-06</td>\n",
       "    </tr>\n",
       "    <tr>\n",
       "      <th>4</th>\n",
       "      <td>1.897656e-13</td>\n",
       "    </tr>\n",
       "    <tr>\n",
       "      <th>...</th>\n",
       "      <td>...</td>\n",
       "    </tr>\n",
       "    <tr>\n",
       "      <th>59</th>\n",
       "      <td>4.158541e-02</td>\n",
       "    </tr>\n",
       "    <tr>\n",
       "      <th>60</th>\n",
       "      <td>3.111701e-04</td>\n",
       "    </tr>\n",
       "    <tr>\n",
       "      <th>61</th>\n",
       "      <td>1.502952e-06</td>\n",
       "    </tr>\n",
       "    <tr>\n",
       "      <th>62</th>\n",
       "      <td>9.974529e-02</td>\n",
       "    </tr>\n",
       "    <tr>\n",
       "      <th>63</th>\n",
       "      <td>2.292984e-04</td>\n",
       "    </tr>\n",
       "  </tbody>\n",
       "</table>\n",
       "<p>64 rows × 1 columns</p>\n",
       "</div>"
      ],
      "text/plain": [
       "          pvalue\n",
       "0   1.587716e-01\n",
       "1   4.878287e-09\n",
       "2   6.452485e-05\n",
       "3   1.579483e-06\n",
       "4   1.897656e-13\n",
       "..           ...\n",
       "59  4.158541e-02\n",
       "60  3.111701e-04\n",
       "61  1.502952e-06\n",
       "62  9.974529e-02\n",
       "63  2.292984e-04\n",
       "\n",
       "[64 rows x 1 columns]"
      ]
     },
     "execution_count": 63,
     "metadata": {},
     "output_type": "execute_result"
    }
   ],
   "source": [
    "russia_pv = pd.read_pickle('russia-pv.pkl')\n",
    "dfrpv = pd.DataFrame(russia_pv, columns=['pvalue'])\n",
    "dfrpv"
   ]
  },
  {
   "cell_type": "code",
   "execution_count": 64,
   "id": "7be3d233",
   "metadata": {},
   "outputs": [
    {
     "data": {
      "text/plain": [
       "(64, 1)"
      ]
     },
     "execution_count": 64,
     "metadata": {},
     "output_type": "execute_result"
    }
   ],
   "source": [
    "dfrpv.shape"
   ]
  },
  {
   "cell_type": "code",
   "execution_count": 53,
   "id": "0e6d3cb3",
   "metadata": {},
   "outputs": [
    {
     "name": "stdout",
     "output_type": "stream",
     "text": [
      "(42, 2)\n",
      "          pvalue  sign\n",
      "1   4.878287e-09  True\n",
      "2   6.452485e-05  True\n",
      "3   1.579483e-06  True\n",
      "4   1.897656e-13  True\n",
      "5   2.738027e-11  True\n",
      "7   3.096681e-03  True\n",
      "9   3.773218e-03  True\n",
      "10  1.769776e-03  True\n",
      "12  1.351876e-13  True\n",
      "14  7.951155e-24  True\n",
      "15  2.011291e-03  True\n",
      "17  6.368204e-23  True\n",
      "19  6.570767e-03  True\n",
      "21  5.796425e-05  True\n",
      "22  3.067940e-07  True\n",
      "23  5.675254e-05  True\n",
      "24  1.612688e-10  True\n",
      "26  9.286252e-11  True\n",
      "29  1.690230e-06  True\n",
      "30  3.268496e-09  True\n",
      "31  1.080565e-11  True\n",
      "32  5.932947e-03  True\n",
      "33  1.684570e-11  True\n",
      "34  2.491615e-03  True\n",
      "36  2.208312e-03  True\n",
      "40  4.088773e-18  True\n",
      "41  3.012649e-08  True\n",
      "42  1.058638e-14  True\n",
      "43  6.252875e-12  True\n",
      "44  2.203407e-05  True\n",
      "46  1.785589e-24  True\n",
      "47  9.985386e-08  True\n",
      "49  9.544518e-05  True\n",
      "50  1.910548e-19  True\n",
      "51  2.097827e-18  True\n",
      "52  8.469099e-08  True\n",
      "53  1.930613e-16  True\n",
      "56  2.021712e-03  True\n",
      "58  6.567423e-05  True\n",
      "60  3.111701e-04  True\n",
      "61  1.502952e-06  True\n",
      "63  2.292984e-04  True\n"
     ]
    }
   ],
   "source": [
    "dfrpv['sign'] = dfrpv['pvalue'] <= 0.01\n",
    "print(dfrpv[dfrpv['sign'] == True].shape)\n",
    "print(dfrpv[dfrpv['sign'] == True])"
   ]
  },
  {
   "cell_type": "code",
   "execution_count": 54,
   "id": "500d029a",
   "metadata": {},
   "outputs": [
    {
     "data": {
      "image/png": "[encoded data removed]",
      "text/plain": [
       "<Figure size 1080x360 with 1 Axes>"
      ]
     },
     "metadata": {
      "needs_background": "light"
     },
     "output_type": "display_data"
    }
   ],
   "source": [
    "plt.figure(figsize=(15, 5))\n",
    "sns.scatterplot(x=range(len(dfrpv['pvalue'])), y='pvalue', \n",
    "                hue='sign', data=dfrpv)\n",
    "plt.show()"
   ]
  },
  {
   "cell_type": "markdown",
   "id": "54abf5d5",
   "metadata": {},
   "source": [
    "Pvalue dataframe with significant bool value (example for russia here)"
   ]
  },
  {
   "cell_type": "code",
   "execution_count": 55,
   "id": "267f47e6",
   "metadata": {},
   "outputs": [
    {
     "data": {
      "text/html": [
       "<div>\n",
       "<style scoped>\n",
       "    .dataframe tbody tr th:only-of-type {\n",
       "        vertical-align: middle;\n",
       "    }\n",
       "\n",
       "    .dataframe tbody tr th {\n",
       "        vertical-align: top;\n",
       "    }\n",
       "\n",
       "    .dataframe thead th {\n",
       "        text-align: right;\n",
       "    }\n",
       "</style>\n",
       "<table border=\"1\" class=\"dataframe\">\n",
       "  <thead>\n",
       "    <tr style=\"text-align: right;\">\n",
       "      <th></th>\n",
       "      <th>pvalue</th>\n",
       "      <th>sign</th>\n",
       "    </tr>\n",
       "  </thead>\n",
       "  <tbody>\n",
       "    <tr>\n",
       "      <th>0</th>\n",
       "      <td>1.587716e-01</td>\n",
       "      <td>False</td>\n",
       "    </tr>\n",
       "    <tr>\n",
       "      <th>1</th>\n",
       "      <td>4.878287e-09</td>\n",
       "      <td>True</td>\n",
       "    </tr>\n",
       "    <tr>\n",
       "      <th>2</th>\n",
       "      <td>6.452485e-05</td>\n",
       "      <td>True</td>\n",
       "    </tr>\n",
       "    <tr>\n",
       "      <th>3</th>\n",
       "      <td>1.579483e-06</td>\n",
       "      <td>True</td>\n",
       "    </tr>\n",
       "    <tr>\n",
       "      <th>4</th>\n",
       "      <td>1.897656e-13</td>\n",
       "      <td>True</td>\n",
       "    </tr>\n",
       "    <tr>\n",
       "      <th>...</th>\n",
       "      <td>...</td>\n",
       "      <td>...</td>\n",
       "    </tr>\n",
       "    <tr>\n",
       "      <th>59</th>\n",
       "      <td>4.158541e-02</td>\n",
       "      <td>False</td>\n",
       "    </tr>\n",
       "    <tr>\n",
       "      <th>60</th>\n",
       "      <td>3.111701e-04</td>\n",
       "      <td>True</td>\n",
       "    </tr>\n",
       "    <tr>\n",
       "      <th>61</th>\n",
       "      <td>1.502952e-06</td>\n",
       "      <td>True</td>\n",
       "    </tr>\n",
       "    <tr>\n",
       "      <th>62</th>\n",
       "      <td>9.974529e-02</td>\n",
       "      <td>False</td>\n",
       "    </tr>\n",
       "    <tr>\n",
       "      <th>63</th>\n",
       "      <td>2.292984e-04</td>\n",
       "      <td>True</td>\n",
       "    </tr>\n",
       "  </tbody>\n",
       "</table>\n",
       "<p>64 rows × 2 columns</p>\n",
       "</div>"
      ],
      "text/plain": [
       "          pvalue   sign\n",
       "0   1.587716e-01  False\n",
       "1   4.878287e-09   True\n",
       "2   6.452485e-05   True\n",
       "3   1.579483e-06   True\n",
       "4   1.897656e-13   True\n",
       "..           ...    ...\n",
       "59  4.158541e-02  False\n",
       "60  3.111701e-04   True\n",
       "61  1.502952e-06   True\n",
       "62  9.974529e-02  False\n",
       "63  2.292984e-04   True\n",
       "\n",
       "[64 rows x 2 columns]"
      ]
     },
     "execution_count": 55,
     "metadata": {},
     "output_type": "execute_result"
    }
   ],
   "source": [
    "dfrpv"
   ]
  },
  {
   "cell_type": "code",
   "execution_count": 56,
   "id": "546dbd78",
   "metadata": {},
   "outputs": [
    {
     "data": {
      "text/html": [
       "<div>\n",
       "<style scoped>\n",
       "    .dataframe tbody tr th:only-of-type {\n",
       "        vertical-align: middle;\n",
       "    }\n",
       "\n",
       "    .dataframe tbody tr th {\n",
       "        vertical-align: top;\n",
       "    }\n",
       "\n",
       "    .dataframe thead th {\n",
       "        text-align: right;\n",
       "    }\n",
       "</style>\n",
       "<table border=\"1\" class=\"dataframe\">\n",
       "  <thead>\n",
       "    <tr style=\"text-align: right;\">\n",
       "      <th></th>\n",
       "      <th>neuron_1</th>\n",
       "      <th>neuron_2</th>\n",
       "      <th>neuron_3</th>\n",
       "      <th>neuron_4</th>\n",
       "      <th>neuron_5</th>\n",
       "      <th>neuron_6</th>\n",
       "      <th>neuron_7</th>\n",
       "      <th>neuron_8</th>\n",
       "      <th>neuron_9</th>\n",
       "      <th>neuron_10</th>\n",
       "      <th>...</th>\n",
       "      <th>neuron_55</th>\n",
       "      <th>neuron_56</th>\n",
       "      <th>neuron_57</th>\n",
       "      <th>neuron_58</th>\n",
       "      <th>neuron_59</th>\n",
       "      <th>neuron_60</th>\n",
       "      <th>neuron_61</th>\n",
       "      <th>neuron_62</th>\n",
       "      <th>neuron_63</th>\n",
       "      <th>neuron_64</th>\n",
       "    </tr>\n",
       "  </thead>\n",
       "  <tbody>\n",
       "    <tr>\n",
       "      <th>0</th>\n",
       "      <td>0.165338</td>\n",
       "      <td>-0.519022</td>\n",
       "      <td>-0.310005</td>\n",
       "      <td>0.391009</td>\n",
       "      <td>-0.775784</td>\n",
       "      <td>0.537406</td>\n",
       "      <td>-0.08439</td>\n",
       "      <td>-0.20704</td>\n",
       "      <td>0.027329</td>\n",
       "      <td>-0.238381</td>\n",
       "      <td>...</td>\n",
       "      <td>-0.040775</td>\n",
       "      <td>-0.125858</td>\n",
       "      <td>0.220746</td>\n",
       "      <td>0.132845</td>\n",
       "      <td>-0.308484</td>\n",
       "      <td>0.102303</td>\n",
       "      <td>-0.253206</td>\n",
       "      <td>0.417666</td>\n",
       "      <td>0.167214</td>\n",
       "      <td>-0.270119</td>\n",
       "    </tr>\n",
       "  </tbody>\n",
       "</table>\n",
       "<p>1 rows × 64 columns</p>\n",
       "</div>"
      ],
      "text/plain": [
       "   neuron_1  neuron_2  neuron_3  neuron_4  neuron_5  neuron_6  neuron_7  \\\n",
       "0  0.165338 -0.519022 -0.310005  0.391009 -0.775784  0.537406  -0.08439   \n",
       "\n",
       "   neuron_8  neuron_9  neuron_10  ...  neuron_55  neuron_56  neuron_57  \\\n",
       "0  -0.20704  0.027329  -0.238381  ...  -0.040775  -0.125858   0.220746   \n",
       "\n",
       "   neuron_58  neuron_59  neuron_60  neuron_61  neuron_62  neuron_63  neuron_64  \n",
       "0   0.132845  -0.308484   0.102303  -0.253206   0.417666   0.167214  -0.270119  \n",
       "\n",
       "[1 rows x 64 columns]"
      ]
     },
     "execution_count": 56,
     "metadata": {},
     "output_type": "execute_result"
    }
   ],
   "source": [
    "df_mean_cat # mean activations for a category (here russia)"
   ]
  },
  {
   "cell_type": "code",
   "execution_count": 57,
   "id": "af899ac5",
   "metadata": {},
   "outputs": [
    {
     "data": {
      "text/html": [
       "<div>\n",
       "<style scoped>\n",
       "    .dataframe tbody tr th:only-of-type {\n",
       "        vertical-align: middle;\n",
       "    }\n",
       "\n",
       "    .dataframe tbody tr th {\n",
       "        vertical-align: top;\n",
       "    }\n",
       "\n",
       "    .dataframe thead th {\n",
       "        text-align: right;\n",
       "    }\n",
       "</style>\n",
       "<table border=\"1\" class=\"dataframe\">\n",
       "  <thead>\n",
       "    <tr style=\"text-align: right;\">\n",
       "      <th></th>\n",
       "      <th>neuron_1</th>\n",
       "      <th>neuron_2</th>\n",
       "      <th>neuron_3</th>\n",
       "      <th>neuron_4</th>\n",
       "      <th>neuron_5</th>\n",
       "      <th>neuron_6</th>\n",
       "      <th>neuron_7</th>\n",
       "      <th>neuron_8</th>\n",
       "      <th>neuron_9</th>\n",
       "      <th>neuron_10</th>\n",
       "      <th>...</th>\n",
       "      <th>neuron_55</th>\n",
       "      <th>neuron_56</th>\n",
       "      <th>neuron_57</th>\n",
       "      <th>neuron_58</th>\n",
       "      <th>neuron_59</th>\n",
       "      <th>neuron_60</th>\n",
       "      <th>neuron_61</th>\n",
       "      <th>neuron_62</th>\n",
       "      <th>neuron_63</th>\n",
       "      <th>neuron_64</th>\n",
       "    </tr>\n",
       "  </thead>\n",
       "  <tbody>\n",
       "    <tr>\n",
       "      <th>http://dbpedia.org/resource/Ivan_Akimov</th>\n",
       "      <td>0.882411</td>\n",
       "      <td>0.111641</td>\n",
       "      <td>0.417913</td>\n",
       "      <td>-0.163115</td>\n",
       "      <td>0.35656</td>\n",
       "      <td>0.50402</td>\n",
       "      <td>-0.703461</td>\n",
       "      <td>0.53223</td>\n",
       "      <td>-0.547207</td>\n",
       "      <td>-0.846148</td>\n",
       "      <td>...</td>\n",
       "      <td>0.629632</td>\n",
       "      <td>0.557856</td>\n",
       "      <td>-0.550852</td>\n",
       "      <td>-0.617036</td>\n",
       "      <td>0.515044</td>\n",
       "      <td>-0.61316</td>\n",
       "      <td>0.321389</td>\n",
       "      <td>-0.354875</td>\n",
       "      <td>0.856982</td>\n",
       "      <td>-0.933014</td>\n",
       "    </tr>\n",
       "  </tbody>\n",
       "</table>\n",
       "<p>1 rows × 64 columns</p>\n",
       "</div>"
      ],
      "text/plain": [
       "                                         neuron_1  neuron_2  neuron_3  \\\n",
       "http://dbpedia.org/resource/Ivan_Akimov  0.882411  0.111641  0.417913   \n",
       "\n",
       "                                         neuron_4  neuron_5  neuron_6  \\\n",
       "http://dbpedia.org/resource/Ivan_Akimov -0.163115   0.35656   0.50402   \n",
       "\n",
       "                                         neuron_7  neuron_8  neuron_9  \\\n",
       "http://dbpedia.org/resource/Ivan_Akimov -0.703461   0.53223 -0.547207   \n",
       "\n",
       "                                         neuron_10  ...  neuron_55  neuron_56  \\\n",
       "http://dbpedia.org/resource/Ivan_Akimov  -0.846148  ...   0.629632   0.557856   \n",
       "\n",
       "                                         neuron_57  neuron_58  neuron_59  \\\n",
       "http://dbpedia.org/resource/Ivan_Akimov  -0.550852  -0.617036   0.515044   \n",
       "\n",
       "                                         neuron_60  neuron_61  neuron_62  \\\n",
       "http://dbpedia.org/resource/Ivan_Akimov   -0.61316   0.321389  -0.354875   \n",
       "\n",
       "                                         neuron_63  neuron_64  \n",
       "http://dbpedia.org/resource/Ivan_Akimov   0.856982  -0.933014  \n",
       "\n",
       "[1 rows x 64 columns]"
      ]
     },
     "execution_count": 57,
     "metadata": {},
     "output_type": "execute_result"
    }
   ],
   "source": [
    "df_act_sample # activations for a misclassified sample of the category"
   ]
  },
  {
   "cell_type": "code",
   "execution_count": 58,
   "id": "998061d9",
   "metadata": {},
   "outputs": [
    {
     "data": {
      "image/png": "[encoded data removed]",
      "text/plain": [
       "<Figure size 1080x432 with 2 Axes>"
      ]
     },
     "metadata": {
      "needs_background": "light"
     },
     "output_type": "display_data"
    }
   ],
   "source": [
    "plot_activ(df=df_act_sample, df2=df_mean_cat)\n",
    "# df in blue\n",
    "# df2 in orange"
   ]
  },
  {
   "cell_type": "code",
   "execution_count": 59,
   "id": "0b49fd9f",
   "metadata": {},
   "outputs": [
    {
     "data": {
      "text/html": [
       "<div>\n",
       "<style scoped>\n",
       "    .dataframe tbody tr th:only-of-type {\n",
       "        vertical-align: middle;\n",
       "    }\n",
       "\n",
       "    .dataframe tbody tr th {\n",
       "        vertical-align: top;\n",
       "    }\n",
       "\n",
       "    .dataframe thead th {\n",
       "        text-align: right;\n",
       "    }\n",
       "</style>\n",
       "<table border=\"1\" class=\"dataframe\">\n",
       "  <thead>\n",
       "    <tr style=\"text-align: right;\">\n",
       "      <th></th>\n",
       "      <th>pvalue</th>\n",
       "      <th>sign</th>\n",
       "    </tr>\n",
       "  </thead>\n",
       "  <tbody>\n",
       "    <tr>\n",
       "      <th>neuron_1</th>\n",
       "      <td>1.587716e-01</td>\n",
       "      <td>False</td>\n",
       "    </tr>\n",
       "    <tr>\n",
       "      <th>neuron_2</th>\n",
       "      <td>4.878287e-09</td>\n",
       "      <td>True</td>\n",
       "    </tr>\n",
       "    <tr>\n",
       "      <th>neuron_3</th>\n",
       "      <td>6.452485e-05</td>\n",
       "      <td>True</td>\n",
       "    </tr>\n",
       "    <tr>\n",
       "      <th>neuron_4</th>\n",
       "      <td>1.579483e-06</td>\n",
       "      <td>True</td>\n",
       "    </tr>\n",
       "    <tr>\n",
       "      <th>neuron_5</th>\n",
       "      <td>1.897656e-13</td>\n",
       "      <td>True</td>\n",
       "    </tr>\n",
       "    <tr>\n",
       "      <th>...</th>\n",
       "      <td>...</td>\n",
       "      <td>...</td>\n",
       "    </tr>\n",
       "    <tr>\n",
       "      <th>neuron_60</th>\n",
       "      <td>4.158541e-02</td>\n",
       "      <td>False</td>\n",
       "    </tr>\n",
       "    <tr>\n",
       "      <th>neuron_61</th>\n",
       "      <td>3.111701e-04</td>\n",
       "      <td>True</td>\n",
       "    </tr>\n",
       "    <tr>\n",
       "      <th>neuron_62</th>\n",
       "      <td>1.502952e-06</td>\n",
       "      <td>True</td>\n",
       "    </tr>\n",
       "    <tr>\n",
       "      <th>neuron_63</th>\n",
       "      <td>9.974529e-02</td>\n",
       "      <td>False</td>\n",
       "    </tr>\n",
       "    <tr>\n",
       "      <th>neuron_64</th>\n",
       "      <td>2.292984e-04</td>\n",
       "      <td>True</td>\n",
       "    </tr>\n",
       "  </tbody>\n",
       "</table>\n",
       "<p>64 rows × 2 columns</p>\n",
       "</div>"
      ],
      "text/plain": [
       "                 pvalue   sign\n",
       "neuron_1   1.587716e-01  False\n",
       "neuron_2   4.878287e-09   True\n",
       "neuron_3   6.452485e-05   True\n",
       "neuron_4   1.579483e-06   True\n",
       "neuron_5   1.897656e-13   True\n",
       "...                 ...    ...\n",
       "neuron_60  4.158541e-02  False\n",
       "neuron_61  3.111701e-04   True\n",
       "neuron_62  1.502952e-06   True\n",
       "neuron_63  9.974529e-02  False\n",
       "neuron_64  2.292984e-04   True\n",
       "\n",
       "[64 rows x 2 columns]"
      ]
     },
     "execution_count": 59,
     "metadata": {},
     "output_type": "execute_result"
    }
   ],
   "source": [
    "dfrpv.set_index(df_act_sample.T.index, inplace=True)\n",
    "dfrpv"
   ]
  },
  {
   "cell_type": "markdown",
   "id": "dff791dc",
   "metadata": {},
   "source": [
    "The formula for the new data point is : \n",
    "\n",
    "$$ s' = s - d * f $$\n",
    "\n",
    "where $s'$ is the new value, $s$ is the activation value of the sample, $d$ is the difference between the sample activation and the mean activation (on the same neuron) and $f$ is the factor"
   ]
  },
  {
   "cell_type": "code",
   "execution_count": 60,
   "id": "bc722fe0",
   "metadata": {},
   "outputs": [],
   "source": [
    "def boost(sample, category, pvalue=None):\n",
    "    \"\"\"\n",
    "    both of the 3 elements have the same shape\n",
    "    pvalues might be reached directly from this function\n",
    "    \"\"\"\n",
    "    \n",
    "    factor = 0.3 # i.e. 10%\n",
    "    \n",
    "    # We built a proper dataset to process the data\n",
    "    df = pd.concat([sample, category, pvalue]).T\n",
    "    df.columns = [\n",
    "        'sample', 'cat', 'pvalue', 'sign'\n",
    "    ]\n",
    "    \n",
    "    df['new_value'] = df['sample']\n",
    "    \n",
    "    for i in range(df.shape[0]):\n",
    "        index = f\"neuron_{i+1}\"\n",
    "        if df.loc[index, \"sign\"] == True:\n",
    "            df.loc[index, \"new_value\"] = df.loc[index, 'sample'] - (df.loc[index, 'sample'] - df.loc[index, 'cat']) * factor\n",
    "    \n",
    "    return df"
   ]
  },
  {
   "cell_type": "code",
   "execution_count": 61,
   "id": "a12340c1",
   "metadata": {},
   "outputs": [
    {
     "name": "stdout",
     "output_type": "stream",
     "text": [
      "df_act_sample.shape: (1, 64)\n",
      "df_mean_cat.shape: (1, 64)\n",
      "dfrpv.T.shape: (2, 64)\n"
     ]
    },
    {
     "data": {
      "text/html": [
       "<div>\n",
       "<style scoped>\n",
       "    .dataframe tbody tr th:only-of-type {\n",
       "        vertical-align: middle;\n",
       "    }\n",
       "\n",
       "    .dataframe tbody tr th {\n",
       "        vertical-align: top;\n",
       "    }\n",
       "\n",
       "    .dataframe thead th {\n",
       "        text-align: right;\n",
       "    }\n",
       "</style>\n",
       "<table border=\"1\" class=\"dataframe\">\n",
       "  <thead>\n",
       "    <tr style=\"text-align: right;\">\n",
       "      <th></th>\n",
       "      <th>sample</th>\n",
       "      <th>cat</th>\n",
       "      <th>pvalue</th>\n",
       "      <th>sign</th>\n",
       "      <th>new_value</th>\n",
       "    </tr>\n",
       "  </thead>\n",
       "  <tbody>\n",
       "    <tr>\n",
       "      <th>neuron_1</th>\n",
       "      <td>0.882411</td>\n",
       "      <td>0.165338</td>\n",
       "      <td>0.158772</td>\n",
       "      <td>False</td>\n",
       "      <td>0.882411</td>\n",
       "    </tr>\n",
       "    <tr>\n",
       "      <th>neuron_2</th>\n",
       "      <td>0.111641</td>\n",
       "      <td>-0.519022</td>\n",
       "      <td>0.0</td>\n",
       "      <td>True</td>\n",
       "      <td>-0.077558</td>\n",
       "    </tr>\n",
       "    <tr>\n",
       "      <th>neuron_3</th>\n",
       "      <td>0.417913</td>\n",
       "      <td>-0.310005</td>\n",
       "      <td>0.000065</td>\n",
       "      <td>True</td>\n",
       "      <td>0.199538</td>\n",
       "    </tr>\n",
       "    <tr>\n",
       "      <th>neuron_4</th>\n",
       "      <td>-0.163115</td>\n",
       "      <td>0.391009</td>\n",
       "      <td>0.000002</td>\n",
       "      <td>True</td>\n",
       "      <td>0.003122</td>\n",
       "    </tr>\n",
       "    <tr>\n",
       "      <th>neuron_5</th>\n",
       "      <td>0.35656</td>\n",
       "      <td>-0.775784</td>\n",
       "      <td>0.0</td>\n",
       "      <td>True</td>\n",
       "      <td>0.016857</td>\n",
       "    </tr>\n",
       "    <tr>\n",
       "      <th>...</th>\n",
       "      <td>...</td>\n",
       "      <td>...</td>\n",
       "      <td>...</td>\n",
       "      <td>...</td>\n",
       "      <td>...</td>\n",
       "    </tr>\n",
       "    <tr>\n",
       "      <th>neuron_60</th>\n",
       "      <td>-0.61316</td>\n",
       "      <td>0.102303</td>\n",
       "      <td>0.041585</td>\n",
       "      <td>False</td>\n",
       "      <td>-0.61316</td>\n",
       "    </tr>\n",
       "    <tr>\n",
       "      <th>neuron_61</th>\n",
       "      <td>0.321389</td>\n",
       "      <td>-0.253206</td>\n",
       "      <td>0.000311</td>\n",
       "      <td>True</td>\n",
       "      <td>0.14901</td>\n",
       "    </tr>\n",
       "    <tr>\n",
       "      <th>neuron_62</th>\n",
       "      <td>-0.354875</td>\n",
       "      <td>0.417666</td>\n",
       "      <td>0.000002</td>\n",
       "      <td>True</td>\n",
       "      <td>-0.123113</td>\n",
       "    </tr>\n",
       "    <tr>\n",
       "      <th>neuron_63</th>\n",
       "      <td>0.856982</td>\n",
       "      <td>0.167214</td>\n",
       "      <td>0.099745</td>\n",
       "      <td>False</td>\n",
       "      <td>0.856982</td>\n",
       "    </tr>\n",
       "    <tr>\n",
       "      <th>neuron_64</th>\n",
       "      <td>-0.933014</td>\n",
       "      <td>-0.270119</td>\n",
       "      <td>0.000229</td>\n",
       "      <td>True</td>\n",
       "      <td>-0.734146</td>\n",
       "    </tr>\n",
       "  </tbody>\n",
       "</table>\n",
       "<p>64 rows × 5 columns</p>\n",
       "</div>"
      ],
      "text/plain": [
       "             sample       cat    pvalue   sign new_value\n",
       "neuron_1   0.882411  0.165338  0.158772  False  0.882411\n",
       "neuron_2   0.111641 -0.519022       0.0   True -0.077558\n",
       "neuron_3   0.417913 -0.310005  0.000065   True  0.199538\n",
       "neuron_4  -0.163115  0.391009  0.000002   True  0.003122\n",
       "neuron_5    0.35656 -0.775784       0.0   True  0.016857\n",
       "...             ...       ...       ...    ...       ...\n",
       "neuron_60  -0.61316  0.102303  0.041585  False  -0.61316\n",
       "neuron_61  0.321389 -0.253206  0.000311   True   0.14901\n",
       "neuron_62 -0.354875  0.417666  0.000002   True -0.123113\n",
       "neuron_63  0.856982  0.167214  0.099745  False  0.856982\n",
       "neuron_64 -0.933014 -0.270119  0.000229   True -0.734146\n",
       "\n",
       "[64 rows x 5 columns]"
      ]
     },
     "execution_count": 61,
     "metadata": {},
     "output_type": "execute_result"
    }
   ],
   "source": [
    "print(f\"df_act_sample.shape: {df_act_sample.shape}\")\n",
    "print(f\"df_mean_cat.shape: {df_mean_cat.shape}\")\n",
    "print(f\"dfrpv.T.shape: {dfrpv.T.shape}\")\n",
    "\n",
    "\n",
    "dfb = boost(df_act_sample, df_mean_cat, dfrpv.T)\n",
    "dfb"
   ]
  },
  {
   "cell_type": "code",
   "execution_count": 202,
   "id": "a6cd1dc9",
   "metadata": {},
   "outputs": [
    {
     "data": {
      "text/html": [
       "<div>\n",
       "<style scoped>\n",
       "    .dataframe tbody tr th:only-of-type {\n",
       "        vertical-align: middle;\n",
       "    }\n",
       "\n",
       "    .dataframe tbody tr th {\n",
       "        vertical-align: top;\n",
       "    }\n",
       "\n",
       "    .dataframe thead th {\n",
       "        text-align: right;\n",
       "    }\n",
       "</style>\n",
       "<table border=\"1\" class=\"dataframe\">\n",
       "  <thead>\n",
       "    <tr style=\"text-align: right;\">\n",
       "      <th></th>\n",
       "      <th>sample</th>\n",
       "      <th>cat</th>\n",
       "      <th>pvalue</th>\n",
       "      <th>sign</th>\n",
       "      <th>new_value</th>\n",
       "    </tr>\n",
       "  </thead>\n",
       "  <tbody>\n",
       "    <tr>\n",
       "      <th>neuron_1</th>\n",
       "      <td>0.658161</td>\n",
       "      <td>0.165338</td>\n",
       "      <td>0.158772</td>\n",
       "      <td>False</td>\n",
       "      <td>0.658161</td>\n",
       "    </tr>\n",
       "    <tr>\n",
       "      <th>neuron_2</th>\n",
       "      <td>0.216791</td>\n",
       "      <td>-0.519022</td>\n",
       "      <td>0.0</td>\n",
       "      <td>True</td>\n",
       "      <td>-0.003953</td>\n",
       "    </tr>\n",
       "    <tr>\n",
       "      <th>neuron_3</th>\n",
       "      <td>0.366989</td>\n",
       "      <td>-0.310005</td>\n",
       "      <td>0.000065</td>\n",
       "      <td>True</td>\n",
       "      <td>0.163891</td>\n",
       "    </tr>\n",
       "    <tr>\n",
       "      <th>neuron_4</th>\n",
       "      <td>-0.414313</td>\n",
       "      <td>0.391009</td>\n",
       "      <td>0.000002</td>\n",
       "      <td>True</td>\n",
       "      <td>-0.172717</td>\n",
       "    </tr>\n",
       "    <tr>\n",
       "      <th>neuron_5</th>\n",
       "      <td>0.076518</td>\n",
       "      <td>-0.775784</td>\n",
       "      <td>0.0</td>\n",
       "      <td>True</td>\n",
       "      <td>-0.179172</td>\n",
       "    </tr>\n",
       "    <tr>\n",
       "      <th>...</th>\n",
       "      <td>...</td>\n",
       "      <td>...</td>\n",
       "      <td>...</td>\n",
       "      <td>...</td>\n",
       "      <td>...</td>\n",
       "    </tr>\n",
       "    <tr>\n",
       "      <th>neuron_60</th>\n",
       "      <td>-0.549509</td>\n",
       "      <td>0.102303</td>\n",
       "      <td>0.041585</td>\n",
       "      <td>False</td>\n",
       "      <td>-0.549509</td>\n",
       "    </tr>\n",
       "    <tr>\n",
       "      <th>neuron_61</th>\n",
       "      <td>0.481932</td>\n",
       "      <td>-0.253206</td>\n",
       "      <td>0.000311</td>\n",
       "      <td>True</td>\n",
       "      <td>0.261391</td>\n",
       "    </tr>\n",
       "    <tr>\n",
       "      <th>neuron_62</th>\n",
       "      <td>-0.269602</td>\n",
       "      <td>0.417666</td>\n",
       "      <td>0.000002</td>\n",
       "      <td>True</td>\n",
       "      <td>-0.063421</td>\n",
       "    </tr>\n",
       "    <tr>\n",
       "      <th>neuron_63</th>\n",
       "      <td>0.762598</td>\n",
       "      <td>0.167214</td>\n",
       "      <td>0.099745</td>\n",
       "      <td>False</td>\n",
       "      <td>0.762598</td>\n",
       "    </tr>\n",
       "    <tr>\n",
       "      <th>neuron_64</th>\n",
       "      <td>-0.675882</td>\n",
       "      <td>-0.270119</td>\n",
       "      <td>0.000229</td>\n",
       "      <td>True</td>\n",
       "      <td>-0.554153</td>\n",
       "    </tr>\n",
       "  </tbody>\n",
       "</table>\n",
       "<p>64 rows × 5 columns</p>\n",
       "</div>"
      ],
      "text/plain": [
       "             sample       cat    pvalue   sign new_value\n",
       "neuron_1   0.658161  0.165338  0.158772  False  0.658161\n",
       "neuron_2   0.216791 -0.519022       0.0   True -0.003953\n",
       "neuron_3   0.366989 -0.310005  0.000065   True  0.163891\n",
       "neuron_4  -0.414313  0.391009  0.000002   True -0.172717\n",
       "neuron_5   0.076518 -0.775784       0.0   True -0.179172\n",
       "...             ...       ...       ...    ...       ...\n",
       "neuron_60 -0.549509  0.102303  0.041585  False -0.549509\n",
       "neuron_61  0.481932 -0.253206  0.000311   True  0.261391\n",
       "neuron_62 -0.269602  0.417666  0.000002   True -0.063421\n",
       "neuron_63  0.762598  0.167214  0.099745  False  0.762598\n",
       "neuron_64 -0.675882 -0.270119  0.000229   True -0.554153\n",
       "\n",
       "[64 rows x 5 columns]"
      ]
     },
     "execution_count": 202,
     "metadata": {},
     "output_type": "execute_result"
    }
   ],
   "source": [
    "dfb.fillna(value=dfb[dfb['sign'] == False]['new_value'])"
   ]
  },
  {
   "cell_type": "code",
   "execution_count": 203,
   "id": "1310fdb1",
   "metadata": {},
   "outputs": [
    {
     "data": {
      "text/plain": [
       "neuron_1     0.658161\n",
       "neuron_7    -0.620409\n",
       "neuron_9     -0.22806\n",
       "neuron_12    0.489868\n",
       "neuron_14   -0.518356\n",
       "neuron_17   -0.554116\n",
       "neuron_19   -0.648848\n",
       "neuron_21   -0.830194\n",
       "neuron_26    0.516728\n",
       "neuron_28    0.761017\n",
       "neuron_29   -0.783623\n",
       "neuron_36   -0.570199\n",
       "neuron_38   -0.569421\n",
       "neuron_39    0.663978\n",
       "neuron_40   -0.670759\n",
       "neuron_46    0.587953\n",
       "neuron_49   -0.700524\n",
       "neuron_55    0.677345\n",
       "neuron_56    0.585726\n",
       "neuron_58    -0.63338\n",
       "neuron_60   -0.549509\n",
       "neuron_63    0.762598\n",
       "Name: sample, dtype: object"
      ]
     },
     "execution_count": 203,
     "metadata": {},
     "output_type": "execute_result"
    }
   ],
   "source": [
    "dfb[dfb['sign'] == False]['sample']"
   ]
  },
  {
   "cell_type": "markdown",
   "id": "e6961121",
   "metadata": {},
   "source": [
    "### Display the new visualization"
   ]
  },
  {
   "cell_type": "code",
   "execution_count": 204,
   "id": "d23ba174",
   "metadata": {},
   "outputs": [
    {
     "data": {
      "text/plain": [
       "array([0.6581613421440125, 0.21679137647151947, 0.3669893741607666,\n",
       "       -0.4143131375312805, 0.0765184611082077, 1.1435259580612183,\n",
       "       -0.6204090118408203, 0.6390779614448547, -0.2280600368976593,\n",
       "       -0.6536741852760315, -0.7849778532981873, 0.4898676872253418,\n",
       "       0.45933762192726135, -0.5183560848236084, -0.0684097558259964,\n",
       "       -0.47500503063201904, -0.5541162490844727, 0.9833938479423523,\n",
       "       -0.6488479971885681, -0.6887383460998535, -0.8301936984062195,\n",
       "       -0.4071020781993866, 0.3965878486633301, -0.4834771156311035,\n",
       "       -0.5514059066772461, 0.5167279839515686, -0.7315905094146729,\n",
       "       0.7610173225402832, -0.783622682094574, -0.13433462381362915,\n",
       "       -0.8616790175437927, -0.4350149929523468, 0.5660584568977356,\n",
       "       -0.7044545412063599, 0.54903244972229, -0.5701994299888611,\n",
       "       0.9390217661857605, -0.5694212317466736, 0.6639783978462219,\n",
       "       -0.6707590818405151, -0.5688298344612122, 0.5104914903640747,\n",
       "       0.11340848356485367, 0.5766598582267761, -0.723821222782135,\n",
       "       0.5879530906677246, 1.377454400062561, 0.3904048204421997,\n",
       "       -0.7005243301391602, -0.8162413835525513, -0.9293123483657837,\n",
       "       -0.636171281337738, 0.14437757432460785, 0.8039206266403198,\n",
       "       0.6773449778556824, 0.5857263803482056, -0.6780712008476257,\n",
       "       -0.6333795189857483, 0.38452404737472534, -0.5495094656944275,\n",
       "       0.4819324016571045, -0.2696017622947693, 0.762597918510437,\n",
       "       -0.6758818030357361], dtype=object)"
      ]
     },
     "execution_count": 204,
     "metadata": {},
     "output_type": "execute_result"
    }
   ],
   "source": [
    "dfb['sample'].values"
   ]
  },
  {
   "cell_type": "code",
   "execution_count": 205,
   "id": "aac7c42f",
   "metadata": {},
   "outputs": [
    {
     "data": {
      "text/html": [
       "<div>\n",
       "<style scoped>\n",
       "    .dataframe tbody tr th:only-of-type {\n",
       "        vertical-align: middle;\n",
       "    }\n",
       "\n",
       "    .dataframe tbody tr th {\n",
       "        vertical-align: top;\n",
       "    }\n",
       "\n",
       "    .dataframe thead th {\n",
       "        text-align: right;\n",
       "    }\n",
       "</style>\n",
       "<table border=\"1\" class=\"dataframe\">\n",
       "  <thead>\n",
       "    <tr style=\"text-align: right;\">\n",
       "      <th></th>\n",
       "      <th>neuron_1</th>\n",
       "      <th>neuron_2</th>\n",
       "      <th>neuron_3</th>\n",
       "      <th>neuron_4</th>\n",
       "      <th>neuron_5</th>\n",
       "      <th>neuron_6</th>\n",
       "      <th>neuron_7</th>\n",
       "      <th>neuron_8</th>\n",
       "      <th>neuron_9</th>\n",
       "      <th>neuron_10</th>\n",
       "      <th>neuron_11</th>\n",
       "      <th>neuron_12</th>\n",
       "      <th>neuron_13</th>\n",
       "      <th>neuron_14</th>\n",
       "      <th>neuron_15</th>\n",
       "      <th>neuron_16</th>\n",
       "    </tr>\n",
       "  </thead>\n",
       "  <tbody>\n",
       "    <tr>\n",
       "      <th>http://dbpedia.org/resource/Rudolph_F._Zallinger</th>\n",
       "      <td>0.357408</td>\n",
       "      <td>0.578453</td>\n",
       "      <td>0.0246</td>\n",
       "      <td>-0.362478</td>\n",
       "      <td>-0.628482</td>\n",
       "      <td>-0.729422</td>\n",
       "      <td>-0.624447</td>\n",
       "      <td>-0.712696</td>\n",
       "      <td>-0.722554</td>\n",
       "      <td>-0.429393</td>\n",
       "      <td>0.560015</td>\n",
       "      <td>-0.613872</td>\n",
       "      <td>0.566683</td>\n",
       "      <td>0.574989</td>\n",
       "      <td>0.489017</td>\n",
       "      <td>-0.490434</td>\n",
       "    </tr>\n",
       "  </tbody>\n",
       "</table>\n",
       "</div>"
      ],
      "text/plain": [
       "                                                  neuron_1  neuron_2  \\\n",
       "http://dbpedia.org/resource/Rudolph_F._Zallinger  0.357408  0.578453   \n",
       "\n",
       "                                                  neuron_3  neuron_4  \\\n",
       "http://dbpedia.org/resource/Rudolph_F._Zallinger    0.0246 -0.362478   \n",
       "\n",
       "                                                  neuron_5  neuron_6  \\\n",
       "http://dbpedia.org/resource/Rudolph_F._Zallinger -0.628482 -0.729422   \n",
       "\n",
       "                                                  neuron_7  neuron_8  \\\n",
       "http://dbpedia.org/resource/Rudolph_F._Zallinger -0.624447 -0.712696   \n",
       "\n",
       "                                                  neuron_9  neuron_10  \\\n",
       "http://dbpedia.org/resource/Rudolph_F._Zallinger -0.722554  -0.429393   \n",
       "\n",
       "                                                  neuron_11  neuron_12  \\\n",
       "http://dbpedia.org/resource/Rudolph_F._Zallinger   0.560015  -0.613872   \n",
       "\n",
       "                                                  neuron_13  neuron_14  \\\n",
       "http://dbpedia.org/resource/Rudolph_F._Zallinger   0.566683   0.574989   \n",
       "\n",
       "                                                  neuron_15  neuron_16  \n",
       "http://dbpedia.org/resource/Rudolph_F._Zallinger   0.489017  -0.490434  "
      ]
     },
     "execution_count": 205,
     "metadata": {},
     "output_type": "execute_result"
    }
   ],
   "source": [
    "df_act_sample"
   ]
  },
  {
   "cell_type": "code",
   "execution_count": 206,
   "id": "2c0f1e5b",
   "metadata": {},
   "outputs": [
    {
     "data": {
      "text/plain": [
       "<AxesSubplot:ylabel='sample'>"
      ]
     },
     "execution_count": 206,
     "metadata": {},
     "output_type": "execute_result"
    },
    {
     "data": {
      "image/png": "[encoded data removed]",
      "text/plain": [
       "<Figure size 1152x504 with 1 Axes>"
      ]
     },
     "metadata": {
      "needs_background": "light"
     },
     "output_type": "display_data"
    }
   ],
   "source": [
    "#plot_activ(df=pd.DataFrame(dfb['new_value']).T, df2=pd.DataFrame(dfb['cat']).T)\n",
    "plt.figure(figsize=(16, 7))\n",
    "df = pd.DataFrame(dfb['sample']).T\n",
    "df2 = pd.DataFrame(dfb['new_value']).T\n",
    "df3 = pd.DataFrame(dfb['cat']).T\n",
    "sns.lineplot(x=range(len(df.iloc[0, :])), y=df.iloc[0, :])\n",
    "sns.lineplot(x=range(len(df2.iloc[0, :])), y=df2.iloc[0, :])\n",
    "sns.lineplot(x=range(len(df3.iloc[0, :])), y=df3.iloc[0, :])"
   ]
  },
  {
   "cell_type": "markdown",
   "id": "0218f13f",
   "metadata": {},
   "source": [
    "We see on the visualization above that the second df (i.e. the new value) has became much closer"
   ]
  },
  {
   "cell_type": "markdown",
   "id": "ec3ab1de",
   "metadata": {},
   "source": [
    "### Re-build the back of the model and make a prediction"
   ]
  },
  {
   "cell_type": "code",
   "execution_count": 111,
   "id": "9b1c4296",
   "metadata": {},
   "outputs": [
    {
     "name": "stdout",
     "output_type": "stream",
     "text": [
      "Model: \"sequential\"\n",
      "_________________________________________________________________\n",
      " Layer (type)                Output Shape              Param #   \n",
      "=================================================================\n",
      " embedding (Embedding)       (None, 150, 64)           640000    \n",
      "                                                                 \n",
      " lstm (LSTM)                 (None, 16)                5184      \n",
      "                                                                 \n",
      " dense (Dense)               (None, 8)                 136       \n",
      "                                                                 \n",
      " dropout (Dropout)           (None, 8)                 0         \n",
      "                                                                 \n",
      " dense_1 (Dense)             (None, 4)                 36        \n",
      "                                                                 \n",
      " dense_2 (Dense)             (None, 1)                 5         \n",
      "                                                                 \n",
      "=================================================================\n",
      "Total params: 645,361\n",
      "Trainable params: 645,361\n",
      "Non-trainable params: 0\n",
      "_________________________________________________________________\n"
     ]
    }
   ],
   "source": [
    "model.summary()"
   ]
  },
  {
   "cell_type": "markdown",
   "id": "8782bddd",
   "metadata": {},
   "source": [
    "Instead of re-building the model as we did to get activations of each layer, we want to build the part after the layer we are getting closer the activations of.\n",
    "\n",
    "Thus, new computed activations become the inputs for the rest of the model."
   ]
  },
  {
   "cell_type": "code",
   "execution_count": 112,
   "id": "398b3166",
   "metadata": {},
   "outputs": [
    {
     "name": "stdout",
     "output_type": "stream",
     "text": [
      "Model: \"sequential_2\"\n",
      "_________________________________________________________________\n",
      " Layer (type)                Output Shape              Param #   \n",
      "=================================================================\n",
      " lstm (LSTM)                 (None, 16)                5184      \n",
      "                                                                 \n",
      " dense (Dense)               (None, 8)                 136       \n",
      "                                                                 \n",
      " dropout (Dropout)           (None, 8)                 0         \n",
      "                                                                 \n",
      " dense_1 (Dense)             (None, 4)                 36        \n",
      "                                                                 \n",
      " dense_2 (Dense)             (None, 1)                 5         \n",
      "                                                                 \n",
      "=================================================================\n",
      "Total params: 5,361\n",
      "Trainable params: 5,361\n",
      "Non-trainable params: 0\n",
      "_________________________________________________________________\n"
     ]
    }
   ],
   "source": [
    "rest_model = Sequential()\n",
    "for i in range(layer_to_explore + 1, len(model.layers)):\n",
    "    rest_model.add(model.layers[i])\n",
    "\n",
    "rest_model.build(input_shape=model.layers[0].output_shape) #input_shape\n",
    "rest_model.summary()"
   ]
  },
  {
   "cell_type": "code",
   "execution_count": 113,
   "id": "2bd7d621",
   "metadata": {},
   "outputs": [
    {
     "data": {
      "text/plain": [
       "neuron_1     0.658161\n",
       "neuron_2      0.14321\n",
       "neuron_3      0.29929\n",
       "neuron_4    -0.333781\n",
       "neuron_5    -0.008712\n",
       "               ...   \n",
       "neuron_60   -0.549509\n",
       "neuron_61    0.408419\n",
       "neuron_62   -0.200875\n",
       "neuron_63    0.762598\n",
       "neuron_64   -0.635306\n",
       "Name: new_value, Length: 64, dtype: object"
      ]
     },
     "execution_count": 113,
     "metadata": {},
     "output_type": "execute_result"
    }
   ],
   "source": [
    "new_activations = dfb['new_value']\n",
    "new_activations"
   ]
  },
  {
   "cell_type": "code",
   "execution_count": 114,
   "id": "fa8e3332",
   "metadata": {},
   "outputs": [
    {
     "name": "stdout",
     "output_type": "stream",
     "text": [
      "(1, 1, 64)\n",
      "[[[ 0.65816134  0.14321     0.29928997 -0.33378097 -0.00871179\n",
      "    1.082914   -0.620409    0.5544662  -0.22806004 -0.6121449\n",
      "   -0.733094    0.4898677   0.33861092 -0.5183561  -0.18318798\n",
      "   -0.40644574 -0.55411625  0.98202175 -0.648848   -0.6021279\n",
      "   -0.8301937  -0.39575106  0.3154074  -0.40409923 -0.42313883\n",
      "    0.516728   -0.71038485  0.7610173  -0.7836227  -0.08138476\n",
      "   -0.81825274 -0.32749647  0.49208853 -0.68393517  0.4735206\n",
      "   -0.57019943  0.8697366  -0.56942123  0.6639784  -0.6707591\n",
      "   -0.59320456  0.50087136  0.18741436  0.57880807 -0.6825779\n",
      "    0.5879531   1.3530195   0.39190567 -0.70052433 -0.7648336\n",
      "   -0.9416788  -0.68241054  0.08414271  0.79983914  0.677345\n",
      "    0.5857264  -0.58818954 -0.6333795   0.31522322 -0.54950947\n",
      "    0.4084185  -0.20087494  0.7625979  -0.6353055 ]]]\n"
     ]
    }
   ],
   "source": [
    "new_shape = model.layers[layer_to_explore].output_shape[-1]\n",
    "\n",
    "nas = np.asarray(new_activations).astype('float32').reshape(-1, 1, new_shape)\n",
    "print(nas.shape)\n",
    "print(nas)"
   ]
  },
  {
   "cell_type": "code",
   "execution_count": 115,
   "id": "96340b74",
   "metadata": {},
   "outputs": [
    {
     "name": "stdout",
     "output_type": "stream",
     "text": [
      "1/1 [==============================] - 0s 481ms/step\n"
     ]
    },
    {
     "data": {
      "text/plain": [
       "array([[0.467962]], dtype=float32)"
      ]
     },
     "execution_count": 115,
     "metadata": {},
     "output_type": "execute_result"
    }
   ],
   "source": [
    "rest_model.predict(nas)"
   ]
  },
  {
   "cell_type": "markdown",
   "id": "a25fbe29",
   "metadata": {},
   "source": [
    "## Testing an issue point\n",
    "\n",
    "The main issue we could get is that we're taking the mean of the embedding to display the activations, so we saved it like that.\n",
    "Now, we want to 'boost' the activations for the Embedding layer but we took the mean.\n",
    "\n",
    "Let's see if the result from the mean and the original (not meaned) activations are really that different."
   ]
  },
  {
   "cell_type": "code",
   "execution_count": 116,
   "id": "53fed4ed",
   "metadata": {},
   "outputs": [
    {
     "data": {
      "text/plain": [
       "'http://dbpedia.org/resource/Grigoriy_Myasoyedov'"
      ]
     },
     "execution_count": 116,
     "metadata": {},
     "output_type": "execute_result"
    }
   ],
   "source": [
    "sample_index = sample.index[0]\n",
    "sample_index"
   ]
  },
  {
   "cell_type": "code",
   "execution_count": 117,
   "id": "2498f203",
   "metadata": {},
   "outputs": [
    {
     "data": {
      "text/plain": [
       "array([[   0,    0,    0,    0,    0,    0,    0,    0,    0,    0,    0,\n",
       "           0,    0,    0,    0,    0,    0,    0,    0,    0,    0,    0,\n",
       "           0,    0,    0,    0,    0,    0,    0,    0,    0,    0,    0,\n",
       "           0,    0,    0,    0,    0,    0,    0,    0,    0,    0,    0,\n",
       "           0,    0,    0,    0,    0,    0,    0,    0,    0,    0,    0,\n",
       "           0,    0,    0,    0,    0,    0,    0,    0,    0,    0,    0,\n",
       "           0,    0,    0,    0,    0,    0,    0,    0,    0,    0,    0,\n",
       "           0,    0,    0,    0,    0,    0,    0,    0,    0,    0,    0,\n",
       "           0,    0,    0,    0,    0,    0,    0,    0,    0,    0,    0,\n",
       "           0,    0,    0,    0,    0,    0,    0,    0,    0,    0,    0,\n",
       "           0,    0,    0,    0,    0,    0,    0,    0,    0,    0,    0,\n",
       "           0,    0,    0,    0,    0,    0,    0,    0,    0,    0,    0,\n",
       "           0,    0,    0,    0, 9981,   19, 9260, 7866,   27, 4303, 1344,\n",
       "          25,   19,  243,    1,  187, 3709,   63]])"
      ]
     },
     "execution_count": 117,
     "metadata": {},
     "output_type": "execute_result"
    }
   ],
   "source": [
    "sample_inputs = np.array([np.array(x) for x in wdf[wdf.index == sample_index].input])\n",
    "\n",
    "sample_inputs"
   ]
  },
  {
   "cell_type": "code",
   "execution_count": 118,
   "id": "45e851cf",
   "metadata": {},
   "outputs": [
    {
     "name": "stdout",
     "output_type": "stream",
     "text": [
      "Model: \"sequential_3\"\n",
      "_________________________________________________________________\n",
      " Layer (type)                Output Shape              Param #   \n",
      "=================================================================\n",
      " embedding (Embedding)       (None, 150, 64)           640000    \n",
      "                                                                 \n",
      "=================================================================\n",
      "Total params: 640,000\n",
      "Trainable params: 640,000\n",
      "Non-trainable params: 0\n",
      "_________________________________________________________________\n"
     ]
    }
   ],
   "source": [
    "fp_model = Sequential()\n",
    "fp_model.add(model.layers[0])\n",
    "fp_model.summary()"
   ]
  },
  {
   "cell_type": "code",
   "execution_count": 119,
   "id": "0e7230cd",
   "metadata": {},
   "outputs": [
    {
     "name": "stdout",
     "output_type": "stream",
     "text": [
      "WARNING:tensorflow:5 out of the last 6 calls to <function Model.make_predict_function.<locals>.predict_function at 0x0000020C0250ED30> triggered tf.function retracing. Tracing is expensive and the excessive number of tracings could be due to (1) creating @tf.function repeatedly in a loop, (2) passing tensors with different shapes, (3) passing Python objects instead of tensors. For (1), please define your @tf.function outside of the loop. For (2), @tf.function has reduce_retracing=True option that can avoid unnecessary retracing. For (3), please refer to https://www.tensorflow.org/guide/function#controlling_retracing and https://www.tensorflow.org/api_docs/python/tf/function for  more details.\n",
      "1/1 [==============================] - 0s 28ms/step\n"
     ]
    }
   ],
   "source": [
    "fp_sample_act = fp_model.predict(sample_inputs)"
   ]
  },
  {
   "cell_type": "code",
   "execution_count": 120,
   "id": "980309a4",
   "metadata": {},
   "outputs": [
    {
     "name": "stdout",
     "output_type": "stream",
     "text": [
      "WARNING:tensorflow:6 out of the last 7 calls to <function Model.make_predict_function.<locals>.predict_function at 0x0000020C02B218B0> triggered tf.function retracing. Tracing is expensive and the excessive number of tracings could be due to (1) creating @tf.function repeatedly in a loop, (2) passing tensors with different shapes, (3) passing Python objects instead of tensors. For (1), please define your @tf.function outside of the loop. For (2), @tf.function has reduce_retracing=True option that can avoid unnecessary retracing. For (3), please refer to https://www.tensorflow.org/guide/function#controlling_retracing and https://www.tensorflow.org/api_docs/python/tf/function for  more details.\n",
      "1/1 [==============================] - 0s 289ms/step\n"
     ]
    },
    {
     "data": {
      "text/plain": [
       "array([[0.2669904]], dtype=float32)"
      ]
     },
     "execution_count": 120,
     "metadata": {},
     "output_type": "execute_result"
    }
   ],
   "source": [
    "rest_model.predict(fp_sample_act)"
   ]
  },
  {
   "cell_type": "markdown",
   "id": "83c4abb0",
   "metadata": {},
   "source": [
    "So, for the original activations, we get **0.297**"
   ]
  },
  {
   "cell_type": "code",
   "execution_count": 121,
   "id": "07955897",
   "metadata": {},
   "outputs": [],
   "source": [
    "sample_mean_act = np.array(df_act_sample).reshape(-1, 1, 64)"
   ]
  },
  {
   "cell_type": "code",
   "execution_count": 122,
   "id": "3c6749d3",
   "metadata": {},
   "outputs": [
    {
     "name": "stdout",
     "output_type": "stream",
     "text": [
      "1/1 [==============================] - 0s 13ms/step\n"
     ]
    },
    {
     "data": {
      "text/plain": [
       "array([[0.3768038]], dtype=float32)"
      ]
     },
     "execution_count": 122,
     "metadata": {},
     "output_type": "execute_result"
    }
   ],
   "source": [
    "rest_model.predict(sample_mean_act)"
   ]
  },
  {
   "cell_type": "markdown",
   "id": "cf2d26b4",
   "metadata": {},
   "source": [
    "THERE IS A BIG DIFFERENCE\n",
    "\n",
    "That means, we must retrieve the original activations (without the mean) in order to boost these activations at the level of the Embedding layer because it seems that this is the layer which make the global decision for the output"
   ]
  },
  {
   "cell_type": "markdown",
   "id": "fddcfe82",
   "metadata": {},
   "source": [
    "## Boosting raw embedding activations\n",
    "\n",
    "Here is the raw flattened activations for each sample"
   ]
  },
  {
   "cell_type": "code",
   "execution_count": 123,
   "id": "fd3f0322",
   "metadata": {},
   "outputs": [
    {
     "data": {
      "text/html": [
       "<div>\n",
       "<style scoped>\n",
       "    .dataframe tbody tr th:only-of-type {\n",
       "        vertical-align: middle;\n",
       "    }\n",
       "\n",
       "    .dataframe tbody tr th {\n",
       "        vertical-align: top;\n",
       "    }\n",
       "\n",
       "    .dataframe thead th {\n",
       "        text-align: right;\n",
       "    }\n",
       "</style>\n",
       "<table border=\"1\" class=\"dataframe\">\n",
       "  <thead>\n",
       "    <tr style=\"text-align: right;\">\n",
       "      <th></th>\n",
       "      <th>category</th>\n",
       "      <th>input</th>\n",
       "      <th>true</th>\n",
       "      <th>pred</th>\n",
       "      <th>0</th>\n",
       "      <th>1</th>\n",
       "      <th>2</th>\n",
       "      <th>3</th>\n",
       "      <th>4</th>\n",
       "      <th>5</th>\n",
       "      <th>...</th>\n",
       "      <th>9590</th>\n",
       "      <th>9591</th>\n",
       "      <th>9592</th>\n",
       "      <th>9593</th>\n",
       "      <th>9594</th>\n",
       "      <th>9595</th>\n",
       "      <th>9596</th>\n",
       "      <th>9597</th>\n",
       "      <th>9598</th>\n",
       "      <th>9599</th>\n",
       "    </tr>\n",
       "  </thead>\n",
       "  <tbody>\n",
       "    <tr>\n",
       "      <th>http://dbpedia.org/resource/Alexander_Semionov</th>\n",
       "      <td>[http://dbpedia.org/resource/Russia]</td>\n",
       "      <td>[0, 0, 0, 0, 0, 0, 0, 0, 0, 0, 0, 0, 0, 0, 0, ...</td>\n",
       "      <td>1</td>\n",
       "      <td>1</td>\n",
       "      <td>0.01824</td>\n",
       "      <td>0.033064</td>\n",
       "      <td>0.045167</td>\n",
       "      <td>-0.038204</td>\n",
       "      <td>0.027363</td>\n",
       "      <td>-0.002155</td>\n",
       "      <td>...</td>\n",
       "      <td>0.025399</td>\n",
       "      <td>-0.004341</td>\n",
       "      <td>0.011990</td>\n",
       "      <td>-0.020601</td>\n",
       "      <td>-0.033220</td>\n",
       "      <td>0.000651</td>\n",
       "      <td>-0.011725</td>\n",
       "      <td>-0.001298</td>\n",
       "      <td>0.017007</td>\n",
       "      <td>-0.053795</td>\n",
       "    </tr>\n",
       "    <tr>\n",
       "      <th>http://dbpedia.org/resource/Howardena_Pindell</th>\n",
       "      <td>[http://dbpedia.org/resource/United_States]</td>\n",
       "      <td>[0, 0, 0, 0, 0, 0, 0, 0, 0, 0, 0, 0, 0, 0, 0, ...</td>\n",
       "      <td>1</td>\n",
       "      <td>0</td>\n",
       "      <td>0.01824</td>\n",
       "      <td>0.033064</td>\n",
       "      <td>0.045167</td>\n",
       "      <td>-0.038204</td>\n",
       "      <td>0.027363</td>\n",
       "      <td>-0.002155</td>\n",
       "      <td>...</td>\n",
       "      <td>0.005946</td>\n",
       "      <td>-0.005843</td>\n",
       "      <td>-0.018723</td>\n",
       "      <td>0.017572</td>\n",
       "      <td>0.050071</td>\n",
       "      <td>-0.022547</td>\n",
       "      <td>-0.010346</td>\n",
       "      <td>-0.030369</td>\n",
       "      <td>-0.025394</td>\n",
       "      <td>0.010117</td>\n",
       "    </tr>\n",
       "    <tr>\n",
       "      <th>http://dbpedia.org/resource/Étienne_Moreau-Nélaton</th>\n",
       "      <td>[http://dbpedia.org/resource/France]</td>\n",
       "      <td>[0, 0, 0, 0, 0, 0, 0, 0, 0, 0, 0, 0, 0, 0, 0, ...</td>\n",
       "      <td>1</td>\n",
       "      <td>1</td>\n",
       "      <td>0.01824</td>\n",
       "      <td>0.033064</td>\n",
       "      <td>0.045167</td>\n",
       "      <td>-0.038204</td>\n",
       "      <td>0.027363</td>\n",
       "      <td>-0.002155</td>\n",
       "      <td>...</td>\n",
       "      <td>0.012612</td>\n",
       "      <td>-0.026737</td>\n",
       "      <td>0.062191</td>\n",
       "      <td>0.017014</td>\n",
       "      <td>-0.036809</td>\n",
       "      <td>-0.040097</td>\n",
       "      <td>0.022566</td>\n",
       "      <td>0.034972</td>\n",
       "      <td>-0.009373</td>\n",
       "      <td>0.000477</td>\n",
       "    </tr>\n",
       "  </tbody>\n",
       "</table>\n",
       "<p>3 rows × 9604 columns</p>\n",
       "</div>"
      ],
      "text/plain": [
       "                                                                                       category  \\\n",
       "http://dbpedia.org/resource/Alexander_Semionov             [http://dbpedia.org/resource/Russia]   \n",
       "http://dbpedia.org/resource/Howardena_Pindell       [http://dbpedia.org/resource/United_States]   \n",
       "http://dbpedia.org/resource/Étienne_Moreau-Nélaton         [http://dbpedia.org/resource/France]   \n",
       "\n",
       "                                                                                                input  \\\n",
       "http://dbpedia.org/resource/Alexander_Semionov      [0, 0, 0, 0, 0, 0, 0, 0, 0, 0, 0, 0, 0, 0, 0, ...   \n",
       "http://dbpedia.org/resource/Howardena_Pindell       [0, 0, 0, 0, 0, 0, 0, 0, 0, 0, 0, 0, 0, 0, 0, ...   \n",
       "http://dbpedia.org/resource/Étienne_Moreau-Nélaton  [0, 0, 0, 0, 0, 0, 0, 0, 0, 0, 0, 0, 0, 0, 0, ...   \n",
       "\n",
       "                                                    true  pred        0  \\\n",
       "http://dbpedia.org/resource/Alexander_Semionov         1     1  0.01824   \n",
       "http://dbpedia.org/resource/Howardena_Pindell          1     0  0.01824   \n",
       "http://dbpedia.org/resource/Étienne_Moreau-Nélaton     1     1  0.01824   \n",
       "\n",
       "                                                           1         2  \\\n",
       "http://dbpedia.org/resource/Alexander_Semionov      0.033064  0.045167   \n",
       "http://dbpedia.org/resource/Howardena_Pindell       0.033064  0.045167   \n",
       "http://dbpedia.org/resource/Étienne_Moreau-Nélaton  0.033064  0.045167   \n",
       "\n",
       "                                                           3         4  \\\n",
       "http://dbpedia.org/resource/Alexander_Semionov     -0.038204  0.027363   \n",
       "http://dbpedia.org/resource/Howardena_Pindell      -0.038204  0.027363   \n",
       "http://dbpedia.org/resource/Étienne_Moreau-Nélaton -0.038204  0.027363   \n",
       "\n",
       "                                                           5  ...      9590  \\\n",
       "http://dbpedia.org/resource/Alexander_Semionov     -0.002155  ...  0.025399   \n",
       "http://dbpedia.org/resource/Howardena_Pindell      -0.002155  ...  0.005946   \n",
       "http://dbpedia.org/resource/Étienne_Moreau-Nélaton -0.002155  ...  0.012612   \n",
       "\n",
       "                                                        9591      9592  \\\n",
       "http://dbpedia.org/resource/Alexander_Semionov     -0.004341  0.011990   \n",
       "http://dbpedia.org/resource/Howardena_Pindell      -0.005843 -0.018723   \n",
       "http://dbpedia.org/resource/Étienne_Moreau-Nélaton -0.026737  0.062191   \n",
       "\n",
       "                                                        9593      9594  \\\n",
       "http://dbpedia.org/resource/Alexander_Semionov     -0.020601 -0.033220   \n",
       "http://dbpedia.org/resource/Howardena_Pindell       0.017572  0.050071   \n",
       "http://dbpedia.org/resource/Étienne_Moreau-Nélaton  0.017014 -0.036809   \n",
       "\n",
       "                                                        9595      9596  \\\n",
       "http://dbpedia.org/resource/Alexander_Semionov      0.000651 -0.011725   \n",
       "http://dbpedia.org/resource/Howardena_Pindell      -0.022547 -0.010346   \n",
       "http://dbpedia.org/resource/Étienne_Moreau-Nélaton -0.040097  0.022566   \n",
       "\n",
       "                                                        9597      9598  \\\n",
       "http://dbpedia.org/resource/Alexander_Semionov     -0.001298  0.017007   \n",
       "http://dbpedia.org/resource/Howardena_Pindell      -0.030369 -0.025394   \n",
       "http://dbpedia.org/resource/Étienne_Moreau-Nélaton  0.034972 -0.009373   \n",
       "\n",
       "                                                        9599  \n",
       "http://dbpedia.org/resource/Alexander_Semionov     -0.053795  \n",
       "http://dbpedia.org/resource/Howardena_Pindell       0.010117  \n",
       "http://dbpedia.org/resource/Étienne_Moreau-Nélaton  0.000477  \n",
       "\n",
       "[3 rows x 9604 columns]"
      ]
     },
     "execution_count": 123,
     "metadata": {},
     "output_type": "execute_result"
    }
   ],
   "source": [
    "r_emb = pd.read_pickle(os.path.join('src', 'visualizer_data', 'activations', 'painters_ds', 'embedding-raw.pkl'))\n",
    "r_emb.head(3)"
   ]
  },
  {
   "cell_type": "code",
   "execution_count": 124,
   "id": "86eec4e3",
   "metadata": {},
   "outputs": [
    {
     "data": {
      "text/html": [
       "<div>\n",
       "<style scoped>\n",
       "    .dataframe tbody tr th:only-of-type {\n",
       "        vertical-align: middle;\n",
       "    }\n",
       "\n",
       "    .dataframe tbody tr th {\n",
       "        vertical-align: top;\n",
       "    }\n",
       "\n",
       "    .dataframe thead th {\n",
       "        text-align: right;\n",
       "    }\n",
       "</style>\n",
       "<table border=\"1\" class=\"dataframe\">\n",
       "  <thead>\n",
       "    <tr style=\"text-align: right;\">\n",
       "      <th></th>\n",
       "      <th>category</th>\n",
       "      <th>input</th>\n",
       "      <th>true</th>\n",
       "      <th>pred</th>\n",
       "      <th>0</th>\n",
       "      <th>1</th>\n",
       "      <th>2</th>\n",
       "      <th>3</th>\n",
       "      <th>4</th>\n",
       "      <th>5</th>\n",
       "      <th>...</th>\n",
       "      <th>9590</th>\n",
       "      <th>9591</th>\n",
       "      <th>9592</th>\n",
       "      <th>9593</th>\n",
       "      <th>9594</th>\n",
       "      <th>9595</th>\n",
       "      <th>9596</th>\n",
       "      <th>9597</th>\n",
       "      <th>9598</th>\n",
       "      <th>9599</th>\n",
       "    </tr>\n",
       "  </thead>\n",
       "  <tbody>\n",
       "    <tr>\n",
       "      <th>http://dbpedia.org/resource/Grigoriy_Myasoyedov</th>\n",
       "      <td>[http://dbpedia.org/resource/Russia]</td>\n",
       "      <td>[0, 0, 0, 0, 0, 0, 0, 0, 0, 0, 0, 0, 0, 0, 0, ...</td>\n",
       "      <td>1</td>\n",
       "      <td>0</td>\n",
       "      <td>0.01824</td>\n",
       "      <td>0.033064</td>\n",
       "      <td>0.045167</td>\n",
       "      <td>-0.038204</td>\n",
       "      <td>0.027363</td>\n",
       "      <td>-0.002155</td>\n",
       "      <td>...</td>\n",
       "      <td>0.030528</td>\n",
       "      <td>0.049858</td>\n",
       "      <td>0.012698</td>\n",
       "      <td>-0.071667</td>\n",
       "      <td>-0.042861</td>\n",
       "      <td>-0.017713</td>\n",
       "      <td>-0.016438</td>\n",
       "      <td>0.017237</td>\n",
       "      <td>0.034438</td>\n",
       "      <td>-0.076419</td>\n",
       "    </tr>\n",
       "  </tbody>\n",
       "</table>\n",
       "<p>1 rows × 9604 columns</p>\n",
       "</div>"
      ],
      "text/plain": [
       "                                                                             category  \\\n",
       "http://dbpedia.org/resource/Grigoriy_Myasoyedov  [http://dbpedia.org/resource/Russia]   \n",
       "\n",
       "                                                                                             input  \\\n",
       "http://dbpedia.org/resource/Grigoriy_Myasoyedov  [0, 0, 0, 0, 0, 0, 0, 0, 0, 0, 0, 0, 0, 0, 0, ...   \n",
       "\n",
       "                                                 true  pred        0  \\\n",
       "http://dbpedia.org/resource/Grigoriy_Myasoyedov     1     0  0.01824   \n",
       "\n",
       "                                                        1         2         3  \\\n",
       "http://dbpedia.org/resource/Grigoriy_Myasoyedov  0.033064  0.045167 -0.038204   \n",
       "\n",
       "                                                        4         5  ...  \\\n",
       "http://dbpedia.org/resource/Grigoriy_Myasoyedov  0.027363 -0.002155  ...   \n",
       "\n",
       "                                                     9590      9591      9592  \\\n",
       "http://dbpedia.org/resource/Grigoriy_Myasoyedov  0.030528  0.049858  0.012698   \n",
       "\n",
       "                                                     9593      9594      9595  \\\n",
       "http://dbpedia.org/resource/Grigoriy_Myasoyedov -0.071667 -0.042861 -0.017713   \n",
       "\n",
       "                                                     9596      9597      9598  \\\n",
       "http://dbpedia.org/resource/Grigoriy_Myasoyedov -0.016438  0.017237  0.034438   \n",
       "\n",
       "                                                     9599  \n",
       "http://dbpedia.org/resource/Grigoriy_Myasoyedov -0.076419  \n",
       "\n",
       "[1 rows x 9604 columns]"
      ]
     },
     "execution_count": 124,
     "metadata": {},
     "output_type": "execute_result"
    }
   ],
   "source": [
    "raw_sample = r_emb[r_emb.index == sample_index]\n",
    "raw_sample"
   ]
  },
  {
   "cell_type": "code",
   "execution_count": 125,
   "id": "38b1a700",
   "metadata": {},
   "outputs": [
    {
     "name": "stdout",
     "output_type": "stream",
     "text": [
      "Index([   0,    1,    2,    3,    4,    5,    6,    7,    8,    9,\n",
      "       ...\n",
      "       9590, 9591, 9592, 9593, 9594, 9595, 9596, 9597, 9598, 9599],\n",
      "      dtype='object', length=9600)\n"
     ]
    }
   ],
   "source": [
    "raw_sample_act = raw_sample.iloc[0, 4:] # Fetching only the activation columns\n",
    "print(raw_sample_act.index)"
   ]
  },
  {
   "cell_type": "markdown",
   "id": "e78840d9",
   "metadata": {},
   "source": [
    "To get the activations as the layer returns them, we need to reshape"
   ]
  },
  {
   "cell_type": "code",
   "execution_count": 126,
   "id": "c9442e37",
   "metadata": {},
   "outputs": [
    {
     "data": {
      "text/plain": [
       "(150, 64)"
      ]
     },
     "execution_count": 126,
     "metadata": {},
     "output_type": "execute_result"
    }
   ],
   "source": [
    "sample_act = raw_sample_act.to_numpy().reshape(-1, 64)\n",
    "sample_act.shape"
   ]
  },
  {
   "cell_type": "code",
   "execution_count": 127,
   "id": "51904edf",
   "metadata": {},
   "outputs": [
    {
     "data": {
      "text/plain": [
       "array([[0.018239787, 0.0330644, 0.045167074, ..., -0.037980087,\n",
       "        0.034873746, -0.012977618],\n",
       "       [0.018239787, 0.0330644, 0.045167074, ..., -0.037980087,\n",
       "        0.034873746, -0.012977618],\n",
       "       [0.018239787, 0.0330644, 0.045167074, ..., -0.037980087,\n",
       "        0.034873746, -0.012977618],\n",
       "       ...,\n",
       "       [0.010368197, -0.012283085, -0.04622255, ..., -0.027397815,\n",
       "        0.042705424, -0.00422934],\n",
       "       [-0.042906422, 0.040920224, -0.00549499, ..., 0.035804406,\n",
       "        0.014588775, 0.053970594],\n",
       "       [-7.618315e-05, -0.042107813, 0.0096192835, ..., 0.017237121,\n",
       "        0.034437772, -0.076419234]], dtype=object)"
      ]
     },
     "execution_count": 127,
     "metadata": {},
     "output_type": "execute_result"
    }
   ],
   "source": [
    "sample_act"
   ]
  },
  {
   "cell_type": "markdown",
   "id": "03f99fbc",
   "metadata": {},
   "source": [
    "![boost_instructions.png](boost_instructions.png)"
   ]
  },
  {
   "cell_type": "code",
   "execution_count": 128,
   "id": "6e90422b",
   "metadata": {},
   "outputs": [],
   "source": [
    "def get_mean_raw_act(df):\n",
    "    return df.mean()"
   ]
  },
  {
   "cell_type": "code",
   "execution_count": 129,
   "id": "b9720722",
   "metadata": {},
   "outputs": [
    {
     "data": {
      "text/plain": [
       "http://dbpedia.org/resource/Grigoriy_Myasoyedov   -0.000586\n",
       "dtype: float64"
      ]
     },
     "execution_count": 129,
     "metadata": {},
     "output_type": "execute_result"
    }
   ],
   "source": [
    "get_mean_raw_act(pd.DataFrame(raw_sample_act))"
   ]
  },
  {
   "cell_type": "code",
   "execution_count": 130,
   "id": "be08c7cf",
   "metadata": {},
   "outputs": [
    {
     "data": {
      "text/html": [
       "<div>\n",
       "<style scoped>\n",
       "    .dataframe tbody tr th:only-of-type {\n",
       "        vertical-align: middle;\n",
       "    }\n",
       "\n",
       "    .dataframe tbody tr th {\n",
       "        vertical-align: top;\n",
       "    }\n",
       "\n",
       "    .dataframe thead th {\n",
       "        text-align: right;\n",
       "    }\n",
       "</style>\n",
       "<table border=\"1\" class=\"dataframe\">\n",
       "  <thead>\n",
       "    <tr style=\"text-align: right;\">\n",
       "      <th></th>\n",
       "      <th>0</th>\n",
       "      <th>1</th>\n",
       "      <th>2</th>\n",
       "      <th>3</th>\n",
       "      <th>4</th>\n",
       "      <th>5</th>\n",
       "      <th>6</th>\n",
       "      <th>7</th>\n",
       "      <th>8</th>\n",
       "      <th>9</th>\n",
       "      <th>...</th>\n",
       "      <th>54</th>\n",
       "      <th>55</th>\n",
       "      <th>56</th>\n",
       "      <th>57</th>\n",
       "      <th>58</th>\n",
       "      <th>59</th>\n",
       "      <th>60</th>\n",
       "      <th>61</th>\n",
       "      <th>62</th>\n",
       "      <th>63</th>\n",
       "    </tr>\n",
       "  </thead>\n",
       "  <tbody>\n",
       "    <tr>\n",
       "      <th>0</th>\n",
       "      <td>0.016052</td>\n",
       "      <td>0.027816</td>\n",
       "      <td>0.039976</td>\n",
       "      <td>-0.034601</td>\n",
       "      <td>0.023909</td>\n",
       "      <td>-0.000702</td>\n",
       "      <td>-0.030384</td>\n",
       "      <td>0.042883</td>\n",
       "      <td>-0.019626</td>\n",
       "      <td>-0.039004</td>\n",
       "      <td>...</td>\n",
       "      <td>0.065174</td>\n",
       "      <td>0.07301</td>\n",
       "      <td>-0.022192</td>\n",
       "      <td>-0.062318</td>\n",
       "      <td>0.036882</td>\n",
       "      <td>-0.069497</td>\n",
       "      <td>0.03343</td>\n",
       "      <td>-0.033159</td>\n",
       "      <td>0.032142</td>\n",
       "      <td>-0.012357</td>\n",
       "    </tr>\n",
       "  </tbody>\n",
       "</table>\n",
       "<p>1 rows × 64 columns</p>\n",
       "</div>"
      ],
      "text/plain": [
       "         0         1         2         3         4         5         6   \\\n",
       "0  0.016052  0.027816  0.039976 -0.034601  0.023909 -0.000702 -0.030384   \n",
       "\n",
       "         7         8         9   ...        54       55        56        57  \\\n",
       "0  0.042883 -0.019626 -0.039004  ...  0.065174  0.07301 -0.022192 -0.062318   \n",
       "\n",
       "         58        59       60        61        62        63  \n",
       "0  0.036882 -0.069497  0.03343 -0.033159  0.032142 -0.012357  \n",
       "\n",
       "[1 rows x 64 columns]"
      ]
     },
     "execution_count": 130,
     "metadata": {},
     "output_type": "execute_result"
    }
   ],
   "source": [
    "pd.DataFrame(pd.DataFrame(raw_sample_act.to_numpy().reshape(-1, 64)).mean()).T"
   ]
  },
  {
   "cell_type": "code",
   "execution_count": 132,
   "id": "7b0f9c8d",
   "metadata": {},
   "outputs": [
    {
     "data": {
      "text/html": [
       "<div>\n",
       "<style scoped>\n",
       "    .dataframe tbody tr th:only-of-type {\n",
       "        vertical-align: middle;\n",
       "    }\n",
       "\n",
       "    .dataframe tbody tr th {\n",
       "        vertical-align: top;\n",
       "    }\n",
       "\n",
       "    .dataframe thead th {\n",
       "        text-align: right;\n",
       "    }\n",
       "</style>\n",
       "<table border=\"1\" class=\"dataframe\">\n",
       "  <thead>\n",
       "    <tr style=\"text-align: right;\">\n",
       "      <th></th>\n",
       "      <th>category</th>\n",
       "      <th>input</th>\n",
       "      <th>true</th>\n",
       "      <th>pred</th>\n",
       "      <th>neuron_1</th>\n",
       "      <th>neuron_2</th>\n",
       "      <th>neuron_3</th>\n",
       "      <th>neuron_4</th>\n",
       "      <th>neuron_5</th>\n",
       "      <th>neuron_6</th>\n",
       "      <th>...</th>\n",
       "      <th>neuron_55</th>\n",
       "      <th>neuron_56</th>\n",
       "      <th>neuron_57</th>\n",
       "      <th>neuron_58</th>\n",
       "      <th>neuron_59</th>\n",
       "      <th>neuron_60</th>\n",
       "      <th>neuron_61</th>\n",
       "      <th>neuron_62</th>\n",
       "      <th>neuron_63</th>\n",
       "      <th>neuron_64</th>\n",
       "    </tr>\n",
       "  </thead>\n",
       "  <tbody>\n",
       "    <tr>\n",
       "      <th>http://dbpedia.org/resource/Grigoriy_Myasoyedov</th>\n",
       "      <td>[http://dbpedia.org/resource/Russia]</td>\n",
       "      <td>[0, 0, 0, 0, 0, 0, 0, 0, 0, 0, 0, 0, 0, 0, 0, ...</td>\n",
       "      <td>1</td>\n",
       "      <td>0</td>\n",
       "      <td>0.658161</td>\n",
       "      <td>0.216791</td>\n",
       "      <td>0.366989</td>\n",
       "      <td>-0.414313</td>\n",
       "      <td>0.076518</td>\n",
       "      <td>1.143526</td>\n",
       "      <td>...</td>\n",
       "      <td>0.677345</td>\n",
       "      <td>0.585726</td>\n",
       "      <td>-0.678071</td>\n",
       "      <td>-0.63338</td>\n",
       "      <td>0.384524</td>\n",
       "      <td>-0.549509</td>\n",
       "      <td>0.481932</td>\n",
       "      <td>-0.269602</td>\n",
       "      <td>0.762598</td>\n",
       "      <td>-0.675882</td>\n",
       "    </tr>\n",
       "  </tbody>\n",
       "</table>\n",
       "<p>1 rows × 68 columns</p>\n",
       "</div>"
      ],
      "text/plain": [
       "                                                                             category  \\\n",
       "http://dbpedia.org/resource/Grigoriy_Myasoyedov  [http://dbpedia.org/resource/Russia]   \n",
       "\n",
       "                                                                                             input  \\\n",
       "http://dbpedia.org/resource/Grigoriy_Myasoyedov  [0, 0, 0, 0, 0, 0, 0, 0, 0, 0, 0, 0, 0, 0, 0, ...   \n",
       "\n",
       "                                                 true  pred  neuron_1  \\\n",
       "http://dbpedia.org/resource/Grigoriy_Myasoyedov     1     0  0.658161   \n",
       "\n",
       "                                                 neuron_2  neuron_3  neuron_4  \\\n",
       "http://dbpedia.org/resource/Grigoriy_Myasoyedov  0.216791  0.366989 -0.414313   \n",
       "\n",
       "                                                 neuron_5  neuron_6  ...  \\\n",
       "http://dbpedia.org/resource/Grigoriy_Myasoyedov  0.076518  1.143526  ...   \n",
       "\n",
       "                                                 neuron_55  neuron_56  \\\n",
       "http://dbpedia.org/resource/Grigoriy_Myasoyedov   0.677345   0.585726   \n",
       "\n",
       "                                                 neuron_57  neuron_58  \\\n",
       "http://dbpedia.org/resource/Grigoriy_Myasoyedov  -0.678071   -0.63338   \n",
       "\n",
       "                                                 neuron_59  neuron_60  \\\n",
       "http://dbpedia.org/resource/Grigoriy_Myasoyedov   0.384524  -0.549509   \n",
       "\n",
       "                                                 neuron_61  neuron_62  \\\n",
       "http://dbpedia.org/resource/Grigoriy_Myasoyedov   0.481932  -0.269602   \n",
       "\n",
       "                                                 neuron_63  neuron_64  \n",
       "http://dbpedia.org/resource/Grigoriy_Myasoyedov   0.762598  -0.675882  \n",
       "\n",
       "[1 rows x 68 columns]"
      ]
     },
     "execution_count": 132,
     "metadata": {},
     "output_type": "execute_result"
    }
   ],
   "source": [
    "df[df.index == sample_index]"
   ]
  },
  {
   "cell_type": "code",
   "execution_count": null,
   "id": "9ba6a932",
   "metadata": {},
   "outputs": [],
   "source": []
  }
 ],
 "metadata": {
  "kernelspec": {
   "display_name": "rnn-films",
   "language": "python",
   "name": "rnn-films"
  },
  "language_info": {
   "codemirror_mode": {
    "name": "ipython",
    "version": 3
   },
   "file_extension": ".py",
   "mimetype": "text/x-python",
   "name": "python",
   "nbconvert_exporter": "python",
   "pygments_lexer": "ipython3",
   "version": "3.9.7"
  }
 },
 "nbformat": 4,
 "nbformat_minor": 5
}
