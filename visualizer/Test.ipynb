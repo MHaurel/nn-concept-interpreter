{
 "cells": [
  {
   "cell_type": "markdown",
   "id": "7cd9967a",
   "metadata": {},
   "source": [
    "# Testing stuff here..."
   ]
  },
  {
   "cell_type": "code",
   "execution_count": 1,
   "id": "3169032c",
   "metadata": {},
   "outputs": [],
   "source": [
    "import pandas as pd\n",
    "import numpy as np\n",
    "import os"
   ]
  },
  {
   "cell_type": "markdown",
   "id": "2250e453",
   "metadata": {},
   "source": [
    "On souhaite vérifier que les activations moyénées et brutes sont les mêmes"
   ]
  },
  {
   "cell_type": "code",
   "execution_count": 48,
   "id": "d0fff101",
   "metadata": {},
   "outputs": [
    {
     "name": "stdout",
     "output_type": "stream",
     "text": [
      "0 - embedding.pkl\n",
      "1 - lstm.pkl\n",
      "2 - dense.pkl\n",
      "3 - dropout.pkl\n",
      "4 - dense_1.pkl\n",
      "5 - dense_2.pkl\n"
     ]
    }
   ],
   "source": [
    "dfs = []\n",
    "for filename in os.listdir(os.path.join('src', 'visualizer_data', 'activations', 'painters_ds')):\n",
    "    if filename.split('.')[-1] == 'pkl' and 'table_data' not in filename and 'n_' not in filename:\n",
    "        #print(filename)\n",
    "        if filename.split(' - ')[0].isdigit():\n",
    "            print(filename)\n",
    "            dfs.append(pd.read_pickle(os.path.join('src', 'visualizer_data', 'activations', 'painters_ds', filename)))"
   ]
  },
  {
   "cell_type": "code",
   "execution_count": 50,
   "id": "6eba89f6",
   "metadata": {},
   "outputs": [],
   "source": [
    "layer_to_explore = 0\n",
    "df = dfs[layer_to_explore]"
   ]
  },
  {
   "cell_type": "code",
   "execution_count": 60,
   "id": "ca7df5ce",
   "metadata": {},
   "outputs": [],
   "source": [
    "def get_cat_df(df, cat):\n",
    "    return df[df.category.apply(lambda x: cat in x)]\n",
    "\n",
    "def get_mean_activations(df):\n",
    "    df_act = df.iloc[:, 4:]\n",
    "    return df_act.mean()\n",
    "\n",
    "def get_sample(df, cat=None):\n",
    "    if cat is None:\n",
    "        return df[df.pred != df.true].sample(n=1)\n",
    "    else:\n",
    "        return get_cat_df(df, cat)[df.pred != df.true].sample(n=1)\n",
    "    \n",
    "def standardize(df):\n",
    "    df_s = df.copy()\n",
    "    for col in df:\n",
    "        #if \"neuron\" in col:\n",
    "        df_s[col] = (df[col] - df[col].mean()) / df[col].std()\n",
    "\n",
    "    return df_s"
   ]
  },
  {
   "cell_type": "code",
   "execution_count": 82,
   "id": "cf84ebcf",
   "metadata": {},
   "outputs": [
    {
     "name": "stderr",
     "output_type": "stream",
     "text": [
      "C:\\Users\\maxim\\AppData\\Local\\Temp/ipykernel_14036/338817337.py:12: UserWarning: Boolean Series key will be reindexed to match DataFrame index.\n",
      "  return get_cat_df(df, cat)[df.pred != df.true].sample(n=1)\n"
     ]
    },
    {
     "data": {
      "text/html": [
       "<div>\n",
       "<style scoped>\n",
       "    .dataframe tbody tr th:only-of-type {\n",
       "        vertical-align: middle;\n",
       "    }\n",
       "\n",
       "    .dataframe tbody tr th {\n",
       "        vertical-align: top;\n",
       "    }\n",
       "\n",
       "    .dataframe thead th {\n",
       "        text-align: right;\n",
       "    }\n",
       "</style>\n",
       "<table border=\"1\" class=\"dataframe\">\n",
       "  <thead>\n",
       "    <tr style=\"text-align: right;\">\n",
       "      <th></th>\n",
       "      <th>category</th>\n",
       "      <th>input</th>\n",
       "      <th>true</th>\n",
       "      <th>pred</th>\n",
       "      <th>neuron_1</th>\n",
       "      <th>neuron_2</th>\n",
       "      <th>neuron_3</th>\n",
       "      <th>neuron_4</th>\n",
       "      <th>neuron_5</th>\n",
       "      <th>neuron_6</th>\n",
       "      <th>...</th>\n",
       "      <th>neuron_55</th>\n",
       "      <th>neuron_56</th>\n",
       "      <th>neuron_57</th>\n",
       "      <th>neuron_58</th>\n",
       "      <th>neuron_59</th>\n",
       "      <th>neuron_60</th>\n",
       "      <th>neuron_61</th>\n",
       "      <th>neuron_62</th>\n",
       "      <th>neuron_63</th>\n",
       "      <th>neuron_64</th>\n",
       "    </tr>\n",
       "  </thead>\n",
       "  <tbody>\n",
       "    <tr>\n",
       "      <th>http://dbpedia.org/resource/Jacopo_Vignali</th>\n",
       "      <td>[http://dbpedia.org/resource/Italy]</td>\n",
       "      <td>[0, 0, 0, 0, 0, 0, 0, 0, 0, 0, 0, 0, 0, 0, 0, ...</td>\n",
       "      <td>1</td>\n",
       "      <td>0</td>\n",
       "      <td>0.981528</td>\n",
       "      <td>0.612633</td>\n",
       "      <td>0.617453</td>\n",
       "      <td>-0.597026</td>\n",
       "      <td>0.670561</td>\n",
       "      <td>0.640494</td>\n",
       "      <td>...</td>\n",
       "      <td>0.759109</td>\n",
       "      <td>0.718112</td>\n",
       "      <td>-0.459895</td>\n",
       "      <td>-0.766357</td>\n",
       "      <td>0.695528</td>\n",
       "      <td>-0.671998</td>\n",
       "      <td>0.799318</td>\n",
       "      <td>-0.732826</td>\n",
       "      <td>0.887562</td>\n",
       "      <td>-0.945776</td>\n",
       "    </tr>\n",
       "  </tbody>\n",
       "</table>\n",
       "<p>1 rows × 68 columns</p>\n",
       "</div>"
      ],
      "text/plain": [
       "                                                                       category  \\\n",
       "http://dbpedia.org/resource/Jacopo_Vignali  [http://dbpedia.org/resource/Italy]   \n",
       "\n",
       "                                                                                        input  \\\n",
       "http://dbpedia.org/resource/Jacopo_Vignali  [0, 0, 0, 0, 0, 0, 0, 0, 0, 0, 0, 0, 0, 0, 0, ...   \n",
       "\n",
       "                                            true  pred  neuron_1  neuron_2  \\\n",
       "http://dbpedia.org/resource/Jacopo_Vignali     1     0  0.981528  0.612633   \n",
       "\n",
       "                                            neuron_3  neuron_4  neuron_5  \\\n",
       "http://dbpedia.org/resource/Jacopo_Vignali  0.617453 -0.597026  0.670561   \n",
       "\n",
       "                                            neuron_6  ...  neuron_55  \\\n",
       "http://dbpedia.org/resource/Jacopo_Vignali  0.640494  ...   0.759109   \n",
       "\n",
       "                                            neuron_56  neuron_57  neuron_58  \\\n",
       "http://dbpedia.org/resource/Jacopo_Vignali   0.718112  -0.459895  -0.766357   \n",
       "\n",
       "                                            neuron_59  neuron_60  neuron_61  \\\n",
       "http://dbpedia.org/resource/Jacopo_Vignali   0.695528  -0.671998   0.799318   \n",
       "\n",
       "                                            neuron_62  neuron_63  neuron_64  \n",
       "http://dbpedia.org/resource/Jacopo_Vignali  -0.732826   0.887562  -0.945776  \n",
       "\n",
       "[1 rows x 68 columns]"
      ]
     },
     "execution_count": 82,
     "metadata": {},
     "output_type": "execute_result"
    }
   ],
   "source": [
    "sample = get_sample(df, cat='http://dbpedia.org/resource/Italy')\n",
    "sample"
   ]
  },
  {
   "cell_type": "code",
   "execution_count": 83,
   "id": "b16fa10a",
   "metadata": {},
   "outputs": [
    {
     "data": {
      "text/plain": [
       "'http://dbpedia.org/resource/Jacopo_Vignali'"
      ]
     },
     "execution_count": 83,
     "metadata": {},
     "output_type": "execute_result"
    }
   ],
   "source": [
    "sample_index = sample.index[0]\n",
    "sample_index"
   ]
  },
  {
   "cell_type": "code",
   "execution_count": 84,
   "id": "276c84c4",
   "metadata": {},
   "outputs": [],
   "source": [
    "df_fa = pd.read_pickle(os.path.join('src', 'visualizer_data', 'activations', 'painters_ds', 'embedding-raw.pkl'))"
   ]
  },
  {
   "cell_type": "code",
   "execution_count": 93,
   "id": "173dee4a",
   "metadata": {},
   "outputs": [],
   "source": [
    "df_s = standardize(df_fa.iloc[:, 4:])"
   ]
  },
  {
   "cell_type": "code",
   "execution_count": 99,
   "id": "66bd646a",
   "metadata": {},
   "outputs": [
    {
     "data": {
      "text/html": [
       "<div>\n",
       "<style scoped>\n",
       "    .dataframe tbody tr th:only-of-type {\n",
       "        vertical-align: middle;\n",
       "    }\n",
       "\n",
       "    .dataframe tbody tr th {\n",
       "        vertical-align: top;\n",
       "    }\n",
       "\n",
       "    .dataframe thead th {\n",
       "        text-align: right;\n",
       "    }\n",
       "</style>\n",
       "<table border=\"1\" class=\"dataframe\">\n",
       "  <thead>\n",
       "    <tr style=\"text-align: right;\">\n",
       "      <th></th>\n",
       "      <th>0</th>\n",
       "      <th>1</th>\n",
       "      <th>2</th>\n",
       "      <th>3</th>\n",
       "      <th>4</th>\n",
       "      <th>5</th>\n",
       "      <th>6</th>\n",
       "      <th>7</th>\n",
       "      <th>8</th>\n",
       "      <th>9</th>\n",
       "      <th>...</th>\n",
       "      <th>54</th>\n",
       "      <th>55</th>\n",
       "      <th>56</th>\n",
       "      <th>57</th>\n",
       "      <th>58</th>\n",
       "      <th>59</th>\n",
       "      <th>60</th>\n",
       "      <th>61</th>\n",
       "      <th>62</th>\n",
       "      <th>63</th>\n",
       "    </tr>\n",
       "  </thead>\n",
       "  <tbody>\n",
       "    <tr>\n",
       "      <th>0</th>\n",
       "      <td>0.302142</td>\n",
       "      <td>0.202141</td>\n",
       "      <td>0.247663</td>\n",
       "      <td>-0.209159</td>\n",
       "      <td>0.152212</td>\n",
       "      <td>0.114047</td>\n",
       "      <td>-0.362816</td>\n",
       "      <td>0.321073</td>\n",
       "      <td>-0.157829</td>\n",
       "      <td>-0.37622</td>\n",
       "      <td>...</td>\n",
       "      <td>0.393666</td>\n",
       "      <td>0.37679</td>\n",
       "      <td>-0.136705</td>\n",
       "      <td>-0.396767</td>\n",
       "      <td>0.252154</td>\n",
       "      <td>-0.346981</td>\n",
       "      <td>0.293302</td>\n",
       "      <td>-0.248814</td>\n",
       "      <td>0.366618</td>\n",
       "      <td>-0.214513</td>\n",
       "    </tr>\n",
       "  </tbody>\n",
       "</table>\n",
       "<p>1 rows × 64 columns</p>\n",
       "</div>"
      ],
      "text/plain": [
       "         0         1         2         3         4         5         6   \\\n",
       "0  0.302142  0.202141  0.247663 -0.209159  0.152212  0.114047 -0.362816   \n",
       "\n",
       "         7         8        9   ...        54       55        56        57  \\\n",
       "0  0.321073 -0.157829 -0.37622  ...  0.393666  0.37679 -0.136705 -0.396767   \n",
       "\n",
       "         58        59        60        61        62        63  \n",
       "0  0.252154 -0.346981  0.293302 -0.248814  0.366618 -0.214513  \n",
       "\n",
       "[1 rows x 64 columns]"
      ]
     },
     "execution_count": 99,
     "metadata": {},
     "output_type": "execute_result"
    }
   ],
   "source": [
    "pd.DataFrame(pd.DataFrame(df_s[df_s.index == sample_index].to_numpy().reshape(-1, 64)).mean()).T"
   ]
  },
  {
   "cell_type": "code",
   "execution_count": 85,
   "id": "64687645",
   "metadata": {},
   "outputs": [
    {
     "data": {
      "text/html": [
       "<div>\n",
       "<style scoped>\n",
       "    .dataframe tbody tr th:only-of-type {\n",
       "        vertical-align: middle;\n",
       "    }\n",
       "\n",
       "    .dataframe tbody tr th {\n",
       "        vertical-align: top;\n",
       "    }\n",
       "\n",
       "    .dataframe thead th {\n",
       "        text-align: right;\n",
       "    }\n",
       "</style>\n",
       "<table border=\"1\" class=\"dataframe\">\n",
       "  <thead>\n",
       "    <tr style=\"text-align: right;\">\n",
       "      <th></th>\n",
       "      <th>category</th>\n",
       "      <th>input</th>\n",
       "      <th>true</th>\n",
       "      <th>pred</th>\n",
       "      <th>0</th>\n",
       "      <th>1</th>\n",
       "      <th>2</th>\n",
       "      <th>3</th>\n",
       "      <th>4</th>\n",
       "      <th>5</th>\n",
       "      <th>...</th>\n",
       "      <th>9590</th>\n",
       "      <th>9591</th>\n",
       "      <th>9592</th>\n",
       "      <th>9593</th>\n",
       "      <th>9594</th>\n",
       "      <th>9595</th>\n",
       "      <th>9596</th>\n",
       "      <th>9597</th>\n",
       "      <th>9598</th>\n",
       "      <th>9599</th>\n",
       "    </tr>\n",
       "  </thead>\n",
       "  <tbody>\n",
       "    <tr>\n",
       "      <th>http://dbpedia.org/resource/Jacopo_Vignali</th>\n",
       "      <td>[http://dbpedia.org/resource/Italy]</td>\n",
       "      <td>[0, 0, 0, 0, 0, 0, 0, 0, 0, 0, 0, 0, 0, 0, 0, ...</td>\n",
       "      <td>1</td>\n",
       "      <td>0</td>\n",
       "      <td>0.01824</td>\n",
       "      <td>0.033064</td>\n",
       "      <td>0.045167</td>\n",
       "      <td>-0.038204</td>\n",
       "      <td>0.027363</td>\n",
       "      <td>-0.002155</td>\n",
       "      <td>...</td>\n",
       "      <td>0.003537</td>\n",
       "      <td>-0.058497</td>\n",
       "      <td>0.042195</td>\n",
       "      <td>-0.013293</td>\n",
       "      <td>0.021208</td>\n",
       "      <td>0.052655</td>\n",
       "      <td>-0.038614</td>\n",
       "      <td>-0.030681</td>\n",
       "      <td>-0.027246</td>\n",
       "      <td>-0.061894</td>\n",
       "    </tr>\n",
       "  </tbody>\n",
       "</table>\n",
       "<p>1 rows × 9604 columns</p>\n",
       "</div>"
      ],
      "text/plain": [
       "                                                                       category  \\\n",
       "http://dbpedia.org/resource/Jacopo_Vignali  [http://dbpedia.org/resource/Italy]   \n",
       "\n",
       "                                                                                        input  \\\n",
       "http://dbpedia.org/resource/Jacopo_Vignali  [0, 0, 0, 0, 0, 0, 0, 0, 0, 0, 0, 0, 0, 0, 0, ...   \n",
       "\n",
       "                                            true  pred        0         1  \\\n",
       "http://dbpedia.org/resource/Jacopo_Vignali     1     0  0.01824  0.033064   \n",
       "\n",
       "                                                   2         3         4  \\\n",
       "http://dbpedia.org/resource/Jacopo_Vignali  0.045167 -0.038204  0.027363   \n",
       "\n",
       "                                                   5  ...      9590      9591  \\\n",
       "http://dbpedia.org/resource/Jacopo_Vignali -0.002155  ...  0.003537 -0.058497   \n",
       "\n",
       "                                                9592      9593      9594  \\\n",
       "http://dbpedia.org/resource/Jacopo_Vignali  0.042195 -0.013293  0.021208   \n",
       "\n",
       "                                                9595      9596      9597  \\\n",
       "http://dbpedia.org/resource/Jacopo_Vignali  0.052655 -0.038614 -0.030681   \n",
       "\n",
       "                                                9598      9599  \n",
       "http://dbpedia.org/resource/Jacopo_Vignali -0.027246 -0.061894  \n",
       "\n",
       "[1 rows x 9604 columns]"
      ]
     },
     "execution_count": 85,
     "metadata": {},
     "output_type": "execute_result"
    }
   ],
   "source": [
    "df_fa[df_fa.index == sample_index]"
   ]
  },
  {
   "cell_type": "code",
   "execution_count": 88,
   "id": "886d6014",
   "metadata": {},
   "outputs": [
    {
     "data": {
      "text/plain": [
       "array([[0.018239787, 0.0330644, 0.045167074, ..., -0.037980087,\n",
       "        0.034873746, -0.012977618],\n",
       "       [0.018239787, 0.0330644, 0.045167074, ..., -0.037980087,\n",
       "        0.034873746, -0.012977618],\n",
       "       [0.018239787, 0.0330644, 0.045167074, ..., -0.037980087,\n",
       "        0.034873746, -0.012977618],\n",
       "       ...,\n",
       "       [-0.07048481, -0.034919675, -0.07680662, ..., 0.041424096,\n",
       "        -0.017329695, 0.04023082],\n",
       "       [0.07325929, -0.073582985, -0.063237, ..., 0.0634019, 0.033525888,\n",
       "        -0.060929965],\n",
       "       [-0.030371526, -0.08505992, -0.05513349, ..., -0.0012984888,\n",
       "        0.01700694, -0.05379531]], dtype=object)"
      ]
     },
     "execution_count": 88,
     "metadata": {},
     "output_type": "execute_result"
    }
   ],
   "source": [
    "sample_act_raw = df_fa.iloc[0, 4:].to_numpy().reshape(-1, 64)\n",
    "sample_act_raw"
   ]
  },
  {
   "cell_type": "code",
   "execution_count": 90,
   "id": "e270d986",
   "metadata": {},
   "outputs": [
    {
     "data": {
      "text/plain": [
       "0     0.015262\n",
       "1     0.024435\n",
       "2     0.035410\n",
       "3    -0.031234\n",
       "4     0.020837\n",
       "        ...   \n",
       "59   -0.067252\n",
       "60    0.031596\n",
       "61   -0.030866\n",
       "62    0.031695\n",
       "63   -0.012747\n",
       "Length: 64, dtype: float64"
      ]
     },
     "execution_count": 90,
     "metadata": {},
     "output_type": "execute_result"
    }
   ],
   "source": [
    "pd.DataFrame(sample_act_raw).mean()"
   ]
  },
  {
   "cell_type": "code",
   "execution_count": null,
   "id": "30e92bb4",
   "metadata": {},
   "outputs": [],
   "source": []
  }
 ],
 "metadata": {
  "kernelspec": {
   "display_name": "rnn-films",
   "language": "python",
   "name": "rnn-films"
  },
  "language_info": {
   "codemirror_mode": {
    "name": "ipython",
    "version": 3
   },
   "file_extension": ".py",
   "mimetype": "text/x-python",
   "name": "python",
   "nbconvert_exporter": "python",
   "pygments_lexer": "ipython3",
   "version": "3.9.7"
  }
 },
 "nbformat": 4,
 "nbformat_minor": 5
}
