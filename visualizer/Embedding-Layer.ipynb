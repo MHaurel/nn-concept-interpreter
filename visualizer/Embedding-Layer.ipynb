{
 "cells": [
  {
   "cell_type": "markdown",
   "id": "454e8ea2",
   "metadata": {
    "pycharm": {
     "name": "#%% md\n"
    }
   },
   "source": [
    "# Understand Embedding layer"
   ]
  },
  {
   "cell_type": "markdown",
   "id": "746d7139",
   "metadata": {
    "pycharm": {
     "name": "#%% md\n"
    }
   },
   "source": [
    "## Reformatting embedding activations shape\n",
    "\n",
    "Using flatten and reshape"
   ]
  },
  {
   "cell_type": "code",
   "execution_count": 13,
   "id": "ccb73b1f",
   "metadata": {
    "pycharm": {
     "name": "#%%\n"
    }
   },
   "outputs": [],
   "source": [
    "import keras\n",
    "import pandas as pd\n",
    "\n",
    "from keras.models import Sequential\n",
    "from keras.layers import *"
   ]
  },
  {
   "cell_type": "code",
   "execution_count": 14,
   "id": "a8f735a9",
   "metadata": {
    "pycharm": {
     "name": "#%%\n"
    }
   },
   "outputs": [
    {
     "name": "stdout",
     "output_type": "stream",
     "text": [
      "Model: \"sequential_3\"\n",
      "_________________________________________________________________\n",
      " Layer (type)                Output Shape              Param #   \n",
      "=================================================================\n",
      " embedding (Embedding)       (None, 100, 64)           640000    \n",
      "                                                                 \n",
      "=================================================================\n",
      "Total params: 640,000\n",
      "Trainable params: 640,000\n",
      "Non-trainable params: 0\n",
      "_________________________________________________________________\n"
     ]
    }
   ],
   "source": [
    "model = keras.models.load_model('./models/bycountry_model')\n",
    "new_model = Sequential()\n",
    "new_model.add(model.layers[0])\n",
    "new_model.summary()"
   ]
  },
  {
   "cell_type": "code",
   "execution_count": 15,
   "id": "26baf37f",
   "metadata": {
    "pycharm": {
     "name": "#%%\n"
    }
   },
   "outputs": [
    {
     "data": {
      "text/html": [
       "<div>\n",
       "<style scoped>\n",
       "    .dataframe tbody tr th:only-of-type {\n",
       "        vertical-align: middle;\n",
       "    }\n",
       "\n",
       "    .dataframe tbody tr th {\n",
       "        vertical-align: top;\n",
       "    }\n",
       "\n",
       "    .dataframe thead th {\n",
       "        text-align: right;\n",
       "    }\n",
       "</style>\n",
       "<table border=\"1\" class=\"dataframe\">\n",
       "  <thead>\n",
       "    <tr style=\"text-align: right;\">\n",
       "      <th></th>\n",
       "      <th>category</th>\n",
       "      <th>input</th>\n",
       "      <th>output_low</th>\n",
       "      <th>output_medium</th>\n",
       "      <th>output_high</th>\n",
       "    </tr>\n",
       "  </thead>\n",
       "  <tbody>\n",
       "    <tr>\n",
       "      <th>http://dbpedia.org/resource/...All_the_Marbles</th>\n",
       "      <td>[United States]</td>\n",
       "      <td>[0, 0, 0, 0, 0, 0, 0, 0, 0, 0, 0, 0, 0, 0, 0, ...</td>\n",
       "      <td>0</td>\n",
       "      <td>1</td>\n",
       "      <td>0</td>\n",
       "    </tr>\n",
       "    <tr>\n",
       "      <th>http://dbpedia.org/resource/An_Eye_for_an_Eye_(1981_film)</th>\n",
       "      <td>[United States]</td>\n",
       "      <td>[0, 0, 0, 0, 0, 0, 0, 0, 0, 0, 0, 0, 0, 0, 0, ...</td>\n",
       "      <td>0</td>\n",
       "      <td>1</td>\n",
       "      <td>0</td>\n",
       "    </tr>\n",
       "    <tr>\n",
       "      <th>http://dbpedia.org/resource/Brain_Dead_(1990_film)</th>\n",
       "      <td>[United States]</td>\n",
       "      <td>[0, 0, 0, 0, 0, 0, 0, 0, 0, 0, 0, 0, 0, 0, 0, ...</td>\n",
       "      <td>0</td>\n",
       "      <td>1</td>\n",
       "      <td>0</td>\n",
       "    </tr>\n",
       "    <tr>\n",
       "      <th>http://dbpedia.org/resource/For_Pete's_Sake_(film)</th>\n",
       "      <td>[United States]</td>\n",
       "      <td>[0, 0, 0, 0, 0, 0, 0, 0, 0, 0, 0, 0, 0, 0, 0, ...</td>\n",
       "      <td>0</td>\n",
       "      <td>1</td>\n",
       "      <td>0</td>\n",
       "    </tr>\n",
       "    <tr>\n",
       "      <th>http://dbpedia.org/resource/Hannah_Montana:_The_Movie</th>\n",
       "      <td>[United States]</td>\n",
       "      <td>[25, 6677, 48, 2, 138, 5, 331, 1, 7, 25, 6983,...</td>\n",
       "      <td>0</td>\n",
       "      <td>0</td>\n",
       "      <td>1</td>\n",
       "    </tr>\n",
       "  </tbody>\n",
       "</table>\n",
       "</div>"
      ],
      "text/plain": [
       "                                                           category  \\\n",
       "http://dbpedia.org/resource/...All_the_Marbles      [United States]   \n",
       "http://dbpedia.org/resource/An_Eye_for_an_Eye_(...  [United States]   \n",
       "http://dbpedia.org/resource/Brain_Dead_(1990_film)  [United States]   \n",
       "http://dbpedia.org/resource/For_Pete's_Sake_(film)  [United States]   \n",
       "http://dbpedia.org/resource/Hannah_Montana:_The...  [United States]   \n",
       "\n",
       "                                                                                                input  \\\n",
       "http://dbpedia.org/resource/...All_the_Marbles      [0, 0, 0, 0, 0, 0, 0, 0, 0, 0, 0, 0, 0, 0, 0, ...   \n",
       "http://dbpedia.org/resource/An_Eye_for_an_Eye_(...  [0, 0, 0, 0, 0, 0, 0, 0, 0, 0, 0, 0, 0, 0, 0, ...   \n",
       "http://dbpedia.org/resource/Brain_Dead_(1990_film)  [0, 0, 0, 0, 0, 0, 0, 0, 0, 0, 0, 0, 0, 0, 0, ...   \n",
       "http://dbpedia.org/resource/For_Pete's_Sake_(film)  [0, 0, 0, 0, 0, 0, 0, 0, 0, 0, 0, 0, 0, 0, 0, ...   \n",
       "http://dbpedia.org/resource/Hannah_Montana:_The...  [25, 6677, 48, 2, 138, 5, 331, 1, 7, 25, 6983,...   \n",
       "\n",
       "                                                    output_low  output_medium  \\\n",
       "http://dbpedia.org/resource/...All_the_Marbles               0              1   \n",
       "http://dbpedia.org/resource/An_Eye_for_an_Eye_(...           0              1   \n",
       "http://dbpedia.org/resource/Brain_Dead_(1990_film)           0              1   \n",
       "http://dbpedia.org/resource/For_Pete's_Sake_(film)           0              1   \n",
       "http://dbpedia.org/resource/Hannah_Montana:_The...           0              0   \n",
       "\n",
       "                                                    output_high  \n",
       "http://dbpedia.org/resource/...All_the_Marbles                0  \n",
       "http://dbpedia.org/resource/An_Eye_for_an_Eye_(...            0  \n",
       "http://dbpedia.org/resource/Brain_Dead_(1990_film)            0  \n",
       "http://dbpedia.org/resource/For_Pete's_Sake_(film)            0  \n",
       "http://dbpedia.org/resource/Hannah_Montana:_The...            1  "
      ]
     },
     "execution_count": 15,
     "metadata": {},
     "output_type": "execute_result"
    }
   ],
   "source": [
    "df = pd.read_json('./data/bycountry_ds.json')\n",
    "df.head()"
   ]
  },
  {
   "cell_type": "code",
   "execution_count": 29,
   "id": "bce01615",
   "metadata": {
    "pycharm": {
     "name": "#%%\n"
    }
   },
   "outputs": [
    {
     "name": "stdout",
     "output_type": "stream",
     "text": [
      "544/544 [==============================] - 0s 681us/step\n"
     ]
    },
    {
     "data": {
      "text/plain": [
       "(17403, 100, 64)"
      ]
     },
     "execution_count": 29,
     "metadata": {},
     "output_type": "execute_result"
    }
   ],
   "source": [
    "inputs = [x for x in df.input]\n",
    "activations = new_model.predict(inputs)\n",
    "activations.shape"
   ]
  },
  {
   "cell_type": "code",
   "execution_count": 30,
   "id": "a3d6d913",
   "metadata": {
    "pycharm": {
     "name": "#%%\n"
    }
   },
   "outputs": [],
   "source": [
    "flatten_activations = activations.flatten()"
   ]
  },
  {
   "cell_type": "code",
   "execution_count": 31,
   "id": "dd86bb46",
   "metadata": {
    "pycharm": {
     "name": "#%%\n"
    }
   },
   "outputs": [],
   "source": [
    "activations = flatten_activations.reshape(64, -1)"
   ]
  },
  {
   "cell_type": "code",
   "execution_count": 32,
   "id": "71fc4f5f",
   "metadata": {
    "pycharm": {
     "name": "#%%\n"
    }
   },
   "outputs": [
    {
     "data": {
      "text/html": [
       "<div>\n",
       "<style scoped>\n",
       "    .dataframe tbody tr th:only-of-type {\n",
       "        vertical-align: middle;\n",
       "    }\n",
       "\n",
       "    .dataframe tbody tr th {\n",
       "        vertical-align: top;\n",
       "    }\n",
       "\n",
       "    .dataframe thead th {\n",
       "        text-align: right;\n",
       "    }\n",
       "</style>\n",
       "<table border=\"1\" class=\"dataframe\">\n",
       "  <thead>\n",
       "    <tr style=\"text-align: right;\">\n",
       "      <th></th>\n",
       "      <th>0</th>\n",
       "      <th>1</th>\n",
       "      <th>2</th>\n",
       "      <th>3</th>\n",
       "      <th>4</th>\n",
       "      <th>5</th>\n",
       "      <th>6</th>\n",
       "      <th>7</th>\n",
       "      <th>8</th>\n",
       "      <th>9</th>\n",
       "      <th>...</th>\n",
       "      <th>1740290</th>\n",
       "      <th>1740291</th>\n",
       "      <th>1740292</th>\n",
       "      <th>1740293</th>\n",
       "      <th>1740294</th>\n",
       "      <th>1740295</th>\n",
       "      <th>1740296</th>\n",
       "      <th>1740297</th>\n",
       "      <th>1740298</th>\n",
       "      <th>1740299</th>\n",
       "    </tr>\n",
       "  </thead>\n",
       "  <tbody>\n",
       "    <tr>\n",
       "      <th>0</th>\n",
       "      <td>0.039747</td>\n",
       "      <td>-0.019695</td>\n",
       "      <td>-0.034212</td>\n",
       "      <td>0.013875</td>\n",
       "      <td>-0.006768</td>\n",
       "      <td>-0.027497</td>\n",
       "      <td>-0.002492</td>\n",
       "      <td>0.006977</td>\n",
       "      <td>-0.012125</td>\n",
       "      <td>-0.005127</td>\n",
       "      <td>...</td>\n",
       "      <td>0.043842</td>\n",
       "      <td>-0.029589</td>\n",
       "      <td>0.029421</td>\n",
       "      <td>0.023205</td>\n",
       "      <td>-0.004205</td>\n",
       "      <td>-0.044950</td>\n",
       "      <td>-0.078792</td>\n",
       "      <td>0.008838</td>\n",
       "      <td>-0.027779</td>\n",
       "      <td>0.063462</td>\n",
       "    </tr>\n",
       "    <tr>\n",
       "      <th>1</th>\n",
       "      <td>0.083132</td>\n",
       "      <td>-0.033289</td>\n",
       "      <td>0.014021</td>\n",
       "      <td>0.056810</td>\n",
       "      <td>-0.038771</td>\n",
       "      <td>-0.063809</td>\n",
       "      <td>-0.080149</td>\n",
       "      <td>-0.025952</td>\n",
       "      <td>0.002706</td>\n",
       "      <td>-0.060284</td>\n",
       "      <td>...</td>\n",
       "      <td>0.025883</td>\n",
       "      <td>-0.006145</td>\n",
       "      <td>-0.049136</td>\n",
       "      <td>-0.051173</td>\n",
       "      <td>0.002770</td>\n",
       "      <td>0.019913</td>\n",
       "      <td>-0.018239</td>\n",
       "      <td>-0.006167</td>\n",
       "      <td>-0.071103</td>\n",
       "      <td>0.000276</td>\n",
       "    </tr>\n",
       "    <tr>\n",
       "      <th>2</th>\n",
       "      <td>-0.073031</td>\n",
       "      <td>-0.042128</td>\n",
       "      <td>-0.009223</td>\n",
       "      <td>-0.006004</td>\n",
       "      <td>-0.007434</td>\n",
       "      <td>0.023129</td>\n",
       "      <td>0.039719</td>\n",
       "      <td>0.038422</td>\n",
       "      <td>-0.018450</td>\n",
       "      <td>-0.003013</td>\n",
       "      <td>...</td>\n",
       "      <td>0.025879</td>\n",
       "      <td>0.002695</td>\n",
       "      <td>-0.016780</td>\n",
       "      <td>-0.016574</td>\n",
       "      <td>-0.016934</td>\n",
       "      <td>0.017754</td>\n",
       "      <td>0.040748</td>\n",
       "      <td>-0.010469</td>\n",
       "      <td>0.015730</td>\n",
       "      <td>0.055091</td>\n",
       "    </tr>\n",
       "    <tr>\n",
       "      <th>3</th>\n",
       "      <td>0.020319</td>\n",
       "      <td>0.002041</td>\n",
       "      <td>-0.330534</td>\n",
       "      <td>-0.013534</td>\n",
       "      <td>0.010805</td>\n",
       "      <td>0.017232</td>\n",
       "      <td>-0.007957</td>\n",
       "      <td>0.027219</td>\n",
       "      <td>-0.001712</td>\n",
       "      <td>0.005996</td>\n",
       "      <td>...</td>\n",
       "      <td>0.114419</td>\n",
       "      <td>-0.002460</td>\n",
       "      <td>0.048312</td>\n",
       "      <td>0.045513</td>\n",
       "      <td>0.007434</td>\n",
       "      <td>0.014343</td>\n",
       "      <td>-0.024378</td>\n",
       "      <td>-0.009294</td>\n",
       "      <td>0.059597</td>\n",
       "      <td>0.056978</td>\n",
       "    </tr>\n",
       "    <tr>\n",
       "      <th>4</th>\n",
       "      <td>0.014964</td>\n",
       "      <td>-0.050706</td>\n",
       "      <td>0.019785</td>\n",
       "      <td>-0.004439</td>\n",
       "      <td>0.025644</td>\n",
       "      <td>0.095024</td>\n",
       "      <td>0.013421</td>\n",
       "      <td>-0.014450</td>\n",
       "      <td>-0.042372</td>\n",
       "      <td>-0.022922</td>\n",
       "      <td>...</td>\n",
       "      <td>-0.014151</td>\n",
       "      <td>-0.022551</td>\n",
       "      <td>-0.000939</td>\n",
       "      <td>-0.033253</td>\n",
       "      <td>-0.012630</td>\n",
       "      <td>0.002452</td>\n",
       "      <td>0.037097</td>\n",
       "      <td>-0.012935</td>\n",
       "      <td>0.038586</td>\n",
       "      <td>0.005274</td>\n",
       "    </tr>\n",
       "  </tbody>\n",
       "</table>\n",
       "<p>5 rows × 1740300 columns</p>\n",
       "</div>"
      ],
      "text/plain": [
       "    0         1         2         3         4         5         6        \\\n",
       "0  0.039747 -0.019695 -0.034212  0.013875 -0.006768 -0.027497 -0.002492   \n",
       "1  0.083132 -0.033289  0.014021  0.056810 -0.038771 -0.063809 -0.080149   \n",
       "2 -0.073031 -0.042128 -0.009223 -0.006004 -0.007434  0.023129  0.039719   \n",
       "3  0.020319  0.002041 -0.330534 -0.013534  0.010805  0.017232 -0.007957   \n",
       "4  0.014964 -0.050706  0.019785 -0.004439  0.025644  0.095024  0.013421   \n",
       "\n",
       "    7         8         9        ...   1740290   1740291   1740292   1740293  \\\n",
       "0  0.006977 -0.012125 -0.005127  ...  0.043842 -0.029589  0.029421  0.023205   \n",
       "1 -0.025952  0.002706 -0.060284  ...  0.025883 -0.006145 -0.049136 -0.051173   \n",
       "2  0.038422 -0.018450 -0.003013  ...  0.025879  0.002695 -0.016780 -0.016574   \n",
       "3  0.027219 -0.001712  0.005996  ...  0.114419 -0.002460  0.048312  0.045513   \n",
       "4 -0.014450 -0.042372 -0.022922  ... -0.014151 -0.022551 -0.000939 -0.033253   \n",
       "\n",
       "    1740294   1740295   1740296   1740297   1740298   1740299  \n",
       "0 -0.004205 -0.044950 -0.078792  0.008838 -0.027779  0.063462  \n",
       "1  0.002770  0.019913 -0.018239 -0.006167 -0.071103  0.000276  \n",
       "2 -0.016934  0.017754  0.040748 -0.010469  0.015730  0.055091  \n",
       "3  0.007434  0.014343 -0.024378 -0.009294  0.059597  0.056978  \n",
       "4 -0.012630  0.002452  0.037097 -0.012935  0.038586  0.005274  \n",
       "\n",
       "[5 rows x 1740300 columns]"
      ]
     },
     "execution_count": 32,
     "metadata": {},
     "output_type": "execute_result"
    }
   ],
   "source": [
    "pd.DataFrame(activations).head()"
   ]
  },
  {
   "cell_type": "code",
   "execution_count": null,
   "id": "44dbc82d",
   "metadata": {
    "pycharm": {
     "name": "#%%\n"
    }
   },
   "outputs": [],
   "source": []
  }
 ],
 "metadata": {
  "kernelspec": {
   "display_name": "rnn-films",
   "language": "python",
   "name": "rnn-films"
  },
  "language_info": {
   "codemirror_mode": {
    "name": "ipython",
    "version": 3
   },
   "file_extension": ".py",
   "mimetype": "text/x-python",
   "name": "python",
   "nbconvert_exporter": "python",
   "pygments_lexer": "ipython3",
   "version": "3.9.7"
  }
 },
 "nbformat": 4,
 "nbformat_minor": 5
}