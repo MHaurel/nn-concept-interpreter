{
 "cells": [
  {
   "cell_type": "markdown",
   "id": "ead0b9c4",
   "metadata": {},
   "source": [
    "# Trying to boost a category (concept)"
   ]
  },
  {
   "cell_type": "code",
   "execution_count": 1,
   "id": "6cccede7",
   "metadata": {},
   "outputs": [],
   "source": [
    "import os\n",
    "import pandas as pd\n",
    "import numpy as np\n",
    "\n",
    "%matplotlib inline\n",
    "import matplotlib.pyplot as plt\n",
    "import seaborn as sns\n",
    "\n",
    "import tensorflow as tf\n",
    "from tensorflow import keras\n",
    "from tensorflow.keras.models import Sequential\n",
    "from tensorflow.keras.layers import Dense"
   ]
  },
  {
   "cell_type": "code",
   "execution_count": 2,
   "id": "47adb163",
   "metadata": {},
   "outputs": [
    {
     "name": "stdout",
     "output_type": "stream",
     "text": [
      "Model: \"sequential\"\n",
      "_________________________________________________________________\n",
      " Layer (type)                Output Shape              Param #   \n",
      "=================================================================\n",
      " embedding (Embedding)       (None, 150, 64)           640000    \n",
      "                                                                 \n",
      " lstm (LSTM)                 (None, 16)                5184      \n",
      "                                                                 \n",
      " dense (Dense)               (None, 8)                 136       \n",
      "                                                                 \n",
      " dropout (Dropout)           (None, 8)                 0         \n",
      "                                                                 \n",
      " dense_1 (Dense)             (None, 4)                 36        \n",
      "                                                                 \n",
      " dense_2 (Dense)             (None, 1)                 5         \n",
      "                                                                 \n",
      "=================================================================\n",
      "Total params: 645,361\n",
      "Trainable params: 645,361\n",
      "Non-trainable params: 0\n",
      "_________________________________________________________________\n"
     ]
    }
   ],
   "source": [
    "model = keras.models.load_model(os.path.join('models', 'painter_model'))\n",
    "model.summary()"
   ]
  },
  {
   "cell_type": "code",
   "execution_count": 3,
   "id": "bdd9de79",
   "metadata": {},
   "outputs": [],
   "source": [
    "dirname = \"painters_ds\""
   ]
  },
  {
   "cell_type": "code",
   "execution_count": 4,
   "id": "b28779e7",
   "metadata": {},
   "outputs": [
    {
     "data": {
      "text/html": [
       "<div>\n",
       "<style scoped>\n",
       "    .dataframe tbody tr th:only-of-type {\n",
       "        vertical-align: middle;\n",
       "    }\n",
       "\n",
       "    .dataframe tbody tr th {\n",
       "        vertical-align: top;\n",
       "    }\n",
       "\n",
       "    .dataframe thead th {\n",
       "        text-align: right;\n",
       "    }\n",
       "</style>\n",
       "<table border=\"1\" class=\"dataframe\">\n",
       "  <thead>\n",
       "    <tr style=\"text-align: right;\">\n",
       "      <th></th>\n",
       "      <th>category</th>\n",
       "      <th>input</th>\n",
       "      <th>output</th>\n",
       "    </tr>\n",
       "  </thead>\n",
       "  <tbody>\n",
       "    <tr>\n",
       "      <th>http://dbpedia.org/resource/Alexander_Semionov</th>\n",
       "      <td>[http://dbpedia.org/resource/Russia]</td>\n",
       "      <td>[0, 0, 0, 0, 0, 0, 0, 0, 0, 0, 0, 0, 0, 0, 0, ...</td>\n",
       "      <td>1</td>\n",
       "    </tr>\n",
       "    <tr>\n",
       "      <th>http://dbpedia.org/resource/Howardena_Pindell</th>\n",
       "      <td>[http://dbpedia.org/resource/United_States]</td>\n",
       "      <td>[0, 0, 0, 0, 0, 0, 0, 0, 0, 0, 0, 0, 0, 0, 0, ...</td>\n",
       "      <td>1</td>\n",
       "    </tr>\n",
       "    <tr>\n",
       "      <th>http://dbpedia.org/resource/Étienne_Moreau-Nélaton</th>\n",
       "      <td>[http://dbpedia.org/resource/France]</td>\n",
       "      <td>[0, 0, 0, 0, 0, 0, 0, 0, 0, 0, 0, 0, 0, 0, 0, ...</td>\n",
       "      <td>1</td>\n",
       "    </tr>\n",
       "  </tbody>\n",
       "</table>\n",
       "</div>"
      ],
      "text/plain": [
       "                                                                                       category  \\\n",
       "http://dbpedia.org/resource/Alexander_Semionov             [http://dbpedia.org/resource/Russia]   \n",
       "http://dbpedia.org/resource/Howardena_Pindell       [http://dbpedia.org/resource/United_States]   \n",
       "http://dbpedia.org/resource/Étienne_Moreau-Nélaton         [http://dbpedia.org/resource/France]   \n",
       "\n",
       "                                                                                                input  \\\n",
       "http://dbpedia.org/resource/Alexander_Semionov      [0, 0, 0, 0, 0, 0, 0, 0, 0, 0, 0, 0, 0, 0, 0, ...   \n",
       "http://dbpedia.org/resource/Howardena_Pindell       [0, 0, 0, 0, 0, 0, 0, 0, 0, 0, 0, 0, 0, 0, 0, ...   \n",
       "http://dbpedia.org/resource/Étienne_Moreau-Nélaton  [0, 0, 0, 0, 0, 0, 0, 0, 0, 0, 0, 0, 0, 0, 0, ...   \n",
       "\n",
       "                                                    output  \n",
       "http://dbpedia.org/resource/Alexander_Semionov           1  \n",
       "http://dbpedia.org/resource/Howardena_Pindell            1  \n",
       "http://dbpedia.org/resource/Étienne_Moreau-Nélaton       1  "
      ]
     },
     "execution_count": 4,
     "metadata": {},
     "output_type": "execute_result"
    }
   ],
   "source": [
    "wdf = pd.read_json('./data/' + dirname + \".json\")\n",
    "wdf.head(3)"
   ]
  },
  {
   "cell_type": "code",
   "execution_count": 6,
   "id": "01f5586c",
   "metadata": {},
   "outputs": [],
   "source": [
    "dfs = []\n",
    "for filename in os.listdir(os.path.join('visualizer_data', 'activations', dirname)):\n",
    "    if filename.split('.')[-1] == 'pkl' and 'table_data' not in filename:\n",
    "        dfs.append(pd.read_pickle(os.path.join('visualizer_data', 'activations', dirname, filename)))"
   ]
  },
  {
   "cell_type": "code",
   "execution_count": 67,
   "id": "63c9a0ad",
   "metadata": {},
   "outputs": [
    {
     "name": "stdout",
     "output_type": "stream",
     "text": [
      "Using layer embedding\n"
     ]
    }
   ],
   "source": [
    "layer_to_explore = 0\n",
    "df = dfs[layer_to_explore]\n",
    "print(f\"Using layer {model.layers[layer_to_explore].name}\")"
   ]
  },
  {
   "cell_type": "code",
   "execution_count": 68,
   "id": "8d2d275d",
   "metadata": {},
   "outputs": [
    {
     "data": {
      "text/html": [
       "<div>\n",
       "<style scoped>\n",
       "    .dataframe tbody tr th:only-of-type {\n",
       "        vertical-align: middle;\n",
       "    }\n",
       "\n",
       "    .dataframe tbody tr th {\n",
       "        vertical-align: top;\n",
       "    }\n",
       "\n",
       "    .dataframe thead th {\n",
       "        text-align: right;\n",
       "    }\n",
       "</style>\n",
       "<table border=\"1\" class=\"dataframe\">\n",
       "  <thead>\n",
       "    <tr style=\"text-align: right;\">\n",
       "      <th></th>\n",
       "      <th>category</th>\n",
       "      <th>input</th>\n",
       "      <th>true</th>\n",
       "      <th>pred</th>\n",
       "      <th>neuron_1</th>\n",
       "      <th>neuron_2</th>\n",
       "      <th>neuron_3</th>\n",
       "      <th>neuron_4</th>\n",
       "      <th>neuron_5</th>\n",
       "      <th>neuron_6</th>\n",
       "      <th>...</th>\n",
       "      <th>neuron_55</th>\n",
       "      <th>neuron_56</th>\n",
       "      <th>neuron_57</th>\n",
       "      <th>neuron_58</th>\n",
       "      <th>neuron_59</th>\n",
       "      <th>neuron_60</th>\n",
       "      <th>neuron_61</th>\n",
       "      <th>neuron_62</th>\n",
       "      <th>neuron_63</th>\n",
       "      <th>neuron_64</th>\n",
       "    </tr>\n",
       "  </thead>\n",
       "  <tbody>\n",
       "    <tr>\n",
       "      <th>http://dbpedia.org/resource/Alexander_Semionov</th>\n",
       "      <td>[http://dbpedia.org/resource/Russia]</td>\n",
       "      <td>[0, 0, 0, 0, 0, 0, 0, 0, 0, 0, 0, 0, 0, 0, 0, ...</td>\n",
       "      <td>1</td>\n",
       "      <td>1</td>\n",
       "      <td>0.547359</td>\n",
       "      <td>-0.328434</td>\n",
       "      <td>-0.172445</td>\n",
       "      <td>0.069439</td>\n",
       "      <td>-0.628683</td>\n",
       "      <td>1.294147</td>\n",
       "      <td>...</td>\n",
       "      <td>0.466627</td>\n",
       "      <td>0.293625</td>\n",
       "      <td>-0.208663</td>\n",
       "      <td>-0.316626</td>\n",
       "      <td>-0.006433</td>\n",
       "      <td>-0.412829</td>\n",
       "      <td>0.242208</td>\n",
       "      <td>0.072852</td>\n",
       "      <td>0.725296</td>\n",
       "      <td>-0.755482</td>\n",
       "    </tr>\n",
       "  </tbody>\n",
       "</table>\n",
       "<p>1 rows × 68 columns</p>\n",
       "</div>"
      ],
      "text/plain": [
       "                                                                            category  \\\n",
       "http://dbpedia.org/resource/Alexander_Semionov  [http://dbpedia.org/resource/Russia]   \n",
       "\n",
       "                                                                                            input  \\\n",
       "http://dbpedia.org/resource/Alexander_Semionov  [0, 0, 0, 0, 0, 0, 0, 0, 0, 0, 0, 0, 0, 0, 0, ...   \n",
       "\n",
       "                                                true  pred  neuron_1  \\\n",
       "http://dbpedia.org/resource/Alexander_Semionov     1     1  0.547359   \n",
       "\n",
       "                                                neuron_2  neuron_3  neuron_4  \\\n",
       "http://dbpedia.org/resource/Alexander_Semionov -0.328434 -0.172445  0.069439   \n",
       "\n",
       "                                                neuron_5  neuron_6  ...  \\\n",
       "http://dbpedia.org/resource/Alexander_Semionov -0.628683  1.294147  ...   \n",
       "\n",
       "                                                neuron_55  neuron_56  \\\n",
       "http://dbpedia.org/resource/Alexander_Semionov   0.466627   0.293625   \n",
       "\n",
       "                                                neuron_57  neuron_58  \\\n",
       "http://dbpedia.org/resource/Alexander_Semionov  -0.208663  -0.316626   \n",
       "\n",
       "                                                neuron_59  neuron_60  \\\n",
       "http://dbpedia.org/resource/Alexander_Semionov  -0.006433  -0.412829   \n",
       "\n",
       "                                                neuron_61  neuron_62  \\\n",
       "http://dbpedia.org/resource/Alexander_Semionov   0.242208   0.072852   \n",
       "\n",
       "                                                neuron_63  neuron_64  \n",
       "http://dbpedia.org/resource/Alexander_Semionov   0.725296  -0.755482  \n",
       "\n",
       "[1 rows x 68 columns]"
      ]
     },
     "execution_count": 68,
     "metadata": {},
     "output_type": "execute_result"
    }
   ],
   "source": [
    "df.head(1)"
   ]
  },
  {
   "cell_type": "code",
   "execution_count": 69,
   "id": "34a68978",
   "metadata": {},
   "outputs": [
    {
     "data": {
      "text/plain": [
       "neuron_1     0.547359\n",
       "neuron_2    -0.328434\n",
       "neuron_3    -0.172445\n",
       "neuron_4     0.069439\n",
       "neuron_5    -0.628683\n",
       "               ...   \n",
       "neuron_60   -0.412829\n",
       "neuron_61    0.242208\n",
       "neuron_62    0.072852\n",
       "neuron_63    0.725296\n",
       "neuron_64   -0.755482\n",
       "Name: http://dbpedia.org/resource/Alexander_Semionov, Length: 64, dtype: object"
      ]
     },
     "execution_count": 69,
     "metadata": {},
     "output_type": "execute_result"
    }
   ],
   "source": [
    "df.iloc[0, 4:]"
   ]
  },
  {
   "cell_type": "code",
   "execution_count": 70,
   "id": "8afd8b8b",
   "metadata": {},
   "outputs": [],
   "source": [
    "def plot_activ(df, df2=None, df3=None):\n",
    "    \n",
    "#     plt.figure(figsize=(15, 6))\n",
    "#     sns.lineplot(x=range(len(df.iloc[0, :])), y=df.iloc[0, :])\n",
    "#     if df2 is not None:\n",
    "#         sns.lineplot(x=range(len(df2.iloc[0, :])), y=df2.iloc[0, :])\n",
    "#     plt.show()\n",
    "    \n",
    "#     plt.figure(figsize=(15, 6))\n",
    "#     sns.scatterplot(x=range(len(df.iloc[0, :])), y=df.iloc[0, :])\n",
    "#     if df2 is not None:\n",
    "#         sns.scatterplot(x=range(len(df2.iloc[0, :])), y=df2.iloc[0, :])\n",
    "#     plt.show()\n",
    "\n",
    "    fig, axes = plt.subplots(1, 2, figsize=(15, 6))\n",
    "    fig.suptitle('Visualizing sample vs cat')\n",
    "    \n",
    "    sns.lineplot(ax=axes[0], x=range(len(df.iloc[0, :])), y=df.iloc[0, :])\n",
    "    if df2 is not None:\n",
    "        sns.lineplot(ax=axes[0], x=range(len(df2.iloc[0, :])), y=df2.iloc[0, :])\n",
    "    if df3 is not None:\n",
    "        sns.lineplot(ax=axes[0], x=range(len(df3.iloc[0, :])), y=df3.iloc[0, :])\n",
    "    axes[0].set_title('Line plot')\n",
    "    \n",
    "    \n",
    "    sns.scatterplot(ax=axes[1], x=range(len(df.iloc[0, :])), y=df.iloc[0, :])\n",
    "    if df2 is not None:\n",
    "        sns.scatterplot(ax=axes[1], x=range(len(df2.iloc[0, :])), y=df2.iloc[0, :])\n",
    "    if df3 is not None:\n",
    "        sns.scatterplot(ax=axes[1], x=range(len(df3.iloc[0, :])), y=df3.iloc[0, :])\n",
    "    axes[1].set_title('Scatter plot')\n",
    "    \n",
    "    fig.legend(['df1', 'df2', 'df3'])\n",
    "    \n",
    "    \n",
    "def get_cat_df(df, cat):\n",
    "    return df[df.category.apply(lambda x: cat in x)]\n",
    "\n",
    "def get_mean_activations(df):\n",
    "    df_act = df.iloc[:, 4:]\n",
    "    return df_act.mean()"
   ]
  },
  {
   "cell_type": "code",
   "execution_count": 71,
   "id": "0a66a334",
   "metadata": {},
   "outputs": [],
   "source": [
    "cat = 'http://dbpedia.org/resource/Russia'"
   ]
  },
  {
   "cell_type": "code",
   "execution_count": 72,
   "id": "37137a0a",
   "metadata": {},
   "outputs": [
    {
     "data": {
      "text/html": [
       "<div>\n",
       "<style scoped>\n",
       "    .dataframe tbody tr th:only-of-type {\n",
       "        vertical-align: middle;\n",
       "    }\n",
       "\n",
       "    .dataframe tbody tr th {\n",
       "        vertical-align: top;\n",
       "    }\n",
       "\n",
       "    .dataframe thead th {\n",
       "        text-align: right;\n",
       "    }\n",
       "</style>\n",
       "<table border=\"1\" class=\"dataframe\">\n",
       "  <thead>\n",
       "    <tr style=\"text-align: right;\">\n",
       "      <th></th>\n",
       "      <th>neuron_1</th>\n",
       "      <th>neuron_2</th>\n",
       "      <th>neuron_3</th>\n",
       "      <th>neuron_4</th>\n",
       "      <th>neuron_5</th>\n",
       "      <th>neuron_6</th>\n",
       "      <th>neuron_7</th>\n",
       "      <th>neuron_8</th>\n",
       "      <th>neuron_9</th>\n",
       "      <th>neuron_10</th>\n",
       "      <th>...</th>\n",
       "      <th>neuron_55</th>\n",
       "      <th>neuron_56</th>\n",
       "      <th>neuron_57</th>\n",
       "      <th>neuron_58</th>\n",
       "      <th>neuron_59</th>\n",
       "      <th>neuron_60</th>\n",
       "      <th>neuron_61</th>\n",
       "      <th>neuron_62</th>\n",
       "      <th>neuron_63</th>\n",
       "      <th>neuron_64</th>\n",
       "    </tr>\n",
       "  </thead>\n",
       "  <tbody>\n",
       "    <tr>\n",
       "      <th>0</th>\n",
       "      <td>0.165338</td>\n",
       "      <td>-0.519022</td>\n",
       "      <td>-0.310005</td>\n",
       "      <td>0.391009</td>\n",
       "      <td>-0.775784</td>\n",
       "      <td>0.537406</td>\n",
       "      <td>-0.08439</td>\n",
       "      <td>-0.20704</td>\n",
       "      <td>0.027329</td>\n",
       "      <td>-0.238381</td>\n",
       "      <td>...</td>\n",
       "      <td>-0.040775</td>\n",
       "      <td>-0.125858</td>\n",
       "      <td>0.220746</td>\n",
       "      <td>0.132845</td>\n",
       "      <td>-0.308484</td>\n",
       "      <td>0.102303</td>\n",
       "      <td>-0.253206</td>\n",
       "      <td>0.417666</td>\n",
       "      <td>0.167214</td>\n",
       "      <td>-0.270119</td>\n",
       "    </tr>\n",
       "  </tbody>\n",
       "</table>\n",
       "<p>1 rows × 64 columns</p>\n",
       "</div>"
      ],
      "text/plain": [
       "   neuron_1  neuron_2  neuron_3  neuron_4  neuron_5  neuron_6  neuron_7  \\\n",
       "0  0.165338 -0.519022 -0.310005  0.391009 -0.775784  0.537406  -0.08439   \n",
       "\n",
       "   neuron_8  neuron_9  neuron_10  ...  neuron_55  neuron_56  neuron_57  \\\n",
       "0  -0.20704  0.027329  -0.238381  ...  -0.040775  -0.125858   0.220746   \n",
       "\n",
       "   neuron_58  neuron_59  neuron_60  neuron_61  neuron_62  neuron_63  neuron_64  \n",
       "0   0.132845  -0.308484   0.102303  -0.253206   0.417666   0.167214  -0.270119  \n",
       "\n",
       "[1 rows x 64 columns]"
      ]
     },
     "execution_count": 72,
     "metadata": {},
     "output_type": "execute_result"
    }
   ],
   "source": [
    "df_cat = get_cat_df(df, cat)\n",
    "df_mean_cat = get_mean_activations(df_cat)\n",
    "df_mean_cat = pd.DataFrame(df_mean_cat).T\n",
    "df_mean_cat"
   ]
  },
  {
   "cell_type": "code",
   "execution_count": 73,
   "id": "3da4b8f3",
   "metadata": {},
   "outputs": [
    {
     "data": {
      "image/png": "[encoded data removed]",
      "text/plain": [
       "<Figure size 1080x432 with 2 Axes>"
      ]
     },
     "metadata": {
      "needs_background": "light"
     },
     "output_type": "display_data"
    }
   ],
   "source": [
    "plot_activ(df_mean_cat)"
   ]
  },
  {
   "cell_type": "code",
   "execution_count": 74,
   "id": "914dbb3b",
   "metadata": {},
   "outputs": [],
   "source": [
    "def get_sample(df, cat=None):\n",
    "    if cat is None:\n",
    "        return df[df.pred != df.true].sample(n=1)\n",
    "    else:\n",
    "        return get_cat_df(df, cat)[df.pred != df.true].sample(n=1)"
   ]
  },
  {
   "cell_type": "code",
   "execution_count": 75,
   "id": "761d7198",
   "metadata": {},
   "outputs": [
    {
     "data": {
      "text/plain": [
       "'http://dbpedia.org/resource/Russia'"
      ]
     },
     "execution_count": 75,
     "metadata": {},
     "output_type": "execute_result"
    }
   ],
   "source": [
    "cat"
   ]
  },
  {
   "cell_type": "code",
   "execution_count": 76,
   "id": "03fae16b",
   "metadata": {},
   "outputs": [
    {
     "name": "stderr",
     "output_type": "stream",
     "text": [
      "C:\\Users\\maxim\\AppData\\Local\\Temp/ipykernel_1684/370248897.py:5: UserWarning: Boolean Series key will be reindexed to match DataFrame index.\n",
      "  return get_cat_df(df, cat)[df.pred != df.true].sample(n=1)\n"
     ]
    },
    {
     "data": {
      "text/html": [
       "<div>\n",
       "<style scoped>\n",
       "    .dataframe tbody tr th:only-of-type {\n",
       "        vertical-align: middle;\n",
       "    }\n",
       "\n",
       "    .dataframe tbody tr th {\n",
       "        vertical-align: top;\n",
       "    }\n",
       "\n",
       "    .dataframe thead th {\n",
       "        text-align: right;\n",
       "    }\n",
       "</style>\n",
       "<table border=\"1\" class=\"dataframe\">\n",
       "  <thead>\n",
       "    <tr style=\"text-align: right;\">\n",
       "      <th></th>\n",
       "      <th>category</th>\n",
       "      <th>input</th>\n",
       "      <th>true</th>\n",
       "      <th>pred</th>\n",
       "      <th>neuron_1</th>\n",
       "      <th>neuron_2</th>\n",
       "      <th>neuron_3</th>\n",
       "      <th>neuron_4</th>\n",
       "      <th>neuron_5</th>\n",
       "      <th>neuron_6</th>\n",
       "      <th>...</th>\n",
       "      <th>neuron_55</th>\n",
       "      <th>neuron_56</th>\n",
       "      <th>neuron_57</th>\n",
       "      <th>neuron_58</th>\n",
       "      <th>neuron_59</th>\n",
       "      <th>neuron_60</th>\n",
       "      <th>neuron_61</th>\n",
       "      <th>neuron_62</th>\n",
       "      <th>neuron_63</th>\n",
       "      <th>neuron_64</th>\n",
       "    </tr>\n",
       "  </thead>\n",
       "  <tbody>\n",
       "    <tr>\n",
       "      <th>http://dbpedia.org/resource/Pavel_Filonov</th>\n",
       "      <td>[http://dbpedia.org/resource/Russia]</td>\n",
       "      <td>[0, 0, 0, 0, 0, 0, 0, 0, 0, 0, 0, 0, 0, 0, 0, ...</td>\n",
       "      <td>1</td>\n",
       "      <td>0</td>\n",
       "      <td>0.620903</td>\n",
       "      <td>0.390895</td>\n",
       "      <td>0.619284</td>\n",
       "      <td>-0.331203</td>\n",
       "      <td>0.035298</td>\n",
       "      <td>0.955105</td>\n",
       "      <td>...</td>\n",
       "      <td>0.615605</td>\n",
       "      <td>0.477533</td>\n",
       "      <td>-0.544936</td>\n",
       "      <td>-0.578458</td>\n",
       "      <td>0.387797</td>\n",
       "      <td>-0.518064</td>\n",
       "      <td>0.392987</td>\n",
       "      <td>-0.374186</td>\n",
       "      <td>0.688104</td>\n",
       "      <td>-0.699203</td>\n",
       "    </tr>\n",
       "  </tbody>\n",
       "</table>\n",
       "<p>1 rows × 68 columns</p>\n",
       "</div>"
      ],
      "text/plain": [
       "                                                                       category  \\\n",
       "http://dbpedia.org/resource/Pavel_Filonov  [http://dbpedia.org/resource/Russia]   \n",
       "\n",
       "                                                                                       input  \\\n",
       "http://dbpedia.org/resource/Pavel_Filonov  [0, 0, 0, 0, 0, 0, 0, 0, 0, 0, 0, 0, 0, 0, 0, ...   \n",
       "\n",
       "                                           true  pred  neuron_1  neuron_2  \\\n",
       "http://dbpedia.org/resource/Pavel_Filonov     1     0  0.620903  0.390895   \n",
       "\n",
       "                                           neuron_3  neuron_4  neuron_5  \\\n",
       "http://dbpedia.org/resource/Pavel_Filonov  0.619284 -0.331203  0.035298   \n",
       "\n",
       "                                           neuron_6  ...  neuron_55  \\\n",
       "http://dbpedia.org/resource/Pavel_Filonov  0.955105  ...   0.615605   \n",
       "\n",
       "                                           neuron_56  neuron_57  neuron_58  \\\n",
       "http://dbpedia.org/resource/Pavel_Filonov   0.477533  -0.544936  -0.578458   \n",
       "\n",
       "                                           neuron_59  neuron_60  neuron_61  \\\n",
       "http://dbpedia.org/resource/Pavel_Filonov   0.387797  -0.518064   0.392987   \n",
       "\n",
       "                                           neuron_62  neuron_63  neuron_64  \n",
       "http://dbpedia.org/resource/Pavel_Filonov  -0.374186   0.688104  -0.699203  \n",
       "\n",
       "[1 rows x 68 columns]"
      ]
     },
     "execution_count": 76,
     "metadata": {},
     "output_type": "execute_result"
    }
   ],
   "source": [
    "sample = get_sample(df, 'http://dbpedia.org/resource/Russia')\n",
    "sample"
   ]
  },
  {
   "cell_type": "code",
   "execution_count": 77,
   "id": "b703c0a3",
   "metadata": {},
   "outputs": [
    {
     "data": {
      "text/html": [
       "<div>\n",
       "<style scoped>\n",
       "    .dataframe tbody tr th:only-of-type {\n",
       "        vertical-align: middle;\n",
       "    }\n",
       "\n",
       "    .dataframe tbody tr th {\n",
       "        vertical-align: top;\n",
       "    }\n",
       "\n",
       "    .dataframe thead th {\n",
       "        text-align: right;\n",
       "    }\n",
       "</style>\n",
       "<table border=\"1\" class=\"dataframe\">\n",
       "  <thead>\n",
       "    <tr style=\"text-align: right;\">\n",
       "      <th></th>\n",
       "      <th>neuron_1</th>\n",
       "      <th>neuron_2</th>\n",
       "      <th>neuron_3</th>\n",
       "      <th>neuron_4</th>\n",
       "      <th>neuron_5</th>\n",
       "      <th>neuron_6</th>\n",
       "      <th>neuron_7</th>\n",
       "      <th>neuron_8</th>\n",
       "      <th>neuron_9</th>\n",
       "      <th>neuron_10</th>\n",
       "      <th>...</th>\n",
       "      <th>neuron_55</th>\n",
       "      <th>neuron_56</th>\n",
       "      <th>neuron_57</th>\n",
       "      <th>neuron_58</th>\n",
       "      <th>neuron_59</th>\n",
       "      <th>neuron_60</th>\n",
       "      <th>neuron_61</th>\n",
       "      <th>neuron_62</th>\n",
       "      <th>neuron_63</th>\n",
       "      <th>neuron_64</th>\n",
       "    </tr>\n",
       "  </thead>\n",
       "  <tbody>\n",
       "    <tr>\n",
       "      <th>http://dbpedia.org/resource/Pavel_Filonov</th>\n",
       "      <td>0.620903</td>\n",
       "      <td>0.390895</td>\n",
       "      <td>0.619284</td>\n",
       "      <td>-0.331203</td>\n",
       "      <td>0.035298</td>\n",
       "      <td>0.955105</td>\n",
       "      <td>-0.598741</td>\n",
       "      <td>0.475003</td>\n",
       "      <td>-0.521428</td>\n",
       "      <td>-0.667169</td>\n",
       "      <td>...</td>\n",
       "      <td>0.615605</td>\n",
       "      <td>0.477533</td>\n",
       "      <td>-0.544936</td>\n",
       "      <td>-0.578458</td>\n",
       "      <td>0.387797</td>\n",
       "      <td>-0.518064</td>\n",
       "      <td>0.392987</td>\n",
       "      <td>-0.374186</td>\n",
       "      <td>0.688104</td>\n",
       "      <td>-0.699203</td>\n",
       "    </tr>\n",
       "  </tbody>\n",
       "</table>\n",
       "<p>1 rows × 64 columns</p>\n",
       "</div>"
      ],
      "text/plain": [
       "                                           neuron_1  neuron_2  neuron_3  \\\n",
       "http://dbpedia.org/resource/Pavel_Filonov  0.620903  0.390895  0.619284   \n",
       "\n",
       "                                           neuron_4  neuron_5  neuron_6  \\\n",
       "http://dbpedia.org/resource/Pavel_Filonov -0.331203  0.035298  0.955105   \n",
       "\n",
       "                                           neuron_7  neuron_8  neuron_9  \\\n",
       "http://dbpedia.org/resource/Pavel_Filonov -0.598741  0.475003 -0.521428   \n",
       "\n",
       "                                           neuron_10  ...  neuron_55  \\\n",
       "http://dbpedia.org/resource/Pavel_Filonov  -0.667169  ...   0.615605   \n",
       "\n",
       "                                           neuron_56  neuron_57  neuron_58  \\\n",
       "http://dbpedia.org/resource/Pavel_Filonov   0.477533  -0.544936  -0.578458   \n",
       "\n",
       "                                           neuron_59  neuron_60  neuron_61  \\\n",
       "http://dbpedia.org/resource/Pavel_Filonov   0.387797  -0.518064   0.392987   \n",
       "\n",
       "                                           neuron_62  neuron_63  neuron_64  \n",
       "http://dbpedia.org/resource/Pavel_Filonov  -0.374186   0.688104  -0.699203  \n",
       "\n",
       "[1 rows x 64 columns]"
      ]
     },
     "execution_count": 77,
     "metadata": {},
     "output_type": "execute_result"
    }
   ],
   "source": [
    "activations_cols = [x for x in sample.columns if \"neuron\" in x]\n",
    "df_act_sample = sample.loc[:, activations_cols]\n",
    "df_act_sample"
   ]
  },
  {
   "cell_type": "code",
   "execution_count": 78,
   "id": "f55b4662",
   "metadata": {},
   "outputs": [
    {
     "data": {
      "image/png": "[encoded data removed]",
      "text/plain": [
       "<Figure size 1080x432 with 2 Axes>"
      ]
     },
     "metadata": {
      "needs_background": "light"
     },
     "output_type": "display_data"
    }
   ],
   "source": [
    "plot_activ(df_mean_cat, df_act_sample)"
   ]
  },
  {
   "cell_type": "code",
   "execution_count": 79,
   "id": "a4e5e42e",
   "metadata": {},
   "outputs": [],
   "source": [
    "def get_diffs(df, sample_df):\n",
    "    return sample_df.reset_index().drop(columns=['index']) - df"
   ]
  },
  {
   "cell_type": "code",
   "execution_count": 80,
   "id": "f27a110c",
   "metadata": {},
   "outputs": [
    {
     "data": {
      "text/html": [
       "<div>\n",
       "<style scoped>\n",
       "    .dataframe tbody tr th:only-of-type {\n",
       "        vertical-align: middle;\n",
       "    }\n",
       "\n",
       "    .dataframe tbody tr th {\n",
       "        vertical-align: top;\n",
       "    }\n",
       "\n",
       "    .dataframe thead th {\n",
       "        text-align: right;\n",
       "    }\n",
       "</style>\n",
       "<table border=\"1\" class=\"dataframe\">\n",
       "  <thead>\n",
       "    <tr style=\"text-align: right;\">\n",
       "      <th></th>\n",
       "      <th>neuron_1</th>\n",
       "      <th>neuron_2</th>\n",
       "      <th>neuron_3</th>\n",
       "      <th>neuron_4</th>\n",
       "      <th>neuron_5</th>\n",
       "      <th>neuron_6</th>\n",
       "      <th>neuron_7</th>\n",
       "      <th>neuron_8</th>\n",
       "      <th>neuron_9</th>\n",
       "      <th>neuron_10</th>\n",
       "      <th>...</th>\n",
       "      <th>neuron_55</th>\n",
       "      <th>neuron_56</th>\n",
       "      <th>neuron_57</th>\n",
       "      <th>neuron_58</th>\n",
       "      <th>neuron_59</th>\n",
       "      <th>neuron_60</th>\n",
       "      <th>neuron_61</th>\n",
       "      <th>neuron_62</th>\n",
       "      <th>neuron_63</th>\n",
       "      <th>neuron_64</th>\n",
       "    </tr>\n",
       "  </thead>\n",
       "  <tbody>\n",
       "    <tr>\n",
       "      <th>0</th>\n",
       "      <td>0.455565</td>\n",
       "      <td>0.909918</td>\n",
       "      <td>0.929289</td>\n",
       "      <td>-0.722211</td>\n",
       "      <td>0.811082</td>\n",
       "      <td>0.417699</td>\n",
       "      <td>-0.514351</td>\n",
       "      <td>0.682043</td>\n",
       "      <td>-0.548757</td>\n",
       "      <td>-0.428788</td>\n",
       "      <td>...</td>\n",
       "      <td>0.65638</td>\n",
       "      <td>0.603391</td>\n",
       "      <td>-0.765681</td>\n",
       "      <td>-0.711303</td>\n",
       "      <td>0.696282</td>\n",
       "      <td>-0.620366</td>\n",
       "      <td>0.646193</td>\n",
       "      <td>-0.791852</td>\n",
       "      <td>0.52089</td>\n",
       "      <td>-0.429084</td>\n",
       "    </tr>\n",
       "  </tbody>\n",
       "</table>\n",
       "<p>1 rows × 64 columns</p>\n",
       "</div>"
      ],
      "text/plain": [
       "   neuron_1  neuron_2  neuron_3  neuron_4  neuron_5  neuron_6  neuron_7  \\\n",
       "0  0.455565  0.909918  0.929289 -0.722211  0.811082  0.417699 -0.514351   \n",
       "\n",
       "   neuron_8  neuron_9  neuron_10  ...  neuron_55  neuron_56  neuron_57  \\\n",
       "0  0.682043 -0.548757  -0.428788  ...    0.65638   0.603391  -0.765681   \n",
       "\n",
       "   neuron_58  neuron_59  neuron_60  neuron_61  neuron_62  neuron_63  neuron_64  \n",
       "0  -0.711303   0.696282  -0.620366   0.646193  -0.791852    0.52089  -0.429084  \n",
       "\n",
       "[1 rows x 64 columns]"
      ]
     },
     "execution_count": 80,
     "metadata": {},
     "output_type": "execute_result"
    }
   ],
   "source": [
    "diffs = get_diffs(df_mean_cat, df_act_sample)\n",
    "diffs"
   ]
  },
  {
   "cell_type": "code",
   "execution_count": 81,
   "id": "0aef63b7",
   "metadata": {},
   "outputs": [
    {
     "name": "stdout",
     "output_type": "stream",
     "text": [
      "Average difference is: 0.5722205638885498\n"
     ]
    }
   ],
   "source": [
    "avg_diff = abs(diffs).sum().sum()/len(diffs.iloc[0, :])\n",
    "print(f\"Average difference is: {avg_diff}\")"
   ]
  },
  {
   "cell_type": "markdown",
   "id": "d3636ea3",
   "metadata": {},
   "source": [
    "### Re-adjust activations\n",
    "\n",
    "On rapproche les activations du sample vers les activations de la catégorie cible d'un facteur 10% sur les neurones dont la différence est significative (i.e. pvalue < 0.01).\n",
    "\n",
    "On a alors besoin de 3 éléments:\n",
    "* le dataframe des activations du sample\n",
    "* le dataframe des activations moyennes de la catégorie cible\n",
    "* le dataframe des pvalues de la catégorie cible (avec maybe l'information sur la significativité de la pvalue, ici fixée à <= 0.01)"
   ]
  },
  {
   "cell_type": "code",
   "execution_count": 82,
   "id": "3e81a860",
   "metadata": {},
   "outputs": [
    {
     "data": {
      "text/html": [
       "<div>\n",
       "<style scoped>\n",
       "    .dataframe tbody tr th:only-of-type {\n",
       "        vertical-align: middle;\n",
       "    }\n",
       "\n",
       "    .dataframe tbody tr th {\n",
       "        vertical-align: top;\n",
       "    }\n",
       "\n",
       "    .dataframe thead th {\n",
       "        text-align: right;\n",
       "    }\n",
       "</style>\n",
       "<table border=\"1\" class=\"dataframe\">\n",
       "  <thead>\n",
       "    <tr style=\"text-align: right;\">\n",
       "      <th></th>\n",
       "      <th>pvalue</th>\n",
       "    </tr>\n",
       "  </thead>\n",
       "  <tbody>\n",
       "    <tr>\n",
       "      <th>0</th>\n",
       "      <td>1.587716e-01</td>\n",
       "    </tr>\n",
       "    <tr>\n",
       "      <th>1</th>\n",
       "      <td>4.878287e-09</td>\n",
       "    </tr>\n",
       "    <tr>\n",
       "      <th>2</th>\n",
       "      <td>6.452485e-05</td>\n",
       "    </tr>\n",
       "    <tr>\n",
       "      <th>3</th>\n",
       "      <td>1.579483e-06</td>\n",
       "    </tr>\n",
       "    <tr>\n",
       "      <th>4</th>\n",
       "      <td>1.897656e-13</td>\n",
       "    </tr>\n",
       "    <tr>\n",
       "      <th>...</th>\n",
       "      <td>...</td>\n",
       "    </tr>\n",
       "    <tr>\n",
       "      <th>59</th>\n",
       "      <td>4.158541e-02</td>\n",
       "    </tr>\n",
       "    <tr>\n",
       "      <th>60</th>\n",
       "      <td>3.111701e-04</td>\n",
       "    </tr>\n",
       "    <tr>\n",
       "      <th>61</th>\n",
       "      <td>1.502952e-06</td>\n",
       "    </tr>\n",
       "    <tr>\n",
       "      <th>62</th>\n",
       "      <td>9.974529e-02</td>\n",
       "    </tr>\n",
       "    <tr>\n",
       "      <th>63</th>\n",
       "      <td>2.292984e-04</td>\n",
       "    </tr>\n",
       "  </tbody>\n",
       "</table>\n",
       "<p>64 rows × 1 columns</p>\n",
       "</div>"
      ],
      "text/plain": [
       "          pvalue\n",
       "0   1.587716e-01\n",
       "1   4.878287e-09\n",
       "2   6.452485e-05\n",
       "3   1.579483e-06\n",
       "4   1.897656e-13\n",
       "..           ...\n",
       "59  4.158541e-02\n",
       "60  3.111701e-04\n",
       "61  1.502952e-06\n",
       "62  9.974529e-02\n",
       "63  2.292984e-04\n",
       "\n",
       "[64 rows x 1 columns]"
      ]
     },
     "execution_count": 82,
     "metadata": {},
     "output_type": "execute_result"
    }
   ],
   "source": [
    "russia_pv = pd.read_pickle('src/russia-pv.pkl')\n",
    "dfrpv = pd.DataFrame(russia_pv, columns=['pvalue'])\n",
    "dfrpv"
   ]
  },
  {
   "cell_type": "code",
   "execution_count": 83,
   "id": "0e6d3cb3",
   "metadata": {},
   "outputs": [
    {
     "name": "stdout",
     "output_type": "stream",
     "text": [
      "(42, 2)\n",
      "          pvalue  sign\n",
      "1   4.878287e-09  True\n",
      "2   6.452485e-05  True\n",
      "3   1.579483e-06  True\n",
      "4   1.897656e-13  True\n",
      "5   2.738027e-11  True\n",
      "7   3.096681e-03  True\n",
      "9   3.773218e-03  True\n",
      "10  1.769776e-03  True\n",
      "12  1.351876e-13  True\n",
      "14  7.951155e-24  True\n",
      "15  2.011291e-03  True\n",
      "17  6.368204e-23  True\n",
      "19  6.570767e-03  True\n",
      "21  5.796425e-05  True\n",
      "22  3.067940e-07  True\n",
      "23  5.675254e-05  True\n",
      "24  1.612688e-10  True\n",
      "26  9.286252e-11  True\n",
      "29  1.690230e-06  True\n",
      "30  3.268496e-09  True\n",
      "31  1.080565e-11  True\n",
      "32  5.932947e-03  True\n",
      "33  1.684570e-11  True\n",
      "34  2.491615e-03  True\n",
      "36  2.208312e-03  True\n",
      "40  4.088773e-18  True\n",
      "41  3.012649e-08  True\n",
      "42  1.058638e-14  True\n",
      "43  6.252875e-12  True\n",
      "44  2.203407e-05  True\n",
      "46  1.785589e-24  True\n",
      "47  9.985386e-08  True\n",
      "49  9.544518e-05  True\n",
      "50  1.910548e-19  True\n",
      "51  2.097827e-18  True\n",
      "52  8.469099e-08  True\n",
      "53  1.930613e-16  True\n",
      "56  2.021712e-03  True\n",
      "58  6.567423e-05  True\n",
      "60  3.111701e-04  True\n",
      "61  1.502952e-06  True\n",
      "63  2.292984e-04  True\n"
     ]
    }
   ],
   "source": [
    "dfrpv['sign'] = dfrpv['pvalue'] <= 0.01\n",
    "print(dfrpv[dfrpv['sign'] == True].shape)\n",
    "print(dfrpv[dfrpv['sign'] == True])"
   ]
  },
  {
   "cell_type": "code",
   "execution_count": 84,
   "id": "500d029a",
   "metadata": {},
   "outputs": [
    {
     "data": {
      "image/png": "[encoded data removed]",
      "text/plain": [
       "<Figure size 1080x360 with 1 Axes>"
      ]
     },
     "metadata": {
      "needs_background": "light"
     },
     "output_type": "display_data"
    }
   ],
   "source": [
    "plt.figure(figsize=(15, 5))\n",
    "sns.scatterplot(x=range(len(dfrpv['pvalue'])), y='pvalue', \n",
    "                hue='sign', data=dfrpv)\n",
    "plt.show()"
   ]
  },
  {
   "cell_type": "markdown",
   "id": "54abf5d5",
   "metadata": {},
   "source": [
    "Pvalue dataframe with significant bool value (example for russia here)"
   ]
  },
  {
   "cell_type": "code",
   "execution_count": 85,
   "id": "267f47e6",
   "metadata": {},
   "outputs": [
    {
     "data": {
      "text/html": [
       "<div>\n",
       "<style scoped>\n",
       "    .dataframe tbody tr th:only-of-type {\n",
       "        vertical-align: middle;\n",
       "    }\n",
       "\n",
       "    .dataframe tbody tr th {\n",
       "        vertical-align: top;\n",
       "    }\n",
       "\n",
       "    .dataframe thead th {\n",
       "        text-align: right;\n",
       "    }\n",
       "</style>\n",
       "<table border=\"1\" class=\"dataframe\">\n",
       "  <thead>\n",
       "    <tr style=\"text-align: right;\">\n",
       "      <th></th>\n",
       "      <th>pvalue</th>\n",
       "      <th>sign</th>\n",
       "    </tr>\n",
       "  </thead>\n",
       "  <tbody>\n",
       "    <tr>\n",
       "      <th>0</th>\n",
       "      <td>1.587716e-01</td>\n",
       "      <td>False</td>\n",
       "    </tr>\n",
       "    <tr>\n",
       "      <th>1</th>\n",
       "      <td>4.878287e-09</td>\n",
       "      <td>True</td>\n",
       "    </tr>\n",
       "    <tr>\n",
       "      <th>2</th>\n",
       "      <td>6.452485e-05</td>\n",
       "      <td>True</td>\n",
       "    </tr>\n",
       "    <tr>\n",
       "      <th>3</th>\n",
       "      <td>1.579483e-06</td>\n",
       "      <td>True</td>\n",
       "    </tr>\n",
       "    <tr>\n",
       "      <th>4</th>\n",
       "      <td>1.897656e-13</td>\n",
       "      <td>True</td>\n",
       "    </tr>\n",
       "    <tr>\n",
       "      <th>...</th>\n",
       "      <td>...</td>\n",
       "      <td>...</td>\n",
       "    </tr>\n",
       "    <tr>\n",
       "      <th>59</th>\n",
       "      <td>4.158541e-02</td>\n",
       "      <td>False</td>\n",
       "    </tr>\n",
       "    <tr>\n",
       "      <th>60</th>\n",
       "      <td>3.111701e-04</td>\n",
       "      <td>True</td>\n",
       "    </tr>\n",
       "    <tr>\n",
       "      <th>61</th>\n",
       "      <td>1.502952e-06</td>\n",
       "      <td>True</td>\n",
       "    </tr>\n",
       "    <tr>\n",
       "      <th>62</th>\n",
       "      <td>9.974529e-02</td>\n",
       "      <td>False</td>\n",
       "    </tr>\n",
       "    <tr>\n",
       "      <th>63</th>\n",
       "      <td>2.292984e-04</td>\n",
       "      <td>True</td>\n",
       "    </tr>\n",
       "  </tbody>\n",
       "</table>\n",
       "<p>64 rows × 2 columns</p>\n",
       "</div>"
      ],
      "text/plain": [
       "          pvalue   sign\n",
       "0   1.587716e-01  False\n",
       "1   4.878287e-09   True\n",
       "2   6.452485e-05   True\n",
       "3   1.579483e-06   True\n",
       "4   1.897656e-13   True\n",
       "..           ...    ...\n",
       "59  4.158541e-02  False\n",
       "60  3.111701e-04   True\n",
       "61  1.502952e-06   True\n",
       "62  9.974529e-02  False\n",
       "63  2.292984e-04   True\n",
       "\n",
       "[64 rows x 2 columns]"
      ]
     },
     "execution_count": 85,
     "metadata": {},
     "output_type": "execute_result"
    }
   ],
   "source": [
    "dfrpv"
   ]
  },
  {
   "cell_type": "code",
   "execution_count": 86,
   "id": "546dbd78",
   "metadata": {},
   "outputs": [
    {
     "data": {
      "text/html": [
       "<div>\n",
       "<style scoped>\n",
       "    .dataframe tbody tr th:only-of-type {\n",
       "        vertical-align: middle;\n",
       "    }\n",
       "\n",
       "    .dataframe tbody tr th {\n",
       "        vertical-align: top;\n",
       "    }\n",
       "\n",
       "    .dataframe thead th {\n",
       "        text-align: right;\n",
       "    }\n",
       "</style>\n",
       "<table border=\"1\" class=\"dataframe\">\n",
       "  <thead>\n",
       "    <tr style=\"text-align: right;\">\n",
       "      <th></th>\n",
       "      <th>neuron_1</th>\n",
       "      <th>neuron_2</th>\n",
       "      <th>neuron_3</th>\n",
       "      <th>neuron_4</th>\n",
       "      <th>neuron_5</th>\n",
       "      <th>neuron_6</th>\n",
       "      <th>neuron_7</th>\n",
       "      <th>neuron_8</th>\n",
       "      <th>neuron_9</th>\n",
       "      <th>neuron_10</th>\n",
       "      <th>...</th>\n",
       "      <th>neuron_55</th>\n",
       "      <th>neuron_56</th>\n",
       "      <th>neuron_57</th>\n",
       "      <th>neuron_58</th>\n",
       "      <th>neuron_59</th>\n",
       "      <th>neuron_60</th>\n",
       "      <th>neuron_61</th>\n",
       "      <th>neuron_62</th>\n",
       "      <th>neuron_63</th>\n",
       "      <th>neuron_64</th>\n",
       "    </tr>\n",
       "  </thead>\n",
       "  <tbody>\n",
       "    <tr>\n",
       "      <th>0</th>\n",
       "      <td>0.165338</td>\n",
       "      <td>-0.519022</td>\n",
       "      <td>-0.310005</td>\n",
       "      <td>0.391009</td>\n",
       "      <td>-0.775784</td>\n",
       "      <td>0.537406</td>\n",
       "      <td>-0.08439</td>\n",
       "      <td>-0.20704</td>\n",
       "      <td>0.027329</td>\n",
       "      <td>-0.238381</td>\n",
       "      <td>...</td>\n",
       "      <td>-0.040775</td>\n",
       "      <td>-0.125858</td>\n",
       "      <td>0.220746</td>\n",
       "      <td>0.132845</td>\n",
       "      <td>-0.308484</td>\n",
       "      <td>0.102303</td>\n",
       "      <td>-0.253206</td>\n",
       "      <td>0.417666</td>\n",
       "      <td>0.167214</td>\n",
       "      <td>-0.270119</td>\n",
       "    </tr>\n",
       "  </tbody>\n",
       "</table>\n",
       "<p>1 rows × 64 columns</p>\n",
       "</div>"
      ],
      "text/plain": [
       "   neuron_1  neuron_2  neuron_3  neuron_4  neuron_5  neuron_6  neuron_7  \\\n",
       "0  0.165338 -0.519022 -0.310005  0.391009 -0.775784  0.537406  -0.08439   \n",
       "\n",
       "   neuron_8  neuron_9  neuron_10  ...  neuron_55  neuron_56  neuron_57  \\\n",
       "0  -0.20704  0.027329  -0.238381  ...  -0.040775  -0.125858   0.220746   \n",
       "\n",
       "   neuron_58  neuron_59  neuron_60  neuron_61  neuron_62  neuron_63  neuron_64  \n",
       "0   0.132845  -0.308484   0.102303  -0.253206   0.417666   0.167214  -0.270119  \n",
       "\n",
       "[1 rows x 64 columns]"
      ]
     },
     "execution_count": 86,
     "metadata": {},
     "output_type": "execute_result"
    }
   ],
   "source": [
    "df_mean_cat # mean activations for a category (here russia)"
   ]
  },
  {
   "cell_type": "code",
   "execution_count": 87,
   "id": "af899ac5",
   "metadata": {},
   "outputs": [
    {
     "data": {
      "text/html": [
       "<div>\n",
       "<style scoped>\n",
       "    .dataframe tbody tr th:only-of-type {\n",
       "        vertical-align: middle;\n",
       "    }\n",
       "\n",
       "    .dataframe tbody tr th {\n",
       "        vertical-align: top;\n",
       "    }\n",
       "\n",
       "    .dataframe thead th {\n",
       "        text-align: right;\n",
       "    }\n",
       "</style>\n",
       "<table border=\"1\" class=\"dataframe\">\n",
       "  <thead>\n",
       "    <tr style=\"text-align: right;\">\n",
       "      <th></th>\n",
       "      <th>neuron_1</th>\n",
       "      <th>neuron_2</th>\n",
       "      <th>neuron_3</th>\n",
       "      <th>neuron_4</th>\n",
       "      <th>neuron_5</th>\n",
       "      <th>neuron_6</th>\n",
       "      <th>neuron_7</th>\n",
       "      <th>neuron_8</th>\n",
       "      <th>neuron_9</th>\n",
       "      <th>neuron_10</th>\n",
       "      <th>...</th>\n",
       "      <th>neuron_55</th>\n",
       "      <th>neuron_56</th>\n",
       "      <th>neuron_57</th>\n",
       "      <th>neuron_58</th>\n",
       "      <th>neuron_59</th>\n",
       "      <th>neuron_60</th>\n",
       "      <th>neuron_61</th>\n",
       "      <th>neuron_62</th>\n",
       "      <th>neuron_63</th>\n",
       "      <th>neuron_64</th>\n",
       "    </tr>\n",
       "  </thead>\n",
       "  <tbody>\n",
       "    <tr>\n",
       "      <th>http://dbpedia.org/resource/Pavel_Filonov</th>\n",
       "      <td>0.620903</td>\n",
       "      <td>0.390895</td>\n",
       "      <td>0.619284</td>\n",
       "      <td>-0.331203</td>\n",
       "      <td>0.035298</td>\n",
       "      <td>0.955105</td>\n",
       "      <td>-0.598741</td>\n",
       "      <td>0.475003</td>\n",
       "      <td>-0.521428</td>\n",
       "      <td>-0.667169</td>\n",
       "      <td>...</td>\n",
       "      <td>0.615605</td>\n",
       "      <td>0.477533</td>\n",
       "      <td>-0.544936</td>\n",
       "      <td>-0.578458</td>\n",
       "      <td>0.387797</td>\n",
       "      <td>-0.518064</td>\n",
       "      <td>0.392987</td>\n",
       "      <td>-0.374186</td>\n",
       "      <td>0.688104</td>\n",
       "      <td>-0.699203</td>\n",
       "    </tr>\n",
       "  </tbody>\n",
       "</table>\n",
       "<p>1 rows × 64 columns</p>\n",
       "</div>"
      ],
      "text/plain": [
       "                                           neuron_1  neuron_2  neuron_3  \\\n",
       "http://dbpedia.org/resource/Pavel_Filonov  0.620903  0.390895  0.619284   \n",
       "\n",
       "                                           neuron_4  neuron_5  neuron_6  \\\n",
       "http://dbpedia.org/resource/Pavel_Filonov -0.331203  0.035298  0.955105   \n",
       "\n",
       "                                           neuron_7  neuron_8  neuron_9  \\\n",
       "http://dbpedia.org/resource/Pavel_Filonov -0.598741  0.475003 -0.521428   \n",
       "\n",
       "                                           neuron_10  ...  neuron_55  \\\n",
       "http://dbpedia.org/resource/Pavel_Filonov  -0.667169  ...   0.615605   \n",
       "\n",
       "                                           neuron_56  neuron_57  neuron_58  \\\n",
       "http://dbpedia.org/resource/Pavel_Filonov   0.477533  -0.544936  -0.578458   \n",
       "\n",
       "                                           neuron_59  neuron_60  neuron_61  \\\n",
       "http://dbpedia.org/resource/Pavel_Filonov   0.387797  -0.518064   0.392987   \n",
       "\n",
       "                                           neuron_62  neuron_63  neuron_64  \n",
       "http://dbpedia.org/resource/Pavel_Filonov  -0.374186   0.688104  -0.699203  \n",
       "\n",
       "[1 rows x 64 columns]"
      ]
     },
     "execution_count": 87,
     "metadata": {},
     "output_type": "execute_result"
    }
   ],
   "source": [
    "df_act_sample # activations for a misclassified sample of the category"
   ]
  },
  {
   "cell_type": "code",
   "execution_count": 88,
   "id": "998061d9",
   "metadata": {},
   "outputs": [
    {
     "data": {
      "image/png": "[encoded data removed]",
      "text/plain": [
       "<Figure size 1080x432 with 2 Axes>"
      ]
     },
     "metadata": {
      "needs_background": "light"
     },
     "output_type": "display_data"
    }
   ],
   "source": [
    "plot_activ(df=df_act_sample, df2=df_mean_cat)\n",
    "# df in blue\n",
    "# df2 in orange"
   ]
  },
  {
   "cell_type": "code",
   "execution_count": 89,
   "id": "0b49fd9f",
   "metadata": {},
   "outputs": [
    {
     "data": {
      "text/html": [
       "<div>\n",
       "<style scoped>\n",
       "    .dataframe tbody tr th:only-of-type {\n",
       "        vertical-align: middle;\n",
       "    }\n",
       "\n",
       "    .dataframe tbody tr th {\n",
       "        vertical-align: top;\n",
       "    }\n",
       "\n",
       "    .dataframe thead th {\n",
       "        text-align: right;\n",
       "    }\n",
       "</style>\n",
       "<table border=\"1\" class=\"dataframe\">\n",
       "  <thead>\n",
       "    <tr style=\"text-align: right;\">\n",
       "      <th></th>\n",
       "      <th>pvalue</th>\n",
       "      <th>sign</th>\n",
       "    </tr>\n",
       "  </thead>\n",
       "  <tbody>\n",
       "    <tr>\n",
       "      <th>neuron_1</th>\n",
       "      <td>1.587716e-01</td>\n",
       "      <td>False</td>\n",
       "    </tr>\n",
       "    <tr>\n",
       "      <th>neuron_2</th>\n",
       "      <td>4.878287e-09</td>\n",
       "      <td>True</td>\n",
       "    </tr>\n",
       "    <tr>\n",
       "      <th>neuron_3</th>\n",
       "      <td>6.452485e-05</td>\n",
       "      <td>True</td>\n",
       "    </tr>\n",
       "    <tr>\n",
       "      <th>neuron_4</th>\n",
       "      <td>1.579483e-06</td>\n",
       "      <td>True</td>\n",
       "    </tr>\n",
       "    <tr>\n",
       "      <th>neuron_5</th>\n",
       "      <td>1.897656e-13</td>\n",
       "      <td>True</td>\n",
       "    </tr>\n",
       "    <tr>\n",
       "      <th>...</th>\n",
       "      <td>...</td>\n",
       "      <td>...</td>\n",
       "    </tr>\n",
       "    <tr>\n",
       "      <th>neuron_60</th>\n",
       "      <td>4.158541e-02</td>\n",
       "      <td>False</td>\n",
       "    </tr>\n",
       "    <tr>\n",
       "      <th>neuron_61</th>\n",
       "      <td>3.111701e-04</td>\n",
       "      <td>True</td>\n",
       "    </tr>\n",
       "    <tr>\n",
       "      <th>neuron_62</th>\n",
       "      <td>1.502952e-06</td>\n",
       "      <td>True</td>\n",
       "    </tr>\n",
       "    <tr>\n",
       "      <th>neuron_63</th>\n",
       "      <td>9.974529e-02</td>\n",
       "      <td>False</td>\n",
       "    </tr>\n",
       "    <tr>\n",
       "      <th>neuron_64</th>\n",
       "      <td>2.292984e-04</td>\n",
       "      <td>True</td>\n",
       "    </tr>\n",
       "  </tbody>\n",
       "</table>\n",
       "<p>64 rows × 2 columns</p>\n",
       "</div>"
      ],
      "text/plain": [
       "                 pvalue   sign\n",
       "neuron_1   1.587716e-01  False\n",
       "neuron_2   4.878287e-09   True\n",
       "neuron_3   6.452485e-05   True\n",
       "neuron_4   1.579483e-06   True\n",
       "neuron_5   1.897656e-13   True\n",
       "...                 ...    ...\n",
       "neuron_60  4.158541e-02  False\n",
       "neuron_61  3.111701e-04   True\n",
       "neuron_62  1.502952e-06   True\n",
       "neuron_63  9.974529e-02  False\n",
       "neuron_64  2.292984e-04   True\n",
       "\n",
       "[64 rows x 2 columns]"
      ]
     },
     "execution_count": 89,
     "metadata": {},
     "output_type": "execute_result"
    }
   ],
   "source": [
    "dfrpv.set_index(df_act_sample.T.index, inplace=True)\n",
    "dfrpv"
   ]
  },
  {
   "cell_type": "markdown",
   "id": "dff791dc",
   "metadata": {},
   "source": [
    "The formula for the new data point is : \n",
    "\n",
    "$$ s' = s - d * f $$\n",
    "\n",
    "where $s'$ is the new value, $s$ is the activation value of the sample, $d$ is the difference between the sample activation and the mean activation (on the same neuron) and $f$ is the factor"
   ]
  },
  {
   "cell_type": "code",
   "execution_count": 90,
   "id": "bc722fe0",
   "metadata": {},
   "outputs": [],
   "source": [
    "def boost(sample, category, pvalue=None):\n",
    "    \"\"\"\n",
    "    both of the 3 elements have the same shape\n",
    "    pvalues might be reached directly from this function\n",
    "    \"\"\"\n",
    "    \n",
    "    factor = 0.1 # i.e. 10%\n",
    "    \n",
    "    # We built a proper dataset to process the data\n",
    "    df = pd.concat([sample, category, pvalue]).T\n",
    "    df.columns = [\n",
    "        'sample', 'cat', 'pvalue', 'sign'\n",
    "    ]\n",
    "    \n",
    "    df['new_value'] = df['sample']\n",
    "    \n",
    "    for i in range(df.shape[0]):\n",
    "        index = f\"neuron_{i+1}\"\n",
    "        if df.loc[index, \"sign\"] == True:\n",
    "            df.loc[index, \"new_value\"] = df.loc[index, 'sample'] - (df.loc[index, 'sample'] - df.loc[index, 'cat']) * factor\n",
    "    \n",
    "    return df"
   ]
  },
  {
   "cell_type": "code",
   "execution_count": 91,
   "id": "a12340c1",
   "metadata": {},
   "outputs": [
    {
     "data": {
      "text/html": [
       "<div>\n",
       "<style scoped>\n",
       "    .dataframe tbody tr th:only-of-type {\n",
       "        vertical-align: middle;\n",
       "    }\n",
       "\n",
       "    .dataframe tbody tr th {\n",
       "        vertical-align: top;\n",
       "    }\n",
       "\n",
       "    .dataframe thead th {\n",
       "        text-align: right;\n",
       "    }\n",
       "</style>\n",
       "<table border=\"1\" class=\"dataframe\">\n",
       "  <thead>\n",
       "    <tr style=\"text-align: right;\">\n",
       "      <th></th>\n",
       "      <th>sample</th>\n",
       "      <th>cat</th>\n",
       "      <th>pvalue</th>\n",
       "      <th>sign</th>\n",
       "      <th>new_value</th>\n",
       "    </tr>\n",
       "  </thead>\n",
       "  <tbody>\n",
       "    <tr>\n",
       "      <th>neuron_1</th>\n",
       "      <td>0.620903</td>\n",
       "      <td>0.165338</td>\n",
       "      <td>0.158772</td>\n",
       "      <td>False</td>\n",
       "      <td>0.620903</td>\n",
       "    </tr>\n",
       "    <tr>\n",
       "      <th>neuron_2</th>\n",
       "      <td>0.390895</td>\n",
       "      <td>-0.519022</td>\n",
       "      <td>0.0</td>\n",
       "      <td>True</td>\n",
       "      <td>0.299903</td>\n",
       "    </tr>\n",
       "    <tr>\n",
       "      <th>neuron_3</th>\n",
       "      <td>0.619284</td>\n",
       "      <td>-0.310005</td>\n",
       "      <td>0.000065</td>\n",
       "      <td>True</td>\n",
       "      <td>0.526355</td>\n",
       "    </tr>\n",
       "    <tr>\n",
       "      <th>neuron_4</th>\n",
       "      <td>-0.331203</td>\n",
       "      <td>0.391009</td>\n",
       "      <td>0.000002</td>\n",
       "      <td>True</td>\n",
       "      <td>-0.258982</td>\n",
       "    </tr>\n",
       "    <tr>\n",
       "      <th>neuron_5</th>\n",
       "      <td>0.035298</td>\n",
       "      <td>-0.775784</td>\n",
       "      <td>0.0</td>\n",
       "      <td>True</td>\n",
       "      <td>-0.045811</td>\n",
       "    </tr>\n",
       "    <tr>\n",
       "      <th>...</th>\n",
       "      <td>...</td>\n",
       "      <td>...</td>\n",
       "      <td>...</td>\n",
       "      <td>...</td>\n",
       "      <td>...</td>\n",
       "    </tr>\n",
       "    <tr>\n",
       "      <th>neuron_60</th>\n",
       "      <td>-0.518064</td>\n",
       "      <td>0.102303</td>\n",
       "      <td>0.041585</td>\n",
       "      <td>False</td>\n",
       "      <td>-0.518064</td>\n",
       "    </tr>\n",
       "    <tr>\n",
       "      <th>neuron_61</th>\n",
       "      <td>0.392987</td>\n",
       "      <td>-0.253206</td>\n",
       "      <td>0.000311</td>\n",
       "      <td>True</td>\n",
       "      <td>0.328367</td>\n",
       "    </tr>\n",
       "    <tr>\n",
       "      <th>neuron_62</th>\n",
       "      <td>-0.374186</td>\n",
       "      <td>0.417666</td>\n",
       "      <td>0.000002</td>\n",
       "      <td>True</td>\n",
       "      <td>-0.295</td>\n",
       "    </tr>\n",
       "    <tr>\n",
       "      <th>neuron_63</th>\n",
       "      <td>0.688104</td>\n",
       "      <td>0.167214</td>\n",
       "      <td>0.099745</td>\n",
       "      <td>False</td>\n",
       "      <td>0.688104</td>\n",
       "    </tr>\n",
       "    <tr>\n",
       "      <th>neuron_64</th>\n",
       "      <td>-0.699203</td>\n",
       "      <td>-0.270119</td>\n",
       "      <td>0.000229</td>\n",
       "      <td>True</td>\n",
       "      <td>-0.656295</td>\n",
       "    </tr>\n",
       "  </tbody>\n",
       "</table>\n",
       "<p>64 rows × 5 columns</p>\n",
       "</div>"
      ],
      "text/plain": [
       "             sample       cat    pvalue   sign new_value\n",
       "neuron_1   0.620903  0.165338  0.158772  False  0.620903\n",
       "neuron_2   0.390895 -0.519022       0.0   True  0.299903\n",
       "neuron_3   0.619284 -0.310005  0.000065   True  0.526355\n",
       "neuron_4  -0.331203  0.391009  0.000002   True -0.258982\n",
       "neuron_5   0.035298 -0.775784       0.0   True -0.045811\n",
       "...             ...       ...       ...    ...       ...\n",
       "neuron_60 -0.518064  0.102303  0.041585  False -0.518064\n",
       "neuron_61  0.392987 -0.253206  0.000311   True  0.328367\n",
       "neuron_62 -0.374186  0.417666  0.000002   True    -0.295\n",
       "neuron_63  0.688104  0.167214  0.099745  False  0.688104\n",
       "neuron_64 -0.699203 -0.270119  0.000229   True -0.656295\n",
       "\n",
       "[64 rows x 5 columns]"
      ]
     },
     "execution_count": 91,
     "metadata": {},
     "output_type": "execute_result"
    }
   ],
   "source": [
    "dfb = boost(df_act_sample, df_mean_cat, dfrpv.T)\n",
    "dfb"
   ]
  },
  {
   "cell_type": "code",
   "execution_count": 92,
   "id": "a6cd1dc9",
   "metadata": {},
   "outputs": [
    {
     "data": {
      "text/html": [
       "<div>\n",
       "<style scoped>\n",
       "    .dataframe tbody tr th:only-of-type {\n",
       "        vertical-align: middle;\n",
       "    }\n",
       "\n",
       "    .dataframe tbody tr th {\n",
       "        vertical-align: top;\n",
       "    }\n",
       "\n",
       "    .dataframe thead th {\n",
       "        text-align: right;\n",
       "    }\n",
       "</style>\n",
       "<table border=\"1\" class=\"dataframe\">\n",
       "  <thead>\n",
       "    <tr style=\"text-align: right;\">\n",
       "      <th></th>\n",
       "      <th>sample</th>\n",
       "      <th>cat</th>\n",
       "      <th>pvalue</th>\n",
       "      <th>sign</th>\n",
       "      <th>new_value</th>\n",
       "    </tr>\n",
       "  </thead>\n",
       "  <tbody>\n",
       "    <tr>\n",
       "      <th>neuron_1</th>\n",
       "      <td>0.620903</td>\n",
       "      <td>0.165338</td>\n",
       "      <td>0.158772</td>\n",
       "      <td>False</td>\n",
       "      <td>0.620903</td>\n",
       "    </tr>\n",
       "    <tr>\n",
       "      <th>neuron_2</th>\n",
       "      <td>0.390895</td>\n",
       "      <td>-0.519022</td>\n",
       "      <td>0.0</td>\n",
       "      <td>True</td>\n",
       "      <td>0.299903</td>\n",
       "    </tr>\n",
       "    <tr>\n",
       "      <th>neuron_3</th>\n",
       "      <td>0.619284</td>\n",
       "      <td>-0.310005</td>\n",
       "      <td>0.000065</td>\n",
       "      <td>True</td>\n",
       "      <td>0.526355</td>\n",
       "    </tr>\n",
       "    <tr>\n",
       "      <th>neuron_4</th>\n",
       "      <td>-0.331203</td>\n",
       "      <td>0.391009</td>\n",
       "      <td>0.000002</td>\n",
       "      <td>True</td>\n",
       "      <td>-0.258982</td>\n",
       "    </tr>\n",
       "    <tr>\n",
       "      <th>neuron_5</th>\n",
       "      <td>0.035298</td>\n",
       "      <td>-0.775784</td>\n",
       "      <td>0.0</td>\n",
       "      <td>True</td>\n",
       "      <td>-0.045811</td>\n",
       "    </tr>\n",
       "    <tr>\n",
       "      <th>...</th>\n",
       "      <td>...</td>\n",
       "      <td>...</td>\n",
       "      <td>...</td>\n",
       "      <td>...</td>\n",
       "      <td>...</td>\n",
       "    </tr>\n",
       "    <tr>\n",
       "      <th>neuron_60</th>\n",
       "      <td>-0.518064</td>\n",
       "      <td>0.102303</td>\n",
       "      <td>0.041585</td>\n",
       "      <td>False</td>\n",
       "      <td>-0.518064</td>\n",
       "    </tr>\n",
       "    <tr>\n",
       "      <th>neuron_61</th>\n",
       "      <td>0.392987</td>\n",
       "      <td>-0.253206</td>\n",
       "      <td>0.000311</td>\n",
       "      <td>True</td>\n",
       "      <td>0.328367</td>\n",
       "    </tr>\n",
       "    <tr>\n",
       "      <th>neuron_62</th>\n",
       "      <td>-0.374186</td>\n",
       "      <td>0.417666</td>\n",
       "      <td>0.000002</td>\n",
       "      <td>True</td>\n",
       "      <td>-0.295</td>\n",
       "    </tr>\n",
       "    <tr>\n",
       "      <th>neuron_63</th>\n",
       "      <td>0.688104</td>\n",
       "      <td>0.167214</td>\n",
       "      <td>0.099745</td>\n",
       "      <td>False</td>\n",
       "      <td>0.688104</td>\n",
       "    </tr>\n",
       "    <tr>\n",
       "      <th>neuron_64</th>\n",
       "      <td>-0.699203</td>\n",
       "      <td>-0.270119</td>\n",
       "      <td>0.000229</td>\n",
       "      <td>True</td>\n",
       "      <td>-0.656295</td>\n",
       "    </tr>\n",
       "  </tbody>\n",
       "</table>\n",
       "<p>64 rows × 5 columns</p>\n",
       "</div>"
      ],
      "text/plain": [
       "             sample       cat    pvalue   sign new_value\n",
       "neuron_1   0.620903  0.165338  0.158772  False  0.620903\n",
       "neuron_2   0.390895 -0.519022       0.0   True  0.299903\n",
       "neuron_3   0.619284 -0.310005  0.000065   True  0.526355\n",
       "neuron_4  -0.331203  0.391009  0.000002   True -0.258982\n",
       "neuron_5   0.035298 -0.775784       0.0   True -0.045811\n",
       "...             ...       ...       ...    ...       ...\n",
       "neuron_60 -0.518064  0.102303  0.041585  False -0.518064\n",
       "neuron_61  0.392987 -0.253206  0.000311   True  0.328367\n",
       "neuron_62 -0.374186  0.417666  0.000002   True    -0.295\n",
       "neuron_63  0.688104  0.167214  0.099745  False  0.688104\n",
       "neuron_64 -0.699203 -0.270119  0.000229   True -0.656295\n",
       "\n",
       "[64 rows x 5 columns]"
      ]
     },
     "execution_count": 92,
     "metadata": {},
     "output_type": "execute_result"
    }
   ],
   "source": [
    "dfb.fillna(value=dfb[dfb['sign'] == False]['new_value'])"
   ]
  },
  {
   "cell_type": "code",
   "execution_count": 93,
   "id": "1310fdb1",
   "metadata": {},
   "outputs": [
    {
     "data": {
      "text/plain": [
       "neuron_1     0.620903\n",
       "neuron_7    -0.598741\n",
       "neuron_9    -0.521428\n",
       "neuron_12    0.601828\n",
       "neuron_14   -0.490387\n",
       "neuron_17   -0.597572\n",
       "neuron_19   -0.654028\n",
       "neuron_21   -0.699936\n",
       "neuron_26    0.557183\n",
       "neuron_28    0.537814\n",
       "neuron_29   -0.424607\n",
       "neuron_36   -0.485523\n",
       "neuron_38   -0.518009\n",
       "neuron_39    0.607066\n",
       "neuron_40   -0.693268\n",
       "neuron_46    0.545618\n",
       "neuron_49   -0.711325\n",
       "neuron_55    0.615605\n",
       "neuron_56    0.477533\n",
       "neuron_58   -0.578458\n",
       "neuron_60   -0.518064\n",
       "neuron_63    0.688104\n",
       "Name: sample, dtype: object"
      ]
     },
     "execution_count": 93,
     "metadata": {},
     "output_type": "execute_result"
    }
   ],
   "source": [
    "dfb[dfb['sign'] == False]['sample']"
   ]
  },
  {
   "cell_type": "markdown",
   "id": "e6961121",
   "metadata": {},
   "source": [
    "### Display the new visualization"
   ]
  },
  {
   "cell_type": "code",
   "execution_count": 94,
   "id": "d23ba174",
   "metadata": {},
   "outputs": [
    {
     "data": {
      "text/plain": [
       "array([0.6209031939506531, 0.39089512825012207, 0.6192838549613953,\n",
       "       -0.331202894449234, 0.03529762476682663, 0.9551053047180176,\n",
       "       -0.5987414121627808, 0.4750034213066101, -0.5214277505874634,\n",
       "       -0.6671690940856934, -0.7174901962280273, 0.6018282175064087,\n",
       "       -0.29000014066696167, -0.4903866946697235, -0.4754575490951538,\n",
       "       -0.3251701891422272, -0.5975720286369324, 0.8423337936401367,\n",
       "       -0.6540277600288391, -0.48083171248435974, -0.6999363303184509,\n",
       "       -0.4666197896003723, 0.45860347151756287, -0.4511827826499939,\n",
       "       -0.6625041961669922, 0.5571829676628113, -0.7365249991416931,\n",
       "       0.5378135442733765, -0.42460721731185913, -0.3495497703552246,\n",
       "       -0.6964253187179565, -0.23923085629940033, 0.44225528836250305,\n",
       "       -0.7564901113510132, 0.38534316420555115, -0.48552292585372925,\n",
       "       0.650604784488678, -0.5180094242095947, 0.6070660352706909,\n",
       "       -0.6932680606842041, -0.8742926716804504, 0.4942827820777893,\n",
       "       -0.10291731357574463, 0.8259029388427734, -0.8142294883728027,\n",
       "       0.5456178188323975, 0.02574590966105461, 0.40439361333847046,\n",
       "       -0.7113250494003296, -0.5799416899681091, -0.4640111029148102,\n",
       "       -0.8985820412635803, 0.24129842221736908, 1.1955089569091797,\n",
       "       0.6156046390533447, 0.4775330126285553, -0.5449355840682983,\n",
       "       -0.5784583687782288, 0.387797474861145, -0.5180636048316956,\n",
       "       0.3929866850376129, -0.3741856515407562, 0.6881043314933777,\n",
       "       -0.6992034316062927], dtype=object)"
      ]
     },
     "execution_count": 94,
     "metadata": {},
     "output_type": "execute_result"
    }
   ],
   "source": [
    "dfb['sample'].values"
   ]
  },
  {
   "cell_type": "code",
   "execution_count": 95,
   "id": "aac7c42f",
   "metadata": {},
   "outputs": [
    {
     "data": {
      "text/html": [
       "<div>\n",
       "<style scoped>\n",
       "    .dataframe tbody tr th:only-of-type {\n",
       "        vertical-align: middle;\n",
       "    }\n",
       "\n",
       "    .dataframe tbody tr th {\n",
       "        vertical-align: top;\n",
       "    }\n",
       "\n",
       "    .dataframe thead th {\n",
       "        text-align: right;\n",
       "    }\n",
       "</style>\n",
       "<table border=\"1\" class=\"dataframe\">\n",
       "  <thead>\n",
       "    <tr style=\"text-align: right;\">\n",
       "      <th></th>\n",
       "      <th>neuron_1</th>\n",
       "      <th>neuron_2</th>\n",
       "      <th>neuron_3</th>\n",
       "      <th>neuron_4</th>\n",
       "      <th>neuron_5</th>\n",
       "      <th>neuron_6</th>\n",
       "      <th>neuron_7</th>\n",
       "      <th>neuron_8</th>\n",
       "      <th>neuron_9</th>\n",
       "      <th>neuron_10</th>\n",
       "      <th>...</th>\n",
       "      <th>neuron_55</th>\n",
       "      <th>neuron_56</th>\n",
       "      <th>neuron_57</th>\n",
       "      <th>neuron_58</th>\n",
       "      <th>neuron_59</th>\n",
       "      <th>neuron_60</th>\n",
       "      <th>neuron_61</th>\n",
       "      <th>neuron_62</th>\n",
       "      <th>neuron_63</th>\n",
       "      <th>neuron_64</th>\n",
       "    </tr>\n",
       "  </thead>\n",
       "  <tbody>\n",
       "    <tr>\n",
       "      <th>http://dbpedia.org/resource/Pavel_Filonov</th>\n",
       "      <td>0.620903</td>\n",
       "      <td>0.390895</td>\n",
       "      <td>0.619284</td>\n",
       "      <td>-0.331203</td>\n",
       "      <td>0.035298</td>\n",
       "      <td>0.955105</td>\n",
       "      <td>-0.598741</td>\n",
       "      <td>0.475003</td>\n",
       "      <td>-0.521428</td>\n",
       "      <td>-0.667169</td>\n",
       "      <td>...</td>\n",
       "      <td>0.615605</td>\n",
       "      <td>0.477533</td>\n",
       "      <td>-0.544936</td>\n",
       "      <td>-0.578458</td>\n",
       "      <td>0.387797</td>\n",
       "      <td>-0.518064</td>\n",
       "      <td>0.392987</td>\n",
       "      <td>-0.374186</td>\n",
       "      <td>0.688104</td>\n",
       "      <td>-0.699203</td>\n",
       "    </tr>\n",
       "  </tbody>\n",
       "</table>\n",
       "<p>1 rows × 64 columns</p>\n",
       "</div>"
      ],
      "text/plain": [
       "                                           neuron_1  neuron_2  neuron_3  \\\n",
       "http://dbpedia.org/resource/Pavel_Filonov  0.620903  0.390895  0.619284   \n",
       "\n",
       "                                           neuron_4  neuron_5  neuron_6  \\\n",
       "http://dbpedia.org/resource/Pavel_Filonov -0.331203  0.035298  0.955105   \n",
       "\n",
       "                                           neuron_7  neuron_8  neuron_9  \\\n",
       "http://dbpedia.org/resource/Pavel_Filonov -0.598741  0.475003 -0.521428   \n",
       "\n",
       "                                           neuron_10  ...  neuron_55  \\\n",
       "http://dbpedia.org/resource/Pavel_Filonov  -0.667169  ...   0.615605   \n",
       "\n",
       "                                           neuron_56  neuron_57  neuron_58  \\\n",
       "http://dbpedia.org/resource/Pavel_Filonov   0.477533  -0.544936  -0.578458   \n",
       "\n",
       "                                           neuron_59  neuron_60  neuron_61  \\\n",
       "http://dbpedia.org/resource/Pavel_Filonov   0.387797  -0.518064   0.392987   \n",
       "\n",
       "                                           neuron_62  neuron_63  neuron_64  \n",
       "http://dbpedia.org/resource/Pavel_Filonov  -0.374186   0.688104  -0.699203  \n",
       "\n",
       "[1 rows x 64 columns]"
      ]
     },
     "execution_count": 95,
     "metadata": {},
     "output_type": "execute_result"
    }
   ],
   "source": [
    "df_act_sample"
   ]
  },
  {
   "cell_type": "code",
   "execution_count": 96,
   "id": "2c0f1e5b",
   "metadata": {},
   "outputs": [
    {
     "data": {
      "image/png": "[encoded data removed]",
      "text/plain": [
       "<Figure size 1080x432 with 2 Axes>"
      ]
     },
     "metadata": {
      "needs_background": "light"
     },
     "output_type": "display_data"
    }
   ],
   "source": [
    "plot_activ(df=pd.DataFrame(dfb['sample']).T, df2=pd.DataFrame(dfb['new_value']).T, df3=pd.DataFrame(dfb['cat']).T)"
   ]
  },
  {
   "cell_type": "markdown",
   "id": "0218f13f",
   "metadata": {},
   "source": [
    "We see on the visualization above that the second df (i.e. the new value) has became much closer"
   ]
  },
  {
   "cell_type": "markdown",
   "id": "ec3ab1de",
   "metadata": {},
   "source": [
    "### Re-build the back of the model and make a prediction"
   ]
  },
  {
   "cell_type": "code",
   "execution_count": 97,
   "id": "9b1c4296",
   "metadata": {},
   "outputs": [
    {
     "name": "stdout",
     "output_type": "stream",
     "text": [
      "Model: \"sequential\"\n",
      "_________________________________________________________________\n",
      " Layer (type)                Output Shape              Param #   \n",
      "=================================================================\n",
      " embedding (Embedding)       (None, 150, 64)           640000    \n",
      "                                                                 \n",
      " lstm (LSTM)                 (None, 16)                5184      \n",
      "                                                                 \n",
      " dense (Dense)               multiple                  136       \n",
      "                                                                 \n",
      " dropout (Dropout)           multiple                  0         \n",
      "                                                                 \n",
      " dense_1 (Dense)             multiple                  36        \n",
      "                                                                 \n",
      " dense_2 (Dense)             multiple                  5         \n",
      "                                                                 \n",
      "=================================================================\n",
      "Total params: 645,361\n",
      "Trainable params: 645,361\n",
      "Non-trainable params: 0\n",
      "_________________________________________________________________\n"
     ]
    }
   ],
   "source": [
    "model.summary()"
   ]
  },
  {
   "cell_type": "markdown",
   "id": "8782bddd",
   "metadata": {},
   "source": [
    "Instead of re-building the model as we did to get activations of each layer, we want to build the part after the layer we are getting closer the activations of.\n",
    "\n",
    "Thus, new computed activations become the inputs for the rest of the model."
   ]
  },
  {
   "cell_type": "code",
   "execution_count": 98,
   "id": "398b3166",
   "metadata": {},
   "outputs": [
    {
     "name": "stdout",
     "output_type": "stream",
     "text": [
      "Model: \"sequential_3\"\n",
      "_________________________________________________________________\n",
      " Layer (type)                Output Shape              Param #   \n",
      "=================================================================\n",
      " lstm (LSTM)                 (None, 16)                5184      \n",
      "                                                                 \n",
      " dense (Dense)               multiple                  136       \n",
      "                                                                 \n",
      " dropout (Dropout)           multiple                  0         \n",
      "                                                                 \n",
      " dense_1 (Dense)             multiple                  36        \n",
      "                                                                 \n",
      " dense_2 (Dense)             multiple                  5         \n",
      "                                                                 \n",
      "=================================================================\n",
      "Total params: 5,361\n",
      "Trainable params: 5,361\n",
      "Non-trainable params: 0\n",
      "_________________________________________________________________\n"
     ]
    }
   ],
   "source": [
    "rest_model = Sequential()\n",
    "for i in range(layer_to_explore + 1, len(model.layers)):\n",
    "    rest_model.add(model.layers[i])\n",
    "\n",
    "rest_model.build(input_shape=model.layers[0].output_shape) #input_shape\n",
    "rest_model.summary()"
   ]
  },
  {
   "cell_type": "code",
   "execution_count": 99,
   "id": "2bd7d621",
   "metadata": {},
   "outputs": [
    {
     "data": {
      "text/plain": [
       "neuron_1     0.620903\n",
       "neuron_2     0.299903\n",
       "neuron_3     0.526355\n",
       "neuron_4    -0.258982\n",
       "neuron_5    -0.045811\n",
       "               ...   \n",
       "neuron_60   -0.518064\n",
       "neuron_61    0.328367\n",
       "neuron_62      -0.295\n",
       "neuron_63    0.688104\n",
       "neuron_64   -0.656295\n",
       "Name: new_value, Length: 64, dtype: object"
      ]
     },
     "execution_count": 99,
     "metadata": {},
     "output_type": "execute_result"
    }
   ],
   "source": [
    "new_activations = dfb['new_value']\n",
    "new_activations"
   ]
  },
  {
   "cell_type": "code",
   "execution_count": 100,
   "id": "fa8e3332",
   "metadata": {},
   "outputs": [
    {
     "name": "stdout",
     "output_type": "stream",
     "text": [
      "(1, 1, 64)\n",
      "[[[ 0.6209032   0.29990336  0.526355   -0.25898176 -0.04581054\n",
      "    0.9133354  -0.5987414   0.4067991  -0.52142775 -0.62429035\n",
      "   -0.6723551   0.6018282  -0.33579308 -0.4903867  -0.549531\n",
      "   -0.27159438 -0.597572    0.8550677  -0.65402776 -0.41501194\n",
      "   -0.69993633 -0.449317    0.37122148 -0.37503433 -0.52312726\n",
      "    0.55718297 -0.7148259   0.53781354 -0.42460722 -0.2750784\n",
      "   -0.6695244  -0.15129074  0.3806657  -0.7307672   0.32620025\n",
      "   -0.48552293  0.6101613  -0.5180094   0.60706604 -0.69326806\n",
      "   -0.8681211   0.48628354 -0.00727886  0.8031268  -0.76394534\n",
      "    0.5456178   0.13648188  0.4044956  -0.71132505 -0.5521639\n",
      "   -0.5229077  -0.9185802   0.17137147  1.1522686   0.61560464\n",
      "    0.477533   -0.46836746 -0.57845837  0.3181693  -0.5180636\n",
      "    0.32836738 -0.29500043  0.68810433 -0.656295  ]]]\n"
     ]
    }
   ],
   "source": [
    "new_shape = model.layers[layer_to_explore].output_shape[-1]\n",
    "\n",
    "nas = np.asarray(new_activations).astype('float32').reshape(-1, 1, new_shape)\n",
    "print(nas.shape)\n",
    "print(nas)"
   ]
  },
  {
   "cell_type": "code",
   "execution_count": 101,
   "id": "96340b74",
   "metadata": {},
   "outputs": [
    {
     "name": "stdout",
     "output_type": "stream",
     "text": [
      "1/1 [==============================] - 0s 439ms/step\n"
     ]
    },
    {
     "data": {
      "text/plain": [
       "array([[0.5676128]], dtype=float32)"
      ]
     },
     "execution_count": 101,
     "metadata": {},
     "output_type": "execute_result"
    }
   ],
   "source": [
    "rest_model.predict(nas)"
   ]
  },
  {
   "cell_type": "markdown",
   "id": "a25fbe29",
   "metadata": {},
   "source": [
    "## Testing an issue point\n",
    "\n",
    "The main issue we could get is that we're taking the mean of the embedding to display the activations, so we saved it like that.\n",
    "Now, we want to 'boost' the activations for the Embedding layer but we took the mean.\n",
    "\n",
    "Let's see if the result from the mean and the original (not meaned) activations are really that different."
   ]
  },
  {
   "cell_type": "code",
   "execution_count": 114,
   "id": "53fed4ed",
   "metadata": {},
   "outputs": [
    {
     "data": {
      "text/plain": [
       "'http://dbpedia.org/resource/Pavel_Filonov'"
      ]
     },
     "execution_count": 114,
     "metadata": {},
     "output_type": "execute_result"
    }
   ],
   "source": [
    "sample_index = sample.index[0]\n",
    "sample_index"
   ]
  },
  {
   "cell_type": "code",
   "execution_count": 119,
   "id": "2498f203",
   "metadata": {},
   "outputs": [
    {
     "data": {
      "text/plain": [
       "array([[   0,    0,    0,    0,    0,    0,    0,    0,    0,    0,    0,\n",
       "           0,    0,    0,    0,    0,    0,    0,    0,    0,    0,    0,\n",
       "           0,    0,    0,    0,    0,    0,    0,    0,    0,    0,    0,\n",
       "           0,    0,    0,    0,    0,    0,    0,    0,    0,    0,    0,\n",
       "           0,    0,    0,    0,    0,    0,    0,    0,    0,    0,    0,\n",
       "           0,    0,    0,    0,    0,    0,    0,    0,    0,    0,    0,\n",
       "           0,    0,    0,    0,    0,    0,    0,    0,    0,    0,    0,\n",
       "           0,    0,    0,    0,    0,    0,    0,    0,    0,    0,    0,\n",
       "           0,    0,    0,    0,    0,    0,    0,    0,    0,    0,    0,\n",
       "           0,    0,    0,    0,    0,    0,    0,    0,    0,    0,    0,\n",
       "           0,    0,    0,    0,    0,    0,    0,    0,    0,    0,    0,\n",
       "           0,    0,    0,    0,    0,    0,    0,    0,    0,    0,    0,\n",
       "           0,    0, 3624, 3643,   19, 4961, 2289, 2032, 3040, 2357,   20,\n",
       "          25,   19,  290,    1,    2,  964,  132]])"
      ]
     },
     "execution_count": 119,
     "metadata": {},
     "output_type": "execute_result"
    }
   ],
   "source": [
    "sample_inputs = np.array([np.array(x) for x in wdf[wdf.index == sample_index].input])\n",
    "\n",
    "sample_inputs"
   ]
  },
  {
   "cell_type": "code",
   "execution_count": 118,
   "id": "45e851cf",
   "metadata": {},
   "outputs": [
    {
     "name": "stdout",
     "output_type": "stream",
     "text": [
      "Model: \"sequential_6\"\n",
      "_________________________________________________________________\n",
      " Layer (type)                Output Shape              Param #   \n",
      "=================================================================\n",
      " embedding (Embedding)       (None, 150, 64)           640000    \n",
      "                                                                 \n",
      "=================================================================\n",
      "Total params: 640,000\n",
      "Trainable params: 640,000\n",
      "Non-trainable params: 0\n",
      "_________________________________________________________________\n"
     ]
    }
   ],
   "source": [
    "fp_model = Sequential()\n",
    "fp_model.add(model.layers[0])\n",
    "fp_model.summary()"
   ]
  },
  {
   "cell_type": "code",
   "execution_count": 121,
   "id": "0e7230cd",
   "metadata": {},
   "outputs": [
    {
     "name": "stdout",
     "output_type": "stream",
     "text": [
      "1/1 [==============================] - 0s 11ms/step\n"
     ]
    }
   ],
   "source": [
    "fp_sample_act = fp_model.predict(sample_inputs)"
   ]
  },
  {
   "cell_type": "code",
   "execution_count": 123,
   "id": "980309a4",
   "metadata": {},
   "outputs": [
    {
     "name": "stdout",
     "output_type": "stream",
     "text": [
      "1/1 [==============================] - 0s 253ms/step\n"
     ]
    },
    {
     "data": {
      "text/plain": [
       "array([[0.29722556]], dtype=float32)"
      ]
     },
     "execution_count": 123,
     "metadata": {},
     "output_type": "execute_result"
    }
   ],
   "source": [
    "rest_model.predict(fp_sample_act)"
   ]
  },
  {
   "cell_type": "markdown",
   "id": "83c4abb0",
   "metadata": {},
   "source": [
    "So, for the original activations, we get **0.297**"
   ]
  },
  {
   "cell_type": "code",
   "execution_count": 129,
   "id": "07955897",
   "metadata": {},
   "outputs": [],
   "source": [
    "sample_mean_act = np.array(df_act_sample).reshape(-1, 1, 64)"
   ]
  },
  {
   "cell_type": "code",
   "execution_count": 130,
   "id": "3c6749d3",
   "metadata": {},
   "outputs": [
    {
     "name": "stdout",
     "output_type": "stream",
     "text": [
      "1/1 [==============================] - 0s 12ms/step\n"
     ]
    },
    {
     "data": {
      "text/plain": [
       "array([[0.4754896]], dtype=float32)"
      ]
     },
     "execution_count": 130,
     "metadata": {},
     "output_type": "execute_result"
    }
   ],
   "source": [
    "rest_model.predict(sample_mean_act)"
   ]
  },
  {
   "cell_type": "markdown",
   "id": "cf2d26b4",
   "metadata": {},
   "source": [
    "THERE IS A BIG DIFFERENCE\n",
    "\n",
    "That means, we must retrieve the original activations (without the mean) in order to boost these activations at the level of the Embedding layer because it seems that this is the layer which make the global decision for the output"
   ]
  }
 ],
 "metadata": {
  "kernelspec": {
   "display_name": "rnn-films",
   "language": "python",
   "name": "rnn-films"
  },
  "language_info": {
   "codemirror_mode": {
    "name": "ipython",
    "version": 3
   },
   "file_extension": ".py",
   "mimetype": "text/x-python",
   "name": "python",
   "nbconvert_exporter": "python",
   "pygments_lexer": "ipython3",
   "version": "3.9.7"
  }
 },
 "nbformat": 4,
 "nbformat_minor": 5
}
