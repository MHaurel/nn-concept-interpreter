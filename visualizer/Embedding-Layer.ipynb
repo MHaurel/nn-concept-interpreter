{
 "cells": [
  {
   "cell_type": "markdown",
   "id": "454e8ea2",
   "metadata": {},
   "source": [
    "# Understand Embedding layer"
   ]
  },
  {
   "cell_type": "markdown",
   "id": "a756191a",
   "metadata": {},
   "source": [
    "## Basic example"
   ]
  },
  {
   "cell_type": "code",
   "execution_count": 5,
   "id": "9c9b9bb2",
   "metadata": {},
   "outputs": [],
   "source": [
    "from tensorflow.keras.models import Sequential\n",
    "from tensorflow.keras.layers import Embedding\n",
    "\n",
    "import numpy as np"
   ]
  },
  {
   "cell_type": "code",
   "execution_count": 6,
   "id": "ca8cd387",
   "metadata": {},
   "outputs": [],
   "source": [
    "model = Sequential()\n",
    "embedding_layer = Embedding(input_dim=10, output_dim=4, input_length=2)\n",
    "model.add(embedding_layer)\n",
    "model.compile('adam', 'mse')"
   ]
  },
  {
   "cell_type": "code",
   "execution_count": 7,
   "id": "280261e4",
   "metadata": {},
   "outputs": [
    {
     "name": "stdout",
     "output_type": "stream",
     "text": [
      "1/1 [==============================] - 0s 349ms/step\n",
      "(1, 2)\n",
      "[[[-0.04788527 -0.04349394 -0.00317895 -0.03623734]\n",
      "  [-0.04228467  0.00742381  0.04753392 -0.02544016]]]\n"
     ]
    }
   ],
   "source": [
    "input_data = np.array([[1, 2]])\n",
    "pred = model.predict(input_data)\n",
    "print(input_data.shape)\n",
    "print(pred)"
   ]
  },
  {
   "cell_type": "code",
   "execution_count": 8,
   "id": "7fcb600d",
   "metadata": {},
   "outputs": [
    {
     "data": {
      "text/plain": [
       "[array([[ 0.02455905,  0.01105393, -0.01862649,  0.02651588],\n",
       "        [-0.04788527, -0.04349394, -0.00317895, -0.03623734],\n",
       "        [-0.04228467,  0.00742381,  0.04753392, -0.02544016],\n",
       "        [-0.00387619,  0.03649409, -0.00065585,  0.04683853],\n",
       "        [-0.02187707,  0.01539865,  0.01836853, -0.00290058],\n",
       "        [ 0.01581964,  0.01207968,  0.0160506 , -0.00442315],\n",
       "        [-0.03782524,  0.04370471, -0.01593099,  0.00055779],\n",
       "        [ 0.02505   ,  0.00263749,  0.02375183,  0.02757181],\n",
       "        [ 0.0096316 , -0.00630097, -0.00160276,  0.03710118],\n",
       "        [ 0.0383487 , -0.02766459, -0.01623661, -0.01034636]],\n",
       "       dtype=float32)]"
      ]
     },
     "execution_count": 8,
     "metadata": {},
     "output_type": "execute_result"
    }
   ],
   "source": [
    "embedding_layer.get_weights()"
   ]
  },
  {
   "cell_type": "markdown",
   "id": "b55c0b68",
   "metadata": {},
   "source": [
    "## Resaturant Review Classification"
   ]
  },
  {
   "cell_type": "code",
   "execution_count": 9,
   "id": "45cda6bf",
   "metadata": {},
   "outputs": [],
   "source": [
    "from numpy import array\n",
    "from tensorflow.keras.preprocessing.text import one_hot\n",
    "from tensorflow.keras.preprocessing.sequence import pad_sequences\n",
    "from tensorflow.keras.models import Sequential\n",
    "from tensorflow.keras.layers import Flatten, Embedding, Dense"
   ]
  },
  {
   "cell_type": "code",
   "execution_count": 10,
   "id": "01c935d2",
   "metadata": {},
   "outputs": [],
   "source": [
    "# Define 10 restaurant reviews\n",
    "reviews = [\n",
    "    \"Never coming back!\",\n",
    "    \"horrible service\",\n",
    "    'reude waitress',\n",
    "    'cold food',\n",
    "    'horrible food!',\n",
    "    'awesome',\n",
    "    'awesome services!',\n",
    "    'rocks',\n",
    "    'poor work',\n",
    "    'couldn\\'t have done better'\n",
    "]\n",
    "\n",
    "# Define labels\n",
    "labels = array([1,1,1,1,1,0,0,0,0,0])"
   ]
  },
  {
   "cell_type": "code",
   "execution_count": 11,
   "id": "dd01c031",
   "metadata": {},
   "outputs": [
    {
     "name": "stdout",
     "output_type": "stream",
     "text": [
      "Encoded reviews: [[40, 10, 9], [43, 47], [30, 9], [46, 38], [43, 38], [10], [10, 17], [28], [8, 6], [36, 49, 42, 21]]\n"
     ]
    }
   ],
   "source": [
    "vocab_size = 50\n",
    "encoded_reviews = [one_hot(d, vocab_size) for d in reviews]\n",
    "print(f'Encoded reviews: {encoded_reviews}')"
   ]
  },
  {
   "cell_type": "code",
   "execution_count": 12,
   "id": "5b203500",
   "metadata": {},
   "outputs": [
    {
     "name": "stdout",
     "output_type": "stream",
     "text": [
      "[[40 10  9  0]\n",
      " [43 47  0  0]\n",
      " [30  9  0  0]\n",
      " [46 38  0  0]\n",
      " [43 38  0  0]\n",
      " [10  0  0  0]\n",
      " [10 17  0  0]\n",
      " [28  0  0  0]\n",
      " [ 8  6  0  0]\n",
      " [36 49 42 21]]\n"
     ]
    }
   ],
   "source": [
    "max_length = 4\n",
    "padded_reviews = pad_sequences(encoded_reviews, maxlen=max_length, padding='post')\n",
    "print(padded_reviews)"
   ]
  },
  {
   "cell_type": "code",
   "execution_count": 13,
   "id": "e2a23da6",
   "metadata": {},
   "outputs": [
    {
     "name": "stdout",
     "output_type": "stream",
     "text": [
      "Model: \"sequential_2\"\n",
      "_________________________________________________________________\n",
      " Layer (type)                Output Shape              Param #   \n",
      "=================================================================\n",
      " embedding_2 (Embedding)     (None, 4, 8)              400       \n",
      "                                                                 \n",
      " flatten (Flatten)           (None, 32)                0         \n",
      "                                                                 \n",
      " dense (Dense)               (None, 1)                 33        \n",
      "                                                                 \n",
      "=================================================================\n",
      "Total params: 433\n",
      "Trainable params: 433\n",
      "Non-trainable params: 0\n",
      "_________________________________________________________________\n",
      "None\n"
     ]
    }
   ],
   "source": [
    "model = Sequential()\n",
    "embedding_layer = Embedding(input_dim=vocab_size, output_dim=8, input_length=max_length)\n",
    "model.add(embedding_layer)\n",
    "model.add(Flatten())\n",
    "model.add(Dense(1, activation='sigmoid'))\n",
    "model.compile(optimizer='adam', loss=\"binary_crossentropy\", metrics=['acc'])\n",
    "\n",
    "print(model.summary())"
   ]
  },
  {
   "cell_type": "code",
   "execution_count": 14,
   "id": "eeda628e",
   "metadata": {},
   "outputs": [
    {
     "data": {
      "text/plain": [
       "<keras.callbacks.History at 0x202a9072160>"
      ]
     },
     "execution_count": 14,
     "metadata": {},
     "output_type": "execute_result"
    }
   ],
   "source": [
    "model.fit(padded_reviews, labels, epochs=100, verbose=0)"
   ]
  },
  {
   "cell_type": "code",
   "execution_count": 15,
   "id": "6b79239e",
   "metadata": {},
   "outputs": [
    {
     "name": "stdout",
     "output_type": "stream",
     "text": [
      "(50, 8)\n"
     ]
    }
   ],
   "source": [
    "print(embedding_layer.get_weights()[0].shape)"
   ]
  },
  {
   "cell_type": "code",
   "execution_count": 20,
   "id": "0146da7d",
   "metadata": {},
   "outputs": [
    {
     "data": {
      "text/plain": [
       "50"
      ]
     },
     "execution_count": 20,
     "metadata": {},
     "output_type": "execute_result"
    }
   ],
   "source": [
    "len(embedding_layer.get_weights()[0])"
   ]
  },
  {
   "cell_type": "code",
   "execution_count": 21,
   "id": "b168cafa",
   "metadata": {},
   "outputs": [
    {
     "data": {
      "text/plain": [
       "8"
      ]
     },
     "execution_count": 21,
     "metadata": {},
     "output_type": "execute_result"
    }
   ],
   "source": [
    "len(embedding_layer.get_weights()[0][0])"
   ]
  },
  {
   "cell_type": "code",
   "execution_count": 24,
   "id": "8a463bb8",
   "metadata": {},
   "outputs": [
    {
     "data": {
      "text/plain": [
       "array([36, 49, 42, 21])"
      ]
     },
     "execution_count": 24,
     "metadata": {},
     "output_type": "execute_result"
    }
   ],
   "source": [
    "y_test = padded_reviews[-1]\n",
    "y_test"
   ]
  },
  {
   "cell_type": "code",
   "execution_count": 26,
   "id": "d5a94458",
   "metadata": {},
   "outputs": [
    {
     "name": "stdout",
     "output_type": "stream",
     "text": [
      "1/1 [==============================] - 0s 117ms/step\n"
     ]
    },
    {
     "data": {
      "text/plain": [
       "array([[0.25025597]], dtype=float32)"
      ]
     },
     "execution_count": 26,
     "metadata": {},
     "output_type": "execute_result"
    }
   ],
   "source": [
    "model.predict(array([y_test]))"
   ]
  },
  {
   "cell_type": "code",
   "execution_count": null,
   "id": "a8f735a9",
   "metadata": {},
   "outputs": [],
   "source": []
  }
 ],
 "metadata": {
  "kernelspec": {
   "display_name": "rnn-films",
   "language": "python",
   "name": "rnn-films"
  },
  "language_info": {
   "codemirror_mode": {
    "name": "ipython",
    "version": 3
   },
   "file_extension": ".py",
   "mimetype": "text/x-python",
   "name": "python",
   "nbconvert_exporter": "python",
   "pygments_lexer": "ipython3",
   "version": "3.9.7"
  }
 },
 "nbformat": 4,
 "nbformat_minor": 5
}
