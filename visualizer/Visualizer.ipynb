{
 "cells": [
  {
   "cell_type": "markdown",
   "id": "5c4244f6",
   "metadata": {
    "pycharm": {
     "name": "#%% md\n"
    }
   },
   "source": [
    "# Going through data"
   ]
  },
  {
   "cell_type": "code",
   "execution_count": 1,
   "id": "91a7b1ad",
   "metadata": {
    "pycharm": {
     "name": "#%%\n"
    }
   },
   "outputs": [],
   "source": [
    "import pandas as pd\n",
    "import numpy as np"
   ]
  },
  {
   "cell_type": "code",
   "execution_count": 2,
   "id": "3fe5a3db",
   "metadata": {
    "pycharm": {
     "name": "#%%\n"
    }
   },
   "outputs": [
    {
     "data": {
      "text/plain": [
       "(17403, 5)"
      ]
     },
     "execution_count": 2,
     "metadata": {},
     "output_type": "execute_result"
    }
   ],
   "source": [
    "df = pd.read_json('./data/bycountry_ds.json')\n",
    "df.shape"
   ]
  },
  {
   "cell_type": "code",
   "execution_count": 3,
   "id": "958781c8",
   "metadata": {
    "pycharm": {
     "name": "#%%\n"
    }
   },
   "outputs": [
    {
     "data": {
      "text/html": [
       "<div>\n",
       "<style scoped>\n",
       "    .dataframe tbody tr th:only-of-type {\n",
       "        vertical-align: middle;\n",
       "    }\n",
       "\n",
       "    .dataframe tbody tr th {\n",
       "        vertical-align: top;\n",
       "    }\n",
       "\n",
       "    .dataframe thead th {\n",
       "        text-align: right;\n",
       "    }\n",
       "</style>\n",
       "<table border=\"1\" class=\"dataframe\">\n",
       "  <thead>\n",
       "    <tr style=\"text-align: right;\">\n",
       "      <th></th>\n",
       "      <th>category</th>\n",
       "      <th>input</th>\n",
       "      <th>output_low</th>\n",
       "      <th>output_medium</th>\n",
       "      <th>output_high</th>\n",
       "    </tr>\n",
       "  </thead>\n",
       "  <tbody>\n",
       "    <tr>\n",
       "      <th>http://dbpedia.org/resource/...All_the_Marbles</th>\n",
       "      <td>[United States]</td>\n",
       "      <td>[0, 0, 0, 0, 0, 0, 0, 0, 0, 0, 0, 0, 0, 0, 0, ...</td>\n",
       "      <td>0</td>\n",
       "      <td>1</td>\n",
       "      <td>0</td>\n",
       "    </tr>\n",
       "    <tr>\n",
       "      <th>http://dbpedia.org/resource/An_Eye_for_an_Eye_(1981_film)</th>\n",
       "      <td>[United States]</td>\n",
       "      <td>[0, 0, 0, 0, 0, 0, 0, 0, 0, 0, 0, 0, 0, 0, 0, ...</td>\n",
       "      <td>0</td>\n",
       "      <td>1</td>\n",
       "      <td>0</td>\n",
       "    </tr>\n",
       "    <tr>\n",
       "      <th>http://dbpedia.org/resource/Brain_Dead_(1990_film)</th>\n",
       "      <td>[United States]</td>\n",
       "      <td>[0, 0, 0, 0, 0, 0, 0, 0, 0, 0, 0, 0, 0, 0, 0, ...</td>\n",
       "      <td>0</td>\n",
       "      <td>1</td>\n",
       "      <td>0</td>\n",
       "    </tr>\n",
       "    <tr>\n",
       "      <th>http://dbpedia.org/resource/For_Pete's_Sake_(film)</th>\n",
       "      <td>[United States]</td>\n",
       "      <td>[0, 0, 0, 0, 0, 0, 0, 0, 0, 0, 0, 0, 0, 0, 0, ...</td>\n",
       "      <td>0</td>\n",
       "      <td>1</td>\n",
       "      <td>0</td>\n",
       "    </tr>\n",
       "    <tr>\n",
       "      <th>http://dbpedia.org/resource/Hannah_Montana:_The_Movie</th>\n",
       "      <td>[United States]</td>\n",
       "      <td>[25, 6677, 48, 2, 138, 5, 331, 1, 7, 25, 6983,...</td>\n",
       "      <td>0</td>\n",
       "      <td>0</td>\n",
       "      <td>1</td>\n",
       "    </tr>\n",
       "  </tbody>\n",
       "</table>\n",
       "</div>"
      ],
      "text/plain": [
       "                                                           category  \\\n",
       "http://dbpedia.org/resource/...All_the_Marbles      [United States]   \n",
       "http://dbpedia.org/resource/An_Eye_for_an_Eye_(...  [United States]   \n",
       "http://dbpedia.org/resource/Brain_Dead_(1990_film)  [United States]   \n",
       "http://dbpedia.org/resource/For_Pete's_Sake_(film)  [United States]   \n",
       "http://dbpedia.org/resource/Hannah_Montana:_The...  [United States]   \n",
       "\n",
       "                                                                                                input  \\\n",
       "http://dbpedia.org/resource/...All_the_Marbles      [0, 0, 0, 0, 0, 0, 0, 0, 0, 0, 0, 0, 0, 0, 0, ...   \n",
       "http://dbpedia.org/resource/An_Eye_for_an_Eye_(...  [0, 0, 0, 0, 0, 0, 0, 0, 0, 0, 0, 0, 0, 0, 0, ...   \n",
       "http://dbpedia.org/resource/Brain_Dead_(1990_film)  [0, 0, 0, 0, 0, 0, 0, 0, 0, 0, 0, 0, 0, 0, 0, ...   \n",
       "http://dbpedia.org/resource/For_Pete's_Sake_(film)  [0, 0, 0, 0, 0, 0, 0, 0, 0, 0, 0, 0, 0, 0, 0, ...   \n",
       "http://dbpedia.org/resource/Hannah_Montana:_The...  [25, 6677, 48, 2, 138, 5, 331, 1, 7, 25, 6983,...   \n",
       "\n",
       "                                                    output_low  output_medium  \\\n",
       "http://dbpedia.org/resource/...All_the_Marbles               0              1   \n",
       "http://dbpedia.org/resource/An_Eye_for_an_Eye_(...           0              1   \n",
       "http://dbpedia.org/resource/Brain_Dead_(1990_film)           0              1   \n",
       "http://dbpedia.org/resource/For_Pete's_Sake_(film)           0              1   \n",
       "http://dbpedia.org/resource/Hannah_Montana:_The...           0              0   \n",
       "\n",
       "                                                    output_high  \n",
       "http://dbpedia.org/resource/...All_the_Marbles                0  \n",
       "http://dbpedia.org/resource/An_Eye_for_an_Eye_(...            0  \n",
       "http://dbpedia.org/resource/Brain_Dead_(1990_film)            0  \n",
       "http://dbpedia.org/resource/For_Pete's_Sake_(film)            0  \n",
       "http://dbpedia.org/resource/Hannah_Montana:_The...            1  "
      ]
     },
     "execution_count": 3,
     "metadata": {},
     "output_type": "execute_result"
    }
   ],
   "source": [
    "df.head()"
   ]
  },
  {
   "cell_type": "code",
   "execution_count": 4,
   "id": "41b5f652",
   "metadata": {
    "pycharm": {
     "name": "#%%\n"
    }
   },
   "outputs": [],
   "source": [
    "from tensorflow import keras"
   ]
  },
  {
   "cell_type": "code",
   "execution_count": 5,
   "id": "74153a31",
   "metadata": {
    "pycharm": {
     "name": "#%%\n"
    }
   },
   "outputs": [],
   "source": [
    "model = keras.models.load_model('./models/bycountry_model')"
   ]
  },
  {
   "cell_type": "code",
   "execution_count": 6,
   "id": "d5170063",
   "metadata": {
    "pycharm": {
     "name": "#%%\n"
    },
    "scrolled": true
   },
   "outputs": [
    {
     "name": "stdout",
     "output_type": "stream",
     "text": [
      "Model: \"sequential\"\n",
      "_________________________________________________________________\n",
      " Layer (type)                Output Shape              Param #   \n",
      "=================================================================\n",
      " embedding (Embedding)       (None, 100, 64)           640000    \n",
      "                                                                 \n",
      " lstm_3 (LSTM)               (None, 32)                12416     \n",
      "                                                                 \n",
      " dense (Dense)               (None, 3)                 99        \n",
      "                                                                 \n",
      "=================================================================\n",
      "Total params: 652,515\n",
      "Trainable params: 652,515\n",
      "Non-trainable params: 0\n",
      "_________________________________________________________________\n"
     ]
    }
   ],
   "source": [
    "model.summary()"
   ]
  },
  {
   "cell_type": "code",
   "execution_count": 7,
   "id": "77ef6ec6",
   "metadata": {
    "pycharm": {
     "name": "#%%\n"
    }
   },
   "outputs": [
    {
     "name": "stdout",
     "output_type": "stream",
     "text": [
      "0 embedding\n",
      "1 lstm_3\n",
      "<function tanh at 0x000002E1F30CD820>\n",
      "2 dense\n",
      "<function softmax at 0x000002E1F30C8A60>\n"
     ]
    }
   ],
   "source": [
    "for i, layer in enumerate(model.layers):\n",
    "    print(i, layer.name)\n",
    "    if i != 0: # Embedding does not have activation function\n",
    "        print(layer.activation)"
   ]
  },
  {
   "cell_type": "code",
   "execution_count": 8,
   "id": "9a9ad3fb",
   "metadata": {
    "pycharm": {
     "name": "#%%\n"
    }
   },
   "outputs": [],
   "source": [
    "from tensorflow.keras.models import Sequential\n",
    "from tensorflow.keras.layers import Dense, LSTM, Embedding, Dropout"
   ]
  },
  {
   "cell_type": "markdown",
   "id": "ffaccfdd",
   "metadata": {
    "pycharm": {
     "name": "#%% md\n"
    }
   },
   "source": [
    "Building a recomposed model"
   ]
  },
  {
   "cell_type": "code",
   "execution_count": 27,
   "id": "96415279",
   "metadata": {
    "pycharm": {
     "name": "#%%\n"
    }
   },
   "outputs": [],
   "source": [
    "layer_to_explore = 1"
   ]
  },
  {
   "cell_type": "code",
   "execution_count": 28,
   "id": "5ce44629",
   "metadata": {
    "pycharm": {
     "name": "#%%\n"
    }
   },
   "outputs": [
    {
     "name": "stdout",
     "output_type": "stream",
     "text": [
      "Adding layer 0\n",
      "Adding layer 1\n",
      "Model: \"sequential_1\"\n",
      "_________________________________________________________________\n",
      " Layer (type)                Output Shape              Param #   \n",
      "=================================================================\n",
      " embedding (Embedding)       (None, 100, 64)           640000    \n",
      "                                                                 \n",
      " lstm_3 (LSTM)               (None, 32)                12416     \n",
      "                                                                 \n",
      "=================================================================\n",
      "Total params: 652,416\n",
      "Trainable params: 652,416\n",
      "Non-trainable params: 0\n",
      "_________________________________________________________________\n"
     ]
    }
   ],
   "source": [
    "model2 = Sequential()\n",
    "\n",
    "for i in range(len(model.layers)):\n",
    "    if i < layer_to_explore + 1:\n",
    "        print(f\"Adding layer {i}\")\n",
    "        model2.add(model.layers[i])\n",
    "        \n",
    "model2.summary()"
   ]
  },
  {
   "cell_type": "markdown",
   "id": "d53319f5",
   "metadata": {
    "pycharm": {
     "name": "#%% md\n"
    }
   },
   "source": [
    "Format for the input to be passed to model.predict"
   ]
  },
  {
   "cell_type": "code",
   "execution_count": 29,
   "id": "0c54790c",
   "metadata": {
    "pycharm": {
     "name": "#%%\n"
    }
   },
   "outputs": [
    {
     "data": {
      "text/plain": [
       "(17403, 100)"
      ]
     },
     "execution_count": 29,
     "metadata": {},
     "output_type": "execute_result"
    }
   ],
   "source": [
    "inputs = np.array([np.array(x) for x in df.input])\n",
    "\n",
    "np.array(inputs).shape"
   ]
  },
  {
   "cell_type": "code",
   "execution_count": 30,
   "id": "6979d454",
   "metadata": {
    "pycharm": {
     "name": "#%%\n"
    }
   },
   "outputs": [
    {
     "name": "stdout",
     "output_type": "stream",
     "text": [
      "544/544 [==============================] - 13s 20ms/step\n"
     ]
    }
   ],
   "source": [
    "activations = model2.predict(inputs)"
   ]
  },
  {
   "cell_type": "code",
   "execution_count": 32,
   "id": "b1678bcc",
   "metadata": {},
   "outputs": [
    {
     "data": {
      "text/plain": [
       "0.292121"
      ]
     },
     "execution_count": 32,
     "metadata": {},
     "output_type": "execute_result"
    }
   ],
   "source": [
    "activations[0]"
   ]
  },
  {
   "cell_type": "markdown",
   "id": "9ae80218",
   "metadata": {
    "pycharm": {
     "name": "#%% md\n"
    }
   },
   "source": [
    "## Getting all the unique categories"
   ]
  },
  {
   "cell_type": "code",
   "execution_count": 13,
   "id": "c5f6c990",
   "metadata": {
    "pycharm": {
     "name": "#%%\n"
    }
   },
   "outputs": [],
   "source": [
    "# Need to check if the country is real\n",
    "def get_unique_categories(df):\n",
    "    unique_categories = []\n",
    "    for i in range(len(df.category)):\n",
    "        for cat in df.category[i]:\n",
    "            if cat not in unique_categories and cat != '':\n",
    "                unique_categories.append(cat)\n",
    "                \n",
    "    return unique_categories\n",
    "\n",
    "def get_popular_categories(df, thresh=500):\n",
    "    categories = get_unique_categories(df)\n",
    "    \n",
    "    dic = {}\n",
    "    for category in categories:\n",
    "        dic[category] = len(df[df.category.apply(lambda x: category in x)])\n",
    "        \n",
    "    return_dic = {c: n for c, n in dic.items() if n >= thresh}\n",
    "    \n",
    "    return sorted(return_dic.items(), key=lambda x: x[1], reverse=True) # Return sorted dictionary"
   ]
  },
  {
   "cell_type": "code",
   "execution_count": 14,
   "id": "9a839ab2",
   "metadata": {
    "pycharm": {
     "name": "#%%\n"
    },
    "scrolled": true
   },
   "outputs": [
    {
     "data": {
      "text/plain": [
       "['United States',\n",
       " 'France',\n",
       " 'Australia',\n",
       " 'United Kingdom',\n",
       " 'Mexico',\n",
       " 'Argentina',\n",
       " 'Italy',\n",
       " 'Spain',\n",
       " 'United States, Mexico',\n",
       " 'Belgium',\n",
       " 'Germany',\n",
       " 'Brazil',\n",
       " 'Japan',\n",
       " 'Lebanon',\n",
       " 'Ireland',\n",
       " 'Canada',\n",
       " 'Luxembourg',\n",
       " 'West Germany',\n",
       " 'USA',\n",
       " 'Russia',\n",
       " 'China',\n",
       " 'Serbia',\n",
       " 'Indonesia',\n",
       " 'Hong Kong',\n",
       " 'Switzerland',\n",
       " 'Armenia',\n",
       " 'Austria',\n",
       " 'India',\n",
       " 'Iran',\n",
       " 'Taiwan',\n",
       " 'Soviet Union',\n",
       " 'South Africa',\n",
       " 'Romania',\n",
       " 'South Korea',\n",
       " 'Cambodia',\n",
       " 'Netherlands',\n",
       " 'Sweden',\n",
       " 'Singapore',\n",
       " 'Poland',\n",
       " 'Norway',\n",
       " 'Mali',\n",
       " 'Czech Republic',\n",
       " 'Denmark',\n",
       " 'New Zealand',\n",
       " 'Lithuania',\n",
       " 'Jordan',\n",
       " 'Hungary',\n",
       " 'United States/Mexico',\n",
       " 'Yugoslavia',\n",
       " 'Italy, France',\n",
       " 'Colombia',\n",
       " 'Monaco',\n",
       " 'Syria',\n",
       " 'Slovakia',\n",
       " 'Ukraine',\n",
       " 'Morocco',\n",
       " 'Pakistan',\n",
       " 'Thailand',\n",
       " 'Israel',\n",
       " 'Mainland China',\n",
       " 'Bulgaria',\n",
       " 'Portugal',\n",
       " 'Nigeria',\n",
       " 'Chile',\n",
       " 'Peru',\n",
       " 'Iceland',\n",
       " 'Algeria',\n",
       " 'Tunisia',\n",
       " 'Greece',\n",
       " 'Malaysia',\n",
       " 'Cameroon',\n",
       " 'Kenya',\n",
       " 'Vietnam',\n",
       " 'Japan, United States',\n",
       " 'Puerto Rico',\n",
       " 'Finland',\n",
       " 'Kuwait',\n",
       " 'Libya',\n",
       " 'Paraguay',\n",
       " 'Turkey',\n",
       " 'Panama',\n",
       " 'Terrebonne',\n",
       " 'Saudi Arabia',\n",
       " 'UK / France',\n",
       " 'Czechoslovakia',\n",
       " 'France, Germany, Spain',\n",
       " 'Burkina Faso',\n",
       " 'France, Belgium',\n",
       " 'Italy, United States',\n",
       " 'United Arab Emirates',\n",
       " 'United States, Canada',\n",
       " 'Georgia',\n",
       " 'Spain, Portugal',\n",
       " 'Indonesia, Ecuador',\n",
       " 'Netherlands, Ireland',\n",
       " 'Poland, Pakistan',\n",
       " 'USA, Tanzania',\n",
       " 'Venezuela',\n",
       " 'Cuba',\n",
       " 'United States of America',\n",
       " 'United Kingdom \\nUnited States',\n",
       " 'Scotland',\n",
       " 'United states',\n",
       " 'France / Italy',\n",
       " 'United States / Israel',\n",
       " 'France/Italy',\n",
       " 'Sweden, Denmark, Italy',\n",
       " 'Liechtenstein',\n",
       " 'UK',\n",
       " 'Egypt',\n",
       " 'Italy/France',\n",
       " 'East Germany',\n",
       " '* Spain\\n* United Kingdom',\n",
       " 'United Kingdom, United States',\n",
       " 'Russia, Ukraine',\n",
       " 'Croatia',\n",
       " 'Bosnia and Herzegovina',\n",
       " 'Macedonia',\n",
       " 'Italy / France',\n",
       " 'Qatar',\n",
       " 'Cayman Islands',\n",
       " 'Malta',\n",
       " '*United States\\n*Russia',\n",
       " 'Albania',\n",
       " 'United Kingdom United States',\n",
       " 'Myanmar',\n",
       " 'Madagascar',\n",
       " 'Greenland',\n",
       " 'Mongolia',\n",
       " 'United Kingdom, Canada',\n",
       " 'France-Italy',\n",
       " 'Germany, United States',\n",
       " 'FR Yugoslavia',\n",
       " 'United Statesref|Fight Club, a film by the American studio 20th Century Fox, is often found in databases and related summaries to have the countries US and Germany, the latter being ascribable to the role of international funding.|group=\"nb\"',\n",
       " 'United Kingdom, United States, Japan',\n",
       " 'English',\n",
       " 'U.S',\n",
       " 'South Korean',\n",
       " 'US',\n",
       " 'Palestine',\n",
       " 'United States, France',\n",
       " 'Afghanistan',\n",
       " '* United States\\n* Canada',\n",
       " 'Iraq',\n",
       " 'France / Germany',\n",
       " 'CanadaFranceGermanySpainPortugal',\n",
       " 'Hong Kong/Thailand',\n",
       " 'Bangladesh',\n",
       " 'Senegal / France / Burkina Faso / Cameroon / Morocco / Tunisia',\n",
       " 'Kazakhstan',\n",
       " 'CanadaKuwait',\n",
       " 'Sweden, Denmark',\n",
       " 'United Kingdom / Zimbabwe',\n",
       " 'United Kingdom / Republic of South Africa',\n",
       " 'Hungary, West Germany, Austria',\n",
       " 'Canada, U.K.',\n",
       " 'U.S.',\n",
       " 'Israel,',\n",
       " 'Wales',\n",
       " '\"afi\" />',\n",
       " 'El Salvador',\n",
       " 'Republic of Ireland',\n",
       " 'Germany/Canada',\n",
       " 'SFR Yugoslavia',\n",
       " 'Dominican Republic',\n",
       " 'Germany, Israel',\n",
       " 'Germany, Switzerland',\n",
       " 'United Kingdom / France',\n",
       " 'United States/United Kingdom',\n",
       " 'Northern Ireland',\n",
       " 'Tamil Nadu',\n",
       " 'United States/Canada',\n",
       " 'Philippines',\n",
       " 'The Bahamas',\n",
       " 'Switzerland/Germany/South Africa',\n",
       " 'Great Britain',\n",
       " 'Germany, France, Ireland',\n",
       " 'Germany / United Kingdom',\n",
       " 'United Stades',\n",
       " 'United Kingdom / France / Italy',\n",
       " 'Ecuador',\n",
       " 'Canada / United Kingdom / France',\n",
       " '* United States\\n* Germany\\n* United Kingdom\\n* India',\n",
       " 'Mainland China and Taiwan',\n",
       " 'PhilippinesFrance',\n",
       " 'Finland / Sweden / UK',\n",
       " 'United States, India',\n",
       " 'Australia and New Zealand co-production',\n",
       " 'Taiwanese',\n",
       " 'America',\n",
       " 'British Hong Kong',\n",
       " 'Russian',\n",
       " 'Estonia',\n",
       " 'Latvia',\n",
       " 'Senegal',\n",
       " 'Yemen',\n",
       " 'North Macedonia',\n",
       " 'Uruguay',\n",
       " 'Slovenia',\n",
       " 'Mozambique',\n",
       " 'Korea',\n",
       " 'Australia, Italy',\n",
       " 'United States, Russia',\n",
       " 'Zambia',\n",
       " 'Sri Lanka',\n",
       " 'Switzerland / United States',\n",
       " 'Australian',\n",
       " 'Spanish',\n",
       " 'Belarus',\n",
       " 'Guatemala',\n",
       " 'Canada, France',\n",
       " 'Guinea',\n",
       " 'Unites States',\n",
       " 'Botswana',\n",
       " 'Hong Kong, China',\n",
       " 'French',\n",
       " 'Ethiopia',\n",
       " 'Nepal']"
      ]
     },
     "execution_count": 14,
     "metadata": {},
     "output_type": "execute_result"
    }
   ],
   "source": [
    "get_unique_categories(df)"
   ]
  },
  {
   "cell_type": "code",
   "execution_count": 48,
   "id": "2c02d828",
   "metadata": {
    "pycharm": {
     "name": "#%%\n"
    }
   },
   "outputs": [
    {
     "data": {
      "text/plain": [
       "[('United States', 10734),\n",
       " ('United Kingdom', 1757),\n",
       " ('France', 1725),\n",
       " ('Hong Kong', 804),\n",
       " ('Australia', 592),\n",
       " ('Japan', 580),\n",
       " ('China', 567),\n",
       " ('Canada', 499),\n",
       " ('Germany', 430),\n",
       " ('India', 377),\n",
       " ('Italy', 318)]"
      ]
     },
     "execution_count": 48,
     "metadata": {},
     "output_type": "execute_result"
    }
   ],
   "source": [
    "get_popular_categories(df, thresh=300)"
   ]
  },
  {
   "cell_type": "markdown",
   "id": "4eaf9399",
   "metadata": {
    "pycharm": {
     "name": "#%% md\n"
    }
   },
   "source": [
    "## Getting inputs for a specific category"
   ]
  },
  {
   "cell_type": "code",
   "execution_count": 16,
   "id": "c2f6456c",
   "metadata": {
    "pycharm": {
     "name": "#%%\n"
    }
   },
   "outputs": [],
   "source": [
    "def get_inputs_for_cat(category, df):\n",
    "    raw_inputs = df[df.category.apply(lambda x: category in x)].input\n",
    "    inputs = []\n",
    "    for i in range(len(raw_inputs)):\n",
    "        inputs.append(raw_inputs[i])\n",
    "    return np.array(inputs)"
   ]
  },
  {
   "cell_type": "code",
   "execution_count": 17,
   "id": "f418e0d8",
   "metadata": {
    "pycharm": {
     "name": "#%%\n"
    }
   },
   "outputs": [
    {
     "data": {
      "text/plain": [
       "array([[   0,    0,    0, ...,  108,   23,  192],\n",
       "       [   0,    0,    0, ..., 1372,  287,  121],\n",
       "       [   0,    0,    0, ...,    9,  141, 2048],\n",
       "       ...,\n",
       "       [   0,    0,    0, ...,   22,  608, 1051],\n",
       "       [   0,    0,    0, ...,   99,   24,   26],\n",
       "       [   0,    0,    0, ...,  101, 3619, 1568]])"
      ]
     },
     "execution_count": 17,
     "metadata": {},
     "output_type": "execute_result"
    }
   ],
   "source": [
    "get_inputs_for_cat('France', df)"
   ]
  },
  {
   "cell_type": "markdown",
   "id": "fdfdc619",
   "metadata": {
    "pycharm": {
     "name": "#%% md\n"
    }
   },
   "source": [
    "## Getting all activations and standardize the DataFrame"
   ]
  },
  {
   "cell_type": "code",
   "execution_count": 18,
   "id": "154d6228",
   "metadata": {
    "pycharm": {
     "name": "#%%\n"
    }
   },
   "outputs": [],
   "source": [
    "def standardize(df):\n",
    "    \"\"\"\n",
    "    Standardize the whole dataframe\n",
    "    \"\"\"\n",
    "    df_s = df.copy()\n",
    "    for col in df:\n",
    "        if \"neuron\" in col:\n",
    "            df_s[col] = (df[col] - df[col].mean()) / df[col].std()\n",
    "\n",
    "    return df_s"
   ]
  },
  {
   "cell_type": "code",
   "execution_count": 19,
   "id": "2fd7a552",
   "metadata": {
    "pycharm": {
     "name": "#%%\n"
    }
   },
   "outputs": [],
   "source": [
    "def get_all_activations(df, model):\n",
    "    new_df = pd.DataFrame()\n",
    "    \n",
    "    raw_inputs = df.input\n",
    "    inputs = []\n",
    "    for i in range(len(raw_inputs)):\n",
    "        inputs.append(raw_inputs[i])\n",
    "    \n",
    "    new_df['category'] = df.category\n",
    "    new_df['input'] = df.input\n",
    "    new_df['output_low'] = df.output_low\n",
    "    new_df['output_medium'] = df.output_medium\n",
    "    new_df['output_high'] = df.output_high\n",
    "\n",
    "    activations = model.predict(inputs)\n",
    "    \n",
    "    if isinstance(model.layers[-1], Embedding):\n",
    "        mean_activations = []\n",
    "        for a in activations:\n",
    "            mean_activations.append(pd.DataFrame(a).mean())\n",
    "        activations = np.array(mean_activations)\n",
    "    \n",
    "    for neuron_index, value_list in enumerate(activations.T):\n",
    "        index = f\"neuron_{neuron_index + 1}\"\n",
    "        new_df[index] = value_list\n",
    "    \n",
    "    return standardize(new_df)"
   ]
  },
  {
   "cell_type": "code",
   "execution_count": 20,
   "id": "1aec8e8d",
   "metadata": {
    "pycharm": {
     "name": "#%%\n"
    },
    "scrolled": true
   },
   "outputs": [
    {
     "name": "stdout",
     "output_type": "stream",
     "text": [
      "544/544 [==============================] - 2s 3ms/step\n"
     ]
    },
    {
     "ename": "KeyboardInterrupt",
     "evalue": "",
     "output_type": "error",
     "traceback": [
      "\u001b[1;31m---------------------------------------------------------------------------\u001b[0m",
      "\u001b[1;31mKeyboardInterrupt\u001b[0m                         Traceback (most recent call last)",
      "\u001b[1;32m~\\AppData\\Local\\Temp/ipykernel_16684/2085960652.py\u001b[0m in \u001b[0;36m<module>\u001b[1;34m\u001b[0m\n\u001b[1;32m----> 1\u001b[1;33m \u001b[0mdf_act\u001b[0m \u001b[1;33m=\u001b[0m \u001b[0mget_all_activations\u001b[0m\u001b[1;33m(\u001b[0m\u001b[0mdf\u001b[0m\u001b[1;33m,\u001b[0m \u001b[0mmodel2\u001b[0m\u001b[1;33m)\u001b[0m\u001b[1;33m\u001b[0m\u001b[1;33m\u001b[0m\u001b[0m\n\u001b[0m",
      "\u001b[1;32m~\\AppData\\Local\\Temp/ipykernel_16684/4023636005.py\u001b[0m in \u001b[0;36mget_all_activations\u001b[1;34m(df, model)\u001b[0m\n\u001b[0;32m     18\u001b[0m         \u001b[0mmean_activations\u001b[0m \u001b[1;33m=\u001b[0m \u001b[1;33m[\u001b[0m\u001b[1;33m]\u001b[0m\u001b[1;33m\u001b[0m\u001b[1;33m\u001b[0m\u001b[0m\n\u001b[0;32m     19\u001b[0m         \u001b[1;32mfor\u001b[0m \u001b[0ma\u001b[0m \u001b[1;32min\u001b[0m \u001b[0mactivations\u001b[0m\u001b[1;33m:\u001b[0m\u001b[1;33m\u001b[0m\u001b[1;33m\u001b[0m\u001b[0m\n\u001b[1;32m---> 20\u001b[1;33m             \u001b[0mmean_activations\u001b[0m\u001b[1;33m.\u001b[0m\u001b[0mappend\u001b[0m\u001b[1;33m(\u001b[0m\u001b[0mpd\u001b[0m\u001b[1;33m.\u001b[0m\u001b[0mDataFrame\u001b[0m\u001b[1;33m(\u001b[0m\u001b[0ma\u001b[0m\u001b[1;33m)\u001b[0m\u001b[1;33m.\u001b[0m\u001b[0mmean\u001b[0m\u001b[1;33m(\u001b[0m\u001b[1;33m)\u001b[0m\u001b[1;33m)\u001b[0m\u001b[1;33m\u001b[0m\u001b[1;33m\u001b[0m\u001b[0m\n\u001b[0m\u001b[0;32m     21\u001b[0m         \u001b[0mactivations\u001b[0m \u001b[1;33m=\u001b[0m \u001b[0mnp\u001b[0m\u001b[1;33m.\u001b[0m\u001b[0marray\u001b[0m\u001b[1;33m(\u001b[0m\u001b[0mmean_activations\u001b[0m\u001b[1;33m)\u001b[0m\u001b[1;33m\u001b[0m\u001b[1;33m\u001b[0m\u001b[0m\n\u001b[0;32m     22\u001b[0m \u001b[1;33m\u001b[0m\u001b[0m\n",
      "\u001b[1;32mD:\\users\\maxim\\anaconda3\\envs\\rnn-films\\lib\\site-packages\\pandas\\core\\generic.py\u001b[0m in \u001b[0;36mmean\u001b[1;34m(self, axis, skipna, level, numeric_only, **kwargs)\u001b[0m\n\u001b[0;32m  10749\u001b[0m         )\n\u001b[0;32m  10750\u001b[0m         \u001b[1;32mdef\u001b[0m \u001b[0mmean\u001b[0m\u001b[1;33m(\u001b[0m\u001b[0mself\u001b[0m\u001b[1;33m,\u001b[0m \u001b[0maxis\u001b[0m\u001b[1;33m=\u001b[0m\u001b[1;32mNone\u001b[0m\u001b[1;33m,\u001b[0m \u001b[0mskipna\u001b[0m\u001b[1;33m=\u001b[0m\u001b[1;32mNone\u001b[0m\u001b[1;33m,\u001b[0m \u001b[0mlevel\u001b[0m\u001b[1;33m=\u001b[0m\u001b[1;32mNone\u001b[0m\u001b[1;33m,\u001b[0m \u001b[0mnumeric_only\u001b[0m\u001b[1;33m=\u001b[0m\u001b[1;32mNone\u001b[0m\u001b[1;33m,\u001b[0m \u001b[1;33m**\u001b[0m\u001b[0mkwargs\u001b[0m\u001b[1;33m)\u001b[0m\u001b[1;33m:\u001b[0m\u001b[1;33m\u001b[0m\u001b[1;33m\u001b[0m\u001b[0m\n\u001b[1;32m> 10751\u001b[1;33m             \u001b[1;32mreturn\u001b[0m \u001b[0mNDFrame\u001b[0m\u001b[1;33m.\u001b[0m\u001b[0mmean\u001b[0m\u001b[1;33m(\u001b[0m\u001b[0mself\u001b[0m\u001b[1;33m,\u001b[0m \u001b[0maxis\u001b[0m\u001b[1;33m,\u001b[0m \u001b[0mskipna\u001b[0m\u001b[1;33m,\u001b[0m \u001b[0mlevel\u001b[0m\u001b[1;33m,\u001b[0m \u001b[0mnumeric_only\u001b[0m\u001b[1;33m,\u001b[0m \u001b[1;33m**\u001b[0m\u001b[0mkwargs\u001b[0m\u001b[1;33m)\u001b[0m\u001b[1;33m\u001b[0m\u001b[1;33m\u001b[0m\u001b[0m\n\u001b[0m\u001b[0;32m  10752\u001b[0m \u001b[1;33m\u001b[0m\u001b[0m\n\u001b[0;32m  10753\u001b[0m         \u001b[0msetattr\u001b[0m\u001b[1;33m(\u001b[0m\u001b[0mcls\u001b[0m\u001b[1;33m,\u001b[0m \u001b[1;34m\"mean\"\u001b[0m\u001b[1;33m,\u001b[0m \u001b[0mmean\u001b[0m\u001b[1;33m)\u001b[0m\u001b[1;33m\u001b[0m\u001b[1;33m\u001b[0m\u001b[0m\n",
      "\u001b[1;32mD:\\users\\maxim\\anaconda3\\envs\\rnn-films\\lib\\site-packages\\pandas\\core\\generic.py\u001b[0m in \u001b[0;36mmean\u001b[1;34m(self, axis, skipna, level, numeric_only, **kwargs)\u001b[0m\n\u001b[0;32m  10367\u001b[0m \u001b[1;33m\u001b[0m\u001b[0m\n\u001b[0;32m  10368\u001b[0m     \u001b[1;32mdef\u001b[0m \u001b[0mmean\u001b[0m\u001b[1;33m(\u001b[0m\u001b[0mself\u001b[0m\u001b[1;33m,\u001b[0m \u001b[0maxis\u001b[0m\u001b[1;33m=\u001b[0m\u001b[1;32mNone\u001b[0m\u001b[1;33m,\u001b[0m \u001b[0mskipna\u001b[0m\u001b[1;33m=\u001b[0m\u001b[1;32mNone\u001b[0m\u001b[1;33m,\u001b[0m \u001b[0mlevel\u001b[0m\u001b[1;33m=\u001b[0m\u001b[1;32mNone\u001b[0m\u001b[1;33m,\u001b[0m \u001b[0mnumeric_only\u001b[0m\u001b[1;33m=\u001b[0m\u001b[1;32mNone\u001b[0m\u001b[1;33m,\u001b[0m \u001b[1;33m**\u001b[0m\u001b[0mkwargs\u001b[0m\u001b[1;33m)\u001b[0m\u001b[1;33m:\u001b[0m\u001b[1;33m\u001b[0m\u001b[1;33m\u001b[0m\u001b[0m\n\u001b[1;32m> 10369\u001b[1;33m         return self._stat_function(\n\u001b[0m\u001b[0;32m  10370\u001b[0m             \u001b[1;34m\"mean\"\u001b[0m\u001b[1;33m,\u001b[0m \u001b[0mnanops\u001b[0m\u001b[1;33m.\u001b[0m\u001b[0mnanmean\u001b[0m\u001b[1;33m,\u001b[0m \u001b[0maxis\u001b[0m\u001b[1;33m,\u001b[0m \u001b[0mskipna\u001b[0m\u001b[1;33m,\u001b[0m \u001b[0mlevel\u001b[0m\u001b[1;33m,\u001b[0m \u001b[0mnumeric_only\u001b[0m\u001b[1;33m,\u001b[0m \u001b[1;33m**\u001b[0m\u001b[0mkwargs\u001b[0m\u001b[1;33m\u001b[0m\u001b[1;33m\u001b[0m\u001b[0m\n\u001b[0;32m  10371\u001b[0m         )\n",
      "\u001b[1;32mD:\\users\\maxim\\anaconda3\\envs\\rnn-films\\lib\\site-packages\\pandas\\core\\generic.py\u001b[0m in \u001b[0;36m_stat_function\u001b[1;34m(self, name, func, axis, skipna, level, numeric_only, **kwargs)\u001b[0m\n\u001b[0;32m  10352\u001b[0m                 \u001b[0mname\u001b[0m\u001b[1;33m,\u001b[0m \u001b[0maxis\u001b[0m\u001b[1;33m=\u001b[0m\u001b[0maxis\u001b[0m\u001b[1;33m,\u001b[0m \u001b[0mlevel\u001b[0m\u001b[1;33m=\u001b[0m\u001b[0mlevel\u001b[0m\u001b[1;33m,\u001b[0m \u001b[0mskipna\u001b[0m\u001b[1;33m=\u001b[0m\u001b[0mskipna\u001b[0m\u001b[1;33m,\u001b[0m \u001b[0mnumeric_only\u001b[0m\u001b[1;33m=\u001b[0m\u001b[0mnumeric_only\u001b[0m\u001b[1;33m\u001b[0m\u001b[1;33m\u001b[0m\u001b[0m\n\u001b[0;32m  10353\u001b[0m             )\n\u001b[1;32m> 10354\u001b[1;33m         return self._reduce(\n\u001b[0m\u001b[0;32m  10355\u001b[0m             \u001b[0mfunc\u001b[0m\u001b[1;33m,\u001b[0m \u001b[0mname\u001b[0m\u001b[1;33m=\u001b[0m\u001b[0mname\u001b[0m\u001b[1;33m,\u001b[0m \u001b[0maxis\u001b[0m\u001b[1;33m=\u001b[0m\u001b[0maxis\u001b[0m\u001b[1;33m,\u001b[0m \u001b[0mskipna\u001b[0m\u001b[1;33m=\u001b[0m\u001b[0mskipna\u001b[0m\u001b[1;33m,\u001b[0m \u001b[0mnumeric_only\u001b[0m\u001b[1;33m=\u001b[0m\u001b[0mnumeric_only\u001b[0m\u001b[1;33m\u001b[0m\u001b[1;33m\u001b[0m\u001b[0m\n\u001b[0;32m  10356\u001b[0m         )\n",
      "\u001b[1;32mD:\\users\\maxim\\anaconda3\\envs\\rnn-films\\lib\\site-packages\\pandas\\core\\frame.py\u001b[0m in \u001b[0;36m_reduce\u001b[1;34m(self, op, name, axis, skipna, numeric_only, filter_type, **kwds)\u001b[0m\n\u001b[0;32m   9849\u001b[0m             \u001b[1;31m# After possibly _get_data and transposing, we are now in the\u001b[0m\u001b[1;33m\u001b[0m\u001b[1;33m\u001b[0m\u001b[0m\n\u001b[0;32m   9850\u001b[0m             \u001b[1;31m#  simple case where we can use BlockManager.reduce\u001b[0m\u001b[1;33m\u001b[0m\u001b[1;33m\u001b[0m\u001b[0m\n\u001b[1;32m-> 9851\u001b[1;33m             \u001b[0mres\u001b[0m\u001b[1;33m,\u001b[0m \u001b[0m_\u001b[0m \u001b[1;33m=\u001b[0m \u001b[0mdf\u001b[0m\u001b[1;33m.\u001b[0m\u001b[0m_mgr\u001b[0m\u001b[1;33m.\u001b[0m\u001b[0mreduce\u001b[0m\u001b[1;33m(\u001b[0m\u001b[0mblk_func\u001b[0m\u001b[1;33m,\u001b[0m \u001b[0mignore_failures\u001b[0m\u001b[1;33m=\u001b[0m\u001b[0mignore_failures\u001b[0m\u001b[1;33m)\u001b[0m\u001b[1;33m\u001b[0m\u001b[1;33m\u001b[0m\u001b[0m\n\u001b[0m\u001b[0;32m   9852\u001b[0m             \u001b[0mout\u001b[0m \u001b[1;33m=\u001b[0m \u001b[0mdf\u001b[0m\u001b[1;33m.\u001b[0m\u001b[0m_constructor\u001b[0m\u001b[1;33m(\u001b[0m\u001b[0mres\u001b[0m\u001b[1;33m)\u001b[0m\u001b[1;33m.\u001b[0m\u001b[0miloc\u001b[0m\u001b[1;33m[\u001b[0m\u001b[1;36m0\u001b[0m\u001b[1;33m]\u001b[0m\u001b[1;33m\u001b[0m\u001b[1;33m\u001b[0m\u001b[0m\n\u001b[0;32m   9853\u001b[0m             \u001b[1;32mif\u001b[0m \u001b[0mout_dtype\u001b[0m \u001b[1;32mis\u001b[0m \u001b[1;32mnot\u001b[0m \u001b[1;32mNone\u001b[0m\u001b[1;33m:\u001b[0m\u001b[1;33m\u001b[0m\u001b[1;33m\u001b[0m\u001b[0m\n",
      "\u001b[1;32mD:\\users\\maxim\\anaconda3\\envs\\rnn-films\\lib\\site-packages\\pandas\\core\\internals\\managers.py\u001b[0m in \u001b[0;36mreduce\u001b[1;34m(self, func, ignore_failures)\u001b[0m\n\u001b[0;32m   1281\u001b[0m         \u001b[0mres_blocks\u001b[0m\u001b[1;33m:\u001b[0m \u001b[0mlist\u001b[0m\u001b[1;33m[\u001b[0m\u001b[0mBlock\u001b[0m\u001b[1;33m]\u001b[0m \u001b[1;33m=\u001b[0m \u001b[1;33m[\u001b[0m\u001b[1;33m]\u001b[0m\u001b[1;33m\u001b[0m\u001b[1;33m\u001b[0m\u001b[0m\n\u001b[0;32m   1282\u001b[0m         \u001b[1;32mfor\u001b[0m \u001b[0mblk\u001b[0m \u001b[1;32min\u001b[0m \u001b[0mself\u001b[0m\u001b[1;33m.\u001b[0m\u001b[0mblocks\u001b[0m\u001b[1;33m:\u001b[0m\u001b[1;33m\u001b[0m\u001b[1;33m\u001b[0m\u001b[0m\n\u001b[1;32m-> 1283\u001b[1;33m             \u001b[0mnbs\u001b[0m \u001b[1;33m=\u001b[0m \u001b[0mblk\u001b[0m\u001b[1;33m.\u001b[0m\u001b[0mreduce\u001b[0m\u001b[1;33m(\u001b[0m\u001b[0mfunc\u001b[0m\u001b[1;33m,\u001b[0m \u001b[0mignore_failures\u001b[0m\u001b[1;33m)\u001b[0m\u001b[1;33m\u001b[0m\u001b[1;33m\u001b[0m\u001b[0m\n\u001b[0m\u001b[0;32m   1284\u001b[0m             \u001b[0mres_blocks\u001b[0m\u001b[1;33m.\u001b[0m\u001b[0mextend\u001b[0m\u001b[1;33m(\u001b[0m\u001b[0mnbs\u001b[0m\u001b[1;33m)\u001b[0m\u001b[1;33m\u001b[0m\u001b[1;33m\u001b[0m\u001b[0m\n\u001b[0;32m   1285\u001b[0m \u001b[1;33m\u001b[0m\u001b[0m\n",
      "\u001b[1;32mD:\\users\\maxim\\anaconda3\\envs\\rnn-films\\lib\\site-packages\\pandas\\core\\internals\\blocks.py\u001b[0m in \u001b[0;36mreduce\u001b[1;34m(self, func, ignore_failures)\u001b[0m\n\u001b[0;32m    389\u001b[0m \u001b[1;33m\u001b[0m\u001b[0m\n\u001b[0;32m    390\u001b[0m         \u001b[1;32mtry\u001b[0m\u001b[1;33m:\u001b[0m\u001b[1;33m\u001b[0m\u001b[1;33m\u001b[0m\u001b[0m\n\u001b[1;32m--> 391\u001b[1;33m             \u001b[0mresult\u001b[0m \u001b[1;33m=\u001b[0m \u001b[0mfunc\u001b[0m\u001b[1;33m(\u001b[0m\u001b[0mself\u001b[0m\u001b[1;33m.\u001b[0m\u001b[0mvalues\u001b[0m\u001b[1;33m)\u001b[0m\u001b[1;33m\u001b[0m\u001b[1;33m\u001b[0m\u001b[0m\n\u001b[0m\u001b[0;32m    392\u001b[0m         \u001b[1;32mexcept\u001b[0m \u001b[1;33m(\u001b[0m\u001b[0mTypeError\u001b[0m\u001b[1;33m,\u001b[0m \u001b[0mNotImplementedError\u001b[0m\u001b[1;33m)\u001b[0m\u001b[1;33m:\u001b[0m\u001b[1;33m\u001b[0m\u001b[1;33m\u001b[0m\u001b[0m\n\u001b[0;32m    393\u001b[0m             \u001b[1;32mif\u001b[0m \u001b[0mignore_failures\u001b[0m\u001b[1;33m:\u001b[0m\u001b[1;33m\u001b[0m\u001b[1;33m\u001b[0m\u001b[0m\n",
      "\u001b[1;32mD:\\users\\maxim\\anaconda3\\envs\\rnn-films\\lib\\site-packages\\pandas\\core\\frame.py\u001b[0m in \u001b[0;36mblk_func\u001b[1;34m(values, axis)\u001b[0m\n\u001b[0;32m   9821\u001b[0m                 \u001b[1;32mreturn\u001b[0m \u001b[0mvalues\u001b[0m\u001b[1;33m.\u001b[0m\u001b[0m_reduce\u001b[0m\u001b[1;33m(\u001b[0m\u001b[0mname\u001b[0m\u001b[1;33m,\u001b[0m \u001b[0mskipna\u001b[0m\u001b[1;33m=\u001b[0m\u001b[0mskipna\u001b[0m\u001b[1;33m,\u001b[0m \u001b[1;33m**\u001b[0m\u001b[0mkwds\u001b[0m\u001b[1;33m)\u001b[0m\u001b[1;33m\u001b[0m\u001b[1;33m\u001b[0m\u001b[0m\n\u001b[0;32m   9822\u001b[0m             \u001b[1;32melse\u001b[0m\u001b[1;33m:\u001b[0m\u001b[1;33m\u001b[0m\u001b[1;33m\u001b[0m\u001b[0m\n\u001b[1;32m-> 9823\u001b[1;33m                 \u001b[1;32mreturn\u001b[0m \u001b[0mop\u001b[0m\u001b[1;33m(\u001b[0m\u001b[0mvalues\u001b[0m\u001b[1;33m,\u001b[0m \u001b[0maxis\u001b[0m\u001b[1;33m=\u001b[0m\u001b[0maxis\u001b[0m\u001b[1;33m,\u001b[0m \u001b[0mskipna\u001b[0m\u001b[1;33m=\u001b[0m\u001b[0mskipna\u001b[0m\u001b[1;33m,\u001b[0m \u001b[1;33m**\u001b[0m\u001b[0mkwds\u001b[0m\u001b[1;33m)\u001b[0m\u001b[1;33m\u001b[0m\u001b[1;33m\u001b[0m\u001b[0m\n\u001b[0m\u001b[0;32m   9824\u001b[0m \u001b[1;33m\u001b[0m\u001b[0m\n\u001b[0;32m   9825\u001b[0m         \u001b[1;32mdef\u001b[0m \u001b[0m_get_data\u001b[0m\u001b[1;33m(\u001b[0m\u001b[1;33m)\u001b[0m \u001b[1;33m->\u001b[0m \u001b[0mDataFrame\u001b[0m\u001b[1;33m:\u001b[0m\u001b[1;33m\u001b[0m\u001b[1;33m\u001b[0m\u001b[0m\n",
      "\u001b[1;32mD:\\users\\maxim\\anaconda3\\envs\\rnn-films\\lib\\site-packages\\pandas\\core\\nanops.py\u001b[0m in \u001b[0;36m_f\u001b[1;34m(*args, **kwargs)\u001b[0m\n\u001b[0;32m     91\u001b[0m             \u001b[1;32mtry\u001b[0m\u001b[1;33m:\u001b[0m\u001b[1;33m\u001b[0m\u001b[1;33m\u001b[0m\u001b[0m\n\u001b[0;32m     92\u001b[0m                 \u001b[1;32mwith\u001b[0m \u001b[0mnp\u001b[0m\u001b[1;33m.\u001b[0m\u001b[0merrstate\u001b[0m\u001b[1;33m(\u001b[0m\u001b[0minvalid\u001b[0m\u001b[1;33m=\u001b[0m\u001b[1;34m\"ignore\"\u001b[0m\u001b[1;33m)\u001b[0m\u001b[1;33m:\u001b[0m\u001b[1;33m\u001b[0m\u001b[1;33m\u001b[0m\u001b[0m\n\u001b[1;32m---> 93\u001b[1;33m                     \u001b[1;32mreturn\u001b[0m \u001b[0mf\u001b[0m\u001b[1;33m(\u001b[0m\u001b[1;33m*\u001b[0m\u001b[0margs\u001b[0m\u001b[1;33m,\u001b[0m \u001b[1;33m**\u001b[0m\u001b[0mkwargs\u001b[0m\u001b[1;33m)\u001b[0m\u001b[1;33m\u001b[0m\u001b[1;33m\u001b[0m\u001b[0m\n\u001b[0m\u001b[0;32m     94\u001b[0m             \u001b[1;32mexcept\u001b[0m \u001b[0mValueError\u001b[0m \u001b[1;32mas\u001b[0m \u001b[0me\u001b[0m\u001b[1;33m:\u001b[0m\u001b[1;33m\u001b[0m\u001b[1;33m\u001b[0m\u001b[0m\n\u001b[0;32m     95\u001b[0m                 \u001b[1;31m# we want to transform an object array\u001b[0m\u001b[1;33m\u001b[0m\u001b[1;33m\u001b[0m\u001b[0m\n",
      "\u001b[1;32mD:\\users\\maxim\\anaconda3\\envs\\rnn-films\\lib\\site-packages\\pandas\\core\\nanops.py\u001b[0m in \u001b[0;36mf\u001b[1;34m(values, axis, skipna, **kwds)\u001b[0m\n\u001b[0;32m    144\u001b[0m                     \u001b[1;31m#  TypeError if called\u001b[0m\u001b[1;33m\u001b[0m\u001b[1;33m\u001b[0m\u001b[0m\n\u001b[0;32m    145\u001b[0m                     \u001b[0mkwds\u001b[0m\u001b[1;33m.\u001b[0m\u001b[0mpop\u001b[0m\u001b[1;33m(\u001b[0m\u001b[1;34m\"mask\"\u001b[0m\u001b[1;33m,\u001b[0m \u001b[1;32mNone\u001b[0m\u001b[1;33m)\u001b[0m\u001b[1;33m\u001b[0m\u001b[1;33m\u001b[0m\u001b[0m\n\u001b[1;32m--> 146\u001b[1;33m                     \u001b[0mresult\u001b[0m \u001b[1;33m=\u001b[0m \u001b[0mbn_func\u001b[0m\u001b[1;33m(\u001b[0m\u001b[0mvalues\u001b[0m\u001b[1;33m,\u001b[0m \u001b[0maxis\u001b[0m\u001b[1;33m=\u001b[0m\u001b[0maxis\u001b[0m\u001b[1;33m,\u001b[0m \u001b[1;33m**\u001b[0m\u001b[0mkwds\u001b[0m\u001b[1;33m)\u001b[0m\u001b[1;33m\u001b[0m\u001b[1;33m\u001b[0m\u001b[0m\n\u001b[0m\u001b[0;32m    147\u001b[0m \u001b[1;33m\u001b[0m\u001b[0m\n\u001b[0;32m    148\u001b[0m                     \u001b[1;31m# prefer to treat inf/-inf as NA, but must compute the func\u001b[0m\u001b[1;33m\u001b[0m\u001b[1;33m\u001b[0m\u001b[0m\n",
      "\u001b[1;31mKeyboardInterrupt\u001b[0m: "
     ]
    }
   ],
   "source": [
    "df_act = get_all_activations(df, model2)"
   ]
  },
  {
   "cell_type": "code",
   "execution_count": null,
   "id": "cf8a81ff",
   "metadata": {
    "pycharm": {
     "name": "#%%\n"
    }
   },
   "outputs": [],
   "source": [
    "df_act.head()"
   ]
  },
  {
   "cell_type": "code",
   "execution_count": null,
   "id": "8336d5de",
   "metadata": {
    "pycharm": {
     "name": "#%%\n"
    }
   },
   "outputs": [],
   "source": [
    "c = \"France\"\n",
    "\n",
    "df_s = df_act.copy()"
   ]
  },
  {
   "cell_type": "code",
   "execution_count": null,
   "id": "df455350",
   "metadata": {
    "pycharm": {
     "name": "#%%\n"
    }
   },
   "outputs": [],
   "source": [
    "def get_cat_df(category, df):\n",
    "    \"\"\"\n",
    "    df : The standardized dataframe\n",
    "    \"\"\"\n",
    "    return df[df.category.apply(lambda x: category in x)]\n",
    "\n",
    "def get_activation_for_cat(category, df):\n",
    "    \"\"\"\n",
    "    df : The standardized dataframe\n",
    "    \"\"\"\n",
    "    return get_cat_df(category, df).iloc[:, 5:]"
   ]
  },
  {
   "cell_type": "code",
   "execution_count": null,
   "id": "b416ec7d",
   "metadata": {
    "pycharm": {
     "name": "#%%\n"
    }
   },
   "outputs": [],
   "source": [
    "get_activation_for_cat('France', df_s)"
   ]
  },
  {
   "cell_type": "code",
   "execution_count": null,
   "id": "d7405fdf",
   "metadata": {
    "pycharm": {
     "name": "#%%\n"
    }
   },
   "outputs": [],
   "source": [
    "def get_activation_for_not_cat(category, df):\n",
    "    \"\"\"\n",
    "    df : The standardized dataframe\n",
    "    \"\"\"\n",
    "    return getNotCatDF(category, df).iloc[:, 5:]\n",
    "\n",
    "def getNotCatDF(cat, df): # Standardized df\n",
    "    \"\"\"\n",
    "    df : The standardized dataframe\n",
    "    \"\"\"\n",
    "    return df[df.category.apply(lambda x: cat not in x)]"
   ]
  },
  {
   "cell_type": "code",
   "execution_count": null,
   "id": "f76406a5",
   "metadata": {
    "pycharm": {
     "name": "#%%\n"
    },
    "scrolled": false
   },
   "outputs": [],
   "source": [
    "actnc = get_activation_for_not_cat(c, df_s) # (15678, 32)\n",
    "\n",
    "actc = get_activation_for_cat(c, df_s) # (1725, 32)\n",
    "\n",
    "actnc.sample(len(actc))"
   ]
  },
  {
   "cell_type": "markdown",
   "id": "3ba78942",
   "metadata": {
    "pycharm": {
     "name": "#%% md\n"
    }
   },
   "source": [
    "https://likegeeks.com/seaborn-heatmap-tutorial/#Changing_heatmap_color"
   ]
  },
  {
   "cell_type": "code",
   "execution_count": null,
   "id": "6578a884",
   "metadata": {
    "pycharm": {
     "name": "#%%\n"
    }
   },
   "outputs": [],
   "source": [
    "from scipy import stats\n",
    "import plotly.graph_objects as go\n",
    "import seaborn as sns\n",
    "import matplotlib.pyplot as plt\n",
    "import time\n",
    "\n",
    "def find_pv(category):\n",
    "    start_time = time.time()\n",
    "    \n",
    "    actc = get_activation_for_cat(category, df_s)\n",
    "    actnc = get_activation_for_not_cat(category, df_s)\n",
    "    reses = []\n",
    "    for i in range(1000):  \n",
    "        actncs = actnc.sample(len(actc), replace=True)\n",
    "        res = []\n",
    "        for col in actc:\n",
    "            p = stats.wilcoxon(np.array(actncs[col]), y=np.array(actc[col])).pvalue\n",
    "            res.append(p)\n",
    "        reses.append(res)\n",
    "    return_df = pd.DataFrame(np.array(reses)).mean()\n",
    "    \n",
    "    print(f\"--- For find_pv with c={category}: {time.time() - start_time}cseconds ---\")\n",
    "    return return_df\n",
    "\n",
    "def get_heatmaps_dict(self):\n",
    "    start_time = time.time()\n",
    "\n",
    "    dheatmaps = {}\n",
    "\n",
    "    heatmap_path = '../heatmaps/'\n",
    "\n",
    "    if not os.path.exists(heatmap_path):\n",
    "        os.makedirs(heatmap_path)\n",
    "\n",
    "    #for i in range(len(self.model.get_layers())):\n",
    "    for i in range(len(self.dfs)):\n",
    "        ddf = {}\n",
    "\n",
    "        current_path = os.path.join(heatmap_path, self.model.get_layers()[i].name)\n",
    "        if not os.path.exists(current_path):\n",
    "            os.makedirs(current_path)\n",
    "\n",
    "        for c, n in self.get_popular_categories(thresh=500):\n",
    "            for_cat = {}\n",
    "\n",
    "            r = self.find_pv(c, self.dfs[i])\n",
    "\n",
    "            # 1st heatmap\n",
    "            rdf = pd.DataFrame(r)\n",
    "            ax = sns.heatmap(rdf.T, cbar=False, cmap=\"Greys\")\n",
    "            fig = ax.get_figure()\n",
    "            path = f\"{current_path}/{c}-1.png\"\n",
    "            fig.savefig(path)\n",
    "\n",
    "            for_cat['heatmap-1'] = {}\n",
    "            for_cat['heatmap-1']['path'] = path\n",
    "            for_cat['heatmap-1']['data'] = np.array(rdf[0]).T\n",
    "\n",
    "            # 2nd heatmap\n",
    "            rdf[0] = rdf[0].apply(lambda x: 0 if x > 0.01 else 1)\n",
    "            ax = sns.heatmap(rdf.T, cbar=False, cmap=\"Greys\")\n",
    "            fig = ax.get_figure()\n",
    "            path = f\"{current_path}/{c}-2.png\"\n",
    "            fig.savefig(path)\n",
    "\n",
    "            for_cat['heatmap-2'] = {}\n",
    "            for_cat['heatmap-2']['path'] = path\n",
    "            for_cat['heatmap-2']['data'] = np.array(rdf[0]).T\n",
    "\n",
    "            # Add paths to dict\n",
    "            ddf[c] = for_cat\n",
    "\n",
    "        dheatmaps[self.model.get_layers()[i].name] = ddf\n",
    "\n",
    "    print(f\"--- For get_heatmaps_dict: {time.time() - start_time} seconds ---\")\n",
    "\n",
    "    return dheatmaps\n",
    "\n"
   ]
  },
  {
   "cell_type": "code",
   "execution_count": null,
   "id": "4e03f3e2",
   "metadata": {
    "pycharm": {
     "name": "#%%\n"
    }
   },
   "outputs": [],
   "source": [
    "def get_heatmaps_dict():\n",
    "    dheatmaps = {}\n",
    "    for c, n in get_popular_categories(df_s, thresh=500):\n",
    "        for_cat = {}\n",
    "\n",
    "        r = find_pv(c)\n",
    "\n",
    "        # 1st heatmap\n",
    "        rdf = pd.DataFrame(r)\n",
    "        ax = sns.heatmap(rdf.T, cbar=False, cmap=\"Greys\")\n",
    "        fig = ax.get_figure()\n",
    "        path = f\"../heatmaps/{c}-1.png\"\n",
    "        #fig.savefig(path)\n",
    "\n",
    "        for_cat['heatmap-1'] = {}\n",
    "        for_cat['heatmap-1']['path'] = path\n",
    "        for_cat['heatmap-1']['data'] = np.array(rdf[0]).T\n",
    "\n",
    "        # 2st heatmap\n",
    "        rdf[0] = rdf[0].apply(lambda x: 0 if x > 0.01 else 1)\n",
    "        ax = sns.heatmap(rdf.T, cbar=False, cmap=\"Greys\")\n",
    "        fig = ax.get_figure()\n",
    "        path = f\"../heatmaps/{c}-2.png\"\n",
    "        #fig.savefig(path)\n",
    "\n",
    "        for_cat['heatmap-2'] = {}\n",
    "        for_cat['heatmap-2']['path'] = path\n",
    "        for_cat['heatmap-2']['data'] = np.array(rdf[0]).T\n",
    "\n",
    "        # Add paths to dict\n",
    "        dheatmaps[c] = for_cat\n",
    "\n",
    "    return dheatmaps"
   ]
  },
  {
   "cell_type": "code",
   "execution_count": null,
   "id": "059b4edc",
   "metadata": {
    "pycharm": {
     "name": "#%%\n"
    }
   },
   "outputs": [],
   "source": [
    "get_heatmaps_dict()"
   ]
  },
  {
   "cell_type": "markdown",
   "id": "25ca412e",
   "metadata": {
    "pycharm": {
     "name": "#%% md\n"
    }
   },
   "source": [
    "\"\"\"\n",
    "for c, n in get_popular_categories(df):\n",
    "    print(c)\n",
    "    r = find_pv(c)\n",
    "    rdf = pd.DataFrame(r)\n",
    "    \n",
    "    sns.heatmap(rdf.T, cmap=\"Greys\")\n",
    "    plt.show()\n",
    "    \n",
    "    \"\"\"\"\"\"\n",
    "    data = [go.Heatmap(z=rdf.T, zmin=0, zmax=1,\n",
    "            colorscale=['rgb(255, 255, 255)', 'rgb(0, 0, 0)'], \n",
    "            reversescale=False)]\n",
    "    layout = go.Layout(template='none', height=300)\n",
    "    fig = go.Figure(data=data, layout=layout)\n",
    "    fig.show()\"\"\"\n",
    "    \"\"\"\n",
    "    \n",
    "\n",
    "    rdf[0] = rdf[0].apply(lambda x: 0 if x > 0.01 else 1)\n",
    "    \n",
    "    sns.heatmap(rdf.T, cmap=\"Greys\")\n",
    "    plt.show()\n",
    "    \n",
    "    \"\"\"\"\"\"\n",
    "    data = [go.Heatmap(z=rdf.T, zmin=0, zmax=1,\n",
    "            colorscale=['rgb(0, 0, 0)', 'rgb(255, 255, 255)'], \n",
    "            reversescale=False)]\n",
    "    layout = go.Layout(template='none', height=300)\n",
    "    fig = go.Figure(data=data, layout=layout)\n",
    "    fig.show()\n",
    "    \"\"\"\"\"\""
   ]
  },
  {
   "cell_type": "code",
   "execution_count": null,
   "id": "0aebafcb",
   "metadata": {
    "pycharm": {
     "name": "#%%\n"
    }
   },
   "outputs": [],
   "source": [
    "get_heatmaps_dict()"
   ]
  },
  {
   "cell_type": "markdown",
   "id": "a31176b5",
   "metadata": {
    "pycharm": {
     "name": "#%% md\n"
    }
   },
   "source": [
    "\"\"\"\n",
    "for c, n in get_popular_categories(df):\n",
    "    print(c)\n",
    "    r = find_pv(c)\n",
    "    rdf = pd.DataFrame(r)\n",
    "    \n",
    "    sns.heatmap(rdf.T, cmap=\"Greys\")\n",
    "    plt.show()\n",
    "    \n",
    "    \"\"\"\"\"\"\n",
    "    data = [go.Heatmap(z=rdf.T, zmin=0, zmax=1,\n",
    "            colorscale=['rgb(255, 255, 255)', 'rgb(0, 0, 0)'], \n",
    "            reversescale=False)]\n",
    "    layout = go.Layout(template='none', height=300)\n",
    "    fig = go.Figure(data=data, layout=layout)\n",
    "    fig.show()\"\"\"\n",
    "    \"\"\"\n",
    "    \n",
    "\n",
    "    rdf[0] = rdf[0].apply(lambda x: 0 if x > 0.01 else 1)\n",
    "    \n",
    "    sns.heatmap(rdf.T, cmap=\"Greys\")\n",
    "    plt.show()\n",
    "    \n",
    "    \"\"\"\"\"\"\n",
    "    data = [go.Heatmap(z=rdf.T, zmin=0, zmax=1,\n",
    "            colorscale=['rgb(0, 0, 0)', 'rgb(255, 255, 255)'], \n",
    "            reversescale=False)]\n",
    "    layout = go.Layout(template='none', height=300)\n",
    "    fig = go.Figure(data=data, layout=layout)\n",
    "    fig.show()\n",
    "    \"\"\"\"\"\""
   ]
  },
  {
   "cell_type": "code",
   "execution_count": null,
   "id": "8d3bfd05",
   "metadata": {
    "pycharm": {
     "name": "#%%\n"
    }
   },
   "outputs": [],
   "source": [
    "def get_all_activations(df, model):\n",
    "    new_df = pd.DataFrame()\n",
    "    \n",
    "    raw_inputs = df.input\n",
    "    inputs = []\n",
    "    for i in range(len(raw_inputs)):\n",
    "        inputs.append(raw_inputs[i])\n",
    "    \n",
    "    new_df['category'] = df.category\n",
    "    new_df['input'] = df.input\n",
    "    new_df['output_low'] = df.output_low\n",
    "    new_df['output_medium'] = df.output_medium\n",
    "    new_df['output_high'] = df.output_high\n",
    "\n",
    "    activations = model.predict(inputs)\n",
    "    for neuron_index, value_list in enumerate(activations.T):\n",
    "        index = f\"neuron_{neuron_index + 1}\"\n",
    "        new_df[index] = value_list\n",
    "    \n",
    "    return standardize(new_df)"
   ]
  },
  {
   "cell_type": "code",
   "execution_count": 21,
   "id": "317aef7c",
   "metadata": {
    "pycharm": {
     "name": "#%%\n"
    }
   },
   "outputs": [
    {
     "name": "stdout",
     "output_type": "stream",
     "text": [
      "544/544 [==============================] - 2s 3ms/step\n"
     ]
    },
    {
     "data": {
      "text/plain": [
       "array([[[ 0.03974721, -0.01969532, -0.03421203, ..., -0.0004223 ,\n",
       "          0.0011404 ,  0.08591275],\n",
       "        [ 0.03974721, -0.01969532, -0.03421203, ..., -0.0004223 ,\n",
       "          0.0011404 ,  0.08591275],\n",
       "        [ 0.03974721, -0.01969532, -0.03421203, ..., -0.0004223 ,\n",
       "          0.0011404 ,  0.08591275],\n",
       "        ...,\n",
       "        [-0.04529711, -0.03400601,  0.01857534, ...,  0.02998969,\n",
       "          0.02016949, -0.00056641],\n",
       "        [-0.01474597, -0.04339802,  0.01841702, ...,  0.04422619,\n",
       "         -0.07639269,  0.08313026],\n",
       "        [-0.03443238, -0.0105089 ,  0.05758018, ...,  0.0113349 ,\n",
       "          0.06457688,  0.0321545 ]],\n",
       "\n",
       "       [[ 0.03974721, -0.01969532, -0.03421203, ..., -0.0004223 ,\n",
       "          0.0011404 ,  0.08591275],\n",
       "        [ 0.03974721, -0.01969532, -0.03421203, ..., -0.0004223 ,\n",
       "          0.0011404 ,  0.08591275],\n",
       "        [ 0.03974721, -0.01969532, -0.03421203, ..., -0.0004223 ,\n",
       "          0.0011404 ,  0.08591275],\n",
       "        ...,\n",
       "        [ 0.01513298, -0.03770915, -0.03066242, ..., -0.01248638,\n",
       "          0.03348966, -0.09291409],\n",
       "        [-0.00131787,  0.07299867,  0.0504068 , ..., -0.04151214,\n",
       "         -0.07215175,  0.00025167],\n",
       "        [-0.04309957, -0.04786665,  0.01945728, ..., -0.02479992,\n",
       "          0.06116972,  0.01434513]],\n",
       "\n",
       "       [[ 0.03974721, -0.01969532, -0.03421203, ..., -0.0004223 ,\n",
       "          0.0011404 ,  0.08591275],\n",
       "        [ 0.03974721, -0.01969532, -0.03421203, ..., -0.0004223 ,\n",
       "          0.0011404 ,  0.08591275],\n",
       "        [ 0.03974721, -0.01969532, -0.03421203, ..., -0.0004223 ,\n",
       "          0.0011404 ,  0.08591275],\n",
       "        ...,\n",
       "        [-0.00393985,  0.02806127,  0.0330717 , ...,  0.04950216,\n",
       "          0.01935902, -0.01001856],\n",
       "        [-0.04990508, -0.04687634, -0.0215791 , ...,  0.03829369,\n",
       "          0.01874041, -0.081048  ],\n",
       "        [ 0.12834173, -0.06352377,  0.02975387, ..., -0.02653576,\n",
       "         -0.08562071, -0.01191955]],\n",
       "\n",
       "       ...,\n",
       "\n",
       "       [[ 0.03974721, -0.01969532, -0.03421203, ..., -0.0004223 ,\n",
       "          0.0011404 ,  0.08591275],\n",
       "        [ 0.03974721, -0.01969532, -0.03421203, ..., -0.0004223 ,\n",
       "          0.0011404 ,  0.08591275],\n",
       "        [ 0.03974721, -0.01969532, -0.03421203, ..., -0.0004223 ,\n",
       "          0.0011404 ,  0.08591275],\n",
       "        ...,\n",
       "        [ 0.11979214, -0.20556505, -0.10238527, ...,  0.10340957,\n",
       "         -0.1152216 , -0.02983778],\n",
       "        [ 0.09676605, -0.07328958, -0.02578007, ...,  0.05157114,\n",
       "         -0.05994465, -0.02624149],\n",
       "        [ 0.00895922,  0.08250994,  0.06805609, ..., -0.0411225 ,\n",
       "         -0.03316772,  0.06730584]],\n",
       "\n",
       "       [[ 0.03974721, -0.01969532, -0.03421203, ..., -0.0004223 ,\n",
       "          0.0011404 ,  0.08591275],\n",
       "        [ 0.03974721, -0.01969532, -0.03421203, ..., -0.0004223 ,\n",
       "          0.0011404 ,  0.08591275],\n",
       "        [ 0.03974721, -0.01969532, -0.03421203, ..., -0.0004223 ,\n",
       "          0.0011404 ,  0.08591275],\n",
       "        ...,\n",
       "        [-0.0122092 , -0.03787209, -0.04847671, ...,  0.05571109,\n",
       "         -0.05844788,  0.0138105 ],\n",
       "        [-0.05565671,  0.08828702,  0.04402608, ..., -0.03397422,\n",
       "         -0.01613035, -0.06353335],\n",
       "        [ 0.03938504,  0.02111584, -0.00566506, ...,  0.09423741,\n",
       "         -0.03262352,  0.06749546]],\n",
       "\n",
       "       [[ 0.03974721, -0.01969532, -0.03421203, ..., -0.0004223 ,\n",
       "          0.0011404 ,  0.08591275],\n",
       "        [ 0.03974721, -0.01969532, -0.03421203, ..., -0.0004223 ,\n",
       "          0.0011404 ,  0.08591275],\n",
       "        [ 0.03974721, -0.01969532, -0.03421203, ..., -0.0004223 ,\n",
       "          0.0011404 ,  0.08591275],\n",
       "        ...,\n",
       "        [ 0.09800611, -0.01456383,  0.02335821, ..., -0.01959869,\n",
       "         -0.03921679, -0.06558701],\n",
       "        [-0.01610515,  0.08450573,  0.07559892, ..., -0.0345804 ,\n",
       "          0.0404539 ,  0.05871983],\n",
       "        [-0.13888569,  0.01539506,  0.07995451, ..., -0.0627111 ,\n",
       "          0.09051562,  0.01329379]]], dtype=float32)"
      ]
     },
     "execution_count": 21,
     "metadata": {},
     "output_type": "execute_result"
    }
   ],
   "source": [
    "raw_inputs = df.input\n",
    "inputs = [x for x in df.input]\n",
    "\n",
    "new_df = pd.DataFrame()\n",
    "\n",
    "activations = model2.predict(inputs)\n",
    "activations"
   ]
  },
  {
   "cell_type": "code",
   "execution_count": 24,
   "id": "59b9cf92",
   "metadata": {
    "pycharm": {
     "name": "#%%\n"
    }
   },
   "outputs": [
    {
     "data": {
      "text/plain": [
       "-0.00063485024"
      ]
     },
     "execution_count": 24,
     "metadata": {},
     "output_type": "execute_result"
    }
   ],
   "source": [
    "activations[0].mean()"
   ]
  },
  {
   "cell_type": "code",
   "execution_count": 25,
   "id": "710e642b",
   "metadata": {
    "pycharm": {
     "name": "#%%\n"
    }
   },
   "outputs": [
    {
     "data": {
      "text/plain": [
       "((17403, 100, 64), (64, 100, 17403))"
      ]
     },
     "execution_count": 25,
     "metadata": {},
     "output_type": "execute_result"
    }
   ],
   "source": [
    "activations.shape, activations.T.shape"
   ]
  },
  {
   "cell_type": "code",
   "execution_count": 26,
   "id": "a4e63882",
   "metadata": {
    "pycharm": {
     "name": "#%%\n"
    }
   },
   "outputs": [
    {
     "data": {
      "text/plain": [
       "(64,)"
      ]
     },
     "execution_count": 26,
     "metadata": {},
     "output_type": "execute_result"
    }
   ],
   "source": [
    "activations[0][0].shape"
   ]
  },
  {
   "cell_type": "markdown",
   "id": "e83b7fb7",
   "metadata": {},
   "source": [
    "## Testing church model"
   ]
  },
  {
   "cell_type": "code",
   "execution_count": 72,
   "id": "ebc401c2",
   "metadata": {},
   "outputs": [],
   "source": [
    "from keras.models import Sequential\n",
    "from keras.layers import Embedding, Conv2D, MaxPooling2D"
   ]
  },
  {
   "cell_type": "code",
   "execution_count": 22,
   "id": "21fa8909",
   "metadata": {},
   "outputs": [
    {
     "data": {
      "text/plain": [
       "[<keras.layers.convolutional.conv2d.Conv2D at 0x2f64f28da60>,\n",
       " <keras.layers.pooling.max_pooling2d.MaxPooling2D at 0x2f64e85ad90>,\n",
       " <keras.layers.reshaping.flatten.Flatten at 0x2f64f26e580>,\n",
       " <keras.layers.core.dense.Dense at 0x2f64f26e850>,\n",
       " <keras.layers.core.dense.Dense at 0x2f64f26e250>]"
      ]
     },
     "execution_count": 22,
     "metadata": {},
     "output_type": "execute_result"
    }
   ],
   "source": [
    "model = keras.models.load_model('./models/church_model')\n",
    "model.layers"
   ]
  },
  {
   "cell_type": "code",
   "execution_count": 71,
   "id": "78e5ee06",
   "metadata": {},
   "outputs": [
    {
     "name": "stdout",
     "output_type": "stream",
     "text": [
      "Model: \"sequential\"\n",
      "_________________________________________________________________\n",
      " Layer (type)                Output Shape              Param #   \n",
      "=================================================================\n",
      " cnn1 (Conv2D)               (None, 193, 193, 8)       1544      \n",
      "                                                                 \n",
      " max_pooling2d (MaxPooling2D  (None, 96, 96, 8)        0         \n",
      " )                                                               \n",
      "                                                                 \n",
      " flatten (Flatten)           (None, 73728)             0         \n",
      "                                                                 \n",
      " dense (Dense)               (None, 32)                2359328   \n",
      "                                                                 \n",
      " dense_1 (Dense)             (None, 1)                 33        \n",
      "                                                                 \n",
      "=================================================================\n",
      "Total params: 2,360,905\n",
      "Trainable params: 2,360,905\n",
      "Non-trainable params: 0\n",
      "_________________________________________________________________\n"
     ]
    }
   ],
   "source": [
    "model.summary()"
   ]
  },
  {
   "cell_type": "code",
   "execution_count": 23,
   "id": "be5e878b",
   "metadata": {},
   "outputs": [
    {
     "name": "stdout",
     "output_type": "stream",
     "text": [
      "Model: \"sequential\"\n",
      "_________________________________________________________________\n",
      " Layer (type)                Output Shape              Param #   \n",
      "=================================================================\n",
      " cnn1 (Conv2D)               (None, 193, 193, 8)       1544      \n",
      "                                                                 \n",
      "=================================================================\n",
      "Total params: 1,544\n",
      "Trainable params: 1,544\n",
      "Non-trainable params: 0\n",
      "_________________________________________________________________\n"
     ]
    }
   ],
   "source": [
    "new_model = Sequential()\n",
    "new_model.add(model.layers[0])\n",
    "\n",
    "new_model.summary()"
   ]
  },
  {
   "cell_type": "code",
   "execution_count": 24,
   "id": "95433f68",
   "metadata": {},
   "outputs": [],
   "source": [
    "data = pd.read_json('./data/church_ds.json')"
   ]
  },
  {
   "cell_type": "code",
   "execution_count": 25,
   "id": "47b72ec6",
   "metadata": {},
   "outputs": [
    {
     "data": {
      "text/html": [
       "<div>\n",
       "<style scoped>\n",
       "    .dataframe tbody tr th:only-of-type {\n",
       "        vertical-align: middle;\n",
       "    }\n",
       "\n",
       "    .dataframe tbody tr th {\n",
       "        vertical-align: top;\n",
       "    }\n",
       "\n",
       "    .dataframe thead th {\n",
       "        text-align: right;\n",
       "    }\n",
       "</style>\n",
       "<table border=\"1\" class=\"dataframe\">\n",
       "  <thead>\n",
       "    <tr style=\"text-align: right;\">\n",
       "      <th></th>\n",
       "      <th>input</th>\n",
       "      <th>output</th>\n",
       "      <th>category</th>\n",
       "    </tr>\n",
       "  </thead>\n",
       "  <tbody>\n",
       "    <tr>\n",
       "      <th>http://dbpedia.org/resource/Cathedral_of_Saint_Mary_of_the_Immaculate_Conception_(Peoria,_Illinois)</th>\n",
       "      <td>[[[135, 84, 44], [135, 84, 44], [135, 84, 44],...</td>\n",
       "      <td>1885.0</td>\n",
       "      <td>[http://dbpedia.org/resource/Gothic_Revival_ar...</td>\n",
       "    </tr>\n",
       "    <tr>\n",
       "      <th>http://dbpedia.org/resource/Eaton_Chapel</th>\n",
       "      <td>[[[180, 100, 39], [180, 100, 39], [180, 100, 3...</td>\n",
       "      <td>1869.0</td>\n",
       "      <td>[http://dbpedia.org/resource/Gothic_Revival_ar...</td>\n",
       "    </tr>\n",
       "    <tr>\n",
       "      <th>http://dbpedia.org/resource/Santa_Maria_di_Costantinopoli</th>\n",
       "      <td>[[[206, 227, 245], [198, 224, 242], [169, 202,...</td>\n",
       "      <td>1575.0</td>\n",
       "      <td>[http://dbpedia.org/resource/Baroque_architect...</td>\n",
       "    </tr>\n",
       "    <tr>\n",
       "      <th>http://dbpedia.org/resource/St._Ambrose_Cathedral_(Des_Moines,_Iowa)</th>\n",
       "      <td>[[[242, 229, 207], [242, 229, 207], [243, 230,...</td>\n",
       "      <td>1890.0</td>\n",
       "      <td>[http://dbpedia.org/resource/Romanesque_Reviva...</td>\n",
       "    </tr>\n",
       "    <tr>\n",
       "      <th>http://dbpedia.org/resource/St_Michael's_Church,_Baddiley</th>\n",
       "      <td>[[[215, 202, 200], [219, 206, 204], [223, 210,...</td>\n",
       "      <td>1308.0</td>\n",
       "      <td>[http://dbpedia.org/resource/English_Gothic_ar...</td>\n",
       "    </tr>\n",
       "  </tbody>\n",
       "</table>\n",
       "</div>"
      ],
      "text/plain": [
       "                                                                                                input  \\\n",
       "http://dbpedia.org/resource/Cathedral_of_Saint_...  [[[135, 84, 44], [135, 84, 44], [135, 84, 44],...   \n",
       "http://dbpedia.org/resource/Eaton_Chapel            [[[180, 100, 39], [180, 100, 39], [180, 100, 3...   \n",
       "http://dbpedia.org/resource/Santa_Maria_di_Cost...  [[[206, 227, 245], [198, 224, 242], [169, 202,...   \n",
       "http://dbpedia.org/resource/St._Ambrose_Cathedr...  [[[242, 229, 207], [242, 229, 207], [243, 230,...   \n",
       "http://dbpedia.org/resource/St_Michael's_Church...  [[[215, 202, 200], [219, 206, 204], [223, 210,...   \n",
       "\n",
       "                                                    output  \\\n",
       "http://dbpedia.org/resource/Cathedral_of_Saint_...  1885.0   \n",
       "http://dbpedia.org/resource/Eaton_Chapel            1869.0   \n",
       "http://dbpedia.org/resource/Santa_Maria_di_Cost...  1575.0   \n",
       "http://dbpedia.org/resource/St._Ambrose_Cathedr...  1890.0   \n",
       "http://dbpedia.org/resource/St_Michael's_Church...  1308.0   \n",
       "\n",
       "                                                                                             category  \n",
       "http://dbpedia.org/resource/Cathedral_of_Saint_...  [http://dbpedia.org/resource/Gothic_Revival_ar...  \n",
       "http://dbpedia.org/resource/Eaton_Chapel            [http://dbpedia.org/resource/Gothic_Revival_ar...  \n",
       "http://dbpedia.org/resource/Santa_Maria_di_Cost...  [http://dbpedia.org/resource/Baroque_architect...  \n",
       "http://dbpedia.org/resource/St._Ambrose_Cathedr...  [http://dbpedia.org/resource/Romanesque_Reviva...  \n",
       "http://dbpedia.org/resource/St_Michael's_Church...  [http://dbpedia.org/resource/English_Gothic_ar...  "
      ]
     },
     "execution_count": 25,
     "metadata": {},
     "output_type": "execute_result"
    }
   ],
   "source": [
    "data.head()"
   ]
  },
  {
   "cell_type": "code",
   "execution_count": 26,
   "id": "c642305f",
   "metadata": {
    "pycharm": {
     "name": "#%%\n"
    }
   },
   "outputs": [],
   "source": [
    "def get_all_activations(df, model):\n",
    "    \"\"\"\n",
    "    Returns a DataFrame with all the information and activations associated\n",
    "    :return: fully completed DataFrame\n",
    "    \"\"\"\n",
    "\n",
    "    new_df = pd.DataFrame()\n",
    "\n",
    "    new_df['category'] = df.category\n",
    "    new_df['input'] = df.input\n",
    "    \"\"\"new_df['output_low'] = df.output_low\n",
    "    new_df['output_medium'] = df.output_medium\n",
    "    new_df['output_high'] = df.output_high\"\"\"\n",
    "    new_df['output'] = df.output\n",
    "\n",
    "    inputs = [x for x in df.input]\n",
    "\n",
    "    activations = model.predict(inputs)\n",
    "\n",
    "    # If the layer is an embedding layer, we take the mean of activations\n",
    "    if isinstance(model.layers[-1], Embedding):\n",
    "\n",
    "        emb_activations_arr = [a.flatten() for a in activations]\n",
    "        emb_activations_arr = np.array(emb_activations_arr)\n",
    "\n",
    "        acts = []\n",
    "        for i in range(len(emb_activations_arr)):\n",
    "            acts.append(pd.DataFrame(pd.DataFrame(emb_activations_arr[i].reshape(-1, 64)).mean()).T)\n",
    "\n",
    "        activations = np.array(acts).reshape(-1, 64)\n",
    "\n",
    "        for neuron_index, value_list in enumerate(activations.T):\n",
    "            index = f\"neuron_{neuron_index + 1}\"\n",
    "            new_df[index] = value_list\n",
    "\n",
    "\n",
    "    else:\n",
    "        for neuron_index, value_list in enumerate(activations.T):\n",
    "            index = f\"neuron_{neuron_index + 1}\"\n",
    "            new_df[index] = value_list\n",
    "\n",
    "    #return_df = self.standardize(new_df)\n",
    "    return new_df"
   ]
  },
  {
   "cell_type": "code",
   "execution_count": 33,
   "id": "70940b21",
   "metadata": {},
   "outputs": [],
   "source": [
    "inputs = [x for x in data.input]"
   ]
  },
  {
   "cell_type": "code",
   "execution_count": 87,
   "id": "0065e4fb",
   "metadata": {},
   "outputs": [
    {
     "name": "stdout",
     "output_type": "stream",
     "text": [
      "Exploring layer <keras.layers.convolutional.conv2d.Conv2D object at 0x000002F64F28DA60>\n",
      "Model: \"sequential_2\"\n",
      "_________________________________________________________________\n",
      " Layer (type)                Output Shape              Param #   \n",
      "=================================================================\n",
      " cnn1 (Conv2D)               (None, 193, 193, 8)       1544      \n",
      "                                                                 \n",
      "=================================================================\n",
      "Total params: 1,544\n",
      "Trainable params: 1,544\n",
      "Non-trainable params: 0\n",
      "_________________________________________________________________\n",
      "None\n",
      "16/16 [==============================] - 1s 74ms/step\n",
      "Exploring layer <keras.layers.pooling.max_pooling2d.MaxPooling2D object at 0x000002F64E85AD90>\n",
      "Model: \"sequential_2\"\n",
      "_________________________________________________________________\n",
      " Layer (type)                Output Shape              Param #   \n",
      "=================================================================\n",
      " cnn1 (Conv2D)               (None, 193, 193, 8)       1544      \n",
      "                                                                 \n",
      " max_pooling2d (MaxPooling2D  (None, 96, 96, 8)        0         \n",
      " )                                                               \n",
      "                                                                 \n",
      "=================================================================\n",
      "Total params: 1,544\n",
      "Trainable params: 1,544\n",
      "Non-trainable params: 0\n",
      "_________________________________________________________________\n",
      "None\n",
      "16/16 [==============================] - 2s 91ms/step\n",
      "Exploring layer <keras.layers.reshaping.flatten.Flatten object at 0x000002F64F26E580>\n",
      "Model: \"sequential_2\"\n",
      "_________________________________________________________________\n",
      " Layer (type)                Output Shape              Param #   \n",
      "=================================================================\n",
      " cnn1 (Conv2D)               (None, 193, 193, 8)       1544      \n",
      "                                                                 \n",
      " max_pooling2d (MaxPooling2D  (None, 96, 96, 8)        0         \n",
      " )                                                               \n",
      "                                                                 \n",
      " flatten (Flatten)           (None, 73728)             0         \n",
      "                                                                 \n",
      "=================================================================\n",
      "Total params: 1,544\n",
      "Trainable params: 1,544\n",
      "Non-trainable params: 0\n",
      "_________________________________________________________________\n",
      "None\n",
      "16/16 [==============================] - 2s 100ms/step\n",
      "Exploring layer <keras.layers.core.dense.Dense object at 0x000002F64F26E850>\n",
      "Model: \"sequential_2\"\n",
      "_________________________________________________________________\n",
      " Layer (type)                Output Shape              Param #   \n",
      "=================================================================\n",
      " cnn1 (Conv2D)               (None, 193, 193, 8)       1544      \n",
      "                                                                 \n",
      " max_pooling2d (MaxPooling2D  (None, 96, 96, 8)        0         \n",
      " )                                                               \n",
      "                                                                 \n",
      " flatten (Flatten)           (None, 73728)             0         \n",
      "                                                                 \n",
      " dense (Dense)               (None, 32)                2359328   \n",
      "                                                                 \n",
      "=================================================================\n",
      "Total params: 2,360,872\n",
      "Trainable params: 2,360,872\n",
      "Non-trainable params: 0\n",
      "_________________________________________________________________\n",
      "None\n",
      "16/16 [==============================] - 1s 83ms/step\n",
      "Exploring layer <keras.layers.core.dense.Dense object at 0x000002F64F26E250>\n",
      "Model: \"sequential_2\"\n",
      "_________________________________________________________________\n",
      " Layer (type)                Output Shape              Param #   \n",
      "=================================================================\n",
      " cnn1 (Conv2D)               (None, 193, 193, 8)       1544      \n",
      "                                                                 \n",
      " max_pooling2d (MaxPooling2D  (None, 96, 96, 8)        0         \n",
      " )                                                               \n",
      "                                                                 \n",
      " flatten (Flatten)           (None, 73728)             0         \n",
      "                                                                 \n",
      " dense (Dense)               (None, 32)                2359328   \n",
      "                                                                 \n",
      " dense_1 (Dense)             (None, 1)                 33        \n",
      "                                                                 \n",
      "=================================================================\n",
      "Total params: 2,360,905\n",
      "Trainable params: 2,360,905\n",
      "Non-trainable params: 0\n",
      "_________________________________________________________________\n",
      "None\n",
      "16/16 [==============================] - 1s 86ms/step\n"
     ]
    }
   ],
   "source": [
    "new_model = Sequential()\n",
    "act_list = []\n",
    "for layer in model.layers:\n",
    "    new_model.add(layer)\n",
    "    print(f\"Exploring layer {layer}\")\n",
    "    print(new_model.summary())\n",
    "    activations = new_model.predict(inputs)\n",
    "    act_list.append(activations)"
   ]
  },
  {
   "cell_type": "code",
   "execution_count": 42,
   "id": "46b9e811",
   "metadata": {
    "scrolled": true
   },
   "outputs": [
    {
     "name": "stdout",
     "output_type": "stream",
     "text": [
      "0\n",
      "193\n",
      "[[[1. 1. 1. ... 1. 1. 1.]\n",
      "  [1. 1. 1. ... 1. 1. 1.]\n",
      "  [1. 1. 1. ... 1. 1. 1.]\n",
      "  ...\n",
      "  [1. 1. 1. ... 1. 1. 1.]\n",
      "  [1. 1. 1. ... 1. 1. 1.]\n",
      "  [1. 1. 1. ... 1. 1. 1.]]\n",
      "\n",
      " [[1. 1. 1. ... 1. 1. 1.]\n",
      "  [1. 1. 1. ... 1. 1. 1.]\n",
      "  [1. 1. 1. ... 1. 1. 1.]\n",
      "  ...\n",
      "  [1. 1. 1. ... 1. 1. 1.]\n",
      "  [1. 1. 1. ... 1. 1. 1.]\n",
      "  [1. 1. 1. ... 1. 1. 1.]]\n",
      "\n",
      " [[1. 1. 1. ... 1. 1. 1.]\n",
      "  [1. 1. 1. ... 1. 1. 1.]\n",
      "  [1. 1. 1. ... 1. 1. 1.]\n",
      "  ...\n",
      "  [1. 1. 1. ... 1. 1. 1.]\n",
      "  [1. 1. 1. ... 1. 1. 1.]\n",
      "  [1. 1. 1. ... 1. 1. 1.]]\n",
      "\n",
      " ...\n",
      "\n",
      " [[1. 1. 1. ... 1. 1. 1.]\n",
      "  [1. 1. 1. ... 1. 1. 1.]\n",
      "  [1. 1. 1. ... 1. 1. 1.]\n",
      "  ...\n",
      "  [1. 1. 1. ... 1. 1. 1.]\n",
      "  [1. 1. 1. ... 1. 1. 1.]\n",
      "  [1. 1. 1. ... 1. 1. 1.]]\n",
      "\n",
      " [[1. 1. 1. ... 1. 1. 1.]\n",
      "  [1. 1. 1. ... 1. 1. 1.]\n",
      "  [1. 1. 1. ... 1. 1. 1.]\n",
      "  ...\n",
      "  [1. 1. 1. ... 1. 1. 1.]\n",
      "  [1. 1. 1. ... 1. 1. 1.]\n",
      "  [1. 1. 1. ... 1. 1. 1.]]\n",
      "\n",
      " [[1. 1. 1. ... 1. 1. 1.]\n",
      "  [1. 1. 1. ... 1. 1. 1.]\n",
      "  [1. 1. 1. ... 1. 1. 1.]\n",
      "  ...\n",
      "  [1. 1. 1. ... 1. 1. 1.]\n",
      "  [1. 1. 1. ... 1. 1. 1.]\n",
      "  [1. 1. 1. ... 1. 1. 1.]]]\n",
      "1\n",
      "193\n",
      "[[[1. 1. 1. ... 1. 1. 1.]\n",
      "  [1. 1. 1. ... 1. 1. 1.]\n",
      "  [1. 1. 1. ... 1. 1. 1.]\n",
      "  ...\n",
      "  [1. 1. 1. ... 1. 1. 1.]\n",
      "  [1. 1. 1. ... 1. 1. 1.]\n",
      "  [1. 1. 1. ... 1. 1. 1.]]\n",
      "\n",
      " [[1. 1. 1. ... 1. 1. 1.]\n",
      "  [1. 1. 1. ... 1. 1. 1.]\n",
      "  [1. 1. 1. ... 1. 1. 1.]\n",
      "  ...\n",
      "  [1. 1. 1. ... 1. 1. 1.]\n",
      "  [1. 1. 1. ... 1. 1. 1.]\n",
      "  [1. 1. 1. ... 1. 1. 1.]]\n",
      "\n",
      " [[1. 1. 1. ... 1. 1. 1.]\n",
      "  [1. 1. 1. ... 1. 1. 1.]\n",
      "  [1. 1. 1. ... 1. 1. 1.]\n",
      "  ...\n",
      "  [1. 1. 1. ... 1. 1. 1.]\n",
      "  [1. 1. 1. ... 1. 1. 1.]\n",
      "  [1. 1. 1. ... 1. 1. 1.]]\n",
      "\n",
      " ...\n",
      "\n",
      " [[1. 1. 1. ... 1. 1. 1.]\n",
      "  [1. 1. 1. ... 1. 1. 1.]\n",
      "  [1. 1. 1. ... 1. 1. 1.]\n",
      "  ...\n",
      "  [1. 1. 1. ... 1. 1. 1.]\n",
      "  [1. 1. 1. ... 1. 1. 1.]\n",
      "  [1. 1. 1. ... 1. 1. 1.]]\n",
      "\n",
      " [[1. 1. 1. ... 1. 1. 1.]\n",
      "  [1. 1. 1. ... 1. 1. 1.]\n",
      "  [1. 1. 1. ... 1. 1. 1.]\n",
      "  ...\n",
      "  [1. 1. 1. ... 1. 1. 1.]\n",
      "  [1. 1. 1. ... 1. 1. 1.]\n",
      "  [1. 1. 1. ... 1. 1. 1.]]\n",
      "\n",
      " [[1. 1. 1. ... 1. 1. 1.]\n",
      "  [1. 1. 1. ... 1. 1. 1.]\n",
      "  [1. 1. 1. ... 1. 1. 1.]\n",
      "  ...\n",
      "  [1. 1. 1. ... 1. 1. 1.]\n",
      "  [1. 1. 1. ... 1. 1. 1.]\n",
      "  [1. 1. 1. ... 1. 1. 1.]]]\n",
      "2\n",
      "193\n",
      "[[[-1. -1. -1. ... -1. -1. -1.]\n",
      "  [-1. -1. -1. ... -1. -1. -1.]\n",
      "  [-1. -1. -1. ... -1. -1. -1.]\n",
      "  ...\n",
      "  [-1. -1. -1. ... -1. -1. -1.]\n",
      "  [-1. -1. -1. ... -1. -1. -1.]\n",
      "  [-1. -1. -1. ... -1. -1. -1.]]\n",
      "\n",
      " [[-1. -1. -1. ... -1. -1. -1.]\n",
      "  [-1. -1. -1. ... -1. -1. -1.]\n",
      "  [-1. -1. -1. ... -1. -1. -1.]\n",
      "  ...\n",
      "  [-1. -1. -1. ... -1. -1. -1.]\n",
      "  [-1. -1. -1. ... -1. -1. -1.]\n",
      "  [-1. -1. -1. ... -1. -1. -1.]]\n",
      "\n",
      " [[-1. -1. -1. ... -1. -1. -1.]\n",
      "  [-1. -1. -1. ... -1. -1. -1.]\n",
      "  [-1. -1. -1. ... -1. -1. -1.]\n",
      "  ...\n",
      "  [-1. -1. -1. ... -1. -1. -1.]\n",
      "  [-1. -1. -1. ... -1. -1. -1.]\n",
      "  [-1. -1. -1. ... -1. -1. -1.]]\n",
      "\n",
      " ...\n",
      "\n",
      " [[-1. -1. -1. ... -1. -1. -1.]\n",
      "  [-1. -1. -1. ... -1. -1. -1.]\n",
      "  [-1. -1. -1. ... -1. -1. -1.]\n",
      "  ...\n",
      "  [-1. -1. -1. ... -1. -1. -1.]\n",
      "  [-1. -1. -1. ... -1. -1. -1.]\n",
      "  [-1. -1. -1. ... -1. -1. -1.]]\n",
      "\n",
      " [[-1. -1. -1. ... -1. -1. -1.]\n",
      "  [-1. -1. -1. ... -1. -1. -1.]\n",
      "  [-1. -1. -1. ... -1. -1. -1.]\n",
      "  ...\n",
      "  [-1. -1. -1. ... -1. -1. -1.]\n",
      "  [-1. -1. -1. ... -1. -1. -1.]\n",
      "  [-1. -1. -1. ... -1. -1. -1.]]\n",
      "\n",
      " [[-1. -1. -1. ... -1. -1. -1.]\n",
      "  [-1. -1. -1. ... -1. -1. -1.]\n",
      "  [-1. -1. -1. ... -1. -1. -1.]\n",
      "  ...\n",
      "  [-1. -1. -1. ... -1. -1. -1.]\n",
      "  [-1. -1. -1. ... -1. -1. -1.]\n",
      "  [-1. -1. -1. ... -1. -1. -1.]]]\n",
      "3\n",
      "193\n",
      "[[[-1. -1. -1. ... -1. -1. -1.]\n",
      "  [-1. -1. -1. ... -1. -1. -1.]\n",
      "  [-1. -1. -1. ... -1. -1. -1.]\n",
      "  ...\n",
      "  [-1. -1. -1. ... -1. -1. -1.]\n",
      "  [-1. -1. -1. ... -1. -1. -1.]\n",
      "  [-1. -1. -1. ... -1. -1. -1.]]\n",
      "\n",
      " [[-1. -1. -1. ... -1. -1. -1.]\n",
      "  [-1. -1. -1. ... -1. -1. -1.]\n",
      "  [-1. -1. -1. ... -1. -1. -1.]\n",
      "  ...\n",
      "  [-1. -1. -1. ... -1. -1. -1.]\n",
      "  [-1. -1. -1. ... -1. -1. -1.]\n",
      "  [-1. -1. -1. ... -1. -1. -1.]]\n",
      "\n",
      " [[-1. -1. -1. ... -1. -1. -1.]\n",
      "  [-1. -1. -1. ... -1. -1. -1.]\n",
      "  [-1. -1. -1. ... -1. -1. -1.]\n",
      "  ...\n",
      "  [-1. -1. -1. ... -1. -1. -1.]\n",
      "  [-1. -1. -1. ... -1. -1. -1.]\n",
      "  [-1. -1. -1. ... -1. -1. -1.]]\n",
      "\n",
      " ...\n",
      "\n",
      " [[-1. -1. -1. ... -1. -1. -1.]\n",
      "  [-1. -1. -1. ... -1. -1. -1.]\n",
      "  [-1. -1. -1. ... -1. -1. -1.]\n",
      "  ...\n",
      "  [-1. -1. -1. ... -1. -1. -1.]\n",
      "  [-1. -1. -1. ... -1. -1. -1.]\n",
      "  [-1. -1. -1. ... -1. -1. -1.]]\n",
      "\n",
      " [[-1. -1. -1. ... -1. -1. -1.]\n",
      "  [-1. -1. -1. ... -1. -1. -1.]\n",
      "  [-1. -1. -1. ... -1. -1. -1.]\n",
      "  ...\n",
      "  [-1. -1. -1. ... -1. -1. -1.]\n",
      "  [-1. -1. -1. ... -1. -1. -1.]\n",
      "  [-1. -1. -1. ... -1. -1. -1.]]\n",
      "\n",
      " [[-1. -1. -1. ... -1. -1. -1.]\n",
      "  [-1. -1. -1. ... -1. -1. -1.]\n",
      "  [-1. -1. -1. ... -1. -1. -1.]\n",
      "  ...\n",
      "  [-1. -1. -1. ... -1. -1. -1.]\n",
      "  [-1. -1. -1. ... -1. -1. -1.]\n",
      "  [-1. -1. -1. ... -1. -1. -1.]]]\n",
      "4\n",
      "193\n",
      "[[[-1. -1. -1. ... -1. -1. -1.]\n",
      "  [-1. -1. -1. ... -1. -1. -1.]\n",
      "  [-1. -1. -1. ... -1. -1. -1.]\n",
      "  ...\n",
      "  [-1. -1. -1. ... -1. -1. -1.]\n",
      "  [-1. -1. -1. ... -1. -1. -1.]\n",
      "  [-1. -1. -1. ... -1. -1. -1.]]\n",
      "\n",
      " [[-1. -1. -1. ... -1. -1. -1.]\n",
      "  [-1. -1. -1. ... -1. -1. -1.]\n",
      "  [-1. -1. -1. ... -1. -1. -1.]\n",
      "  ...\n",
      "  [-1. -1. -1. ... -1. -1. -1.]\n",
      "  [-1. -1. -1. ... -1. -1. -1.]\n",
      "  [-1. -1. -1. ... -1. -1. -1.]]\n",
      "\n",
      " [[-1. -1. -1. ... -1. -1. -1.]\n",
      "  [-1. -1. -1. ... -1. -1. -1.]\n",
      "  [-1. -1. -1. ... -1. -1. -1.]\n",
      "  ...\n",
      "  [-1. -1. -1. ... -1. -1. -1.]\n",
      "  [-1. -1. -1. ... -1. -1. -1.]\n",
      "  [-1. -1. -1. ... -1. -1. -1.]]\n",
      "\n",
      " ...\n",
      "\n",
      " [[-1. -1. -1. ... -1. -1. -1.]\n",
      "  [-1. -1. -1. ... -1. -1. -1.]\n",
      "  [-1. -1. -1. ... -1. -1. -1.]\n",
      "  ...\n",
      "  [-1. -1. -1. ... -1. -1. -1.]\n",
      "  [-1. -1. -1. ... -1. -1. -1.]\n",
      "  [-1. -1. -1. ... -1. -1. -1.]]\n",
      "\n",
      " [[-1. -1. -1. ... -1. -1. -1.]\n",
      "  [-1. -1. -1. ... -1. -1. -1.]\n",
      "  [-1. -1. -1. ... -1. -1. -1.]\n",
      "  ...\n",
      "  [-1. -1. -1. ... -1. -1. -1.]\n",
      "  [-1. -1. -1. ... -1. -1. -1.]\n",
      "  [-1. -1. -1. ... -1. -1. -1.]]\n",
      "\n",
      " [[-1. -1. -1. ... -1. -1. -1.]\n",
      "  [-1. -1. -1. ... -1. -1. -1.]\n",
      "  [-1. -1. -1. ... -1. -1. -1.]\n",
      "  ...\n",
      "  [-1. -1. -1. ... -1. -1. -1.]\n",
      "  [-1. -1. -1. ... -1. -1. -1.]\n",
      "  [-1. -1. -1. ... -1. -1. -1.]]]\n",
      "5\n",
      "193\n",
      "[[[-1. -1. -1. ... -1. -1. -1.]\n",
      "  [-1. -1. -1. ... -1. -1. -1.]\n",
      "  [-1. -1. -1. ... -1. -1. -1.]\n",
      "  ...\n",
      "  [-1. -1. -1. ... -1. -1. -1.]\n",
      "  [-1. -1. -1. ... -1. -1. -1.]\n",
      "  [-1. -1. -1. ... -1. -1. -1.]]\n",
      "\n",
      " [[-1. -1. -1. ... -1. -1. -1.]\n",
      "  [-1. -1. -1. ... -1. -1. -1.]\n",
      "  [-1. -1. -1. ... -1. -1. -1.]\n",
      "  ...\n",
      "  [-1. -1. -1. ... -1. -1. -1.]\n",
      "  [-1. -1. -1. ... -1. -1. -1.]\n",
      "  [-1. -1. -1. ... -1. -1. -1.]]\n",
      "\n",
      " [[-1. -1. -1. ... -1. -1. -1.]\n",
      "  [-1. -1. -1. ... -1. -1. -1.]\n",
      "  [-1. -1. -1. ... -1. -1. -1.]\n",
      "  ...\n",
      "  [-1. -1. -1. ... -1. -1. -1.]\n",
      "  [-1. -1. -1. ... -1. -1. -1.]\n",
      "  [-1. -1. -1. ... -1. -1. -1.]]\n",
      "\n",
      " ...\n",
      "\n",
      " [[-1. -1. -1. ... -1. -1. -1.]\n",
      "  [-1. -1. -1. ... -1. -1. -1.]\n",
      "  [-1. -1. -1. ... -1. -1. -1.]\n",
      "  ...\n",
      "  [-1. -1. -1. ... -1. -1. -1.]\n",
      "  [-1. -1. -1. ... -1. -1. -1.]\n",
      "  [-1. -1. -1. ... -1. -1. -1.]]\n",
      "\n",
      " [[-1. -1. -1. ... -1. -1. -1.]\n",
      "  [-1. -1. -1. ... -1. -1. -1.]\n",
      "  [-1. -1. -1. ... -1. -1. -1.]\n",
      "  ...\n",
      "  [-1. -1. -1. ... -1. -1. -1.]\n",
      "  [-1. -1. -1. ... -1. -1. -1.]\n",
      "  [-1. -1. -1. ... -1. -1. -1.]]\n",
      "\n",
      " [[-1. -1. -1. ... -1. -1. -1.]\n",
      "  [-1. -1. -1. ... -1. -1. -1.]\n",
      "  [-1. -1. -1. ... -1. -1. -1.]\n",
      "  ...\n",
      "  [-1. -1. -1. ... -1. -1. -1.]\n",
      "  [-1. -1. -1. ... -1. -1. -1.]\n",
      "  [-1. -1. -1. ... -1. -1. -1.]]]\n",
      "6\n",
      "193\n",
      "[[[-1. -1. -1. ... -1. -1. -1.]\n",
      "  [-1. -1. -1. ... -1. -1. -1.]\n",
      "  [-1. -1. -1. ... -1. -1. -1.]\n",
      "  ...\n",
      "  [-1. -1. -1. ... -1. -1. -1.]\n",
      "  [-1. -1. -1. ... -1. -1. -1.]\n",
      "  [-1. -1. -1. ... -1. -1. -1.]]\n",
      "\n",
      " [[-1. -1. -1. ... -1. -1. -1.]\n",
      "  [-1. -1. -1. ... -1. -1. -1.]\n",
      "  [-1. -1. -1. ... -1. -1. -1.]\n",
      "  ...\n",
      "  [-1. -1. -1. ... -1. -1. -1.]\n",
      "  [-1. -1. -1. ... -1. -1. -1.]\n",
      "  [-1. -1. -1. ... -1. -1. -1.]]\n",
      "\n",
      " [[-1. -1. -1. ... -1. -1. -1.]\n",
      "  [-1. -1. -1. ... -1. -1. -1.]\n",
      "  [-1. -1. -1. ... -1. -1. -1.]\n",
      "  ...\n",
      "  [-1. -1. -1. ... -1. -1. -1.]\n",
      "  [-1. -1. -1. ... -1. -1. -1.]\n",
      "  [-1. -1. -1. ... -1. -1. -1.]]\n",
      "\n",
      " ...\n",
      "\n",
      " [[-1. -1. -1. ... -1. -1. -1.]\n",
      "  [-1. -1. -1. ... -1. -1. -1.]\n",
      "  [-1. -1. -1. ... -1. -1. -1.]\n",
      "  ...\n",
      "  [-1. -1. -1. ... -1. -1. -1.]\n",
      "  [-1. -1. -1. ... -1. -1. -1.]\n",
      "  [-1. -1. -1. ... -1. -1. -1.]]\n",
      "\n",
      " [[-1. -1. -1. ... -1. -1. -1.]\n",
      "  [-1. -1. -1. ... -1. -1. -1.]\n",
      "  [-1. -1. -1. ... -1. -1. -1.]\n",
      "  ...\n",
      "  [-1. -1. -1. ... -1. -1. -1.]\n",
      "  [-1. -1. -1. ... -1. -1. -1.]\n",
      "  [-1. -1. -1. ... -1. -1. -1.]]\n",
      "\n",
      " [[-1. -1. -1. ... -1. -1. -1.]\n",
      "  [-1. -1. -1. ... -1. -1. -1.]\n",
      "  [-1. -1. -1. ... -1. -1. -1.]\n",
      "  ...\n",
      "  [-1. -1. -1. ... -1. -1. -1.]\n",
      "  [-1. -1. -1. ... -1. -1. -1.]\n",
      "  [-1. -1. -1. ... -1. -1. -1.]]]\n",
      "7\n",
      "193\n",
      "[[[-1.        -1.        -1.        ... -1.        -1.        -1.       ]\n",
      "  [-1.        -1.        -1.        ... -1.        -1.        -1.       ]\n",
      "  [-1.        -1.        -1.        ... -1.        -1.        -1.       ]\n",
      "  ...\n",
      "  [-1.        -1.        -1.        ... -1.        -1.        -1.       ]\n",
      "  [-1.        -1.        -1.        ... -1.        -1.        -1.       ]\n",
      "  [-1.        -1.        -1.        ... -1.        -1.        -1.       ]]\n",
      "\n",
      " [[-1.        -1.        -1.        ... -1.        -1.        -1.       ]\n",
      "  [-1.        -1.        -1.        ... -1.        -1.        -1.       ]\n",
      "  [-1.        -1.        -1.        ... -1.        -1.        -1.       ]\n",
      "  ...\n",
      "  [-1.        -1.        -1.        ... -1.        -1.        -1.       ]\n",
      "  [-1.        -1.        -1.        ... -1.        -1.        -1.       ]\n",
      "  [-1.        -1.        -1.        ... -1.        -1.        -1.       ]]\n",
      "\n",
      " [[-1.        -1.        -1.        ... -1.        -1.        -1.       ]\n",
      "  [-1.        -1.        -1.        ... -1.        -1.        -1.       ]\n",
      "  [-1.        -1.        -1.        ... -1.        -1.        -1.       ]\n",
      "  ...\n",
      "  [-1.        -1.        -1.        ... -1.        -1.        -1.       ]\n",
      "  [-1.        -1.        -1.        ... -1.        -1.        -1.       ]\n",
      "  [-1.        -1.        -1.        ... -1.        -1.        -1.       ]]\n",
      "\n",
      " ...\n",
      "\n",
      " [[-1.        -1.        -1.        ... -1.        -1.        -1.       ]\n",
      "  [-1.        -1.        -1.        ... -1.        -1.        -1.       ]\n",
      "  [-1.        -1.        -1.        ... -1.        -1.        -1.       ]\n",
      "  ...\n",
      "  [-1.        -1.        -1.        ... -1.        -1.        -1.       ]\n",
      "  [-1.        -1.        -1.        ... -1.        -1.        -1.       ]\n",
      "  [-1.        -1.        -1.        ... -1.        -1.        -1.       ]]\n",
      "\n",
      " [[-1.        -1.        -1.        ... -1.        -1.        -1.       ]\n",
      "  [-1.        -1.        -1.        ... -1.        -1.        -1.       ]\n",
      "  [-1.        -1.        -1.        ... -1.        -1.        -1.       ]\n",
      "  ...\n",
      "  [-1.        -1.        -1.        ... -1.        -1.        -1.       ]\n",
      "  [-1.        -1.        -1.        ... -1.        -1.        -1.       ]\n",
      "  [-1.        -1.        -1.        ... -1.        -1.        -1.       ]]\n",
      "\n",
      " [[-1.        -1.        -1.        ... -1.        -1.        -1.       ]\n",
      "  [-1.        -1.        -1.        ... -1.        -1.        -1.       ]\n",
      "  [-1.        -1.        -1.        ... -1.        -1.        -1.       ]\n",
      "  ...\n",
      "  [-1.        -1.        -1.        ... -0.9999847 -1.        -1.       ]\n",
      "  [-1.        -1.        -1.        ... -1.        -1.        -1.       ]\n",
      "  [-1.        -1.        -1.        ... -1.        -1.        -1.       ]]]\n"
     ]
    }
   ],
   "source": [
    "for neuron_index, value_list in enumerate(act_list[0].T):\n",
    "    print(neuron_index)\n",
    "    print(len(value_list))\n",
    "    print(value_list)"
   ]
  },
  {
   "cell_type": "code",
   "execution_count": 52,
   "id": "b3ef318e",
   "metadata": {},
   "outputs": [
    {
     "data": {
      "text/plain": [
       "8"
      ]
     },
     "execution_count": 52,
     "metadata": {},
     "output_type": "execute_result"
    }
   ],
   "source": [
    "new_model.layers[0].output_shape[-1]"
   ]
  },
  {
   "cell_type": "code",
   "execution_count": 92,
   "id": "77710fa1",
   "metadata": {},
   "outputs": [
    {
     "name": "stdout",
     "output_type": "stream",
     "text": [
      "(193, 193, 8)\n",
      "(193, 193, 8)\n",
      "(193, 193, 8)\n",
      "(193, 193, 8)\n",
      "(193, 193, 8)\n",
      "(193, 193, 8)\n",
      "(193, 193, 8)\n",
      "(193, 193, 8)\n",
      "(193, 193, 8)\n",
      "(193, 193, 8)\n",
      "(193, 193, 8)\n",
      "(193, 193, 8)\n",
      "(193, 193, 8)\n",
      "(193, 193, 8)\n",
      "(193, 193, 8)\n",
      "(193, 193, 8)\n",
      "(193, 193, 8)\n",
      "(193, 193, 8)\n",
      "(193, 193, 8)\n",
      "(193, 193, 8)\n",
      "(193, 193, 8)\n",
      "(193, 193, 8)\n",
      "(193, 193, 8)\n",
      "(193, 193, 8)\n",
      "(193, 193, 8)\n",
      "(193, 193, 8)\n",
      "(193, 193, 8)\n",
      "(193, 193, 8)\n",
      "(193, 193, 8)\n",
      "(193, 193, 8)\n",
      "(193, 193, 8)\n",
      "(193, 193, 8)\n",
      "(193, 193, 8)\n",
      "(193, 193, 8)\n",
      "(193, 193, 8)\n",
      "(193, 193, 8)\n",
      "(193, 193, 8)\n",
      "(193, 193, 8)\n",
      "(193, 193, 8)\n",
      "(193, 193, 8)\n",
      "(193, 193, 8)\n",
      "(193, 193, 8)\n",
      "(193, 193, 8)\n",
      "(193, 193, 8)\n",
      "(193, 193, 8)\n",
      "(193, 193, 8)\n",
      "(193, 193, 8)\n",
      "(193, 193, 8)\n",
      "(193, 193, 8)\n",
      "(193, 193, 8)\n",
      "(193, 193, 8)\n",
      "(193, 193, 8)\n",
      "(193, 193, 8)\n",
      "(193, 193, 8)\n",
      "(193, 193, 8)\n",
      "(193, 193, 8)\n",
      "(193, 193, 8)\n",
      "(193, 193, 8)\n",
      "(193, 193, 8)\n",
      "(193, 193, 8)\n",
      "(193, 193, 8)\n",
      "(193, 193, 8)\n",
      "(193, 193, 8)\n",
      "(193, 193, 8)\n",
      "(193, 193, 8)\n",
      "(193, 193, 8)\n",
      "(193, 193, 8)\n",
      "(193, 193, 8)\n",
      "(193, 193, 8)\n",
      "(193, 193, 8)\n",
      "(193, 193, 8)\n",
      "(193, 193, 8)\n",
      "(193, 193, 8)\n",
      "(193, 193, 8)\n",
      "(193, 193, 8)\n",
      "(193, 193, 8)\n",
      "(193, 193, 8)\n",
      "(193, 193, 8)\n",
      "(193, 193, 8)\n",
      "(193, 193, 8)\n",
      "(193, 193, 8)\n",
      "(193, 193, 8)\n",
      "(193, 193, 8)\n",
      "(193, 193, 8)\n",
      "(193, 193, 8)\n",
      "(193, 193, 8)\n",
      "(193, 193, 8)\n",
      "(193, 193, 8)\n",
      "(193, 193, 8)\n",
      "(193, 193, 8)\n",
      "(193, 193, 8)\n",
      "(193, 193, 8)\n",
      "(193, 193, 8)\n",
      "(193, 193, 8)\n",
      "(193, 193, 8)\n",
      "(193, 193, 8)\n",
      "(193, 193, 8)\n",
      "(193, 193, 8)\n",
      "(193, 193, 8)\n",
      "(193, 193, 8)\n",
      "(193, 193, 8)\n",
      "(193, 193, 8)\n",
      "(193, 193, 8)\n",
      "(193, 193, 8)\n",
      "(193, 193, 8)\n",
      "(193, 193, 8)\n",
      "(193, 193, 8)\n",
      "(193, 193, 8)\n",
      "(193, 193, 8)\n",
      "(193, 193, 8)\n",
      "(193, 193, 8)\n",
      "(193, 193, 8)\n",
      "(193, 193, 8)\n",
      "(193, 193, 8)\n",
      "(193, 193, 8)\n",
      "(193, 193, 8)\n",
      "(193, 193, 8)\n",
      "(193, 193, 8)\n",
      "(193, 193, 8)\n",
      "(193, 193, 8)\n",
      "(193, 193, 8)\n",
      "(193, 193, 8)\n",
      "(193, 193, 8)\n",
      "(193, 193, 8)\n",
      "(193, 193, 8)\n",
      "(193, 193, 8)\n",
      "(193, 193, 8)\n",
      "(193, 193, 8)\n",
      "(193, 193, 8)\n",
      "(193, 193, 8)\n",
      "(193, 193, 8)\n",
      "(193, 193, 8)\n",
      "(193, 193, 8)\n",
      "(193, 193, 8)\n",
      "(193, 193, 8)\n",
      "(193, 193, 8)\n",
      "(193, 193, 8)\n",
      "(193, 193, 8)\n",
      "(193, 193, 8)\n",
      "(193, 193, 8)\n",
      "(193, 193, 8)\n",
      "(193, 193, 8)\n",
      "(193, 193, 8)\n",
      "(193, 193, 8)\n",
      "(193, 193, 8)\n",
      "(193, 193, 8)\n",
      "(193, 193, 8)\n",
      "(193, 193, 8)\n",
      "(193, 193, 8)\n",
      "(193, 193, 8)\n",
      "(193, 193, 8)\n",
      "(193, 193, 8)\n",
      "(193, 193, 8)\n",
      "(193, 193, 8)\n",
      "(193, 193, 8)\n",
      "(193, 193, 8)\n",
      "(193, 193, 8)\n",
      "(193, 193, 8)\n",
      "(193, 193, 8)\n",
      "(193, 193, 8)\n",
      "(193, 193, 8)\n",
      "(193, 193, 8)\n",
      "(193, 193, 8)\n",
      "(193, 193, 8)\n",
      "(193, 193, 8)\n",
      "(193, 193, 8)\n",
      "(193, 193, 8)\n",
      "(193, 193, 8)\n",
      "(193, 193, 8)\n",
      "(193, 193, 8)\n",
      "(193, 193, 8)\n",
      "(193, 193, 8)\n",
      "(193, 193, 8)\n",
      "(193, 193, 8)\n",
      "(193, 193, 8)\n",
      "(193, 193, 8)\n",
      "(193, 193, 8)\n",
      "(193, 193, 8)\n",
      "(193, 193, 8)\n",
      "(193, 193, 8)\n",
      "(193, 193, 8)\n",
      "(193, 193, 8)\n",
      "(193, 193, 8)\n",
      "(193, 193, 8)\n",
      "(193, 193, 8)\n",
      "(193, 193, 8)\n",
      "(193, 193, 8)\n",
      "(193, 193, 8)\n",
      "(193, 193, 8)\n",
      "(193, 193, 8)\n",
      "(193, 193, 8)\n",
      "(193, 193, 8)\n",
      "(193, 193, 8)\n",
      "(193, 193, 8)\n",
      "(193, 193, 8)\n",
      "(193, 193, 8)\n",
      "(193, 193, 8)\n",
      "(193, 193, 8)\n",
      "(193, 193, 8)\n",
      "(193, 193, 8)\n",
      "(193, 193, 8)\n",
      "(193, 193, 8)\n",
      "(193, 193, 8)\n",
      "(193, 193, 8)\n",
      "(193, 193, 8)\n",
      "(193, 193, 8)\n",
      "(193, 193, 8)\n",
      "(193, 193, 8)\n",
      "(193, 193, 8)\n",
      "(193, 193, 8)\n",
      "(193, 193, 8)\n",
      "(193, 193, 8)\n",
      "(193, 193, 8)\n",
      "(193, 193, 8)\n",
      "(193, 193, 8)\n",
      "(193, 193, 8)\n",
      "(193, 193, 8)\n",
      "(193, 193, 8)\n",
      "(193, 193, 8)\n",
      "(193, 193, 8)\n",
      "(193, 193, 8)\n",
      "(193, 193, 8)\n",
      "(193, 193, 8)\n",
      "(193, 193, 8)\n",
      "(193, 193, 8)\n",
      "(193, 193, 8)\n",
      "(193, 193, 8)\n",
      "(193, 193, 8)\n",
      "(193, 193, 8)\n",
      "(193, 193, 8)\n",
      "(193, 193, 8)\n",
      "(193, 193, 8)\n",
      "(193, 193, 8)\n",
      "(193, 193, 8)\n",
      "(193, 193, 8)\n",
      "(193, 193, 8)\n",
      "(193, 193, 8)\n",
      "(193, 193, 8)\n",
      "(193, 193, 8)\n",
      "(193, 193, 8)\n",
      "(193, 193, 8)\n",
      "(193, 193, 8)\n",
      "(193, 193, 8)\n",
      "(193, 193, 8)\n",
      "(193, 193, 8)\n",
      "(193, 193, 8)\n",
      "(193, 193, 8)\n",
      "(193, 193, 8)\n",
      "(193, 193, 8)\n",
      "(193, 193, 8)\n",
      "(193, 193, 8)\n",
      "(193, 193, 8)\n",
      "(193, 193, 8)\n",
      "(193, 193, 8)\n",
      "(193, 193, 8)\n",
      "(193, 193, 8)\n",
      "(193, 193, 8)\n",
      "(193, 193, 8)\n",
      "(193, 193, 8)\n",
      "(193, 193, 8)\n",
      "(193, 193, 8)\n",
      "(193, 193, 8)\n",
      "(193, 193, 8)\n",
      "(193, 193, 8)\n",
      "(193, 193, 8)\n",
      "(193, 193, 8)\n",
      "(193, 193, 8)\n",
      "(193, 193, 8)\n",
      "(193, 193, 8)\n",
      "(193, 193, 8)\n",
      "(193, 193, 8)\n",
      "(193, 193, 8)\n",
      "(193, 193, 8)\n",
      "(193, 193, 8)\n",
      "(193, 193, 8)\n",
      "(193, 193, 8)\n",
      "(193, 193, 8)\n",
      "(193, 193, 8)\n",
      "(193, 193, 8)\n",
      "(193, 193, 8)\n",
      "(193, 193, 8)\n",
      "(193, 193, 8)\n",
      "(193, 193, 8)\n",
      "(193, 193, 8)\n",
      "(193, 193, 8)\n",
      "(193, 193, 8)\n",
      "(193, 193, 8)\n",
      "(193, 193, 8)\n",
      "(193, 193, 8)\n",
      "(193, 193, 8)\n",
      "(193, 193, 8)\n",
      "(193, 193, 8)\n",
      "(193, 193, 8)\n",
      "(193, 193, 8)\n",
      "(193, 193, 8)\n",
      "(193, 193, 8)\n",
      "(193, 193, 8)\n",
      "(193, 193, 8)\n",
      "(193, 193, 8)\n",
      "(193, 193, 8)\n",
      "(193, 193, 8)\n",
      "(193, 193, 8)\n",
      "(193, 193, 8)\n",
      "(193, 193, 8)\n",
      "(193, 193, 8)\n",
      "(193, 193, 8)\n",
      "(193, 193, 8)\n",
      "(193, 193, 8)\n",
      "(193, 193, 8)\n",
      "(193, 193, 8)\n",
      "(193, 193, 8)\n",
      "(193, 193, 8)\n",
      "(193, 193, 8)\n",
      "(193, 193, 8)\n",
      "(193, 193, 8)\n",
      "(193, 193, 8)\n",
      "(193, 193, 8)\n",
      "(193, 193, 8)\n",
      "(193, 193, 8)\n",
      "(193, 193, 8)\n",
      "(193, 193, 8)\n",
      "(193, 193, 8)\n",
      "(193, 193, 8)\n",
      "(193, 193, 8)\n",
      "(193, 193, 8)\n",
      "(193, 193, 8)\n",
      "(193, 193, 8)\n",
      "(193, 193, 8)\n",
      "(193, 193, 8)\n",
      "(193, 193, 8)\n",
      "(193, 193, 8)\n",
      "(193, 193, 8)\n",
      "(193, 193, 8)\n",
      "(193, 193, 8)\n",
      "(193, 193, 8)\n",
      "(193, 193, 8)\n",
      "(193, 193, 8)\n",
      "(193, 193, 8)\n",
      "(193, 193, 8)\n",
      "(193, 193, 8)\n",
      "(193, 193, 8)\n",
      "(193, 193, 8)\n",
      "(193, 193, 8)\n",
      "(193, 193, 8)\n",
      "(193, 193, 8)\n",
      "(193, 193, 8)\n",
      "(193, 193, 8)\n",
      "(193, 193, 8)\n",
      "(193, 193, 8)\n",
      "(193, 193, 8)\n",
      "(193, 193, 8)\n",
      "(193, 193, 8)\n",
      "(193, 193, 8)\n",
      "(193, 193, 8)\n",
      "(193, 193, 8)\n",
      "(193, 193, 8)\n",
      "(193, 193, 8)\n",
      "(193, 193, 8)\n",
      "(193, 193, 8)\n",
      "(193, 193, 8)\n",
      "(193, 193, 8)\n",
      "(193, 193, 8)\n",
      "(193, 193, 8)\n",
      "(193, 193, 8)\n",
      "(193, 193, 8)\n",
      "(193, 193, 8)\n",
      "(193, 193, 8)\n",
      "(193, 193, 8)\n",
      "(193, 193, 8)\n",
      "(193, 193, 8)\n",
      "(193, 193, 8)\n",
      "(193, 193, 8)\n",
      "(193, 193, 8)\n",
      "(193, 193, 8)\n",
      "(193, 193, 8)\n",
      "(193, 193, 8)\n",
      "(193, 193, 8)\n",
      "(193, 193, 8)\n",
      "(193, 193, 8)\n",
      "(193, 193, 8)\n",
      "(193, 193, 8)\n",
      "(193, 193, 8)\n",
      "(193, 193, 8)\n",
      "(193, 193, 8)\n",
      "(193, 193, 8)\n",
      "(193, 193, 8)\n",
      "(193, 193, 8)\n",
      "(193, 193, 8)\n",
      "(193, 193, 8)\n",
      "(193, 193, 8)\n",
      "(193, 193, 8)\n",
      "(193, 193, 8)\n",
      "(193, 193, 8)\n",
      "(193, 193, 8)\n",
      "(193, 193, 8)\n",
      "(193, 193, 8)\n",
      "(193, 193, 8)\n",
      "(193, 193, 8)\n",
      "(193, 193, 8)\n",
      "(193, 193, 8)\n",
      "(193, 193, 8)\n",
      "(193, 193, 8)\n",
      "(193, 193, 8)\n",
      "(193, 193, 8)\n",
      "(193, 193, 8)\n",
      "(193, 193, 8)\n",
      "(193, 193, 8)\n",
      "(193, 193, 8)\n",
      "(193, 193, 8)\n",
      "(193, 193, 8)\n",
      "(193, 193, 8)\n",
      "(193, 193, 8)\n",
      "(193, 193, 8)\n",
      "(193, 193, 8)\n",
      "(193, 193, 8)\n",
      "(193, 193, 8)\n",
      "(193, 193, 8)\n",
      "(193, 193, 8)\n",
      "(193, 193, 8)\n",
      "(193, 193, 8)\n",
      "(193, 193, 8)\n",
      "(193, 193, 8)\n",
      "(193, 193, 8)\n",
      "(193, 193, 8)\n",
      "(193, 193, 8)\n",
      "(193, 193, 8)\n",
      "(193, 193, 8)\n",
      "(193, 193, 8)\n",
      "(193, 193, 8)\n",
      "(193, 193, 8)\n",
      "(193, 193, 8)\n",
      "(193, 193, 8)\n",
      "(193, 193, 8)\n",
      "(193, 193, 8)\n",
      "(193, 193, 8)\n",
      "(193, 193, 8)\n",
      "(193, 193, 8)\n",
      "(193, 193, 8)\n",
      "(193, 193, 8)\n",
      "(193, 193, 8)\n",
      "(193, 193, 8)\n",
      "(193, 193, 8)\n",
      "(193, 193, 8)\n",
      "(193, 193, 8)\n",
      "(193, 193, 8)\n",
      "(193, 193, 8)\n",
      "(193, 193, 8)\n",
      "(193, 193, 8)\n",
      "(193, 193, 8)\n",
      "(193, 193, 8)\n",
      "(193, 193, 8)\n",
      "(193, 193, 8)\n",
      "(193, 193, 8)\n",
      "(193, 193, 8)\n",
      "(193, 193, 8)\n",
      "(193, 193, 8)\n",
      "(193, 193, 8)\n",
      "(193, 193, 8)\n",
      "(193, 193, 8)\n",
      "(193, 193, 8)\n",
      "(193, 193, 8)\n",
      "(193, 193, 8)\n",
      "(193, 193, 8)\n",
      "(193, 193, 8)\n",
      "(193, 193, 8)\n",
      "(193, 193, 8)\n",
      "(193, 193, 8)\n",
      "(193, 193, 8)\n",
      "(193, 193, 8)\n",
      "(193, 193, 8)\n",
      "(193, 193, 8)\n",
      "(193, 193, 8)\n",
      "(193, 193, 8)\n",
      "(193, 193, 8)\n",
      "(193, 193, 8)\n",
      "(193, 193, 8)\n",
      "(193, 193, 8)\n",
      "(193, 193, 8)\n",
      "(193, 193, 8)\n",
      "(193, 193, 8)\n",
      "(193, 193, 8)\n",
      "(193, 193, 8)\n",
      "(193, 193, 8)\n",
      "(193, 193, 8)\n",
      "(193, 193, 8)\n",
      "(193, 193, 8)\n",
      "(193, 193, 8)\n",
      "(193, 193, 8)\n",
      "(193, 193, 8)\n",
      "(193, 193, 8)\n",
      "(193, 193, 8)\n",
      "(193, 193, 8)\n",
      "(193, 193, 8)\n",
      "(193, 193, 8)\n",
      "(193, 193, 8)\n",
      "(193, 193, 8)\n",
      "(193, 193, 8)\n",
      "(193, 193, 8)\n",
      "(193, 193, 8)\n",
      "(193, 193, 8)\n",
      "(193, 193, 8)\n",
      "(193, 193, 8)\n"
     ]
    },
    {
     "ename": "ValueError",
     "evalue": "Must pass 2-d input. shape=(193, 193, 8)",
     "output_type": "error",
     "traceback": [
      "\u001b[1;31m---------------------------------------------------------------------------\u001b[0m",
      "\u001b[1;31mValueError\u001b[0m                                Traceback (most recent call last)",
      "\u001b[1;32m~\\AppData\\Local\\Temp/ipykernel_25536/3147636172.py\u001b[0m in \u001b[0;36m<module>\u001b[1;34m\u001b[0m\n\u001b[0;32m      8\u001b[0m         \u001b[0ma\u001b[0m \u001b[1;33m=\u001b[0m \u001b[0ma\u001b[0m\u001b[1;33m.\u001b[0m\u001b[0mreshape\u001b[0m\u001b[1;33m(\u001b[0m\u001b[1;33m-\u001b[0m\u001b[1;36m1\u001b[0m\u001b[1;33m,\u001b[0m \u001b[0mnew_model\u001b[0m\u001b[1;33m.\u001b[0m\u001b[0mlayers\u001b[0m\u001b[1;33m[\u001b[0m\u001b[0mlayer_to_explore\u001b[0m\u001b[1;33m]\u001b[0m\u001b[1;33m.\u001b[0m\u001b[0moutput_shape\u001b[0m\u001b[1;33m[\u001b[0m\u001b[1;33m-\u001b[0m\u001b[1;36m1\u001b[0m\u001b[1;33m]\u001b[0m\u001b[1;33m)\u001b[0m\u001b[1;33m\u001b[0m\u001b[1;33m\u001b[0m\u001b[0m\n\u001b[0;32m      9\u001b[0m \u001b[1;33m\u001b[0m\u001b[0m\n\u001b[1;32m---> 10\u001b[1;33m \u001b[0mpd\u001b[0m\u001b[1;33m.\u001b[0m\u001b[0mDataFrame\u001b[0m\u001b[1;33m(\u001b[0m\u001b[0mpd\u001b[0m\u001b[1;33m.\u001b[0m\u001b[0mDataFrame\u001b[0m\u001b[1;33m(\u001b[0m\u001b[0ma\u001b[0m\u001b[1;33m)\u001b[0m\u001b[1;33m.\u001b[0m\u001b[0mmean\u001b[0m\u001b[1;33m(\u001b[0m\u001b[1;33m)\u001b[0m\u001b[1;33m)\u001b[0m\u001b[1;33m.\u001b[0m\u001b[0mT\u001b[0m\u001b[1;33m\u001b[0m\u001b[1;33m\u001b[0m\u001b[0m\n\u001b[0m",
      "\u001b[1;32mD:\\users\\maxim\\anaconda3\\envs\\rnn-films\\lib\\site-packages\\pandas\\core\\frame.py\u001b[0m in \u001b[0;36m__init__\u001b[1;34m(self, data, index, columns, dtype, copy)\u001b[0m\n\u001b[0;32m    670\u001b[0m                 )\n\u001b[0;32m    671\u001b[0m             \u001b[1;32melse\u001b[0m\u001b[1;33m:\u001b[0m\u001b[1;33m\u001b[0m\u001b[1;33m\u001b[0m\u001b[0m\n\u001b[1;32m--> 672\u001b[1;33m                 mgr = ndarray_to_mgr(\n\u001b[0m\u001b[0;32m    673\u001b[0m                     \u001b[0mdata\u001b[0m\u001b[1;33m,\u001b[0m\u001b[1;33m\u001b[0m\u001b[1;33m\u001b[0m\u001b[0m\n\u001b[0;32m    674\u001b[0m                     \u001b[0mindex\u001b[0m\u001b[1;33m,\u001b[0m\u001b[1;33m\u001b[0m\u001b[1;33m\u001b[0m\u001b[0m\n",
      "\u001b[1;32mD:\\users\\maxim\\anaconda3\\envs\\rnn-films\\lib\\site-packages\\pandas\\core\\internals\\construction.py\u001b[0m in \u001b[0;36mndarray_to_mgr\u001b[1;34m(values, index, columns, dtype, copy, typ)\u001b[0m\n\u001b[0;32m    302\u001b[0m         \u001b[1;31m# by definition an array here\u001b[0m\u001b[1;33m\u001b[0m\u001b[1;33m\u001b[0m\u001b[0m\n\u001b[0;32m    303\u001b[0m         \u001b[1;31m# the dtypes will be coerced to a single dtype\u001b[0m\u001b[1;33m\u001b[0m\u001b[1;33m\u001b[0m\u001b[0m\n\u001b[1;32m--> 304\u001b[1;33m         \u001b[0mvalues\u001b[0m \u001b[1;33m=\u001b[0m \u001b[0m_prep_ndarray\u001b[0m\u001b[1;33m(\u001b[0m\u001b[0mvalues\u001b[0m\u001b[1;33m,\u001b[0m \u001b[0mcopy\u001b[0m\u001b[1;33m=\u001b[0m\u001b[0mcopy\u001b[0m\u001b[1;33m)\u001b[0m\u001b[1;33m\u001b[0m\u001b[1;33m\u001b[0m\u001b[0m\n\u001b[0m\u001b[0;32m    305\u001b[0m \u001b[1;33m\u001b[0m\u001b[0m\n\u001b[0;32m    306\u001b[0m     \u001b[1;32mif\u001b[0m \u001b[0mdtype\u001b[0m \u001b[1;32mis\u001b[0m \u001b[1;32mnot\u001b[0m \u001b[1;32mNone\u001b[0m \u001b[1;32mand\u001b[0m \u001b[1;32mnot\u001b[0m \u001b[0mis_dtype_equal\u001b[0m\u001b[1;33m(\u001b[0m\u001b[0mvalues\u001b[0m\u001b[1;33m.\u001b[0m\u001b[0mdtype\u001b[0m\u001b[1;33m,\u001b[0m \u001b[0mdtype\u001b[0m\u001b[1;33m)\u001b[0m\u001b[1;33m:\u001b[0m\u001b[1;33m\u001b[0m\u001b[1;33m\u001b[0m\u001b[0m\n",
      "\u001b[1;32mD:\\users\\maxim\\anaconda3\\envs\\rnn-films\\lib\\site-packages\\pandas\\core\\internals\\construction.py\u001b[0m in \u001b[0;36m_prep_ndarray\u001b[1;34m(values, copy)\u001b[0m\n\u001b[0;32m    553\u001b[0m         \u001b[0mvalues\u001b[0m \u001b[1;33m=\u001b[0m \u001b[0mvalues\u001b[0m\u001b[1;33m.\u001b[0m\u001b[0mreshape\u001b[0m\u001b[1;33m(\u001b[0m\u001b[1;33m(\u001b[0m\u001b[0mvalues\u001b[0m\u001b[1;33m.\u001b[0m\u001b[0mshape\u001b[0m\u001b[1;33m[\u001b[0m\u001b[1;36m0\u001b[0m\u001b[1;33m]\u001b[0m\u001b[1;33m,\u001b[0m \u001b[1;36m1\u001b[0m\u001b[1;33m)\u001b[0m\u001b[1;33m)\u001b[0m\u001b[1;33m\u001b[0m\u001b[1;33m\u001b[0m\u001b[0m\n\u001b[0;32m    554\u001b[0m     \u001b[1;32melif\u001b[0m \u001b[0mvalues\u001b[0m\u001b[1;33m.\u001b[0m\u001b[0mndim\u001b[0m \u001b[1;33m!=\u001b[0m \u001b[1;36m2\u001b[0m\u001b[1;33m:\u001b[0m\u001b[1;33m\u001b[0m\u001b[1;33m\u001b[0m\u001b[0m\n\u001b[1;32m--> 555\u001b[1;33m         \u001b[1;32mraise\u001b[0m \u001b[0mValueError\u001b[0m\u001b[1;33m(\u001b[0m\u001b[1;34mf\"Must pass 2-d input. shape={values.shape}\"\u001b[0m\u001b[1;33m)\u001b[0m\u001b[1;33m\u001b[0m\u001b[1;33m\u001b[0m\u001b[0m\n\u001b[0m\u001b[0;32m    556\u001b[0m \u001b[1;33m\u001b[0m\u001b[0m\n\u001b[0;32m    557\u001b[0m     \u001b[1;32mreturn\u001b[0m \u001b[0mvalues\u001b[0m\u001b[1;33m\u001b[0m\u001b[1;33m\u001b[0m\u001b[0m\n",
      "\u001b[1;31mValueError\u001b[0m: Must pass 2-d input. shape=(193, 193, 8)"
     ]
    }
   ],
   "source": [
    "layer_to_explore = 3\n",
    "\n",
    "for act in act_list[layer_to_explore]:\n",
    "    a = act\n",
    "    print(a.shape)\n",
    "    if isinstance(model.layers[layer_to_explore], Conv2D) or isinstance(model.layers[layer_to_explore], MaxPooling2D): # same w/ embedding\n",
    "        a = act.flatten()\n",
    "        a = a.reshape(-1, new_model.layers[layer_to_explore].output_shape[-1])\n",
    "    \n",
    "pd.DataFrame(pd.DataFrame(a).mean()).T"
   ]
  },
  {
   "cell_type": "code",
   "execution_count": 86,
   "id": "8ab7ecff",
   "metadata": {},
   "outputs": [
    {
     "data": {
      "text/plain": [
       "(None, 73728)"
      ]
     },
     "execution_count": 86,
     "metadata": {},
     "output_type": "execute_result"
    }
   ],
   "source": [
    "model.layers[layer_to_explore].output_shape"
   ]
  },
  {
   "cell_type": "code",
   "execution_count": 83,
   "id": "83dc0170",
   "metadata": {},
   "outputs": [
    {
     "data": {
      "text/html": [
       "<div>\n",
       "<style scoped>\n",
       "    .dataframe tbody tr th:only-of-type {\n",
       "        vertical-align: middle;\n",
       "    }\n",
       "\n",
       "    .dataframe tbody tr th {\n",
       "        vertical-align: top;\n",
       "    }\n",
       "\n",
       "    .dataframe thead th {\n",
       "        text-align: right;\n",
       "    }\n",
       "</style>\n",
       "<table border=\"1\" class=\"dataframe\">\n",
       "  <thead>\n",
       "    <tr style=\"text-align: right;\">\n",
       "      <th></th>\n",
       "      <th>0</th>\n",
       "      <th>1</th>\n",
       "      <th>2</th>\n",
       "      <th>3</th>\n",
       "      <th>4</th>\n",
       "      <th>5</th>\n",
       "      <th>6</th>\n",
       "      <th>7</th>\n",
       "    </tr>\n",
       "  </thead>\n",
       "  <tbody>\n",
       "    <tr>\n",
       "      <th>0</th>\n",
       "      <td>1.0</td>\n",
       "      <td>1.0</td>\n",
       "      <td>-1.0</td>\n",
       "      <td>-0.999946</td>\n",
       "      <td>-0.999848</td>\n",
       "      <td>-1.0</td>\n",
       "      <td>-1.0</td>\n",
       "      <td>-0.990396</td>\n",
       "    </tr>\n",
       "  </tbody>\n",
       "</table>\n",
       "</div>"
      ],
      "text/plain": [
       "     0    1    2         3         4    5    6         7\n",
       "0  1.0  1.0 -1.0 -0.999946 -0.999848 -1.0 -1.0 -0.990396"
      ]
     },
     "execution_count": 83,
     "metadata": {},
     "output_type": "execute_result"
    }
   ],
   "source": [
    "a = a.flatten()\n",
    "a = a.reshape(-1, 8)\n",
    "pd.DataFrame(pd.DataFrame(a).mean()).T"
   ]
  },
  {
   "cell_type": "code",
   "execution_count": 28,
   "id": "3f68ce7c",
   "metadata": {
    "scrolled": true
   },
   "outputs": [
    {
     "name": "stdout",
     "output_type": "stream",
     "text": [
      "16/16 [==============================] - 1s 79ms/step\n"
     ]
    },
    {
     "ename": "ValueError",
     "evalue": "Length of values (193) does not match length of index (502)",
     "output_type": "error",
     "traceback": [
      "\u001b[1;31m---------------------------------------------------------------------------\u001b[0m",
      "\u001b[1;31mValueError\u001b[0m                                Traceback (most recent call last)",
      "\u001b[1;32m~\\AppData\\Local\\Temp/ipykernel_25536/247334133.py\u001b[0m in \u001b[0;36m<module>\u001b[1;34m\u001b[0m\n\u001b[1;32m----> 1\u001b[1;33m \u001b[0mget_all_activations\u001b[0m\u001b[1;33m(\u001b[0m\u001b[0mdata\u001b[0m\u001b[1;33m,\u001b[0m \u001b[0mnew_model\u001b[0m\u001b[1;33m)\u001b[0m\u001b[1;33m\u001b[0m\u001b[1;33m\u001b[0m\u001b[0m\n\u001b[0m",
      "\u001b[1;32m~\\AppData\\Local\\Temp/ipykernel_25536/3971041269.py\u001b[0m in \u001b[0;36mget_all_activations\u001b[1;34m(df, model)\u001b[0m\n\u001b[0;32m     38\u001b[0m         \u001b[1;32mfor\u001b[0m \u001b[0mneuron_index\u001b[0m\u001b[1;33m,\u001b[0m \u001b[0mvalue_list\u001b[0m \u001b[1;32min\u001b[0m \u001b[0menumerate\u001b[0m\u001b[1;33m(\u001b[0m\u001b[0mactivations\u001b[0m\u001b[1;33m.\u001b[0m\u001b[0mT\u001b[0m\u001b[1;33m)\u001b[0m\u001b[1;33m:\u001b[0m\u001b[1;33m\u001b[0m\u001b[1;33m\u001b[0m\u001b[0m\n\u001b[0;32m     39\u001b[0m             \u001b[0mindex\u001b[0m \u001b[1;33m=\u001b[0m \u001b[1;34mf\"neuron_{neuron_index + 1}\"\u001b[0m\u001b[1;33m\u001b[0m\u001b[1;33m\u001b[0m\u001b[0m\n\u001b[1;32m---> 40\u001b[1;33m             \u001b[0mnew_df\u001b[0m\u001b[1;33m[\u001b[0m\u001b[0mindex\u001b[0m\u001b[1;33m]\u001b[0m \u001b[1;33m=\u001b[0m \u001b[0mvalue_list\u001b[0m\u001b[1;33m\u001b[0m\u001b[1;33m\u001b[0m\u001b[0m\n\u001b[0m\u001b[0;32m     41\u001b[0m \u001b[1;33m\u001b[0m\u001b[0m\n\u001b[0;32m     42\u001b[0m     \u001b[1;31m#return_df = self.standardize(new_df)\u001b[0m\u001b[1;33m\u001b[0m\u001b[1;33m\u001b[0m\u001b[0m\n",
      "\u001b[1;32mD:\\users\\maxim\\anaconda3\\envs\\rnn-films\\lib\\site-packages\\pandas\\core\\frame.py\u001b[0m in \u001b[0;36m__setitem__\u001b[1;34m(self, key, value)\u001b[0m\n\u001b[0;32m   3610\u001b[0m         \u001b[1;32melse\u001b[0m\u001b[1;33m:\u001b[0m\u001b[1;33m\u001b[0m\u001b[1;33m\u001b[0m\u001b[0m\n\u001b[0;32m   3611\u001b[0m             \u001b[1;31m# set column\u001b[0m\u001b[1;33m\u001b[0m\u001b[1;33m\u001b[0m\u001b[0m\n\u001b[1;32m-> 3612\u001b[1;33m             \u001b[0mself\u001b[0m\u001b[1;33m.\u001b[0m\u001b[0m_set_item\u001b[0m\u001b[1;33m(\u001b[0m\u001b[0mkey\u001b[0m\u001b[1;33m,\u001b[0m \u001b[0mvalue\u001b[0m\u001b[1;33m)\u001b[0m\u001b[1;33m\u001b[0m\u001b[1;33m\u001b[0m\u001b[0m\n\u001b[0m\u001b[0;32m   3613\u001b[0m \u001b[1;33m\u001b[0m\u001b[0m\n\u001b[0;32m   3614\u001b[0m     \u001b[1;32mdef\u001b[0m \u001b[0m_setitem_slice\u001b[0m\u001b[1;33m(\u001b[0m\u001b[0mself\u001b[0m\u001b[1;33m,\u001b[0m \u001b[0mkey\u001b[0m\u001b[1;33m:\u001b[0m \u001b[0mslice\u001b[0m\u001b[1;33m,\u001b[0m \u001b[0mvalue\u001b[0m\u001b[1;33m)\u001b[0m\u001b[1;33m:\u001b[0m\u001b[1;33m\u001b[0m\u001b[1;33m\u001b[0m\u001b[0m\n",
      "\u001b[1;32mD:\\users\\maxim\\anaconda3\\envs\\rnn-films\\lib\\site-packages\\pandas\\core\\frame.py\u001b[0m in \u001b[0;36m_set_item\u001b[1;34m(self, key, value)\u001b[0m\n\u001b[0;32m   3782\u001b[0m         \u001b[0mensure\u001b[0m \u001b[0mhomogeneity\u001b[0m\u001b[1;33m.\u001b[0m\u001b[1;33m\u001b[0m\u001b[1;33m\u001b[0m\u001b[0m\n\u001b[0;32m   3783\u001b[0m         \"\"\"\n\u001b[1;32m-> 3784\u001b[1;33m         \u001b[0mvalue\u001b[0m \u001b[1;33m=\u001b[0m \u001b[0mself\u001b[0m\u001b[1;33m.\u001b[0m\u001b[0m_sanitize_column\u001b[0m\u001b[1;33m(\u001b[0m\u001b[0mvalue\u001b[0m\u001b[1;33m)\u001b[0m\u001b[1;33m\u001b[0m\u001b[1;33m\u001b[0m\u001b[0m\n\u001b[0m\u001b[0;32m   3785\u001b[0m \u001b[1;33m\u001b[0m\u001b[0m\n\u001b[0;32m   3786\u001b[0m         if (\n",
      "\u001b[1;32mD:\\users\\maxim\\anaconda3\\envs\\rnn-films\\lib\\site-packages\\pandas\\core\\frame.py\u001b[0m in \u001b[0;36m_sanitize_column\u001b[1;34m(self, value)\u001b[0m\n\u001b[0;32m   4507\u001b[0m \u001b[1;33m\u001b[0m\u001b[0m\n\u001b[0;32m   4508\u001b[0m         \u001b[1;32mif\u001b[0m \u001b[0mis_list_like\u001b[0m\u001b[1;33m(\u001b[0m\u001b[0mvalue\u001b[0m\u001b[1;33m)\u001b[0m\u001b[1;33m:\u001b[0m\u001b[1;33m\u001b[0m\u001b[1;33m\u001b[0m\u001b[0m\n\u001b[1;32m-> 4509\u001b[1;33m             \u001b[0mcom\u001b[0m\u001b[1;33m.\u001b[0m\u001b[0mrequire_length_match\u001b[0m\u001b[1;33m(\u001b[0m\u001b[0mvalue\u001b[0m\u001b[1;33m,\u001b[0m \u001b[0mself\u001b[0m\u001b[1;33m.\u001b[0m\u001b[0mindex\u001b[0m\u001b[1;33m)\u001b[0m\u001b[1;33m\u001b[0m\u001b[1;33m\u001b[0m\u001b[0m\n\u001b[0m\u001b[0;32m   4510\u001b[0m         \u001b[1;32mreturn\u001b[0m \u001b[0msanitize_array\u001b[0m\u001b[1;33m(\u001b[0m\u001b[0mvalue\u001b[0m\u001b[1;33m,\u001b[0m \u001b[0mself\u001b[0m\u001b[1;33m.\u001b[0m\u001b[0mindex\u001b[0m\u001b[1;33m,\u001b[0m \u001b[0mcopy\u001b[0m\u001b[1;33m=\u001b[0m\u001b[1;32mTrue\u001b[0m\u001b[1;33m,\u001b[0m \u001b[0mallow_2d\u001b[0m\u001b[1;33m=\u001b[0m\u001b[1;32mTrue\u001b[0m\u001b[1;33m)\u001b[0m\u001b[1;33m\u001b[0m\u001b[1;33m\u001b[0m\u001b[0m\n\u001b[0;32m   4511\u001b[0m \u001b[1;33m\u001b[0m\u001b[0m\n",
      "\u001b[1;32mD:\\users\\maxim\\anaconda3\\envs\\rnn-films\\lib\\site-packages\\pandas\\core\\common.py\u001b[0m in \u001b[0;36mrequire_length_match\u001b[1;34m(data, index)\u001b[0m\n\u001b[0;32m    529\u001b[0m     \"\"\"\n\u001b[0;32m    530\u001b[0m     \u001b[1;32mif\u001b[0m \u001b[0mlen\u001b[0m\u001b[1;33m(\u001b[0m\u001b[0mdata\u001b[0m\u001b[1;33m)\u001b[0m \u001b[1;33m!=\u001b[0m \u001b[0mlen\u001b[0m\u001b[1;33m(\u001b[0m\u001b[0mindex\u001b[0m\u001b[1;33m)\u001b[0m\u001b[1;33m:\u001b[0m\u001b[1;33m\u001b[0m\u001b[1;33m\u001b[0m\u001b[0m\n\u001b[1;32m--> 531\u001b[1;33m         raise ValueError(\n\u001b[0m\u001b[0;32m    532\u001b[0m             \u001b[1;34m\"Length of values \"\u001b[0m\u001b[1;33m\u001b[0m\u001b[1;33m\u001b[0m\u001b[0m\n\u001b[0;32m    533\u001b[0m             \u001b[1;34mf\"({len(data)}) \"\u001b[0m\u001b[1;33m\u001b[0m\u001b[1;33m\u001b[0m\u001b[0m\n",
      "\u001b[1;31mValueError\u001b[0m: Length of values (193) does not match length of index (502)"
     ]
    }
   ],
   "source": [
    "get_all_activations(data, new_model)"
   ]
  },
  {
   "cell_type": "code",
   "execution_count": 2,
   "id": "4ceefd71",
   "metadata": {},
   "outputs": [
    {
     "ename": "ValueError",
     "evalue": "Expected object or value",
     "output_type": "error",
     "traceback": [
      "\u001b[1;31m---------------------------------------------------------------------------\u001b[0m",
      "\u001b[1;31mValueError\u001b[0m                                Traceback (most recent call last)",
      "\u001b[1;32m~\\AppData\\Local\\Temp/ipykernel_5848/1704722142.py\u001b[0m in \u001b[0;36m<module>\u001b[1;34m\u001b[0m\n\u001b[1;32m----> 1\u001b[1;33m \u001b[0mdf\u001b[0m \u001b[1;33m=\u001b[0m \u001b[0mpd\u001b[0m\u001b[1;33m.\u001b[0m\u001b[0mread_json\u001b[0m\u001b[1;33m(\u001b[0m\u001b[1;34m'./data/painter_ds.json'\u001b[0m\u001b[1;33m)\u001b[0m\u001b[1;33m\u001b[0m\u001b[1;33m\u001b[0m\u001b[0m\n\u001b[0m",
      "\u001b[1;32mD:\\users\\maxim\\anaconda3\\envs\\rnn-films\\lib\\site-packages\\pandas\\util\\_decorators.py\u001b[0m in \u001b[0;36mwrapper\u001b[1;34m(*args, **kwargs)\u001b[0m\n\u001b[0;32m    205\u001b[0m                 \u001b[1;32melse\u001b[0m\u001b[1;33m:\u001b[0m\u001b[1;33m\u001b[0m\u001b[1;33m\u001b[0m\u001b[0m\n\u001b[0;32m    206\u001b[0m                     \u001b[0mkwargs\u001b[0m\u001b[1;33m[\u001b[0m\u001b[0mnew_arg_name\u001b[0m\u001b[1;33m]\u001b[0m \u001b[1;33m=\u001b[0m \u001b[0mnew_arg_value\u001b[0m\u001b[1;33m\u001b[0m\u001b[1;33m\u001b[0m\u001b[0m\n\u001b[1;32m--> 207\u001b[1;33m             \u001b[1;32mreturn\u001b[0m \u001b[0mfunc\u001b[0m\u001b[1;33m(\u001b[0m\u001b[1;33m*\u001b[0m\u001b[0margs\u001b[0m\u001b[1;33m,\u001b[0m \u001b[1;33m**\u001b[0m\u001b[0mkwargs\u001b[0m\u001b[1;33m)\u001b[0m\u001b[1;33m\u001b[0m\u001b[1;33m\u001b[0m\u001b[0m\n\u001b[0m\u001b[0;32m    208\u001b[0m \u001b[1;33m\u001b[0m\u001b[0m\n\u001b[0;32m    209\u001b[0m         \u001b[1;32mreturn\u001b[0m \u001b[0mcast\u001b[0m\u001b[1;33m(\u001b[0m\u001b[0mF\u001b[0m\u001b[1;33m,\u001b[0m \u001b[0mwrapper\u001b[0m\u001b[1;33m)\u001b[0m\u001b[1;33m\u001b[0m\u001b[1;33m\u001b[0m\u001b[0m\n",
      "\u001b[1;32mD:\\users\\maxim\\anaconda3\\envs\\rnn-films\\lib\\site-packages\\pandas\\util\\_decorators.py\u001b[0m in \u001b[0;36mwrapper\u001b[1;34m(*args, **kwargs)\u001b[0m\n\u001b[0;32m    309\u001b[0m                     \u001b[0mstacklevel\u001b[0m\u001b[1;33m=\u001b[0m\u001b[0mstacklevel\u001b[0m\u001b[1;33m,\u001b[0m\u001b[1;33m\u001b[0m\u001b[1;33m\u001b[0m\u001b[0m\n\u001b[0;32m    310\u001b[0m                 )\n\u001b[1;32m--> 311\u001b[1;33m             \u001b[1;32mreturn\u001b[0m \u001b[0mfunc\u001b[0m\u001b[1;33m(\u001b[0m\u001b[1;33m*\u001b[0m\u001b[0margs\u001b[0m\u001b[1;33m,\u001b[0m \u001b[1;33m**\u001b[0m\u001b[0mkwargs\u001b[0m\u001b[1;33m)\u001b[0m\u001b[1;33m\u001b[0m\u001b[1;33m\u001b[0m\u001b[0m\n\u001b[0m\u001b[0;32m    312\u001b[0m \u001b[1;33m\u001b[0m\u001b[0m\n\u001b[0;32m    313\u001b[0m         \u001b[1;32mreturn\u001b[0m \u001b[0mwrapper\u001b[0m\u001b[1;33m\u001b[0m\u001b[1;33m\u001b[0m\u001b[0m\n",
      "\u001b[1;32mD:\\users\\maxim\\anaconda3\\envs\\rnn-films\\lib\\site-packages\\pandas\\io\\json\\_json.py\u001b[0m in \u001b[0;36mread_json\u001b[1;34m(path_or_buf, orient, typ, dtype, convert_axes, convert_dates, keep_default_dates, numpy, precise_float, date_unit, encoding, encoding_errors, lines, chunksize, compression, nrows, storage_options)\u001b[0m\n\u001b[0;32m    612\u001b[0m \u001b[1;33m\u001b[0m\u001b[0m\n\u001b[0;32m    613\u001b[0m     \u001b[1;32mwith\u001b[0m \u001b[0mjson_reader\u001b[0m\u001b[1;33m:\u001b[0m\u001b[1;33m\u001b[0m\u001b[1;33m\u001b[0m\u001b[0m\n\u001b[1;32m--> 614\u001b[1;33m         \u001b[1;32mreturn\u001b[0m \u001b[0mjson_reader\u001b[0m\u001b[1;33m.\u001b[0m\u001b[0mread\u001b[0m\u001b[1;33m(\u001b[0m\u001b[1;33m)\u001b[0m\u001b[1;33m\u001b[0m\u001b[1;33m\u001b[0m\u001b[0m\n\u001b[0m\u001b[0;32m    615\u001b[0m \u001b[1;33m\u001b[0m\u001b[0m\n\u001b[0;32m    616\u001b[0m \u001b[1;33m\u001b[0m\u001b[0m\n",
      "\u001b[1;32mD:\\users\\maxim\\anaconda3\\envs\\rnn-films\\lib\\site-packages\\pandas\\io\\json\\_json.py\u001b[0m in \u001b[0;36mread\u001b[1;34m(self)\u001b[0m\n\u001b[0;32m    746\u001b[0m                 \u001b[0mobj\u001b[0m \u001b[1;33m=\u001b[0m \u001b[0mself\u001b[0m\u001b[1;33m.\u001b[0m\u001b[0m_get_object_parser\u001b[0m\u001b[1;33m(\u001b[0m\u001b[0mself\u001b[0m\u001b[1;33m.\u001b[0m\u001b[0m_combine_lines\u001b[0m\u001b[1;33m(\u001b[0m\u001b[0mdata_lines\u001b[0m\u001b[1;33m)\u001b[0m\u001b[1;33m)\u001b[0m\u001b[1;33m\u001b[0m\u001b[1;33m\u001b[0m\u001b[0m\n\u001b[0;32m    747\u001b[0m         \u001b[1;32melse\u001b[0m\u001b[1;33m:\u001b[0m\u001b[1;33m\u001b[0m\u001b[1;33m\u001b[0m\u001b[0m\n\u001b[1;32m--> 748\u001b[1;33m             \u001b[0mobj\u001b[0m \u001b[1;33m=\u001b[0m \u001b[0mself\u001b[0m\u001b[1;33m.\u001b[0m\u001b[0m_get_object_parser\u001b[0m\u001b[1;33m(\u001b[0m\u001b[0mself\u001b[0m\u001b[1;33m.\u001b[0m\u001b[0mdata\u001b[0m\u001b[1;33m)\u001b[0m\u001b[1;33m\u001b[0m\u001b[1;33m\u001b[0m\u001b[0m\n\u001b[0m\u001b[0;32m    749\u001b[0m         \u001b[0mself\u001b[0m\u001b[1;33m.\u001b[0m\u001b[0mclose\u001b[0m\u001b[1;33m(\u001b[0m\u001b[1;33m)\u001b[0m\u001b[1;33m\u001b[0m\u001b[1;33m\u001b[0m\u001b[0m\n\u001b[0;32m    750\u001b[0m         \u001b[1;32mreturn\u001b[0m \u001b[0mobj\u001b[0m\u001b[1;33m\u001b[0m\u001b[1;33m\u001b[0m\u001b[0m\n",
      "\u001b[1;32mD:\\users\\maxim\\anaconda3\\envs\\rnn-films\\lib\\site-packages\\pandas\\io\\json\\_json.py\u001b[0m in \u001b[0;36m_get_object_parser\u001b[1;34m(self, json)\u001b[0m\n\u001b[0;32m    768\u001b[0m         \u001b[0mobj\u001b[0m \u001b[1;33m=\u001b[0m \u001b[1;32mNone\u001b[0m\u001b[1;33m\u001b[0m\u001b[1;33m\u001b[0m\u001b[0m\n\u001b[0;32m    769\u001b[0m         \u001b[1;32mif\u001b[0m \u001b[0mtyp\u001b[0m \u001b[1;33m==\u001b[0m \u001b[1;34m\"frame\"\u001b[0m\u001b[1;33m:\u001b[0m\u001b[1;33m\u001b[0m\u001b[1;33m\u001b[0m\u001b[0m\n\u001b[1;32m--> 770\u001b[1;33m             \u001b[0mobj\u001b[0m \u001b[1;33m=\u001b[0m \u001b[0mFrameParser\u001b[0m\u001b[1;33m(\u001b[0m\u001b[0mjson\u001b[0m\u001b[1;33m,\u001b[0m \u001b[1;33m**\u001b[0m\u001b[0mkwargs\u001b[0m\u001b[1;33m)\u001b[0m\u001b[1;33m.\u001b[0m\u001b[0mparse\u001b[0m\u001b[1;33m(\u001b[0m\u001b[1;33m)\u001b[0m\u001b[1;33m\u001b[0m\u001b[1;33m\u001b[0m\u001b[0m\n\u001b[0m\u001b[0;32m    771\u001b[0m \u001b[1;33m\u001b[0m\u001b[0m\n\u001b[0;32m    772\u001b[0m         \u001b[1;32mif\u001b[0m \u001b[0mtyp\u001b[0m \u001b[1;33m==\u001b[0m \u001b[1;34m\"series\"\u001b[0m \u001b[1;32mor\u001b[0m \u001b[0mobj\u001b[0m \u001b[1;32mis\u001b[0m \u001b[1;32mNone\u001b[0m\u001b[1;33m:\u001b[0m\u001b[1;33m\u001b[0m\u001b[1;33m\u001b[0m\u001b[0m\n",
      "\u001b[1;32mD:\\users\\maxim\\anaconda3\\envs\\rnn-films\\lib\\site-packages\\pandas\\io\\json\\_json.py\u001b[0m in \u001b[0;36mparse\u001b[1;34m(self)\u001b[0m\n\u001b[0;32m    883\u001b[0m \u001b[1;33m\u001b[0m\u001b[0m\n\u001b[0;32m    884\u001b[0m         \u001b[1;32melse\u001b[0m\u001b[1;33m:\u001b[0m\u001b[1;33m\u001b[0m\u001b[1;33m\u001b[0m\u001b[0m\n\u001b[1;32m--> 885\u001b[1;33m             \u001b[0mself\u001b[0m\u001b[1;33m.\u001b[0m\u001b[0m_parse_no_numpy\u001b[0m\u001b[1;33m(\u001b[0m\u001b[1;33m)\u001b[0m\u001b[1;33m\u001b[0m\u001b[1;33m\u001b[0m\u001b[0m\n\u001b[0m\u001b[0;32m    886\u001b[0m \u001b[1;33m\u001b[0m\u001b[0m\n\u001b[0;32m    887\u001b[0m         \u001b[1;32mif\u001b[0m \u001b[0mself\u001b[0m\u001b[1;33m.\u001b[0m\u001b[0mobj\u001b[0m \u001b[1;32mis\u001b[0m \u001b[1;32mNone\u001b[0m\u001b[1;33m:\u001b[0m\u001b[1;33m\u001b[0m\u001b[1;33m\u001b[0m\u001b[0m\n",
      "\u001b[1;32mD:\\users\\maxim\\anaconda3\\envs\\rnn-films\\lib\\site-packages\\pandas\\io\\json\\_json.py\u001b[0m in \u001b[0;36m_parse_no_numpy\u001b[1;34m(self)\u001b[0m\n\u001b[0;32m   1138\u001b[0m         \u001b[1;32mif\u001b[0m \u001b[0morient\u001b[0m \u001b[1;33m==\u001b[0m \u001b[1;34m\"columns\"\u001b[0m\u001b[1;33m:\u001b[0m\u001b[1;33m\u001b[0m\u001b[1;33m\u001b[0m\u001b[0m\n\u001b[0;32m   1139\u001b[0m             self.obj = DataFrame(\n\u001b[1;32m-> 1140\u001b[1;33m                 \u001b[0mloads\u001b[0m\u001b[1;33m(\u001b[0m\u001b[0mjson\u001b[0m\u001b[1;33m,\u001b[0m \u001b[0mprecise_float\u001b[0m\u001b[1;33m=\u001b[0m\u001b[0mself\u001b[0m\u001b[1;33m.\u001b[0m\u001b[0mprecise_float\u001b[0m\u001b[1;33m)\u001b[0m\u001b[1;33m,\u001b[0m \u001b[0mdtype\u001b[0m\u001b[1;33m=\u001b[0m\u001b[1;32mNone\u001b[0m\u001b[1;33m\u001b[0m\u001b[1;33m\u001b[0m\u001b[0m\n\u001b[0m\u001b[0;32m   1141\u001b[0m             )\n\u001b[0;32m   1142\u001b[0m         \u001b[1;32melif\u001b[0m \u001b[0morient\u001b[0m \u001b[1;33m==\u001b[0m \u001b[1;34m\"split\"\u001b[0m\u001b[1;33m:\u001b[0m\u001b[1;33m\u001b[0m\u001b[1;33m\u001b[0m\u001b[0m\n",
      "\u001b[1;31mValueError\u001b[0m: Expected object or value"
     ]
    }
   ],
   "source": [
    "df = pd.read_json('./data/painter_ds.json')"
   ]
  },
  {
   "cell_type": "code",
   "execution_count": null,
   "id": "d6fce053",
   "metadata": {},
   "outputs": [],
   "source": []
  }
 ],
 "metadata": {
  "kernelspec": {
   "display_name": "rnn-films",
   "language": "python",
   "name": "rnn-films"
  },
  "language_info": {
   "codemirror_mode": {
    "name": "ipython",
    "version": 3
   },
   "file_extension": ".py",
   "mimetype": "text/x-python",
   "name": "python",
   "nbconvert_exporter": "python",
   "pygments_lexer": "ipython3",
   "version": "3.9.7"
  }
 },
 "nbformat": 4,
 "nbformat_minor": 5
}
