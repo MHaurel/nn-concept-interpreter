{
 "cells": [
  {
   "cell_type": "code",
   "execution_count": 1,
   "id": "91a7b1ad",
   "metadata": {},
   "outputs": [],
   "source": [
    "import pandas as pd\n",
    "import numpy as np"
   ]
  },
  {
   "cell_type": "code",
   "execution_count": 4,
   "id": "3fe5a3db",
   "metadata": {},
   "outputs": [
    {
     "data": {
      "text/plain": [
       "(17403, 5)"
      ]
     },
     "execution_count": 4,
     "metadata": {},
     "output_type": "execute_result"
    }
   ],
   "source": [
    "df = pd.read_json('./data/bycountry_ds.json')\n",
    "df.shape"
   ]
  },
  {
   "cell_type": "code",
   "execution_count": 5,
   "id": "958781c8",
   "metadata": {},
   "outputs": [
    {
     "data": {
      "text/html": [
       "<div>\n",
       "<style scoped>\n",
       "    .dataframe tbody tr th:only-of-type {\n",
       "        vertical-align: middle;\n",
       "    }\n",
       "\n",
       "    .dataframe tbody tr th {\n",
       "        vertical-align: top;\n",
       "    }\n",
       "\n",
       "    .dataframe thead th {\n",
       "        text-align: right;\n",
       "    }\n",
       "</style>\n",
       "<table border=\"1\" class=\"dataframe\">\n",
       "  <thead>\n",
       "    <tr style=\"text-align: right;\">\n",
       "      <th></th>\n",
       "      <th>category</th>\n",
       "      <th>input</th>\n",
       "      <th>output_low</th>\n",
       "      <th>output_medium</th>\n",
       "      <th>output_high</th>\n",
       "    </tr>\n",
       "  </thead>\n",
       "  <tbody>\n",
       "    <tr>\n",
       "      <th>http://dbpedia.org/resource/...All_the_Marbles</th>\n",
       "      <td>[United States]</td>\n",
       "      <td>[0, 0, 0, 0, 0, 0, 0, 0, 0, 0, 0, 0, 0, 0, 0, ...</td>\n",
       "      <td>0</td>\n",
       "      <td>1</td>\n",
       "      <td>0</td>\n",
       "    </tr>\n",
       "    <tr>\n",
       "      <th>http://dbpedia.org/resource/An_Eye_for_an_Eye_(1981_film)</th>\n",
       "      <td>[United States]</td>\n",
       "      <td>[0, 0, 0, 0, 0, 0, 0, 0, 0, 0, 0, 0, 0, 0, 0, ...</td>\n",
       "      <td>0</td>\n",
       "      <td>1</td>\n",
       "      <td>0</td>\n",
       "    </tr>\n",
       "    <tr>\n",
       "      <th>http://dbpedia.org/resource/Brain_Dead_(1990_film)</th>\n",
       "      <td>[United States]</td>\n",
       "      <td>[0, 0, 0, 0, 0, 0, 0, 0, 0, 0, 0, 0, 0, 0, 0, ...</td>\n",
       "      <td>0</td>\n",
       "      <td>1</td>\n",
       "      <td>0</td>\n",
       "    </tr>\n",
       "    <tr>\n",
       "      <th>http://dbpedia.org/resource/For_Pete's_Sake_(film)</th>\n",
       "      <td>[United States]</td>\n",
       "      <td>[0, 0, 0, 0, 0, 0, 0, 0, 0, 0, 0, 0, 0, 0, 0, ...</td>\n",
       "      <td>0</td>\n",
       "      <td>1</td>\n",
       "      <td>0</td>\n",
       "    </tr>\n",
       "    <tr>\n",
       "      <th>http://dbpedia.org/resource/Hannah_Montana:_The_Movie</th>\n",
       "      <td>[United States]</td>\n",
       "      <td>[25, 6677, 48, 2, 138, 5, 331, 1, 7, 25, 6983,...</td>\n",
       "      <td>0</td>\n",
       "      <td>0</td>\n",
       "      <td>1</td>\n",
       "    </tr>\n",
       "  </tbody>\n",
       "</table>\n",
       "</div>"
      ],
      "text/plain": [
       "                                                           category  \\\n",
       "http://dbpedia.org/resource/...All_the_Marbles      [United States]   \n",
       "http://dbpedia.org/resource/An_Eye_for_an_Eye_(...  [United States]   \n",
       "http://dbpedia.org/resource/Brain_Dead_(1990_film)  [United States]   \n",
       "http://dbpedia.org/resource/For_Pete's_Sake_(film)  [United States]   \n",
       "http://dbpedia.org/resource/Hannah_Montana:_The...  [United States]   \n",
       "\n",
       "                                                                                                input  \\\n",
       "http://dbpedia.org/resource/...All_the_Marbles      [0, 0, 0, 0, 0, 0, 0, 0, 0, 0, 0, 0, 0, 0, 0, ...   \n",
       "http://dbpedia.org/resource/An_Eye_for_an_Eye_(...  [0, 0, 0, 0, 0, 0, 0, 0, 0, 0, 0, 0, 0, 0, 0, ...   \n",
       "http://dbpedia.org/resource/Brain_Dead_(1990_film)  [0, 0, 0, 0, 0, 0, 0, 0, 0, 0, 0, 0, 0, 0, 0, ...   \n",
       "http://dbpedia.org/resource/For_Pete's_Sake_(film)  [0, 0, 0, 0, 0, 0, 0, 0, 0, 0, 0, 0, 0, 0, 0, ...   \n",
       "http://dbpedia.org/resource/Hannah_Montana:_The...  [25, 6677, 48, 2, 138, 5, 331, 1, 7, 25, 6983,...   \n",
       "\n",
       "                                                    output_low  output_medium  \\\n",
       "http://dbpedia.org/resource/...All_the_Marbles               0              1   \n",
       "http://dbpedia.org/resource/An_Eye_for_an_Eye_(...           0              1   \n",
       "http://dbpedia.org/resource/Brain_Dead_(1990_film)           0              1   \n",
       "http://dbpedia.org/resource/For_Pete's_Sake_(film)           0              1   \n",
       "http://dbpedia.org/resource/Hannah_Montana:_The...           0              0   \n",
       "\n",
       "                                                    output_high  \n",
       "http://dbpedia.org/resource/...All_the_Marbles                0  \n",
       "http://dbpedia.org/resource/An_Eye_for_an_Eye_(...            0  \n",
       "http://dbpedia.org/resource/Brain_Dead_(1990_film)            0  \n",
       "http://dbpedia.org/resource/For_Pete's_Sake_(film)            0  \n",
       "http://dbpedia.org/resource/Hannah_Montana:_The...            1  "
      ]
     },
     "execution_count": 5,
     "metadata": {},
     "output_type": "execute_result"
    }
   ],
   "source": [
    "df.head()"
   ]
  },
  {
   "cell_type": "code",
   "execution_count": 6,
   "id": "41b5f652",
   "metadata": {},
   "outputs": [],
   "source": [
    "from tensorflow import keras"
   ]
  },
  {
   "cell_type": "code",
   "execution_count": 7,
   "id": "74153a31",
   "metadata": {},
   "outputs": [],
   "source": [
    "model = keras.models.load_model('./models/bycountry_model')"
   ]
  },
  {
   "cell_type": "code",
   "execution_count": 8,
   "id": "d5170063",
   "metadata": {
    "scrolled": true
   },
   "outputs": [
    {
     "name": "stdout",
     "output_type": "stream",
     "text": [
      "Model: \"sequential\"\n",
      "_________________________________________________________________\n",
      " Layer (type)                Output Shape              Param #   \n",
      "=================================================================\n",
      " embedding (Embedding)       (None, 100, 64)           640000    \n",
      "                                                                 \n",
      " lstm_3 (LSTM)               (None, 32)                12416     \n",
      "                                                                 \n",
      " dense (Dense)               (None, 3)                 99        \n",
      "                                                                 \n",
      "=================================================================\n",
      "Total params: 652,515\n",
      "Trainable params: 652,515\n",
      "Non-trainable params: 0\n",
      "_________________________________________________________________\n"
     ]
    }
   ],
   "source": [
    "model.summary()"
   ]
  },
  {
   "cell_type": "code",
   "execution_count": 14,
   "id": "77ef6ec6",
   "metadata": {},
   "outputs": [
    {
     "name": "stdout",
     "output_type": "stream",
     "text": [
      "0 embedding\n",
      "1 lstm_3\n",
      "<function tanh at 0x000001A88E51E280>\n",
      "2 dense\n",
      "<function softmax at 0x000001A88E51A4C0>\n"
     ]
    }
   ],
   "source": [
    "for i, layer in enumerate(model.layers):\n",
    "    print(i, layer.name)\n",
    "    if i != 0: # Embedding does not have activation function\n",
    "        print(layer.activation)"
   ]
  },
  {
   "cell_type": "code",
   "execution_count": 15,
   "id": "9a9ad3fb",
   "metadata": {},
   "outputs": [],
   "source": [
    "from tensorflow.keras.models import Sequential\n",
    "from tensorflow.keras.layers import Dense, LSTM, Embedding, Dropout"
   ]
  },
  {
   "cell_type": "code",
   "execution_count": 19,
   "id": "96415279",
   "metadata": {},
   "outputs": [],
   "source": [
    "layer_to_explore = 1"
   ]
  },
  {
   "cell_type": "code",
   "execution_count": 21,
   "id": "5ce44629",
   "metadata": {},
   "outputs": [
    {
     "name": "stdout",
     "output_type": "stream",
     "text": [
      "Adding layer 0\n",
      "Adding layer 1\n",
      "Model: \"sequential_3\"\n",
      "_________________________________________________________________\n",
      " Layer (type)                Output Shape              Param #   \n",
      "=================================================================\n",
      " embedding (Embedding)       (None, 100, 64)           640000    \n",
      "                                                                 \n",
      " lstm_3 (LSTM)               (None, 32)                12416     \n",
      "                                                                 \n",
      "=================================================================\n",
      "Total params: 652,416\n",
      "Trainable params: 652,416\n",
      "Non-trainable params: 0\n",
      "_________________________________________________________________\n"
     ]
    }
   ],
   "source": [
    "model2 = Sequential()\n",
    "\n",
    "for i in range(len(model.layers)):\n",
    "    if i < layer_to_explore + 1:\n",
    "        print(f\"Adding layer {i}\")\n",
    "        model2.add(model.layers[i])\n",
    "        \n",
    "model2.summary()"
   ]
  },
  {
   "cell_type": "code",
   "execution_count": 46,
   "id": "70efc034",
   "metadata": {},
   "outputs": [
    {
     "name": "stdout",
     "output_type": "stream",
     "text": [
      "(None, 100) <dtype: 'float32'>\n",
      "(None, 32) <dtype: 'float32'>\n",
      "embedding (None, 100) float32\n",
      "lstm_3 (None, 100, 64) float32\n"
     ]
    },
    {
     "data": {
      "text/plain": [
       "[None, None]"
      ]
     },
     "execution_count": 46,
     "metadata": {},
     "output_type": "execute_result"
    }
   ],
   "source": [
    "[print(i.shape, i.dtype) for i in model2.inputs]\n",
    "[print(o.shape, o.dtype) for o in model2.outputs]\n",
    "[print(l.name, l.input_shape, l.dtype) for l in model2.layers]"
   ]
  },
  {
   "cell_type": "code",
   "execution_count": 51,
   "id": "dfa19cee",
   "metadata": {},
   "outputs": [
    {
     "data": {
      "text/plain": [
       "array([   0,    0,    0,    0,    0,    0,    0,    0,    0,    0,    0,\n",
       "          0,    0,    0,    0,    0,    0,    0,    0,    0,    0,    0,\n",
       "          0,    0,    0,    0,    0,    0,    0,    0,    0,    0,    0,\n",
       "          0,    0,    0,    0,    0,    0,    0,    0,    0,    0,    0,\n",
       "          0,    0,    0,    0,    0,    0,    0,    0,    0,    0,    0,\n",
       "          0,    0,    0,    0,    0,    0,    0,    0,    0,    0,    0,\n",
       "          0,    0,    0,    0,    0,    0,    0,    0,    0,    0,  410,\n",
       "       1514, 4369, 1284,   11,    1,    6, 2243, 4947, 7330, 2080, 8139,\n",
       "       3909,    2, 2024,   14, 7714, 7714, 7714,   10, 2024,   19, 2963,\n",
       "         48])"
      ]
     },
     "execution_count": 51,
     "metadata": {},
     "output_type": "execute_result"
    }
   ],
   "source": [
    "inp = np.array(df.input.iloc[10])\n",
    "inp"
   ]
  },
  {
   "cell_type": "code",
   "execution_count": 69,
   "id": "0c54790c",
   "metadata": {},
   "outputs": [
    {
     "data": {
      "text/plain": [
       "(17403, 100)"
      ]
     },
     "execution_count": 69,
     "metadata": {},
     "output_type": "execute_result"
    }
   ],
   "source": [
    "inputs = []\n",
    "for i in range(len(df.input)):\n",
    "    inputs.append(np.array(df.input.iloc[i]))\n",
    "\n",
    "inputs = np.array(inputs)\n",
    "inputs.shape"
   ]
  },
  {
   "cell_type": "code",
   "execution_count": 70,
   "id": "6979d454",
   "metadata": {},
   "outputs": [
    {
     "name": "stdout",
     "output_type": "stream",
     "text": [
      "544/544 [==============================] - 3s 5ms/step\n"
     ]
    },
    {
     "data": {
      "text/plain": [
       "array([[ 0.07156485,  0.292121  , -0.36352202, ...,  0.24505086,\n",
       "         0.0075122 , -0.06348532],\n",
       "       [-0.02730321,  0.11424701, -0.10647444, ...,  0.2577309 ,\n",
       "         0.08961219,  0.19460133],\n",
       "       [ 0.17597727,  0.23239158, -0.28580275, ...,  0.04924995,\n",
       "        -0.09155545, -0.3179046 ],\n",
       "       ...,\n",
       "       [ 0.45771903,  0.4332017 , -0.50327903, ...,  0.06189189,\n",
       "        -0.1883936 , -0.6567339 ],\n",
       "       [ 0.2850686 ,  0.39111367, -0.44341838, ...,  0.12254363,\n",
       "        -0.08124002, -0.5056254 ],\n",
       "       [-0.13035586, -0.09148991,  0.04466944, ...,  0.27199036,\n",
       "         0.19974534,  0.25408548]], dtype=float32)"
      ]
     },
     "execution_count": 70,
     "metadata": {},
     "output_type": "execute_result"
    }
   ],
   "source": [
    "model2.predict(inputs)"
   ]
  },
  {
   "cell_type": "code",
   "execution_count": 83,
   "id": "c5f6c990",
   "metadata": {},
   "outputs": [],
   "source": [
    "# Need to check if the country is real\n",
    "def get_unique_categories(df):\n",
    "    unique_categories = []\n",
    "    for i in range(len(df.category)):\n",
    "        for cat in df.category[i]:\n",
    "            if cat not in unique_categories and cat != '':\n",
    "                unique_categories.append(cat)\n",
    "                \n",
    "    return unique_categories"
   ]
  },
  {
   "cell_type": "code",
   "execution_count": 84,
   "id": "9a839ab2",
   "metadata": {
    "scrolled": true
   },
   "outputs": [
    {
     "data": {
      "text/plain": [
       "['United States',\n",
       " 'France',\n",
       " 'Australia',\n",
       " 'United Kingdom',\n",
       " 'Mexico',\n",
       " 'Argentina',\n",
       " 'Italy',\n",
       " 'Spain',\n",
       " 'United States, Mexico',\n",
       " 'Belgium',\n",
       " 'Germany',\n",
       " 'Brazil',\n",
       " 'Japan',\n",
       " 'Lebanon',\n",
       " 'Ireland',\n",
       " 'Canada',\n",
       " 'Luxembourg',\n",
       " 'West Germany',\n",
       " 'USA',\n",
       " 'Russia',\n",
       " 'China',\n",
       " 'Serbia',\n",
       " 'Indonesia',\n",
       " 'Hong Kong',\n",
       " 'Switzerland',\n",
       " 'Armenia',\n",
       " 'Austria',\n",
       " 'India',\n",
       " 'Iran',\n",
       " 'Taiwan',\n",
       " 'Soviet Union',\n",
       " 'South Africa',\n",
       " 'Romania',\n",
       " 'South Korea',\n",
       " 'Cambodia',\n",
       " 'Netherlands',\n",
       " 'Sweden',\n",
       " 'Singapore',\n",
       " 'Poland',\n",
       " 'Norway',\n",
       " 'Mali',\n",
       " 'Czech Republic',\n",
       " 'Denmark',\n",
       " 'New Zealand',\n",
       " 'Lithuania',\n",
       " 'Jordan',\n",
       " 'Hungary',\n",
       " 'United States/Mexico',\n",
       " 'Yugoslavia',\n",
       " 'Italy, France',\n",
       " 'Colombia',\n",
       " 'Monaco',\n",
       " 'Syria',\n",
       " 'Slovakia',\n",
       " 'Ukraine',\n",
       " 'Morocco',\n",
       " 'Pakistan',\n",
       " 'Thailand',\n",
       " 'Israel',\n",
       " 'Mainland China',\n",
       " 'Bulgaria',\n",
       " 'Portugal',\n",
       " 'Nigeria',\n",
       " 'Chile',\n",
       " 'Peru',\n",
       " 'Iceland',\n",
       " 'Algeria',\n",
       " 'Tunisia',\n",
       " 'Greece',\n",
       " 'Malaysia',\n",
       " 'Cameroon',\n",
       " 'Kenya',\n",
       " 'Vietnam',\n",
       " 'Japan, United States',\n",
       " 'Puerto Rico',\n",
       " 'Finland',\n",
       " 'Kuwait',\n",
       " 'Libya',\n",
       " 'Paraguay',\n",
       " 'Turkey',\n",
       " 'Panama',\n",
       " 'Terrebonne',\n",
       " 'Saudi Arabia',\n",
       " 'UK / France',\n",
       " 'Czechoslovakia',\n",
       " 'France, Germany, Spain',\n",
       " 'Burkina Faso',\n",
       " 'France, Belgium',\n",
       " 'Italy, United States',\n",
       " 'United Arab Emirates',\n",
       " 'United States, Canada',\n",
       " 'Georgia',\n",
       " 'Spain, Portugal',\n",
       " 'Indonesia, Ecuador',\n",
       " 'Netherlands, Ireland',\n",
       " 'Poland, Pakistan',\n",
       " 'USA, Tanzania',\n",
       " 'Venezuela',\n",
       " 'Cuba',\n",
       " 'United States of America',\n",
       " 'United Kingdom \\nUnited States',\n",
       " 'Scotland',\n",
       " 'United states',\n",
       " 'France / Italy',\n",
       " 'United States / Israel',\n",
       " 'France/Italy',\n",
       " 'Sweden, Denmark, Italy',\n",
       " 'Liechtenstein',\n",
       " 'UK',\n",
       " 'Egypt',\n",
       " 'Italy/France',\n",
       " 'East Germany',\n",
       " '* Spain\\n* United Kingdom',\n",
       " 'United Kingdom, United States',\n",
       " 'Russia, Ukraine',\n",
       " 'Croatia',\n",
       " 'Bosnia and Herzegovina',\n",
       " 'Macedonia',\n",
       " 'Italy / France',\n",
       " 'Qatar',\n",
       " 'Cayman Islands',\n",
       " 'Malta',\n",
       " '*United States\\n*Russia',\n",
       " 'Albania',\n",
       " 'United Kingdom United States',\n",
       " 'Myanmar',\n",
       " 'Madagascar',\n",
       " 'Greenland',\n",
       " 'Mongolia',\n",
       " 'United Kingdom, Canada',\n",
       " 'France-Italy',\n",
       " 'Germany, United States',\n",
       " 'FR Yugoslavia',\n",
       " 'United Statesref|Fight Club, a film by the American studio 20th Century Fox, is often found in databases and related summaries to have the countries US and Germany, the latter being ascribable to the role of international funding.|group=\"nb\"',\n",
       " 'United Kingdom, United States, Japan',\n",
       " 'English',\n",
       " 'U.S',\n",
       " 'South Korean',\n",
       " 'US',\n",
       " 'Palestine',\n",
       " 'United States, France',\n",
       " 'Afghanistan',\n",
       " '* United States\\n* Canada',\n",
       " 'Iraq',\n",
       " 'France / Germany',\n",
       " 'CanadaFranceGermanySpainPortugal',\n",
       " 'Hong Kong/Thailand',\n",
       " 'Bangladesh',\n",
       " 'Senegal / France / Burkina Faso / Cameroon / Morocco / Tunisia',\n",
       " 'Kazakhstan',\n",
       " 'CanadaKuwait',\n",
       " 'Sweden, Denmark',\n",
       " 'United Kingdom / Zimbabwe',\n",
       " 'United Kingdom / Republic of South Africa',\n",
       " 'Hungary, West Germany, Austria',\n",
       " 'Canada, U.K.',\n",
       " 'U.S.',\n",
       " 'Israel,',\n",
       " 'Wales',\n",
       " '\"afi\" />',\n",
       " 'El Salvador',\n",
       " 'Republic of Ireland',\n",
       " 'Germany/Canada',\n",
       " 'SFR Yugoslavia',\n",
       " 'Dominican Republic',\n",
       " 'Germany, Israel',\n",
       " 'Germany, Switzerland',\n",
       " 'United Kingdom / France',\n",
       " 'United States/United Kingdom',\n",
       " 'Northern Ireland',\n",
       " 'Tamil Nadu',\n",
       " 'United States/Canada',\n",
       " 'Philippines',\n",
       " 'The Bahamas',\n",
       " 'Switzerland/Germany/South Africa',\n",
       " 'Great Britain',\n",
       " 'Germany, France, Ireland',\n",
       " 'Germany / United Kingdom',\n",
       " 'United Stades',\n",
       " 'United Kingdom / France / Italy',\n",
       " 'Ecuador',\n",
       " 'Canada / United Kingdom / France',\n",
       " '* United States\\n* Germany\\n* United Kingdom\\n* India',\n",
       " 'Mainland China and Taiwan',\n",
       " 'PhilippinesFrance',\n",
       " 'Finland / Sweden / UK',\n",
       " 'United States, India',\n",
       " 'Australia and New Zealand co-production',\n",
       " 'Taiwanese',\n",
       " 'America',\n",
       " 'British Hong Kong',\n",
       " 'Russian',\n",
       " 'Estonia',\n",
       " 'Latvia',\n",
       " 'Senegal',\n",
       " 'Yemen',\n",
       " 'North Macedonia',\n",
       " 'Uruguay',\n",
       " 'Slovenia',\n",
       " 'Mozambique',\n",
       " 'Korea',\n",
       " 'Australia, Italy',\n",
       " 'United States, Russia',\n",
       " 'Zambia',\n",
       " 'Sri Lanka',\n",
       " 'Switzerland / United States',\n",
       " 'Australian',\n",
       " 'Spanish',\n",
       " 'Belarus',\n",
       " 'Guatemala',\n",
       " 'Canada, France',\n",
       " 'Guinea',\n",
       " 'Unites States',\n",
       " 'Botswana',\n",
       " 'Hong Kong, China',\n",
       " 'French',\n",
       " 'Ethiopia',\n",
       " 'Nepal']"
      ]
     },
     "execution_count": 84,
     "metadata": {},
     "output_type": "execute_result"
    }
   ],
   "source": [
    "get_unique_categories(df)"
   ]
  },
  {
   "cell_type": "code",
   "execution_count": 125,
   "id": "c2f6456c",
   "metadata": {},
   "outputs": [],
   "source": [
    "def get_inputs_for_cat(category, df):\n",
    "    raw_inputs = df[df.category.apply(lambda x: category in x)].input\n",
    "    inputs = []\n",
    "    for i in range(len(raw_inputs)):\n",
    "        inputs.append(raw_inputs[i])\n",
    "    return np.array(inputs)"
   ]
  },
  {
   "cell_type": "code",
   "execution_count": 126,
   "id": "f418e0d8",
   "metadata": {},
   "outputs": [
    {
     "data": {
      "text/plain": [
       "array([[   0,    0,    0, ...,  108,   23,  192],\n",
       "       [   0,    0,    0, ..., 1372,  287,  121],\n",
       "       [   0,    0,    0, ...,    9,  141, 2048],\n",
       "       ...,\n",
       "       [   0,    0,    0, ...,   22,  608, 1051],\n",
       "       [   0,    0,    0, ...,   99,   24,   26],\n",
       "       [   0,    0,    0, ...,  101, 3619, 1568]])"
      ]
     },
     "execution_count": 126,
     "metadata": {},
     "output_type": "execute_result"
    }
   ],
   "source": [
    "get_inputs_for_cat('France', df)"
   ]
  },
  {
   "cell_type": "code",
   "execution_count": 127,
   "id": "df455350",
   "metadata": {},
   "outputs": [],
   "source": [
    "def get_activation_for_cat(category, df, model):\n",
    "    inputs_cat = get_inputs_for_cat(category, df)\n",
    "    return model.predict(inputs_cat)"
   ]
  },
  {
   "cell_type": "code",
   "execution_count": 128,
   "id": "b416ec7d",
   "metadata": {},
   "outputs": [
    {
     "name": "stdout",
     "output_type": "stream",
     "text": [
      "54/54 [==============================] - 0s 6ms/step\n"
     ]
    },
    {
     "data": {
      "text/plain": [
       "array([[ 0.01280173,  0.25583443, -0.28547817, ...,  0.2755396 ,\n",
       "         0.0440028 ,  0.06002521],\n",
       "       [-0.11419704, -0.23679122,  0.22475304, ..., -0.07831063,\n",
       "         0.04605255,  0.15769507],\n",
       "       [ 0.05497689,  0.30861184, -0.3530525 , ...,  0.3296228 ,\n",
       "         0.02465878,  0.04614725],\n",
       "       ...,\n",
       "       [ 0.02259841,  0.00179323, -0.05771693, ..., -0.01987744,\n",
       "        -0.00452764, -0.02572117],\n",
       "       [ 0.11912431,  0.18369213, -0.269196  , ...,  0.08647467,\n",
       "        -0.03600565, -0.14538151],\n",
       "       [ 0.14816613,  0.16932291, -0.25434977, ...,  0.02413159,\n",
       "        -0.06884944, -0.3071006 ]], dtype=float32)"
      ]
     },
     "execution_count": 128,
     "metadata": {},
     "output_type": "execute_result"
    }
   ],
   "source": [
    "get_activation_for_cat('France', df, model2)"
   ]
  },
  {
   "cell_type": "code",
   "execution_count": null,
   "id": "e90acd6c",
   "metadata": {},
   "outputs": [],
   "source": []
  }
 ],
 "metadata": {
  "kernelspec": {
   "display_name": "rnn-films",
   "language": "python",
   "name": "rnn-films"
  },
  "language_info": {
   "codemirror_mode": {
    "name": "ipython",
    "version": 3
   },
   "file_extension": ".py",
   "mimetype": "text/x-python",
   "name": "python",
   "nbconvert_exporter": "python",
   "pygments_lexer": "ipython3",
   "version": "3.9.7"
  }
 },
 "nbformat": 4,
 "nbformat_minor": 5
}
