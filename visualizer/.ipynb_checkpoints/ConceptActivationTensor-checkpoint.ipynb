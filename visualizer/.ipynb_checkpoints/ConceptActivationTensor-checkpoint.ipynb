{
 "cells": [
  {
   "cell_type": "markdown",
   "id": "6e6b8f6e",
   "metadata": {},
   "source": [
    "# Concept Activation Tensor (CAT)\n",
    "\n",
    "> reproducing a CAT from the original paper : https://proceedings.mlr.press/v80/kim18d/kim18d.pdf"
   ]
  },
  {
   "cell_type": "code",
   "execution_count": 90,
   "id": "eab215cf",
   "metadata": {},
   "outputs": [],
   "source": [
    "import os\n",
    "\n",
    "import pandas as pd\n",
    "import numpy as np\n",
    "\n",
    "%matplotlib inline\n",
    "import matplotlib.pyplot as plt\n",
    "import seaborn as sns\n",
    "import plotly.express as px\n",
    "\n",
    "from sklearn.model_selection import train_test_split\n",
    "from sklearn.metrics import confusion_matrix, ConfusionMatrixDisplay\n",
    "\n",
    "from tensorflow import keras\n",
    "from keras.models import Sequential\n",
    "from keras.layers import Dense, LSTM, Embedding, Dropout\n",
    "from keras.optimizers import Adam, RMSprop"
   ]
  },
  {
   "cell_type": "code",
   "execution_count": 91,
   "id": "451f2b07",
   "metadata": {},
   "outputs": [],
   "source": [
    "model = keras.models.load_model('./models/painter_model')"
   ]
  },
  {
   "cell_type": "code",
   "execution_count": 92,
   "id": "27c68696",
   "metadata": {},
   "outputs": [
    {
     "data": {
      "text/html": [
       "<div>\n",
       "<style scoped>\n",
       "    .dataframe tbody tr th:only-of-type {\n",
       "        vertical-align: middle;\n",
       "    }\n",
       "\n",
       "    .dataframe tbody tr th {\n",
       "        vertical-align: top;\n",
       "    }\n",
       "\n",
       "    .dataframe thead th {\n",
       "        text-align: right;\n",
       "    }\n",
       "</style>\n",
       "<table border=\"1\" class=\"dataframe\">\n",
       "  <thead>\n",
       "    <tr style=\"text-align: right;\">\n",
       "      <th></th>\n",
       "      <th>category</th>\n",
       "      <th>input</th>\n",
       "      <th>output</th>\n",
       "    </tr>\n",
       "  </thead>\n",
       "  <tbody>\n",
       "    <tr>\n",
       "      <th>http://dbpedia.org/resource/Alexander_Semionov</th>\n",
       "      <td>[http://dbpedia.org/resource/Russia]</td>\n",
       "      <td>[0, 0, 0, 0, 0, 0, 0, 0, 0, 0, 0, 0, 0, 0, 0, ...</td>\n",
       "      <td>1</td>\n",
       "    </tr>\n",
       "  </tbody>\n",
       "</table>\n",
       "</div>"
      ],
      "text/plain": [
       "                                                                            category  \\\n",
       "http://dbpedia.org/resource/Alexander_Semionov  [http://dbpedia.org/resource/Russia]   \n",
       "\n",
       "                                                                                            input  \\\n",
       "http://dbpedia.org/resource/Alexander_Semionov  [0, 0, 0, 0, 0, 0, 0, 0, 0, 0, 0, 0, 0, 0, 0, ...   \n",
       "\n",
       "                                                output  \n",
       "http://dbpedia.org/resource/Alexander_Semionov       1  "
      ]
     },
     "execution_count": 92,
     "metadata": {},
     "output_type": "execute_result"
    }
   ],
   "source": [
    "df = pd.read_json('./data/painters_ds.json')\n",
    "df.head(1)"
   ]
  },
  {
   "cell_type": "code",
   "execution_count": 93,
   "id": "5d0f6abf",
   "metadata": {},
   "outputs": [
    {
     "ename": "NameError",
     "evalue": "name 'filenameb' is not defined",
     "output_type": "error",
     "traceback": [
      "\u001b[1;31m---------------------------------------------------------------------------\u001b[0m",
      "\u001b[1;31mNameError\u001b[0m                                 Traceback (most recent call last)",
      "\u001b[1;32m~\\AppData\\Local\\Temp/ipykernel_2300/3725980685.py\u001b[0m in \u001b[0;36m<module>\u001b[1;34m\u001b[0m\n\u001b[0;32m      2\u001b[0m \u001b[1;32mfor\u001b[0m \u001b[0mfilename\u001b[0m \u001b[1;32min\u001b[0m \u001b[0mos\u001b[0m\u001b[1;33m.\u001b[0m\u001b[0mlistdir\u001b[0m\u001b[1;33m(\u001b[0m\u001b[0mos\u001b[0m\u001b[1;33m.\u001b[0m\u001b[0mpath\u001b[0m\u001b[1;33m.\u001b[0m\u001b[0mjoin\u001b[0m\u001b[1;33m(\u001b[0m\u001b[1;34m'activations'\u001b[0m\u001b[1;33m,\u001b[0m \u001b[1;34m'painters_ds'\u001b[0m\u001b[1;33m)\u001b[0m\u001b[1;33m)\u001b[0m\u001b[1;33m:\u001b[0m\u001b[1;33m\u001b[0m\u001b[1;33m\u001b[0m\u001b[0m\n\u001b[0;32m      3\u001b[0m     \u001b[1;32mif\u001b[0m \u001b[0mfilename\u001b[0m\u001b[1;33m.\u001b[0m\u001b[0msplit\u001b[0m\u001b[1;33m(\u001b[0m\u001b[1;34m'.'\u001b[0m\u001b[1;33m)\u001b[0m\u001b[1;33m[\u001b[0m\u001b[1;33m-\u001b[0m\u001b[1;36m1\u001b[0m\u001b[1;33m]\u001b[0m \u001b[1;33m==\u001b[0m \u001b[1;34m'pkl'\u001b[0m\u001b[1;33m:\u001b[0m\u001b[1;33m\u001b[0m\u001b[1;33m\u001b[0m\u001b[0m\n\u001b[1;32m----> 4\u001b[1;33m         \u001b[0mdfs\u001b[0m\u001b[1;33m.\u001b[0m\u001b[0mappend\u001b[0m\u001b[1;33m(\u001b[0m\u001b[0mpd\u001b[0m\u001b[1;33m.\u001b[0m\u001b[0mread_pickle\u001b[0m\u001b[1;33m(\u001b[0m\u001b[0mos\u001b[0m\u001b[1;33m.\u001b[0m\u001b[0mpath\u001b[0m\u001b[1;33m.\u001b[0m\u001b[0mjoin\u001b[0m\u001b[1;33m(\u001b[0m\u001b[1;34m'activations'\u001b[0m\u001b[1;33m,\u001b[0m \u001b[1;34m'painters_ds'\u001b[0m\u001b[1;33m,\u001b[0m \u001b[0mfilenameb\u001b[0m\u001b[1;33m)\u001b[0m\u001b[1;33m)\u001b[0m\u001b[1;33m)\u001b[0m\u001b[1;33m\u001b[0m\u001b[1;33m\u001b[0m\u001b[0m\n\u001b[0m",
      "\u001b[1;31mNameError\u001b[0m: name 'filenameb' is not defined"
     ]
    }
   ],
   "source": [
    "dfs = []\n",
    "for filename in os.listdir(os.path.join('activations', 'painters_ds')):\n",
    "    if filename.split('.')[-1] == 'pkl':\n",
    "        dfs.append(pd.read_pickle(os.path.join('activations', 'painters_ds', filenameb)))"
   ]
  },
  {
   "cell_type": "code",
   "execution_count": null,
   "id": "4600a4ba",
   "metadata": {},
   "outputs": [],
   "source": [
    "def get_activations(df, cat=None):\n",
    "    activations_cols = [col for col in df if \"neuron\" in col]\n",
    "    if cat is None:\n",
    "        return df.loc[:, df.columns.isin(activations_cols)]\n",
    "    else:\n",
    "        return df[df.category.apply(lambda x: cat in x)].loc[:, df.columns.isin(activations_cols)]"
   ]
  },
  {
   "cell_type": "code",
   "execution_count": null,
   "id": "c851abc2",
   "metadata": {},
   "outputs": [],
   "source": [
    "cat = \"http://dbpedia.org/resource/Russia\""
   ]
  },
  {
   "cell_type": "code",
   "execution_count": null,
   "id": "93f53111",
   "metadata": {},
   "outputs": [],
   "source": [
    "udf = dfs[0]"
   ]
  },
  {
   "cell_type": "code",
   "execution_count": null,
   "id": "b98ec75d",
   "metadata": {},
   "outputs": [],
   "source": [
    "# X\n",
    "X = get_activations(udf).to_numpy()\n",
    "X"
   ]
  },
  {
   "cell_type": "code",
   "execution_count": null,
   "id": "69a86302",
   "metadata": {},
   "outputs": [],
   "source": [
    "def get_output(df, cat=None):\n",
    "    if cat is None:\n",
    "        return df.true\n",
    "    else:\n",
    "        return df[df.category.apply(lambda x: cat in x)].true"
   ]
  },
  {
   "cell_type": "code",
   "execution_count": null,
   "id": "b7bf7186",
   "metadata": {},
   "outputs": [],
   "source": [
    "# y\n",
    "y = get_output(udf).to_numpy()\n",
    "y"
   ]
  },
  {
   "cell_type": "code",
   "execution_count": null,
   "id": "3f99fcf8",
   "metadata": {},
   "outputs": [],
   "source": [
    "len(X), len(y) # Check if has the same length"
   ]
  },
  {
   "cell_type": "code",
   "execution_count": null,
   "id": "75849d31",
   "metadata": {},
   "outputs": [],
   "source": [
    "X[0].shape"
   ]
  },
  {
   "cell_type": "code",
   "execution_count": null,
   "id": "b5c08261",
   "metadata": {},
   "outputs": [],
   "source": [
    "# train_test_split\n",
    "# already standardized but to check\n",
    "X_train, X_test, y_train, y_test = train_test_split(X, y, test_size=0.2, \n",
    "                                                    random_state=42)\n",
    "\n",
    "X_train.shape, X_test.shape, y_train.shape, y_test.shape"
   ]
  },
  {
   "cell_type": "markdown",
   "id": "8a94520b",
   "metadata": {},
   "source": [
    "## Re-creating model to predict classes from activations"
   ]
  },
  {
   "cell_type": "code",
   "execution_count": 94,
   "id": "1ad94152",
   "metadata": {},
   "outputs": [
    {
     "name": "stdout",
     "output_type": "stream",
     "text": [
      "Model: \"sequential_10\"\n",
      "_________________________________________________________________\n",
      " Layer (type)                Output Shape              Param #   \n",
      "=================================================================\n",
      " dense_15 (Dense)            (None, 64)                4160      \n",
      "                                                                 \n",
      " dense_16 (Dense)            (None, 1)                 65        \n",
      "                                                                 \n",
      "=================================================================\n",
      "Total params: 4,225\n",
      "Trainable params: 4,225\n",
      "Non-trainable params: 0\n",
      "_________________________________________________________________\n"
     ]
    }
   ],
   "source": [
    "# Must pass dynamic shapes\n",
    "pa_model = Sequential() # pa stands for Predict from Activations\n",
    "pa_model.add(keras.Input(shape=(64,)))\n",
    "pa_model.add(Dense(64, activation='relu'))\n",
    "pa_model.add(Dense(1, activation='softmax'))\n",
    "\n",
    "pa_model.summary()"
   ]
  },
  {
   "cell_type": "code",
   "execution_count": 95,
   "id": "11011662",
   "metadata": {},
   "outputs": [
    {
     "name": "stdout",
     "output_type": "stream",
     "text": [
      "Epoch 1/100\n",
      "83/83 [==============================] - 0s 767us/step - loss: 0.3899 - accuracy: 0.1646\n",
      "Epoch 2/100\n",
      "83/83 [==============================] - 0s 687us/step - loss: 0.3003 - accuracy: 0.1646\n",
      "Epoch 3/100\n",
      "83/83 [==============================] - 0s 768us/step - loss: 0.2790 - accuracy: 0.1646\n",
      "Epoch 4/100\n",
      "83/83 [==============================] - 0s 695us/step - loss: 0.2674 - accuracy: 0.1646\n",
      "Epoch 5/100\n",
      "83/83 [==============================] - 0s 738us/step - loss: 0.2624 - accuracy: 0.1646\n",
      "Epoch 6/100\n",
      "83/83 [==============================] - 0s 736us/step - loss: 0.2538 - accuracy: 0.1646\n",
      "Epoch 7/100\n",
      "83/83 [==============================] - 0s 731us/step - loss: 0.2503 - accuracy: 0.1646\n",
      "Epoch 8/100\n",
      "83/83 [==============================] - 0s 757us/step - loss: 0.2464 - accuracy: 0.1646\n",
      "Epoch 9/100\n",
      "83/83 [==============================] - 0s 716us/step - loss: 0.2451 - accuracy: 0.1646\n",
      "Epoch 10/100\n",
      "83/83 [==============================] - 0s 736us/step - loss: 0.2436 - accuracy: 0.1646\n",
      "Epoch 11/100\n",
      "83/83 [==============================] - 0s 749us/step - loss: 0.2459 - accuracy: 0.1646\n",
      "Epoch 12/100\n",
      "83/83 [==============================] - 0s 807us/step - loss: 0.2405 - accuracy: 0.1646\n",
      "Epoch 13/100\n",
      "83/83 [==============================] - 0s 904us/step - loss: 0.2415 - accuracy: 0.1646\n",
      "Epoch 14/100\n",
      "83/83 [==============================] - 0s 763us/step - loss: 0.2367 - accuracy: 0.1646\n",
      "Epoch 15/100\n",
      "83/83 [==============================] - 0s 720us/step - loss: 0.2358 - accuracy: 0.1646\n",
      "Epoch 16/100\n",
      "83/83 [==============================] - 0s 754us/step - loss: 0.2384 - accuracy: 0.1646\n",
      "Epoch 17/100\n",
      "83/83 [==============================] - 0s 720us/step - loss: 0.2345 - accuracy: 0.1646\n",
      "Epoch 18/100\n",
      "83/83 [==============================] - 0s 730us/step - loss: 0.2354 - accuracy: 0.1646\n",
      "Epoch 19/100\n",
      "83/83 [==============================] - 0s 746us/step - loss: 0.2337 - accuracy: 0.1646\n",
      "Epoch 20/100\n",
      "83/83 [==============================] - 0s 774us/step - loss: 0.2332 - accuracy: 0.1646\n",
      "Epoch 21/100\n",
      "83/83 [==============================] - 0s 736us/step - loss: 0.2325 - accuracy: 0.1646\n",
      "Epoch 22/100\n",
      "83/83 [==============================] - 0s 742us/step - loss: 0.2327 - accuracy: 0.1646\n",
      "Epoch 23/100\n",
      "83/83 [==============================] - 0s 752us/step - loss: 0.2301 - accuracy: 0.1646\n",
      "Epoch 24/100\n",
      "83/83 [==============================] - 0s 783us/step - loss: 0.2309 - accuracy: 0.1646\n",
      "Epoch 25/100\n",
      "83/83 [==============================] - 0s 757us/step - loss: 0.2306 - accuracy: 0.1646\n",
      "Epoch 26/100\n",
      "83/83 [==============================] - 0s 776us/step - loss: 0.2303 - accuracy: 0.1646\n",
      "Epoch 27/100\n",
      "83/83 [==============================] - 0s 709us/step - loss: 0.2299 - accuracy: 0.1646\n",
      "Epoch 28/100\n",
      "83/83 [==============================] - 0s 723us/step - loss: 0.2263 - accuracy: 0.1646\n",
      "Epoch 29/100\n",
      "83/83 [==============================] - 0s 766us/step - loss: 0.2273 - accuracy: 0.1646\n",
      "Epoch 30/100\n",
      "83/83 [==============================] - 0s 746us/step - loss: 0.2291 - accuracy: 0.1646\n",
      "Epoch 31/100\n",
      "83/83 [==============================] - 0s 757us/step - loss: 0.2299 - accuracy: 0.1646\n",
      "Epoch 32/100\n",
      "83/83 [==============================] - 0s 709us/step - loss: 0.2264 - accuracy: 0.1646\n",
      "Epoch 33/100\n",
      "83/83 [==============================] - 0s 770us/step - loss: 0.2259 - accuracy: 0.1646\n",
      "Epoch 34/100\n",
      "83/83 [==============================] - 0s 935us/step - loss: 0.2267 - accuracy: 0.1646\n",
      "Epoch 35/100\n",
      "83/83 [==============================] - 0s 776us/step - loss: 0.2240 - accuracy: 0.1646\n",
      "Epoch 36/100\n",
      "83/83 [==============================] - 0s 780us/step - loss: 0.2247 - accuracy: 0.1646\n",
      "Epoch 37/100\n",
      "83/83 [==============================] - 0s 757us/step - loss: 0.2229 - accuracy: 0.1646\n",
      "Epoch 38/100\n",
      "83/83 [==============================] - 0s 736us/step - loss: 0.2238 - accuracy: 0.1646\n",
      "Epoch 39/100\n",
      "83/83 [==============================] - 0s 793us/step - loss: 0.2215 - accuracy: 0.1646\n",
      "Epoch 40/100\n",
      "83/83 [==============================] - 0s 849us/step - loss: 0.2206 - accuracy: 0.1646\n",
      "Epoch 41/100\n",
      "83/83 [==============================] - 0s 741us/step - loss: 0.2209 - accuracy: 0.1646\n",
      "Epoch 42/100\n",
      "83/83 [==============================] - 0s 756us/step - loss: 0.2195 - accuracy: 0.1646\n",
      "Epoch 43/100\n",
      "83/83 [==============================] - 0s 691us/step - loss: 0.2226 - accuracy: 0.1646\n",
      "Epoch 44/100\n",
      "83/83 [==============================] - 0s 755us/step - loss: 0.2204 - accuracy: 0.1646\n",
      "Epoch 45/100\n",
      "83/83 [==============================] - 0s 718us/step - loss: 0.2213 - accuracy: 0.1646\n",
      "Epoch 46/100\n",
      "83/83 [==============================] - 0s 911us/step - loss: 0.2188 - accuracy: 0.1646\n",
      "Epoch 47/100\n",
      "83/83 [==============================] - 0s 763us/step - loss: 0.2193 - accuracy: 0.1646\n",
      "Epoch 48/100\n",
      "83/83 [==============================] - 0s 765us/step - loss: 0.2169 - accuracy: 0.1646\n",
      "Epoch 49/100\n",
      "83/83 [==============================] - 0s 722us/step - loss: 0.2214 - accuracy: 0.1646\n",
      "Epoch 50/100\n",
      "83/83 [==============================] - 0s 752us/step - loss: 0.2157 - accuracy: 0.1646\n",
      "Epoch 51/100\n",
      "83/83 [==============================] - 0s 689us/step - loss: 0.2172 - accuracy: 0.1646\n",
      "Epoch 52/100\n",
      "83/83 [==============================] - 0s 738us/step - loss: 0.2157 - accuracy: 0.1646\n",
      "Epoch 53/100\n",
      "83/83 [==============================] - 0s 716us/step - loss: 0.2223 - accuracy: 0.1646\n",
      "Epoch 54/100\n",
      "83/83 [==============================] - 0s 754us/step - loss: 0.2151 - accuracy: 0.1646\n",
      "Epoch 55/100\n",
      "83/83 [==============================] - 0s 712us/step - loss: 0.2137 - accuracy: 0.1646\n",
      "Epoch 56/100\n",
      "83/83 [==============================] - 0s 694us/step - loss: 0.2133 - accuracy: 0.1646\n",
      "Epoch 57/100\n",
      "83/83 [==============================] - 0s 730us/step - loss: 0.2130 - accuracy: 0.1646\n",
      "Epoch 58/100\n",
      "83/83 [==============================] - 0s 698us/step - loss: 0.2142 - accuracy: 0.1646\n",
      "Epoch 59/100\n",
      "83/83 [==============================] - 0s 715us/step - loss: 0.2156 - accuracy: 0.1646\n",
      "Epoch 60/100\n",
      "83/83 [==============================] - 0s 720us/step - loss: 0.2152 - accuracy: 0.1646\n",
      "Epoch 61/100\n",
      "83/83 [==============================] - 0s 709us/step - loss: 0.2122 - accuracy: 0.1646\n",
      "Epoch 62/100\n",
      "83/83 [==============================] - 0s 734us/step - loss: 0.2096 - accuracy: 0.1646\n",
      "Epoch 63/100\n",
      "83/83 [==============================] - 0s 677us/step - loss: 0.2087 - accuracy: 0.1646\n",
      "Epoch 64/100\n",
      "83/83 [==============================] - 0s 777us/step - loss: 0.2103 - accuracy: 0.1646\n",
      "Epoch 65/100\n",
      "83/83 [==============================] - 0s 703us/step - loss: 0.2085 - accuracy: 0.1646\n",
      "Epoch 66/100\n",
      "83/83 [==============================] - 0s 697us/step - loss: 0.2091 - accuracy: 0.1646\n",
      "Epoch 67/100\n",
      "83/83 [==============================] - 0s 735us/step - loss: 0.2105 - accuracy: 0.1646\n",
      "Epoch 68/100\n",
      "83/83 [==============================] - 0s 757us/step - loss: 0.2089 - accuracy: 0.1646\n",
      "Epoch 69/100\n",
      "83/83 [==============================] - 0s 705us/step - loss: 0.2082 - accuracy: 0.1646\n",
      "Epoch 70/100\n",
      "83/83 [==============================] - 0s 766us/step - loss: 0.2109 - accuracy: 0.1646\n",
      "Epoch 71/100\n",
      "83/83 [==============================] - 0s 694us/step - loss: 0.2062 - accuracy: 0.1646\n",
      "Epoch 72/100\n",
      "83/83 [==============================] - 0s 734us/step - loss: 0.2056 - accuracy: 0.1646\n",
      "Epoch 73/100\n",
      "83/83 [==============================] - 0s 760us/step - loss: 0.2068 - accuracy: 0.1646\n",
      "Epoch 74/100\n",
      "83/83 [==============================] - 0s 696us/step - loss: 0.2040 - accuracy: 0.1646\n",
      "Epoch 75/100\n",
      "83/83 [==============================] - 0s 728us/step - loss: 0.2034 - accuracy: 0.1646\n",
      "Epoch 76/100\n",
      "83/83 [==============================] - 0s 739us/step - loss: 0.2031 - accuracy: 0.1646\n",
      "Epoch 77/100\n",
      "83/83 [==============================] - 0s 735us/step - loss: 0.2034 - accuracy: 0.1646\n",
      "Epoch 78/100\n",
      "83/83 [==============================] - 0s 738us/step - loss: 0.2033 - accuracy: 0.1646\n",
      "Epoch 79/100\n",
      "83/83 [==============================] - 0s 719us/step - loss: 0.2052 - accuracy: 0.1646\n",
      "Epoch 80/100\n",
      "83/83 [==============================] - 0s 726us/step - loss: 0.2066 - accuracy: 0.1646\n",
      "Epoch 81/100\n"
     ]
    },
    {
     "name": "stdout",
     "output_type": "stream",
     "text": [
      "83/83 [==============================] - 0s 901us/step - loss: 0.2007 - accuracy: 0.1646\n",
      "Epoch 82/100\n",
      "83/83 [==============================] - 0s 708us/step - loss: 0.2024 - accuracy: 0.1646\n",
      "Epoch 83/100\n",
      "83/83 [==============================] - 0s 719us/step - loss: 0.2018 - accuracy: 0.1646\n",
      "Epoch 84/100\n",
      "83/83 [==============================] - 0s 727us/step - loss: 0.2033 - accuracy: 0.1646\n",
      "Epoch 85/100\n",
      "83/83 [==============================] - 0s 740us/step - loss: 0.2032 - accuracy: 0.1646\n",
      "Epoch 86/100\n",
      "83/83 [==============================] - 0s 723us/step - loss: 0.2032 - accuracy: 0.1646\n",
      "Epoch 87/100\n",
      "83/83 [==============================] - 0s 758us/step - loss: 0.2031 - accuracy: 0.1646\n",
      "Epoch 88/100\n",
      "83/83 [==============================] - 0s 709us/step - loss: 0.1973 - accuracy: 0.1646\n",
      "Epoch 89/100\n",
      "83/83 [==============================] - 0s 725us/step - loss: 0.1969 - accuracy: 0.1646\n",
      "Epoch 90/100\n",
      "83/83 [==============================] - 0s 761us/step - loss: 0.1998 - accuracy: 0.1646\n",
      "Epoch 91/100\n",
      "83/83 [==============================] - 0s 686us/step - loss: 0.1999 - accuracy: 0.1646\n",
      "Epoch 92/100\n",
      "83/83 [==============================] - 0s 730us/step - loss: 0.1969 - accuracy: 0.1646\n",
      "Epoch 93/100\n",
      "83/83 [==============================] - 0s 726us/step - loss: 0.1983 - accuracy: 0.1646\n",
      "Epoch 94/100\n",
      "83/83 [==============================] - 0s 717us/step - loss: 0.1959 - accuracy: 0.1646\n",
      "Epoch 95/100\n",
      "83/83 [==============================] - 0s 699us/step - loss: 0.1948 - accuracy: 0.1646\n",
      "Epoch 96/100\n",
      "83/83 [==============================] - 0s 712us/step - loss: 0.1938 - accuracy: 0.1646\n",
      "Epoch 97/100\n",
      "83/83 [==============================] - 0s 725us/step - loss: 0.1917 - accuracy: 0.1646\n",
      "Epoch 98/100\n",
      "83/83 [==============================] - 0s 695us/step - loss: 0.1927 - accuracy: 0.1646\n",
      "Epoch 99/100\n",
      "83/83 [==============================] - 0s 709us/step - loss: 0.1974 - accuracy: 0.1646\n",
      "Epoch 100/100\n",
      "83/83 [==============================] - 0s 759us/step - loss: 0.1945 - accuracy: 0.1646\n"
     ]
    }
   ],
   "source": [
    "pa_model.compile(optimizer=Adam(), loss='binary_crossentropy', \n",
    "                 metrics=['accuracy'])\n",
    "EPOCHS = 100\n",
    "BATCH_SIZE = 64\n",
    "history = pa_model.fit(X_train, y_train, batch_size=BATCH_SIZE, epochs=EPOCHS)"
   ]
  },
  {
   "cell_type": "code",
   "execution_count": null,
   "id": "d2f03d18",
   "metadata": {},
   "outputs": [],
   "source": []
  }
 ],
 "metadata": {
  "kernelspec": {
   "display_name": "rnn-films",
   "language": "python",
   "name": "rnn-films"
  },
  "language_info": {
   "codemirror_mode": {
    "name": "ipython",
    "version": 3
   },
   "file_extension": ".py",
   "mimetype": "text/x-python",
   "name": "python",
   "nbconvert_exporter": "python",
   "pygments_lexer": "ipython3",
   "version": "3.9.7"
  }
 },
 "nbformat": 4,
 "nbformat_minor": 5
}
