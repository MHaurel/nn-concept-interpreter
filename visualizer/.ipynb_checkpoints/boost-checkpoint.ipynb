{
 "cells": [
  {
   "cell_type": "markdown",
   "id": "ead0b9c4",
   "metadata": {},
   "source": [
    "# Trying to boost a category (concept)"
   ]
  },
  {
   "cell_type": "code",
   "execution_count": 1,
   "id": "6cccede7",
   "metadata": {},
   "outputs": [],
   "source": [
    "import os\n",
    "import pandas as pd\n",
    "import numpy as np\n",
    "\n",
    "%matplotlib inline\n",
    "import matplotlib.pyplot as plt\n",
    "import seaborn as sns\n",
    "\n",
    "import tensorflow as tf\n",
    "from tensorflow import keras\n",
    "from tensorflow.keras.models import Sequential\n",
    "from tensorflow.keras.layers import Dense"
   ]
  },
  {
   "cell_type": "code",
   "execution_count": 2,
   "id": "47adb163",
   "metadata": {},
   "outputs": [
    {
     "name": "stdout",
     "output_type": "stream",
     "text": [
      "Model: \"sequential\"\n",
      "_________________________________________________________________\n",
      " Layer (type)                Output Shape              Param #   \n",
      "=================================================================\n",
      " embedding (Embedding)       (None, 150, 64)           640000    \n",
      "                                                                 \n",
      " lstm (LSTM)                 (None, 16)                5184      \n",
      "                                                                 \n",
      " dense (Dense)               (None, 8)                 136       \n",
      "                                                                 \n",
      " dropout (Dropout)           (None, 8)                 0         \n",
      "                                                                 \n",
      " dense_1 (Dense)             (None, 4)                 36        \n",
      "                                                                 \n",
      " dense_2 (Dense)             (None, 1)                 5         \n",
      "                                                                 \n",
      "=================================================================\n",
      "Total params: 645,361\n",
      "Trainable params: 645,361\n",
      "Non-trainable params: 0\n",
      "_________________________________________________________________\n"
     ]
    }
   ],
   "source": [
    "model = keras.models.load_model(os.path.join('models', 'painter_model'))\n",
    "model.summary()"
   ]
  },
  {
   "cell_type": "code",
   "execution_count": 3,
   "id": "bdd9de79",
   "metadata": {},
   "outputs": [],
   "source": [
    "dirname = \"painters_ds\""
   ]
  },
  {
   "cell_type": "code",
   "execution_count": 44,
   "id": "b28779e7",
   "metadata": {},
   "outputs": [
    {
     "data": {
      "text/html": [
       "<div>\n",
       "<style scoped>\n",
       "    .dataframe tbody tr th:only-of-type {\n",
       "        vertical-align: middle;\n",
       "    }\n",
       "\n",
       "    .dataframe tbody tr th {\n",
       "        vertical-align: top;\n",
       "    }\n",
       "\n",
       "    .dataframe thead th {\n",
       "        text-align: right;\n",
       "    }\n",
       "</style>\n",
       "<table border=\"1\" class=\"dataframe\">\n",
       "  <thead>\n",
       "    <tr style=\"text-align: right;\">\n",
       "      <th></th>\n",
       "      <th>category</th>\n",
       "      <th>input</th>\n",
       "      <th>output</th>\n",
       "    </tr>\n",
       "  </thead>\n",
       "  <tbody>\n",
       "    <tr>\n",
       "      <th>http://dbpedia.org/resource/Alexander_Semionov</th>\n",
       "      <td>[http://dbpedia.org/resource/Russia]</td>\n",
       "      <td>[0, 0, 0, 0, 0, 0, 0, 0, 0, 0, 0, 0, 0, 0, 0, ...</td>\n",
       "      <td>1</td>\n",
       "    </tr>\n",
       "    <tr>\n",
       "      <th>http://dbpedia.org/resource/Howardena_Pindell</th>\n",
       "      <td>[http://dbpedia.org/resource/United_States]</td>\n",
       "      <td>[0, 0, 0, 0, 0, 0, 0, 0, 0, 0, 0, 0, 0, 0, 0, ...</td>\n",
       "      <td>1</td>\n",
       "    </tr>\n",
       "    <tr>\n",
       "      <th>http://dbpedia.org/resource/Étienne_Moreau-Nélaton</th>\n",
       "      <td>[http://dbpedia.org/resource/France]</td>\n",
       "      <td>[0, 0, 0, 0, 0, 0, 0, 0, 0, 0, 0, 0, 0, 0, 0, ...</td>\n",
       "      <td>1</td>\n",
       "    </tr>\n",
       "  </tbody>\n",
       "</table>\n",
       "</div>"
      ],
      "text/plain": [
       "                                                                                       category  \\\n",
       "http://dbpedia.org/resource/Alexander_Semionov             [http://dbpedia.org/resource/Russia]   \n",
       "http://dbpedia.org/resource/Howardena_Pindell       [http://dbpedia.org/resource/United_States]   \n",
       "http://dbpedia.org/resource/Étienne_Moreau-Nélaton         [http://dbpedia.org/resource/France]   \n",
       "\n",
       "                                                                                                input  \\\n",
       "http://dbpedia.org/resource/Alexander_Semionov      [0, 0, 0, 0, 0, 0, 0, 0, 0, 0, 0, 0, 0, 0, 0, ...   \n",
       "http://dbpedia.org/resource/Howardena_Pindell       [0, 0, 0, 0, 0, 0, 0, 0, 0, 0, 0, 0, 0, 0, 0, ...   \n",
       "http://dbpedia.org/resource/Étienne_Moreau-Nélaton  [0, 0, 0, 0, 0, 0, 0, 0, 0, 0, 0, 0, 0, 0, 0, ...   \n",
       "\n",
       "                                                    output  \n",
       "http://dbpedia.org/resource/Alexander_Semionov           1  \n",
       "http://dbpedia.org/resource/Howardena_Pindell            1  \n",
       "http://dbpedia.org/resource/Étienne_Moreau-Nélaton       1  "
      ]
     },
     "execution_count": 44,
     "metadata": {},
     "output_type": "execute_result"
    }
   ],
   "source": [
    "wdf = pd.read_json('./data/' + dirname + \".json\")\n",
    "wdf.head(3)"
   ]
  },
  {
   "cell_type": "code",
   "execution_count": 45,
   "id": "01f5586c",
   "metadata": {},
   "outputs": [],
   "source": [
    "dfs = []\n",
    "for filename in os.listdir(os.path.join('activations', dirname)):\n",
    "    if filename.split('.')[-1] == 'pkl' and 'table_data' not in filename:\n",
    "        dfs.append(pd.read_pickle(os.path.join('activations', dirname, filename)))"
   ]
  },
  {
   "cell_type": "code",
   "execution_count": 46,
   "id": "63c9a0ad",
   "metadata": {},
   "outputs": [
    {
     "name": "stdout",
     "output_type": "stream",
     "text": [
      "Using layer embedding\n"
     ]
    }
   ],
   "source": [
    "layer_to_explore = 0\n",
    "df = dfs[layer_to_explore]\n",
    "print(f\"Using layer {model.layers[layer_to_explore].name}\")"
   ]
  },
  {
   "cell_type": "code",
   "execution_count": 47,
   "id": "8d2d275d",
   "metadata": {},
   "outputs": [
    {
     "data": {
      "text/html": [
       "<div>\n",
       "<style scoped>\n",
       "    .dataframe tbody tr th:only-of-type {\n",
       "        vertical-align: middle;\n",
       "    }\n",
       "\n",
       "    .dataframe tbody tr th {\n",
       "        vertical-align: top;\n",
       "    }\n",
       "\n",
       "    .dataframe thead th {\n",
       "        text-align: right;\n",
       "    }\n",
       "</style>\n",
       "<table border=\"1\" class=\"dataframe\">\n",
       "  <thead>\n",
       "    <tr style=\"text-align: right;\">\n",
       "      <th></th>\n",
       "      <th>category</th>\n",
       "      <th>input</th>\n",
       "      <th>true</th>\n",
       "      <th>pred</th>\n",
       "      <th>neuron_1</th>\n",
       "      <th>neuron_2</th>\n",
       "      <th>neuron_3</th>\n",
       "      <th>neuron_4</th>\n",
       "      <th>neuron_5</th>\n",
       "      <th>neuron_6</th>\n",
       "      <th>...</th>\n",
       "      <th>neuron_55</th>\n",
       "      <th>neuron_56</th>\n",
       "      <th>neuron_57</th>\n",
       "      <th>neuron_58</th>\n",
       "      <th>neuron_59</th>\n",
       "      <th>neuron_60</th>\n",
       "      <th>neuron_61</th>\n",
       "      <th>neuron_62</th>\n",
       "      <th>neuron_63</th>\n",
       "      <th>neuron_64</th>\n",
       "    </tr>\n",
       "  </thead>\n",
       "  <tbody>\n",
       "    <tr>\n",
       "      <th>http://dbpedia.org/resource/Alexander_Semionov</th>\n",
       "      <td>[http://dbpedia.org/resource/Russia]</td>\n",
       "      <td>[0, 0, 0, 0, 0, 0, 0, 0, 0, 0, 0, 0, 0, 0, 0, ...</td>\n",
       "      <td>1</td>\n",
       "      <td>1</td>\n",
       "      <td>0.547359</td>\n",
       "      <td>-0.328434</td>\n",
       "      <td>-0.172445</td>\n",
       "      <td>0.069439</td>\n",
       "      <td>-0.628683</td>\n",
       "      <td>1.294147</td>\n",
       "      <td>...</td>\n",
       "      <td>0.466627</td>\n",
       "      <td>0.293625</td>\n",
       "      <td>-0.208663</td>\n",
       "      <td>-0.316626</td>\n",
       "      <td>-0.006433</td>\n",
       "      <td>-0.412829</td>\n",
       "      <td>0.242208</td>\n",
       "      <td>0.072852</td>\n",
       "      <td>0.725296</td>\n",
       "      <td>-0.755482</td>\n",
       "    </tr>\n",
       "  </tbody>\n",
       "</table>\n",
       "<p>1 rows × 68 columns</p>\n",
       "</div>"
      ],
      "text/plain": [
       "                                                                            category  \\\n",
       "http://dbpedia.org/resource/Alexander_Semionov  [http://dbpedia.org/resource/Russia]   \n",
       "\n",
       "                                                                                            input  \\\n",
       "http://dbpedia.org/resource/Alexander_Semionov  [0, 0, 0, 0, 0, 0, 0, 0, 0, 0, 0, 0, 0, 0, 0, ...   \n",
       "\n",
       "                                                true  pred  neuron_1  \\\n",
       "http://dbpedia.org/resource/Alexander_Semionov     1     1  0.547359   \n",
       "\n",
       "                                                neuron_2  neuron_3  neuron_4  \\\n",
       "http://dbpedia.org/resource/Alexander_Semionov -0.328434 -0.172445  0.069439   \n",
       "\n",
       "                                                neuron_5  neuron_6  ...  \\\n",
       "http://dbpedia.org/resource/Alexander_Semionov -0.628683  1.294147  ...   \n",
       "\n",
       "                                                neuron_55  neuron_56  \\\n",
       "http://dbpedia.org/resource/Alexander_Semionov   0.466627   0.293625   \n",
       "\n",
       "                                                neuron_57  neuron_58  \\\n",
       "http://dbpedia.org/resource/Alexander_Semionov  -0.208663  -0.316626   \n",
       "\n",
       "                                                neuron_59  neuron_60  \\\n",
       "http://dbpedia.org/resource/Alexander_Semionov  -0.006433  -0.412829   \n",
       "\n",
       "                                                neuron_61  neuron_62  \\\n",
       "http://dbpedia.org/resource/Alexander_Semionov   0.242208   0.072852   \n",
       "\n",
       "                                                neuron_63  neuron_64  \n",
       "http://dbpedia.org/resource/Alexander_Semionov   0.725296  -0.755482  \n",
       "\n",
       "[1 rows x 68 columns]"
      ]
     },
     "execution_count": 47,
     "metadata": {},
     "output_type": "execute_result"
    }
   ],
   "source": [
    "df.head(1)"
   ]
  },
  {
   "cell_type": "code",
   "execution_count": 48,
   "id": "34a68978",
   "metadata": {},
   "outputs": [
    {
     "data": {
      "text/plain": [
       "neuron_1     0.547359\n",
       "neuron_2    -0.328434\n",
       "neuron_3    -0.172445\n",
       "neuron_4     0.069439\n",
       "neuron_5    -0.628683\n",
       "               ...   \n",
       "neuron_60   -0.412829\n",
       "neuron_61    0.242208\n",
       "neuron_62    0.072852\n",
       "neuron_63    0.725296\n",
       "neuron_64   -0.755482\n",
       "Name: http://dbpedia.org/resource/Alexander_Semionov, Length: 64, dtype: object"
      ]
     },
     "execution_count": 48,
     "metadata": {},
     "output_type": "execute_result"
    }
   ],
   "source": [
    "df.iloc[0, 4:]"
   ]
  },
  {
   "cell_type": "code",
   "execution_count": 49,
   "id": "8afd8b8b",
   "metadata": {},
   "outputs": [],
   "source": [
    "def plot_activ(df, df2=None, df3=None):\n",
    "    \n",
    "#     plt.figure(figsize=(15, 6))\n",
    "#     sns.lineplot(x=range(len(df.iloc[0, :])), y=df.iloc[0, :])\n",
    "#     if df2 is not None:\n",
    "#         sns.lineplot(x=range(len(df2.iloc[0, :])), y=df2.iloc[0, :])\n",
    "#     plt.show()\n",
    "    \n",
    "#     plt.figure(figsize=(15, 6))\n",
    "#     sns.scatterplot(x=range(len(df.iloc[0, :])), y=df.iloc[0, :])\n",
    "#     if df2 is not None:\n",
    "#         sns.scatterplot(x=range(len(df2.iloc[0, :])), y=df2.iloc[0, :])\n",
    "#     plt.show()\n",
    "\n",
    "    fig, axes = plt.subplots(1, 2, figsize=(15, 6))\n",
    "    fig.suptitle('Visualizing sample vs cat')\n",
    "    \n",
    "    sns.lineplot(ax=axes[0], x=range(len(df.iloc[0, :])), y=df.iloc[0, :])\n",
    "    if df2 is not None:\n",
    "        sns.lineplot(ax=axes[0], x=range(len(df2.iloc[0, :])), y=df2.iloc[0, :])\n",
    "    if df3 is not None:\n",
    "        sns.lineplot(ax=axes[0], x=range(len(df3.iloc[0, :])), y=df3.iloc[0, :])\n",
    "    axes[0].set_title('Line plot')\n",
    "    \n",
    "    \n",
    "    sns.scatterplot(ax=axes[1], x=range(len(df.iloc[0, :])), y=df.iloc[0, :])\n",
    "    if df2 is not None:\n",
    "        sns.scatterplot(ax=axes[1], x=range(len(df2.iloc[0, :])), y=df2.iloc[0, :])\n",
    "    if df3 is not None:\n",
    "        sns.scatterplot(ax=axes[1], x=range(len(df3.iloc[0, :])), y=df3.iloc[0, :])\n",
    "    axes[1].set_title('Scatter plot')\n",
    "    \n",
    "    fig.legend(['df1', 'df2', 'df3'])\n",
    "    \n",
    "    \n",
    "def get_cat_df(df, cat):\n",
    "    return df[df.category.apply(lambda x: cat in x)]\n",
    "\n",
    "def get_mean_activations(df):\n",
    "    df_act = df.iloc[:, 4:]\n",
    "    return df_act.mean()"
   ]
  },
  {
   "cell_type": "code",
   "execution_count": 50,
   "id": "0a66a334",
   "metadata": {},
   "outputs": [],
   "source": [
    "cat = 'http://dbpedia.org/resource/Russia'"
   ]
  },
  {
   "cell_type": "code",
   "execution_count": 51,
   "id": "37137a0a",
   "metadata": {},
   "outputs": [
    {
     "data": {
      "text/html": [
       "<div>\n",
       "<style scoped>\n",
       "    .dataframe tbody tr th:only-of-type {\n",
       "        vertical-align: middle;\n",
       "    }\n",
       "\n",
       "    .dataframe tbody tr th {\n",
       "        vertical-align: top;\n",
       "    }\n",
       "\n",
       "    .dataframe thead th {\n",
       "        text-align: right;\n",
       "    }\n",
       "</style>\n",
       "<table border=\"1\" class=\"dataframe\">\n",
       "  <thead>\n",
       "    <tr style=\"text-align: right;\">\n",
       "      <th></th>\n",
       "      <th>neuron_1</th>\n",
       "      <th>neuron_2</th>\n",
       "      <th>neuron_3</th>\n",
       "      <th>neuron_4</th>\n",
       "      <th>neuron_5</th>\n",
       "      <th>neuron_6</th>\n",
       "      <th>neuron_7</th>\n",
       "      <th>neuron_8</th>\n",
       "      <th>neuron_9</th>\n",
       "      <th>neuron_10</th>\n",
       "      <th>...</th>\n",
       "      <th>neuron_55</th>\n",
       "      <th>neuron_56</th>\n",
       "      <th>neuron_57</th>\n",
       "      <th>neuron_58</th>\n",
       "      <th>neuron_59</th>\n",
       "      <th>neuron_60</th>\n",
       "      <th>neuron_61</th>\n",
       "      <th>neuron_62</th>\n",
       "      <th>neuron_63</th>\n",
       "      <th>neuron_64</th>\n",
       "    </tr>\n",
       "  </thead>\n",
       "  <tbody>\n",
       "    <tr>\n",
       "      <th>0</th>\n",
       "      <td>0.165338</td>\n",
       "      <td>-0.519022</td>\n",
       "      <td>-0.310005</td>\n",
       "      <td>0.391009</td>\n",
       "      <td>-0.775784</td>\n",
       "      <td>0.537406</td>\n",
       "      <td>-0.08439</td>\n",
       "      <td>-0.20704</td>\n",
       "      <td>0.027329</td>\n",
       "      <td>-0.238381</td>\n",
       "      <td>...</td>\n",
       "      <td>-0.040775</td>\n",
       "      <td>-0.125858</td>\n",
       "      <td>0.220746</td>\n",
       "      <td>0.132845</td>\n",
       "      <td>-0.308484</td>\n",
       "      <td>0.102303</td>\n",
       "      <td>-0.253206</td>\n",
       "      <td>0.417666</td>\n",
       "      <td>0.167214</td>\n",
       "      <td>-0.270119</td>\n",
       "    </tr>\n",
       "  </tbody>\n",
       "</table>\n",
       "<p>1 rows × 64 columns</p>\n",
       "</div>"
      ],
      "text/plain": [
       "   neuron_1  neuron_2  neuron_3  neuron_4  neuron_5  neuron_6  neuron_7  \\\n",
       "0  0.165338 -0.519022 -0.310005  0.391009 -0.775784  0.537406  -0.08439   \n",
       "\n",
       "   neuron_8  neuron_9  neuron_10  ...  neuron_55  neuron_56  neuron_57  \\\n",
       "0  -0.20704  0.027329  -0.238381  ...  -0.040775  -0.125858   0.220746   \n",
       "\n",
       "   neuron_58  neuron_59  neuron_60  neuron_61  neuron_62  neuron_63  neuron_64  \n",
       "0   0.132845  -0.308484   0.102303  -0.253206   0.417666   0.167214  -0.270119  \n",
       "\n",
       "[1 rows x 64 columns]"
      ]
     },
     "execution_count": 51,
     "metadata": {},
     "output_type": "execute_result"
    }
   ],
   "source": [
    "df_cat = get_cat_df(df, cat)\n",
    "df_mean_cat = get_mean_activations(df_cat)\n",
    "df_mean_cat = pd.DataFrame(df_mean_cat).T\n",
    "df_mean_cat"
   ]
  },
  {
   "cell_type": "code",
   "execution_count": 52,
   "id": "3da4b8f3",
   "metadata": {},
   "outputs": [
    {
     "data": {
      "image/png": "[encoded data removed]",
      "text/plain": [
       "<Figure size 1080x432 with 2 Axes>"
      ]
     },
     "metadata": {
      "needs_background": "light"
     },
     "output_type": "display_data"
    }
   ],
   "source": [
    "plot_activ(df_mean_cat)"
   ]
  },
  {
   "cell_type": "code",
   "execution_count": 53,
   "id": "914dbb3b",
   "metadata": {},
   "outputs": [],
   "source": [
    "def get_sample(df, cat=None):\n",
    "    if cat is None:\n",
    "        return df[df.pred != df.true].sample(n=1)\n",
    "    else:\n",
    "        return get_cat_df(df, cat)[df.pred != df.true].sample(n=1)"
   ]
  },
  {
   "cell_type": "code",
   "execution_count": 54,
   "id": "761d7198",
   "metadata": {},
   "outputs": [
    {
     "data": {
      "text/plain": [
       "'http://dbpedia.org/resource/Russia'"
      ]
     },
     "execution_count": 54,
     "metadata": {},
     "output_type": "execute_result"
    }
   ],
   "source": [
    "cat"
   ]
  },
  {
   "cell_type": "code",
   "execution_count": 55,
   "id": "03fae16b",
   "metadata": {},
   "outputs": [
    {
     "name": "stderr",
     "output_type": "stream",
     "text": [
      "C:\\Users\\maxim\\AppData\\Local\\Temp/ipykernel_12388/370248897.py:5: UserWarning: Boolean Series key will be reindexed to match DataFrame index.\n",
      "  return get_cat_df(df, cat)[df.pred != df.true].sample(n=1)\n"
     ]
    },
    {
     "data": {
      "text/html": [
       "<div>\n",
       "<style scoped>\n",
       "    .dataframe tbody tr th:only-of-type {\n",
       "        vertical-align: middle;\n",
       "    }\n",
       "\n",
       "    .dataframe tbody tr th {\n",
       "        vertical-align: top;\n",
       "    }\n",
       "\n",
       "    .dataframe thead th {\n",
       "        text-align: right;\n",
       "    }\n",
       "</style>\n",
       "<table border=\"1\" class=\"dataframe\">\n",
       "  <thead>\n",
       "    <tr style=\"text-align: right;\">\n",
       "      <th></th>\n",
       "      <th>category</th>\n",
       "      <th>input</th>\n",
       "      <th>true</th>\n",
       "      <th>pred</th>\n",
       "      <th>neuron_1</th>\n",
       "      <th>neuron_2</th>\n",
       "      <th>neuron_3</th>\n",
       "      <th>neuron_4</th>\n",
       "      <th>neuron_5</th>\n",
       "      <th>neuron_6</th>\n",
       "      <th>...</th>\n",
       "      <th>neuron_55</th>\n",
       "      <th>neuron_56</th>\n",
       "      <th>neuron_57</th>\n",
       "      <th>neuron_58</th>\n",
       "      <th>neuron_59</th>\n",
       "      <th>neuron_60</th>\n",
       "      <th>neuron_61</th>\n",
       "      <th>neuron_62</th>\n",
       "      <th>neuron_63</th>\n",
       "      <th>neuron_64</th>\n",
       "    </tr>\n",
       "  </thead>\n",
       "  <tbody>\n",
       "    <tr>\n",
       "      <th>http://dbpedia.org/resource/Ivan_Akimov</th>\n",
       "      <td>[http://dbpedia.org/resource/Russia]</td>\n",
       "      <td>[0, 0, 0, 0, 0, 0, 0, 0, 0, 0, 0, 0, 0, 0, 0, ...</td>\n",
       "      <td>0</td>\n",
       "      <td>1</td>\n",
       "      <td>0.882411</td>\n",
       "      <td>0.111641</td>\n",
       "      <td>0.417913</td>\n",
       "      <td>-0.163115</td>\n",
       "      <td>0.35656</td>\n",
       "      <td>0.50402</td>\n",
       "      <td>...</td>\n",
       "      <td>0.629632</td>\n",
       "      <td>0.557856</td>\n",
       "      <td>-0.550852</td>\n",
       "      <td>-0.617036</td>\n",
       "      <td>0.515044</td>\n",
       "      <td>-0.61316</td>\n",
       "      <td>0.321389</td>\n",
       "      <td>-0.354875</td>\n",
       "      <td>0.856982</td>\n",
       "      <td>-0.933014</td>\n",
       "    </tr>\n",
       "  </tbody>\n",
       "</table>\n",
       "<p>1 rows × 68 columns</p>\n",
       "</div>"
      ],
      "text/plain": [
       "                                                                     category  \\\n",
       "http://dbpedia.org/resource/Ivan_Akimov  [http://dbpedia.org/resource/Russia]   \n",
       "\n",
       "                                                                                     input  \\\n",
       "http://dbpedia.org/resource/Ivan_Akimov  [0, 0, 0, 0, 0, 0, 0, 0, 0, 0, 0, 0, 0, 0, 0, ...   \n",
       "\n",
       "                                         true  pred  neuron_1  neuron_2  \\\n",
       "http://dbpedia.org/resource/Ivan_Akimov     0     1  0.882411  0.111641   \n",
       "\n",
       "                                         neuron_3  neuron_4  neuron_5  \\\n",
       "http://dbpedia.org/resource/Ivan_Akimov  0.417913 -0.163115   0.35656   \n",
       "\n",
       "                                         neuron_6  ...  neuron_55  neuron_56  \\\n",
       "http://dbpedia.org/resource/Ivan_Akimov   0.50402  ...   0.629632   0.557856   \n",
       "\n",
       "                                         neuron_57  neuron_58  neuron_59  \\\n",
       "http://dbpedia.org/resource/Ivan_Akimov  -0.550852  -0.617036   0.515044   \n",
       "\n",
       "                                         neuron_60  neuron_61  neuron_62  \\\n",
       "http://dbpedia.org/resource/Ivan_Akimov   -0.61316   0.321389  -0.354875   \n",
       "\n",
       "                                         neuron_63  neuron_64  \n",
       "http://dbpedia.org/resource/Ivan_Akimov   0.856982  -0.933014  \n",
       "\n",
       "[1 rows x 68 columns]"
      ]
     },
     "execution_count": 55,
     "metadata": {},
     "output_type": "execute_result"
    }
   ],
   "source": [
    "sample = get_sample(df, 'http://dbpedia.org/resource/Russia')\n",
    "sample"
   ]
  },
  {
   "cell_type": "code",
   "execution_count": 56,
   "id": "b703c0a3",
   "metadata": {},
   "outputs": [
    {
     "data": {
      "text/html": [
       "<div>\n",
       "<style scoped>\n",
       "    .dataframe tbody tr th:only-of-type {\n",
       "        vertical-align: middle;\n",
       "    }\n",
       "\n",
       "    .dataframe tbody tr th {\n",
       "        vertical-align: top;\n",
       "    }\n",
       "\n",
       "    .dataframe thead th {\n",
       "        text-align: right;\n",
       "    }\n",
       "</style>\n",
       "<table border=\"1\" class=\"dataframe\">\n",
       "  <thead>\n",
       "    <tr style=\"text-align: right;\">\n",
       "      <th></th>\n",
       "      <th>neuron_1</th>\n",
       "      <th>neuron_2</th>\n",
       "      <th>neuron_3</th>\n",
       "      <th>neuron_4</th>\n",
       "      <th>neuron_5</th>\n",
       "      <th>neuron_6</th>\n",
       "      <th>neuron_7</th>\n",
       "      <th>neuron_8</th>\n",
       "      <th>neuron_9</th>\n",
       "      <th>neuron_10</th>\n",
       "      <th>...</th>\n",
       "      <th>neuron_55</th>\n",
       "      <th>neuron_56</th>\n",
       "      <th>neuron_57</th>\n",
       "      <th>neuron_58</th>\n",
       "      <th>neuron_59</th>\n",
       "      <th>neuron_60</th>\n",
       "      <th>neuron_61</th>\n",
       "      <th>neuron_62</th>\n",
       "      <th>neuron_63</th>\n",
       "      <th>neuron_64</th>\n",
       "    </tr>\n",
       "  </thead>\n",
       "  <tbody>\n",
       "    <tr>\n",
       "      <th>http://dbpedia.org/resource/Ivan_Akimov</th>\n",
       "      <td>0.882411</td>\n",
       "      <td>0.111641</td>\n",
       "      <td>0.417913</td>\n",
       "      <td>-0.163115</td>\n",
       "      <td>0.35656</td>\n",
       "      <td>0.50402</td>\n",
       "      <td>-0.703461</td>\n",
       "      <td>0.53223</td>\n",
       "      <td>-0.547207</td>\n",
       "      <td>-0.846148</td>\n",
       "      <td>...</td>\n",
       "      <td>0.629632</td>\n",
       "      <td>0.557856</td>\n",
       "      <td>-0.550852</td>\n",
       "      <td>-0.617036</td>\n",
       "      <td>0.515044</td>\n",
       "      <td>-0.61316</td>\n",
       "      <td>0.321389</td>\n",
       "      <td>-0.354875</td>\n",
       "      <td>0.856982</td>\n",
       "      <td>-0.933014</td>\n",
       "    </tr>\n",
       "  </tbody>\n",
       "</table>\n",
       "<p>1 rows × 64 columns</p>\n",
       "</div>"
      ],
      "text/plain": [
       "                                         neuron_1  neuron_2  neuron_3  \\\n",
       "http://dbpedia.org/resource/Ivan_Akimov  0.882411  0.111641  0.417913   \n",
       "\n",
       "                                         neuron_4  neuron_5  neuron_6  \\\n",
       "http://dbpedia.org/resource/Ivan_Akimov -0.163115   0.35656   0.50402   \n",
       "\n",
       "                                         neuron_7  neuron_8  neuron_9  \\\n",
       "http://dbpedia.org/resource/Ivan_Akimov -0.703461   0.53223 -0.547207   \n",
       "\n",
       "                                         neuron_10  ...  neuron_55  neuron_56  \\\n",
       "http://dbpedia.org/resource/Ivan_Akimov  -0.846148  ...   0.629632   0.557856   \n",
       "\n",
       "                                         neuron_57  neuron_58  neuron_59  \\\n",
       "http://dbpedia.org/resource/Ivan_Akimov  -0.550852  -0.617036   0.515044   \n",
       "\n",
       "                                         neuron_60  neuron_61  neuron_62  \\\n",
       "http://dbpedia.org/resource/Ivan_Akimov   -0.61316   0.321389  -0.354875   \n",
       "\n",
       "                                         neuron_63  neuron_64  \n",
       "http://dbpedia.org/resource/Ivan_Akimov   0.856982  -0.933014  \n",
       "\n",
       "[1 rows x 64 columns]"
      ]
     },
     "execution_count": 56,
     "metadata": {},
     "output_type": "execute_result"
    }
   ],
   "source": [
    "activations_cols = [x for x in sample.columns if \"neuron\" in x]\n",
    "df_act_sample = sample.loc[:, activations_cols]\n",
    "df_act_sample"
   ]
  },
  {
   "cell_type": "code",
   "execution_count": 57,
   "id": "f55b4662",
   "metadata": {},
   "outputs": [
    {
     "data": {
      "image/png": "[encoded data removed]",
      "text/plain": [
       "<Figure size 1080x432 with 2 Axes>"
      ]
     },
     "metadata": {
      "needs_background": "light"
     },
     "output_type": "display_data"
    }
   ],
   "source": [
    "plot_activ(df_mean_cat, df_act_sample)"
   ]
  },
  {
   "cell_type": "code",
   "execution_count": 58,
   "id": "a4e5e42e",
   "metadata": {},
   "outputs": [],
   "source": [
    "def get_diffs(df, sample_df):\n",
    "    return sample_df.reset_index().drop(columns=['index']) - df"
   ]
  },
  {
   "cell_type": "code",
   "execution_count": 59,
   "id": "f27a110c",
   "metadata": {},
   "outputs": [
    {
     "data": {
      "text/html": [
       "<div>\n",
       "<style scoped>\n",
       "    .dataframe tbody tr th:only-of-type {\n",
       "        vertical-align: middle;\n",
       "    }\n",
       "\n",
       "    .dataframe tbody tr th {\n",
       "        vertical-align: top;\n",
       "    }\n",
       "\n",
       "    .dataframe thead th {\n",
       "        text-align: right;\n",
       "    }\n",
       "</style>\n",
       "<table border=\"1\" class=\"dataframe\">\n",
       "  <thead>\n",
       "    <tr style=\"text-align: right;\">\n",
       "      <th></th>\n",
       "      <th>neuron_1</th>\n",
       "      <th>neuron_2</th>\n",
       "      <th>neuron_3</th>\n",
       "      <th>neuron_4</th>\n",
       "      <th>neuron_5</th>\n",
       "      <th>neuron_6</th>\n",
       "      <th>neuron_7</th>\n",
       "      <th>neuron_8</th>\n",
       "      <th>neuron_9</th>\n",
       "      <th>neuron_10</th>\n",
       "      <th>...</th>\n",
       "      <th>neuron_55</th>\n",
       "      <th>neuron_56</th>\n",
       "      <th>neuron_57</th>\n",
       "      <th>neuron_58</th>\n",
       "      <th>neuron_59</th>\n",
       "      <th>neuron_60</th>\n",
       "      <th>neuron_61</th>\n",
       "      <th>neuron_62</th>\n",
       "      <th>neuron_63</th>\n",
       "      <th>neuron_64</th>\n",
       "    </tr>\n",
       "  </thead>\n",
       "  <tbody>\n",
       "    <tr>\n",
       "      <th>0</th>\n",
       "      <td>0.717073</td>\n",
       "      <td>0.630664</td>\n",
       "      <td>0.727918</td>\n",
       "      <td>-0.554123</td>\n",
       "      <td>1.132344</td>\n",
       "      <td>-0.033386</td>\n",
       "      <td>-0.619071</td>\n",
       "      <td>0.73927</td>\n",
       "      <td>-0.574536</td>\n",
       "      <td>-0.607766</td>\n",
       "      <td>...</td>\n",
       "      <td>0.670408</td>\n",
       "      <td>0.683714</td>\n",
       "      <td>-0.771598</td>\n",
       "      <td>-0.749881</td>\n",
       "      <td>0.823528</td>\n",
       "      <td>-0.715462</td>\n",
       "      <td>0.574595</td>\n",
       "      <td>-0.772542</td>\n",
       "      <td>0.689768</td>\n",
       "      <td>-0.662895</td>\n",
       "    </tr>\n",
       "  </tbody>\n",
       "</table>\n",
       "<p>1 rows × 64 columns</p>\n",
       "</div>"
      ],
      "text/plain": [
       "   neuron_1  neuron_2  neuron_3  neuron_4  neuron_5  neuron_6  neuron_7  \\\n",
       "0  0.717073  0.630664  0.727918 -0.554123  1.132344 -0.033386 -0.619071   \n",
       "\n",
       "   neuron_8  neuron_9  neuron_10  ...  neuron_55  neuron_56  neuron_57  \\\n",
       "0   0.73927 -0.574536  -0.607766  ...   0.670408   0.683714  -0.771598   \n",
       "\n",
       "   neuron_58  neuron_59  neuron_60  neuron_61  neuron_62  neuron_63  neuron_64  \n",
       "0  -0.749881   0.823528  -0.715462   0.574595  -0.772542   0.689768  -0.662895  \n",
       "\n",
       "[1 rows x 64 columns]"
      ]
     },
     "execution_count": 59,
     "metadata": {},
     "output_type": "execute_result"
    }
   ],
   "source": [
    "diffs = get_diffs(df_mean_cat, df_act_sample)\n",
    "diffs"
   ]
  },
  {
   "cell_type": "code",
   "execution_count": 60,
   "id": "0aef63b7",
   "metadata": {},
   "outputs": [
    {
     "name": "stdout",
     "output_type": "stream",
     "text": [
      "Average difference is: 0.6289498805999756\n"
     ]
    }
   ],
   "source": [
    "avg_diff = abs(diffs).sum().sum()/len(diffs.iloc[0, :])\n",
    "print(f\"Average difference is: {avg_diff}\")"
   ]
  },
  {
   "cell_type": "markdown",
   "id": "d3636ea3",
   "metadata": {},
   "source": [
    "### Re-adjust activations\n",
    "\n",
    "On rapproche les activations du sample vers les activations de la catégorie cible d'un facteur 10% sur les neurones dont la différence est significative (i.e. pvalue < 0.01).\n",
    "\n",
    "On a alors besoin de 3 éléments:\n",
    "* le dataframe des activations du sample\n",
    "* le dataframe des activations moyennes de la catégorie cible\n",
    "* le dataframe des pvalues de la catégorie cible (avec maybe l'information sur la significativité de la pvalue, ici fixée à <= 0.01)"
   ]
  },
  {
   "cell_type": "code",
   "execution_count": 61,
   "id": "3e81a860",
   "metadata": {},
   "outputs": [
    {
     "data": {
      "text/html": [
       "<div>\n",
       "<style scoped>\n",
       "    .dataframe tbody tr th:only-of-type {\n",
       "        vertical-align: middle;\n",
       "    }\n",
       "\n",
       "    .dataframe tbody tr th {\n",
       "        vertical-align: top;\n",
       "    }\n",
       "\n",
       "    .dataframe thead th {\n",
       "        text-align: right;\n",
       "    }\n",
       "</style>\n",
       "<table border=\"1\" class=\"dataframe\">\n",
       "  <thead>\n",
       "    <tr style=\"text-align: right;\">\n",
       "      <th></th>\n",
       "      <th>pvalue</th>\n",
       "    </tr>\n",
       "  </thead>\n",
       "  <tbody>\n",
       "    <tr>\n",
       "      <th>0</th>\n",
       "      <td>1.587716e-01</td>\n",
       "    </tr>\n",
       "    <tr>\n",
       "      <th>1</th>\n",
       "      <td>4.878287e-09</td>\n",
       "    </tr>\n",
       "    <tr>\n",
       "      <th>2</th>\n",
       "      <td>6.452485e-05</td>\n",
       "    </tr>\n",
       "    <tr>\n",
       "      <th>3</th>\n",
       "      <td>1.579483e-06</td>\n",
       "    </tr>\n",
       "    <tr>\n",
       "      <th>4</th>\n",
       "      <td>1.897656e-13</td>\n",
       "    </tr>\n",
       "    <tr>\n",
       "      <th>...</th>\n",
       "      <td>...</td>\n",
       "    </tr>\n",
       "    <tr>\n",
       "      <th>59</th>\n",
       "      <td>4.158541e-02</td>\n",
       "    </tr>\n",
       "    <tr>\n",
       "      <th>60</th>\n",
       "      <td>3.111701e-04</td>\n",
       "    </tr>\n",
       "    <tr>\n",
       "      <th>61</th>\n",
       "      <td>1.502952e-06</td>\n",
       "    </tr>\n",
       "    <tr>\n",
       "      <th>62</th>\n",
       "      <td>9.974529e-02</td>\n",
       "    </tr>\n",
       "    <tr>\n",
       "      <th>63</th>\n",
       "      <td>2.292984e-04</td>\n",
       "    </tr>\n",
       "  </tbody>\n",
       "</table>\n",
       "<p>64 rows × 1 columns</p>\n",
       "</div>"
      ],
      "text/plain": [
       "          pvalue\n",
       "0   1.587716e-01\n",
       "1   4.878287e-09\n",
       "2   6.452485e-05\n",
       "3   1.579483e-06\n",
       "4   1.897656e-13\n",
       "..           ...\n",
       "59  4.158541e-02\n",
       "60  3.111701e-04\n",
       "61  1.502952e-06\n",
       "62  9.974529e-02\n",
       "63  2.292984e-04\n",
       "\n",
       "[64 rows x 1 columns]"
      ]
     },
     "execution_count": 61,
     "metadata": {},
     "output_type": "execute_result"
    }
   ],
   "source": [
    "russia_pv = pd.read_pickle('src/russia-pv.pkl')\n",
    "dfrpv = pd.DataFrame(russia_pv, columns=['pvalue'])\n",
    "dfrpv"
   ]
  },
  {
   "cell_type": "code",
   "execution_count": 62,
   "id": "0e6d3cb3",
   "metadata": {},
   "outputs": [
    {
     "name": "stdout",
     "output_type": "stream",
     "text": [
      "(42, 2)\n",
      "          pvalue  sign\n",
      "1   4.878287e-09  True\n",
      "2   6.452485e-05  True\n",
      "3   1.579483e-06  True\n",
      "4   1.897656e-13  True\n",
      "5   2.738027e-11  True\n",
      "7   3.096681e-03  True\n",
      "9   3.773218e-03  True\n",
      "10  1.769776e-03  True\n",
      "12  1.351876e-13  True\n",
      "14  7.951155e-24  True\n",
      "15  2.011291e-03  True\n",
      "17  6.368204e-23  True\n",
      "19  6.570767e-03  True\n",
      "21  5.796425e-05  True\n",
      "22  3.067940e-07  True\n",
      "23  5.675254e-05  True\n",
      "24  1.612688e-10  True\n",
      "26  9.286252e-11  True\n",
      "29  1.690230e-06  True\n",
      "30  3.268496e-09  True\n",
      "31  1.080565e-11  True\n",
      "32  5.932947e-03  True\n",
      "33  1.684570e-11  True\n",
      "34  2.491615e-03  True\n",
      "36  2.208312e-03  True\n",
      "40  4.088773e-18  True\n",
      "41  3.012649e-08  True\n",
      "42  1.058638e-14  True\n",
      "43  6.252875e-12  True\n",
      "44  2.203407e-05  True\n",
      "46  1.785589e-24  True\n",
      "47  9.985386e-08  True\n",
      "49  9.544518e-05  True\n",
      "50  1.910548e-19  True\n",
      "51  2.097827e-18  True\n",
      "52  8.469099e-08  True\n",
      "53  1.930613e-16  True\n",
      "56  2.021712e-03  True\n",
      "58  6.567423e-05  True\n",
      "60  3.111701e-04  True\n",
      "61  1.502952e-06  True\n",
      "63  2.292984e-04  True\n"
     ]
    }
   ],
   "source": [
    "dfrpv['sign'] = dfrpv['pvalue'] <= 0.01\n",
    "print(dfrpv[dfrpv['sign'] == True].shape)\n",
    "print(dfrpv[dfrpv['sign'] == True])"
   ]
  },
  {
   "cell_type": "code",
   "execution_count": 63,
   "id": "500d029a",
   "metadata": {},
   "outputs": [
    {
     "data": {
      "image/png": "[encoded data removed]",
      "text/plain": [
       "<Figure size 1080x360 with 1 Axes>"
      ]
     },
     "metadata": {
      "needs_background": "light"
     },
     "output_type": "display_data"
    }
   ],
   "source": [
    "plt.figure(figsize=(15, 5))\n",
    "sns.scatterplot(x=range(len(dfrpv['pvalue'])), y='pvalue', \n",
    "                hue='sign', data=dfrpv)\n",
    "plt.show()"
   ]
  },
  {
   "cell_type": "markdown",
   "id": "54abf5d5",
   "metadata": {},
   "source": [
    "Pvalue dataframe with significant bool value (example for russia here)"
   ]
  },
  {
   "cell_type": "code",
   "execution_count": 64,
   "id": "267f47e6",
   "metadata": {},
   "outputs": [
    {
     "data": {
      "text/html": [
       "<div>\n",
       "<style scoped>\n",
       "    .dataframe tbody tr th:only-of-type {\n",
       "        vertical-align: middle;\n",
       "    }\n",
       "\n",
       "    .dataframe tbody tr th {\n",
       "        vertical-align: top;\n",
       "    }\n",
       "\n",
       "    .dataframe thead th {\n",
       "        text-align: right;\n",
       "    }\n",
       "</style>\n",
       "<table border=\"1\" class=\"dataframe\">\n",
       "  <thead>\n",
       "    <tr style=\"text-align: right;\">\n",
       "      <th></th>\n",
       "      <th>pvalue</th>\n",
       "      <th>sign</th>\n",
       "    </tr>\n",
       "  </thead>\n",
       "  <tbody>\n",
       "    <tr>\n",
       "      <th>0</th>\n",
       "      <td>1.587716e-01</td>\n",
       "      <td>False</td>\n",
       "    </tr>\n",
       "    <tr>\n",
       "      <th>1</th>\n",
       "      <td>4.878287e-09</td>\n",
       "      <td>True</td>\n",
       "    </tr>\n",
       "    <tr>\n",
       "      <th>2</th>\n",
       "      <td>6.452485e-05</td>\n",
       "      <td>True</td>\n",
       "    </tr>\n",
       "    <tr>\n",
       "      <th>3</th>\n",
       "      <td>1.579483e-06</td>\n",
       "      <td>True</td>\n",
       "    </tr>\n",
       "    <tr>\n",
       "      <th>4</th>\n",
       "      <td>1.897656e-13</td>\n",
       "      <td>True</td>\n",
       "    </tr>\n",
       "    <tr>\n",
       "      <th>...</th>\n",
       "      <td>...</td>\n",
       "      <td>...</td>\n",
       "    </tr>\n",
       "    <tr>\n",
       "      <th>59</th>\n",
       "      <td>4.158541e-02</td>\n",
       "      <td>False</td>\n",
       "    </tr>\n",
       "    <tr>\n",
       "      <th>60</th>\n",
       "      <td>3.111701e-04</td>\n",
       "      <td>True</td>\n",
       "    </tr>\n",
       "    <tr>\n",
       "      <th>61</th>\n",
       "      <td>1.502952e-06</td>\n",
       "      <td>True</td>\n",
       "    </tr>\n",
       "    <tr>\n",
       "      <th>62</th>\n",
       "      <td>9.974529e-02</td>\n",
       "      <td>False</td>\n",
       "    </tr>\n",
       "    <tr>\n",
       "      <th>63</th>\n",
       "      <td>2.292984e-04</td>\n",
       "      <td>True</td>\n",
       "    </tr>\n",
       "  </tbody>\n",
       "</table>\n",
       "<p>64 rows × 2 columns</p>\n",
       "</div>"
      ],
      "text/plain": [
       "          pvalue   sign\n",
       "0   1.587716e-01  False\n",
       "1   4.878287e-09   True\n",
       "2   6.452485e-05   True\n",
       "3   1.579483e-06   True\n",
       "4   1.897656e-13   True\n",
       "..           ...    ...\n",
       "59  4.158541e-02  False\n",
       "60  3.111701e-04   True\n",
       "61  1.502952e-06   True\n",
       "62  9.974529e-02  False\n",
       "63  2.292984e-04   True\n",
       "\n",
       "[64 rows x 2 columns]"
      ]
     },
     "execution_count": 64,
     "metadata": {},
     "output_type": "execute_result"
    }
   ],
   "source": [
    "dfrpv"
   ]
  },
  {
   "cell_type": "code",
   "execution_count": 65,
   "id": "546dbd78",
   "metadata": {},
   "outputs": [
    {
     "data": {
      "text/html": [
       "<div>\n",
       "<style scoped>\n",
       "    .dataframe tbody tr th:only-of-type {\n",
       "        vertical-align: middle;\n",
       "    }\n",
       "\n",
       "    .dataframe tbody tr th {\n",
       "        vertical-align: top;\n",
       "    }\n",
       "\n",
       "    .dataframe thead th {\n",
       "        text-align: right;\n",
       "    }\n",
       "</style>\n",
       "<table border=\"1\" class=\"dataframe\">\n",
       "  <thead>\n",
       "    <tr style=\"text-align: right;\">\n",
       "      <th></th>\n",
       "      <th>neuron_1</th>\n",
       "      <th>neuron_2</th>\n",
       "      <th>neuron_3</th>\n",
       "      <th>neuron_4</th>\n",
       "      <th>neuron_5</th>\n",
       "      <th>neuron_6</th>\n",
       "      <th>neuron_7</th>\n",
       "      <th>neuron_8</th>\n",
       "      <th>neuron_9</th>\n",
       "      <th>neuron_10</th>\n",
       "      <th>...</th>\n",
       "      <th>neuron_55</th>\n",
       "      <th>neuron_56</th>\n",
       "      <th>neuron_57</th>\n",
       "      <th>neuron_58</th>\n",
       "      <th>neuron_59</th>\n",
       "      <th>neuron_60</th>\n",
       "      <th>neuron_61</th>\n",
       "      <th>neuron_62</th>\n",
       "      <th>neuron_63</th>\n",
       "      <th>neuron_64</th>\n",
       "    </tr>\n",
       "  </thead>\n",
       "  <tbody>\n",
       "    <tr>\n",
       "      <th>0</th>\n",
       "      <td>0.165338</td>\n",
       "      <td>-0.519022</td>\n",
       "      <td>-0.310005</td>\n",
       "      <td>0.391009</td>\n",
       "      <td>-0.775784</td>\n",
       "      <td>0.537406</td>\n",
       "      <td>-0.08439</td>\n",
       "      <td>-0.20704</td>\n",
       "      <td>0.027329</td>\n",
       "      <td>-0.238381</td>\n",
       "      <td>...</td>\n",
       "      <td>-0.040775</td>\n",
       "      <td>-0.125858</td>\n",
       "      <td>0.220746</td>\n",
       "      <td>0.132845</td>\n",
       "      <td>-0.308484</td>\n",
       "      <td>0.102303</td>\n",
       "      <td>-0.253206</td>\n",
       "      <td>0.417666</td>\n",
       "      <td>0.167214</td>\n",
       "      <td>-0.270119</td>\n",
       "    </tr>\n",
       "  </tbody>\n",
       "</table>\n",
       "<p>1 rows × 64 columns</p>\n",
       "</div>"
      ],
      "text/plain": [
       "   neuron_1  neuron_2  neuron_3  neuron_4  neuron_5  neuron_6  neuron_7  \\\n",
       "0  0.165338 -0.519022 -0.310005  0.391009 -0.775784  0.537406  -0.08439   \n",
       "\n",
       "   neuron_8  neuron_9  neuron_10  ...  neuron_55  neuron_56  neuron_57  \\\n",
       "0  -0.20704  0.027329  -0.238381  ...  -0.040775  -0.125858   0.220746   \n",
       "\n",
       "   neuron_58  neuron_59  neuron_60  neuron_61  neuron_62  neuron_63  neuron_64  \n",
       "0   0.132845  -0.308484   0.102303  -0.253206   0.417666   0.167214  -0.270119  \n",
       "\n",
       "[1 rows x 64 columns]"
      ]
     },
     "execution_count": 65,
     "metadata": {},
     "output_type": "execute_result"
    }
   ],
   "source": [
    "df_mean_cat # mean activations for a category (here russia)"
   ]
  },
  {
   "cell_type": "code",
   "execution_count": 66,
   "id": "af899ac5",
   "metadata": {},
   "outputs": [
    {
     "data": {
      "text/html": [
       "<div>\n",
       "<style scoped>\n",
       "    .dataframe tbody tr th:only-of-type {\n",
       "        vertical-align: middle;\n",
       "    }\n",
       "\n",
       "    .dataframe tbody tr th {\n",
       "        vertical-align: top;\n",
       "    }\n",
       "\n",
       "    .dataframe thead th {\n",
       "        text-align: right;\n",
       "    }\n",
       "</style>\n",
       "<table border=\"1\" class=\"dataframe\">\n",
       "  <thead>\n",
       "    <tr style=\"text-align: right;\">\n",
       "      <th></th>\n",
       "      <th>neuron_1</th>\n",
       "      <th>neuron_2</th>\n",
       "      <th>neuron_3</th>\n",
       "      <th>neuron_4</th>\n",
       "      <th>neuron_5</th>\n",
       "      <th>neuron_6</th>\n",
       "      <th>neuron_7</th>\n",
       "      <th>neuron_8</th>\n",
       "      <th>neuron_9</th>\n",
       "      <th>neuron_10</th>\n",
       "      <th>...</th>\n",
       "      <th>neuron_55</th>\n",
       "      <th>neuron_56</th>\n",
       "      <th>neuron_57</th>\n",
       "      <th>neuron_58</th>\n",
       "      <th>neuron_59</th>\n",
       "      <th>neuron_60</th>\n",
       "      <th>neuron_61</th>\n",
       "      <th>neuron_62</th>\n",
       "      <th>neuron_63</th>\n",
       "      <th>neuron_64</th>\n",
       "    </tr>\n",
       "  </thead>\n",
       "  <tbody>\n",
       "    <tr>\n",
       "      <th>http://dbpedia.org/resource/Ivan_Akimov</th>\n",
       "      <td>0.882411</td>\n",
       "      <td>0.111641</td>\n",
       "      <td>0.417913</td>\n",
       "      <td>-0.163115</td>\n",
       "      <td>0.35656</td>\n",
       "      <td>0.50402</td>\n",
       "      <td>-0.703461</td>\n",
       "      <td>0.53223</td>\n",
       "      <td>-0.547207</td>\n",
       "      <td>-0.846148</td>\n",
       "      <td>...</td>\n",
       "      <td>0.629632</td>\n",
       "      <td>0.557856</td>\n",
       "      <td>-0.550852</td>\n",
       "      <td>-0.617036</td>\n",
       "      <td>0.515044</td>\n",
       "      <td>-0.61316</td>\n",
       "      <td>0.321389</td>\n",
       "      <td>-0.354875</td>\n",
       "      <td>0.856982</td>\n",
       "      <td>-0.933014</td>\n",
       "    </tr>\n",
       "  </tbody>\n",
       "</table>\n",
       "<p>1 rows × 64 columns</p>\n",
       "</div>"
      ],
      "text/plain": [
       "                                         neuron_1  neuron_2  neuron_3  \\\n",
       "http://dbpedia.org/resource/Ivan_Akimov  0.882411  0.111641  0.417913   \n",
       "\n",
       "                                         neuron_4  neuron_5  neuron_6  \\\n",
       "http://dbpedia.org/resource/Ivan_Akimov -0.163115   0.35656   0.50402   \n",
       "\n",
       "                                         neuron_7  neuron_8  neuron_9  \\\n",
       "http://dbpedia.org/resource/Ivan_Akimov -0.703461   0.53223 -0.547207   \n",
       "\n",
       "                                         neuron_10  ...  neuron_55  neuron_56  \\\n",
       "http://dbpedia.org/resource/Ivan_Akimov  -0.846148  ...   0.629632   0.557856   \n",
       "\n",
       "                                         neuron_57  neuron_58  neuron_59  \\\n",
       "http://dbpedia.org/resource/Ivan_Akimov  -0.550852  -0.617036   0.515044   \n",
       "\n",
       "                                         neuron_60  neuron_61  neuron_62  \\\n",
       "http://dbpedia.org/resource/Ivan_Akimov   -0.61316   0.321389  -0.354875   \n",
       "\n",
       "                                         neuron_63  neuron_64  \n",
       "http://dbpedia.org/resource/Ivan_Akimov   0.856982  -0.933014  \n",
       "\n",
       "[1 rows x 64 columns]"
      ]
     },
     "execution_count": 66,
     "metadata": {},
     "output_type": "execute_result"
    }
   ],
   "source": [
    "df_act_sample # activations for a misclassified sample of the category"
   ]
  },
  {
   "cell_type": "code",
   "execution_count": 67,
   "id": "998061d9",
   "metadata": {},
   "outputs": [
    {
     "data": {
      "image/png": "[encoded data removed]",
      "text/plain": [
       "<Figure size 1080x432 with 2 Axes>"
      ]
     },
     "metadata": {
      "needs_background": "light"
     },
     "output_type": "display_data"
    }
   ],
   "source": [
    "plot_activ(df=df_act_sample, df2=df_mean_cat)\n",
    "# df in blue\n",
    "# df2 in orange"
   ]
  },
  {
   "cell_type": "code",
   "execution_count": 68,
   "id": "0b49fd9f",
   "metadata": {},
   "outputs": [
    {
     "data": {
      "text/html": [
       "<div>\n",
       "<style scoped>\n",
       "    .dataframe tbody tr th:only-of-type {\n",
       "        vertical-align: middle;\n",
       "    }\n",
       "\n",
       "    .dataframe tbody tr th {\n",
       "        vertical-align: top;\n",
       "    }\n",
       "\n",
       "    .dataframe thead th {\n",
       "        text-align: right;\n",
       "    }\n",
       "</style>\n",
       "<table border=\"1\" class=\"dataframe\">\n",
       "  <thead>\n",
       "    <tr style=\"text-align: right;\">\n",
       "      <th></th>\n",
       "      <th>pvalue</th>\n",
       "      <th>sign</th>\n",
       "    </tr>\n",
       "  </thead>\n",
       "  <tbody>\n",
       "    <tr>\n",
       "      <th>neuron_1</th>\n",
       "      <td>1.587716e-01</td>\n",
       "      <td>False</td>\n",
       "    </tr>\n",
       "    <tr>\n",
       "      <th>neuron_2</th>\n",
       "      <td>4.878287e-09</td>\n",
       "      <td>True</td>\n",
       "    </tr>\n",
       "    <tr>\n",
       "      <th>neuron_3</th>\n",
       "      <td>6.452485e-05</td>\n",
       "      <td>True</td>\n",
       "    </tr>\n",
       "    <tr>\n",
       "      <th>neuron_4</th>\n",
       "      <td>1.579483e-06</td>\n",
       "      <td>True</td>\n",
       "    </tr>\n",
       "    <tr>\n",
       "      <th>neuron_5</th>\n",
       "      <td>1.897656e-13</td>\n",
       "      <td>True</td>\n",
       "    </tr>\n",
       "    <tr>\n",
       "      <th>...</th>\n",
       "      <td>...</td>\n",
       "      <td>...</td>\n",
       "    </tr>\n",
       "    <tr>\n",
       "      <th>neuron_60</th>\n",
       "      <td>4.158541e-02</td>\n",
       "      <td>False</td>\n",
       "    </tr>\n",
       "    <tr>\n",
       "      <th>neuron_61</th>\n",
       "      <td>3.111701e-04</td>\n",
       "      <td>True</td>\n",
       "    </tr>\n",
       "    <tr>\n",
       "      <th>neuron_62</th>\n",
       "      <td>1.502952e-06</td>\n",
       "      <td>True</td>\n",
       "    </tr>\n",
       "    <tr>\n",
       "      <th>neuron_63</th>\n",
       "      <td>9.974529e-02</td>\n",
       "      <td>False</td>\n",
       "    </tr>\n",
       "    <tr>\n",
       "      <th>neuron_64</th>\n",
       "      <td>2.292984e-04</td>\n",
       "      <td>True</td>\n",
       "    </tr>\n",
       "  </tbody>\n",
       "</table>\n",
       "<p>64 rows × 2 columns</p>\n",
       "</div>"
      ],
      "text/plain": [
       "                 pvalue   sign\n",
       "neuron_1   1.587716e-01  False\n",
       "neuron_2   4.878287e-09   True\n",
       "neuron_3   6.452485e-05   True\n",
       "neuron_4   1.579483e-06   True\n",
       "neuron_5   1.897656e-13   True\n",
       "...                 ...    ...\n",
       "neuron_60  4.158541e-02  False\n",
       "neuron_61  3.111701e-04   True\n",
       "neuron_62  1.502952e-06   True\n",
       "neuron_63  9.974529e-02  False\n",
       "neuron_64  2.292984e-04   True\n",
       "\n",
       "[64 rows x 2 columns]"
      ]
     },
     "execution_count": 68,
     "metadata": {},
     "output_type": "execute_result"
    }
   ],
   "source": [
    "dfrpv.set_index(df_act_sample.T.index, inplace=True)\n",
    "dfrpv"
   ]
  },
  {
   "cell_type": "markdown",
   "id": "dff791dc",
   "metadata": {},
   "source": [
    "The formula for the new data point is : \n",
    "\n",
    "$$ s' = s - d * f $$\n",
    "\n",
    "where $s'$ is the new value, $s$ is the activation value of the sample, $d$ is the difference between the sample activation and the mean activation (on the same neuron) and $f$ is the factor"
   ]
  },
  {
   "cell_type": "code",
   "execution_count": 69,
   "id": "bc722fe0",
   "metadata": {},
   "outputs": [],
   "source": [
    "def boost(sample, category, pvalue=None):\n",
    "    \"\"\"\n",
    "    both of the 3 elements have the same shape\n",
    "    pvalues might be reached directly from this function\n",
    "    \"\"\"\n",
    "    \n",
    "    factor = 0.1 # i.e. 10%\n",
    "    \n",
    "    # We built a proper dataset to process the data\n",
    "    df = pd.concat([sample, category, pvalue]).T\n",
    "    df.columns = [\n",
    "        'sample', 'cat', 'pvalue', 'sign'\n",
    "    ]\n",
    "    \n",
    "    df['new_value'] = df['sample']\n",
    "    \n",
    "    for i in range(df.shape[0]):\n",
    "        index = f\"neuron_{i+1}\"\n",
    "        if df.loc[index, \"sign\"] == True:\n",
    "            df.loc[index, \"new_value\"] = df.loc[index, 'sample'] - (df.loc[index, 'sample'] - df.loc[index, 'cat']) * factor\n",
    "    \n",
    "    return df"
   ]
  },
  {
   "cell_type": "code",
   "execution_count": 70,
   "id": "a12340c1",
   "metadata": {},
   "outputs": [
    {
     "data": {
      "text/html": [
       "<div>\n",
       "<style scoped>\n",
       "    .dataframe tbody tr th:only-of-type {\n",
       "        vertical-align: middle;\n",
       "    }\n",
       "\n",
       "    .dataframe tbody tr th {\n",
       "        vertical-align: top;\n",
       "    }\n",
       "\n",
       "    .dataframe thead th {\n",
       "        text-align: right;\n",
       "    }\n",
       "</style>\n",
       "<table border=\"1\" class=\"dataframe\">\n",
       "  <thead>\n",
       "    <tr style=\"text-align: right;\">\n",
       "      <th></th>\n",
       "      <th>sample</th>\n",
       "      <th>cat</th>\n",
       "      <th>pvalue</th>\n",
       "      <th>sign</th>\n",
       "      <th>new_value</th>\n",
       "    </tr>\n",
       "  </thead>\n",
       "  <tbody>\n",
       "    <tr>\n",
       "      <th>neuron_1</th>\n",
       "      <td>0.882411</td>\n",
       "      <td>0.165338</td>\n",
       "      <td>0.158772</td>\n",
       "      <td>False</td>\n",
       "      <td>0.882411</td>\n",
       "    </tr>\n",
       "    <tr>\n",
       "      <th>neuron_2</th>\n",
       "      <td>0.111641</td>\n",
       "      <td>-0.519022</td>\n",
       "      <td>0.0</td>\n",
       "      <td>True</td>\n",
       "      <td>0.048575</td>\n",
       "    </tr>\n",
       "    <tr>\n",
       "      <th>neuron_3</th>\n",
       "      <td>0.417913</td>\n",
       "      <td>-0.310005</td>\n",
       "      <td>0.000065</td>\n",
       "      <td>True</td>\n",
       "      <td>0.345121</td>\n",
       "    </tr>\n",
       "    <tr>\n",
       "      <th>neuron_4</th>\n",
       "      <td>-0.163115</td>\n",
       "      <td>0.391009</td>\n",
       "      <td>0.000002</td>\n",
       "      <td>True</td>\n",
       "      <td>-0.107702</td>\n",
       "    </tr>\n",
       "    <tr>\n",
       "      <th>neuron_5</th>\n",
       "      <td>0.35656</td>\n",
       "      <td>-0.775784</td>\n",
       "      <td>0.0</td>\n",
       "      <td>True</td>\n",
       "      <td>0.243326</td>\n",
       "    </tr>\n",
       "    <tr>\n",
       "      <th>...</th>\n",
       "      <td>...</td>\n",
       "      <td>...</td>\n",
       "      <td>...</td>\n",
       "      <td>...</td>\n",
       "      <td>...</td>\n",
       "    </tr>\n",
       "    <tr>\n",
       "      <th>neuron_60</th>\n",
       "      <td>-0.61316</td>\n",
       "      <td>0.102303</td>\n",
       "      <td>0.041585</td>\n",
       "      <td>False</td>\n",
       "      <td>-0.61316</td>\n",
       "    </tr>\n",
       "    <tr>\n",
       "      <th>neuron_61</th>\n",
       "      <td>0.321389</td>\n",
       "      <td>-0.253206</td>\n",
       "      <td>0.000311</td>\n",
       "      <td>True</td>\n",
       "      <td>0.263929</td>\n",
       "    </tr>\n",
       "    <tr>\n",
       "      <th>neuron_62</th>\n",
       "      <td>-0.354875</td>\n",
       "      <td>0.417666</td>\n",
       "      <td>0.000002</td>\n",
       "      <td>True</td>\n",
       "      <td>-0.277621</td>\n",
       "    </tr>\n",
       "    <tr>\n",
       "      <th>neuron_63</th>\n",
       "      <td>0.856982</td>\n",
       "      <td>0.167214</td>\n",
       "      <td>0.099745</td>\n",
       "      <td>False</td>\n",
       "      <td>0.856982</td>\n",
       "    </tr>\n",
       "    <tr>\n",
       "      <th>neuron_64</th>\n",
       "      <td>-0.933014</td>\n",
       "      <td>-0.270119</td>\n",
       "      <td>0.000229</td>\n",
       "      <td>True</td>\n",
       "      <td>-0.866725</td>\n",
       "    </tr>\n",
       "  </tbody>\n",
       "</table>\n",
       "<p>64 rows × 5 columns</p>\n",
       "</div>"
      ],
      "text/plain": [
       "             sample       cat    pvalue   sign new_value\n",
       "neuron_1   0.882411  0.165338  0.158772  False  0.882411\n",
       "neuron_2   0.111641 -0.519022       0.0   True  0.048575\n",
       "neuron_3   0.417913 -0.310005  0.000065   True  0.345121\n",
       "neuron_4  -0.163115  0.391009  0.000002   True -0.107702\n",
       "neuron_5    0.35656 -0.775784       0.0   True  0.243326\n",
       "...             ...       ...       ...    ...       ...\n",
       "neuron_60  -0.61316  0.102303  0.041585  False  -0.61316\n",
       "neuron_61  0.321389 -0.253206  0.000311   True  0.263929\n",
       "neuron_62 -0.354875  0.417666  0.000002   True -0.277621\n",
       "neuron_63  0.856982  0.167214  0.099745  False  0.856982\n",
       "neuron_64 -0.933014 -0.270119  0.000229   True -0.866725\n",
       "\n",
       "[64 rows x 5 columns]"
      ]
     },
     "execution_count": 70,
     "metadata": {},
     "output_type": "execute_result"
    }
   ],
   "source": [
    "dfb = boost(df_act_sample, df_mean_cat, dfrpv.T)\n",
    "dfb"
   ]
  },
  {
   "cell_type": "code",
   "execution_count": 71,
   "id": "a6cd1dc9",
   "metadata": {},
   "outputs": [
    {
     "data": {
      "text/html": [
       "<div>\n",
       "<style scoped>\n",
       "    .dataframe tbody tr th:only-of-type {\n",
       "        vertical-align: middle;\n",
       "    }\n",
       "\n",
       "    .dataframe tbody tr th {\n",
       "        vertical-align: top;\n",
       "    }\n",
       "\n",
       "    .dataframe thead th {\n",
       "        text-align: right;\n",
       "    }\n",
       "</style>\n",
       "<table border=\"1\" class=\"dataframe\">\n",
       "  <thead>\n",
       "    <tr style=\"text-align: right;\">\n",
       "      <th></th>\n",
       "      <th>sample</th>\n",
       "      <th>cat</th>\n",
       "      <th>pvalue</th>\n",
       "      <th>sign</th>\n",
       "      <th>new_value</th>\n",
       "    </tr>\n",
       "  </thead>\n",
       "  <tbody>\n",
       "    <tr>\n",
       "      <th>neuron_1</th>\n",
       "      <td>0.882411</td>\n",
       "      <td>0.165338</td>\n",
       "      <td>0.158772</td>\n",
       "      <td>False</td>\n",
       "      <td>0.882411</td>\n",
       "    </tr>\n",
       "    <tr>\n",
       "      <th>neuron_2</th>\n",
       "      <td>0.111641</td>\n",
       "      <td>-0.519022</td>\n",
       "      <td>0.0</td>\n",
       "      <td>True</td>\n",
       "      <td>0.048575</td>\n",
       "    </tr>\n",
       "    <tr>\n",
       "      <th>neuron_3</th>\n",
       "      <td>0.417913</td>\n",
       "      <td>-0.310005</td>\n",
       "      <td>0.000065</td>\n",
       "      <td>True</td>\n",
       "      <td>0.345121</td>\n",
       "    </tr>\n",
       "    <tr>\n",
       "      <th>neuron_4</th>\n",
       "      <td>-0.163115</td>\n",
       "      <td>0.391009</td>\n",
       "      <td>0.000002</td>\n",
       "      <td>True</td>\n",
       "      <td>-0.107702</td>\n",
       "    </tr>\n",
       "    <tr>\n",
       "      <th>neuron_5</th>\n",
       "      <td>0.35656</td>\n",
       "      <td>-0.775784</td>\n",
       "      <td>0.0</td>\n",
       "      <td>True</td>\n",
       "      <td>0.243326</td>\n",
       "    </tr>\n",
       "    <tr>\n",
       "      <th>...</th>\n",
       "      <td>...</td>\n",
       "      <td>...</td>\n",
       "      <td>...</td>\n",
       "      <td>...</td>\n",
       "      <td>...</td>\n",
       "    </tr>\n",
       "    <tr>\n",
       "      <th>neuron_60</th>\n",
       "      <td>-0.61316</td>\n",
       "      <td>0.102303</td>\n",
       "      <td>0.041585</td>\n",
       "      <td>False</td>\n",
       "      <td>-0.61316</td>\n",
       "    </tr>\n",
       "    <tr>\n",
       "      <th>neuron_61</th>\n",
       "      <td>0.321389</td>\n",
       "      <td>-0.253206</td>\n",
       "      <td>0.000311</td>\n",
       "      <td>True</td>\n",
       "      <td>0.263929</td>\n",
       "    </tr>\n",
       "    <tr>\n",
       "      <th>neuron_62</th>\n",
       "      <td>-0.354875</td>\n",
       "      <td>0.417666</td>\n",
       "      <td>0.000002</td>\n",
       "      <td>True</td>\n",
       "      <td>-0.277621</td>\n",
       "    </tr>\n",
       "    <tr>\n",
       "      <th>neuron_63</th>\n",
       "      <td>0.856982</td>\n",
       "      <td>0.167214</td>\n",
       "      <td>0.099745</td>\n",
       "      <td>False</td>\n",
       "      <td>0.856982</td>\n",
       "    </tr>\n",
       "    <tr>\n",
       "      <th>neuron_64</th>\n",
       "      <td>-0.933014</td>\n",
       "      <td>-0.270119</td>\n",
       "      <td>0.000229</td>\n",
       "      <td>True</td>\n",
       "      <td>-0.866725</td>\n",
       "    </tr>\n",
       "  </tbody>\n",
       "</table>\n",
       "<p>64 rows × 5 columns</p>\n",
       "</div>"
      ],
      "text/plain": [
       "             sample       cat    pvalue   sign new_value\n",
       "neuron_1   0.882411  0.165338  0.158772  False  0.882411\n",
       "neuron_2   0.111641 -0.519022       0.0   True  0.048575\n",
       "neuron_3   0.417913 -0.310005  0.000065   True  0.345121\n",
       "neuron_4  -0.163115  0.391009  0.000002   True -0.107702\n",
       "neuron_5    0.35656 -0.775784       0.0   True  0.243326\n",
       "...             ...       ...       ...    ...       ...\n",
       "neuron_60  -0.61316  0.102303  0.041585  False  -0.61316\n",
       "neuron_61  0.321389 -0.253206  0.000311   True  0.263929\n",
       "neuron_62 -0.354875  0.417666  0.000002   True -0.277621\n",
       "neuron_63  0.856982  0.167214  0.099745  False  0.856982\n",
       "neuron_64 -0.933014 -0.270119  0.000229   True -0.866725\n",
       "\n",
       "[64 rows x 5 columns]"
      ]
     },
     "execution_count": 71,
     "metadata": {},
     "output_type": "execute_result"
    }
   ],
   "source": [
    "dfb.fillna(value=dfb[dfb['sign'] == False]['new_value'])"
   ]
  },
  {
   "cell_type": "code",
   "execution_count": 72,
   "id": "1310fdb1",
   "metadata": {},
   "outputs": [
    {
     "data": {
      "text/plain": [
       "neuron_1     0.882411\n",
       "neuron_7    -0.703461\n",
       "neuron_9    -0.547207\n",
       "neuron_12    0.543226\n",
       "neuron_14   -0.575149\n",
       "neuron_17   -0.498431\n",
       "neuron_19   -0.836353\n",
       "neuron_21   -1.185504\n",
       "neuron_26    0.579353\n",
       "neuron_28    0.758078\n",
       "neuron_29   -0.683904\n",
       "neuron_36    -0.55416\n",
       "neuron_38   -0.503543\n",
       "neuron_39    0.660075\n",
       "neuron_40   -0.376778\n",
       "neuron_46    0.616441\n",
       "neuron_49   -0.603852\n",
       "neuron_55    0.629632\n",
       "neuron_56    0.557856\n",
       "neuron_58   -0.617036\n",
       "neuron_60    -0.61316\n",
       "neuron_63    0.856982\n",
       "Name: sample, dtype: object"
      ]
     },
     "execution_count": 72,
     "metadata": {},
     "output_type": "execute_result"
    }
   ],
   "source": [
    "dfb[dfb['sign'] == False]['sample']"
   ]
  },
  {
   "cell_type": "markdown",
   "id": "e6961121",
   "metadata": {},
   "source": [
    "### Display the new visualization"
   ]
  },
  {
   "cell_type": "code",
   "execution_count": 73,
   "id": "d23ba174",
   "metadata": {},
   "outputs": [
    {
     "data": {
      "text/plain": [
       "array([0.8824111819267273, 0.1116410344839096, 0.4179130494594574,\n",
       "       -0.16311480104923248, 0.3565603792667389, 0.5040198564529419,\n",
       "       -0.7034607529640198, 0.5322299003601074, -0.547207236289978,\n",
       "       -0.8461477160453796, -0.8414052724838257, 0.5432263016700745,\n",
       "       -0.20766764879226685, -0.5751485824584961, -0.29763901233673096,\n",
       "       -0.40836331248283386, -0.49843060970306396, 1.4785454273223877,\n",
       "       -0.8363534808158875, -0.5870040059089661, -1.185503602027893,\n",
       "       -0.8440573215484619, 0.4075915813446045, -0.6510257720947266,\n",
       "       -0.4378679096698761, 0.579352617263794, -0.9146440625190735,\n",
       "       0.7580782771110535, -0.6839040517807007, -0.24684792757034302,\n",
       "       -0.9096495509147644, -0.1719246804714203, 0.51585453748703,\n",
       "       -1.0594871044158936, 0.4410596489906311, -0.5541601777076721,\n",
       "       0.2837596535682678, -0.5035434365272522, 0.6600747108459473,\n",
       "       -0.3767777979373932, -0.8750789761543274, 0.9424818158149719,\n",
       "       0.008853670209646225, 0.7416215538978577, -0.9358731508255005,\n",
       "       0.6164410710334778, 1.3131296634674072, -0.15042655169963837,\n",
       "       -0.6038519144058228, -1.0594638586044312, -1.2754548788070679,\n",
       "       -0.3666088581085205, 0.1463136076927185, 1.290601372718811,\n",
       "       0.6296324729919434, 0.5578560829162598, -0.5508519411087036,\n",
       "       -0.6170355677604675, 0.5150437951087952, -0.6131598949432373,\n",
       "       0.3213888108730316, -0.3548752963542938, 0.8569823503494263,\n",
       "       -0.9330143928527832], dtype=object)"
      ]
     },
     "execution_count": 73,
     "metadata": {},
     "output_type": "execute_result"
    }
   ],
   "source": [
    "dfb['sample'].values"
   ]
  },
  {
   "cell_type": "code",
   "execution_count": 74,
   "id": "aac7c42f",
   "metadata": {},
   "outputs": [
    {
     "data": {
      "text/html": [
       "<div>\n",
       "<style scoped>\n",
       "    .dataframe tbody tr th:only-of-type {\n",
       "        vertical-align: middle;\n",
       "    }\n",
       "\n",
       "    .dataframe tbody tr th {\n",
       "        vertical-align: top;\n",
       "    }\n",
       "\n",
       "    .dataframe thead th {\n",
       "        text-align: right;\n",
       "    }\n",
       "</style>\n",
       "<table border=\"1\" class=\"dataframe\">\n",
       "  <thead>\n",
       "    <tr style=\"text-align: right;\">\n",
       "      <th></th>\n",
       "      <th>neuron_1</th>\n",
       "      <th>neuron_2</th>\n",
       "      <th>neuron_3</th>\n",
       "      <th>neuron_4</th>\n",
       "      <th>neuron_5</th>\n",
       "      <th>neuron_6</th>\n",
       "      <th>neuron_7</th>\n",
       "      <th>neuron_8</th>\n",
       "      <th>neuron_9</th>\n",
       "      <th>neuron_10</th>\n",
       "      <th>...</th>\n",
       "      <th>neuron_55</th>\n",
       "      <th>neuron_56</th>\n",
       "      <th>neuron_57</th>\n",
       "      <th>neuron_58</th>\n",
       "      <th>neuron_59</th>\n",
       "      <th>neuron_60</th>\n",
       "      <th>neuron_61</th>\n",
       "      <th>neuron_62</th>\n",
       "      <th>neuron_63</th>\n",
       "      <th>neuron_64</th>\n",
       "    </tr>\n",
       "  </thead>\n",
       "  <tbody>\n",
       "    <tr>\n",
       "      <th>http://dbpedia.org/resource/Ivan_Akimov</th>\n",
       "      <td>0.882411</td>\n",
       "      <td>0.111641</td>\n",
       "      <td>0.417913</td>\n",
       "      <td>-0.163115</td>\n",
       "      <td>0.35656</td>\n",
       "      <td>0.50402</td>\n",
       "      <td>-0.703461</td>\n",
       "      <td>0.53223</td>\n",
       "      <td>-0.547207</td>\n",
       "      <td>-0.846148</td>\n",
       "      <td>...</td>\n",
       "      <td>0.629632</td>\n",
       "      <td>0.557856</td>\n",
       "      <td>-0.550852</td>\n",
       "      <td>-0.617036</td>\n",
       "      <td>0.515044</td>\n",
       "      <td>-0.61316</td>\n",
       "      <td>0.321389</td>\n",
       "      <td>-0.354875</td>\n",
       "      <td>0.856982</td>\n",
       "      <td>-0.933014</td>\n",
       "    </tr>\n",
       "  </tbody>\n",
       "</table>\n",
       "<p>1 rows × 64 columns</p>\n",
       "</div>"
      ],
      "text/plain": [
       "                                         neuron_1  neuron_2  neuron_3  \\\n",
       "http://dbpedia.org/resource/Ivan_Akimov  0.882411  0.111641  0.417913   \n",
       "\n",
       "                                         neuron_4  neuron_5  neuron_6  \\\n",
       "http://dbpedia.org/resource/Ivan_Akimov -0.163115   0.35656   0.50402   \n",
       "\n",
       "                                         neuron_7  neuron_8  neuron_9  \\\n",
       "http://dbpedia.org/resource/Ivan_Akimov -0.703461   0.53223 -0.547207   \n",
       "\n",
       "                                         neuron_10  ...  neuron_55  neuron_56  \\\n",
       "http://dbpedia.org/resource/Ivan_Akimov  -0.846148  ...   0.629632   0.557856   \n",
       "\n",
       "                                         neuron_57  neuron_58  neuron_59  \\\n",
       "http://dbpedia.org/resource/Ivan_Akimov  -0.550852  -0.617036   0.515044   \n",
       "\n",
       "                                         neuron_60  neuron_61  neuron_62  \\\n",
       "http://dbpedia.org/resource/Ivan_Akimov   -0.61316   0.321389  -0.354875   \n",
       "\n",
       "                                         neuron_63  neuron_64  \n",
       "http://dbpedia.org/resource/Ivan_Akimov   0.856982  -0.933014  \n",
       "\n",
       "[1 rows x 64 columns]"
      ]
     },
     "execution_count": 74,
     "metadata": {},
     "output_type": "execute_result"
    }
   ],
   "source": [
    "df_act_sample"
   ]
  },
  {
   "cell_type": "code",
   "execution_count": 75,
   "id": "2c0f1e5b",
   "metadata": {},
   "outputs": [
    {
     "data": {
      "image/png": "[encoded data removed]",
      "text/plain": [
       "<Figure size 1080x432 with 2 Axes>"
      ]
     },
     "metadata": {
      "needs_background": "light"
     },
     "output_type": "display_data"
    }
   ],
   "source": [
    "plot_activ(df=pd.DataFrame(dfb['sample']).T, df2=pd.DataFrame(dfb['new_value']).T, df3=pd.DataFrame(dfb['cat']).T)"
   ]
  },
  {
   "cell_type": "markdown",
   "id": "0218f13f",
   "metadata": {},
   "source": [
    "We see on the visualization above that the second df (i.e. the new value) has became much closer"
   ]
  },
  {
   "cell_type": "markdown",
   "id": "ec3ab1de",
   "metadata": {},
   "source": [
    "### Re-build the back of the model and make a prediction"
   ]
  },
  {
   "cell_type": "code",
   "execution_count": 76,
   "id": "9b1c4296",
   "metadata": {},
   "outputs": [
    {
     "name": "stdout",
     "output_type": "stream",
     "text": [
      "Model: \"sequential\"\n",
      "_________________________________________________________________\n",
      " Layer (type)                Output Shape              Param #   \n",
      "=================================================================\n",
      " embedding (Embedding)       (None, 150, 64)           640000    \n",
      "                                                                 \n",
      " lstm (LSTM)                 (None, 16)                5184      \n",
      "                                                                 \n",
      " dense (Dense)               (None, 8)                 136       \n",
      "                                                                 \n",
      " dropout (Dropout)           (None, 8)                 0         \n",
      "                                                                 \n",
      " dense_1 (Dense)             (None, 4)                 36        \n",
      "                                                                 \n",
      " dense_2 (Dense)             (None, 1)                 5         \n",
      "                                                                 \n",
      "=================================================================\n",
      "Total params: 645,361\n",
      "Trainable params: 645,361\n",
      "Non-trainable params: 0\n",
      "_________________________________________________________________\n"
     ]
    }
   ],
   "source": [
    "model.summary()"
   ]
  },
  {
   "cell_type": "markdown",
   "id": "8782bddd",
   "metadata": {},
   "source": [
    "Instead of re-building the model as we did to get activations of each layer, we want to build the part after the layer we are getting closer the activations of.\n",
    "\n",
    "Thus, new computed activations become the inputs for the rest of the model."
   ]
  },
  {
   "cell_type": "code",
   "execution_count": 77,
   "id": "398b3166",
   "metadata": {},
   "outputs": [
    {
     "name": "stdout",
     "output_type": "stream",
     "text": [
      "Adding lstm ...\n",
      "Adding dense ...\n",
      "Adding dropout ...\n",
      "Adding dense_1 ...\n",
      "Adding dense_2 ...\n"
     ]
    }
   ],
   "source": [
    "rest_model = Sequential()\n",
    "for i in range(layer_to_explore + 1, len(model.layers)):\n",
    "    print(\"Adding\", model.layers[i].name, \"...\")\n",
    "    rest_model.add(model.layers[i])\n",
    "\n",
    "rest_model.build(input_shape=rest_model.layers[0].input_shape)"
   ]
  },
  {
   "cell_type": "code",
   "execution_count": 78,
   "id": "64a9177a",
   "metadata": {},
   "outputs": [
    {
     "name": "stdout",
     "output_type": "stream",
     "text": [
      "Model: \"sequential_1\"\n",
      "_________________________________________________________________\n",
      " Layer (type)                Output Shape              Param #   \n",
      "=================================================================\n",
      " lstm (LSTM)                 (None, 16)                5184      \n",
      "                                                                 \n",
      " dense (Dense)               (None, 8)                 136       \n",
      "                                                                 \n",
      " dropout (Dropout)           (None, 8)                 0         \n",
      "                                                                 \n",
      " dense_1 (Dense)             (None, 4)                 36        \n",
      "                                                                 \n",
      " dense_2 (Dense)             (None, 1)                 5         \n",
      "                                                                 \n",
      "=================================================================\n",
      "Total params: 5,361\n",
      "Trainable params: 5,361\n",
      "Non-trainable params: 0\n",
      "_________________________________________________________________\n"
     ]
    }
   ],
   "source": [
    "rest_model.summary()"
   ]
  },
  {
   "cell_type": "code",
   "execution_count": 97,
   "id": "2bd7d621",
   "metadata": {},
   "outputs": [
    {
     "data": {
      "text/plain": [
       "neuron_1     0.882411\n",
       "neuron_2     0.048575\n",
       "neuron_3     0.345121\n",
       "neuron_4    -0.107702\n",
       "neuron_5     0.243326\n",
       "               ...   \n",
       "neuron_60    -0.61316\n",
       "neuron_61    0.263929\n",
       "neuron_62   -0.277621\n",
       "neuron_63    0.856982\n",
       "neuron_64   -0.866725\n",
       "Name: new_value, Length: 64, dtype: object"
      ]
     },
     "execution_count": 97,
     "metadata": {},
     "output_type": "execute_result"
    }
   ],
   "source": [
    "new_activations = dfb['new_value']\n",
    "new_activations"
   ]
  },
  {
   "cell_type": "code",
   "execution_count": 99,
   "id": "24e82664",
   "metadata": {},
   "outputs": [
    {
     "data": {
      "text/plain": [
       "array([ 0.88241118,  0.04857468,  0.34512128, -0.10770247,  0.24332594,\n",
       "        0.50735849, -0.70346075,  0.45830293, -0.54720724, -0.78537109,\n",
       "       -0.78387866,  0.5432263 , -0.26169384, -0.57514858, -0.38949431,\n",
       "       -0.34646819, -0.49843061,  1.42765815, -0.83635348, -0.51056699,\n",
       "       -1.1855036 , -0.78901079,  0.32531077, -0.55489303, -0.32095462,\n",
       "        0.57935262, -0.87513306,  0.75807828, -0.68390405, -0.18264674,\n",
       "       -0.8614262 , -0.09071518,  0.446905  , -1.00346449,  0.3763451 ,\n",
       "       -0.55416018,  0.2800007 , -0.50354344,  0.66007471, -0.3767778 ,\n",
       "       -0.86882876,  0.88966267,  0.09331503,  0.72727358, -0.87342465,\n",
       "        0.61644107,  1.29512726, -0.09484256, -0.60385191, -0.98373384,\n",
       "       -1.25320709, -0.43980434,  0.08588514,  1.23785181,  0.62963247,\n",
       "        0.55785608, -0.47369219, -0.61703557,  0.432691  , -0.61315989,\n",
       "        0.26392929, -0.27762113,  0.85698235, -0.86672487])"
      ]
     },
     "execution_count": 99,
     "metadata": {},
     "output_type": "execute_result"
    }
   ],
   "source": [
    "np.array([np.array(x) for x in new_activations])"
   ]
  },
  {
   "cell_type": "markdown",
   "id": "93424b36",
   "metadata": {},
   "source": [
    "### Testing with original model"
   ]
  },
  {
   "cell_type": "code",
   "execution_count": 92,
   "id": "8ffa0067",
   "metadata": {},
   "outputs": [
    {
     "data": {
      "text/plain": [
       "array([[   0,    0,    0,    0,    0,    0,    0,    0,    0,    0,    0,\n",
       "           0,    0,    0,    0,    0,    0,    0,    0,    0,    0,    0,\n",
       "           0,    0,    0,    0,    0,    0,    0,    0,    0,    0,    0,\n",
       "           0,    0,    0,    0,    0,    0,    0,    0,    0,    0,    0,\n",
       "           0,    0,    0,    0,    0,    0,    0,    0,    0,    0,    0,\n",
       "           0,    0,    0,    0,    0,    0,    0,    0,    0,    0,    0,\n",
       "           0,    0,    0,    0,    0,    0,    0,    0,    0,    0,    0,\n",
       "           0,    0,    0,    0,    0,    0,    0,    0,    0,    0,    0,\n",
       "           0,    0,    0,    0,    0,    0,    0,    0,    0,    0,    0,\n",
       "           0,    0,    0,    0,    0,    0,    0,    0,    0,    0,    0,\n",
       "           0,    0,    0,    0,    0,    0,    0,    0,    0,    0,    0,\n",
       "           0,    0,    0,    0,    0,    0,    0,    0,    0,    0,    0,\n",
       "           0,    0,    0,    0,    0,  847,   19, 5433,   24,  149,  181,\n",
       "          24,  149,  181,   19,    1,  493,   31]])"
      ]
     },
     "execution_count": 92,
     "metadata": {},
     "output_type": "execute_result"
    }
   ],
   "source": [
    "inputs = np.array([np.array(x) for x in wdf[wdf.index == sample.index[0]].input])\n",
    "inputs"
   ]
  },
  {
   "cell_type": "code",
   "execution_count": 93,
   "id": "f9fbfae7",
   "metadata": {},
   "outputs": [
    {
     "name": "stdout",
     "output_type": "stream",
     "text": [
      "1/1 [==============================] - 1s 1s/step\n"
     ]
    },
    {
     "data": {
      "text/plain": [
       "array([[0.6142337]], dtype=float32)"
      ]
     },
     "execution_count": 93,
     "metadata": {},
     "output_type": "execute_result"
    }
   ],
   "source": [
    "model.predict(inputs)"
   ]
  },
  {
   "cell_type": "code",
   "execution_count": 95,
   "id": "7946a998",
   "metadata": {},
   "outputs": [
    {
     "data": {
      "text/plain": [
       "neuron_1     0.882411\n",
       "neuron_2     0.048575\n",
       "neuron_3     0.345121\n",
       "neuron_4    -0.107702\n",
       "neuron_5     0.243326\n",
       "               ...   \n",
       "neuron_60    -0.61316\n",
       "neuron_61    0.263929\n",
       "neuron_62   -0.277621\n",
       "neuron_63    0.856982\n",
       "neuron_64   -0.866725\n",
       "Name: new_value, Length: 64, dtype: object"
      ]
     },
     "execution_count": 95,
     "metadata": {},
     "output_type": "execute_result"
    }
   ],
   "source": [
    "new_activations"
   ]
  },
  {
   "cell_type": "code",
   "execution_count": 103,
   "id": "93ebcd38",
   "metadata": {},
   "outputs": [],
   "source": [
    "# Re-creating a model\n",
    "nm = Sequential()\n",
    "nm.add(model.layers[0])"
   ]
  },
  {
   "cell_type": "code",
   "execution_count": 104,
   "id": "e813a968",
   "metadata": {},
   "outputs": [
    {
     "name": "stdout",
     "output_type": "stream",
     "text": [
      "1/1 [==============================] - 0s 102ms/step\n"
     ]
    }
   ],
   "source": [
    "# Predicting according to this new created model\n",
    "na = nm.predict(inputs)"
   ]
  },
  {
   "cell_type": "code",
   "execution_count": 110,
   "id": "a15dd685",
   "metadata": {},
   "outputs": [],
   "source": [
    "# recompose the \"back\" of the model\n",
    "bm = Sequential()\n",
    "for i in range(1, len(model.layers)):\n",
    "    bm.add(model.layers[i])"
   ]
  },
  {
   "cell_type": "code",
   "execution_count": 111,
   "id": "7871dc5a",
   "metadata": {},
   "outputs": [
    {
     "name": "stdout",
     "output_type": "stream",
     "text": [
      "1/1 [==============================] - 2s 2s/step\n"
     ]
    },
    {
     "data": {
      "text/plain": [
       "array([[0.6142337]], dtype=float32)"
      ]
     },
     "execution_count": 111,
     "metadata": {},
     "output_type": "execute_result"
    }
   ],
   "source": [
    "# and then re-predict\n",
    "bm.predict(na)"
   ]
  },
  {
   "cell_type": "code",
   "execution_count": 112,
   "id": "42521557",
   "metadata": {},
   "outputs": [
    {
     "ename": "ValueError",
     "evalue": "Failed to convert a NumPy array to a Tensor (Unsupported object type float).",
     "output_type": "error",
     "traceback": [
      "\u001b[1;31m---------------------------------------------------------------------------\u001b[0m",
      "\u001b[1;31mValueError\u001b[0m                                Traceback (most recent call last)",
      "\u001b[1;32m~\\AppData\\Local\\Temp/ipykernel_12388/3910825090.py\u001b[0m in \u001b[0;36m<module>\u001b[1;34m\u001b[0m\n\u001b[1;32m----> 1\u001b[1;33m \u001b[0mbm\u001b[0m\u001b[1;33m.\u001b[0m\u001b[0mpredict\u001b[0m\u001b[1;33m(\u001b[0m\u001b[0mnew_activations\u001b[0m\u001b[1;33m)\u001b[0m\u001b[1;33m\u001b[0m\u001b[1;33m\u001b[0m\u001b[0m\n\u001b[0m",
      "\u001b[1;32mD:\\users\\maxim\\anaconda3\\envs\\rnn-films\\lib\\site-packages\\keras\\utils\\traceback_utils.py\u001b[0m in \u001b[0;36merror_handler\u001b[1;34m(*args, **kwargs)\u001b[0m\n\u001b[0;32m     65\u001b[0m     \u001b[1;32mexcept\u001b[0m \u001b[0mException\u001b[0m \u001b[1;32mas\u001b[0m \u001b[0me\u001b[0m\u001b[1;33m:\u001b[0m  \u001b[1;31m# pylint: disable=broad-except\u001b[0m\u001b[1;33m\u001b[0m\u001b[1;33m\u001b[0m\u001b[0m\n\u001b[0;32m     66\u001b[0m       \u001b[0mfiltered_tb\u001b[0m \u001b[1;33m=\u001b[0m \u001b[0m_process_traceback_frames\u001b[0m\u001b[1;33m(\u001b[0m\u001b[0me\u001b[0m\u001b[1;33m.\u001b[0m\u001b[0m__traceback__\u001b[0m\u001b[1;33m)\u001b[0m\u001b[1;33m\u001b[0m\u001b[1;33m\u001b[0m\u001b[0m\n\u001b[1;32m---> 67\u001b[1;33m       \u001b[1;32mraise\u001b[0m \u001b[0me\u001b[0m\u001b[1;33m.\u001b[0m\u001b[0mwith_traceback\u001b[0m\u001b[1;33m(\u001b[0m\u001b[0mfiltered_tb\u001b[0m\u001b[1;33m)\u001b[0m \u001b[1;32mfrom\u001b[0m \u001b[1;32mNone\u001b[0m\u001b[1;33m\u001b[0m\u001b[1;33m\u001b[0m\u001b[0m\n\u001b[0m\u001b[0;32m     68\u001b[0m     \u001b[1;32mfinally\u001b[0m\u001b[1;33m:\u001b[0m\u001b[1;33m\u001b[0m\u001b[1;33m\u001b[0m\u001b[0m\n\u001b[0;32m     69\u001b[0m       \u001b[1;32mdel\u001b[0m \u001b[0mfiltered_tb\u001b[0m\u001b[1;33m\u001b[0m\u001b[1;33m\u001b[0m\u001b[0m\n",
      "\u001b[1;32mD:\\users\\maxim\\anaconda3\\envs\\rnn-films\\lib\\site-packages\\tensorflow\\python\\framework\\constant_op.py\u001b[0m in \u001b[0;36mconvert_to_eager_tensor\u001b[1;34m(value, ctx, dtype)\u001b[0m\n\u001b[0;32m    100\u001b[0m       \u001b[0mdtype\u001b[0m \u001b[1;33m=\u001b[0m \u001b[0mdtypes\u001b[0m\u001b[1;33m.\u001b[0m\u001b[0mas_dtype\u001b[0m\u001b[1;33m(\u001b[0m\u001b[0mdtype\u001b[0m\u001b[1;33m)\u001b[0m\u001b[1;33m.\u001b[0m\u001b[0mas_datatype_enum\u001b[0m\u001b[1;33m\u001b[0m\u001b[1;33m\u001b[0m\u001b[0m\n\u001b[0;32m    101\u001b[0m   \u001b[0mctx\u001b[0m\u001b[1;33m.\u001b[0m\u001b[0mensure_initialized\u001b[0m\u001b[1;33m(\u001b[0m\u001b[1;33m)\u001b[0m\u001b[1;33m\u001b[0m\u001b[1;33m\u001b[0m\u001b[0m\n\u001b[1;32m--> 102\u001b[1;33m   \u001b[1;32mreturn\u001b[0m \u001b[0mops\u001b[0m\u001b[1;33m.\u001b[0m\u001b[0mEagerTensor\u001b[0m\u001b[1;33m(\u001b[0m\u001b[0mvalue\u001b[0m\u001b[1;33m,\u001b[0m \u001b[0mctx\u001b[0m\u001b[1;33m.\u001b[0m\u001b[0mdevice_name\u001b[0m\u001b[1;33m,\u001b[0m \u001b[0mdtype\u001b[0m\u001b[1;33m)\u001b[0m\u001b[1;33m\u001b[0m\u001b[1;33m\u001b[0m\u001b[0m\n\u001b[0m\u001b[0;32m    103\u001b[0m \u001b[1;33m\u001b[0m\u001b[0m\n\u001b[0;32m    104\u001b[0m \u001b[1;33m\u001b[0m\u001b[0m\n",
      "\u001b[1;31mValueError\u001b[0m: Failed to convert a NumPy array to a Tensor (Unsupported object type float)."
     ]
    }
   ],
   "source": [
    "bm.predict(new_activations)"
   ]
  },
  {
   "cell_type": "code",
   "execution_count": null,
   "id": "8badbf0f",
   "metadata": {},
   "outputs": [],
   "source": []
  }
 ],
 "metadata": {
  "kernelspec": {
   "display_name": "rnn-films",
   "language": "python",
   "name": "rnn-films"
  },
  "language_info": {
   "codemirror_mode": {
    "name": "ipython",
    "version": 3
   },
   "file_extension": ".py",
   "mimetype": "text/x-python",
   "name": "python",
   "nbconvert_exporter": "python",
   "pygments_lexer": "ipython3",
   "version": "3.9.7"
  }
 },
 "nbformat": 4,
 "nbformat_minor": 5
}
