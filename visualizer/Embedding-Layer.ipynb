{
 "cells": [
  {
   "cell_type": "markdown",
   "id": "454e8ea2",
   "metadata": {
    "pycharm": {
     "name": "#%% md\n"
    }
   },
   "source": [
    "# Understand Embedding layer"
   ]
  },
  {
   "cell_type": "markdown",
   "id": "746d7139",
   "metadata": {
    "pycharm": {
     "name": "#%% md\n"
    }
   },
   "source": [
    "## Reformatting embedding activations shape\n",
    "\n",
    "Using flatten and reshape"
   ]
  },
  {
   "cell_type": "code",
   "execution_count": 1,
   "id": "ccb73b1f",
   "metadata": {
    "pycharm": {
     "name": "#%%\n"
    }
   },
   "outputs": [],
   "source": [
    "import keras\n",
    "import pandas as pd\n",
    "\n",
    "from keras.models import Sequential\n",
    "from keras.layers import *"
   ]
  },
  {
   "cell_type": "code",
   "execution_count": 2,
   "id": "a8f735a9",
   "metadata": {
    "pycharm": {
     "name": "#%%\n"
    }
   },
   "outputs": [
    {
     "name": "stdout",
     "output_type": "stream",
     "text": [
      "Model: \"sequential\"\n",
      "_________________________________________________________________\n",
      " Layer (type)                Output Shape              Param #   \n",
      "=================================================================\n",
      " embedding (Embedding)       (None, 100, 64)           640000    \n",
      "                                                                 \n",
      "=================================================================\n",
      "Total params: 640,000\n",
      "Trainable params: 640,000\n",
      "Non-trainable params: 0\n",
      "_________________________________________________________________\n"
     ]
    }
   ],
   "source": [
    "model = keras.models.load_model('./models/bycountry_model')\n",
    "new_model = Sequential()\n",
    "new_model.add(model.layers[0])\n",
    "new_model.summary()"
   ]
  },
  {
   "cell_type": "code",
   "execution_count": 3,
   "id": "26baf37f",
   "metadata": {
    "pycharm": {
     "name": "#%%\n"
    }
   },
   "outputs": [
    {
     "data": {
      "text/html": [
       "<div>\n",
       "<style scoped>\n",
       "    .dataframe tbody tr th:only-of-type {\n",
       "        vertical-align: middle;\n",
       "    }\n",
       "\n",
       "    .dataframe tbody tr th {\n",
       "        vertical-align: top;\n",
       "    }\n",
       "\n",
       "    .dataframe thead th {\n",
       "        text-align: right;\n",
       "    }\n",
       "</style>\n",
       "<table border=\"1\" class=\"dataframe\">\n",
       "  <thead>\n",
       "    <tr style=\"text-align: right;\">\n",
       "      <th></th>\n",
       "      <th>category</th>\n",
       "      <th>input</th>\n",
       "      <th>output_low</th>\n",
       "      <th>output_medium</th>\n",
       "      <th>output_high</th>\n",
       "    </tr>\n",
       "  </thead>\n",
       "  <tbody>\n",
       "    <tr>\n",
       "      <th>http://dbpedia.org/resource/...All_the_Marbles</th>\n",
       "      <td>[United States]</td>\n",
       "      <td>[0, 0, 0, 0, 0, 0, 0, 0, 0, 0, 0, 0, 0, 0, 0, ...</td>\n",
       "      <td>0</td>\n",
       "      <td>1</td>\n",
       "      <td>0</td>\n",
       "    </tr>\n",
       "    <tr>\n",
       "      <th>http://dbpedia.org/resource/An_Eye_for_an_Eye_(1981_film)</th>\n",
       "      <td>[United States]</td>\n",
       "      <td>[0, 0, 0, 0, 0, 0, 0, 0, 0, 0, 0, 0, 0, 0, 0, ...</td>\n",
       "      <td>0</td>\n",
       "      <td>1</td>\n",
       "      <td>0</td>\n",
       "    </tr>\n",
       "    <tr>\n",
       "      <th>http://dbpedia.org/resource/Brain_Dead_(1990_film)</th>\n",
       "      <td>[United States]</td>\n",
       "      <td>[0, 0, 0, 0, 0, 0, 0, 0, 0, 0, 0, 0, 0, 0, 0, ...</td>\n",
       "      <td>0</td>\n",
       "      <td>1</td>\n",
       "      <td>0</td>\n",
       "    </tr>\n",
       "    <tr>\n",
       "      <th>http://dbpedia.org/resource/For_Pete's_Sake_(film)</th>\n",
       "      <td>[United States]</td>\n",
       "      <td>[0, 0, 0, 0, 0, 0, 0, 0, 0, 0, 0, 0, 0, 0, 0, ...</td>\n",
       "      <td>0</td>\n",
       "      <td>1</td>\n",
       "      <td>0</td>\n",
       "    </tr>\n",
       "    <tr>\n",
       "      <th>http://dbpedia.org/resource/Hannah_Montana:_The_Movie</th>\n",
       "      <td>[United States]</td>\n",
       "      <td>[25, 6677, 48, 2, 138, 5, 331, 1, 7, 25, 6983,...</td>\n",
       "      <td>0</td>\n",
       "      <td>0</td>\n",
       "      <td>1</td>\n",
       "    </tr>\n",
       "  </tbody>\n",
       "</table>\n",
       "</div>"
      ],
      "text/plain": [
       "                                                           category  \\\n",
       "http://dbpedia.org/resource/...All_the_Marbles      [United States]   \n",
       "http://dbpedia.org/resource/An_Eye_for_an_Eye_(...  [United States]   \n",
       "http://dbpedia.org/resource/Brain_Dead_(1990_film)  [United States]   \n",
       "http://dbpedia.org/resource/For_Pete's_Sake_(film)  [United States]   \n",
       "http://dbpedia.org/resource/Hannah_Montana:_The...  [United States]   \n",
       "\n",
       "                                                                                                input  \\\n",
       "http://dbpedia.org/resource/...All_the_Marbles      [0, 0, 0, 0, 0, 0, 0, 0, 0, 0, 0, 0, 0, 0, 0, ...   \n",
       "http://dbpedia.org/resource/An_Eye_for_an_Eye_(...  [0, 0, 0, 0, 0, 0, 0, 0, 0, 0, 0, 0, 0, 0, 0, ...   \n",
       "http://dbpedia.org/resource/Brain_Dead_(1990_film)  [0, 0, 0, 0, 0, 0, 0, 0, 0, 0, 0, 0, 0, 0, 0, ...   \n",
       "http://dbpedia.org/resource/For_Pete's_Sake_(film)  [0, 0, 0, 0, 0, 0, 0, 0, 0, 0, 0, 0, 0, 0, 0, ...   \n",
       "http://dbpedia.org/resource/Hannah_Montana:_The...  [25, 6677, 48, 2, 138, 5, 331, 1, 7, 25, 6983,...   \n",
       "\n",
       "                                                    output_low  output_medium  \\\n",
       "http://dbpedia.org/resource/...All_the_Marbles               0              1   \n",
       "http://dbpedia.org/resource/An_Eye_for_an_Eye_(...           0              1   \n",
       "http://dbpedia.org/resource/Brain_Dead_(1990_film)           0              1   \n",
       "http://dbpedia.org/resource/For_Pete's_Sake_(film)           0              1   \n",
       "http://dbpedia.org/resource/Hannah_Montana:_The...           0              0   \n",
       "\n",
       "                                                    output_high  \n",
       "http://dbpedia.org/resource/...All_the_Marbles                0  \n",
       "http://dbpedia.org/resource/An_Eye_for_an_Eye_(...            0  \n",
       "http://dbpedia.org/resource/Brain_Dead_(1990_film)            0  \n",
       "http://dbpedia.org/resource/For_Pete's_Sake_(film)            0  \n",
       "http://dbpedia.org/resource/Hannah_Montana:_The...            1  "
      ]
     },
     "execution_count": 3,
     "metadata": {},
     "output_type": "execute_result"
    }
   ],
   "source": [
    "df = pd.read_json('./data/bycountry_ds.json')\n",
    "df.head()"
   ]
  },
  {
   "cell_type": "code",
   "execution_count": null,
   "outputs": [],
   "source": [
    "category = \"France\"\n",
    "dfc = df[df.category.apply(lambda x: category in x)]\n",
    "dfc.shape"
   ],
   "metadata": {
    "collapsed": false,
    "pycharm": {
     "name": "#%%\n"
    }
   }
  },
  {
   "cell_type": "code",
   "execution_count": null,
   "outputs": [],
   "source": [
    "inputs = [x for x in dfc.input]\n",
    "activations = new_model.predict(inputs)\n",
    "activations.shape"
   ],
   "metadata": {
    "collapsed": false,
    "pycharm": {
     "name": "#%%\n"
    }
   }
  },
  {
   "cell_type": "code",
   "execution_count": null,
   "outputs": [],
   "source": [
    "flatten_activations = activations.flatten()\n",
    "flatten_activations.shape"
   ],
   "metadata": {
    "collapsed": false,
    "pycharm": {
     "name": "#%%\n"
    }
   }
  },
  {
   "cell_type": "code",
   "execution_count": null,
   "outputs": [],
   "source": [
    "activations = flatten_activations.reshape(64, -1)"
   ],
   "metadata": {
    "collapsed": false,
    "pycharm": {
     "name": "#%%\n"
    }
   }
  },
  {
   "cell_type": "code",
   "execution_count": null,
   "outputs": [],
   "source": [
    "emb_activations = pd.DataFrame(activations)\n",
    "emb_activations.shape"
   ],
   "metadata": {
    "collapsed": false,
    "pycharm": {
     "name": "#%%\n"
    }
   }
  },
  {
   "cell_type": "code",
   "execution_count": null,
   "outputs": [],
   "source": [
    "emb_activations"
   ],
   "metadata": {
    "collapsed": false,
    "pycharm": {
     "name": "#%%\n"
    }
   }
  },
  {
   "cell_type": "code",
   "execution_count": null,
   "outputs": [],
   "source": [
    "import seaborn as sns\n",
    "import matplotlib.pyplot as plt"
   ],
   "metadata": {
    "collapsed": false,
    "pycharm": {
     "name": "#%%\n"
    }
   }
  },
  {
   "cell_type": "code",
   "execution_count": null,
   "outputs": [],
   "source": [
    "plt.figure(figsize=(7,7))\n",
    "sns.heatmap(emb_activations.T)\n",
    "plt.show()"
   ],
   "metadata": {
    "collapsed": false,
    "pycharm": {
     "name": "#%%\n"
    }
   }
  },
  {
   "cell_type": "code",
   "execution_count": 18,
   "id": "71fc4f5f",
   "metadata": {
    "pycharm": {
     "name": "#%%\n"
    }
   },
   "outputs": [
    {
     "data": {
      "text/plain": [
       "(64, 172500)"
      ]
     },
     "execution_count": 18,
     "metadata": {},
     "output_type": "execute_result"
    }
   ],
   "source": [
    "emb_activations = pd.DataFrame(activations)\n",
    "emb_activations.shape"
   ]
  },
  {
   "cell_type": "code",
   "execution_count": 19,
   "id": "44dbc82d",
   "metadata": {
    "pycharm": {
     "name": "#%%\n"
    }
   },
   "outputs": [
    {
     "data": {
      "text/html": [
       "<div>\n",
       "<style scoped>\n",
       "    .dataframe tbody tr th:only-of-type {\n",
       "        vertical-align: middle;\n",
       "    }\n",
       "\n",
       "    .dataframe tbody tr th {\n",
       "        vertical-align: top;\n",
       "    }\n",
       "\n",
       "    .dataframe thead th {\n",
       "        text-align: right;\n",
       "    }\n",
       "</style>\n",
       "<table border=\"1\" class=\"dataframe\">\n",
       "  <thead>\n",
       "    <tr style=\"text-align: right;\">\n",
       "      <th></th>\n",
       "      <th>0</th>\n",
       "      <th>1</th>\n",
       "      <th>2</th>\n",
       "      <th>3</th>\n",
       "      <th>4</th>\n",
       "      <th>5</th>\n",
       "      <th>6</th>\n",
       "      <th>7</th>\n",
       "      <th>8</th>\n",
       "      <th>9</th>\n",
       "      <th>...</th>\n",
       "      <th>172490</th>\n",
       "      <th>172491</th>\n",
       "      <th>172492</th>\n",
       "      <th>172493</th>\n",
       "      <th>172494</th>\n",
       "      <th>172495</th>\n",
       "      <th>172496</th>\n",
       "      <th>172497</th>\n",
       "      <th>172498</th>\n",
       "      <th>172499</th>\n",
       "    </tr>\n",
       "  </thead>\n",
       "  <tbody>\n",
       "    <tr>\n",
       "      <th>0</th>\n",
       "      <td>0.039747</td>\n",
       "      <td>-0.019695</td>\n",
       "      <td>-0.034212</td>\n",
       "      <td>0.013875</td>\n",
       "      <td>-0.006768</td>\n",
       "      <td>-0.027497</td>\n",
       "      <td>-0.002492</td>\n",
       "      <td>0.006977</td>\n",
       "      <td>-0.012125</td>\n",
       "      <td>-0.005127</td>\n",
       "      <td>...</td>\n",
       "      <td>0.026994</td>\n",
       "      <td>-0.027270</td>\n",
       "      <td>0.044301</td>\n",
       "      <td>-0.003282</td>\n",
       "      <td>0.009113</td>\n",
       "      <td>-0.031883</td>\n",
       "      <td>0.012122</td>\n",
       "      <td>0.012199</td>\n",
       "      <td>-0.034591</td>\n",
       "      <td>-0.044724</td>\n",
       "    </tr>\n",
       "    <tr>\n",
       "      <th>1</th>\n",
       "      <td>0.004136</td>\n",
       "      <td>-0.044069</td>\n",
       "      <td>-0.026330</td>\n",
       "      <td>0.014334</td>\n",
       "      <td>0.006262</td>\n",
       "      <td>-0.035856</td>\n",
       "      <td>0.052555</td>\n",
       "      <td>0.000620</td>\n",
       "      <td>-0.003319</td>\n",
       "      <td>0.020689</td>\n",
       "      <td>...</td>\n",
       "      <td>0.041110</td>\n",
       "      <td>-0.007890</td>\n",
       "      <td>0.079234</td>\n",
       "      <td>0.132065</td>\n",
       "      <td>-0.060945</td>\n",
       "      <td>-0.045183</td>\n",
       "      <td>0.019824</td>\n",
       "      <td>-0.017475</td>\n",
       "      <td>0.054438</td>\n",
       "      <td>0.061667</td>\n",
       "    </tr>\n",
       "    <tr>\n",
       "      <th>2</th>\n",
       "      <td>0.107482</td>\n",
       "      <td>0.045187</td>\n",
       "      <td>-0.065456</td>\n",
       "      <td>0.014599</td>\n",
       "      <td>-0.056629</td>\n",
       "      <td>-0.033741</td>\n",
       "      <td>0.007268</td>\n",
       "      <td>-0.117252</td>\n",
       "      <td>-0.029265</td>\n",
       "      <td>-0.016739</td>\n",
       "      <td>...</td>\n",
       "      <td>0.100185</td>\n",
       "      <td>0.017599</td>\n",
       "      <td>-0.063055</td>\n",
       "      <td>-0.010288</td>\n",
       "      <td>0.082297</td>\n",
       "      <td>0.063710</td>\n",
       "      <td>-0.050840</td>\n",
       "      <td>-0.010801</td>\n",
       "      <td>0.016340</td>\n",
       "      <td>-0.041572</td>\n",
       "    </tr>\n",
       "    <tr>\n",
       "      <th>3</th>\n",
       "      <td>0.010063</td>\n",
       "      <td>-0.029014</td>\n",
       "      <td>0.034668</td>\n",
       "      <td>-0.083912</td>\n",
       "      <td>-0.040217</td>\n",
       "      <td>-0.035804</td>\n",
       "      <td>-0.005709</td>\n",
       "      <td>-0.017026</td>\n",
       "      <td>-0.015348</td>\n",
       "      <td>0.018394</td>\n",
       "      <td>...</td>\n",
       "      <td>-0.053193</td>\n",
       "      <td>-0.092224</td>\n",
       "      <td>0.029536</td>\n",
       "      <td>0.117636</td>\n",
       "      <td>0.030297</td>\n",
       "      <td>0.036010</td>\n",
       "      <td>-0.034745</td>\n",
       "      <td>-0.001071</td>\n",
       "      <td>-0.009003</td>\n",
       "      <td>-0.018248</td>\n",
       "    </tr>\n",
       "    <tr>\n",
       "      <th>4</th>\n",
       "      <td>0.025833</td>\n",
       "      <td>0.035687</td>\n",
       "      <td>-0.005509</td>\n",
       "      <td>0.015895</td>\n",
       "      <td>-0.019848</td>\n",
       "      <td>-0.051991</td>\n",
       "      <td>-0.033430</td>\n",
       "      <td>-0.057455</td>\n",
       "      <td>0.053400</td>\n",
       "      <td>-0.001698</td>\n",
       "      <td>...</td>\n",
       "      <td>0.025879</td>\n",
       "      <td>0.002695</td>\n",
       "      <td>-0.016780</td>\n",
       "      <td>-0.016574</td>\n",
       "      <td>-0.016934</td>\n",
       "      <td>0.017754</td>\n",
       "      <td>0.040748</td>\n",
       "      <td>-0.010469</td>\n",
       "      <td>0.015730</td>\n",
       "      <td>0.055091</td>\n",
       "    </tr>\n",
       "    <tr>\n",
       "      <th>...</th>\n",
       "      <td>...</td>\n",
       "      <td>...</td>\n",
       "      <td>...</td>\n",
       "      <td>...</td>\n",
       "      <td>...</td>\n",
       "      <td>...</td>\n",
       "      <td>...</td>\n",
       "      <td>...</td>\n",
       "      <td>...</td>\n",
       "      <td>...</td>\n",
       "      <td>...</td>\n",
       "      <td>...</td>\n",
       "      <td>...</td>\n",
       "      <td>...</td>\n",
       "      <td>...</td>\n",
       "      <td>...</td>\n",
       "      <td>...</td>\n",
       "      <td>...</td>\n",
       "      <td>...</td>\n",
       "      <td>...</td>\n",
       "      <td>...</td>\n",
       "    </tr>\n",
       "    <tr>\n",
       "      <th>59</th>\n",
       "      <td>-0.016780</td>\n",
       "      <td>-0.016574</td>\n",
       "      <td>-0.016934</td>\n",
       "      <td>0.017754</td>\n",
       "      <td>0.040748</td>\n",
       "      <td>-0.010469</td>\n",
       "      <td>0.015730</td>\n",
       "      <td>0.055091</td>\n",
       "      <td>0.020319</td>\n",
       "      <td>0.002041</td>\n",
       "      <td>...</td>\n",
       "      <td>-0.330534</td>\n",
       "      <td>-0.013534</td>\n",
       "      <td>0.010805</td>\n",
       "      <td>0.017232</td>\n",
       "      <td>-0.007957</td>\n",
       "      <td>0.027219</td>\n",
       "      <td>-0.001712</td>\n",
       "      <td>0.005996</td>\n",
       "      <td>-0.013042</td>\n",
       "      <td>-0.003036</td>\n",
       "    </tr>\n",
       "    <tr>\n",
       "      <th>60</th>\n",
       "      <td>-0.011158</td>\n",
       "      <td>0.018347</td>\n",
       "      <td>-0.014151</td>\n",
       "      <td>-0.022551</td>\n",
       "      <td>-0.000939</td>\n",
       "      <td>-0.033253</td>\n",
       "      <td>-0.012630</td>\n",
       "      <td>0.002452</td>\n",
       "      <td>0.037097</td>\n",
       "      <td>-0.012935</td>\n",
       "      <td>...</td>\n",
       "      <td>0.038586</td>\n",
       "      <td>0.005274</td>\n",
       "      <td>0.073991</td>\n",
       "      <td>-0.000422</td>\n",
       "      <td>0.001140</td>\n",
       "      <td>0.085913</td>\n",
       "      <td>0.039747</td>\n",
       "      <td>-0.019695</td>\n",
       "      <td>-0.034212</td>\n",
       "      <td>0.013875</td>\n",
       "    </tr>\n",
       "    <tr>\n",
       "      <th>61</th>\n",
       "      <td>-0.006768</td>\n",
       "      <td>-0.027497</td>\n",
       "      <td>-0.002492</td>\n",
       "      <td>0.006977</td>\n",
       "      <td>-0.012125</td>\n",
       "      <td>-0.005127</td>\n",
       "      <td>0.009123</td>\n",
       "      <td>0.004264</td>\n",
       "      <td>-0.020737</td>\n",
       "      <td>-0.015645</td>\n",
       "      <td>...</td>\n",
       "      <td>-0.016899</td>\n",
       "      <td>-0.013940</td>\n",
       "      <td>0.000209</td>\n",
       "      <td>0.075470</td>\n",
       "      <td>0.021847</td>\n",
       "      <td>-0.020349</td>\n",
       "      <td>-0.022059</td>\n",
       "      <td>0.008599</td>\n",
       "      <td>0.055241</td>\n",
       "      <td>-0.004922</td>\n",
       "    </tr>\n",
       "    <tr>\n",
       "      <th>62</th>\n",
       "      <td>-0.016596</td>\n",
       "      <td>-0.022298</td>\n",
       "      <td>0.025879</td>\n",
       "      <td>0.002695</td>\n",
       "      <td>-0.016780</td>\n",
       "      <td>-0.016574</td>\n",
       "      <td>-0.016934</td>\n",
       "      <td>0.017754</td>\n",
       "      <td>0.040748</td>\n",
       "      <td>-0.010469</td>\n",
       "      <td>...</td>\n",
       "      <td>0.015730</td>\n",
       "      <td>0.055091</td>\n",
       "      <td>0.020319</td>\n",
       "      <td>0.002041</td>\n",
       "      <td>-0.330534</td>\n",
       "      <td>-0.013534</td>\n",
       "      <td>0.010805</td>\n",
       "      <td>0.017232</td>\n",
       "      <td>-0.007957</td>\n",
       "      <td>0.027219</td>\n",
       "    </tr>\n",
       "    <tr>\n",
       "      <th>63</th>\n",
       "      <td>-0.001712</td>\n",
       "      <td>0.005996</td>\n",
       "      <td>-0.013042</td>\n",
       "      <td>-0.003036</td>\n",
       "      <td>-0.011158</td>\n",
       "      <td>0.018347</td>\n",
       "      <td>-0.014151</td>\n",
       "      <td>-0.022551</td>\n",
       "      <td>-0.000939</td>\n",
       "      <td>-0.033253</td>\n",
       "      <td>...</td>\n",
       "      <td>-0.064414</td>\n",
       "      <td>0.034781</td>\n",
       "      <td>-0.007051</td>\n",
       "      <td>-0.026710</td>\n",
       "      <td>-0.094387</td>\n",
       "      <td>0.101973</td>\n",
       "      <td>0.080200</td>\n",
       "      <td>0.063762</td>\n",
       "      <td>-0.044022</td>\n",
       "      <td>0.016188</td>\n",
       "    </tr>\n",
       "  </tbody>\n",
       "</table>\n",
       "<p>64 rows × 172500 columns</p>\n",
       "</div>"
      ],
      "text/plain": [
       "      0         1         2         3         4         5         6       \\\n",
       "0   0.039747 -0.019695 -0.034212  0.013875 -0.006768 -0.027497 -0.002492   \n",
       "1   0.004136 -0.044069 -0.026330  0.014334  0.006262 -0.035856  0.052555   \n",
       "2   0.107482  0.045187 -0.065456  0.014599 -0.056629 -0.033741  0.007268   \n",
       "3   0.010063 -0.029014  0.034668 -0.083912 -0.040217 -0.035804 -0.005709   \n",
       "4   0.025833  0.035687 -0.005509  0.015895 -0.019848 -0.051991 -0.033430   \n",
       "..       ...       ...       ...       ...       ...       ...       ...   \n",
       "59 -0.016780 -0.016574 -0.016934  0.017754  0.040748 -0.010469  0.015730   \n",
       "60 -0.011158  0.018347 -0.014151 -0.022551 -0.000939 -0.033253 -0.012630   \n",
       "61 -0.006768 -0.027497 -0.002492  0.006977 -0.012125 -0.005127  0.009123   \n",
       "62 -0.016596 -0.022298  0.025879  0.002695 -0.016780 -0.016574 -0.016934   \n",
       "63 -0.001712  0.005996 -0.013042 -0.003036 -0.011158  0.018347 -0.014151   \n",
       "\n",
       "      7         8         9       ...    172490    172491    172492    172493  \\\n",
       "0   0.006977 -0.012125 -0.005127  ...  0.026994 -0.027270  0.044301 -0.003282   \n",
       "1   0.000620 -0.003319  0.020689  ...  0.041110 -0.007890  0.079234  0.132065   \n",
       "2  -0.117252 -0.029265 -0.016739  ...  0.100185  0.017599 -0.063055 -0.010288   \n",
       "3  -0.017026 -0.015348  0.018394  ... -0.053193 -0.092224  0.029536  0.117636   \n",
       "4  -0.057455  0.053400 -0.001698  ...  0.025879  0.002695 -0.016780 -0.016574   \n",
       "..       ...       ...       ...  ...       ...       ...       ...       ...   \n",
       "59  0.055091  0.020319  0.002041  ... -0.330534 -0.013534  0.010805  0.017232   \n",
       "60  0.002452  0.037097 -0.012935  ...  0.038586  0.005274  0.073991 -0.000422   \n",
       "61  0.004264 -0.020737 -0.015645  ... -0.016899 -0.013940  0.000209  0.075470   \n",
       "62  0.017754  0.040748 -0.010469  ...  0.015730  0.055091  0.020319  0.002041   \n",
       "63 -0.022551 -0.000939 -0.033253  ... -0.064414  0.034781 -0.007051 -0.026710   \n",
       "\n",
       "      172494    172495    172496    172497    172498    172499  \n",
       "0   0.009113 -0.031883  0.012122  0.012199 -0.034591 -0.044724  \n",
       "1  -0.060945 -0.045183  0.019824 -0.017475  0.054438  0.061667  \n",
       "2   0.082297  0.063710 -0.050840 -0.010801  0.016340 -0.041572  \n",
       "3   0.030297  0.036010 -0.034745 -0.001071 -0.009003 -0.018248  \n",
       "4  -0.016934  0.017754  0.040748 -0.010469  0.015730  0.055091  \n",
       "..       ...       ...       ...       ...       ...       ...  \n",
       "59 -0.007957  0.027219 -0.001712  0.005996 -0.013042 -0.003036  \n",
       "60  0.001140  0.085913  0.039747 -0.019695 -0.034212  0.013875  \n",
       "61  0.021847 -0.020349 -0.022059  0.008599  0.055241 -0.004922  \n",
       "62 -0.330534 -0.013534  0.010805  0.017232 -0.007957  0.027219  \n",
       "63 -0.094387  0.101973  0.080200  0.063762 -0.044022  0.016188  \n",
       "\n",
       "[64 rows x 172500 columns]"
      ]
     },
     "execution_count": 19,
     "metadata": {},
     "output_type": "execute_result"
    }
   ],
   "source": [
    "emb_activations"
   ]
  },
  {
   "cell_type": "code",
   "execution_count": 20,
   "id": "5c513016",
   "metadata": {},
   "outputs": [],
   "source": [
    "import seaborn as sns\n",
    "import matplotlib.pyplot as plt"
   ]
  },
  {
   "cell_type": "code",
   "execution_count": 23,
   "id": "7449b03b",
   "metadata": {},
   "outputs": [
    {
     "data": {
      "image/png": "[encoded data removed]",
      "text/plain": [
       "<Figure size 504x504 with 2 Axes>"
      ]
     },
     "metadata": {
      "needs_background": "light"
     },
     "output_type": "display_data"
    }
   ],
   "source": [
    "plt.figure(figsize=(7,7))\n",
    "sns.heatmap(emb_activations.T)\n",
    "plt.show()"
   ]
  },
  {
   "cell_type": "code",
   "execution_count": null,
   "id": "eea56555",
   "metadata": {},
   "outputs": [],
   "source": []
  }
 ],
 "metadata": {
  "kernelspec": {
   "display_name": "rnn-films",
   "language": "python",
   "name": "rnn-films"
  },
  "language_info": {
   "codemirror_mode": {
    "name": "ipython",
    "version": 3
   },
   "file_extension": ".py",
   "mimetype": "text/x-python",
   "name": "python",
   "nbconvert_exporter": "python",
   "pygments_lexer": "ipython3",
   "version": "3.9.7"
  }
 },
 "nbformat": 4,
 "nbformat_minor": 5
}