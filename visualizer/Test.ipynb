{
 "cells": [
  {
   "cell_type": "markdown",
   "id": "6fe9deec",
   "metadata": {},
   "source": [
    "## Testing stuff here..."
   ]
  },
  {
   "cell_type": "code",
   "execution_count": 1,
   "id": "286cd968",
   "metadata": {},
   "outputs": [],
   "source": [
    "import numpy as np\n",
    "import pandas as pd"
   ]
  },
  {
   "cell_type": "code",
   "execution_count": 2,
   "id": "a6b14e97",
   "metadata": {},
   "outputs": [
    {
     "data": {
      "text/html": [
       "<div>\n",
       "<style scoped>\n",
       "    .dataframe tbody tr th:only-of-type {\n",
       "        vertical-align: middle;\n",
       "    }\n",
       "\n",
       "    .dataframe tbody tr th {\n",
       "        vertical-align: top;\n",
       "    }\n",
       "\n",
       "    .dataframe thead th {\n",
       "        text-align: right;\n",
       "    }\n",
       "</style>\n",
       "<table border=\"1\" class=\"dataframe\">\n",
       "  <thead>\n",
       "    <tr style=\"text-align: right;\">\n",
       "      <th></th>\n",
       "      <th>category</th>\n",
       "      <th>input</th>\n",
       "      <th>output</th>\n",
       "    </tr>\n",
       "  </thead>\n",
       "  <tbody>\n",
       "    <tr>\n",
       "      <th>http://dbpedia.org/resource/Alexander_Semionov</th>\n",
       "      <td>[http://dbpedia.org/resource/Russia]</td>\n",
       "      <td>[0, 0, 0, 0, 0, 0, 0, 0, 0, 0, 0, 0, 0, 0, 0, ...</td>\n",
       "      <td>1</td>\n",
       "    </tr>\n",
       "    <tr>\n",
       "      <th>http://dbpedia.org/resource/Howardena_Pindell</th>\n",
       "      <td>[http://dbpedia.org/resource/United_States]</td>\n",
       "      <td>[0, 0, 0, 0, 0, 0, 0, 0, 0, 0, 0, 0, 0, 0, 0, ...</td>\n",
       "      <td>1</td>\n",
       "    </tr>\n",
       "    <tr>\n",
       "      <th>http://dbpedia.org/resource/Étienne_Moreau-Nélaton</th>\n",
       "      <td>[http://dbpedia.org/resource/France]</td>\n",
       "      <td>[0, 0, 0, 0, 0, 0, 0, 0, 0, 0, 0, 0, 0, 0, 0, ...</td>\n",
       "      <td>1</td>\n",
       "    </tr>\n",
       "    <tr>\n",
       "      <th>http://dbpedia.org/resource/Albert_Bierstadt</th>\n",
       "      <td>[http://dbpedia.org/resource/http://dbpedia.or...</td>\n",
       "      <td>[0, 0, 0, 0, 0, 0, 0, 0, 0, 0, 0, 0, 0, 0, 0, ...</td>\n",
       "      <td>1</td>\n",
       "    </tr>\n",
       "    <tr>\n",
       "      <th>http://dbpedia.org/resource/Boris_Maluev</th>\n",
       "      <td>[http://dbpedia.org/resource/Russia]</td>\n",
       "      <td>[0, 0, 0, 0, 0, 0, 0, 0, 0, 0, 0, 0, 0, 0, 0, ...</td>\n",
       "      <td>1</td>\n",
       "    </tr>\n",
       "    <tr>\n",
       "      <th>...</th>\n",
       "      <td>...</td>\n",
       "      <td>...</td>\n",
       "      <td>...</td>\n",
       "    </tr>\n",
       "    <tr>\n",
       "      <th>http://dbpedia.org/resource/Alexis_Simon_Belle</th>\n",
       "      <td>[http://dbpedia.org/resource/France]</td>\n",
       "      <td>[0, 0, 0, 0, 0, 0, 0, 0, 0, 0, 0, 0, 0, 0, 0, ...</td>\n",
       "      <td>0</td>\n",
       "    </tr>\n",
       "    <tr>\n",
       "      <th>http://dbpedia.org/resource/Jazeh_Tabatabai</th>\n",
       "      <td>[http://dbpedia.org/resource/Iran]</td>\n",
       "      <td>[0, 0, 0, 0, 0, 0, 0, 0, 0, 0, 0, 0, 0, 0, 0, ...</td>\n",
       "      <td>0</td>\n",
       "    </tr>\n",
       "    <tr>\n",
       "      <th>http://dbpedia.org/resource/Luis_Germán_Cajiga</th>\n",
       "      <td>[http://dbpedia.org/resource/Puerto_Rico]</td>\n",
       "      <td>[0, 0, 0, 0, 0, 0, 0, 0, 0, 0, 0, 0, 0, 0, 0, ...</td>\n",
       "      <td>0</td>\n",
       "    </tr>\n",
       "    <tr>\n",
       "      <th>http://dbpedia.org/resource/Bernard_Lorjou</th>\n",
       "      <td>[http://dbpedia.org/resource/France]</td>\n",
       "      <td>[0, 0, 0, 0, 0, 0, 0, 0, 0, 0, 0, 0, 0, 0, 0, ...</td>\n",
       "      <td>0</td>\n",
       "    </tr>\n",
       "    <tr>\n",
       "      <th>http://dbpedia.org/resource/Garner_Tullis</th>\n",
       "      <td>[http://dbpedia.org/resource/United_States]</td>\n",
       "      <td>[0, 0, 0, 0, 0, 0, 0, 0, 0, 0, 0, 0, 0, 0, 0, ...</td>\n",
       "      <td>0</td>\n",
       "    </tr>\n",
       "  </tbody>\n",
       "</table>\n",
       "<p>6576 rows × 3 columns</p>\n",
       "</div>"
      ],
      "text/plain": [
       "                                                                                             category  \\\n",
       "http://dbpedia.org/resource/Alexander_Semionov                   [http://dbpedia.org/resource/Russia]   \n",
       "http://dbpedia.org/resource/Howardena_Pindell             [http://dbpedia.org/resource/United_States]   \n",
       "http://dbpedia.org/resource/Étienne_Moreau-Nélaton               [http://dbpedia.org/resource/France]   \n",
       "http://dbpedia.org/resource/Albert_Bierstadt        [http://dbpedia.org/resource/http://dbpedia.or...   \n",
       "http://dbpedia.org/resource/Boris_Maluev                         [http://dbpedia.org/resource/Russia]   \n",
       "...                                                                                               ...   \n",
       "http://dbpedia.org/resource/Alexis_Simon_Belle                   [http://dbpedia.org/resource/France]   \n",
       "http://dbpedia.org/resource/Jazeh_Tabatabai                        [http://dbpedia.org/resource/Iran]   \n",
       "http://dbpedia.org/resource/Luis_Germán_Cajiga              [http://dbpedia.org/resource/Puerto_Rico]   \n",
       "http://dbpedia.org/resource/Bernard_Lorjou                       [http://dbpedia.org/resource/France]   \n",
       "http://dbpedia.org/resource/Garner_Tullis                 [http://dbpedia.org/resource/United_States]   \n",
       "\n",
       "                                                                                                input  \\\n",
       "http://dbpedia.org/resource/Alexander_Semionov      [0, 0, 0, 0, 0, 0, 0, 0, 0, 0, 0, 0, 0, 0, 0, ...   \n",
       "http://dbpedia.org/resource/Howardena_Pindell       [0, 0, 0, 0, 0, 0, 0, 0, 0, 0, 0, 0, 0, 0, 0, ...   \n",
       "http://dbpedia.org/resource/Étienne_Moreau-Nélaton  [0, 0, 0, 0, 0, 0, 0, 0, 0, 0, 0, 0, 0, 0, 0, ...   \n",
       "http://dbpedia.org/resource/Albert_Bierstadt        [0, 0, 0, 0, 0, 0, 0, 0, 0, 0, 0, 0, 0, 0, 0, ...   \n",
       "http://dbpedia.org/resource/Boris_Maluev            [0, 0, 0, 0, 0, 0, 0, 0, 0, 0, 0, 0, 0, 0, 0, ...   \n",
       "...                                                                                               ...   \n",
       "http://dbpedia.org/resource/Alexis_Simon_Belle      [0, 0, 0, 0, 0, 0, 0, 0, 0, 0, 0, 0, 0, 0, 0, ...   \n",
       "http://dbpedia.org/resource/Jazeh_Tabatabai         [0, 0, 0, 0, 0, 0, 0, 0, 0, 0, 0, 0, 0, 0, 0, ...   \n",
       "http://dbpedia.org/resource/Luis_Germán_Cajiga      [0, 0, 0, 0, 0, 0, 0, 0, 0, 0, 0, 0, 0, 0, 0, ...   \n",
       "http://dbpedia.org/resource/Bernard_Lorjou          [0, 0, 0, 0, 0, 0, 0, 0, 0, 0, 0, 0, 0, 0, 0, ...   \n",
       "http://dbpedia.org/resource/Garner_Tullis           [0, 0, 0, 0, 0, 0, 0, 0, 0, 0, 0, 0, 0, 0, 0, ...   \n",
       "\n",
       "                                                    output  \n",
       "http://dbpedia.org/resource/Alexander_Semionov           1  \n",
       "http://dbpedia.org/resource/Howardena_Pindell            1  \n",
       "http://dbpedia.org/resource/Étienne_Moreau-Nélaton       1  \n",
       "http://dbpedia.org/resource/Albert_Bierstadt             1  \n",
       "http://dbpedia.org/resource/Boris_Maluev                 1  \n",
       "...                                                    ...  \n",
       "http://dbpedia.org/resource/Alexis_Simon_Belle           0  \n",
       "http://dbpedia.org/resource/Jazeh_Tabatabai              0  \n",
       "http://dbpedia.org/resource/Luis_Germán_Cajiga           0  \n",
       "http://dbpedia.org/resource/Bernard_Lorjou               0  \n",
       "http://dbpedia.org/resource/Garner_Tullis                0  \n",
       "\n",
       "[6576 rows x 3 columns]"
      ]
     },
     "execution_count": 2,
     "metadata": {},
     "output_type": "execute_result"
    }
   ],
   "source": [
    "df = pd.read_json('./data/painters_ds.json')\n",
    "df"
   ]
  },
  {
   "cell_type": "code",
   "execution_count": 6,
   "id": "45d1b2b8",
   "metadata": {},
   "outputs": [],
   "source": [
    "index = 'http://dbpedia.org/resource/Govert_Flinck'"
   ]
  },
  {
   "cell_type": "code",
   "execution_count": 11,
   "id": "d5979a88",
   "metadata": {},
   "outputs": [
    {
     "data": {
      "text/plain": [
       "['http://dbpedia.org/resource/http://dbpedia.org/resource/Germany']"
      ]
     },
     "execution_count": 11,
     "metadata": {},
     "output_type": "execute_result"
    }
   ],
   "source": [
    "df[df.index == index].category[0]oy"
   ]
  },
  {
   "cell_type": "markdown",
   "id": "17b77340",
   "metadata": {},
   "source": []
  },
  {
   "cell_type": "code",
   "execution_count": 1,
   "id": "e661a511",
   "metadata": {},
   "outputs": [],
   "source": [
    "import pandas as pd\n",
    "import numpy as np\n",
    "\n",
    "import json\n",
    "import os"
   ]
  },
  {
   "cell_type": "code",
   "execution_count": 4,
   "id": "adbf61b8",
   "metadata": {},
   "outputs": [
    {
     "data": {
      "text/html": [
       "<div>\n",
       "<style scoped>\n",
       "    .dataframe tbody tr th:only-of-type {\n",
       "        vertical-align: middle;\n",
       "    }\n",
       "\n",
       "    .dataframe tbody tr th {\n",
       "        vertical-align: top;\n",
       "    }\n",
       "\n",
       "    .dataframe thead th {\n",
       "        text-align: right;\n",
       "    }\n",
       "</style>\n",
       "<table border=\"1\" class=\"dataframe\">\n",
       "  <thead>\n",
       "    <tr style=\"text-align: right;\">\n",
       "      <th></th>\n",
       "      <th>max-diff</th>\n",
       "      <th>min-pv</th>\n",
       "      <th>mean-pred</th>\n",
       "      <th>mean-real</th>\n",
       "      <th>std-pred</th>\n",
       "      <th>std-real</th>\n",
       "      <th>mae</th>\n",
       "      <th>nbr</th>\n",
       "    </tr>\n",
       "  </thead>\n",
       "  <tbody>\n",
       "    <tr>\n",
       "      <th>http://dbpedia.org/resource/United_States</th>\n",
       "      <td>0.398627</td>\n",
       "      <td>4.909872e-22</td>\n",
       "      <td>0.034694</td>\n",
       "      <td>0.098980</td>\n",
       "      <td>0.183097</td>\n",
       "      <td>0.298787</td>\n",
       "      <td>0.072449</td>\n",
       "      <td>980.0</td>\n",
       "    </tr>\n",
       "    <tr>\n",
       "      <th>http://dbpedia.org/resource/United_Kingdom</th>\n",
       "      <td>0.233120</td>\n",
       "      <td>9.685651e-04</td>\n",
       "      <td>0.054366</td>\n",
       "      <td>0.120264</td>\n",
       "      <td>0.226925</td>\n",
       "      <td>0.325538</td>\n",
       "      <td>0.082372</td>\n",
       "      <td>607.0</td>\n",
       "    </tr>\n",
       "    <tr>\n",
       "      <th>http://dbpedia.org/resource/France</th>\n",
       "      <td>0.754216</td>\n",
       "      <td>1.541381e-25</td>\n",
       "      <td>0.210938</td>\n",
       "      <td>0.332031</td>\n",
       "      <td>0.408373</td>\n",
       "      <td>0.471403</td>\n",
       "      <td>0.175781</td>\n",
       "      <td>512.0</td>\n",
       "    </tr>\n",
       "    <tr>\n",
       "      <th>http://dbpedia.org/resource/Italy</th>\n",
       "      <td>0.742782</td>\n",
       "      <td>1.300606e-21</td>\n",
       "      <td>0.243408</td>\n",
       "      <td>0.302231</td>\n",
       "      <td>0.429575</td>\n",
       "      <td>0.459691</td>\n",
       "      <td>0.123732</td>\n",
       "      <td>493.0</td>\n",
       "    </tr>\n",
       "  </tbody>\n",
       "</table>\n",
       "</div>"
      ],
      "text/plain": [
       "                                            max-diff        min-pv  mean-pred  \\\n",
       "http://dbpedia.org/resource/United_States   0.398627  4.909872e-22   0.034694   \n",
       "http://dbpedia.org/resource/United_Kingdom  0.233120  9.685651e-04   0.054366   \n",
       "http://dbpedia.org/resource/France          0.754216  1.541381e-25   0.210938   \n",
       "http://dbpedia.org/resource/Italy           0.742782  1.300606e-21   0.243408   \n",
       "\n",
       "                                            mean-real  std-pred  std-real  \\\n",
       "http://dbpedia.org/resource/United_States    0.098980  0.183097  0.298787   \n",
       "http://dbpedia.org/resource/United_Kingdom   0.120264  0.226925  0.325538   \n",
       "http://dbpedia.org/resource/France           0.332031  0.408373  0.471403   \n",
       "http://dbpedia.org/resource/Italy            0.302231  0.429575  0.459691   \n",
       "\n",
       "                                                 mae    nbr  \n",
       "http://dbpedia.org/resource/United_States   0.072449  980.0  \n",
       "http://dbpedia.org/resource/United_Kingdom  0.082372  607.0  \n",
       "http://dbpedia.org/resource/France          0.175781  512.0  \n",
       "http://dbpedia.org/resource/Italy           0.123732  493.0  "
      ]
     },
     "execution_count": 4,
     "metadata": {},
     "output_type": "execute_result"
    }
   ],
   "source": [
    "table_data = pd.read_pickle('./activations/painters_ds/table_data.pkl')\n",
    "table_data"
   ]
  },
  {
   "cell_type": "code",
   "execution_count": 6,
   "id": "907fa9ca",
   "metadata": {},
   "outputs": [],
   "source": [
    "dict_table_data = {}\n",
    "\n",
    "dict_table_data['thresh'] = 200\n",
    "dict_table_data['data'] = table_data.to_dict()"
   ]
  },
  {
   "cell_type": "code",
   "execution_count": 7,
   "id": "0565d63b",
   "metadata": {},
   "outputs": [
    {
     "data": {
      "text/plain": [
       "{'thresh': 200,\n",
       " 'data': {'max-diff': {'http://dbpedia.org/resource/United_States': 0.39862746000289917,\n",
       "   'http://dbpedia.org/resource/United_Kingdom': 0.23311980068683624,\n",
       "   'http://dbpedia.org/resource/France': 0.7542162537574768,\n",
       "   'http://dbpedia.org/resource/Italy': 0.7427823543548584},\n",
       "  'min-pv': {'http://dbpedia.org/resource/United_States': 4.9098717767911e-22,\n",
       "   'http://dbpedia.org/resource/United_Kingdom': 0.0009685650774423377,\n",
       "   'http://dbpedia.org/resource/France': 1.5413806649301153e-25,\n",
       "   'http://dbpedia.org/resource/Italy': 1.3006057810691522e-21},\n",
       "  'mean-pred': {'http://dbpedia.org/resource/United_States': 0.03469387755102041,\n",
       "   'http://dbpedia.org/resource/United_Kingdom': 0.054365733113673806,\n",
       "   'http://dbpedia.org/resource/France': 0.2109375,\n",
       "   'http://dbpedia.org/resource/Italy': 0.2434077079107505},\n",
       "  'mean-real': {'http://dbpedia.org/resource/United_States': 0.09897959183673469,\n",
       "   'http://dbpedia.org/resource/United_Kingdom': 0.12026359143327842,\n",
       "   'http://dbpedia.org/resource/France': 0.33203125,\n",
       "   'http://dbpedia.org/resource/Italy': 0.3022312373225152},\n",
       "  'std-pred': {'http://dbpedia.org/resource/United_States': 0.18309675312346968,\n",
       "   'http://dbpedia.org/resource/United_Kingdom': 0.2269249552726474,\n",
       "   'http://dbpedia.org/resource/France': 0.4083731026867992,\n",
       "   'http://dbpedia.org/resource/Italy': 0.4295750288222325},\n",
       "  'std-real': {'http://dbpedia.org/resource/United_States': 0.29878709456276586,\n",
       "   'http://dbpedia.org/resource/United_Kingdom': 0.32553778259466487,\n",
       "   'http://dbpedia.org/resource/France': 0.47140271900294123,\n",
       "   'http://dbpedia.org/resource/Italy': 0.45969136349582734},\n",
       "  'mae': {'http://dbpedia.org/resource/United_States': 0.07244897959183673,\n",
       "   'http://dbpedia.org/resource/United_Kingdom': 0.08237232289950576,\n",
       "   'http://dbpedia.org/resource/France': 0.17578125,\n",
       "   'http://dbpedia.org/resource/Italy': 0.12373225152129817},\n",
       "  'nbr': {'http://dbpedia.org/resource/United_States': 980.0,\n",
       "   'http://dbpedia.org/resource/United_Kingdom': 607.0,\n",
       "   'http://dbpedia.org/resource/France': 512.0,\n",
       "   'http://dbpedia.org/resource/Italy': 493.0}}}"
      ]
     },
     "execution_count": 7,
     "metadata": {},
     "output_type": "execute_result"
    }
   ],
   "source": [
    "dict_table_data"
   ]
  },
  {
   "cell_type": "code",
   "execution_count": 9,
   "id": "935db8a3",
   "metadata": {},
   "outputs": [],
   "source": [
    "with open('test.json', 'w') as tdf:\n",
    "    json.dump(dict_table_data, tdf)"
   ]
  },
  {
   "cell_type": "code",
   "execution_count": 11,
   "id": "4f6746ad",
   "metadata": {},
   "outputs": [
    {
     "name": "stdout",
     "output_type": "stream",
     "text": [
      "{'thresh': 200, 'data': {'max-diff': {'http://dbpedia.org/resource/United_States': 0.39862746000289917, 'http://dbpedia.org/resource/United_Kingdom': 0.23311980068683624, 'http://dbpedia.org/resource/France': 0.7542162537574768, 'http://dbpedia.org/resource/Italy': 0.7427823543548584}, 'min-pv': {'http://dbpedia.org/resource/United_States': 4.9098717767911e-22, 'http://dbpedia.org/resource/United_Kingdom': 0.0009685650774423377, 'http://dbpedia.org/resource/France': 1.5413806649301153e-25, 'http://dbpedia.org/resource/Italy': 1.3006057810691522e-21}, 'mean-pred': {'http://dbpedia.org/resource/United_States': 0.03469387755102041, 'http://dbpedia.org/resource/United_Kingdom': 0.054365733113673806, 'http://dbpedia.org/resource/France': 0.2109375, 'http://dbpedia.org/resource/Italy': 0.2434077079107505}, 'mean-real': {'http://dbpedia.org/resource/United_States': 0.09897959183673469, 'http://dbpedia.org/resource/United_Kingdom': 0.12026359143327842, 'http://dbpedia.org/resource/France': 0.33203125, 'http://dbpedia.org/resource/Italy': 0.3022312373225152}, 'std-pred': {'http://dbpedia.org/resource/United_States': 0.18309675312346968, 'http://dbpedia.org/resource/United_Kingdom': 0.2269249552726474, 'http://dbpedia.org/resource/France': 0.4083731026867992, 'http://dbpedia.org/resource/Italy': 0.4295750288222325}, 'std-real': {'http://dbpedia.org/resource/United_States': 0.29878709456276586, 'http://dbpedia.org/resource/United_Kingdom': 0.32553778259466487, 'http://dbpedia.org/resource/France': 0.47140271900294123, 'http://dbpedia.org/resource/Italy': 0.45969136349582734}, 'mae': {'http://dbpedia.org/resource/United_States': 0.07244897959183673, 'http://dbpedia.org/resource/United_Kingdom': 0.08237232289950576, 'http://dbpedia.org/resource/France': 0.17578125, 'http://dbpedia.org/resource/Italy': 0.12373225152129817}, 'nbr': {'http://dbpedia.org/resource/United_States': 980.0, 'http://dbpedia.org/resource/United_Kingdom': 607.0, 'http://dbpedia.org/resource/France': 512.0, 'http://dbpedia.org/resource/Italy': 493.0}}}\n"
     ]
    }
   ],
   "source": [
    "with open('test.json', 'r') as tdf:\n",
    "    print(json.load(tdf))"
   ]
  },
  {
   "cell_type": "code",
   "execution_count": null,
   "id": "f9d33d76",
   "metadata": {},
   "outputs": [],
   "source": []
  }
 ],
 "metadata": {
  "kernelspec": {
   "display_name": "rnn-films",
   "language": "python",
   "name": "rnn-films"
  },
  "language_info": {
   "codemirror_mode": {
    "name": "ipython",
    "version": 3
   },
   "file_extension": ".py",
   "mimetype": "text/x-python",
   "name": "python",
   "nbconvert_exporter": "python",
   "pygments_lexer": "ipython3",
   "version": "3.9.7"
  }
 },
 "nbformat": 4,
 "nbformat_minor": 5
}
