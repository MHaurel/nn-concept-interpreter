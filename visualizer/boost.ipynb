{
 "cells": [
  {
   "cell_type": "markdown",
   "id": "ead0b9c4",
   "metadata": {},
   "source": [
    "# Trying to boost a category (concept)"
   ]
  },
  {
   "cell_type": "code",
   "execution_count": 120,
   "id": "6cccede7",
   "metadata": {},
   "outputs": [],
   "source": [
    "import os\n",
    "import pandas as pd\n",
    "import numpy as np\n",
    "\n",
    "%matplotlib inline\n",
    "import matplotlib.pyplot as plt\n",
    "import seaborn as sns\n",
    "\n",
    "import tensorflow as tf\n",
    "from tensorflow import keras\n",
    "from tensorflow.keras.models import Sequential\n",
    "from tensorflow.keras.layers import Dense"
   ]
  },
  {
   "cell_type": "code",
   "execution_count": 121,
   "id": "47adb163",
   "metadata": {},
   "outputs": [
    {
     "name": "stdout",
     "output_type": "stream",
     "text": [
      "Model: \"sequential\"\n",
      "_________________________________________________________________\n",
      " Layer (type)                Output Shape              Param #   \n",
      "=================================================================\n",
      " embedding (Embedding)       (None, 150, 64)           640000    \n",
      "                                                                 \n",
      " lstm (LSTM)                 (None, 16)                5184      \n",
      "                                                                 \n",
      " dense (Dense)               (None, 8)                 136       \n",
      "                                                                 \n",
      " dropout (Dropout)           (None, 8)                 0         \n",
      "                                                                 \n",
      " dense_1 (Dense)             (None, 4)                 36        \n",
      "                                                                 \n",
      " dense_2 (Dense)             (None, 1)                 5         \n",
      "                                                                 \n",
      "=================================================================\n",
      "Total params: 645,361\n",
      "Trainable params: 645,361\n",
      "Non-trainable params: 0\n",
      "_________________________________________________________________\n"
     ]
    }
   ],
   "source": [
    "model = keras.models.load_model(os.path.join('models', 'painter_model'))\n",
    "model.summary()"
   ]
  },
  {
   "cell_type": "code",
   "execution_count": 122,
   "id": "bdd9de79",
   "metadata": {},
   "outputs": [],
   "source": [
    "dirname = \"painters_ds\""
   ]
  },
  {
   "cell_type": "code",
   "execution_count": 123,
   "id": "b28779e7",
   "metadata": {},
   "outputs": [
    {
     "data": {
      "text/html": [
       "<div>\n",
       "<style scoped>\n",
       "    .dataframe tbody tr th:only-of-type {\n",
       "        vertical-align: middle;\n",
       "    }\n",
       "\n",
       "    .dataframe tbody tr th {\n",
       "        vertical-align: top;\n",
       "    }\n",
       "\n",
       "    .dataframe thead th {\n",
       "        text-align: right;\n",
       "    }\n",
       "</style>\n",
       "<table border=\"1\" class=\"dataframe\">\n",
       "  <thead>\n",
       "    <tr style=\"text-align: right;\">\n",
       "      <th></th>\n",
       "      <th>category</th>\n",
       "      <th>input</th>\n",
       "      <th>output</th>\n",
       "    </tr>\n",
       "  </thead>\n",
       "  <tbody>\n",
       "    <tr>\n",
       "      <th>http://dbpedia.org/resource/Alexander_Semionov</th>\n",
       "      <td>[http://dbpedia.org/resource/Russia]</td>\n",
       "      <td>[0, 0, 0, 0, 0, 0, 0, 0, 0, 0, 0, 0, 0, 0, 0, ...</td>\n",
       "      <td>1</td>\n",
       "    </tr>\n",
       "    <tr>\n",
       "      <th>http://dbpedia.org/resource/Howardena_Pindell</th>\n",
       "      <td>[http://dbpedia.org/resource/United_States]</td>\n",
       "      <td>[0, 0, 0, 0, 0, 0, 0, 0, 0, 0, 0, 0, 0, 0, 0, ...</td>\n",
       "      <td>1</td>\n",
       "    </tr>\n",
       "    <tr>\n",
       "      <th>http://dbpedia.org/resource/Étienne_Moreau-Nélaton</th>\n",
       "      <td>[http://dbpedia.org/resource/France]</td>\n",
       "      <td>[0, 0, 0, 0, 0, 0, 0, 0, 0, 0, 0, 0, 0, 0, 0, ...</td>\n",
       "      <td>1</td>\n",
       "    </tr>\n",
       "  </tbody>\n",
       "</table>\n",
       "</div>"
      ],
      "text/plain": [
       "                                                                                       category  \\\n",
       "http://dbpedia.org/resource/Alexander_Semionov             [http://dbpedia.org/resource/Russia]   \n",
       "http://dbpedia.org/resource/Howardena_Pindell       [http://dbpedia.org/resource/United_States]   \n",
       "http://dbpedia.org/resource/Étienne_Moreau-Nélaton         [http://dbpedia.org/resource/France]   \n",
       "\n",
       "                                                                                                input  \\\n",
       "http://dbpedia.org/resource/Alexander_Semionov      [0, 0, 0, 0, 0, 0, 0, 0, 0, 0, 0, 0, 0, 0, 0, ...   \n",
       "http://dbpedia.org/resource/Howardena_Pindell       [0, 0, 0, 0, 0, 0, 0, 0, 0, 0, 0, 0, 0, 0, 0, ...   \n",
       "http://dbpedia.org/resource/Étienne_Moreau-Nélaton  [0, 0, 0, 0, 0, 0, 0, 0, 0, 0, 0, 0, 0, 0, 0, ...   \n",
       "\n",
       "                                                    output  \n",
       "http://dbpedia.org/resource/Alexander_Semionov           1  \n",
       "http://dbpedia.org/resource/Howardena_Pindell            1  \n",
       "http://dbpedia.org/resource/Étienne_Moreau-Nélaton       1  "
      ]
     },
     "execution_count": 123,
     "metadata": {},
     "output_type": "execute_result"
    }
   ],
   "source": [
    "wdf = pd.read_json('./data/' + dirname + \".json\")\n",
    "wdf.head(3)"
   ]
  },
  {
   "cell_type": "code",
   "execution_count": 124,
   "id": "01f5586c",
   "metadata": {},
   "outputs": [],
   "source": [
    "dfs = []\n",
    "for filename in os.listdir(os.path.join('activations', dirname)):\n",
    "    if filename.split('.')[-1] == 'pkl' and 'table_data' not in filename:\n",
    "        dfs.append(pd.read_pickle(os.path.join('activations', dirname, filename)))"
   ]
  },
  {
   "cell_type": "code",
   "execution_count": 137,
   "id": "63c9a0ad",
   "metadata": {},
   "outputs": [
    {
     "name": "stdout",
     "output_type": "stream",
     "text": [
      "Using layer lstm\n"
     ]
    }
   ],
   "source": [
    "layer_to_explore = 1\n",
    "df = dfs[layer_to_explore]\n",
    "print(f\"Using layer {model.layers[layer_to_explore].name}\")"
   ]
  },
  {
   "cell_type": "code",
   "execution_count": 138,
   "id": "8d2d275d",
   "metadata": {},
   "outputs": [
    {
     "data": {
      "text/html": [
       "<div>\n",
       "<style scoped>\n",
       "    .dataframe tbody tr th:only-of-type {\n",
       "        vertical-align: middle;\n",
       "    }\n",
       "\n",
       "    .dataframe tbody tr th {\n",
       "        vertical-align: top;\n",
       "    }\n",
       "\n",
       "    .dataframe thead th {\n",
       "        text-align: right;\n",
       "    }\n",
       "</style>\n",
       "<table border=\"1\" class=\"dataframe\">\n",
       "  <thead>\n",
       "    <tr style=\"text-align: right;\">\n",
       "      <th></th>\n",
       "      <th>category</th>\n",
       "      <th>input</th>\n",
       "      <th>true</th>\n",
       "      <th>pred</th>\n",
       "      <th>neuron_1</th>\n",
       "      <th>neuron_2</th>\n",
       "      <th>neuron_3</th>\n",
       "      <th>neuron_4</th>\n",
       "      <th>neuron_5</th>\n",
       "      <th>neuron_6</th>\n",
       "      <th>...</th>\n",
       "      <th>neuron_55</th>\n",
       "      <th>neuron_56</th>\n",
       "      <th>neuron_57</th>\n",
       "      <th>neuron_58</th>\n",
       "      <th>neuron_59</th>\n",
       "      <th>neuron_60</th>\n",
       "      <th>neuron_61</th>\n",
       "      <th>neuron_62</th>\n",
       "      <th>neuron_63</th>\n",
       "      <th>neuron_64</th>\n",
       "    </tr>\n",
       "  </thead>\n",
       "  <tbody>\n",
       "    <tr>\n",
       "      <th>http://dbpedia.org/resource/Alexander_Semionov</th>\n",
       "      <td>[http://dbpedia.org/resource/Russia]</td>\n",
       "      <td>[0, 0, 0, 0, 0, 0, 0, 0, 0, 0, 0, 0, 0, 0, 0, ...</td>\n",
       "      <td>1</td>\n",
       "      <td>1</td>\n",
       "      <td>0.015262</td>\n",
       "      <td>0.024435</td>\n",
       "      <td>0.03541</td>\n",
       "      <td>-0.031234</td>\n",
       "      <td>0.020837</td>\n",
       "      <td>-0.000182</td>\n",
       "      <td>...</td>\n",
       "      <td>0.061672</td>\n",
       "      <td>0.06811</td>\n",
       "      <td>-0.019993</td>\n",
       "      <td>-0.057241</td>\n",
       "      <td>0.033909</td>\n",
       "      <td>-0.067252</td>\n",
       "      <td>0.031596</td>\n",
       "      <td>-0.030866</td>\n",
       "      <td>0.031695</td>\n",
       "      <td>-0.012747</td>\n",
       "    </tr>\n",
       "  </tbody>\n",
       "</table>\n",
       "<p>1 rows × 68 columns</p>\n",
       "</div>"
      ],
      "text/plain": [
       "                                                                            category  \\\n",
       "http://dbpedia.org/resource/Alexander_Semionov  [http://dbpedia.org/resource/Russia]   \n",
       "\n",
       "                                                                                            input  \\\n",
       "http://dbpedia.org/resource/Alexander_Semionov  [0, 0, 0, 0, 0, 0, 0, 0, 0, 0, 0, 0, 0, 0, 0, ...   \n",
       "\n",
       "                                                true  pred  neuron_1  \\\n",
       "http://dbpedia.org/resource/Alexander_Semionov     1     1  0.015262   \n",
       "\n",
       "                                                neuron_2  neuron_3  neuron_4  \\\n",
       "http://dbpedia.org/resource/Alexander_Semionov  0.024435   0.03541 -0.031234   \n",
       "\n",
       "                                                neuron_5  neuron_6  ...  \\\n",
       "http://dbpedia.org/resource/Alexander_Semionov  0.020837 -0.000182  ...   \n",
       "\n",
       "                                                neuron_55  neuron_56  \\\n",
       "http://dbpedia.org/resource/Alexander_Semionov   0.061672    0.06811   \n",
       "\n",
       "                                                neuron_57  neuron_58  \\\n",
       "http://dbpedia.org/resource/Alexander_Semionov  -0.019993  -0.057241   \n",
       "\n",
       "                                                neuron_59  neuron_60  \\\n",
       "http://dbpedia.org/resource/Alexander_Semionov   0.033909  -0.067252   \n",
       "\n",
       "                                                neuron_61  neuron_62  \\\n",
       "http://dbpedia.org/resource/Alexander_Semionov   0.031596  -0.030866   \n",
       "\n",
       "                                                neuron_63  neuron_64  \n",
       "http://dbpedia.org/resource/Alexander_Semionov   0.031695  -0.012747  \n",
       "\n",
       "[1 rows x 68 columns]"
      ]
     },
     "execution_count": 138,
     "metadata": {},
     "output_type": "execute_result"
    }
   ],
   "source": [
    "df.head(1)"
   ]
  },
  {
   "cell_type": "code",
   "execution_count": 139,
   "id": "34a68978",
   "metadata": {},
   "outputs": [
    {
     "data": {
      "text/plain": [
       "neuron_1     0.015262\n",
       "neuron_2     0.024435\n",
       "neuron_3      0.03541\n",
       "neuron_4    -0.031234\n",
       "neuron_5     0.020837\n",
       "               ...   \n",
       "neuron_60   -0.067252\n",
       "neuron_61    0.031596\n",
       "neuron_62   -0.030866\n",
       "neuron_63    0.031695\n",
       "neuron_64   -0.012747\n",
       "Name: http://dbpedia.org/resource/Alexander_Semionov, Length: 64, dtype: object"
      ]
     },
     "execution_count": 139,
     "metadata": {},
     "output_type": "execute_result"
    }
   ],
   "source": [
    "df.iloc[0, 4:]"
   ]
  },
  {
   "cell_type": "code",
   "execution_count": 140,
   "id": "8afd8b8b",
   "metadata": {},
   "outputs": [],
   "source": [
    "def plot_activ(df, df2=None, df3=None):\n",
    "    \n",
    "#     plt.figure(figsize=(15, 6))\n",
    "#     sns.lineplot(x=range(len(df.iloc[0, :])), y=df.iloc[0, :])\n",
    "#     if df2 is not None:\n",
    "#         sns.lineplot(x=range(len(df2.iloc[0, :])), y=df2.iloc[0, :])\n",
    "#     plt.show()\n",
    "    \n",
    "#     plt.figure(figsize=(15, 6))\n",
    "#     sns.scatterplot(x=range(len(df.iloc[0, :])), y=df.iloc[0, :])\n",
    "#     if df2 is not None:\n",
    "#         sns.scatterplot(x=range(len(df2.iloc[0, :])), y=df2.iloc[0, :])\n",
    "#     plt.show()\n",
    "\n",
    "    fig, axes = plt.subplots(1, 2, figsize=(15, 6))\n",
    "    fig.suptitle('Visualizing sample vs cat')\n",
    "    \n",
    "    sns.lineplot(ax=axes[0], x=range(len(df.iloc[0, :])), y=df.iloc[0, :])\n",
    "    if df2 is not None:\n",
    "        sns.lineplot(ax=axes[0], x=range(len(df2.iloc[0, :])), y=df2.iloc[0, :])\n",
    "    if df3 is not None:\n",
    "        sns.lineplot(ax=axes[0], x=range(len(df3.iloc[0, :])), y=df3.iloc[0, :])\n",
    "    axes[0].set_title('Line plot')\n",
    "    \n",
    "    \n",
    "    sns.scatterplot(ax=axes[1], x=range(len(df.iloc[0, :])), y=df.iloc[0, :])\n",
    "    if df2 is not None:\n",
    "        sns.scatterplot(ax=axes[1], x=range(len(df2.iloc[0, :])), y=df2.iloc[0, :])\n",
    "    if df3 is not None:\n",
    "        sns.scatterplot(ax=axes[1], x=range(len(df3.iloc[0, :])), y=df3.iloc[0, :])\n",
    "    axes[1].set_title('Scatter plot')\n",
    "    \n",
    "    fig.legend(['df1', 'df2', 'df3'])\n",
    "    \n",
    "    \n",
    "def get_cat_df(df, cat):\n",
    "    return df[df.category.apply(lambda x: cat in x)]\n",
    "\n",
    "def get_mean_activations(df):\n",
    "    df_act = df.iloc[:, 4:]\n",
    "    return df_act.mean()"
   ]
  },
  {
   "cell_type": "code",
   "execution_count": 141,
   "id": "0a66a334",
   "metadata": {},
   "outputs": [],
   "source": [
    "cat = 'http://dbpedia.org/resource/Russia'"
   ]
  },
  {
   "cell_type": "code",
   "execution_count": 142,
   "id": "37137a0a",
   "metadata": {},
   "outputs": [
    {
     "data": {
      "text/html": [
       "<div>\n",
       "<style scoped>\n",
       "    .dataframe tbody tr th:only-of-type {\n",
       "        vertical-align: middle;\n",
       "    }\n",
       "\n",
       "    .dataframe tbody tr th {\n",
       "        vertical-align: top;\n",
       "    }\n",
       "\n",
       "    .dataframe thead th {\n",
       "        text-align: right;\n",
       "    }\n",
       "</style>\n",
       "<table border=\"1\" class=\"dataframe\">\n",
       "  <thead>\n",
       "    <tr style=\"text-align: right;\">\n",
       "      <th></th>\n",
       "      <th>neuron_1</th>\n",
       "      <th>neuron_2</th>\n",
       "      <th>neuron_3</th>\n",
       "      <th>neuron_4</th>\n",
       "      <th>neuron_5</th>\n",
       "      <th>neuron_6</th>\n",
       "      <th>neuron_7</th>\n",
       "      <th>neuron_8</th>\n",
       "      <th>neuron_9</th>\n",
       "      <th>neuron_10</th>\n",
       "      <th>...</th>\n",
       "      <th>neuron_55</th>\n",
       "      <th>neuron_56</th>\n",
       "      <th>neuron_57</th>\n",
       "      <th>neuron_58</th>\n",
       "      <th>neuron_59</th>\n",
       "      <th>neuron_60</th>\n",
       "      <th>neuron_61</th>\n",
       "      <th>neuron_62</th>\n",
       "      <th>neuron_63</th>\n",
       "      <th>neuron_64</th>\n",
       "    </tr>\n",
       "  </thead>\n",
       "  <tbody>\n",
       "    <tr>\n",
       "      <th>0</th>\n",
       "      <td>0.012538</td>\n",
       "      <td>0.023253</td>\n",
       "      <td>0.034245</td>\n",
       "      <td>-0.028996</td>\n",
       "      <td>0.020197</td>\n",
       "      <td>-0.002792</td>\n",
       "      <td>-0.024223</td>\n",
       "      <td>0.034409</td>\n",
       "      <td>-0.018323</td>\n",
       "      <td>-0.033272</td>\n",
       "      <td>...</td>\n",
       "      <td>0.053239</td>\n",
       "      <td>0.061073</td>\n",
       "      <td>-0.017981</td>\n",
       "      <td>-0.050038</td>\n",
       "      <td>0.031612</td>\n",
       "      <td>-0.058789</td>\n",
       "      <td>0.027805</td>\n",
       "      <td>-0.028558</td>\n",
       "      <td>0.025015</td>\n",
       "      <td>-0.010367</td>\n",
       "    </tr>\n",
       "  </tbody>\n",
       "</table>\n",
       "<p>1 rows × 64 columns</p>\n",
       "</div>"
      ],
      "text/plain": [
       "   neuron_1  neuron_2  neuron_3  neuron_4  neuron_5  neuron_6  neuron_7  \\\n",
       "0  0.012538  0.023253  0.034245 -0.028996  0.020197 -0.002792 -0.024223   \n",
       "\n",
       "   neuron_8  neuron_9  neuron_10  ...  neuron_55  neuron_56  neuron_57  \\\n",
       "0  0.034409 -0.018323  -0.033272  ...   0.053239   0.061073  -0.017981   \n",
       "\n",
       "   neuron_58  neuron_59  neuron_60  neuron_61  neuron_62  neuron_63  neuron_64  \n",
       "0  -0.050038   0.031612  -0.058789   0.027805  -0.028558   0.025015  -0.010367  \n",
       "\n",
       "[1 rows x 64 columns]"
      ]
     },
     "execution_count": 142,
     "metadata": {},
     "output_type": "execute_result"
    }
   ],
   "source": [
    "df_cat = get_cat_df(df, cat)\n",
    "df_mean_cat = get_mean_activations(df_cat)\n",
    "df_mean_cat = pd.DataFrame(df_mean_cat).T\n",
    "df_mean_cat"
   ]
  },
  {
   "cell_type": "code",
   "execution_count": 143,
   "id": "3da4b8f3",
   "metadata": {},
   "outputs": [
    {
     "data": {
      "image/png": "[encoded data removed]",
      "text/plain": [
       "<Figure size 1080x432 with 2 Axes>"
      ]
     },
     "metadata": {
      "needs_background": "light"
     },
     "output_type": "display_data"
    }
   ],
   "source": [
    "plot_activ(df_mean_cat)"
   ]
  },
  {
   "cell_type": "code",
   "execution_count": 144,
   "id": "914dbb3b",
   "metadata": {},
   "outputs": [],
   "source": [
    "def get_sample(df, cat=None):\n",
    "    if cat is None:\n",
    "        return df[df.pred != df.true].sample(n=1)\n",
    "    else:\n",
    "        return get_cat_df(df, cat)[df.pred != df.true].sample(n=1)"
   ]
  },
  {
   "cell_type": "code",
   "execution_count": 145,
   "id": "761d7198",
   "metadata": {},
   "outputs": [
    {
     "data": {
      "text/plain": [
       "'http://dbpedia.org/resource/Russia'"
      ]
     },
     "execution_count": 145,
     "metadata": {},
     "output_type": "execute_result"
    }
   ],
   "source": [
    "cat"
   ]
  },
  {
   "cell_type": "code",
   "execution_count": 146,
   "id": "03fae16b",
   "metadata": {},
   "outputs": [
    {
     "name": "stderr",
     "output_type": "stream",
     "text": [
      "C:\\Users\\maxim\\AppData\\Local\\Temp/ipykernel_11384/370248897.py:5: UserWarning: Boolean Series key will be reindexed to match DataFrame index.\n",
      "  return get_cat_df(df, cat)[df.pred != df.true].sample(n=1)\n"
     ]
    },
    {
     "data": {
      "text/html": [
       "<div>\n",
       "<style scoped>\n",
       "    .dataframe tbody tr th:only-of-type {\n",
       "        vertical-align: middle;\n",
       "    }\n",
       "\n",
       "    .dataframe tbody tr th {\n",
       "        vertical-align: top;\n",
       "    }\n",
       "\n",
       "    .dataframe thead th {\n",
       "        text-align: right;\n",
       "    }\n",
       "</style>\n",
       "<table border=\"1\" class=\"dataframe\">\n",
       "  <thead>\n",
       "    <tr style=\"text-align: right;\">\n",
       "      <th></th>\n",
       "      <th>category</th>\n",
       "      <th>input</th>\n",
       "      <th>true</th>\n",
       "      <th>pred</th>\n",
       "      <th>neuron_1</th>\n",
       "      <th>neuron_2</th>\n",
       "      <th>neuron_3</th>\n",
       "      <th>neuron_4</th>\n",
       "      <th>neuron_5</th>\n",
       "      <th>neuron_6</th>\n",
       "      <th>...</th>\n",
       "      <th>neuron_55</th>\n",
       "      <th>neuron_56</th>\n",
       "      <th>neuron_57</th>\n",
       "      <th>neuron_58</th>\n",
       "      <th>neuron_59</th>\n",
       "      <th>neuron_60</th>\n",
       "      <th>neuron_61</th>\n",
       "      <th>neuron_62</th>\n",
       "      <th>neuron_63</th>\n",
       "      <th>neuron_64</th>\n",
       "    </tr>\n",
       "  </thead>\n",
       "  <tbody>\n",
       "    <tr>\n",
       "      <th>http://dbpedia.org/resource/Alexei_Pakhomov</th>\n",
       "      <td>[http://dbpedia.org/resource/Russia]</td>\n",
       "      <td>[0, 0, 0, 0, 0, 0, 0, 0, 0, 0, 0, 0, 0, 0, 0, ...</td>\n",
       "      <td>1</td>\n",
       "      <td>0</td>\n",
       "      <td>0.013503</td>\n",
       "      <td>0.026159</td>\n",
       "      <td>0.036408</td>\n",
       "      <td>-0.031979</td>\n",
       "      <td>0.023641</td>\n",
       "      <td>-0.003359</td>\n",
       "      <td>...</td>\n",
       "      <td>0.054591</td>\n",
       "      <td>0.065087</td>\n",
       "      <td>-0.018827</td>\n",
       "      <td>-0.050582</td>\n",
       "      <td>0.034035</td>\n",
       "      <td>-0.057909</td>\n",
       "      <td>0.030077</td>\n",
       "      <td>-0.032663</td>\n",
       "      <td>0.025175</td>\n",
       "      <td>-0.009467</td>\n",
       "    </tr>\n",
       "  </tbody>\n",
       "</table>\n",
       "<p>1 rows × 68 columns</p>\n",
       "</div>"
      ],
      "text/plain": [
       "                                                                         category  \\\n",
       "http://dbpedia.org/resource/Alexei_Pakhomov  [http://dbpedia.org/resource/Russia]   \n",
       "\n",
       "                                                                                         input  \\\n",
       "http://dbpedia.org/resource/Alexei_Pakhomov  [0, 0, 0, 0, 0, 0, 0, 0, 0, 0, 0, 0, 0, 0, 0, ...   \n",
       "\n",
       "                                             true  pred  neuron_1  neuron_2  \\\n",
       "http://dbpedia.org/resource/Alexei_Pakhomov     1     0  0.013503  0.026159   \n",
       "\n",
       "                                             neuron_3  neuron_4  neuron_5  \\\n",
       "http://dbpedia.org/resource/Alexei_Pakhomov  0.036408 -0.031979  0.023641   \n",
       "\n",
       "                                             neuron_6  ...  neuron_55  \\\n",
       "http://dbpedia.org/resource/Alexei_Pakhomov -0.003359  ...   0.054591   \n",
       "\n",
       "                                             neuron_56  neuron_57  neuron_58  \\\n",
       "http://dbpedia.org/resource/Alexei_Pakhomov   0.065087  -0.018827  -0.050582   \n",
       "\n",
       "                                             neuron_59  neuron_60  neuron_61  \\\n",
       "http://dbpedia.org/resource/Alexei_Pakhomov   0.034035  -0.057909   0.030077   \n",
       "\n",
       "                                             neuron_62  neuron_63  neuron_64  \n",
       "http://dbpedia.org/resource/Alexei_Pakhomov  -0.032663   0.025175  -0.009467  \n",
       "\n",
       "[1 rows x 68 columns]"
      ]
     },
     "execution_count": 146,
     "metadata": {},
     "output_type": "execute_result"
    }
   ],
   "source": [
    "sample = get_sample(df, 'http://dbpedia.org/resource/Russia')\n",
    "sample"
   ]
  },
  {
   "cell_type": "code",
   "execution_count": 147,
   "id": "b703c0a3",
   "metadata": {},
   "outputs": [
    {
     "data": {
      "text/html": [
       "<div>\n",
       "<style scoped>\n",
       "    .dataframe tbody tr th:only-of-type {\n",
       "        vertical-align: middle;\n",
       "    }\n",
       "\n",
       "    .dataframe tbody tr th {\n",
       "        vertical-align: top;\n",
       "    }\n",
       "\n",
       "    .dataframe thead th {\n",
       "        text-align: right;\n",
       "    }\n",
       "</style>\n",
       "<table border=\"1\" class=\"dataframe\">\n",
       "  <thead>\n",
       "    <tr style=\"text-align: right;\">\n",
       "      <th></th>\n",
       "      <th>neuron_1</th>\n",
       "      <th>neuron_2</th>\n",
       "      <th>neuron_3</th>\n",
       "      <th>neuron_4</th>\n",
       "      <th>neuron_5</th>\n",
       "      <th>neuron_6</th>\n",
       "      <th>neuron_7</th>\n",
       "      <th>neuron_8</th>\n",
       "      <th>neuron_9</th>\n",
       "      <th>neuron_10</th>\n",
       "      <th>...</th>\n",
       "      <th>neuron_55</th>\n",
       "      <th>neuron_56</th>\n",
       "      <th>neuron_57</th>\n",
       "      <th>neuron_58</th>\n",
       "      <th>neuron_59</th>\n",
       "      <th>neuron_60</th>\n",
       "      <th>neuron_61</th>\n",
       "      <th>neuron_62</th>\n",
       "      <th>neuron_63</th>\n",
       "      <th>neuron_64</th>\n",
       "    </tr>\n",
       "  </thead>\n",
       "  <tbody>\n",
       "    <tr>\n",
       "      <th>http://dbpedia.org/resource/Alexei_Pakhomov</th>\n",
       "      <td>0.013503</td>\n",
       "      <td>0.026159</td>\n",
       "      <td>0.036408</td>\n",
       "      <td>-0.031979</td>\n",
       "      <td>0.023641</td>\n",
       "      <td>-0.003359</td>\n",
       "      <td>-0.026371</td>\n",
       "      <td>0.038428</td>\n",
       "      <td>-0.018691</td>\n",
       "      <td>-0.033438</td>\n",
       "      <td>...</td>\n",
       "      <td>0.054591</td>\n",
       "      <td>0.065087</td>\n",
       "      <td>-0.018827</td>\n",
       "      <td>-0.050582</td>\n",
       "      <td>0.034035</td>\n",
       "      <td>-0.057909</td>\n",
       "      <td>0.030077</td>\n",
       "      <td>-0.032663</td>\n",
       "      <td>0.025175</td>\n",
       "      <td>-0.009467</td>\n",
       "    </tr>\n",
       "  </tbody>\n",
       "</table>\n",
       "<p>1 rows × 64 columns</p>\n",
       "</div>"
      ],
      "text/plain": [
       "                                             neuron_1  neuron_2  neuron_3  \\\n",
       "http://dbpedia.org/resource/Alexei_Pakhomov  0.013503  0.026159  0.036408   \n",
       "\n",
       "                                             neuron_4  neuron_5  neuron_6  \\\n",
       "http://dbpedia.org/resource/Alexei_Pakhomov -0.031979  0.023641 -0.003359   \n",
       "\n",
       "                                             neuron_7  neuron_8  neuron_9  \\\n",
       "http://dbpedia.org/resource/Alexei_Pakhomov -0.026371  0.038428 -0.018691   \n",
       "\n",
       "                                             neuron_10  ...  neuron_55  \\\n",
       "http://dbpedia.org/resource/Alexei_Pakhomov  -0.033438  ...   0.054591   \n",
       "\n",
       "                                             neuron_56  neuron_57  neuron_58  \\\n",
       "http://dbpedia.org/resource/Alexei_Pakhomov   0.065087  -0.018827  -0.050582   \n",
       "\n",
       "                                             neuron_59  neuron_60  neuron_61  \\\n",
       "http://dbpedia.org/resource/Alexei_Pakhomov   0.034035  -0.057909   0.030077   \n",
       "\n",
       "                                             neuron_62  neuron_63  neuron_64  \n",
       "http://dbpedia.org/resource/Alexei_Pakhomov  -0.032663   0.025175  -0.009467  \n",
       "\n",
       "[1 rows x 64 columns]"
      ]
     },
     "execution_count": 147,
     "metadata": {},
     "output_type": "execute_result"
    }
   ],
   "source": [
    "activations_cols = [x for x in sample.columns if \"neuron\" in x]\n",
    "df_act_sample = sample.loc[:, activations_cols]\n",
    "df_act_sample"
   ]
  },
  {
   "cell_type": "code",
   "execution_count": 148,
   "id": "f55b4662",
   "metadata": {},
   "outputs": [
    {
     "data": {
      "image/png": "[encoded data removed]",
      "text/plain": [
       "<Figure size 1080x432 with 2 Axes>"
      ]
     },
     "metadata": {
      "needs_background": "light"
     },
     "output_type": "display_data"
    }
   ],
   "source": [
    "plot_activ(df_mean_cat, df_act_sample)"
   ]
  },
  {
   "cell_type": "code",
   "execution_count": 149,
   "id": "a4e5e42e",
   "metadata": {},
   "outputs": [],
   "source": [
    "def get_diffs(df, sample_df):\n",
    "    return sample_df.reset_index().drop(columns=['index']) - df"
   ]
  },
  {
   "cell_type": "code",
   "execution_count": 150,
   "id": "f27a110c",
   "metadata": {},
   "outputs": [
    {
     "data": {
      "text/html": [
       "<div>\n",
       "<style scoped>\n",
       "    .dataframe tbody tr th:only-of-type {\n",
       "        vertical-align: middle;\n",
       "    }\n",
       "\n",
       "    .dataframe tbody tr th {\n",
       "        vertical-align: top;\n",
       "    }\n",
       "\n",
       "    .dataframe thead th {\n",
       "        text-align: right;\n",
       "    }\n",
       "</style>\n",
       "<table border=\"1\" class=\"dataframe\">\n",
       "  <thead>\n",
       "    <tr style=\"text-align: right;\">\n",
       "      <th></th>\n",
       "      <th>neuron_1</th>\n",
       "      <th>neuron_2</th>\n",
       "      <th>neuron_3</th>\n",
       "      <th>neuron_4</th>\n",
       "      <th>neuron_5</th>\n",
       "      <th>neuron_6</th>\n",
       "      <th>neuron_7</th>\n",
       "      <th>neuron_8</th>\n",
       "      <th>neuron_9</th>\n",
       "      <th>neuron_10</th>\n",
       "      <th>...</th>\n",
       "      <th>neuron_55</th>\n",
       "      <th>neuron_56</th>\n",
       "      <th>neuron_57</th>\n",
       "      <th>neuron_58</th>\n",
       "      <th>neuron_59</th>\n",
       "      <th>neuron_60</th>\n",
       "      <th>neuron_61</th>\n",
       "      <th>neuron_62</th>\n",
       "      <th>neuron_63</th>\n",
       "      <th>neuron_64</th>\n",
       "    </tr>\n",
       "  </thead>\n",
       "  <tbody>\n",
       "    <tr>\n",
       "      <th>0</th>\n",
       "      <td>0.000966</td>\n",
       "      <td>0.002907</td>\n",
       "      <td>0.002162</td>\n",
       "      <td>-0.002983</td>\n",
       "      <td>0.003444</td>\n",
       "      <td>-0.000567</td>\n",
       "      <td>-0.002147</td>\n",
       "      <td>0.004019</td>\n",
       "      <td>-0.000368</td>\n",
       "      <td>-0.000166</td>\n",
       "      <td>...</td>\n",
       "      <td>0.001352</td>\n",
       "      <td>0.004015</td>\n",
       "      <td>-0.000845</td>\n",
       "      <td>-0.000544</td>\n",
       "      <td>0.002423</td>\n",
       "      <td>0.00088</td>\n",
       "      <td>0.002271</td>\n",
       "      <td>-0.004105</td>\n",
       "      <td>0.000159</td>\n",
       "      <td>0.000901</td>\n",
       "    </tr>\n",
       "  </tbody>\n",
       "</table>\n",
       "<p>1 rows × 64 columns</p>\n",
       "</div>"
      ],
      "text/plain": [
       "   neuron_1  neuron_2  neuron_3  neuron_4  neuron_5  neuron_6  neuron_7  \\\n",
       "0  0.000966  0.002907  0.002162 -0.002983  0.003444 -0.000567 -0.002147   \n",
       "\n",
       "   neuron_8  neuron_9  neuron_10  ...  neuron_55  neuron_56  neuron_57  \\\n",
       "0  0.004019 -0.000368  -0.000166  ...   0.001352   0.004015  -0.000845   \n",
       "\n",
       "   neuron_58  neuron_59  neuron_60  neuron_61  neuron_62  neuron_63  neuron_64  \n",
       "0  -0.000544   0.002423    0.00088   0.002271  -0.004105   0.000159   0.000901  \n",
       "\n",
       "[1 rows x 64 columns]"
      ]
     },
     "execution_count": 150,
     "metadata": {},
     "output_type": "execute_result"
    }
   ],
   "source": [
    "diffs = get_diffs(df_mean_cat, df_act_sample)\n",
    "diffs"
   ]
  },
  {
   "cell_type": "code",
   "execution_count": 151,
   "id": "0aef63b7",
   "metadata": {},
   "outputs": [
    {
     "name": "stdout",
     "output_type": "stream",
     "text": [
      "Average difference is: 0.0020072157494723797\n"
     ]
    }
   ],
   "source": [
    "avg_diff = abs(diffs).sum().sum()/len(diffs.iloc[0, :])\n",
    "print(f\"Average difference is: {avg_diff}\")"
   ]
  },
  {
   "cell_type": "markdown",
   "id": "d3636ea3",
   "metadata": {},
   "source": [
    "### Re-adjust activations\n",
    "\n",
    "On rapproche les activations du sample vers les activations de la catégorie cible d'un facteur 10% sur les neurones dont la différence est significative (i.e. pvalue < 0.01).\n",
    "\n",
    "On a alors besoin de 3 éléments:\n",
    "* le dataframe des activations du sample\n",
    "* le dataframe des activations moyennes de la catégorie cible\n",
    "* le dataframe des pvalues de la catégorie cible (avec maybe l'information sur la significativité de la pvalue, ici fixée à <= 0.01)"
   ]
  },
  {
   "cell_type": "code",
   "execution_count": 152,
   "id": "3e81a860",
   "metadata": {},
   "outputs": [
    {
     "data": {
      "text/html": [
       "<div>\n",
       "<style scoped>\n",
       "    .dataframe tbody tr th:only-of-type {\n",
       "        vertical-align: middle;\n",
       "    }\n",
       "\n",
       "    .dataframe tbody tr th {\n",
       "        vertical-align: top;\n",
       "    }\n",
       "\n",
       "    .dataframe thead th {\n",
       "        text-align: right;\n",
       "    }\n",
       "</style>\n",
       "<table border=\"1\" class=\"dataframe\">\n",
       "  <thead>\n",
       "    <tr style=\"text-align: right;\">\n",
       "      <th></th>\n",
       "      <th>pvalue</th>\n",
       "    </tr>\n",
       "  </thead>\n",
       "  <tbody>\n",
       "    <tr>\n",
       "      <th>0</th>\n",
       "      <td>1.587716e-01</td>\n",
       "    </tr>\n",
       "    <tr>\n",
       "      <th>1</th>\n",
       "      <td>4.878287e-09</td>\n",
       "    </tr>\n",
       "    <tr>\n",
       "      <th>2</th>\n",
       "      <td>6.452485e-05</td>\n",
       "    </tr>\n",
       "    <tr>\n",
       "      <th>3</th>\n",
       "      <td>1.579483e-06</td>\n",
       "    </tr>\n",
       "    <tr>\n",
       "      <th>4</th>\n",
       "      <td>1.897656e-13</td>\n",
       "    </tr>\n",
       "    <tr>\n",
       "      <th>...</th>\n",
       "      <td>...</td>\n",
       "    </tr>\n",
       "    <tr>\n",
       "      <th>59</th>\n",
       "      <td>4.158541e-02</td>\n",
       "    </tr>\n",
       "    <tr>\n",
       "      <th>60</th>\n",
       "      <td>3.111701e-04</td>\n",
       "    </tr>\n",
       "    <tr>\n",
       "      <th>61</th>\n",
       "      <td>1.502952e-06</td>\n",
       "    </tr>\n",
       "    <tr>\n",
       "      <th>62</th>\n",
       "      <td>9.974529e-02</td>\n",
       "    </tr>\n",
       "    <tr>\n",
       "      <th>63</th>\n",
       "      <td>2.292984e-04</td>\n",
       "    </tr>\n",
       "  </tbody>\n",
       "</table>\n",
       "<p>64 rows × 1 columns</p>\n",
       "</div>"
      ],
      "text/plain": [
       "          pvalue\n",
       "0   1.587716e-01\n",
       "1   4.878287e-09\n",
       "2   6.452485e-05\n",
       "3   1.579483e-06\n",
       "4   1.897656e-13\n",
       "..           ...\n",
       "59  4.158541e-02\n",
       "60  3.111701e-04\n",
       "61  1.502952e-06\n",
       "62  9.974529e-02\n",
       "63  2.292984e-04\n",
       "\n",
       "[64 rows x 1 columns]"
      ]
     },
     "execution_count": 152,
     "metadata": {},
     "output_type": "execute_result"
    }
   ],
   "source": [
    "russia_pv = pd.read_pickle('src/russia-pv.pkl')\n",
    "dfrpv = pd.DataFrame(russia_pv, columns=['pvalue'])\n",
    "dfrpv"
   ]
  },
  {
   "cell_type": "code",
   "execution_count": 153,
   "id": "0e6d3cb3",
   "metadata": {},
   "outputs": [
    {
     "name": "stdout",
     "output_type": "stream",
     "text": [
      "(42, 2)\n",
      "          pvalue  sign\n",
      "1   4.878287e-09  True\n",
      "2   6.452485e-05  True\n",
      "3   1.579483e-06  True\n",
      "4   1.897656e-13  True\n",
      "5   2.738027e-11  True\n",
      "7   3.096681e-03  True\n",
      "9   3.773218e-03  True\n",
      "10  1.769776e-03  True\n",
      "12  1.351876e-13  True\n",
      "14  7.951155e-24  True\n",
      "15  2.011291e-03  True\n",
      "17  6.368204e-23  True\n",
      "19  6.570767e-03  True\n",
      "21  5.796425e-05  True\n",
      "22  3.067940e-07  True\n",
      "23  5.675254e-05  True\n",
      "24  1.612688e-10  True\n",
      "26  9.286252e-11  True\n",
      "29  1.690230e-06  True\n",
      "30  3.268496e-09  True\n",
      "31  1.080565e-11  True\n",
      "32  5.932947e-03  True\n",
      "33  1.684570e-11  True\n",
      "34  2.491615e-03  True\n",
      "36  2.208312e-03  True\n",
      "40  4.088773e-18  True\n",
      "41  3.012649e-08  True\n",
      "42  1.058638e-14  True\n",
      "43  6.252875e-12  True\n",
      "44  2.203407e-05  True\n",
      "46  1.785589e-24  True\n",
      "47  9.985386e-08  True\n",
      "49  9.544518e-05  True\n",
      "50  1.910548e-19  True\n",
      "51  2.097827e-18  True\n",
      "52  8.469099e-08  True\n",
      "53  1.930613e-16  True\n",
      "56  2.021712e-03  True\n",
      "58  6.567423e-05  True\n",
      "60  3.111701e-04  True\n",
      "61  1.502952e-06  True\n",
      "63  2.292984e-04  True\n"
     ]
    }
   ],
   "source": [
    "dfrpv['sign'] = dfrpv['pvalue'] <= 0.01\n",
    "print(dfrpv[dfrpv['sign'] == True].shape)\n",
    "print(dfrpv[dfrpv['sign'] == True])"
   ]
  },
  {
   "cell_type": "code",
   "execution_count": 154,
   "id": "500d029a",
   "metadata": {},
   "outputs": [
    {
     "data": {
      "image/png": "[encoded data removed]",
      "text/plain": [
       "<Figure size 1080x360 with 1 Axes>"
      ]
     },
     "metadata": {
      "needs_background": "light"
     },
     "output_type": "display_data"
    }
   ],
   "source": [
    "plt.figure(figsize=(15, 5))\n",
    "sns.scatterplot(x=range(len(dfrpv['pvalue'])), y='pvalue', \n",
    "                hue='sign', data=dfrpv)\n",
    "plt.show()"
   ]
  },
  {
   "cell_type": "markdown",
   "id": "54abf5d5",
   "metadata": {},
   "source": [
    "Pvalue dataframe with significant bool value (example for russia here)"
   ]
  },
  {
   "cell_type": "code",
   "execution_count": 155,
   "id": "267f47e6",
   "metadata": {},
   "outputs": [
    {
     "data": {
      "text/html": [
       "<div>\n",
       "<style scoped>\n",
       "    .dataframe tbody tr th:only-of-type {\n",
       "        vertical-align: middle;\n",
       "    }\n",
       "\n",
       "    .dataframe tbody tr th {\n",
       "        vertical-align: top;\n",
       "    }\n",
       "\n",
       "    .dataframe thead th {\n",
       "        text-align: right;\n",
       "    }\n",
       "</style>\n",
       "<table border=\"1\" class=\"dataframe\">\n",
       "  <thead>\n",
       "    <tr style=\"text-align: right;\">\n",
       "      <th></th>\n",
       "      <th>pvalue</th>\n",
       "      <th>sign</th>\n",
       "    </tr>\n",
       "  </thead>\n",
       "  <tbody>\n",
       "    <tr>\n",
       "      <th>0</th>\n",
       "      <td>1.587716e-01</td>\n",
       "      <td>False</td>\n",
       "    </tr>\n",
       "    <tr>\n",
       "      <th>1</th>\n",
       "      <td>4.878287e-09</td>\n",
       "      <td>True</td>\n",
       "    </tr>\n",
       "    <tr>\n",
       "      <th>2</th>\n",
       "      <td>6.452485e-05</td>\n",
       "      <td>True</td>\n",
       "    </tr>\n",
       "    <tr>\n",
       "      <th>3</th>\n",
       "      <td>1.579483e-06</td>\n",
       "      <td>True</td>\n",
       "    </tr>\n",
       "    <tr>\n",
       "      <th>4</th>\n",
       "      <td>1.897656e-13</td>\n",
       "      <td>True</td>\n",
       "    </tr>\n",
       "    <tr>\n",
       "      <th>...</th>\n",
       "      <td>...</td>\n",
       "      <td>...</td>\n",
       "    </tr>\n",
       "    <tr>\n",
       "      <th>59</th>\n",
       "      <td>4.158541e-02</td>\n",
       "      <td>False</td>\n",
       "    </tr>\n",
       "    <tr>\n",
       "      <th>60</th>\n",
       "      <td>3.111701e-04</td>\n",
       "      <td>True</td>\n",
       "    </tr>\n",
       "    <tr>\n",
       "      <th>61</th>\n",
       "      <td>1.502952e-06</td>\n",
       "      <td>True</td>\n",
       "    </tr>\n",
       "    <tr>\n",
       "      <th>62</th>\n",
       "      <td>9.974529e-02</td>\n",
       "      <td>False</td>\n",
       "    </tr>\n",
       "    <tr>\n",
       "      <th>63</th>\n",
       "      <td>2.292984e-04</td>\n",
       "      <td>True</td>\n",
       "    </tr>\n",
       "  </tbody>\n",
       "</table>\n",
       "<p>64 rows × 2 columns</p>\n",
       "</div>"
      ],
      "text/plain": [
       "          pvalue   sign\n",
       "0   1.587716e-01  False\n",
       "1   4.878287e-09   True\n",
       "2   6.452485e-05   True\n",
       "3   1.579483e-06   True\n",
       "4   1.897656e-13   True\n",
       "..           ...    ...\n",
       "59  4.158541e-02  False\n",
       "60  3.111701e-04   True\n",
       "61  1.502952e-06   True\n",
       "62  9.974529e-02  False\n",
       "63  2.292984e-04   True\n",
       "\n",
       "[64 rows x 2 columns]"
      ]
     },
     "execution_count": 155,
     "metadata": {},
     "output_type": "execute_result"
    }
   ],
   "source": [
    "dfrpv"
   ]
  },
  {
   "cell_type": "code",
   "execution_count": 156,
   "id": "546dbd78",
   "metadata": {},
   "outputs": [
    {
     "data": {
      "text/html": [
       "<div>\n",
       "<style scoped>\n",
       "    .dataframe tbody tr th:only-of-type {\n",
       "        vertical-align: middle;\n",
       "    }\n",
       "\n",
       "    .dataframe tbody tr th {\n",
       "        vertical-align: top;\n",
       "    }\n",
       "\n",
       "    .dataframe thead th {\n",
       "        text-align: right;\n",
       "    }\n",
       "</style>\n",
       "<table border=\"1\" class=\"dataframe\">\n",
       "  <thead>\n",
       "    <tr style=\"text-align: right;\">\n",
       "      <th></th>\n",
       "      <th>neuron_1</th>\n",
       "      <th>neuron_2</th>\n",
       "      <th>neuron_3</th>\n",
       "      <th>neuron_4</th>\n",
       "      <th>neuron_5</th>\n",
       "      <th>neuron_6</th>\n",
       "      <th>neuron_7</th>\n",
       "      <th>neuron_8</th>\n",
       "      <th>neuron_9</th>\n",
       "      <th>neuron_10</th>\n",
       "      <th>...</th>\n",
       "      <th>neuron_55</th>\n",
       "      <th>neuron_56</th>\n",
       "      <th>neuron_57</th>\n",
       "      <th>neuron_58</th>\n",
       "      <th>neuron_59</th>\n",
       "      <th>neuron_60</th>\n",
       "      <th>neuron_61</th>\n",
       "      <th>neuron_62</th>\n",
       "      <th>neuron_63</th>\n",
       "      <th>neuron_64</th>\n",
       "    </tr>\n",
       "  </thead>\n",
       "  <tbody>\n",
       "    <tr>\n",
       "      <th>0</th>\n",
       "      <td>0.012538</td>\n",
       "      <td>0.023253</td>\n",
       "      <td>0.034245</td>\n",
       "      <td>-0.028996</td>\n",
       "      <td>0.020197</td>\n",
       "      <td>-0.002792</td>\n",
       "      <td>-0.024223</td>\n",
       "      <td>0.034409</td>\n",
       "      <td>-0.018323</td>\n",
       "      <td>-0.033272</td>\n",
       "      <td>...</td>\n",
       "      <td>0.053239</td>\n",
       "      <td>0.061073</td>\n",
       "      <td>-0.017981</td>\n",
       "      <td>-0.050038</td>\n",
       "      <td>0.031612</td>\n",
       "      <td>-0.058789</td>\n",
       "      <td>0.027805</td>\n",
       "      <td>-0.028558</td>\n",
       "      <td>0.025015</td>\n",
       "      <td>-0.010367</td>\n",
       "    </tr>\n",
       "  </tbody>\n",
       "</table>\n",
       "<p>1 rows × 64 columns</p>\n",
       "</div>"
      ],
      "text/plain": [
       "   neuron_1  neuron_2  neuron_3  neuron_4  neuron_5  neuron_6  neuron_7  \\\n",
       "0  0.012538  0.023253  0.034245 -0.028996  0.020197 -0.002792 -0.024223   \n",
       "\n",
       "   neuron_8  neuron_9  neuron_10  ...  neuron_55  neuron_56  neuron_57  \\\n",
       "0  0.034409 -0.018323  -0.033272  ...   0.053239   0.061073  -0.017981   \n",
       "\n",
       "   neuron_58  neuron_59  neuron_60  neuron_61  neuron_62  neuron_63  neuron_64  \n",
       "0  -0.050038   0.031612  -0.058789   0.027805  -0.028558   0.025015  -0.010367  \n",
       "\n",
       "[1 rows x 64 columns]"
      ]
     },
     "execution_count": 156,
     "metadata": {},
     "output_type": "execute_result"
    }
   ],
   "source": [
    "df_mean_cat # mean activations for a category (here russia)"
   ]
  },
  {
   "cell_type": "code",
   "execution_count": 157,
   "id": "af899ac5",
   "metadata": {},
   "outputs": [
    {
     "data": {
      "text/html": [
       "<div>\n",
       "<style scoped>\n",
       "    .dataframe tbody tr th:only-of-type {\n",
       "        vertical-align: middle;\n",
       "    }\n",
       "\n",
       "    .dataframe tbody tr th {\n",
       "        vertical-align: top;\n",
       "    }\n",
       "\n",
       "    .dataframe thead th {\n",
       "        text-align: right;\n",
       "    }\n",
       "</style>\n",
       "<table border=\"1\" class=\"dataframe\">\n",
       "  <thead>\n",
       "    <tr style=\"text-align: right;\">\n",
       "      <th></th>\n",
       "      <th>neuron_1</th>\n",
       "      <th>neuron_2</th>\n",
       "      <th>neuron_3</th>\n",
       "      <th>neuron_4</th>\n",
       "      <th>neuron_5</th>\n",
       "      <th>neuron_6</th>\n",
       "      <th>neuron_7</th>\n",
       "      <th>neuron_8</th>\n",
       "      <th>neuron_9</th>\n",
       "      <th>neuron_10</th>\n",
       "      <th>...</th>\n",
       "      <th>neuron_55</th>\n",
       "      <th>neuron_56</th>\n",
       "      <th>neuron_57</th>\n",
       "      <th>neuron_58</th>\n",
       "      <th>neuron_59</th>\n",
       "      <th>neuron_60</th>\n",
       "      <th>neuron_61</th>\n",
       "      <th>neuron_62</th>\n",
       "      <th>neuron_63</th>\n",
       "      <th>neuron_64</th>\n",
       "    </tr>\n",
       "  </thead>\n",
       "  <tbody>\n",
       "    <tr>\n",
       "      <th>http://dbpedia.org/resource/Alexei_Pakhomov</th>\n",
       "      <td>0.013503</td>\n",
       "      <td>0.026159</td>\n",
       "      <td>0.036408</td>\n",
       "      <td>-0.031979</td>\n",
       "      <td>0.023641</td>\n",
       "      <td>-0.003359</td>\n",
       "      <td>-0.026371</td>\n",
       "      <td>0.038428</td>\n",
       "      <td>-0.018691</td>\n",
       "      <td>-0.033438</td>\n",
       "      <td>...</td>\n",
       "      <td>0.054591</td>\n",
       "      <td>0.065087</td>\n",
       "      <td>-0.018827</td>\n",
       "      <td>-0.050582</td>\n",
       "      <td>0.034035</td>\n",
       "      <td>-0.057909</td>\n",
       "      <td>0.030077</td>\n",
       "      <td>-0.032663</td>\n",
       "      <td>0.025175</td>\n",
       "      <td>-0.009467</td>\n",
       "    </tr>\n",
       "  </tbody>\n",
       "</table>\n",
       "<p>1 rows × 64 columns</p>\n",
       "</div>"
      ],
      "text/plain": [
       "                                             neuron_1  neuron_2  neuron_3  \\\n",
       "http://dbpedia.org/resource/Alexei_Pakhomov  0.013503  0.026159  0.036408   \n",
       "\n",
       "                                             neuron_4  neuron_5  neuron_6  \\\n",
       "http://dbpedia.org/resource/Alexei_Pakhomov -0.031979  0.023641 -0.003359   \n",
       "\n",
       "                                             neuron_7  neuron_8  neuron_9  \\\n",
       "http://dbpedia.org/resource/Alexei_Pakhomov -0.026371  0.038428 -0.018691   \n",
       "\n",
       "                                             neuron_10  ...  neuron_55  \\\n",
       "http://dbpedia.org/resource/Alexei_Pakhomov  -0.033438  ...   0.054591   \n",
       "\n",
       "                                             neuron_56  neuron_57  neuron_58  \\\n",
       "http://dbpedia.org/resource/Alexei_Pakhomov   0.065087  -0.018827  -0.050582   \n",
       "\n",
       "                                             neuron_59  neuron_60  neuron_61  \\\n",
       "http://dbpedia.org/resource/Alexei_Pakhomov   0.034035  -0.057909   0.030077   \n",
       "\n",
       "                                             neuron_62  neuron_63  neuron_64  \n",
       "http://dbpedia.org/resource/Alexei_Pakhomov  -0.032663   0.025175  -0.009467  \n",
       "\n",
       "[1 rows x 64 columns]"
      ]
     },
     "execution_count": 157,
     "metadata": {},
     "output_type": "execute_result"
    }
   ],
   "source": [
    "df_act_sample # activations for a misclassified sample of the category"
   ]
  },
  {
   "cell_type": "code",
   "execution_count": 158,
   "id": "998061d9",
   "metadata": {},
   "outputs": [
    {
     "data": {
      "image/png": "[encoded data removed]",
      "text/plain": [
       "<Figure size 1080x432 with 2 Axes>"
      ]
     },
     "metadata": {
      "needs_background": "light"
     },
     "output_type": "display_data"
    }
   ],
   "source": [
    "plot_activ(df=df_act_sample, df2=df_mean_cat)\n",
    "# df in blue\n",
    "# df2 in orange"
   ]
  },
  {
   "cell_type": "code",
   "execution_count": 159,
   "id": "0b49fd9f",
   "metadata": {},
   "outputs": [
    {
     "data": {
      "text/html": [
       "<div>\n",
       "<style scoped>\n",
       "    .dataframe tbody tr th:only-of-type {\n",
       "        vertical-align: middle;\n",
       "    }\n",
       "\n",
       "    .dataframe tbody tr th {\n",
       "        vertical-align: top;\n",
       "    }\n",
       "\n",
       "    .dataframe thead th {\n",
       "        text-align: right;\n",
       "    }\n",
       "</style>\n",
       "<table border=\"1\" class=\"dataframe\">\n",
       "  <thead>\n",
       "    <tr style=\"text-align: right;\">\n",
       "      <th></th>\n",
       "      <th>pvalue</th>\n",
       "      <th>sign</th>\n",
       "    </tr>\n",
       "  </thead>\n",
       "  <tbody>\n",
       "    <tr>\n",
       "      <th>neuron_1</th>\n",
       "      <td>1.587716e-01</td>\n",
       "      <td>False</td>\n",
       "    </tr>\n",
       "    <tr>\n",
       "      <th>neuron_2</th>\n",
       "      <td>4.878287e-09</td>\n",
       "      <td>True</td>\n",
       "    </tr>\n",
       "    <tr>\n",
       "      <th>neuron_3</th>\n",
       "      <td>6.452485e-05</td>\n",
       "      <td>True</td>\n",
       "    </tr>\n",
       "    <tr>\n",
       "      <th>neuron_4</th>\n",
       "      <td>1.579483e-06</td>\n",
       "      <td>True</td>\n",
       "    </tr>\n",
       "    <tr>\n",
       "      <th>neuron_5</th>\n",
       "      <td>1.897656e-13</td>\n",
       "      <td>True</td>\n",
       "    </tr>\n",
       "    <tr>\n",
       "      <th>...</th>\n",
       "      <td>...</td>\n",
       "      <td>...</td>\n",
       "    </tr>\n",
       "    <tr>\n",
       "      <th>neuron_60</th>\n",
       "      <td>4.158541e-02</td>\n",
       "      <td>False</td>\n",
       "    </tr>\n",
       "    <tr>\n",
       "      <th>neuron_61</th>\n",
       "      <td>3.111701e-04</td>\n",
       "      <td>True</td>\n",
       "    </tr>\n",
       "    <tr>\n",
       "      <th>neuron_62</th>\n",
       "      <td>1.502952e-06</td>\n",
       "      <td>True</td>\n",
       "    </tr>\n",
       "    <tr>\n",
       "      <th>neuron_63</th>\n",
       "      <td>9.974529e-02</td>\n",
       "      <td>False</td>\n",
       "    </tr>\n",
       "    <tr>\n",
       "      <th>neuron_64</th>\n",
       "      <td>2.292984e-04</td>\n",
       "      <td>True</td>\n",
       "    </tr>\n",
       "  </tbody>\n",
       "</table>\n",
       "<p>64 rows × 2 columns</p>\n",
       "</div>"
      ],
      "text/plain": [
       "                 pvalue   sign\n",
       "neuron_1   1.587716e-01  False\n",
       "neuron_2   4.878287e-09   True\n",
       "neuron_3   6.452485e-05   True\n",
       "neuron_4   1.579483e-06   True\n",
       "neuron_5   1.897656e-13   True\n",
       "...                 ...    ...\n",
       "neuron_60  4.158541e-02  False\n",
       "neuron_61  3.111701e-04   True\n",
       "neuron_62  1.502952e-06   True\n",
       "neuron_63  9.974529e-02  False\n",
       "neuron_64  2.292984e-04   True\n",
       "\n",
       "[64 rows x 2 columns]"
      ]
     },
     "execution_count": 159,
     "metadata": {},
     "output_type": "execute_result"
    }
   ],
   "source": [
    "dfrpv.set_index(df_act_sample.T.index, inplace=True)\n",
    "dfrpv"
   ]
  },
  {
   "cell_type": "markdown",
   "id": "dff791dc",
   "metadata": {},
   "source": [
    "The formula for the new data point is : \n",
    "\n",
    "$$ s' = s - d * f $$\n",
    "\n",
    "where $s'$ is the new value, $s$ is the activation value of the sample, $d$ is the difference between the sample activation and the mean activation (on the same neuron) and $f$ is the factor"
   ]
  },
  {
   "cell_type": "code",
   "execution_count": 160,
   "id": "bc722fe0",
   "metadata": {},
   "outputs": [],
   "source": [
    "def boost(sample, category, pvalue=None):\n",
    "    \"\"\"\n",
    "    both of the 3 elements have the same shape\n",
    "    pvalues might be reached directly from this function\n",
    "    \"\"\"\n",
    "    \n",
    "    factor = 0.1 # i.e. 10%\n",
    "    \n",
    "    # We built a proper dataset to process the data\n",
    "    df = pd.concat([sample, category, pvalue]).T\n",
    "    df.columns = [\n",
    "        'sample', 'cat', 'pvalue', 'sign'\n",
    "    ]\n",
    "    \n",
    "    df['new_value'] = df['sample']\n",
    "    \n",
    "    for i in range(df.shape[0]):\n",
    "        index = f\"neuron_{i+1}\"\n",
    "        if df.loc[index, \"sign\"] == True:\n",
    "            df.loc[index, \"new_value\"] = df.loc[index, 'sample'] - (df.loc[index, 'sample'] - df.loc[index, 'cat']) * factor\n",
    "    \n",
    "    return df"
   ]
  },
  {
   "cell_type": "code",
   "execution_count": 161,
   "id": "a12340c1",
   "metadata": {},
   "outputs": [
    {
     "data": {
      "text/html": [
       "<div>\n",
       "<style scoped>\n",
       "    .dataframe tbody tr th:only-of-type {\n",
       "        vertical-align: middle;\n",
       "    }\n",
       "\n",
       "    .dataframe tbody tr th {\n",
       "        vertical-align: top;\n",
       "    }\n",
       "\n",
       "    .dataframe thead th {\n",
       "        text-align: right;\n",
       "    }\n",
       "</style>\n",
       "<table border=\"1\" class=\"dataframe\">\n",
       "  <thead>\n",
       "    <tr style=\"text-align: right;\">\n",
       "      <th></th>\n",
       "      <th>sample</th>\n",
       "      <th>cat</th>\n",
       "      <th>pvalue</th>\n",
       "      <th>sign</th>\n",
       "      <th>new_value</th>\n",
       "    </tr>\n",
       "  </thead>\n",
       "  <tbody>\n",
       "    <tr>\n",
       "      <th>neuron_1</th>\n",
       "      <td>0.013503</td>\n",
       "      <td>0.012538</td>\n",
       "      <td>0.158772</td>\n",
       "      <td>False</td>\n",
       "      <td>0.013503</td>\n",
       "    </tr>\n",
       "    <tr>\n",
       "      <th>neuron_2</th>\n",
       "      <td>0.026159</td>\n",
       "      <td>0.023253</td>\n",
       "      <td>0.0</td>\n",
       "      <td>True</td>\n",
       "      <td>0.025869</td>\n",
       "    </tr>\n",
       "    <tr>\n",
       "      <th>neuron_3</th>\n",
       "      <td>0.036408</td>\n",
       "      <td>0.034245</td>\n",
       "      <td>0.000065</td>\n",
       "      <td>True</td>\n",
       "      <td>0.036191</td>\n",
       "    </tr>\n",
       "    <tr>\n",
       "      <th>neuron_4</th>\n",
       "      <td>-0.031979</td>\n",
       "      <td>-0.028996</td>\n",
       "      <td>0.000002</td>\n",
       "      <td>True</td>\n",
       "      <td>-0.031681</td>\n",
       "    </tr>\n",
       "    <tr>\n",
       "      <th>neuron_5</th>\n",
       "      <td>0.023641</td>\n",
       "      <td>0.020197</td>\n",
       "      <td>0.0</td>\n",
       "      <td>True</td>\n",
       "      <td>0.023296</td>\n",
       "    </tr>\n",
       "    <tr>\n",
       "      <th>...</th>\n",
       "      <td>...</td>\n",
       "      <td>...</td>\n",
       "      <td>...</td>\n",
       "      <td>...</td>\n",
       "      <td>...</td>\n",
       "    </tr>\n",
       "    <tr>\n",
       "      <th>neuron_60</th>\n",
       "      <td>-0.057909</td>\n",
       "      <td>-0.058789</td>\n",
       "      <td>0.041585</td>\n",
       "      <td>False</td>\n",
       "      <td>-0.057909</td>\n",
       "    </tr>\n",
       "    <tr>\n",
       "      <th>neuron_61</th>\n",
       "      <td>0.030077</td>\n",
       "      <td>0.027805</td>\n",
       "      <td>0.000311</td>\n",
       "      <td>True</td>\n",
       "      <td>0.02985</td>\n",
       "    </tr>\n",
       "    <tr>\n",
       "      <th>neuron_62</th>\n",
       "      <td>-0.032663</td>\n",
       "      <td>-0.028558</td>\n",
       "      <td>0.000002</td>\n",
       "      <td>True</td>\n",
       "      <td>-0.032253</td>\n",
       "    </tr>\n",
       "    <tr>\n",
       "      <th>neuron_63</th>\n",
       "      <td>0.025175</td>\n",
       "      <td>0.025015</td>\n",
       "      <td>0.099745</td>\n",
       "      <td>False</td>\n",
       "      <td>0.025175</td>\n",
       "    </tr>\n",
       "    <tr>\n",
       "      <th>neuron_64</th>\n",
       "      <td>-0.009467</td>\n",
       "      <td>-0.010367</td>\n",
       "      <td>0.000229</td>\n",
       "      <td>True</td>\n",
       "      <td>-0.009557</td>\n",
       "    </tr>\n",
       "  </tbody>\n",
       "</table>\n",
       "<p>64 rows × 5 columns</p>\n",
       "</div>"
      ],
      "text/plain": [
       "             sample       cat    pvalue   sign new_value\n",
       "neuron_1   0.013503  0.012538  0.158772  False  0.013503\n",
       "neuron_2   0.026159  0.023253       0.0   True  0.025869\n",
       "neuron_3   0.036408  0.034245  0.000065   True  0.036191\n",
       "neuron_4  -0.031979 -0.028996  0.000002   True -0.031681\n",
       "neuron_5   0.023641  0.020197       0.0   True  0.023296\n",
       "...             ...       ...       ...    ...       ...\n",
       "neuron_60 -0.057909 -0.058789  0.041585  False -0.057909\n",
       "neuron_61  0.030077  0.027805  0.000311   True   0.02985\n",
       "neuron_62 -0.032663 -0.028558  0.000002   True -0.032253\n",
       "neuron_63  0.025175  0.025015  0.099745  False  0.025175\n",
       "neuron_64 -0.009467 -0.010367  0.000229   True -0.009557\n",
       "\n",
       "[64 rows x 5 columns]"
      ]
     },
     "execution_count": 161,
     "metadata": {},
     "output_type": "execute_result"
    }
   ],
   "source": [
    "dfb = boost(df_act_sample, df_mean_cat, dfrpv.T)\n",
    "dfb"
   ]
  },
  {
   "cell_type": "code",
   "execution_count": 162,
   "id": "a6cd1dc9",
   "metadata": {},
   "outputs": [
    {
     "data": {
      "text/html": [
       "<div>\n",
       "<style scoped>\n",
       "    .dataframe tbody tr th:only-of-type {\n",
       "        vertical-align: middle;\n",
       "    }\n",
       "\n",
       "    .dataframe tbody tr th {\n",
       "        vertical-align: top;\n",
       "    }\n",
       "\n",
       "    .dataframe thead th {\n",
       "        text-align: right;\n",
       "    }\n",
       "</style>\n",
       "<table border=\"1\" class=\"dataframe\">\n",
       "  <thead>\n",
       "    <tr style=\"text-align: right;\">\n",
       "      <th></th>\n",
       "      <th>sample</th>\n",
       "      <th>cat</th>\n",
       "      <th>pvalue</th>\n",
       "      <th>sign</th>\n",
       "      <th>new_value</th>\n",
       "    </tr>\n",
       "  </thead>\n",
       "  <tbody>\n",
       "    <tr>\n",
       "      <th>neuron_1</th>\n",
       "      <td>0.013503</td>\n",
       "      <td>0.012538</td>\n",
       "      <td>0.158772</td>\n",
       "      <td>False</td>\n",
       "      <td>0.013503</td>\n",
       "    </tr>\n",
       "    <tr>\n",
       "      <th>neuron_2</th>\n",
       "      <td>0.026159</td>\n",
       "      <td>0.023253</td>\n",
       "      <td>0.0</td>\n",
       "      <td>True</td>\n",
       "      <td>0.025869</td>\n",
       "    </tr>\n",
       "    <tr>\n",
       "      <th>neuron_3</th>\n",
       "      <td>0.036408</td>\n",
       "      <td>0.034245</td>\n",
       "      <td>0.000065</td>\n",
       "      <td>True</td>\n",
       "      <td>0.036191</td>\n",
       "    </tr>\n",
       "    <tr>\n",
       "      <th>neuron_4</th>\n",
       "      <td>-0.031979</td>\n",
       "      <td>-0.028996</td>\n",
       "      <td>0.000002</td>\n",
       "      <td>True</td>\n",
       "      <td>-0.031681</td>\n",
       "    </tr>\n",
       "    <tr>\n",
       "      <th>neuron_5</th>\n",
       "      <td>0.023641</td>\n",
       "      <td>0.020197</td>\n",
       "      <td>0.0</td>\n",
       "      <td>True</td>\n",
       "      <td>0.023296</td>\n",
       "    </tr>\n",
       "    <tr>\n",
       "      <th>...</th>\n",
       "      <td>...</td>\n",
       "      <td>...</td>\n",
       "      <td>...</td>\n",
       "      <td>...</td>\n",
       "      <td>...</td>\n",
       "    </tr>\n",
       "    <tr>\n",
       "      <th>neuron_60</th>\n",
       "      <td>-0.057909</td>\n",
       "      <td>-0.058789</td>\n",
       "      <td>0.041585</td>\n",
       "      <td>False</td>\n",
       "      <td>-0.057909</td>\n",
       "    </tr>\n",
       "    <tr>\n",
       "      <th>neuron_61</th>\n",
       "      <td>0.030077</td>\n",
       "      <td>0.027805</td>\n",
       "      <td>0.000311</td>\n",
       "      <td>True</td>\n",
       "      <td>0.02985</td>\n",
       "    </tr>\n",
       "    <tr>\n",
       "      <th>neuron_62</th>\n",
       "      <td>-0.032663</td>\n",
       "      <td>-0.028558</td>\n",
       "      <td>0.000002</td>\n",
       "      <td>True</td>\n",
       "      <td>-0.032253</td>\n",
       "    </tr>\n",
       "    <tr>\n",
       "      <th>neuron_63</th>\n",
       "      <td>0.025175</td>\n",
       "      <td>0.025015</td>\n",
       "      <td>0.099745</td>\n",
       "      <td>False</td>\n",
       "      <td>0.025175</td>\n",
       "    </tr>\n",
       "    <tr>\n",
       "      <th>neuron_64</th>\n",
       "      <td>-0.009467</td>\n",
       "      <td>-0.010367</td>\n",
       "      <td>0.000229</td>\n",
       "      <td>True</td>\n",
       "      <td>-0.009557</td>\n",
       "    </tr>\n",
       "  </tbody>\n",
       "</table>\n",
       "<p>64 rows × 5 columns</p>\n",
       "</div>"
      ],
      "text/plain": [
       "             sample       cat    pvalue   sign new_value\n",
       "neuron_1   0.013503  0.012538  0.158772  False  0.013503\n",
       "neuron_2   0.026159  0.023253       0.0   True  0.025869\n",
       "neuron_3   0.036408  0.034245  0.000065   True  0.036191\n",
       "neuron_4  -0.031979 -0.028996  0.000002   True -0.031681\n",
       "neuron_5   0.023641  0.020197       0.0   True  0.023296\n",
       "...             ...       ...       ...    ...       ...\n",
       "neuron_60 -0.057909 -0.058789  0.041585  False -0.057909\n",
       "neuron_61  0.030077  0.027805  0.000311   True   0.02985\n",
       "neuron_62 -0.032663 -0.028558  0.000002   True -0.032253\n",
       "neuron_63  0.025175  0.025015  0.099745  False  0.025175\n",
       "neuron_64 -0.009467 -0.010367  0.000229   True -0.009557\n",
       "\n",
       "[64 rows x 5 columns]"
      ]
     },
     "execution_count": 162,
     "metadata": {},
     "output_type": "execute_result"
    }
   ],
   "source": [
    "dfb.fillna(value=dfb[dfb['sign'] == False]['new_value'])"
   ]
  },
  {
   "cell_type": "code",
   "execution_count": 163,
   "id": "1310fdb1",
   "metadata": {},
   "outputs": [
    {
     "data": {
      "text/plain": [
       "neuron_1     0.013503\n",
       "neuron_7    -0.026371\n",
       "neuron_9    -0.018691\n",
       "neuron_12    0.045947\n",
       "neuron_14   -0.051858\n",
       "neuron_17   -0.049625\n",
       "neuron_19   -0.026127\n",
       "neuron_21   -0.005404\n",
       "neuron_26    0.054499\n",
       "neuron_28     0.01566\n",
       "neuron_29   -0.008574\n",
       "neuron_36   -0.065436\n",
       "neuron_38   -0.043955\n",
       "neuron_39    0.030168\n",
       "neuron_40    -0.00343\n",
       "neuron_46    0.055274\n",
       "neuron_49   -0.006835\n",
       "neuron_55    0.054591\n",
       "neuron_56    0.065087\n",
       "neuron_58   -0.050582\n",
       "neuron_60   -0.057909\n",
       "neuron_63    0.025175\n",
       "Name: sample, dtype: object"
      ]
     },
     "execution_count": 163,
     "metadata": {},
     "output_type": "execute_result"
    }
   ],
   "source": [
    "dfb[dfb['sign'] == False]['sample']"
   ]
  },
  {
   "cell_type": "markdown",
   "id": "e6961121",
   "metadata": {},
   "source": [
    "### Display the new visualization"
   ]
  },
  {
   "cell_type": "code",
   "execution_count": 164,
   "id": "d23ba174",
   "metadata": {},
   "outputs": [
    {
     "data": {
      "text/plain": [
       "array([0.013503344729542732, 0.02615916170179844, 0.036407697945833206,\n",
       "       -0.03197935223579407, 0.023640867322683334, -0.0033585417550057173,\n",
       "       -0.02637065388262272, 0.03842812776565552, -0.01869094930589199,\n",
       "       -0.03343786299228668, -0.01799437589943409, 0.045947033911943436,\n",
       "       0.016278835013508797, -0.05185842141509056, 0.013836126774549484,\n",
       "       -0.03462604060769081, -0.049624644219875336,\n",
       "       -0.0018109637312591076, -0.02612651139497757,\n",
       "       -0.057780977338552475, -0.005404047667980194,\n",
       "       -0.015986233949661255, 0.033437807112932205, -0.039080746471881866,\n",
       "       -0.01370942872017622, 0.05449899658560753, -0.0040823183953762054,\n",
       "       0.015659935772418976, -0.008574340492486954, -0.029590493068099022,\n",
       "       -0.00823979452252388, -0.0025421008467674255, 0.0691450908780098,\n",
       "       -0.0018665596144273877, 0.026431169360876083, -0.06543648988008499,\n",
       "       0.009624114260077477, -0.04395535588264465, 0.030168335884809494,\n",
       "       -0.0034296023659408092, 0.0038966163992881775,\n",
       "       0.007951777428388596, -0.017471665516495705, 0.0013205291470512748,\n",
       "       0.0002056877565337345, 0.055274371057748795, -0.00541269313544035,\n",
       "       0.005554392002522945, -0.006834548898041248, -0.010810068808495998,\n",
       "       0.009349241852760315, 0.010311130434274673, 0.03589434176683426,\n",
       "       0.0023540130350738764, 0.05459069460630417, 0.06508709490299225,\n",
       "       -0.018826566636562347, -0.05058163031935692, 0.034034986048936844,\n",
       "       -0.05790937319397926, 0.030076634138822556, -0.032663118094205856,\n",
       "       0.025174608454108238, -0.009466510266065598], dtype=object)"
      ]
     },
     "execution_count": 164,
     "metadata": {},
     "output_type": "execute_result"
    }
   ],
   "source": [
    "dfb['sample'].values"
   ]
  },
  {
   "cell_type": "code",
   "execution_count": 165,
   "id": "aac7c42f",
   "metadata": {},
   "outputs": [
    {
     "data": {
      "text/html": [
       "<div>\n",
       "<style scoped>\n",
       "    .dataframe tbody tr th:only-of-type {\n",
       "        vertical-align: middle;\n",
       "    }\n",
       "\n",
       "    .dataframe tbody tr th {\n",
       "        vertical-align: top;\n",
       "    }\n",
       "\n",
       "    .dataframe thead th {\n",
       "        text-align: right;\n",
       "    }\n",
       "</style>\n",
       "<table border=\"1\" class=\"dataframe\">\n",
       "  <thead>\n",
       "    <tr style=\"text-align: right;\">\n",
       "      <th></th>\n",
       "      <th>neuron_1</th>\n",
       "      <th>neuron_2</th>\n",
       "      <th>neuron_3</th>\n",
       "      <th>neuron_4</th>\n",
       "      <th>neuron_5</th>\n",
       "      <th>neuron_6</th>\n",
       "      <th>neuron_7</th>\n",
       "      <th>neuron_8</th>\n",
       "      <th>neuron_9</th>\n",
       "      <th>neuron_10</th>\n",
       "      <th>...</th>\n",
       "      <th>neuron_55</th>\n",
       "      <th>neuron_56</th>\n",
       "      <th>neuron_57</th>\n",
       "      <th>neuron_58</th>\n",
       "      <th>neuron_59</th>\n",
       "      <th>neuron_60</th>\n",
       "      <th>neuron_61</th>\n",
       "      <th>neuron_62</th>\n",
       "      <th>neuron_63</th>\n",
       "      <th>neuron_64</th>\n",
       "    </tr>\n",
       "  </thead>\n",
       "  <tbody>\n",
       "    <tr>\n",
       "      <th>http://dbpedia.org/resource/Alexei_Pakhomov</th>\n",
       "      <td>0.013503</td>\n",
       "      <td>0.026159</td>\n",
       "      <td>0.036408</td>\n",
       "      <td>-0.031979</td>\n",
       "      <td>0.023641</td>\n",
       "      <td>-0.003359</td>\n",
       "      <td>-0.026371</td>\n",
       "      <td>0.038428</td>\n",
       "      <td>-0.018691</td>\n",
       "      <td>-0.033438</td>\n",
       "      <td>...</td>\n",
       "      <td>0.054591</td>\n",
       "      <td>0.065087</td>\n",
       "      <td>-0.018827</td>\n",
       "      <td>-0.050582</td>\n",
       "      <td>0.034035</td>\n",
       "      <td>-0.057909</td>\n",
       "      <td>0.030077</td>\n",
       "      <td>-0.032663</td>\n",
       "      <td>0.025175</td>\n",
       "      <td>-0.009467</td>\n",
       "    </tr>\n",
       "  </tbody>\n",
       "</table>\n",
       "<p>1 rows × 64 columns</p>\n",
       "</div>"
      ],
      "text/plain": [
       "                                             neuron_1  neuron_2  neuron_3  \\\n",
       "http://dbpedia.org/resource/Alexei_Pakhomov  0.013503  0.026159  0.036408   \n",
       "\n",
       "                                             neuron_4  neuron_5  neuron_6  \\\n",
       "http://dbpedia.org/resource/Alexei_Pakhomov -0.031979  0.023641 -0.003359   \n",
       "\n",
       "                                             neuron_7  neuron_8  neuron_9  \\\n",
       "http://dbpedia.org/resource/Alexei_Pakhomov -0.026371  0.038428 -0.018691   \n",
       "\n",
       "                                             neuron_10  ...  neuron_55  \\\n",
       "http://dbpedia.org/resource/Alexei_Pakhomov  -0.033438  ...   0.054591   \n",
       "\n",
       "                                             neuron_56  neuron_57  neuron_58  \\\n",
       "http://dbpedia.org/resource/Alexei_Pakhomov   0.065087  -0.018827  -0.050582   \n",
       "\n",
       "                                             neuron_59  neuron_60  neuron_61  \\\n",
       "http://dbpedia.org/resource/Alexei_Pakhomov   0.034035  -0.057909   0.030077   \n",
       "\n",
       "                                             neuron_62  neuron_63  neuron_64  \n",
       "http://dbpedia.org/resource/Alexei_Pakhomov  -0.032663   0.025175  -0.009467  \n",
       "\n",
       "[1 rows x 64 columns]"
      ]
     },
     "execution_count": 165,
     "metadata": {},
     "output_type": "execute_result"
    }
   ],
   "source": [
    "df_act_sample"
   ]
  },
  {
   "cell_type": "code",
   "execution_count": 166,
   "id": "2c0f1e5b",
   "metadata": {},
   "outputs": [
    {
     "data": {
      "image/png": "[encoded data removed]",
      "text/plain": [
       "<Figure size 1080x432 with 2 Axes>"
      ]
     },
     "metadata": {
      "needs_background": "light"
     },
     "output_type": "display_data"
    }
   ],
   "source": [
    "plot_activ(df=pd.DataFrame(dfb['sample']).T, df2=pd.DataFrame(dfb['new_value']).T, df3=pd.DataFrame(dfb['cat']).T)"
   ]
  },
  {
   "cell_type": "markdown",
   "id": "0218f13f",
   "metadata": {},
   "source": [
    "We see on the visualization above that the second df (i.e. the new value) has became much closer"
   ]
  },
  {
   "cell_type": "markdown",
   "id": "ec3ab1de",
   "metadata": {},
   "source": [
    "### Re-build the back of the model and make a prediction"
   ]
  },
  {
   "cell_type": "code",
   "execution_count": 36,
   "id": "9b1c4296",
   "metadata": {},
   "outputs": [
    {
     "name": "stdout",
     "output_type": "stream",
     "text": [
      "Model: \"sequential\"\n",
      "_________________________________________________________________\n",
      " Layer (type)                Output Shape              Param #   \n",
      "=================================================================\n",
      " embedding (Embedding)       (None, 150, 64)           640000    \n",
      "                                                                 \n",
      " lstm (LSTM)                 (None, 16)                5184      \n",
      "                                                                 \n",
      " dense (Dense)               (None, 8)                 136       \n",
      "                                                                 \n",
      " dropout (Dropout)           (None, 8)                 0         \n",
      "                                                                 \n",
      " dense_1 (Dense)             (None, 4)                 36        \n",
      "                                                                 \n",
      " dense_2 (Dense)             (None, 1)                 5         \n",
      "                                                                 \n",
      "=================================================================\n",
      "Total params: 645,361\n",
      "Trainable params: 645,361\n",
      "Non-trainable params: 0\n",
      "_________________________________________________________________\n"
     ]
    }
   ],
   "source": [
    "model.summary()"
   ]
  },
  {
   "cell_type": "markdown",
   "id": "8782bddd",
   "metadata": {},
   "source": [
    "Instead of re-building the model as we did to get activations of each layer, we want to build the part after the layer we are getting closer the activations of.\n",
    "\n",
    "Thus, new computed activations become the inputs for the rest of the model."
   ]
  },
  {
   "cell_type": "code",
   "execution_count": 104,
   "id": "398b3166",
   "metadata": {},
   "outputs": [
    {
     "name": "stdout",
     "output_type": "stream",
     "text": [
      "Model: \"sequential_11\"\n",
      "_________________________________________________________________\n",
      " Layer (type)                Output Shape              Param #   \n",
      "=================================================================\n",
      " lstm (LSTM)                 (None, 16)                5184      \n",
      "                                                                 \n",
      " dense (Dense)               (None, 8)                 136       \n",
      "                                                                 \n",
      " dropout (Dropout)           (None, 8)                 0         \n",
      "                                                                 \n",
      " dense_1 (Dense)             (None, 4)                 36        \n",
      "                                                                 \n",
      " dense_2 (Dense)             (None, 1)                 5         \n",
      "                                                                 \n",
      "=================================================================\n",
      "Total params: 5,361\n",
      "Trainable params: 5,361\n",
      "Non-trainable params: 0\n",
      "_________________________________________________________________\n"
     ]
    }
   ],
   "source": [
    "rest_model = Sequential()\n",
    "for i in range(layer_to_explore + 1, len(model.layers)):\n",
    "    rest_model.add(model.layers[i])\n",
    "\n",
    "rest_model.build(input_shape=model.layers[0].output_shape) #input_shape\n",
    "rest_model.summary()"
   ]
  },
  {
   "cell_type": "code",
   "execution_count": 105,
   "id": "2bd7d621",
   "metadata": {},
   "outputs": [
    {
     "data": {
      "text/plain": [
       "neuron_1     0.319104\n",
       "neuron_2     0.483469\n",
       "neuron_3     0.171305\n",
       "neuron_4    -0.095403\n",
       "neuron_5     0.256569\n",
       "               ...   \n",
       "neuron_60   -0.432819\n",
       "neuron_61    0.330167\n",
       "neuron_62   -0.356754\n",
       "neuron_63    0.562353\n",
       "neuron_64   -0.559289\n",
       "Name: new_value, Length: 64, dtype: object"
      ]
     },
     "execution_count": 105,
     "metadata": {},
     "output_type": "execute_result"
    }
   ],
   "source": [
    "new_activations = dfb['new_value']\n",
    "new_activations"
   ]
  },
  {
   "cell_type": "code",
   "execution_count": 118,
   "id": "fa8e3332",
   "metadata": {},
   "outputs": [
    {
     "data": {
      "text/plain": [
       "array([[[ 0.3191042 ,  0.48346886,  0.17130527, -0.09540334,\n",
       "          0.2565691 ,  0.46701437, -0.7892057 ,  0.3697217 ,\n",
       "         -0.60710084, -0.4956614 , -0.4205321 ,  0.43154657,\n",
       "         -0.0178893 , -0.5320075 , -0.3448396 , -0.2644118 ,\n",
       "         -0.3926907 ,  0.5268508 , -0.42088413, -0.4024242 ,\n",
       "         -0.15854473, -0.75803125,  0.45784134, -0.3139935 ,\n",
       "         -0.34587526,  0.46112207, -0.38903567,  0.569992  ,\n",
       "         -0.67268384, -0.4049564 , -0.3242009 , -0.05849189,\n",
       "          0.4021815 , -0.36254814,  0.34195223, -0.4982025 ,\n",
       "          0.51734036, -0.6015957 ,  0.5759289 , -0.12711647,\n",
       "         -0.5751509 ,  0.43235058, -0.1663268 ,  0.083271  ,\n",
       "         -0.5343284 ,  0.400274  ,  0.38376224, -0.23546217,\n",
       "         -0.88381714, -0.6885339 , -0.6532038 , -0.00237176,\n",
       "          0.39422157,  0.70567244,  0.60506386,  0.4454974 ,\n",
       "         -0.712941  , -0.4970965 ,  0.3536418 , -0.4328194 ,\n",
       "          0.3301674 , -0.35675424,  0.56235296, -0.5592886 ]]],\n",
       "      dtype=float32)"
      ]
     },
     "execution_count": 118,
     "metadata": {},
     "output_type": "execute_result"
    }
   ],
   "source": [
    "nas = np.asarray(new_activations).astype('float32').reshape(-1, 64).reshape(-1, 1, 64)\n",
    "nas"
   ]
  },
  {
   "cell_type": "code",
   "execution_count": 119,
   "id": "96340b74",
   "metadata": {},
   "outputs": [
    {
     "name": "stdout",
     "output_type": "stream",
     "text": [
      "1/1 [==============================] - 2s 2s/step\n"
     ]
    },
    {
     "data": {
      "text/plain": [
       "array([[0.3591593]], dtype=float32)"
      ]
     },
     "execution_count": 119,
     "metadata": {},
     "output_type": "execute_result"
    }
   ],
   "source": [
    "rest_model.predict(nas)"
   ]
  },
  {
   "cell_type": "markdown",
   "id": "93424b36",
   "metadata": {},
   "source": [
    "### Testing with original model"
   ]
  },
  {
   "cell_type": "code",
   "execution_count": 114,
   "id": "8ffa0067",
   "metadata": {},
   "outputs": [
    {
     "data": {
      "text/plain": [
       "array([[   0,    0,    0,    0,    0,    0,    0,    0,    0,    0,    0,\n",
       "           0,    0,    0,    0,    0,    0,    0,    0,    0,    0,    0,\n",
       "           0,    0,    0,    0,    0,    0,    0,    0,    0,    0,    0,\n",
       "           0,    0,    0,    0,    0,    0,    0,    0,    0,    0,    0,\n",
       "           0,    0,    0,    0,    0,    0,    0,    0,    0,    0,    0,\n",
       "           0,    0,    0,    0,    0,    0,    0,    0,    0,    0,    0,\n",
       "           0,    0,    0,    0,    0,    0,    0,    0,    0,    0,    0,\n",
       "           0,    0,    0,    0,    0,    0,    0,    0,    0,    0,    0,\n",
       "           0,    0,    0,    0,    0,    0,    0,    0,    0,    0,    0,\n",
       "           0,    0,    0,    0,    0,    0,    0,    0,    0,    0,    0,\n",
       "           0,    0,    0,    0,    0,    0,    0,    0,    0,    0,    0,\n",
       "           0,    0,    0,    0,    0,    0,    0,    0,    0,    0,    0,\n",
       "         262,  465,  379, 4604, 2048,   39,   24,  102,    3,    5, 2189,\n",
       "          58,    9,   59,    3,   16,   55,   59]])"
      ]
     },
     "execution_count": 114,
     "metadata": {},
     "output_type": "execute_result"
    }
   ],
   "source": [
    "inputs = np.array([np.array(x) for x in wdf[wdf.index == sample.index[0]].input])\n",
    "inputs"
   ]
  },
  {
   "cell_type": "code",
   "execution_count": 111,
   "id": "93ebcd38",
   "metadata": {},
   "outputs": [
    {
     "name": "stdout",
     "output_type": "stream",
     "text": [
      "Model: \"sequential_12\"\n",
      "_________________________________________________________________\n",
      " Layer (type)                Output Shape              Param #   \n",
      "=================================================================\n",
      " embedding (Embedding)       (None, 150, 64)           640000    \n",
      "                                                                 \n",
      "=================================================================\n",
      "Total params: 640,000\n",
      "Trainable params: 640,000\n",
      "Non-trainable params: 0\n",
      "_________________________________________________________________\n"
     ]
    }
   ],
   "source": [
    "# Re-creating a model\n",
    "nm = Sequential()\n",
    "nm.add(model.layers[0])\n",
    "nm.summary()"
   ]
  },
  {
   "cell_type": "code",
   "execution_count": 112,
   "id": "e813a968",
   "metadata": {},
   "outputs": [
    {
     "name": "stdout",
     "output_type": "stream",
     "text": [
      "1/1 [==============================] - 0s 98ms/step\n"
     ]
    },
    {
     "data": {
      "text/plain": [
       "(1, 150, 64)"
      ]
     },
     "execution_count": 112,
     "metadata": {},
     "output_type": "execute_result"
    }
   ],
   "source": [
    "# Predicting according to this new created model\n",
    "na = nm.predict(inputs)\n",
    "na.shape"
   ]
  },
  {
   "cell_type": "code",
   "execution_count": 83,
   "id": "a15dd685",
   "metadata": {},
   "outputs": [],
   "source": [
    "# recompose the \"back\" of the model\n",
    "bm = Sequential()\n",
    "for i in range(1, len(model.layers)):\n",
    "    bm.add(model.layers[i])"
   ]
  },
  {
   "cell_type": "code",
   "execution_count": 84,
   "id": "7871dc5a",
   "metadata": {},
   "outputs": [
    {
     "name": "stdout",
     "output_type": "stream",
     "text": [
      "1/1 [==============================] - 0s 444ms/step\n"
     ]
    },
    {
     "data": {
      "text/plain": [
       "array([[0.10533872]], dtype=float32)"
      ]
     },
     "execution_count": 84,
     "metadata": {},
     "output_type": "execute_result"
    }
   ],
   "source": [
    "# and then re-predict\n",
    "bm.predict(na)"
   ]
  },
  {
   "cell_type": "code",
   "execution_count": 85,
   "id": "1c0c72b0",
   "metadata": {},
   "outputs": [
    {
     "data": {
      "text/plain": [
       "neuron_1     0.319104\n",
       "neuron_2     0.483469\n",
       "neuron_3     0.171305\n",
       "neuron_4    -0.095403\n",
       "neuron_5     0.256569\n",
       "               ...   \n",
       "neuron_60   -0.432819\n",
       "neuron_61    0.330167\n",
       "neuron_62   -0.356754\n",
       "neuron_63    0.562353\n",
       "neuron_64   -0.559289\n",
       "Name: new_value, Length: 64, dtype: object"
      ]
     },
     "execution_count": 85,
     "metadata": {},
     "output_type": "execute_result"
    }
   ],
   "source": [
    "new_activations"
   ]
  },
  {
   "cell_type": "code",
   "execution_count": 94,
   "id": "1e23f3e5",
   "metadata": {},
   "outputs": [
    {
     "data": {
      "text/plain": [
       "64"
      ]
     },
     "execution_count": 94,
     "metadata": {},
     "output_type": "execute_result"
    }
   ],
   "source": [
    "nas = np.array(np.asarray(new_activations.values)).astype('float32')\n",
    "len(nas)"
   ]
  },
  {
   "cell_type": "code",
   "execution_count": 95,
   "id": "fce5a558",
   "metadata": {},
   "outputs": [
    {
     "data": {
      "text/plain": [
       "64"
      ]
     },
     "execution_count": 95,
     "metadata": {},
     "output_type": "execute_result"
    }
   ],
   "source": [
    "len(na[0][0])"
   ]
  },
  {
   "cell_type": "code",
   "execution_count": 63,
   "id": "42521557",
   "metadata": {},
   "outputs": [
    {
     "ename": "ValueError",
     "evalue": "in user code:\n\n    File \"D:\\users\\maxim\\anaconda3\\envs\\rnn-films\\lib\\site-packages\\keras\\engine\\training.py\", line 1845, in predict_function  *\n        return step_function(self, iterator)\n    File \"D:\\users\\maxim\\anaconda3\\envs\\rnn-films\\lib\\site-packages\\keras\\engine\\training.py\", line 1834, in step_function  **\n        outputs = model.distribute_strategy.run(run_step, args=(data,))\n    File \"D:\\users\\maxim\\anaconda3\\envs\\rnn-films\\lib\\site-packages\\keras\\engine\\training.py\", line 1823, in run_step  **\n        outputs = model.predict_step(data)\n    File \"D:\\users\\maxim\\anaconda3\\envs\\rnn-films\\lib\\site-packages\\keras\\engine\\training.py\", line 1791, in predict_step\n        return self(x, training=False)\n    File \"D:\\users\\maxim\\anaconda3\\envs\\rnn-films\\lib\\site-packages\\keras\\utils\\traceback_utils.py\", line 67, in error_handler\n        raise e.with_traceback(filtered_tb) from None\n\n    ValueError: Exception encountered when calling layer \"sequential_2\" (type Sequential).\n    \n    Cannot iterate over a shape with unknown rank.\n    \n    Call arguments received by layer \"sequential_2\" (type Sequential):\n      • inputs=tf.Tensor(shape=<unknown>, dtype=float32)\n      • training=False\n      • mask=None\n",
     "output_type": "error",
     "traceback": [
      "\u001b[1;31m---------------------------------------------------------------------------\u001b[0m",
      "\u001b[1;31mValueError\u001b[0m                                Traceback (most recent call last)",
      "\u001b[1;32m~\\AppData\\Local\\Temp/ipykernel_11384/3910825090.py\u001b[0m in \u001b[0;36m<module>\u001b[1;34m\u001b[0m\n\u001b[1;32m----> 1\u001b[1;33m \u001b[0mbm\u001b[0m\u001b[1;33m.\u001b[0m\u001b[0mpredict\u001b[0m\u001b[1;33m(\u001b[0m\u001b[0mnew_activations\u001b[0m\u001b[1;33m)\u001b[0m\u001b[1;33m\u001b[0m\u001b[1;33m\u001b[0m\u001b[0m\n\u001b[0m",
      "\u001b[1;32mD:\\users\\maxim\\anaconda3\\envs\\rnn-films\\lib\\site-packages\\keras\\utils\\traceback_utils.py\u001b[0m in \u001b[0;36merror_handler\u001b[1;34m(*args, **kwargs)\u001b[0m\n\u001b[0;32m     65\u001b[0m     \u001b[1;32mexcept\u001b[0m \u001b[0mException\u001b[0m \u001b[1;32mas\u001b[0m \u001b[0me\u001b[0m\u001b[1;33m:\u001b[0m  \u001b[1;31m# pylint: disable=broad-except\u001b[0m\u001b[1;33m\u001b[0m\u001b[1;33m\u001b[0m\u001b[0m\n\u001b[0;32m     66\u001b[0m       \u001b[0mfiltered_tb\u001b[0m \u001b[1;33m=\u001b[0m \u001b[0m_process_traceback_frames\u001b[0m\u001b[1;33m(\u001b[0m\u001b[0me\u001b[0m\u001b[1;33m.\u001b[0m\u001b[0m__traceback__\u001b[0m\u001b[1;33m)\u001b[0m\u001b[1;33m\u001b[0m\u001b[1;33m\u001b[0m\u001b[0m\n\u001b[1;32m---> 67\u001b[1;33m       \u001b[1;32mraise\u001b[0m \u001b[0me\u001b[0m\u001b[1;33m.\u001b[0m\u001b[0mwith_traceback\u001b[0m\u001b[1;33m(\u001b[0m\u001b[0mfiltered_tb\u001b[0m\u001b[1;33m)\u001b[0m \u001b[1;32mfrom\u001b[0m \u001b[1;32mNone\u001b[0m\u001b[1;33m\u001b[0m\u001b[1;33m\u001b[0m\u001b[0m\n\u001b[0m\u001b[0;32m     68\u001b[0m     \u001b[1;32mfinally\u001b[0m\u001b[1;33m:\u001b[0m\u001b[1;33m\u001b[0m\u001b[1;33m\u001b[0m\u001b[0m\n\u001b[0;32m     69\u001b[0m       \u001b[1;32mdel\u001b[0m \u001b[0mfiltered_tb\u001b[0m\u001b[1;33m\u001b[0m\u001b[1;33m\u001b[0m\u001b[0m\n",
      "\u001b[1;32mD:\\users\\maxim\\anaconda3\\envs\\rnn-films\\lib\\site-packages\\keras\\engine\\training.py\u001b[0m in \u001b[0;36mtf__predict_function\u001b[1;34m(iterator)\u001b[0m\n\u001b[0;32m     13\u001b[0m                 \u001b[1;32mtry\u001b[0m\u001b[1;33m:\u001b[0m\u001b[1;33m\u001b[0m\u001b[1;33m\u001b[0m\u001b[0m\n\u001b[0;32m     14\u001b[0m                     \u001b[0mdo_return\u001b[0m \u001b[1;33m=\u001b[0m \u001b[1;32mTrue\u001b[0m\u001b[1;33m\u001b[0m\u001b[1;33m\u001b[0m\u001b[0m\n\u001b[1;32m---> 15\u001b[1;33m                     \u001b[0mretval_\u001b[0m \u001b[1;33m=\u001b[0m \u001b[0mag__\u001b[0m\u001b[1;33m.\u001b[0m\u001b[0mconverted_call\u001b[0m\u001b[1;33m(\u001b[0m\u001b[0mag__\u001b[0m\u001b[1;33m.\u001b[0m\u001b[0mld\u001b[0m\u001b[1;33m(\u001b[0m\u001b[0mstep_function\u001b[0m\u001b[1;33m)\u001b[0m\u001b[1;33m,\u001b[0m \u001b[1;33m(\u001b[0m\u001b[0mag__\u001b[0m\u001b[1;33m.\u001b[0m\u001b[0mld\u001b[0m\u001b[1;33m(\u001b[0m\u001b[0mself\u001b[0m\u001b[1;33m)\u001b[0m\u001b[1;33m,\u001b[0m \u001b[0mag__\u001b[0m\u001b[1;33m.\u001b[0m\u001b[0mld\u001b[0m\u001b[1;33m(\u001b[0m\u001b[0miterator\u001b[0m\u001b[1;33m)\u001b[0m\u001b[1;33m)\u001b[0m\u001b[1;33m,\u001b[0m \u001b[1;32mNone\u001b[0m\u001b[1;33m,\u001b[0m \u001b[0mfscope\u001b[0m\u001b[1;33m)\u001b[0m\u001b[1;33m\u001b[0m\u001b[1;33m\u001b[0m\u001b[0m\n\u001b[0m\u001b[0;32m     16\u001b[0m                 \u001b[1;32mexcept\u001b[0m\u001b[1;33m:\u001b[0m\u001b[1;33m\u001b[0m\u001b[1;33m\u001b[0m\u001b[0m\n\u001b[0;32m     17\u001b[0m                     \u001b[0mdo_return\u001b[0m \u001b[1;33m=\u001b[0m \u001b[1;32mFalse\u001b[0m\u001b[1;33m\u001b[0m\u001b[1;33m\u001b[0m\u001b[0m\n",
      "\u001b[1;31mValueError\u001b[0m: in user code:\n\n    File \"D:\\users\\maxim\\anaconda3\\envs\\rnn-films\\lib\\site-packages\\keras\\engine\\training.py\", line 1845, in predict_function  *\n        return step_function(self, iterator)\n    File \"D:\\users\\maxim\\anaconda3\\envs\\rnn-films\\lib\\site-packages\\keras\\engine\\training.py\", line 1834, in step_function  **\n        outputs = model.distribute_strategy.run(run_step, args=(data,))\n    File \"D:\\users\\maxim\\anaconda3\\envs\\rnn-films\\lib\\site-packages\\keras\\engine\\training.py\", line 1823, in run_step  **\n        outputs = model.predict_step(data)\n    File \"D:\\users\\maxim\\anaconda3\\envs\\rnn-films\\lib\\site-packages\\keras\\engine\\training.py\", line 1791, in predict_step\n        return self(x, training=False)\n    File \"D:\\users\\maxim\\anaconda3\\envs\\rnn-films\\lib\\site-packages\\keras\\utils\\traceback_utils.py\", line 67, in error_handler\n        raise e.with_traceback(filtered_tb) from None\n\n    ValueError: Exception encountered when calling layer \"sequential_2\" (type Sequential).\n    \n    Cannot iterate over a shape with unknown rank.\n    \n    Call arguments received by layer \"sequential_2\" (type Sequential):\n      • inputs=tf.Tensor(shape=<unknown>, dtype=float32)\n      • training=False\n      • mask=None\n"
     ]
    }
   ],
   "source": [
    "bm.predict(new_activations)"
   ]
  },
  {
   "cell_type": "code",
   "execution_count": null,
   "id": "8badbf0f",
   "metadata": {},
   "outputs": [],
   "source": []
  },
  {
   "cell_type": "code",
   "execution_count": null,
   "id": "b4688d24",
   "metadata": {},
   "outputs": [],
   "source": []
  }
 ],
 "metadata": {
  "kernelspec": {
   "display_name": "rnn-films",
   "language": "python",
   "name": "rnn-films"
  },
  "language_info": {
   "codemirror_mode": {
    "name": "ipython",
    "version": 3
   },
   "file_extension": ".py",
   "mimetype": "text/x-python",
   "name": "python",
   "nbconvert_exporter": "python",
   "pygments_lexer": "ipython3",
   "version": "3.9.7"
  }
 },
 "nbformat": 4,
 "nbformat_minor": 5
}
