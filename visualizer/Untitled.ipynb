{
 "cells": [
  {
   "cell_type": "markdown",
   "id": "5c4244f6",
   "metadata": {},
   "source": [
    "# Going through data"
   ]
  },
  {
   "cell_type": "code",
   "execution_count": 2,
   "id": "91a7b1ad",
   "metadata": {},
   "outputs": [],
   "source": [
    "import pandas as pd\n",
    "import numpy as np"
   ]
  },
  {
   "cell_type": "code",
   "execution_count": 3,
   "id": "3fe5a3db",
   "metadata": {},
   "outputs": [
    {
     "data": {
      "text/plain": [
       "(17403, 5)"
      ]
     },
     "execution_count": 3,
     "metadata": {},
     "output_type": "execute_result"
    }
   ],
   "source": [
    "df = pd.read_json('./data/bycountry_ds.json')\n",
    "df.shape"
   ]
  },
  {
   "cell_type": "code",
   "execution_count": 4,
   "id": "958781c8",
   "metadata": {},
   "outputs": [
    {
     "data": {
      "text/html": [
       "<div>\n",
       "<style scoped>\n",
       "    .dataframe tbody tr th:only-of-type {\n",
       "        vertical-align: middle;\n",
       "    }\n",
       "\n",
       "    .dataframe tbody tr th {\n",
       "        vertical-align: top;\n",
       "    }\n",
       "\n",
       "    .dataframe thead th {\n",
       "        text-align: right;\n",
       "    }\n",
       "</style>\n",
       "<table border=\"1\" class=\"dataframe\">\n",
       "  <thead>\n",
       "    <tr style=\"text-align: right;\">\n",
       "      <th></th>\n",
       "      <th>category</th>\n",
       "      <th>input</th>\n",
       "      <th>output_low</th>\n",
       "      <th>output_medium</th>\n",
       "      <th>output_high</th>\n",
       "    </tr>\n",
       "  </thead>\n",
       "  <tbody>\n",
       "    <tr>\n",
       "      <th>http://dbpedia.org/resource/...All_the_Marbles</th>\n",
       "      <td>[United States]</td>\n",
       "      <td>[0, 0, 0, 0, 0, 0, 0, 0, 0, 0, 0, 0, 0, 0, 0, ...</td>\n",
       "      <td>0</td>\n",
       "      <td>1</td>\n",
       "      <td>0</td>\n",
       "    </tr>\n",
       "    <tr>\n",
       "      <th>http://dbpedia.org/resource/An_Eye_for_an_Eye_(1981_film)</th>\n",
       "      <td>[United States]</td>\n",
       "      <td>[0, 0, 0, 0, 0, 0, 0, 0, 0, 0, 0, 0, 0, 0, 0, ...</td>\n",
       "      <td>0</td>\n",
       "      <td>1</td>\n",
       "      <td>0</td>\n",
       "    </tr>\n",
       "    <tr>\n",
       "      <th>http://dbpedia.org/resource/Brain_Dead_(1990_film)</th>\n",
       "      <td>[United States]</td>\n",
       "      <td>[0, 0, 0, 0, 0, 0, 0, 0, 0, 0, 0, 0, 0, 0, 0, ...</td>\n",
       "      <td>0</td>\n",
       "      <td>1</td>\n",
       "      <td>0</td>\n",
       "    </tr>\n",
       "    <tr>\n",
       "      <th>http://dbpedia.org/resource/For_Pete's_Sake_(film)</th>\n",
       "      <td>[United States]</td>\n",
       "      <td>[0, 0, 0, 0, 0, 0, 0, 0, 0, 0, 0, 0, 0, 0, 0, ...</td>\n",
       "      <td>0</td>\n",
       "      <td>1</td>\n",
       "      <td>0</td>\n",
       "    </tr>\n",
       "    <tr>\n",
       "      <th>http://dbpedia.org/resource/Hannah_Montana:_The_Movie</th>\n",
       "      <td>[United States]</td>\n",
       "      <td>[25, 6677, 48, 2, 138, 5, 331, 1, 7, 25, 6983,...</td>\n",
       "      <td>0</td>\n",
       "      <td>0</td>\n",
       "      <td>1</td>\n",
       "    </tr>\n",
       "  </tbody>\n",
       "</table>\n",
       "</div>"
      ],
      "text/plain": [
       "                                                           category  \\\n",
       "http://dbpedia.org/resource/...All_the_Marbles      [United States]   \n",
       "http://dbpedia.org/resource/An_Eye_for_an_Eye_(...  [United States]   \n",
       "http://dbpedia.org/resource/Brain_Dead_(1990_film)  [United States]   \n",
       "http://dbpedia.org/resource/For_Pete's_Sake_(film)  [United States]   \n",
       "http://dbpedia.org/resource/Hannah_Montana:_The...  [United States]   \n",
       "\n",
       "                                                                                                input  \\\n",
       "http://dbpedia.org/resource/...All_the_Marbles      [0, 0, 0, 0, 0, 0, 0, 0, 0, 0, 0, 0, 0, 0, 0, ...   \n",
       "http://dbpedia.org/resource/An_Eye_for_an_Eye_(...  [0, 0, 0, 0, 0, 0, 0, 0, 0, 0, 0, 0, 0, 0, 0, ...   \n",
       "http://dbpedia.org/resource/Brain_Dead_(1990_film)  [0, 0, 0, 0, 0, 0, 0, 0, 0, 0, 0, 0, 0, 0, 0, ...   \n",
       "http://dbpedia.org/resource/For_Pete's_Sake_(film)  [0, 0, 0, 0, 0, 0, 0, 0, 0, 0, 0, 0, 0, 0, 0, ...   \n",
       "http://dbpedia.org/resource/Hannah_Montana:_The...  [25, 6677, 48, 2, 138, 5, 331, 1, 7, 25, 6983,...   \n",
       "\n",
       "                                                    output_low  output_medium  \\\n",
       "http://dbpedia.org/resource/...All_the_Marbles               0              1   \n",
       "http://dbpedia.org/resource/An_Eye_for_an_Eye_(...           0              1   \n",
       "http://dbpedia.org/resource/Brain_Dead_(1990_film)           0              1   \n",
       "http://dbpedia.org/resource/For_Pete's_Sake_(film)           0              1   \n",
       "http://dbpedia.org/resource/Hannah_Montana:_The...           0              0   \n",
       "\n",
       "                                                    output_high  \n",
       "http://dbpedia.org/resource/...All_the_Marbles                0  \n",
       "http://dbpedia.org/resource/An_Eye_for_an_Eye_(...            0  \n",
       "http://dbpedia.org/resource/Brain_Dead_(1990_film)            0  \n",
       "http://dbpedia.org/resource/For_Pete's_Sake_(film)            0  \n",
       "http://dbpedia.org/resource/Hannah_Montana:_The...            1  "
      ]
     },
     "execution_count": 4,
     "metadata": {},
     "output_type": "execute_result"
    }
   ],
   "source": [
    "df.head()"
   ]
  },
  {
   "cell_type": "code",
   "execution_count": 5,
   "id": "41b5f652",
   "metadata": {},
   "outputs": [],
   "source": [
    "from tensorflow import keras"
   ]
  },
  {
   "cell_type": "code",
   "execution_count": 6,
   "id": "74153a31",
   "metadata": {},
   "outputs": [],
   "source": [
    "model = keras.models.load_model('./models/bycountry_model')"
   ]
  },
  {
   "cell_type": "code",
   "execution_count": 7,
   "id": "d5170063",
   "metadata": {
    "scrolled": true
   },
   "outputs": [
    {
     "name": "stdout",
     "output_type": "stream",
     "text": [
      "Model: \"sequential\"\n",
      "_________________________________________________________________\n",
      " Layer (type)                Output Shape              Param #   \n",
      "=================================================================\n",
      " embedding (Embedding)       (None, 100, 64)           640000    \n",
      "                                                                 \n",
      " lstm_3 (LSTM)               (None, 32)                12416     \n",
      "                                                                 \n",
      " dense (Dense)               (None, 3)                 99        \n",
      "                                                                 \n",
      "=================================================================\n",
      "Total params: 652,515\n",
      "Trainable params: 652,515\n",
      "Non-trainable params: 0\n",
      "_________________________________________________________________\n"
     ]
    }
   ],
   "source": [
    "model.summary()"
   ]
  },
  {
   "cell_type": "code",
   "execution_count": 8,
   "id": "77ef6ec6",
   "metadata": {},
   "outputs": [
    {
     "name": "stdout",
     "output_type": "stream",
     "text": [
      "0 embedding\n",
      "1 lstm_3\n",
      "<function tanh at 0x0000028D504B3DC0>\n",
      "2 dense\n",
      "<function softmax at 0x0000028D504B3040>\n"
     ]
    }
   ],
   "source": [
    "for i, layer in enumerate(model.layers):\n",
    "    print(i, layer.name)\n",
    "    if i != 0: # Embedding does not have activation function\n",
    "        print(layer.activation)"
   ]
  },
  {
   "cell_type": "code",
   "execution_count": 9,
   "id": "9a9ad3fb",
   "metadata": {},
   "outputs": [],
   "source": [
    "from tensorflow.keras.models import Sequential\n",
    "from tensorflow.keras.layers import Dense, LSTM, Embedding, Dropout"
   ]
  },
  {
   "cell_type": "markdown",
   "id": "ffaccfdd",
   "metadata": {},
   "source": [
    "Building a recomposed model"
   ]
  },
  {
   "cell_type": "code",
   "execution_count": 10,
   "id": "96415279",
   "metadata": {},
   "outputs": [],
   "source": [
    "layer_to_explore = 1"
   ]
  },
  {
   "cell_type": "code",
   "execution_count": 11,
   "id": "5ce44629",
   "metadata": {},
   "outputs": [
    {
     "name": "stdout",
     "output_type": "stream",
     "text": [
      "Adding layer 0\n",
      "Adding layer 1\n",
      "Model: \"sequential\"\n",
      "_________________________________________________________________\n",
      " Layer (type)                Output Shape              Param #   \n",
      "=================================================================\n",
      " embedding (Embedding)       (None, 100, 64)           640000    \n",
      "                                                                 \n",
      " lstm_3 (LSTM)               (None, 32)                12416     \n",
      "                                                                 \n",
      "=================================================================\n",
      "Total params: 652,416\n",
      "Trainable params: 652,416\n",
      "Non-trainable params: 0\n",
      "_________________________________________________________________\n"
     ]
    }
   ],
   "source": [
    "model2 = Sequential()\n",
    "\n",
    "for i in range(len(model.layers)):\n",
    "    if i < layer_to_explore + 1:\n",
    "        print(f\"Adding layer {i}\")\n",
    "        model2.add(model.layers[i])\n",
    "        \n",
    "model2.summary()"
   ]
  },
  {
   "cell_type": "markdown",
   "id": "d53319f5",
   "metadata": {},
   "source": [
    "Format for the input to be passed to model.predict"
   ]
  },
  {
   "cell_type": "code",
   "execution_count": 12,
   "id": "0c54790c",
   "metadata": {},
   "outputs": [
    {
     "data": {
      "text/plain": [
       "(17403, 100)"
      ]
     },
     "execution_count": 12,
     "metadata": {},
     "output_type": "execute_result"
    }
   ],
   "source": [
    "inputs = []\n",
    "for i in range(len(df.input)):\n",
    "    inputs.append(np.array(df.input.iloc[i]))\n",
    "\n",
    "inputs = np.array(inputs)\n",
    "inputs.shape"
   ]
  },
  {
   "cell_type": "code",
   "execution_count": 13,
   "id": "6979d454",
   "metadata": {},
   "outputs": [
    {
     "name": "stdout",
     "output_type": "stream",
     "text": [
      "544/544 [==============================] - 4s 6ms/step\n"
     ]
    },
    {
     "data": {
      "text/plain": [
       "array([[ 0.07156485,  0.292121  , -0.36352202, ...,  0.24505086,\n",
       "         0.0075122 , -0.06348532],\n",
       "       [-0.02730321,  0.11424701, -0.10647444, ...,  0.2577309 ,\n",
       "         0.08961219,  0.19460133],\n",
       "       [ 0.17597727,  0.23239158, -0.28580275, ...,  0.04924995,\n",
       "        -0.09155545, -0.3179046 ],\n",
       "       ...,\n",
       "       [ 0.45771903,  0.4332017 , -0.50327903, ...,  0.06189189,\n",
       "        -0.1883936 , -0.6567339 ],\n",
       "       [ 0.2850686 ,  0.39111367, -0.44341838, ...,  0.12254363,\n",
       "        -0.08124002, -0.5056254 ],\n",
       "       [-0.13035586, -0.09148991,  0.04466944, ...,  0.27199036,\n",
       "         0.19974534,  0.25408548]], dtype=float32)"
      ]
     },
     "execution_count": 13,
     "metadata": {},
     "output_type": "execute_result"
    }
   ],
   "source": [
    "model2.predict(inputs)"
   ]
  },
  {
   "cell_type": "markdown",
   "id": "9ae80218",
   "metadata": {},
   "source": [
    "## Getting all the unique categories"
   ]
  },
  {
   "cell_type": "code",
   "execution_count": 14,
   "id": "c5f6c990",
   "metadata": {},
   "outputs": [],
   "source": [
    "# Need to check if the country is real\n",
    "def get_unique_categories(df):\n",
    "    unique_categories = []\n",
    "    for i in range(len(df.category)):\n",
    "        for cat in df.category[i]:\n",
    "            if cat not in unique_categories and cat != '':\n",
    "                unique_categories.append(cat)\n",
    "                \n",
    "    return unique_categories\n",
    "\n",
    "def get_popular_categories(df, thresh=500):\n",
    "    categories = get_unique_categories(df)\n",
    "    \n",
    "    dic = {}\n",
    "    for category in categories:\n",
    "        dic[category] = len(df[df.category.apply(lambda x: category in x)])\n",
    "        \n",
    "    return_dic = {c: n for c, n in dic.items() if n >= thresh}\n",
    "    \n",
    "    return sorted(return_dic.items(), key=lambda x: x[1], reverse=True) # Return sorted dictionary"
   ]
  },
  {
   "cell_type": "code",
   "execution_count": 15,
   "id": "9a839ab2",
   "metadata": {
    "scrolled": true
   },
   "outputs": [
    {
     "data": {
      "text/plain": [
       "['United States',\n",
       " 'France',\n",
       " 'Australia',\n",
       " 'United Kingdom',\n",
       " 'Mexico',\n",
       " 'Argentina',\n",
       " 'Italy',\n",
       " 'Spain',\n",
       " 'United States, Mexico',\n",
       " 'Belgium',\n",
       " 'Germany',\n",
       " 'Brazil',\n",
       " 'Japan',\n",
       " 'Lebanon',\n",
       " 'Ireland',\n",
       " 'Canada',\n",
       " 'Luxembourg',\n",
       " 'West Germany',\n",
       " 'USA',\n",
       " 'Russia',\n",
       " 'China',\n",
       " 'Serbia',\n",
       " 'Indonesia',\n",
       " 'Hong Kong',\n",
       " 'Switzerland',\n",
       " 'Armenia',\n",
       " 'Austria',\n",
       " 'India',\n",
       " 'Iran',\n",
       " 'Taiwan',\n",
       " 'Soviet Union',\n",
       " 'South Africa',\n",
       " 'Romania',\n",
       " 'South Korea',\n",
       " 'Cambodia',\n",
       " 'Netherlands',\n",
       " 'Sweden',\n",
       " 'Singapore',\n",
       " 'Poland',\n",
       " 'Norway',\n",
       " 'Mali',\n",
       " 'Czech Republic',\n",
       " 'Denmark',\n",
       " 'New Zealand',\n",
       " 'Lithuania',\n",
       " 'Jordan',\n",
       " 'Hungary',\n",
       " 'United States/Mexico',\n",
       " 'Yugoslavia',\n",
       " 'Italy, France',\n",
       " 'Colombia',\n",
       " 'Monaco',\n",
       " 'Syria',\n",
       " 'Slovakia',\n",
       " 'Ukraine',\n",
       " 'Morocco',\n",
       " 'Pakistan',\n",
       " 'Thailand',\n",
       " 'Israel',\n",
       " 'Mainland China',\n",
       " 'Bulgaria',\n",
       " 'Portugal',\n",
       " 'Nigeria',\n",
       " 'Chile',\n",
       " 'Peru',\n",
       " 'Iceland',\n",
       " 'Algeria',\n",
       " 'Tunisia',\n",
       " 'Greece',\n",
       " 'Malaysia',\n",
       " 'Cameroon',\n",
       " 'Kenya',\n",
       " 'Vietnam',\n",
       " 'Japan, United States',\n",
       " 'Puerto Rico',\n",
       " 'Finland',\n",
       " 'Kuwait',\n",
       " 'Libya',\n",
       " 'Paraguay',\n",
       " 'Turkey',\n",
       " 'Panama',\n",
       " 'Terrebonne',\n",
       " 'Saudi Arabia',\n",
       " 'UK / France',\n",
       " 'Czechoslovakia',\n",
       " 'France, Germany, Spain',\n",
       " 'Burkina Faso',\n",
       " 'France, Belgium',\n",
       " 'Italy, United States',\n",
       " 'United Arab Emirates',\n",
       " 'United States, Canada',\n",
       " 'Georgia',\n",
       " 'Spain, Portugal',\n",
       " 'Indonesia, Ecuador',\n",
       " 'Netherlands, Ireland',\n",
       " 'Poland, Pakistan',\n",
       " 'USA, Tanzania',\n",
       " 'Venezuela',\n",
       " 'Cuba',\n",
       " 'United States of America',\n",
       " 'United Kingdom \\nUnited States',\n",
       " 'Scotland',\n",
       " 'United states',\n",
       " 'France / Italy',\n",
       " 'United States / Israel',\n",
       " 'France/Italy',\n",
       " 'Sweden, Denmark, Italy',\n",
       " 'Liechtenstein',\n",
       " 'UK',\n",
       " 'Egypt',\n",
       " 'Italy/France',\n",
       " 'East Germany',\n",
       " '* Spain\\n* United Kingdom',\n",
       " 'United Kingdom, United States',\n",
       " 'Russia, Ukraine',\n",
       " 'Croatia',\n",
       " 'Bosnia and Herzegovina',\n",
       " 'Macedonia',\n",
       " 'Italy / France',\n",
       " 'Qatar',\n",
       " 'Cayman Islands',\n",
       " 'Malta',\n",
       " '*United States\\n*Russia',\n",
       " 'Albania',\n",
       " 'United Kingdom United States',\n",
       " 'Myanmar',\n",
       " 'Madagascar',\n",
       " 'Greenland',\n",
       " 'Mongolia',\n",
       " 'United Kingdom, Canada',\n",
       " 'France-Italy',\n",
       " 'Germany, United States',\n",
       " 'FR Yugoslavia',\n",
       " 'United Statesref|Fight Club, a film by the American studio 20th Century Fox, is often found in databases and related summaries to have the countries US and Germany, the latter being ascribable to the role of international funding.|group=\"nb\"',\n",
       " 'United Kingdom, United States, Japan',\n",
       " 'English',\n",
       " 'U.S',\n",
       " 'South Korean',\n",
       " 'US',\n",
       " 'Palestine',\n",
       " 'United States, France',\n",
       " 'Afghanistan',\n",
       " '* United States\\n* Canada',\n",
       " 'Iraq',\n",
       " 'France / Germany',\n",
       " 'CanadaFranceGermanySpainPortugal',\n",
       " 'Hong Kong/Thailand',\n",
       " 'Bangladesh',\n",
       " 'Senegal / France / Burkina Faso / Cameroon / Morocco / Tunisia',\n",
       " 'Kazakhstan',\n",
       " 'CanadaKuwait',\n",
       " 'Sweden, Denmark',\n",
       " 'United Kingdom / Zimbabwe',\n",
       " 'United Kingdom / Republic of South Africa',\n",
       " 'Hungary, West Germany, Austria',\n",
       " 'Canada, U.K.',\n",
       " 'U.S.',\n",
       " 'Israel,',\n",
       " 'Wales',\n",
       " '\"afi\" />',\n",
       " 'El Salvador',\n",
       " 'Republic of Ireland',\n",
       " 'Germany/Canada',\n",
       " 'SFR Yugoslavia',\n",
       " 'Dominican Republic',\n",
       " 'Germany, Israel',\n",
       " 'Germany, Switzerland',\n",
       " 'United Kingdom / France',\n",
       " 'United States/United Kingdom',\n",
       " 'Northern Ireland',\n",
       " 'Tamil Nadu',\n",
       " 'United States/Canada',\n",
       " 'Philippines',\n",
       " 'The Bahamas',\n",
       " 'Switzerland/Germany/South Africa',\n",
       " 'Great Britain',\n",
       " 'Germany, France, Ireland',\n",
       " 'Germany / United Kingdom',\n",
       " 'United Stades',\n",
       " 'United Kingdom / France / Italy',\n",
       " 'Ecuador',\n",
       " 'Canada / United Kingdom / France',\n",
       " '* United States\\n* Germany\\n* United Kingdom\\n* India',\n",
       " 'Mainland China and Taiwan',\n",
       " 'PhilippinesFrance',\n",
       " 'Finland / Sweden / UK',\n",
       " 'United States, India',\n",
       " 'Australia and New Zealand co-production',\n",
       " 'Taiwanese',\n",
       " 'America',\n",
       " 'British Hong Kong',\n",
       " 'Russian',\n",
       " 'Estonia',\n",
       " 'Latvia',\n",
       " 'Senegal',\n",
       " 'Yemen',\n",
       " 'North Macedonia',\n",
       " 'Uruguay',\n",
       " 'Slovenia',\n",
       " 'Mozambique',\n",
       " 'Korea',\n",
       " 'Australia, Italy',\n",
       " 'United States, Russia',\n",
       " 'Zambia',\n",
       " 'Sri Lanka',\n",
       " 'Switzerland / United States',\n",
       " 'Australian',\n",
       " 'Spanish',\n",
       " 'Belarus',\n",
       " 'Guatemala',\n",
       " 'Canada, France',\n",
       " 'Guinea',\n",
       " 'Unites States',\n",
       " 'Botswana',\n",
       " 'Hong Kong, China',\n",
       " 'French',\n",
       " 'Ethiopia',\n",
       " 'Nepal']"
      ]
     },
     "execution_count": 15,
     "metadata": {},
     "output_type": "execute_result"
    }
   ],
   "source": [
    "get_unique_categories(df)"
   ]
  },
  {
   "cell_type": "code",
   "execution_count": 16,
   "id": "2c02d828",
   "metadata": {},
   "outputs": [
    {
     "data": {
      "text/plain": [
       "[('United States', 10734),\n",
       " ('United Kingdom', 1757),\n",
       " ('France', 1725),\n",
       " ('Hong Kong', 804),\n",
       " ('Australia', 592),\n",
       " ('Japan', 580),\n",
       " ('China', 567)]"
      ]
     },
     "execution_count": 16,
     "metadata": {},
     "output_type": "execute_result"
    }
   ],
   "source": [
    "get_popular_categories(df)"
   ]
  },
  {
   "cell_type": "markdown",
   "id": "4eaf9399",
   "metadata": {},
   "source": [
    "## Getting inputs for a specific category"
   ]
  },
  {
   "cell_type": "code",
   "execution_count": 17,
   "id": "c2f6456c",
   "metadata": {},
   "outputs": [],
   "source": [
    "def get_inputs_for_cat(category, df):\n",
    "    raw_inputs = df[df.category.apply(lambda x: category in x)].input\n",
    "    inputs = []\n",
    "    for i in range(len(raw_inputs)):\n",
    "        inputs.append(raw_inputs[i])\n",
    "    return np.array(inputs)"
   ]
  },
  {
   "cell_type": "code",
   "execution_count": 18,
   "id": "f418e0d8",
   "metadata": {},
   "outputs": [
    {
     "data": {
      "text/plain": [
       "array([[   0,    0,    0, ...,  108,   23,  192],\n",
       "       [   0,    0,    0, ..., 1372,  287,  121],\n",
       "       [   0,    0,    0, ...,    9,  141, 2048],\n",
       "       ...,\n",
       "       [   0,    0,    0, ...,   22,  608, 1051],\n",
       "       [   0,    0,    0, ...,   99,   24,   26],\n",
       "       [   0,    0,    0, ...,  101, 3619, 1568]])"
      ]
     },
     "execution_count": 18,
     "metadata": {},
     "output_type": "execute_result"
    }
   ],
   "source": [
    "get_inputs_for_cat('France', df)"
   ]
  },
  {
   "cell_type": "markdown",
   "id": "fdfdc619",
   "metadata": {},
   "source": [
    "## Getting all activations and standardize the DataFrame"
   ]
  },
  {
   "cell_type": "code",
   "execution_count": 19,
   "id": "154d6228",
   "metadata": {},
   "outputs": [],
   "source": [
    "def standardize(df):\n",
    "    \"\"\"\n",
    "    Standardize the whole dataframe\n",
    "    \"\"\"\n",
    "    df_s = df.copy()\n",
    "    for col in df:\n",
    "        if \"neuron\" in col:\n",
    "            df_s[col] = (df[col] - df[col].mean()) / df[col].std()\n",
    "\n",
    "    return df_s"
   ]
  },
  {
   "cell_type": "code",
   "execution_count": 20,
   "id": "2fd7a552",
   "metadata": {},
   "outputs": [],
   "source": [
    "def get_all_activations(df, model):\n",
    "    new_df = pd.DataFrame()\n",
    "    \n",
    "    raw_inputs = df.input\n",
    "    inputs = []\n",
    "    for i in range(len(raw_inputs)):\n",
    "        inputs.append(raw_inputs[i])\n",
    "    \n",
    "    new_df['category'] = df.category\n",
    "    new_df['input'] = df.input\n",
    "    new_df['output_low'] = df.output_low\n",
    "    new_df['output_medium'] = df.output_medium\n",
    "    new_df['output_high'] = df.output_high\n",
    "\n",
    "    activations = model.predict(inputs)\n",
    "    for neuron_index, value_list in enumerate(activations.T):\n",
    "        index = f\"neuron_{neuron_index + 1}\"\n",
    "        new_df[index] = value_list\n",
    "    \n",
    "    return standardize(new_df)"
   ]
  },
  {
   "cell_type": "code",
   "execution_count": 21,
   "id": "1aec8e8d",
   "metadata": {
    "scrolled": true
   },
   "outputs": [
    {
     "name": "stdout",
     "output_type": "stream",
     "text": [
      "544/544 [==============================] - 3s 6ms/step\n"
     ]
    }
   ],
   "source": [
    "df_act = get_all_activations(df, model2)"
   ]
  },
  {
   "cell_type": "code",
   "execution_count": 22,
   "id": "cf8a81ff",
   "metadata": {},
   "outputs": [
    {
     "data": {
      "text/html": [
       "<div>\n",
       "<style scoped>\n",
       "    .dataframe tbody tr th:only-of-type {\n",
       "        vertical-align: middle;\n",
       "    }\n",
       "\n",
       "    .dataframe tbody tr th {\n",
       "        vertical-align: top;\n",
       "    }\n",
       "\n",
       "    .dataframe thead th {\n",
       "        text-align: right;\n",
       "    }\n",
       "</style>\n",
       "<table border=\"1\" class=\"dataframe\">\n",
       "  <thead>\n",
       "    <tr style=\"text-align: right;\">\n",
       "      <th></th>\n",
       "      <th>category</th>\n",
       "      <th>input</th>\n",
       "      <th>output_low</th>\n",
       "      <th>output_medium</th>\n",
       "      <th>output_high</th>\n",
       "      <th>neuron_1</th>\n",
       "      <th>neuron_2</th>\n",
       "      <th>neuron_3</th>\n",
       "      <th>neuron_4</th>\n",
       "      <th>neuron_5</th>\n",
       "      <th>...</th>\n",
       "      <th>neuron_23</th>\n",
       "      <th>neuron_24</th>\n",
       "      <th>neuron_25</th>\n",
       "      <th>neuron_26</th>\n",
       "      <th>neuron_27</th>\n",
       "      <th>neuron_28</th>\n",
       "      <th>neuron_29</th>\n",
       "      <th>neuron_30</th>\n",
       "      <th>neuron_31</th>\n",
       "      <th>neuron_32</th>\n",
       "    </tr>\n",
       "  </thead>\n",
       "  <tbody>\n",
       "    <tr>\n",
       "      <th>http://dbpedia.org/resource/...All_the_Marbles</th>\n",
       "      <td>[United States]</td>\n",
       "      <td>[0, 0, 0, 0, 0, 0, 0, 0, 0, 0, 0, 0, 0, 0, 0, ...</td>\n",
       "      <td>0</td>\n",
       "      <td>1</td>\n",
       "      <td>0</td>\n",
       "      <td>0.298596</td>\n",
       "      <td>0.849403</td>\n",
       "      <td>-0.988723</td>\n",
       "      <td>-0.841870</td>\n",
       "      <td>0.150620</td>\n",
       "      <td>...</td>\n",
       "      <td>0.892949</td>\n",
       "      <td>0.677733</td>\n",
       "      <td>-0.552367</td>\n",
       "      <td>0.493259</td>\n",
       "      <td>-0.721025</td>\n",
       "      <td>-0.587836</td>\n",
       "      <td>0.613794</td>\n",
       "      <td>0.860012</td>\n",
       "      <td>0.274199</td>\n",
       "      <td>-0.013197</td>\n",
       "    </tr>\n",
       "    <tr>\n",
       "      <th>http://dbpedia.org/resource/An_Eye_for_an_Eye_(1981_film)</th>\n",
       "      <td>[United States]</td>\n",
       "      <td>[0, 0, 0, 0, 0, 0, 0, 0, 0, 0, 0, 0, 0, 0, 0, ...</td>\n",
       "      <td>0</td>\n",
       "      <td>1</td>\n",
       "      <td>0</td>\n",
       "      <td>-0.379255</td>\n",
       "      <td>0.223250</td>\n",
       "      <td>-0.031877</td>\n",
       "      <td>0.072434</td>\n",
       "      <td>1.096253</td>\n",
       "      <td>...</td>\n",
       "      <td>0.044472</td>\n",
       "      <td>0.046395</td>\n",
       "      <td>0.004812</td>\n",
       "      <td>0.046308</td>\n",
       "      <td>-0.711959</td>\n",
       "      <td>-0.037574</td>\n",
       "      <td>1.220756</td>\n",
       "      <td>0.911114</td>\n",
       "      <td>1.242117</td>\n",
       "      <td>1.075625</td>\n",
       "    </tr>\n",
       "    <tr>\n",
       "      <th>http://dbpedia.org/resource/Brain_Dead_(1990_film)</th>\n",
       "      <td>[United States]</td>\n",
       "      <td>[0, 0, 0, 0, 0, 0, 0, 0, 0, 0, 0, 0, 0, 0, 0, ...</td>\n",
       "      <td>0</td>\n",
       "      <td>1</td>\n",
       "      <td>0</td>\n",
       "      <td>1.014461</td>\n",
       "      <td>0.639143</td>\n",
       "      <td>-0.699417</td>\n",
       "      <td>-0.863171</td>\n",
       "      <td>-0.012427</td>\n",
       "      <td>...</td>\n",
       "      <td>0.755954</td>\n",
       "      <td>0.945093</td>\n",
       "      <td>-0.688014</td>\n",
       "      <td>0.773376</td>\n",
       "      <td>-0.394859</td>\n",
       "      <td>-0.902815</td>\n",
       "      <td>-1.031667</td>\n",
       "      <td>0.070906</td>\n",
       "      <td>-0.893760</td>\n",
       "      <td>-1.086546</td>\n",
       "    </tr>\n",
       "    <tr>\n",
       "      <th>http://dbpedia.org/resource/For_Pete's_Sake_(film)</th>\n",
       "      <td>[United States]</td>\n",
       "      <td>[0, 0, 0, 0, 0, 0, 0, 0, 0, 0, 0, 0, 0, 0, 0, ...</td>\n",
       "      <td>0</td>\n",
       "      <td>1</td>\n",
       "      <td>0</td>\n",
       "      <td>0.035741</td>\n",
       "      <td>0.439374</td>\n",
       "      <td>-0.498020</td>\n",
       "      <td>-0.364738</td>\n",
       "      <td>0.245375</td>\n",
       "      <td>...</td>\n",
       "      <td>0.501123</td>\n",
       "      <td>0.481525</td>\n",
       "      <td>-0.192740</td>\n",
       "      <td>0.363283</td>\n",
       "      <td>-0.544098</td>\n",
       "      <td>-0.376214</td>\n",
       "      <td>0.625178</td>\n",
       "      <td>0.474273</td>\n",
       "      <td>0.519930</td>\n",
       "      <td>0.254863</td>\n",
       "    </tr>\n",
       "    <tr>\n",
       "      <th>http://dbpedia.org/resource/Hannah_Montana:_The_Movie</th>\n",
       "      <td>[United States]</td>\n",
       "      <td>[25, 6677, 48, 2, 138, 5, 331, 1, 7, 25, 6983,...</td>\n",
       "      <td>0</td>\n",
       "      <td>0</td>\n",
       "      <td>1</td>\n",
       "      <td>-1.145976</td>\n",
       "      <td>-1.825390</td>\n",
       "      <td>1.690629</td>\n",
       "      <td>1.890606</td>\n",
       "      <td>-2.439790</td>\n",
       "      <td>...</td>\n",
       "      <td>-1.750473</td>\n",
       "      <td>-2.135787</td>\n",
       "      <td>1.863636</td>\n",
       "      <td>-2.379085</td>\n",
       "      <td>2.589814</td>\n",
       "      <td>2.271871</td>\n",
       "      <td>-0.053994</td>\n",
       "      <td>-2.260399</td>\n",
       "      <td>-2.155563</td>\n",
       "      <td>0.504372</td>\n",
       "    </tr>\n",
       "  </tbody>\n",
       "</table>\n",
       "<p>5 rows × 37 columns</p>\n",
       "</div>"
      ],
      "text/plain": [
       "                                                           category  \\\n",
       "http://dbpedia.org/resource/...All_the_Marbles      [United States]   \n",
       "http://dbpedia.org/resource/An_Eye_for_an_Eye_(...  [United States]   \n",
       "http://dbpedia.org/resource/Brain_Dead_(1990_film)  [United States]   \n",
       "http://dbpedia.org/resource/For_Pete's_Sake_(film)  [United States]   \n",
       "http://dbpedia.org/resource/Hannah_Montana:_The...  [United States]   \n",
       "\n",
       "                                                                                                input  \\\n",
       "http://dbpedia.org/resource/...All_the_Marbles      [0, 0, 0, 0, 0, 0, 0, 0, 0, 0, 0, 0, 0, 0, 0, ...   \n",
       "http://dbpedia.org/resource/An_Eye_for_an_Eye_(...  [0, 0, 0, 0, 0, 0, 0, 0, 0, 0, 0, 0, 0, 0, 0, ...   \n",
       "http://dbpedia.org/resource/Brain_Dead_(1990_film)  [0, 0, 0, 0, 0, 0, 0, 0, 0, 0, 0, 0, 0, 0, 0, ...   \n",
       "http://dbpedia.org/resource/For_Pete's_Sake_(film)  [0, 0, 0, 0, 0, 0, 0, 0, 0, 0, 0, 0, 0, 0, 0, ...   \n",
       "http://dbpedia.org/resource/Hannah_Montana:_The...  [25, 6677, 48, 2, 138, 5, 331, 1, 7, 25, 6983,...   \n",
       "\n",
       "                                                    output_low  output_medium  \\\n",
       "http://dbpedia.org/resource/...All_the_Marbles               0              1   \n",
       "http://dbpedia.org/resource/An_Eye_for_an_Eye_(...           0              1   \n",
       "http://dbpedia.org/resource/Brain_Dead_(1990_film)           0              1   \n",
       "http://dbpedia.org/resource/For_Pete's_Sake_(film)           0              1   \n",
       "http://dbpedia.org/resource/Hannah_Montana:_The...           0              0   \n",
       "\n",
       "                                                    output_high  neuron_1  \\\n",
       "http://dbpedia.org/resource/...All_the_Marbles                0  0.298596   \n",
       "http://dbpedia.org/resource/An_Eye_for_an_Eye_(...            0 -0.379255   \n",
       "http://dbpedia.org/resource/Brain_Dead_(1990_film)            0  1.014461   \n",
       "http://dbpedia.org/resource/For_Pete's_Sake_(film)            0  0.035741   \n",
       "http://dbpedia.org/resource/Hannah_Montana:_The...            1 -1.145976   \n",
       "\n",
       "                                                    neuron_2  neuron_3  \\\n",
       "http://dbpedia.org/resource/...All_the_Marbles      0.849403 -0.988723   \n",
       "http://dbpedia.org/resource/An_Eye_for_an_Eye_(...  0.223250 -0.031877   \n",
       "http://dbpedia.org/resource/Brain_Dead_(1990_film)  0.639143 -0.699417   \n",
       "http://dbpedia.org/resource/For_Pete's_Sake_(film)  0.439374 -0.498020   \n",
       "http://dbpedia.org/resource/Hannah_Montana:_The... -1.825390  1.690629   \n",
       "\n",
       "                                                    neuron_4  neuron_5  ...  \\\n",
       "http://dbpedia.org/resource/...All_the_Marbles     -0.841870  0.150620  ...   \n",
       "http://dbpedia.org/resource/An_Eye_for_an_Eye_(...  0.072434  1.096253  ...   \n",
       "http://dbpedia.org/resource/Brain_Dead_(1990_film) -0.863171 -0.012427  ...   \n",
       "http://dbpedia.org/resource/For_Pete's_Sake_(film) -0.364738  0.245375  ...   \n",
       "http://dbpedia.org/resource/Hannah_Montana:_The...  1.890606 -2.439790  ...   \n",
       "\n",
       "                                                    neuron_23  neuron_24  \\\n",
       "http://dbpedia.org/resource/...All_the_Marbles       0.892949   0.677733   \n",
       "http://dbpedia.org/resource/An_Eye_for_an_Eye_(...   0.044472   0.046395   \n",
       "http://dbpedia.org/resource/Brain_Dead_(1990_film)   0.755954   0.945093   \n",
       "http://dbpedia.org/resource/For_Pete's_Sake_(film)   0.501123   0.481525   \n",
       "http://dbpedia.org/resource/Hannah_Montana:_The...  -1.750473  -2.135787   \n",
       "\n",
       "                                                    neuron_25  neuron_26  \\\n",
       "http://dbpedia.org/resource/...All_the_Marbles      -0.552367   0.493259   \n",
       "http://dbpedia.org/resource/An_Eye_for_an_Eye_(...   0.004812   0.046308   \n",
       "http://dbpedia.org/resource/Brain_Dead_(1990_film)  -0.688014   0.773376   \n",
       "http://dbpedia.org/resource/For_Pete's_Sake_(film)  -0.192740   0.363283   \n",
       "http://dbpedia.org/resource/Hannah_Montana:_The...   1.863636  -2.379085   \n",
       "\n",
       "                                                    neuron_27  neuron_28  \\\n",
       "http://dbpedia.org/resource/...All_the_Marbles      -0.721025  -0.587836   \n",
       "http://dbpedia.org/resource/An_Eye_for_an_Eye_(...  -0.711959  -0.037574   \n",
       "http://dbpedia.org/resource/Brain_Dead_(1990_film)  -0.394859  -0.902815   \n",
       "http://dbpedia.org/resource/For_Pete's_Sake_(film)  -0.544098  -0.376214   \n",
       "http://dbpedia.org/resource/Hannah_Montana:_The...   2.589814   2.271871   \n",
       "\n",
       "                                                    neuron_29  neuron_30  \\\n",
       "http://dbpedia.org/resource/...All_the_Marbles       0.613794   0.860012   \n",
       "http://dbpedia.org/resource/An_Eye_for_an_Eye_(...   1.220756   0.911114   \n",
       "http://dbpedia.org/resource/Brain_Dead_(1990_film)  -1.031667   0.070906   \n",
       "http://dbpedia.org/resource/For_Pete's_Sake_(film)   0.625178   0.474273   \n",
       "http://dbpedia.org/resource/Hannah_Montana:_The...  -0.053994  -2.260399   \n",
       "\n",
       "                                                    neuron_31  neuron_32  \n",
       "http://dbpedia.org/resource/...All_the_Marbles       0.274199  -0.013197  \n",
       "http://dbpedia.org/resource/An_Eye_for_an_Eye_(...   1.242117   1.075625  \n",
       "http://dbpedia.org/resource/Brain_Dead_(1990_film)  -0.893760  -1.086546  \n",
       "http://dbpedia.org/resource/For_Pete's_Sake_(film)   0.519930   0.254863  \n",
       "http://dbpedia.org/resource/Hannah_Montana:_The...  -2.155563   0.504372  \n",
       "\n",
       "[5 rows x 37 columns]"
      ]
     },
     "execution_count": 22,
     "metadata": {},
     "output_type": "execute_result"
    }
   ],
   "source": [
    "df_act.head()"
   ]
  },
  {
   "cell_type": "code",
   "execution_count": 23,
   "id": "8336d5de",
   "metadata": {},
   "outputs": [],
   "source": [
    "c = \"France\"\n",
    "\n",
    "df_s = df_act.copy()"
   ]
  },
  {
   "cell_type": "code",
   "execution_count": 24,
   "id": "df455350",
   "metadata": {},
   "outputs": [],
   "source": [
    "def get_cat_df(category, df):\n",
    "    \"\"\"\n",
    "    df : The standardized dataframe\n",
    "    \"\"\"\n",
    "    return df[df.category.apply(lambda x: category in x)]\n",
    "\n",
    "def get_activation_for_cat(category, df):\n",
    "    \"\"\"\n",
    "    df : The standardized dataframe\n",
    "    \"\"\"\n",
    "    return get_cat_df(category, df).iloc[:, 5:]"
   ]
  },
  {
   "cell_type": "code",
   "execution_count": 25,
   "id": "b416ec7d",
   "metadata": {},
   "outputs": [
    {
     "data": {
      "text/html": [
       "<div>\n",
       "<style scoped>\n",
       "    .dataframe tbody tr th:only-of-type {\n",
       "        vertical-align: middle;\n",
       "    }\n",
       "\n",
       "    .dataframe tbody tr th {\n",
       "        vertical-align: top;\n",
       "    }\n",
       "\n",
       "    .dataframe thead th {\n",
       "        text-align: right;\n",
       "    }\n",
       "</style>\n",
       "<table border=\"1\" class=\"dataframe\">\n",
       "  <thead>\n",
       "    <tr style=\"text-align: right;\">\n",
       "      <th></th>\n",
       "      <th>neuron_1</th>\n",
       "      <th>neuron_2</th>\n",
       "      <th>neuron_3</th>\n",
       "      <th>neuron_4</th>\n",
       "      <th>neuron_5</th>\n",
       "      <th>neuron_6</th>\n",
       "      <th>neuron_7</th>\n",
       "      <th>neuron_8</th>\n",
       "      <th>neuron_9</th>\n",
       "      <th>neuron_10</th>\n",
       "      <th>...</th>\n",
       "      <th>neuron_23</th>\n",
       "      <th>neuron_24</th>\n",
       "      <th>neuron_25</th>\n",
       "      <th>neuron_26</th>\n",
       "      <th>neuron_27</th>\n",
       "      <th>neuron_28</th>\n",
       "      <th>neuron_29</th>\n",
       "      <th>neuron_30</th>\n",
       "      <th>neuron_31</th>\n",
       "      <th>neuron_32</th>\n",
       "    </tr>\n",
       "  </thead>\n",
       "  <tbody>\n",
       "    <tr>\n",
       "      <th>http://dbpedia.org/resource/Molière_(2007_film)</th>\n",
       "      <td>-0.104291</td>\n",
       "      <td>0.721667</td>\n",
       "      <td>-0.698209</td>\n",
       "      <td>-0.407529</td>\n",
       "      <td>0.819361</td>\n",
       "      <td>-0.783293</td>\n",
       "      <td>-0.820757</td>\n",
       "      <td>0.361650</td>\n",
       "      <td>0.472253</td>\n",
       "      <td>0.667970</td>\n",
       "      <td>...</td>\n",
       "      <td>0.612437</td>\n",
       "      <td>0.409338</td>\n",
       "      <td>-0.372062</td>\n",
       "      <td>0.381180</td>\n",
       "      <td>-0.796962</td>\n",
       "      <td>-0.425382</td>\n",
       "      <td>1.193499</td>\n",
       "      <td>0.982886</td>\n",
       "      <td>0.704405</td>\n",
       "      <td>0.507872</td>\n",
       "    </tr>\n",
       "    <tr>\n",
       "      <th>http://dbpedia.org/resource/RocknRolla</th>\n",
       "      <td>-0.975010</td>\n",
       "      <td>-1.012476</td>\n",
       "      <td>1.201100</td>\n",
       "      <td>1.067771</td>\n",
       "      <td>0.451244</td>\n",
       "      <td>1.218673</td>\n",
       "      <td>0.087739</td>\n",
       "      <td>-1.132251</td>\n",
       "      <td>-0.835951</td>\n",
       "      <td>-0.777363</td>\n",
       "      <td>...</td>\n",
       "      <td>-1.170807</td>\n",
       "      <td>-1.006032</td>\n",
       "      <td>0.936404</td>\n",
       "      <td>-0.680026</td>\n",
       "      <td>0.513343</td>\n",
       "      <td>0.926072</td>\n",
       "      <td>0.528325</td>\n",
       "      <td>-0.443181</td>\n",
       "      <td>0.728571</td>\n",
       "      <td>0.919924</td>\n",
       "    </tr>\n",
       "    <tr>\n",
       "      <th>http://dbpedia.org/resource/Certified_Copy_(film)</th>\n",
       "      <td>0.184867</td>\n",
       "      <td>0.907454</td>\n",
       "      <td>-0.949751</td>\n",
       "      <td>-0.464971</td>\n",
       "      <td>0.965187</td>\n",
       "      <td>-0.853174</td>\n",
       "      <td>-0.775116</td>\n",
       "      <td>0.451578</td>\n",
       "      <td>0.392341</td>\n",
       "      <td>0.793643</td>\n",
       "      <td>...</td>\n",
       "      <td>0.793725</td>\n",
       "      <td>0.583239</td>\n",
       "      <td>-0.405726</td>\n",
       "      <td>0.386873</td>\n",
       "      <td>-0.826128</td>\n",
       "      <td>-0.541097</td>\n",
       "      <td>1.273392</td>\n",
       "      <td>1.200848</td>\n",
       "      <td>0.476349</td>\n",
       "      <td>0.449324</td>\n",
       "    </tr>\n",
       "    <tr>\n",
       "      <th>http://dbpedia.org/resource/Dumas_(film)</th>\n",
       "      <td>-0.533412</td>\n",
       "      <td>0.392971</td>\n",
       "      <td>-0.045569</td>\n",
       "      <td>0.067692</td>\n",
       "      <td>1.257092</td>\n",
       "      <td>-0.251989</td>\n",
       "      <td>-0.861208</td>\n",
       "      <td>-0.141167</td>\n",
       "      <td>0.246495</td>\n",
       "      <td>0.363443</td>\n",
       "      <td>...</td>\n",
       "      <td>0.013318</td>\n",
       "      <td>-0.175492</td>\n",
       "      <td>-0.365769</td>\n",
       "      <td>0.134047</td>\n",
       "      <td>-0.824817</td>\n",
       "      <td>-0.077771</td>\n",
       "      <td>1.294658</td>\n",
       "      <td>1.017178</td>\n",
       "      <td>1.515531</td>\n",
       "      <td>0.952290</td>\n",
       "    </tr>\n",
       "    <tr>\n",
       "      <th>http://dbpedia.org/resource/On_Tour_(2010_film)</th>\n",
       "      <td>-0.193611</td>\n",
       "      <td>0.795710</td>\n",
       "      <td>-0.726323</td>\n",
       "      <td>-0.120622</td>\n",
       "      <td>1.533484</td>\n",
       "      <td>-0.855942</td>\n",
       "      <td>-0.909087</td>\n",
       "      <td>0.147054</td>\n",
       "      <td>0.168122</td>\n",
       "      <td>0.761907</td>\n",
       "      <td>...</td>\n",
       "      <td>0.635415</td>\n",
       "      <td>0.294876</td>\n",
       "      <td>-0.377110</td>\n",
       "      <td>0.270437</td>\n",
       "      <td>-0.876972</td>\n",
       "      <td>-0.323117</td>\n",
       "      <td>1.543875</td>\n",
       "      <td>1.485130</td>\n",
       "      <td>1.286484</td>\n",
       "      <td>1.125672</td>\n",
       "    </tr>\n",
       "    <tr>\n",
       "      <th>...</th>\n",
       "      <td>...</td>\n",
       "      <td>...</td>\n",
       "      <td>...</td>\n",
       "      <td>...</td>\n",
       "      <td>...</td>\n",
       "      <td>...</td>\n",
       "      <td>...</td>\n",
       "      <td>...</td>\n",
       "      <td>...</td>\n",
       "      <td>...</td>\n",
       "      <td>...</td>\n",
       "      <td>...</td>\n",
       "      <td>...</td>\n",
       "      <td>...</td>\n",
       "      <td>...</td>\n",
       "      <td>...</td>\n",
       "      <td>...</td>\n",
       "      <td>...</td>\n",
       "      <td>...</td>\n",
       "      <td>...</td>\n",
       "      <td>...</td>\n",
       "    </tr>\n",
       "    <tr>\n",
       "      <th>http://dbpedia.org/resource/Marona's_Fantastic_Tale</th>\n",
       "      <td>0.754340</td>\n",
       "      <td>0.807962</td>\n",
       "      <td>-0.826323</td>\n",
       "      <td>-0.809099</td>\n",
       "      <td>0.094250</td>\n",
       "      <td>-0.855710</td>\n",
       "      <td>-0.522481</td>\n",
       "      <td>0.972491</td>\n",
       "      <td>0.713602</td>\n",
       "      <td>0.809875</td>\n",
       "      <td>...</td>\n",
       "      <td>0.944790</td>\n",
       "      <td>0.786818</td>\n",
       "      <td>-0.801568</td>\n",
       "      <td>0.711137</td>\n",
       "      <td>-0.664330</td>\n",
       "      <td>-0.768152</td>\n",
       "      <td>-0.395482</td>\n",
       "      <td>0.469877</td>\n",
       "      <td>-0.541499</td>\n",
       "      <td>-0.826892</td>\n",
       "    </tr>\n",
       "    <tr>\n",
       "      <th>http://dbpedia.org/resource/Notturno_(film)</th>\n",
       "      <td>1.611038</td>\n",
       "      <td>0.856767</td>\n",
       "      <td>-0.980168</td>\n",
       "      <td>-1.188013</td>\n",
       "      <td>-0.173053</td>\n",
       "      <td>-1.174270</td>\n",
       "      <td>-0.321075</td>\n",
       "      <td>1.333572</td>\n",
       "      <td>1.119378</td>\n",
       "      <td>0.725835</td>\n",
       "      <td>...</td>\n",
       "      <td>1.016394</td>\n",
       "      <td>1.047071</td>\n",
       "      <td>-1.325530</td>\n",
       "      <td>0.895749</td>\n",
       "      <td>-0.328419</td>\n",
       "      <td>-0.897724</td>\n",
       "      <td>-1.915173</td>\n",
       "      <td>0.057454</td>\n",
       "      <td>-0.555512</td>\n",
       "      <td>-1.843703</td>\n",
       "    </tr>\n",
       "    <tr>\n",
       "      <th>http://dbpedia.org/resource/Only_the_Animals_(film)</th>\n",
       "      <td>-0.037124</td>\n",
       "      <td>-0.172610</td>\n",
       "      <td>0.149620</td>\n",
       "      <td>-0.345218</td>\n",
       "      <td>-0.127189</td>\n",
       "      <td>0.505297</td>\n",
       "      <td>-0.174248</td>\n",
       "      <td>0.058133</td>\n",
       "      <td>0.268130</td>\n",
       "      <td>0.122946</td>\n",
       "      <td>...</td>\n",
       "      <td>0.036605</td>\n",
       "      <td>0.481930</td>\n",
       "      <td>0.239493</td>\n",
       "      <td>0.483128</td>\n",
       "      <td>-0.065023</td>\n",
       "      <td>-0.353411</td>\n",
       "      <td>0.023492</td>\n",
       "      <td>-0.207687</td>\n",
       "      <td>0.132255</td>\n",
       "      <td>0.146124</td>\n",
       "    </tr>\n",
       "    <tr>\n",
       "      <th>http://dbpedia.org/resource/The_Sonata</th>\n",
       "      <td>0.624670</td>\n",
       "      <td>0.467711</td>\n",
       "      <td>-0.637600</td>\n",
       "      <td>-0.774205</td>\n",
       "      <td>-0.165336</td>\n",
       "      <td>-0.527953</td>\n",
       "      <td>-0.342218</td>\n",
       "      <td>0.748660</td>\n",
       "      <td>0.753789</td>\n",
       "      <td>0.545926</td>\n",
       "      <td>...</td>\n",
       "      <td>0.710076</td>\n",
       "      <td>0.621148</td>\n",
       "      <td>-0.317145</td>\n",
       "      <td>0.644654</td>\n",
       "      <td>-0.376351</td>\n",
       "      <td>-0.716511</td>\n",
       "      <td>-0.371718</td>\n",
       "      <td>0.220927</td>\n",
       "      <td>-0.238855</td>\n",
       "      <td>-0.358702</td>\n",
       "    </tr>\n",
       "    <tr>\n",
       "      <th>http://dbpedia.org/resource/Walking_the_Camino:_Six_Ways_to_Santiago</th>\n",
       "      <td>0.823784</td>\n",
       "      <td>0.417128</td>\n",
       "      <td>-0.582335</td>\n",
       "      <td>-0.921446</td>\n",
       "      <td>-0.208286</td>\n",
       "      <td>-0.412590</td>\n",
       "      <td>-0.301103</td>\n",
       "      <td>0.859323</td>\n",
       "      <td>1.025719</td>\n",
       "      <td>0.517907</td>\n",
       "      <td>...</td>\n",
       "      <td>0.548477</td>\n",
       "      <td>0.766918</td>\n",
       "      <td>-0.722030</td>\n",
       "      <td>0.891382</td>\n",
       "      <td>-0.320835</td>\n",
       "      <td>-0.757159</td>\n",
       "      <td>-1.164344</td>\n",
       "      <td>-0.030324</td>\n",
       "      <td>-0.626067</td>\n",
       "      <td>-1.040966</td>\n",
       "    </tr>\n",
       "  </tbody>\n",
       "</table>\n",
       "<p>1725 rows × 32 columns</p>\n",
       "</div>"
      ],
      "text/plain": [
       "                                                    neuron_1  neuron_2  \\\n",
       "http://dbpedia.org/resource/Molière_(2007_film)    -0.104291  0.721667   \n",
       "http://dbpedia.org/resource/RocknRolla             -0.975010 -1.012476   \n",
       "http://dbpedia.org/resource/Certified_Copy_(film)   0.184867  0.907454   \n",
       "http://dbpedia.org/resource/Dumas_(film)           -0.533412  0.392971   \n",
       "http://dbpedia.org/resource/On_Tour_(2010_film)    -0.193611  0.795710   \n",
       "...                                                      ...       ...   \n",
       "http://dbpedia.org/resource/Marona's_Fantastic_...  0.754340  0.807962   \n",
       "http://dbpedia.org/resource/Notturno_(film)         1.611038  0.856767   \n",
       "http://dbpedia.org/resource/Only_the_Animals_(f... -0.037124 -0.172610   \n",
       "http://dbpedia.org/resource/The_Sonata              0.624670  0.467711   \n",
       "http://dbpedia.org/resource/Walking_the_Camino:...  0.823784  0.417128   \n",
       "\n",
       "                                                    neuron_3  neuron_4  \\\n",
       "http://dbpedia.org/resource/Molière_(2007_film)    -0.698209 -0.407529   \n",
       "http://dbpedia.org/resource/RocknRolla              1.201100  1.067771   \n",
       "http://dbpedia.org/resource/Certified_Copy_(film)  -0.949751 -0.464971   \n",
       "http://dbpedia.org/resource/Dumas_(film)           -0.045569  0.067692   \n",
       "http://dbpedia.org/resource/On_Tour_(2010_film)    -0.726323 -0.120622   \n",
       "...                                                      ...       ...   \n",
       "http://dbpedia.org/resource/Marona's_Fantastic_... -0.826323 -0.809099   \n",
       "http://dbpedia.org/resource/Notturno_(film)        -0.980168 -1.188013   \n",
       "http://dbpedia.org/resource/Only_the_Animals_(f...  0.149620 -0.345218   \n",
       "http://dbpedia.org/resource/The_Sonata             -0.637600 -0.774205   \n",
       "http://dbpedia.org/resource/Walking_the_Camino:... -0.582335 -0.921446   \n",
       "\n",
       "                                                    neuron_5  neuron_6  \\\n",
       "http://dbpedia.org/resource/Molière_(2007_film)     0.819361 -0.783293   \n",
       "http://dbpedia.org/resource/RocknRolla              0.451244  1.218673   \n",
       "http://dbpedia.org/resource/Certified_Copy_(film)   0.965187 -0.853174   \n",
       "http://dbpedia.org/resource/Dumas_(film)            1.257092 -0.251989   \n",
       "http://dbpedia.org/resource/On_Tour_(2010_film)     1.533484 -0.855942   \n",
       "...                                                      ...       ...   \n",
       "http://dbpedia.org/resource/Marona's_Fantastic_...  0.094250 -0.855710   \n",
       "http://dbpedia.org/resource/Notturno_(film)        -0.173053 -1.174270   \n",
       "http://dbpedia.org/resource/Only_the_Animals_(f... -0.127189  0.505297   \n",
       "http://dbpedia.org/resource/The_Sonata             -0.165336 -0.527953   \n",
       "http://dbpedia.org/resource/Walking_the_Camino:... -0.208286 -0.412590   \n",
       "\n",
       "                                                    neuron_7  neuron_8  \\\n",
       "http://dbpedia.org/resource/Molière_(2007_film)    -0.820757  0.361650   \n",
       "http://dbpedia.org/resource/RocknRolla              0.087739 -1.132251   \n",
       "http://dbpedia.org/resource/Certified_Copy_(film)  -0.775116  0.451578   \n",
       "http://dbpedia.org/resource/Dumas_(film)           -0.861208 -0.141167   \n",
       "http://dbpedia.org/resource/On_Tour_(2010_film)    -0.909087  0.147054   \n",
       "...                                                      ...       ...   \n",
       "http://dbpedia.org/resource/Marona's_Fantastic_... -0.522481  0.972491   \n",
       "http://dbpedia.org/resource/Notturno_(film)        -0.321075  1.333572   \n",
       "http://dbpedia.org/resource/Only_the_Animals_(f... -0.174248  0.058133   \n",
       "http://dbpedia.org/resource/The_Sonata             -0.342218  0.748660   \n",
       "http://dbpedia.org/resource/Walking_the_Camino:... -0.301103  0.859323   \n",
       "\n",
       "                                                    neuron_9  neuron_10  ...  \\\n",
       "http://dbpedia.org/resource/Molière_(2007_film)     0.472253   0.667970  ...   \n",
       "http://dbpedia.org/resource/RocknRolla             -0.835951  -0.777363  ...   \n",
       "http://dbpedia.org/resource/Certified_Copy_(film)   0.392341   0.793643  ...   \n",
       "http://dbpedia.org/resource/Dumas_(film)            0.246495   0.363443  ...   \n",
       "http://dbpedia.org/resource/On_Tour_(2010_film)     0.168122   0.761907  ...   \n",
       "...                                                      ...        ...  ...   \n",
       "http://dbpedia.org/resource/Marona's_Fantastic_...  0.713602   0.809875  ...   \n",
       "http://dbpedia.org/resource/Notturno_(film)         1.119378   0.725835  ...   \n",
       "http://dbpedia.org/resource/Only_the_Animals_(f...  0.268130   0.122946  ...   \n",
       "http://dbpedia.org/resource/The_Sonata              0.753789   0.545926  ...   \n",
       "http://dbpedia.org/resource/Walking_the_Camino:...  1.025719   0.517907  ...   \n",
       "\n",
       "                                                    neuron_23  neuron_24  \\\n",
       "http://dbpedia.org/resource/Molière_(2007_film)      0.612437   0.409338   \n",
       "http://dbpedia.org/resource/RocknRolla              -1.170807  -1.006032   \n",
       "http://dbpedia.org/resource/Certified_Copy_(film)    0.793725   0.583239   \n",
       "http://dbpedia.org/resource/Dumas_(film)             0.013318  -0.175492   \n",
       "http://dbpedia.org/resource/On_Tour_(2010_film)      0.635415   0.294876   \n",
       "...                                                       ...        ...   \n",
       "http://dbpedia.org/resource/Marona's_Fantastic_...   0.944790   0.786818   \n",
       "http://dbpedia.org/resource/Notturno_(film)          1.016394   1.047071   \n",
       "http://dbpedia.org/resource/Only_the_Animals_(f...   0.036605   0.481930   \n",
       "http://dbpedia.org/resource/The_Sonata               0.710076   0.621148   \n",
       "http://dbpedia.org/resource/Walking_the_Camino:...   0.548477   0.766918   \n",
       "\n",
       "                                                    neuron_25  neuron_26  \\\n",
       "http://dbpedia.org/resource/Molière_(2007_film)     -0.372062   0.381180   \n",
       "http://dbpedia.org/resource/RocknRolla               0.936404  -0.680026   \n",
       "http://dbpedia.org/resource/Certified_Copy_(film)   -0.405726   0.386873   \n",
       "http://dbpedia.org/resource/Dumas_(film)            -0.365769   0.134047   \n",
       "http://dbpedia.org/resource/On_Tour_(2010_film)     -0.377110   0.270437   \n",
       "...                                                       ...        ...   \n",
       "http://dbpedia.org/resource/Marona's_Fantastic_...  -0.801568   0.711137   \n",
       "http://dbpedia.org/resource/Notturno_(film)         -1.325530   0.895749   \n",
       "http://dbpedia.org/resource/Only_the_Animals_(f...   0.239493   0.483128   \n",
       "http://dbpedia.org/resource/The_Sonata              -0.317145   0.644654   \n",
       "http://dbpedia.org/resource/Walking_the_Camino:...  -0.722030   0.891382   \n",
       "\n",
       "                                                    neuron_27  neuron_28  \\\n",
       "http://dbpedia.org/resource/Molière_(2007_film)     -0.796962  -0.425382   \n",
       "http://dbpedia.org/resource/RocknRolla               0.513343   0.926072   \n",
       "http://dbpedia.org/resource/Certified_Copy_(film)   -0.826128  -0.541097   \n",
       "http://dbpedia.org/resource/Dumas_(film)            -0.824817  -0.077771   \n",
       "http://dbpedia.org/resource/On_Tour_(2010_film)     -0.876972  -0.323117   \n",
       "...                                                       ...        ...   \n",
       "http://dbpedia.org/resource/Marona's_Fantastic_...  -0.664330  -0.768152   \n",
       "http://dbpedia.org/resource/Notturno_(film)         -0.328419  -0.897724   \n",
       "http://dbpedia.org/resource/Only_the_Animals_(f...  -0.065023  -0.353411   \n",
       "http://dbpedia.org/resource/The_Sonata              -0.376351  -0.716511   \n",
       "http://dbpedia.org/resource/Walking_the_Camino:...  -0.320835  -0.757159   \n",
       "\n",
       "                                                    neuron_29  neuron_30  \\\n",
       "http://dbpedia.org/resource/Molière_(2007_film)      1.193499   0.982886   \n",
       "http://dbpedia.org/resource/RocknRolla               0.528325  -0.443181   \n",
       "http://dbpedia.org/resource/Certified_Copy_(film)    1.273392   1.200848   \n",
       "http://dbpedia.org/resource/Dumas_(film)             1.294658   1.017178   \n",
       "http://dbpedia.org/resource/On_Tour_(2010_film)      1.543875   1.485130   \n",
       "...                                                       ...        ...   \n",
       "http://dbpedia.org/resource/Marona's_Fantastic_...  -0.395482   0.469877   \n",
       "http://dbpedia.org/resource/Notturno_(film)         -1.915173   0.057454   \n",
       "http://dbpedia.org/resource/Only_the_Animals_(f...   0.023492  -0.207687   \n",
       "http://dbpedia.org/resource/The_Sonata              -0.371718   0.220927   \n",
       "http://dbpedia.org/resource/Walking_the_Camino:...  -1.164344  -0.030324   \n",
       "\n",
       "                                                    neuron_31  neuron_32  \n",
       "http://dbpedia.org/resource/Molière_(2007_film)      0.704405   0.507872  \n",
       "http://dbpedia.org/resource/RocknRolla               0.728571   0.919924  \n",
       "http://dbpedia.org/resource/Certified_Copy_(film)    0.476349   0.449324  \n",
       "http://dbpedia.org/resource/Dumas_(film)             1.515531   0.952290  \n",
       "http://dbpedia.org/resource/On_Tour_(2010_film)      1.286484   1.125672  \n",
       "...                                                       ...        ...  \n",
       "http://dbpedia.org/resource/Marona's_Fantastic_...  -0.541499  -0.826892  \n",
       "http://dbpedia.org/resource/Notturno_(film)         -0.555512  -1.843703  \n",
       "http://dbpedia.org/resource/Only_the_Animals_(f...   0.132255   0.146124  \n",
       "http://dbpedia.org/resource/The_Sonata              -0.238855  -0.358702  \n",
       "http://dbpedia.org/resource/Walking_the_Camino:...  -0.626067  -1.040966  \n",
       "\n",
       "[1725 rows x 32 columns]"
      ]
     },
     "execution_count": 25,
     "metadata": {},
     "output_type": "execute_result"
    }
   ],
   "source": [
    "get_activation_for_cat('France', df_s)"
   ]
  },
  {
   "cell_type": "code",
   "execution_count": 26,
   "id": "d7405fdf",
   "metadata": {},
   "outputs": [],
   "source": [
    "def get_activation_for_not_cat(category, df):\n",
    "    \"\"\"\n",
    "    df : The standardized dataframe\n",
    "    \"\"\"\n",
    "    return getNotCatDF(category, df).iloc[:, 5:]\n",
    "\n",
    "def getNotCatDF(cat, df): # Standardized df\n",
    "    \"\"\"\n",
    "    df : The standardized dataframe\n",
    "    \"\"\"\n",
    "    return df[df.category.apply(lambda x: cat not in x)]"
   ]
  },
  {
   "cell_type": "code",
   "execution_count": 27,
   "id": "f76406a5",
   "metadata": {
    "scrolled": false
   },
   "outputs": [
    {
     "data": {
      "text/html": [
       "<div>\n",
       "<style scoped>\n",
       "    .dataframe tbody tr th:only-of-type {\n",
       "        vertical-align: middle;\n",
       "    }\n",
       "\n",
       "    .dataframe tbody tr th {\n",
       "        vertical-align: top;\n",
       "    }\n",
       "\n",
       "    .dataframe thead th {\n",
       "        text-align: right;\n",
       "    }\n",
       "</style>\n",
       "<table border=\"1\" class=\"dataframe\">\n",
       "  <thead>\n",
       "    <tr style=\"text-align: right;\">\n",
       "      <th></th>\n",
       "      <th>neuron_1</th>\n",
       "      <th>neuron_2</th>\n",
       "      <th>neuron_3</th>\n",
       "      <th>neuron_4</th>\n",
       "      <th>neuron_5</th>\n",
       "      <th>neuron_6</th>\n",
       "      <th>neuron_7</th>\n",
       "      <th>neuron_8</th>\n",
       "      <th>neuron_9</th>\n",
       "      <th>neuron_10</th>\n",
       "      <th>...</th>\n",
       "      <th>neuron_23</th>\n",
       "      <th>neuron_24</th>\n",
       "      <th>neuron_25</th>\n",
       "      <th>neuron_26</th>\n",
       "      <th>neuron_27</th>\n",
       "      <th>neuron_28</th>\n",
       "      <th>neuron_29</th>\n",
       "      <th>neuron_30</th>\n",
       "      <th>neuron_31</th>\n",
       "      <th>neuron_32</th>\n",
       "    </tr>\n",
       "  </thead>\n",
       "  <tbody>\n",
       "    <tr>\n",
       "      <th>http://dbpedia.org/resource/Fantasy_Island_(film)</th>\n",
       "      <td>-1.092548</td>\n",
       "      <td>-1.193374</td>\n",
       "      <td>1.115138</td>\n",
       "      <td>0.572458</td>\n",
       "      <td>-0.679480</td>\n",
       "      <td>1.275261</td>\n",
       "      <td>0.769037</td>\n",
       "      <td>-1.039561</td>\n",
       "      <td>-0.779394</td>\n",
       "      <td>-1.373099</td>\n",
       "      <td>...</td>\n",
       "      <td>-1.209674</td>\n",
       "      <td>-0.862389</td>\n",
       "      <td>1.248513</td>\n",
       "      <td>-0.817904</td>\n",
       "      <td>0.936603</td>\n",
       "      <td>1.049075</td>\n",
       "      <td>0.325906</td>\n",
       "      <td>-0.980012</td>\n",
       "      <td>0.415441</td>\n",
       "      <td>0.719858</td>\n",
       "    </tr>\n",
       "    <tr>\n",
       "      <th>http://dbpedia.org/resource/The_Possession_of_Hannah_Grace</th>\n",
       "      <td>-1.473879</td>\n",
       "      <td>-1.603528</td>\n",
       "      <td>1.371174</td>\n",
       "      <td>1.136964</td>\n",
       "      <td>-1.150178</td>\n",
       "      <td>1.425167</td>\n",
       "      <td>1.350056</td>\n",
       "      <td>-1.290004</td>\n",
       "      <td>-1.196984</td>\n",
       "      <td>-1.796147</td>\n",
       "      <td>...</td>\n",
       "      <td>-1.380027</td>\n",
       "      <td>-1.336125</td>\n",
       "      <td>1.727908</td>\n",
       "      <td>-1.464319</td>\n",
       "      <td>1.329693</td>\n",
       "      <td>1.485443</td>\n",
       "      <td>0.209122</td>\n",
       "      <td>-1.580422</td>\n",
       "      <td>0.963501</td>\n",
       "      <td>0.859993</td>\n",
       "    </tr>\n",
       "    <tr>\n",
       "      <th>http://dbpedia.org/resource/Porky's_II:_The_Next_Day</th>\n",
       "      <td>-1.002931</td>\n",
       "      <td>-1.306625</td>\n",
       "      <td>1.273163</td>\n",
       "      <td>1.151593</td>\n",
       "      <td>-0.080605</td>\n",
       "      <td>1.362126</td>\n",
       "      <td>0.535067</td>\n",
       "      <td>-1.217098</td>\n",
       "      <td>-1.060343</td>\n",
       "      <td>-1.261022</td>\n",
       "      <td>...</td>\n",
       "      <td>-1.274050</td>\n",
       "      <td>-1.167405</td>\n",
       "      <td>1.309893</td>\n",
       "      <td>-0.919014</td>\n",
       "      <td>0.712978</td>\n",
       "      <td>1.184390</td>\n",
       "      <td>0.412775</td>\n",
       "      <td>-0.906935</td>\n",
       "      <td>1.169645</td>\n",
       "      <td>0.907501</td>\n",
       "    </tr>\n",
       "    <tr>\n",
       "      <th>http://dbpedia.org/resource/Speed_Racer_(film)</th>\n",
       "      <td>-1.186208</td>\n",
       "      <td>-1.702425</td>\n",
       "      <td>1.577989</td>\n",
       "      <td>1.763611</td>\n",
       "      <td>-1.953037</td>\n",
       "      <td>1.303163</td>\n",
       "      <td>2.213437</td>\n",
       "      <td>-1.515766</td>\n",
       "      <td>-1.807584</td>\n",
       "      <td>-1.857005</td>\n",
       "      <td>...</td>\n",
       "      <td>-1.617420</td>\n",
       "      <td>-1.864313</td>\n",
       "      <td>1.576024</td>\n",
       "      <td>-2.076458</td>\n",
       "      <td>2.143125</td>\n",
       "      <td>1.898183</td>\n",
       "      <td>0.017470</td>\n",
       "      <td>-1.894890</td>\n",
       "      <td>-1.287743</td>\n",
       "      <td>0.559390</td>\n",
       "    </tr>\n",
       "    <tr>\n",
       "      <th>http://dbpedia.org/resource/Breaking_Upwards</th>\n",
       "      <td>2.637116</td>\n",
       "      <td>1.358097</td>\n",
       "      <td>-1.499374</td>\n",
       "      <td>-1.528741</td>\n",
       "      <td>-0.063246</td>\n",
       "      <td>-1.637607</td>\n",
       "      <td>-0.391107</td>\n",
       "      <td>1.537613</td>\n",
       "      <td>1.183619</td>\n",
       "      <td>1.017329</td>\n",
       "      <td>...</td>\n",
       "      <td>1.423735</td>\n",
       "      <td>1.344261</td>\n",
       "      <td>-1.806881</td>\n",
       "      <td>1.001209</td>\n",
       "      <td>-0.597715</td>\n",
       "      <td>-1.304669</td>\n",
       "      <td>-2.427563</td>\n",
       "      <td>0.352768</td>\n",
       "      <td>-1.465150</td>\n",
       "      <td>-2.519057</td>\n",
       "    </tr>\n",
       "    <tr>\n",
       "      <th>...</th>\n",
       "      <td>...</td>\n",
       "      <td>...</td>\n",
       "      <td>...</td>\n",
       "      <td>...</td>\n",
       "      <td>...</td>\n",
       "      <td>...</td>\n",
       "      <td>...</td>\n",
       "      <td>...</td>\n",
       "      <td>...</td>\n",
       "      <td>...</td>\n",
       "      <td>...</td>\n",
       "      <td>...</td>\n",
       "      <td>...</td>\n",
       "      <td>...</td>\n",
       "      <td>...</td>\n",
       "      <td>...</td>\n",
       "      <td>...</td>\n",
       "      <td>...</td>\n",
       "      <td>...</td>\n",
       "      <td>...</td>\n",
       "      <td>...</td>\n",
       "    </tr>\n",
       "    <tr>\n",
       "      <th>http://dbpedia.org/resource/Fidaa</th>\n",
       "      <td>2.452404</td>\n",
       "      <td>1.197384</td>\n",
       "      <td>-1.395104</td>\n",
       "      <td>-1.487022</td>\n",
       "      <td>-0.124010</td>\n",
       "      <td>-1.497078</td>\n",
       "      <td>-0.361469</td>\n",
       "      <td>1.468853</td>\n",
       "      <td>1.297465</td>\n",
       "      <td>0.961029</td>\n",
       "      <td>...</td>\n",
       "      <td>1.351925</td>\n",
       "      <td>1.342255</td>\n",
       "      <td>-1.560362</td>\n",
       "      <td>1.012725</td>\n",
       "      <td>-0.524930</td>\n",
       "      <td>-1.321140</td>\n",
       "      <td>-2.370327</td>\n",
       "      <td>0.129095</td>\n",
       "      <td>-1.467949</td>\n",
       "      <td>-2.342857</td>\n",
       "    </tr>\n",
       "    <tr>\n",
       "      <th>http://dbpedia.org/resource/The_Duke_Steps_Out</th>\n",
       "      <td>1.548713</td>\n",
       "      <td>0.865954</td>\n",
       "      <td>-1.072524</td>\n",
       "      <td>-1.068836</td>\n",
       "      <td>-0.165716</td>\n",
       "      <td>-1.030902</td>\n",
       "      <td>-0.341310</td>\n",
       "      <td>1.260973</td>\n",
       "      <td>1.075079</td>\n",
       "      <td>0.830755</td>\n",
       "      <td>...</td>\n",
       "      <td>1.154759</td>\n",
       "      <td>1.088609</td>\n",
       "      <td>-0.961643</td>\n",
       "      <td>0.887468</td>\n",
       "      <td>-0.562436</td>\n",
       "      <td>-1.046900</td>\n",
       "      <td>-1.498005</td>\n",
       "      <td>0.193331</td>\n",
       "      <td>-1.036895</td>\n",
       "      <td>-1.514312</td>\n",
       "    </tr>\n",
       "    <tr>\n",
       "      <th>http://dbpedia.org/resource/Laggies</th>\n",
       "      <td>0.399522</td>\n",
       "      <td>0.552407</td>\n",
       "      <td>-0.521739</td>\n",
       "      <td>-0.356289</td>\n",
       "      <td>0.541191</td>\n",
       "      <td>-0.237140</td>\n",
       "      <td>-0.550522</td>\n",
       "      <td>0.414907</td>\n",
       "      <td>0.287301</td>\n",
       "      <td>0.716746</td>\n",
       "      <td>...</td>\n",
       "      <td>0.556116</td>\n",
       "      <td>0.637895</td>\n",
       "      <td>-0.370878</td>\n",
       "      <td>0.644596</td>\n",
       "      <td>-0.652526</td>\n",
       "      <td>-0.751712</td>\n",
       "      <td>0.284363</td>\n",
       "      <td>0.629584</td>\n",
       "      <td>-0.143708</td>\n",
       "      <td>-0.155992</td>\n",
       "    </tr>\n",
       "    <tr>\n",
       "      <th>http://dbpedia.org/resource/Father_Goose_(film)</th>\n",
       "      <td>-0.959439</td>\n",
       "      <td>-0.122938</td>\n",
       "      <td>0.440689</td>\n",
       "      <td>0.600246</td>\n",
       "      <td>2.201309</td>\n",
       "      <td>0.281501</td>\n",
       "      <td>-1.077781</td>\n",
       "      <td>-0.825407</td>\n",
       "      <td>-0.423170</td>\n",
       "      <td>0.298668</td>\n",
       "      <td>...</td>\n",
       "      <td>-0.399985</td>\n",
       "      <td>-0.451565</td>\n",
       "      <td>0.342431</td>\n",
       "      <td>-0.229760</td>\n",
       "      <td>-0.705770</td>\n",
       "      <td>0.350418</td>\n",
       "      <td>1.521155</td>\n",
       "      <td>1.509946</td>\n",
       "      <td>2.415371</td>\n",
       "      <td>1.536295</td>\n",
       "    </tr>\n",
       "    <tr>\n",
       "      <th>http://dbpedia.org/resource/The_Watch_(2012_film)</th>\n",
       "      <td>-1.247938</td>\n",
       "      <td>-1.744802</td>\n",
       "      <td>1.636698</td>\n",
       "      <td>1.839023</td>\n",
       "      <td>-2.184811</td>\n",
       "      <td>1.294120</td>\n",
       "      <td>2.406763</td>\n",
       "      <td>-1.571417</td>\n",
       "      <td>-1.903535</td>\n",
       "      <td>-1.990557</td>\n",
       "      <td>...</td>\n",
       "      <td>-1.651374</td>\n",
       "      <td>-2.023430</td>\n",
       "      <td>1.599477</td>\n",
       "      <td>-2.241545</td>\n",
       "      <td>2.307566</td>\n",
       "      <td>2.047043</td>\n",
       "      <td>0.022916</td>\n",
       "      <td>-2.037217</td>\n",
       "      <td>-2.088858</td>\n",
       "      <td>0.546983</td>\n",
       "    </tr>\n",
       "  </tbody>\n",
       "</table>\n",
       "<p>1725 rows × 32 columns</p>\n",
       "</div>"
      ],
      "text/plain": [
       "                                                    neuron_1  neuron_2  \\\n",
       "http://dbpedia.org/resource/Fantasy_Island_(film)  -1.092548 -1.193374   \n",
       "http://dbpedia.org/resource/The_Possession_of_H... -1.473879 -1.603528   \n",
       "http://dbpedia.org/resource/Porky's_II:_The_Nex... -1.002931 -1.306625   \n",
       "http://dbpedia.org/resource/Speed_Racer_(film)     -1.186208 -1.702425   \n",
       "http://dbpedia.org/resource/Breaking_Upwards        2.637116  1.358097   \n",
       "...                                                      ...       ...   \n",
       "http://dbpedia.org/resource/Fidaa                   2.452404  1.197384   \n",
       "http://dbpedia.org/resource/The_Duke_Steps_Out      1.548713  0.865954   \n",
       "http://dbpedia.org/resource/Laggies                 0.399522  0.552407   \n",
       "http://dbpedia.org/resource/Father_Goose_(film)    -0.959439 -0.122938   \n",
       "http://dbpedia.org/resource/The_Watch_(2012_film)  -1.247938 -1.744802   \n",
       "\n",
       "                                                    neuron_3  neuron_4  \\\n",
       "http://dbpedia.org/resource/Fantasy_Island_(film)   1.115138  0.572458   \n",
       "http://dbpedia.org/resource/The_Possession_of_H...  1.371174  1.136964   \n",
       "http://dbpedia.org/resource/Porky's_II:_The_Nex...  1.273163  1.151593   \n",
       "http://dbpedia.org/resource/Speed_Racer_(film)      1.577989  1.763611   \n",
       "http://dbpedia.org/resource/Breaking_Upwards       -1.499374 -1.528741   \n",
       "...                                                      ...       ...   \n",
       "http://dbpedia.org/resource/Fidaa                  -1.395104 -1.487022   \n",
       "http://dbpedia.org/resource/The_Duke_Steps_Out     -1.072524 -1.068836   \n",
       "http://dbpedia.org/resource/Laggies                -0.521739 -0.356289   \n",
       "http://dbpedia.org/resource/Father_Goose_(film)     0.440689  0.600246   \n",
       "http://dbpedia.org/resource/The_Watch_(2012_film)   1.636698  1.839023   \n",
       "\n",
       "                                                    neuron_5  neuron_6  \\\n",
       "http://dbpedia.org/resource/Fantasy_Island_(film)  -0.679480  1.275261   \n",
       "http://dbpedia.org/resource/The_Possession_of_H... -1.150178  1.425167   \n",
       "http://dbpedia.org/resource/Porky's_II:_The_Nex... -0.080605  1.362126   \n",
       "http://dbpedia.org/resource/Speed_Racer_(film)     -1.953037  1.303163   \n",
       "http://dbpedia.org/resource/Breaking_Upwards       -0.063246 -1.637607   \n",
       "...                                                      ...       ...   \n",
       "http://dbpedia.org/resource/Fidaa                  -0.124010 -1.497078   \n",
       "http://dbpedia.org/resource/The_Duke_Steps_Out     -0.165716 -1.030902   \n",
       "http://dbpedia.org/resource/Laggies                 0.541191 -0.237140   \n",
       "http://dbpedia.org/resource/Father_Goose_(film)     2.201309  0.281501   \n",
       "http://dbpedia.org/resource/The_Watch_(2012_film)  -2.184811  1.294120   \n",
       "\n",
       "                                                    neuron_7  neuron_8  \\\n",
       "http://dbpedia.org/resource/Fantasy_Island_(film)   0.769037 -1.039561   \n",
       "http://dbpedia.org/resource/The_Possession_of_H...  1.350056 -1.290004   \n",
       "http://dbpedia.org/resource/Porky's_II:_The_Nex...  0.535067 -1.217098   \n",
       "http://dbpedia.org/resource/Speed_Racer_(film)      2.213437 -1.515766   \n",
       "http://dbpedia.org/resource/Breaking_Upwards       -0.391107  1.537613   \n",
       "...                                                      ...       ...   \n",
       "http://dbpedia.org/resource/Fidaa                  -0.361469  1.468853   \n",
       "http://dbpedia.org/resource/The_Duke_Steps_Out     -0.341310  1.260973   \n",
       "http://dbpedia.org/resource/Laggies                -0.550522  0.414907   \n",
       "http://dbpedia.org/resource/Father_Goose_(film)    -1.077781 -0.825407   \n",
       "http://dbpedia.org/resource/The_Watch_(2012_film)   2.406763 -1.571417   \n",
       "\n",
       "                                                    neuron_9  neuron_10  ...  \\\n",
       "http://dbpedia.org/resource/Fantasy_Island_(film)  -0.779394  -1.373099  ...   \n",
       "http://dbpedia.org/resource/The_Possession_of_H... -1.196984  -1.796147  ...   \n",
       "http://dbpedia.org/resource/Porky's_II:_The_Nex... -1.060343  -1.261022  ...   \n",
       "http://dbpedia.org/resource/Speed_Racer_(film)     -1.807584  -1.857005  ...   \n",
       "http://dbpedia.org/resource/Breaking_Upwards        1.183619   1.017329  ...   \n",
       "...                                                      ...        ...  ...   \n",
       "http://dbpedia.org/resource/Fidaa                   1.297465   0.961029  ...   \n",
       "http://dbpedia.org/resource/The_Duke_Steps_Out      1.075079   0.830755  ...   \n",
       "http://dbpedia.org/resource/Laggies                 0.287301   0.716746  ...   \n",
       "http://dbpedia.org/resource/Father_Goose_(film)    -0.423170   0.298668  ...   \n",
       "http://dbpedia.org/resource/The_Watch_(2012_film)  -1.903535  -1.990557  ...   \n",
       "\n",
       "                                                    neuron_23  neuron_24  \\\n",
       "http://dbpedia.org/resource/Fantasy_Island_(film)   -1.209674  -0.862389   \n",
       "http://dbpedia.org/resource/The_Possession_of_H...  -1.380027  -1.336125   \n",
       "http://dbpedia.org/resource/Porky's_II:_The_Nex...  -1.274050  -1.167405   \n",
       "http://dbpedia.org/resource/Speed_Racer_(film)      -1.617420  -1.864313   \n",
       "http://dbpedia.org/resource/Breaking_Upwards         1.423735   1.344261   \n",
       "...                                                       ...        ...   \n",
       "http://dbpedia.org/resource/Fidaa                    1.351925   1.342255   \n",
       "http://dbpedia.org/resource/The_Duke_Steps_Out       1.154759   1.088609   \n",
       "http://dbpedia.org/resource/Laggies                  0.556116   0.637895   \n",
       "http://dbpedia.org/resource/Father_Goose_(film)     -0.399985  -0.451565   \n",
       "http://dbpedia.org/resource/The_Watch_(2012_film)   -1.651374  -2.023430   \n",
       "\n",
       "                                                    neuron_25  neuron_26  \\\n",
       "http://dbpedia.org/resource/Fantasy_Island_(film)    1.248513  -0.817904   \n",
       "http://dbpedia.org/resource/The_Possession_of_H...   1.727908  -1.464319   \n",
       "http://dbpedia.org/resource/Porky's_II:_The_Nex...   1.309893  -0.919014   \n",
       "http://dbpedia.org/resource/Speed_Racer_(film)       1.576024  -2.076458   \n",
       "http://dbpedia.org/resource/Breaking_Upwards        -1.806881   1.001209   \n",
       "...                                                       ...        ...   \n",
       "http://dbpedia.org/resource/Fidaa                   -1.560362   1.012725   \n",
       "http://dbpedia.org/resource/The_Duke_Steps_Out      -0.961643   0.887468   \n",
       "http://dbpedia.org/resource/Laggies                 -0.370878   0.644596   \n",
       "http://dbpedia.org/resource/Father_Goose_(film)      0.342431  -0.229760   \n",
       "http://dbpedia.org/resource/The_Watch_(2012_film)    1.599477  -2.241545   \n",
       "\n",
       "                                                    neuron_27  neuron_28  \\\n",
       "http://dbpedia.org/resource/Fantasy_Island_(film)    0.936603   1.049075   \n",
       "http://dbpedia.org/resource/The_Possession_of_H...   1.329693   1.485443   \n",
       "http://dbpedia.org/resource/Porky's_II:_The_Nex...   0.712978   1.184390   \n",
       "http://dbpedia.org/resource/Speed_Racer_(film)       2.143125   1.898183   \n",
       "http://dbpedia.org/resource/Breaking_Upwards        -0.597715  -1.304669   \n",
       "...                                                       ...        ...   \n",
       "http://dbpedia.org/resource/Fidaa                   -0.524930  -1.321140   \n",
       "http://dbpedia.org/resource/The_Duke_Steps_Out      -0.562436  -1.046900   \n",
       "http://dbpedia.org/resource/Laggies                 -0.652526  -0.751712   \n",
       "http://dbpedia.org/resource/Father_Goose_(film)     -0.705770   0.350418   \n",
       "http://dbpedia.org/resource/The_Watch_(2012_film)    2.307566   2.047043   \n",
       "\n",
       "                                                    neuron_29  neuron_30  \\\n",
       "http://dbpedia.org/resource/Fantasy_Island_(film)    0.325906  -0.980012   \n",
       "http://dbpedia.org/resource/The_Possession_of_H...   0.209122  -1.580422   \n",
       "http://dbpedia.org/resource/Porky's_II:_The_Nex...   0.412775  -0.906935   \n",
       "http://dbpedia.org/resource/Speed_Racer_(film)       0.017470  -1.894890   \n",
       "http://dbpedia.org/resource/Breaking_Upwards        -2.427563   0.352768   \n",
       "...                                                       ...        ...   \n",
       "http://dbpedia.org/resource/Fidaa                   -2.370327   0.129095   \n",
       "http://dbpedia.org/resource/The_Duke_Steps_Out      -1.498005   0.193331   \n",
       "http://dbpedia.org/resource/Laggies                  0.284363   0.629584   \n",
       "http://dbpedia.org/resource/Father_Goose_(film)      1.521155   1.509946   \n",
       "http://dbpedia.org/resource/The_Watch_(2012_film)    0.022916  -2.037217   \n",
       "\n",
       "                                                    neuron_31  neuron_32  \n",
       "http://dbpedia.org/resource/Fantasy_Island_(film)    0.415441   0.719858  \n",
       "http://dbpedia.org/resource/The_Possession_of_H...   0.963501   0.859993  \n",
       "http://dbpedia.org/resource/Porky's_II:_The_Nex...   1.169645   0.907501  \n",
       "http://dbpedia.org/resource/Speed_Racer_(film)      -1.287743   0.559390  \n",
       "http://dbpedia.org/resource/Breaking_Upwards        -1.465150  -2.519057  \n",
       "...                                                       ...        ...  \n",
       "http://dbpedia.org/resource/Fidaa                   -1.467949  -2.342857  \n",
       "http://dbpedia.org/resource/The_Duke_Steps_Out      -1.036895  -1.514312  \n",
       "http://dbpedia.org/resource/Laggies                 -0.143708  -0.155992  \n",
       "http://dbpedia.org/resource/Father_Goose_(film)      2.415371   1.536295  \n",
       "http://dbpedia.org/resource/The_Watch_(2012_film)   -2.088858   0.546983  \n",
       "\n",
       "[1725 rows x 32 columns]"
      ]
     },
     "execution_count": 27,
     "metadata": {},
     "output_type": "execute_result"
    }
   ],
   "source": [
    "actnc = get_activation_for_not_cat(c, df_s) # (15678, 32)\n",
    "\n",
    "actc = get_activation_for_cat(c, df_s) # (1725, 32)\n",
    "\n",
    "actnc.sample(len(actc))"
   ]
  },
  {
   "cell_type": "markdown",
   "id": "3ba78942",
   "metadata": {},
   "source": [
    "https://likegeeks.com/seaborn-heatmap-tutorial/#Changing_heatmap_color"
   ]
  },
  {
   "cell_type": "code",
   "execution_count": 28,
   "id": "e90acd6c",
   "metadata": {
    "scrolled": false
   },
   "outputs": [
    {
     "name": "stdout",
     "output_type": "stream",
     "text": [
      "United States\n"
     ]
    },
    {
     "data": {
      "image/png": "[encoded data removed]",
      "text/plain": [
       "<Figure size 432x288 with 2 Axes>"
      ]
     },
     "metadata": {
      "needs_background": "light"
     },
     "output_type": "display_data"
    },
    {
     "data": {
      "image/png": "[encoded data removed]",
      "text/plain": [
       "<Figure size 432x288 with 2 Axes>"
      ]
     },
     "metadata": {
      "needs_background": "light"
     },
     "output_type": "display_data"
    },
    {
     "name": "stdout",
     "output_type": "stream",
     "text": [
      "United Kingdom\n"
     ]
    },
    {
     "data": {
      "image/png": "[encoded data removed]",
      "text/plain": [
       "<Figure size 432x288 with 2 Axes>"
      ]
     },
     "metadata": {
      "needs_background": "light"
     },
     "output_type": "display_data"
    },
    {
     "data": {
      "image/png": "[encoded data removed]",
      "text/plain": [
       "<Figure size 432x288 with 2 Axes>"
      ]
     },
     "metadata": {
      "needs_background": "light"
     },
     "output_type": "display_data"
    },
    {
     "name": "stdout",
     "output_type": "stream",
     "text": [
      "France\n"
     ]
    },
    {
     "data": {
      "image/png": "[encoded data removed]",
      "text/plain": [
       "<Figure size 432x288 with 2 Axes>"
      ]
     },
     "metadata": {
      "needs_background": "light"
     },
     "output_type": "display_data"
    },
    {
     "data": {
      "image/png": "[encoded data removed]",
      "text/plain": [
       "<Figure size 432x288 with 2 Axes>"
      ]
     },
     "metadata": {
      "needs_background": "light"
     },
     "output_type": "display_data"
    },
    {
     "name": "stdout",
     "output_type": "stream",
     "text": [
      "Hong Kong\n"
     ]
    },
    {
     "data": {
      "image/png": "[encoded data removed]",
      "text/plain": [
       "<Figure size 432x288 with 2 Axes>"
      ]
     },
     "metadata": {
      "needs_background": "light"
     },
     "output_type": "display_data"
    },
    {
     "data": {
      "image/png": "[encoded data removed]",
      "text/plain": [
       "<Figure size 432x288 with 2 Axes>"
      ]
     },
     "metadata": {
      "needs_background": "light"
     },
     "output_type": "display_data"
    },
    {
     "name": "stdout",
     "output_type": "stream",
     "text": [
      "Australia\n"
     ]
    },
    {
     "data": {
      "image/png": "[encoded data removed]",
      "text/plain": [
       "<Figure size 432x288 with 2 Axes>"
      ]
     },
     "metadata": {
      "needs_background": "light"
     },
     "output_type": "display_data"
    },
    {
     "data": {
      "image/png": "[encoded data removed]",
      "text/plain": [
       "<Figure size 432x288 with 2 Axes>"
      ]
     },
     "metadata": {
      "needs_background": "light"
     },
     "output_type": "display_data"
    },
    {
     "name": "stdout",
     "output_type": "stream",
     "text": [
      "Japan\n"
     ]
    },
    {
     "data": {
      "image/png": "[encoded data removed]",
      "text/plain": [
       "<Figure size 432x288 with 2 Axes>"
      ]
     },
     "metadata": {
      "needs_background": "light"
     },
     "output_type": "display_data"
    },
    {
     "data": {
      "image/png": "[encoded data removed]",
      "text/plain": [
       "<Figure size 432x288 with 2 Axes>"
      ]
     },
     "metadata": {
      "needs_background": "light"
     },
     "output_type": "display_data"
    },
    {
     "name": "stdout",
     "output_type": "stream",
     "text": [
      "China\n"
     ]
    },
    {
     "data": {
      "image/png": "[encoded data removed]",
      "text/plain": [
       "<Figure size 432x288 with 2 Axes>"
      ]
     },
     "metadata": {
      "needs_background": "light"
     },
     "output_type": "display_data"
    },
    {
     "data": {
      "image/png": "[encoded data removed]",
      "text/plain": [
       "<Figure size 432x288 with 2 Axes>"
      ]
     },
     "metadata": {
      "needs_background": "light"
     },
     "output_type": "display_data"
    }
   ],
   "source": [
    "from scipy import stats\n",
    "import plotly.graph_objects as go\n",
    "import seaborn as sns\n",
    "import matplotlib.pyplot as plt\n",
    "\n",
    "def find_pv(category):\n",
    "    actc = get_activation_for_cat(category, df_s)\n",
    "    actnc = get_activation_for_not_cat(category, df_s)\n",
    "    reses = []\n",
    "    for i in range(1000):  \n",
    "        actncs = actnc.sample(len(actc), replace=True)\n",
    "        res = []\n",
    "        for col in actc:\n",
    "            p = stats.wilcoxon(np.array(actncs[col]), y=np.array(actc[col])).pvalue\n",
    "            res.append(p)\n",
    "        reses.append(res)\n",
    "    return pd.DataFrame(np.array(reses)).mean()\n",
    "\n",
    "for c, n in get_popular_categories(df):\n",
    "    print(c)\n",
    "    r = find_pv(c)\n",
    "    rdf = pd.DataFrame(r)\n",
    "    \n",
    "    sns.heatmap(rdf.T, cmap=\"Greys\")\n",
    "    plt.show()\n",
    "    \n",
    "    \"\"\"\n",
    "    data = [go.Heatmap(z=rdf.T, zmin=0, zmax=1,\n",
    "            colorscale=['rgb(255, 255, 255)', 'rgb(0, 0, 0)'], \n",
    "            reversescale=False)]\n",
    "    layout = go.Layout(template='none', height=300)\n",
    "    fig = go.Figure(data=data, layout=layout)\n",
    "    fig.show()\n",
    "    \"\"\"\n",
    "    \n",
    "\n",
    "    rdf[0] = rdf[0].apply(lambda x: 0 if x > 0.01 else 1)\n",
    "    \n",
    "    sns.heatmap(rdf.T, cmap=\"Greys\")\n",
    "    plt.show()\n",
    "    \n",
    "    \"\"\"\n",
    "    data = [go.Heatmap(z=rdf.T, zmin=0, zmax=1,\n",
    "            colorscale=['rgb(0, 0, 0)', 'rgb(255, 255, 255)'], \n",
    "            reversescale=False)]\n",
    "    layout = go.Layout(template='none', height=300)\n",
    "    fig = go.Figure(data=data, layout=layout)\n",
    "    fig.show()\n",
    "    \"\"\""
   ]
  },
  {
   "cell_type": "code",
   "execution_count": 56,
   "id": "201cb430",
   "metadata": {},
   "outputs": [],
   "source": [
    "def get_heatmaps_dict():\n",
    "    dheatmaps = {}\n",
    "    for c, n in get_popular_categories(df_s, thresh=500):\n",
    "        for_cat = {}\n",
    "\n",
    "        r = find_pv(c)\n",
    "\n",
    "        # 1st heatmap\n",
    "        rdf = pd.DataFrame(r)\n",
    "        ax = sns.heatmap(rdf.T, cbar=False, cmap=\"Greys\")\n",
    "        fig = ax.get_figure()\n",
    "        path = f\"../heatmaps/{c}-1.png\"\n",
    "        #fig.savefig(path)\n",
    "\n",
    "        for_cat['heatmap-1'] = {}\n",
    "        for_cat['heatmap-1']['path'] = path\n",
    "        for_cat['heatmap-1']['data'] = np.array(rdf[0]).T\n",
    "\n",
    "        # 2st heatmap\n",
    "        rdf[0] = rdf[0].apply(lambda x: 0 if x > 0.01 else 1)\n",
    "        ax = sns.heatmap(rdf.T, cbar=False, cmap=\"Greys\")\n",
    "        fig = ax.get_figure()\n",
    "        path = f\"../heatmaps/{c}-2.png\"\n",
    "        #fig.savefig(path)\n",
    "\n",
    "        for_cat['heatmap-2'] = {}\n",
    "        for_cat['heatmap-2']['path'] = path\n",
    "        for_cat['heatmap-2']['data'] = np.array(rdf[0]).T\n",
    "\n",
    "        # Add paths to dict\n",
    "        dheatmaps[c] = for_cat\n",
    "\n",
    "    return dheatmaps"
   ]
  },
  {
   "cell_type": "code",
   "execution_count": 57,
   "id": "10135b2a",
   "metadata": {},
   "outputs": [
    {
     "data": {
      "text/plain": [
       "array([1, 1, 1, 1, 1, 1, 1, 1, 1, 1, 1, 1, 1, 1, 1, 1, 1, 1, 1, 0, 1, 1,\n",
       "       1, 1, 1, 1, 1, 1, 1, 1, 1, 1], dtype=int64)"
      ]
     },
     "execution_count": 57,
     "metadata": {},
     "output_type": "execute_result"
    }
   ],
   "source": [
    "np.array(rdf[0])"
   ]
  },
  {
   "cell_type": "code",
   "execution_count": 58,
   "id": "d9cc4578",
   "metadata": {
    "scrolled": true
   },
   "outputs": [
    {
     "data": {
      "image/png": "[encoded data removed]",
      "text/plain": [
       "<Figure size 432x288 with 1 Axes>"
      ]
     },
     "metadata": {
      "needs_background": "light"
     },
     "output_type": "display_data"
    }
   ],
   "source": [
    "h = get_heatmaps_dict()"
   ]
  },
  {
   "cell_type": "code",
   "execution_count": 59,
   "id": "667bc54a",
   "metadata": {},
   "outputs": [
    {
     "data": {
      "text/plain": [
       "{'United States': {'heatmap-1': {'path': '../heatmaps/United States-1.png',\n",
       "   'data': array([1.46198609e-076, 1.71638847e-051, 2.03544138e-046, 2.20058136e-100,\n",
       "          2.94860797e-017, 2.30586278e-028, 1.23368558e-051, 3.69283375e-079,\n",
       "          2.96517976e-117, 6.74798750e-067, 5.45418039e-043, 2.16964572e-048,\n",
       "          2.25993067e-082, 2.45105790e-048, 2.25343390e-037, 2.95485360e-038,\n",
       "          2.55777403e-077, 2.47333562e-079, 1.96340352e-106, 1.21417855e-096,\n",
       "          9.78662121e-035, 7.17925972e-106, 1.05600221e-055, 3.68784045e-098,\n",
       "          1.08879397e-082, 3.36809681e-137, 9.37311202e-039, 4.77797891e-105,\n",
       "          3.63012427e-039, 8.32582574e-023, 1.86907083e-009, 2.29922421e-048])},\n",
       "  'heatmap-2': {'path': '../heatmaps/United States-2.png',\n",
       "   'data': array([1, 1, 1, 1, 1, 1, 1, 1, 1, 1, 1, 1, 1, 1, 1, 1, 1, 1, 1, 1, 1, 1,\n",
       "          1, 1, 1, 1, 1, 1, 1, 1, 1, 1], dtype=int64)}},\n",
       " 'United Kingdom': {'heatmap-1': {'path': '../heatmaps/United Kingdom-1.png',\n",
       "   'data': array([2.74780162e-09, 8.10948777e-06, 1.15256744e-06, 6.13071412e-08,\n",
       "          1.23999356e-01, 1.92054001e-07, 3.02801033e-01, 1.80729474e-08,\n",
       "          4.27882592e-07, 9.47071078e-05, 2.73470643e-04, 8.00419960e-09,\n",
       "          9.90664765e-06, 2.56193960e-03, 1.60078184e-03, 8.07665602e-04,\n",
       "          4.53268684e-07, 1.87485611e-08, 3.61072771e-10, 6.78746851e-09,\n",
       "          5.26728926e-01, 2.07712802e-05, 8.51793611e-07, 2.21446277e-06,\n",
       "          1.67894771e-07, 7.34658224e-06, 1.73909522e-02, 4.51682307e-06,\n",
       "          4.36368583e-09, 2.78244048e-01, 4.58857306e-05, 4.49284034e-12])},\n",
       "  'heatmap-2': {'path': '../heatmaps/United Kingdom-2.png',\n",
       "   'data': array([1, 1, 1, 1, 0, 1, 0, 1, 1, 1, 1, 1, 1, 1, 1, 1, 1, 1, 1, 1, 0, 1,\n",
       "          1, 1, 1, 1, 0, 1, 1, 0, 1, 1], dtype=int64)}},\n",
       " 'France': {'heatmap-1': {'path': '../heatmaps/France-1.png',\n",
       "   'data': array([3.76323512e-01, 6.15623352e-03, 5.85123354e-02, 2.70473123e-02,\n",
       "          1.92251887e-14, 4.71912686e-01, 2.28936079e-13, 1.92311731e-01,\n",
       "          2.82757656e-03, 1.22036485e-04, 1.95932753e-03, 4.18956964e-01,\n",
       "          3.87516342e-04, 1.59188205e-05, 7.19979750e-05, 1.14347490e-04,\n",
       "          5.76249747e-03, 1.71907287e-01, 4.98318174e-01, 2.78300059e-03,\n",
       "          4.81373251e-19, 4.38495768e-07, 3.59042558e-02, 2.67421780e-03,\n",
       "          4.71264493e-02, 1.75947609e-05, 2.21091437e-07, 1.34404570e-04,\n",
       "          9.31065252e-10, 9.34291367e-10, 2.52892759e-12, 5.07782515e-04])},\n",
       "  'heatmap-2': {'path': '../heatmaps/France-2.png',\n",
       "   'data': array([0, 1, 0, 0, 1, 0, 1, 0, 1, 1, 1, 0, 1, 1, 1, 1, 1, 0, 0, 1, 1, 1,\n",
       "          0, 1, 0, 1, 1, 1, 1, 1, 1, 1], dtype=int64)}},\n",
       " 'Hong Kong': {'heatmap-1': {'path': '../heatmaps/Hong Kong-1.png',\n",
       "   'data': array([5.38729220e-29, 4.23764070e-10, 1.77277756e-16, 4.65701614e-17,\n",
       "          5.27570943e-17, 3.24884172e-18, 3.56292574e-04, 1.13357715e-23,\n",
       "          2.14697244e-12, 4.02786218e-05, 8.64902542e-05, 3.98375964e-28,\n",
       "          3.45881409e-06, 2.66230077e-02, 3.00307073e-02, 1.67917486e-05,\n",
       "          1.19009923e-12, 1.61401721e-24, 9.84107313e-33, 4.88413127e-26,\n",
       "          2.12795000e-04, 3.83621958e-06, 1.49501122e-15, 3.11942152e-13,\n",
       "          1.79640171e-13, 6.06308002e-08, 3.98850220e-01, 1.15901927e-09,\n",
       "          4.62245309e-38, 8.05048514e-03, 1.21630020e-41, 1.07719996e-51])},\n",
       "  'heatmap-2': {'path': '../heatmaps/Hong Kong-2.png',\n",
       "   'data': array([1, 1, 1, 1, 1, 1, 1, 1, 1, 1, 1, 1, 1, 0, 0, 1, 1, 1, 1, 1, 1, 1,\n",
       "          1, 1, 1, 1, 0, 1, 1, 1, 1, 1], dtype=int64)}},\n",
       " 'Australia': {'heatmap-1': {'path': '../heatmaps/Australia-1.png',\n",
       "   'data': array([2.82334723e-43, 2.46666372e-26, 5.47194852e-30, 1.83752494e-40,\n",
       "          9.93728915e-04, 1.95049742e-31, 1.77947926e-01, 9.27060086e-41,\n",
       "          2.02765730e-39, 2.16907966e-23, 3.67572064e-18, 5.30202260e-40,\n",
       "          3.86842432e-28, 6.29697237e-11, 6.73403809e-11, 1.37817402e-13,\n",
       "          4.52218258e-34, 7.96696616e-40, 1.03463892e-45, 7.52798835e-42,\n",
       "          4.07295924e-01, 3.35487967e-27, 1.05255647e-32, 6.66341055e-35,\n",
       "          2.85197605e-38, 6.79085118e-36, 2.25090528e-05, 2.73901315e-33,\n",
       "          1.04775015e-50, 4.89148132e-01, 7.89101642e-19, 1.50841058e-50])},\n",
       "  'heatmap-2': {'path': '../heatmaps/Australia-2.png',\n",
       "   'data': array([1, 1, 1, 1, 1, 1, 0, 1, 1, 1, 1, 1, 1, 1, 1, 1, 1, 1, 1, 1, 0, 1,\n",
       "          1, 1, 1, 1, 1, 1, 1, 0, 1, 1], dtype=int64)}},\n",
       " 'Japan': {'heatmap-1': {'path': '../heatmaps/Japan-1.png',\n",
       "   'data': array([3.48398193e-34, 5.91559509e-37, 4.34001595e-40, 3.44113599e-34,\n",
       "          3.49831813e-15, 6.07636703e-43, 8.34426892e-21, 2.72086550e-37,\n",
       "          3.06245295e-32, 2.97039147e-29, 3.45856351e-32, 2.70548574e-39,\n",
       "          2.09023079e-26, 7.25589945e-30, 3.75860436e-32, 5.67929502e-35,\n",
       "          7.04632858e-34, 5.95994841e-37, 9.04918793e-30, 2.59096323e-07,\n",
       "          1.72149679e-19, 5.63198745e-26, 7.82993528e-39, 1.48111376e-30,\n",
       "          7.63890395e-35, 1.04291643e-22, 1.18740908e-25, 3.93545707e-29,\n",
       "          2.21473270e-02, 1.58920210e-25, 1.77160452e-02, 1.95787522e-15])},\n",
       "  'heatmap-2': {'path': '../heatmaps/Japan-2.png',\n",
       "   'data': array([1, 1, 1, 1, 1, 1, 1, 1, 1, 1, 1, 1, 1, 1, 1, 1, 1, 1, 1, 1, 1, 1,\n",
       "          1, 1, 1, 1, 1, 1, 0, 1, 0, 1], dtype=int64)}},\n",
       " 'China': {'heatmap-1': {'path': '../heatmaps/China-1.png',\n",
       "   'data': array([1.94088783e-21, 4.85024029e-22, 1.13854460e-25, 7.45410543e-16,\n",
       "          1.73780904e-04, 4.43488495e-33, 4.81952848e-07, 9.21818796e-22,\n",
       "          1.28452483e-13, 1.09687306e-15, 2.59624171e-18, 1.22489157e-27,\n",
       "          1.87506102e-11, 2.96785237e-14, 7.31489816e-17, 1.83663620e-19,\n",
       "          2.73070336e-18, 6.09686887e-21, 1.88811033e-19, 4.39311928e-01,\n",
       "          6.47584057e-07, 6.13176128e-10, 9.65446711e-24, 2.04215016e-13,\n",
       "          3.55258650e-22, 3.45465927e-09, 2.33095870e-10, 2.85606054e-13,\n",
       "          2.90429486e-04, 8.42312948e-10, 5.71453561e-08, 4.14562567e-16])},\n",
       "  'heatmap-2': {'path': '../heatmaps/China-2.png',\n",
       "   'data': array([1, 1, 1, 1, 1, 1, 1, 1, 1, 1, 1, 1, 1, 1, 1, 1, 1, 1, 1, 0, 1, 1,\n",
       "          1, 1, 1, 1, 1, 1, 1, 1, 1, 1], dtype=int64)}}}"
      ]
     },
     "execution_count": 59,
     "metadata": {},
     "output_type": "execute_result"
    }
   ],
   "source": [
    "h"
   ]
  },
  {
   "cell_type": "code",
   "execution_count": 67,
   "id": "ec52c69c",
   "metadata": {},
   "outputs": [
    {
     "data": {
      "text/plain": [
       "(32, 1)"
      ]
     },
     "execution_count": 67,
     "metadata": {},
     "output_type": "execute_result"
    }
   ],
   "source": [
    "data.reshape(-1, 1).shape"
   ]
  },
  {
   "cell_type": "code",
   "execution_count": 70,
   "id": "07d3163f",
   "metadata": {},
   "outputs": [
    {
     "name": "stdout",
     "output_type": "stream",
     "text": [
      "[1.46198609e-076 1.71638847e-051 2.03544138e-046 2.20058136e-100\n",
      " 2.94860797e-017 2.30586278e-028 1.23368558e-051 3.69283375e-079\n",
      " 2.96517976e-117 6.74798750e-067 5.45418039e-043 2.16964572e-048\n",
      " 2.25993067e-082 2.45105790e-048 2.25343390e-037 2.95485360e-038\n",
      " 2.55777403e-077 2.47333562e-079 1.96340352e-106 1.21417855e-096\n",
      " 9.78662121e-035 7.17925972e-106 1.05600221e-055 3.68784045e-098\n",
      " 1.08879397e-082 3.36809681e-137 9.37311202e-039 4.77797891e-105\n",
      " 3.63012427e-039 8.32582574e-023 1.86907083e-009 2.29922421e-048]\n"
     ]
    },
    {
     "data": {
      "image/png": "[encoded data removed]",
      "text/plain": [
       "<Figure size 432x288 with 1 Axes>"
      ]
     },
     "metadata": {
      "needs_background": "light"
     },
     "output_type": "display_data"
    },
    {
     "name": "stdout",
     "output_type": "stream",
     "text": [
      "[2.74780162e-09 8.10948777e-06 1.15256744e-06 6.13071412e-08\n",
      " 1.23999356e-01 1.92054001e-07 3.02801033e-01 1.80729474e-08\n",
      " 4.27882592e-07 9.47071078e-05 2.73470643e-04 8.00419960e-09\n",
      " 9.90664765e-06 2.56193960e-03 1.60078184e-03 8.07665602e-04\n",
      " 4.53268684e-07 1.87485611e-08 3.61072771e-10 6.78746851e-09\n",
      " 5.26728926e-01 2.07712802e-05 8.51793611e-07 2.21446277e-06\n",
      " 1.67894771e-07 7.34658224e-06 1.73909522e-02 4.51682307e-06\n",
      " 4.36368583e-09 2.78244048e-01 4.58857306e-05 4.49284034e-12]\n"
     ]
    },
    {
     "data": {
      "image/png": "[encoded data removed]",
      "text/plain": [
       "<Figure size 432x288 with 1 Axes>"
      ]
     },
     "metadata": {
      "needs_background": "light"
     },
     "output_type": "display_data"
    },
    {
     "name": "stdout",
     "output_type": "stream",
     "text": [
      "[3.76323512e-01 6.15623352e-03 5.85123354e-02 2.70473123e-02\n",
      " 1.92251887e-14 4.71912686e-01 2.28936079e-13 1.92311731e-01\n",
      " 2.82757656e-03 1.22036485e-04 1.95932753e-03 4.18956964e-01\n",
      " 3.87516342e-04 1.59188205e-05 7.19979750e-05 1.14347490e-04\n",
      " 5.76249747e-03 1.71907287e-01 4.98318174e-01 2.78300059e-03\n",
      " 4.81373251e-19 4.38495768e-07 3.59042558e-02 2.67421780e-03\n",
      " 4.71264493e-02 1.75947609e-05 2.21091437e-07 1.34404570e-04\n",
      " 9.31065252e-10 9.34291367e-10 2.52892759e-12 5.07782515e-04]\n"
     ]
    },
    {
     "data": {
      "image/png": "[encoded data removed]",
      "text/plain": [
       "<Figure size 432x288 with 1 Axes>"
      ]
     },
     "metadata": {
      "needs_background": "light"
     },
     "output_type": "display_data"
    },
    {
     "name": "stdout",
     "output_type": "stream",
     "text": [
      "[5.38729220e-29 4.23764070e-10 1.77277756e-16 4.65701614e-17\n",
      " 5.27570943e-17 3.24884172e-18 3.56292574e-04 1.13357715e-23\n",
      " 2.14697244e-12 4.02786218e-05 8.64902542e-05 3.98375964e-28\n",
      " 3.45881409e-06 2.66230077e-02 3.00307073e-02 1.67917486e-05\n",
      " 1.19009923e-12 1.61401721e-24 9.84107313e-33 4.88413127e-26\n",
      " 2.12795000e-04 3.83621958e-06 1.49501122e-15 3.11942152e-13\n",
      " 1.79640171e-13 6.06308002e-08 3.98850220e-01 1.15901927e-09\n",
      " 4.62245309e-38 8.05048514e-03 1.21630020e-41 1.07719996e-51]\n"
     ]
    },
    {
     "data": {
      "image/png": "[encoded data removed]",
      "text/plain": [
       "<Figure size 432x288 with 1 Axes>"
      ]
     },
     "metadata": {
      "needs_background": "light"
     },
     "output_type": "display_data"
    },
    {
     "name": "stdout",
     "output_type": "stream",
     "text": [
      "[2.82334723e-43 2.46666372e-26 5.47194852e-30 1.83752494e-40\n",
      " 9.93728915e-04 1.95049742e-31 1.77947926e-01 9.27060086e-41\n",
      " 2.02765730e-39 2.16907966e-23 3.67572064e-18 5.30202260e-40\n",
      " 3.86842432e-28 6.29697237e-11 6.73403809e-11 1.37817402e-13\n",
      " 4.52218258e-34 7.96696616e-40 1.03463892e-45 7.52798835e-42\n",
      " 4.07295924e-01 3.35487967e-27 1.05255647e-32 6.66341055e-35\n",
      " 2.85197605e-38 6.79085118e-36 2.25090528e-05 2.73901315e-33\n",
      " 1.04775015e-50 4.89148132e-01 7.89101642e-19 1.50841058e-50]\n"
     ]
    },
    {
     "data": {
      "image/png": "[encoded data removed]",
      "text/plain": [
       "<Figure size 432x288 with 1 Axes>"
      ]
     },
     "metadata": {
      "needs_background": "light"
     },
     "output_type": "display_data"
    },
    {
     "name": "stdout",
     "output_type": "stream",
     "text": [
      "[3.48398193e-34 5.91559509e-37 4.34001595e-40 3.44113599e-34\n",
      " 3.49831813e-15 6.07636703e-43 8.34426892e-21 2.72086550e-37\n",
      " 3.06245295e-32 2.97039147e-29 3.45856351e-32 2.70548574e-39\n",
      " 2.09023079e-26 7.25589945e-30 3.75860436e-32 5.67929502e-35\n",
      " 7.04632858e-34 5.95994841e-37 9.04918793e-30 2.59096323e-07\n",
      " 1.72149679e-19 5.63198745e-26 7.82993528e-39 1.48111376e-30\n",
      " 7.63890395e-35 1.04291643e-22 1.18740908e-25 3.93545707e-29\n",
      " 2.21473270e-02 1.58920210e-25 1.77160452e-02 1.95787522e-15]\n"
     ]
    },
    {
     "data": {
      "image/png": "[encoded data removed]",
      "text/plain": [
       "<Figure size 432x288 with 1 Axes>"
      ]
     },
     "metadata": {
      "needs_background": "light"
     },
     "output_type": "display_data"
    },
    {
     "name": "stdout",
     "output_type": "stream",
     "text": [
      "[1.94088783e-21 4.85024029e-22 1.13854460e-25 7.45410543e-16\n",
      " 1.73780904e-04 4.43488495e-33 4.81952848e-07 9.21818796e-22\n",
      " 1.28452483e-13 1.09687306e-15 2.59624171e-18 1.22489157e-27\n",
      " 1.87506102e-11 2.96785237e-14 7.31489816e-17 1.83663620e-19\n",
      " 2.73070336e-18 6.09686887e-21 1.88811033e-19 4.39311928e-01\n",
      " 6.47584057e-07 6.13176128e-10 9.65446711e-24 2.04215016e-13\n",
      " 3.55258650e-22 3.45465927e-09 2.33095870e-10 2.85606054e-13\n",
      " 2.90429486e-04 8.42312948e-10 5.71453561e-08 4.14562567e-16]\n"
     ]
    },
    {
     "data": {
      "image/png": "[encoded data removed]",
      "text/plain": [
       "<Figure size 432x288 with 1 Axes>"
      ]
     },
     "metadata": {
      "needs_background": "light"
     },
     "output_type": "display_data"
    }
   ],
   "source": [
    "for k in h:\n",
    "    data = h[k]['heatmap-1']['data']\n",
    "    print(data)\n",
    "    sns.heatmap(data.reshape(-1, 1).T, cbar=False, cmap=\"Greys\")\n",
    "    plt.show()"
   ]
  },
  {
   "cell_type": "code",
   "execution_count": 71,
   "id": "01b9c9cd",
   "metadata": {},
   "outputs": [
    {
     "data": {
      "text/plain": [
       "[('United States', 10734),\n",
       " ('United Kingdom', 1757),\n",
       " ('France', 1725),\n",
       " ('Hong Kong', 804),\n",
       " ('Australia', 592),\n",
       " ('Japan', 580),\n",
       " ('China', 567)]"
      ]
     },
     "execution_count": 71,
     "metadata": {},
     "output_type": "execute_result"
    }
   ],
   "source": [
    "get_popular_categories(df_s)"
   ]
  },
  {
   "cell_type": "code",
   "execution_count": null,
   "id": "3ae742cc",
   "metadata": {},
   "outputs": [],
   "source": []
  }
 ],
 "metadata": {
  "kernelspec": {
   "display_name": "rnn-films",
   "language": "python",
   "name": "rnn-films"
  },
  "language_info": {
   "codemirror_mode": {
    "name": "ipython",
    "version": 3
   },
   "file_extension": ".py",
   "mimetype": "text/x-python",
   "name": "python",
   "nbconvert_exporter": "python",
   "pygments_lexer": "ipython3",
   "version": "3.9.7"
  }
 },
 "nbformat": 4,
 "nbformat_minor": 5
}
