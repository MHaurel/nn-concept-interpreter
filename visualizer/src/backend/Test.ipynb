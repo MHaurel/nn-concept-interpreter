{
 "cells": [
  {
   "cell_type": "code",
   "execution_count": 1,
   "id": "b680621a",
   "metadata": {},
   "outputs": [],
   "source": [
    "import pandas as pd\n",
    "import numpy as np\n",
    "import seaborn as sns\n",
    "\n",
    "%matplotlib inline\n",
    "import matplotlib\n",
    "import matplotlib.colors\n",
    "from matplotlib.colors import LinearSegmentedColormap\n",
    "import matplotlib as pyplot"
   ]
  },
  {
   "cell_type": "code",
   "execution_count": 2,
   "id": "c98d2e30",
   "metadata": {},
   "outputs": [
    {
     "name": "stdout",
     "output_type": "stream",
     "text": [
      "Name: pandas\n",
      "Version: 1.4.2\n",
      "Summary: Powerful data structures for data analysis, time series, and statistics\n",
      "Home-page: https://pandas.pydata.org\n",
      "Author: The Pandas Development Team\n",
      "Author-email: pandas-dev@python.org\n",
      "License: BSD-3-Clause\n",
      "Location: d:\\users\\maxim\\anaconda3\\envs\\rnn-films\\lib\\site-packages\n",
      "Requires: numpy, python-dateutil, pytz\n",
      "Required-by: statsmodels, seaborn\n"
     ]
    }
   ],
   "source": [
    "!pip show pandas"
   ]
  },
  {
   "cell_type": "code",
   "execution_count": 3,
   "id": "83e1c4b7",
   "metadata": {},
   "outputs": [
    {
     "name": "stdout",
     "output_type": "stream",
     "text": [
      "Requirement already satisfied: pandas==1.4.2 in d:\\users\\maxim\\anaconda3\\envs\\rnn-films\\lib\\site-packages (1.4.2)\n",
      "Requirement already satisfied: python-dateutil>=2.8.1 in d:\\users\\maxim\\anaconda3\\envs\\rnn-films\\lib\\site-packages (from pandas==1.4.2) (2.8.2)\n",
      "Requirement already satisfied: numpy>=1.18.5 in d:\\users\\maxim\\anaconda3\\envs\\rnn-films\\lib\\site-packages (from pandas==1.4.2) (1.20.3)\n",
      "Requirement already satisfied: pytz>=2020.1 in d:\\users\\maxim\\anaconda3\\envs\\rnn-films\\lib\\site-packages (from pandas==1.4.2) (2021.3)\n",
      "Requirement already satisfied: six>=1.5 in d:\\users\\maxim\\anaconda3\\envs\\rnn-films\\lib\\site-packages (from python-dateutil>=2.8.1->pandas==1.4.2) (1.16.0)\n"
     ]
    }
   ],
   "source": [
    "!pip install --upgrade pandas==1.4.2"
   ]
  },
  {
   "cell_type": "code",
   "execution_count": 4,
   "id": "a53660fd",
   "metadata": {
    "scrolled": false
   },
   "outputs": [
    {
     "data": {
      "text/plain": [
       "(1, 2)"
      ]
     },
     "execution_count": 4,
     "metadata": {},
     "output_type": "execute_result"
    }
   ],
   "source": [
    "diff = pd.read_csv('./diff.csv')\n",
    "diff.shape"
   ]
  },
  {
   "cell_type": "code",
   "execution_count": 5,
   "id": "e961fcbd",
   "metadata": {},
   "outputs": [
    {
     "data": {
      "text/html": [
       "<div>\n",
       "<style scoped>\n",
       "    .dataframe tbody tr th:only-of-type {\n",
       "        vertical-align: middle;\n",
       "    }\n",
       "\n",
       "    .dataframe tbody tr th {\n",
       "        vertical-align: top;\n",
       "    }\n",
       "\n",
       "    .dataframe thead th {\n",
       "        text-align: right;\n",
       "    }\n",
       "</style>\n",
       "<table border=\"1\" class=\"dataframe\">\n",
       "  <thead>\n",
       "    <tr style=\"text-align: right;\">\n",
       "      <th></th>\n",
       "      <th>Unnamed: 0</th>\n",
       "      <th>0</th>\n",
       "    </tr>\n",
       "  </thead>\n",
       "  <tbody>\n",
       "    <tr>\n",
       "      <th>0</th>\n",
       "      <td>0</td>\n",
       "      <td>-0.090274</td>\n",
       "    </tr>\n",
       "  </tbody>\n",
       "</table>\n",
       "</div>"
      ],
      "text/plain": [
       "   Unnamed: 0         0\n",
       "0           0 -0.090274"
      ]
     },
     "execution_count": 5,
     "metadata": {},
     "output_type": "execute_result"
    }
   ],
   "source": [
    "diff"
   ]
  },
  {
   "cell_type": "code",
   "execution_count": 6,
   "id": "170c21e1",
   "metadata": {},
   "outputs": [
    {
     "data": {
      "text/plain": [
       "Index(['Unnamed: 0', '0'], dtype='object')"
      ]
     },
     "execution_count": 6,
     "metadata": {},
     "output_type": "execute_result"
    }
   ],
   "source": [
    "diff.columns"
   ]
  },
  {
   "cell_type": "code",
   "execution_count": 7,
   "id": "158c4d93",
   "metadata": {
    "scrolled": true
   },
   "outputs": [
    {
     "data": {
      "text/html": [
       "<div>\n",
       "<style scoped>\n",
       "    .dataframe tbody tr th:only-of-type {\n",
       "        vertical-align: middle;\n",
       "    }\n",
       "\n",
       "    .dataframe tbody tr th {\n",
       "        vertical-align: top;\n",
       "    }\n",
       "\n",
       "    .dataframe thead th {\n",
       "        text-align: right;\n",
       "    }\n",
       "</style>\n",
       "<table border=\"1\" class=\"dataframe\">\n",
       "  <thead>\n",
       "    <tr style=\"text-align: right;\">\n",
       "      <th></th>\n",
       "      <th>0</th>\n",
       "    </tr>\n",
       "  </thead>\n",
       "  <tbody>\n",
       "    <tr>\n",
       "      <th>0</th>\n",
       "      <td>-0.090274</td>\n",
       "    </tr>\n",
       "  </tbody>\n",
       "</table>\n",
       "</div>"
      ],
      "text/plain": [
       "          0\n",
       "0 -0.090274"
      ]
     },
     "execution_count": 7,
     "metadata": {},
     "output_type": "execute_result"
    }
   ],
   "source": [
    "diff = diff.drop(columns=['Unnamed: 0'])\n",
    "diff"
   ]
  },
  {
   "cell_type": "code",
   "execution_count": 8,
   "id": "5647fc23",
   "metadata": {},
   "outputs": [
    {
     "data": {
      "text/plain": [
       "(64, 2)"
      ]
     },
     "execution_count": 8,
     "metadata": {},
     "output_type": "execute_result"
    }
   ],
   "source": [
    "rdf = pd.read_csv('./rdf.csv')\n",
    "rdf.shape"
   ]
  },
  {
   "cell_type": "code",
   "execution_count": 9,
   "id": "38012707",
   "metadata": {},
   "outputs": [
    {
     "data": {
      "text/html": [
       "<div>\n",
       "<style scoped>\n",
       "    .dataframe tbody tr th:only-of-type {\n",
       "        vertical-align: middle;\n",
       "    }\n",
       "\n",
       "    .dataframe tbody tr th {\n",
       "        vertical-align: top;\n",
       "    }\n",
       "\n",
       "    .dataframe thead th {\n",
       "        text-align: right;\n",
       "    }\n",
       "</style>\n",
       "<table border=\"1\" class=\"dataframe\">\n",
       "  <thead>\n",
       "    <tr style=\"text-align: right;\">\n",
       "      <th></th>\n",
       "      <th>Unnamed: 0</th>\n",
       "      <th>0</th>\n",
       "    </tr>\n",
       "  </thead>\n",
       "  <tbody>\n",
       "    <tr>\n",
       "      <th>0</th>\n",
       "      <td>0</td>\n",
       "      <td>0.000016</td>\n",
       "    </tr>\n",
       "    <tr>\n",
       "      <th>1</th>\n",
       "      <td>1</td>\n",
       "      <td>0.115081</td>\n",
       "    </tr>\n",
       "    <tr>\n",
       "      <th>2</th>\n",
       "      <td>2</td>\n",
       "      <td>0.178390</td>\n",
       "    </tr>\n",
       "    <tr>\n",
       "      <th>3</th>\n",
       "      <td>3</td>\n",
       "      <td>0.614581</td>\n",
       "    </tr>\n",
       "    <tr>\n",
       "      <th>4</th>\n",
       "      <td>4</td>\n",
       "      <td>0.001223</td>\n",
       "    </tr>\n",
       "    <tr>\n",
       "      <th>...</th>\n",
       "      <td>...</td>\n",
       "      <td>...</td>\n",
       "    </tr>\n",
       "    <tr>\n",
       "      <th>59</th>\n",
       "      <td>59</td>\n",
       "      <td>0.042850</td>\n",
       "    </tr>\n",
       "    <tr>\n",
       "      <th>60</th>\n",
       "      <td>60</td>\n",
       "      <td>0.047824</td>\n",
       "    </tr>\n",
       "    <tr>\n",
       "      <th>61</th>\n",
       "      <td>61</td>\n",
       "      <td>0.083834</td>\n",
       "    </tr>\n",
       "    <tr>\n",
       "      <th>62</th>\n",
       "      <td>62</td>\n",
       "      <td>0.002245</td>\n",
       "    </tr>\n",
       "    <tr>\n",
       "      <th>63</th>\n",
       "      <td>63</td>\n",
       "      <td>0.040938</td>\n",
       "    </tr>\n",
       "  </tbody>\n",
       "</table>\n",
       "<p>64 rows × 2 columns</p>\n",
       "</div>"
      ],
      "text/plain": [
       "    Unnamed: 0         0\n",
       "0            0  0.000016\n",
       "1            1  0.115081\n",
       "2            2  0.178390\n",
       "3            3  0.614581\n",
       "4            4  0.001223\n",
       "..         ...       ...\n",
       "59          59  0.042850\n",
       "60          60  0.047824\n",
       "61          61  0.083834\n",
       "62          62  0.002245\n",
       "63          63  0.040938\n",
       "\n",
       "[64 rows x 2 columns]"
      ]
     },
     "execution_count": 9,
     "metadata": {},
     "output_type": "execute_result"
    }
   ],
   "source": [
    "rdf"
   ]
  },
  {
   "cell_type": "code",
   "execution_count": 10,
   "id": "ec57bb4c",
   "metadata": {},
   "outputs": [
    {
     "data": {
      "text/html": [
       "<div>\n",
       "<style scoped>\n",
       "    .dataframe tbody tr th:only-of-type {\n",
       "        vertical-align: middle;\n",
       "    }\n",
       "\n",
       "    .dataframe tbody tr th {\n",
       "        vertical-align: top;\n",
       "    }\n",
       "\n",
       "    .dataframe thead th {\n",
       "        text-align: right;\n",
       "    }\n",
       "</style>\n",
       "<table border=\"1\" class=\"dataframe\">\n",
       "  <thead>\n",
       "    <tr style=\"text-align: right;\">\n",
       "      <th></th>\n",
       "      <th>0</th>\n",
       "    </tr>\n",
       "  </thead>\n",
       "  <tbody>\n",
       "    <tr>\n",
       "      <th>0</th>\n",
       "      <td>0.000016</td>\n",
       "    </tr>\n",
       "    <tr>\n",
       "      <th>1</th>\n",
       "      <td>0.115081</td>\n",
       "    </tr>\n",
       "    <tr>\n",
       "      <th>2</th>\n",
       "      <td>0.178390</td>\n",
       "    </tr>\n",
       "    <tr>\n",
       "      <th>3</th>\n",
       "      <td>0.614581</td>\n",
       "    </tr>\n",
       "    <tr>\n",
       "      <th>4</th>\n",
       "      <td>0.001223</td>\n",
       "    </tr>\n",
       "    <tr>\n",
       "      <th>...</th>\n",
       "      <td>...</td>\n",
       "    </tr>\n",
       "    <tr>\n",
       "      <th>59</th>\n",
       "      <td>0.042850</td>\n",
       "    </tr>\n",
       "    <tr>\n",
       "      <th>60</th>\n",
       "      <td>0.047824</td>\n",
       "    </tr>\n",
       "    <tr>\n",
       "      <th>61</th>\n",
       "      <td>0.083834</td>\n",
       "    </tr>\n",
       "    <tr>\n",
       "      <th>62</th>\n",
       "      <td>0.002245</td>\n",
       "    </tr>\n",
       "    <tr>\n",
       "      <th>63</th>\n",
       "      <td>0.040938</td>\n",
       "    </tr>\n",
       "  </tbody>\n",
       "</table>\n",
       "<p>64 rows × 1 columns</p>\n",
       "</div>"
      ],
      "text/plain": [
       "           0\n",
       "0   0.000016\n",
       "1   0.115081\n",
       "2   0.178390\n",
       "3   0.614581\n",
       "4   0.001223\n",
       "..       ...\n",
       "59  0.042850\n",
       "60  0.047824\n",
       "61  0.083834\n",
       "62  0.002245\n",
       "63  0.040938\n",
       "\n",
       "[64 rows x 1 columns]"
      ]
     },
     "execution_count": 10,
     "metadata": {},
     "output_type": "execute_result"
    }
   ],
   "source": [
    "rdf = rdf.drop(columns=['Unnamed: 0'])\n",
    "rdf"
   ]
  },
  {
   "cell_type": "code",
   "execution_count": 11,
   "id": "681c72a3",
   "metadata": {
    "scrolled": true
   },
   "outputs": [
    {
     "data": {
      "text/plain": [
       "0     1\n",
       "1     0\n",
       "2     0\n",
       "3     0\n",
       "4     1\n",
       "     ..\n",
       "59    0\n",
       "60    0\n",
       "61    0\n",
       "62    1\n",
       "63    0\n",
       "Name: 0, Length: 64, dtype: int64"
      ]
     },
     "execution_count": 11,
     "metadata": {},
     "output_type": "execute_result"
    }
   ],
   "source": [
    "rdf.iloc[:, 0].apply(lambda x: 0 if x > 0.01 else 1)"
   ]
  },
  {
   "cell_type": "code",
   "execution_count": 12,
   "id": "3697e7c1",
   "metadata": {},
   "outputs": [
    {
     "data": {
      "text/html": [
       "<div>\n",
       "<style scoped>\n",
       "    .dataframe tbody tr th:only-of-type {\n",
       "        vertical-align: middle;\n",
       "    }\n",
       "\n",
       "    .dataframe tbody tr th {\n",
       "        vertical-align: top;\n",
       "    }\n",
       "\n",
       "    .dataframe thead th {\n",
       "        text-align: right;\n",
       "    }\n",
       "</style>\n",
       "<table border=\"1\" class=\"dataframe\">\n",
       "  <thead>\n",
       "    <tr style=\"text-align: right;\">\n",
       "      <th></th>\n",
       "      <th>0</th>\n",
       "      <th>0</th>\n",
       "    </tr>\n",
       "  </thead>\n",
       "  <tbody>\n",
       "    <tr>\n",
       "      <th>0</th>\n",
       "      <td>-0.090274</td>\n",
       "      <td>0.000016</td>\n",
       "    </tr>\n",
       "    <tr>\n",
       "      <th>1</th>\n",
       "      <td>NaN</td>\n",
       "      <td>0.115081</td>\n",
       "    </tr>\n",
       "    <tr>\n",
       "      <th>2</th>\n",
       "      <td>NaN</td>\n",
       "      <td>0.178390</td>\n",
       "    </tr>\n",
       "    <tr>\n",
       "      <th>3</th>\n",
       "      <td>NaN</td>\n",
       "      <td>0.614581</td>\n",
       "    </tr>\n",
       "    <tr>\n",
       "      <th>4</th>\n",
       "      <td>NaN</td>\n",
       "      <td>0.001223</td>\n",
       "    </tr>\n",
       "    <tr>\n",
       "      <th>...</th>\n",
       "      <td>...</td>\n",
       "      <td>...</td>\n",
       "    </tr>\n",
       "    <tr>\n",
       "      <th>59</th>\n",
       "      <td>NaN</td>\n",
       "      <td>0.042850</td>\n",
       "    </tr>\n",
       "    <tr>\n",
       "      <th>60</th>\n",
       "      <td>NaN</td>\n",
       "      <td>0.047824</td>\n",
       "    </tr>\n",
       "    <tr>\n",
       "      <th>61</th>\n",
       "      <td>NaN</td>\n",
       "      <td>0.083834</td>\n",
       "    </tr>\n",
       "    <tr>\n",
       "      <th>62</th>\n",
       "      <td>NaN</td>\n",
       "      <td>0.002245</td>\n",
       "    </tr>\n",
       "    <tr>\n",
       "      <th>63</th>\n",
       "      <td>NaN</td>\n",
       "      <td>0.040938</td>\n",
       "    </tr>\n",
       "  </tbody>\n",
       "</table>\n",
       "<p>64 rows × 2 columns</p>\n",
       "</div>"
      ],
      "text/plain": [
       "           0         0\n",
       "0  -0.090274  0.000016\n",
       "1        NaN  0.115081\n",
       "2        NaN  0.178390\n",
       "3        NaN  0.614581\n",
       "4        NaN  0.001223\n",
       "..       ...       ...\n",
       "59       NaN  0.042850\n",
       "60       NaN  0.047824\n",
       "61       NaN  0.083834\n",
       "62       NaN  0.002245\n",
       "63       NaN  0.040938\n",
       "\n",
       "[64 rows x 2 columns]"
      ]
     },
     "execution_count": 12,
     "metadata": {},
     "output_type": "execute_result"
    }
   ],
   "source": [
    "diff_rdf = pd.concat([diff.T.reset_index(), rdf], axis=1).drop(columns=['index'])\n",
    "diff_rdf"
   ]
  },
  {
   "cell_type": "code",
   "execution_count": 13,
   "id": "30c3a51b",
   "metadata": {},
   "outputs": [],
   "source": [
    "norm = matplotlib.colors.Normalize(-1, 1)\n",
    "colors = [[norm(-1.0), \"cyan\"],\n",
    "        [norm(-0.6), \"lightblue\"],\n",
    "        [norm(0.0), \"black\"],\n",
    "        [norm(0.6), \"lightyellow\"],\n",
    "        [norm(1.0), \"yellow\"]]\n",
    "\n",
    "custom_color_map = LinearSegmentedColormap.from_list(\n",
    "    \"\",\n",
    "    colors=colors,\n",
    ")"
   ]
  },
  {
   "cell_type": "code",
   "execution_count": 14,
   "id": "4085e5f9",
   "metadata": {},
   "outputs": [
    {
     "data": {
      "text/plain": [
       "array([[-0.0902738,        nan,        nan,        nan,        nan,\n",
       "               nan,        nan,        nan,        nan,        nan,\n",
       "               nan,        nan,        nan,        nan,        nan,\n",
       "               nan,        nan,        nan,        nan,        nan,\n",
       "               nan,        nan,        nan,        nan,        nan,\n",
       "               nan,        nan,        nan,        nan,        nan,\n",
       "               nan,        nan,        nan,        nan,        nan,\n",
       "               nan,        nan,        nan,        nan,        nan,\n",
       "               nan,        nan,        nan,        nan,        nan,\n",
       "               nan,        nan,        nan,        nan,        nan,\n",
       "               nan,        nan,        nan,        nan,        nan,\n",
       "               nan,        nan,        nan,        nan,        nan,\n",
       "               nan,        nan,        nan,        nan]])"
      ]
     },
     "execution_count": 14,
     "metadata": {},
     "output_type": "execute_result"
    }
   ],
   "source": [
    "np.array(diff_rdf.iloc[:, 0]).reshape(64, -1).T"
   ]
  },
  {
   "cell_type": "code",
   "execution_count": 15,
   "id": "5aea7d15",
   "metadata": {},
   "outputs": [
    {
     "data": {
      "text/plain": [
       "<AxesSubplot:>"
      ]
     },
     "execution_count": 15,
     "metadata": {},
     "output_type": "execute_result"
    },
    {
     "data": {
      "image/png": "[encoded data removed]",
      "text/plain": [
       "<Figure size 432x288 with 1 Axes>"
      ]
     },
     "metadata": {
      "needs_background": "light"
     },
     "output_type": "display_data"
    }
   ],
   "source": [
    "sns.heatmap(\n",
    "    data=np.array(diff_rdf.iloc[:, 0]).reshape(64, -1).T,\n",
    "    vmin=0,\n",
    "    vmax=1.0,\n",
    "    cbar=False,\n",
    "    cmap=custom_color_map\n",
    ")"
   ]
  },
  {
   "cell_type": "markdown",
   "id": "165f1481",
   "metadata": {},
   "source": [
    "### Filter by pvalue\n",
    "\n",
    "which means put 0 when pvalue > 0.01"
   ]
  },
  {
   "cell_type": "code",
   "execution_count": 16,
   "id": "4484b223",
   "metadata": {},
   "outputs": [
    {
     "data": {
      "text/html": [
       "<div>\n",
       "<style scoped>\n",
       "    .dataframe tbody tr th:only-of-type {\n",
       "        vertical-align: middle;\n",
       "    }\n",
       "\n",
       "    .dataframe tbody tr th {\n",
       "        vertical-align: top;\n",
       "    }\n",
       "\n",
       "    .dataframe thead th {\n",
       "        text-align: right;\n",
       "    }\n",
       "</style>\n",
       "<table border=\"1\" class=\"dataframe\">\n",
       "  <thead>\n",
       "    <tr style=\"text-align: right;\">\n",
       "      <th></th>\n",
       "      <th>0</th>\n",
       "      <th>0</th>\n",
       "    </tr>\n",
       "  </thead>\n",
       "  <tbody>\n",
       "    <tr>\n",
       "      <th>0</th>\n",
       "      <td>-0.090274</td>\n",
       "      <td>0.000016</td>\n",
       "    </tr>\n",
       "    <tr>\n",
       "      <th>1</th>\n",
       "      <td>NaN</td>\n",
       "      <td>0.115081</td>\n",
       "    </tr>\n",
       "    <tr>\n",
       "      <th>2</th>\n",
       "      <td>NaN</td>\n",
       "      <td>0.178390</td>\n",
       "    </tr>\n",
       "    <tr>\n",
       "      <th>3</th>\n",
       "      <td>NaN</td>\n",
       "      <td>0.614581</td>\n",
       "    </tr>\n",
       "    <tr>\n",
       "      <th>4</th>\n",
       "      <td>NaN</td>\n",
       "      <td>0.001223</td>\n",
       "    </tr>\n",
       "    <tr>\n",
       "      <th>...</th>\n",
       "      <td>...</td>\n",
       "      <td>...</td>\n",
       "    </tr>\n",
       "    <tr>\n",
       "      <th>59</th>\n",
       "      <td>NaN</td>\n",
       "      <td>0.042850</td>\n",
       "    </tr>\n",
       "    <tr>\n",
       "      <th>60</th>\n",
       "      <td>NaN</td>\n",
       "      <td>0.047824</td>\n",
       "    </tr>\n",
       "    <tr>\n",
       "      <th>61</th>\n",
       "      <td>NaN</td>\n",
       "      <td>0.083834</td>\n",
       "    </tr>\n",
       "    <tr>\n",
       "      <th>62</th>\n",
       "      <td>NaN</td>\n",
       "      <td>0.002245</td>\n",
       "    </tr>\n",
       "    <tr>\n",
       "      <th>63</th>\n",
       "      <td>NaN</td>\n",
       "      <td>0.040938</td>\n",
       "    </tr>\n",
       "  </tbody>\n",
       "</table>\n",
       "<p>64 rows × 2 columns</p>\n",
       "</div>"
      ],
      "text/plain": [
       "           0         0\n",
       "0  -0.090274  0.000016\n",
       "1        NaN  0.115081\n",
       "2        NaN  0.178390\n",
       "3        NaN  0.614581\n",
       "4        NaN  0.001223\n",
       "..       ...       ...\n",
       "59       NaN  0.042850\n",
       "60       NaN  0.047824\n",
       "61       NaN  0.083834\n",
       "62       NaN  0.002245\n",
       "63       NaN  0.040938\n",
       "\n",
       "[64 rows x 2 columns]"
      ]
     },
     "execution_count": 16,
     "metadata": {},
     "output_type": "execute_result"
    }
   ],
   "source": [
    "diff_rdf"
   ]
  },
  {
   "cell_type": "code",
   "execution_count": 17,
   "id": "aec6c5cf",
   "metadata": {},
   "outputs": [],
   "source": [
    "f = diff_rdf"
   ]
  },
  {
   "cell_type": "code",
   "execution_count": 18,
   "id": "4a481bf4",
   "metadata": {},
   "outputs": [],
   "source": [
    "for i in range(len(f.iloc[:, 0])):\n",
    "    if f.iloc[i, 1] > 0.01:\n",
    "        f.iloc[i, 0] = 0.5"
   ]
  },
  {
   "cell_type": "code",
   "execution_count": 19,
   "id": "1ed9b397",
   "metadata": {},
   "outputs": [
    {
     "data": {
      "text/html": [
       "<div>\n",
       "<style scoped>\n",
       "    .dataframe tbody tr th:only-of-type {\n",
       "        vertical-align: middle;\n",
       "    }\n",
       "\n",
       "    .dataframe tbody tr th {\n",
       "        vertical-align: top;\n",
       "    }\n",
       "\n",
       "    .dataframe thead th {\n",
       "        text-align: right;\n",
       "    }\n",
       "</style>\n",
       "<table border=\"1\" class=\"dataframe\">\n",
       "  <thead>\n",
       "    <tr style=\"text-align: right;\">\n",
       "      <th></th>\n",
       "      <th>0</th>\n",
       "      <th>0</th>\n",
       "    </tr>\n",
       "  </thead>\n",
       "  <tbody>\n",
       "    <tr>\n",
       "      <th>0</th>\n",
       "      <td>-0.090274</td>\n",
       "      <td>0.000016</td>\n",
       "    </tr>\n",
       "    <tr>\n",
       "      <th>1</th>\n",
       "      <td>0.500000</td>\n",
       "      <td>0.115081</td>\n",
       "    </tr>\n",
       "    <tr>\n",
       "      <th>2</th>\n",
       "      <td>0.500000</td>\n",
       "      <td>0.178390</td>\n",
       "    </tr>\n",
       "    <tr>\n",
       "      <th>3</th>\n",
       "      <td>0.500000</td>\n",
       "      <td>0.614581</td>\n",
       "    </tr>\n",
       "    <tr>\n",
       "      <th>4</th>\n",
       "      <td>NaN</td>\n",
       "      <td>0.001223</td>\n",
       "    </tr>\n",
       "    <tr>\n",
       "      <th>...</th>\n",
       "      <td>...</td>\n",
       "      <td>...</td>\n",
       "    </tr>\n",
       "    <tr>\n",
       "      <th>59</th>\n",
       "      <td>0.500000</td>\n",
       "      <td>0.042850</td>\n",
       "    </tr>\n",
       "    <tr>\n",
       "      <th>60</th>\n",
       "      <td>0.500000</td>\n",
       "      <td>0.047824</td>\n",
       "    </tr>\n",
       "    <tr>\n",
       "      <th>61</th>\n",
       "      <td>0.500000</td>\n",
       "      <td>0.083834</td>\n",
       "    </tr>\n",
       "    <tr>\n",
       "      <th>62</th>\n",
       "      <td>NaN</td>\n",
       "      <td>0.002245</td>\n",
       "    </tr>\n",
       "    <tr>\n",
       "      <th>63</th>\n",
       "      <td>0.500000</td>\n",
       "      <td>0.040938</td>\n",
       "    </tr>\n",
       "  </tbody>\n",
       "</table>\n",
       "<p>64 rows × 2 columns</p>\n",
       "</div>"
      ],
      "text/plain": [
       "           0         0\n",
       "0  -0.090274  0.000016\n",
       "1   0.500000  0.115081\n",
       "2   0.500000  0.178390\n",
       "3   0.500000  0.614581\n",
       "4        NaN  0.001223\n",
       "..       ...       ...\n",
       "59  0.500000  0.042850\n",
       "60  0.500000  0.047824\n",
       "61  0.500000  0.083834\n",
       "62       NaN  0.002245\n",
       "63  0.500000  0.040938\n",
       "\n",
       "[64 rows x 2 columns]"
      ]
     },
     "execution_count": 19,
     "metadata": {},
     "output_type": "execute_result"
    }
   ],
   "source": [
    "f"
   ]
  },
  {
   "cell_type": "code",
   "execution_count": 20,
   "id": "2bfef2da",
   "metadata": {},
   "outputs": [
    {
     "data": {
      "text/plain": [
       "<AxesSubplot:>"
      ]
     },
     "execution_count": 20,
     "metadata": {},
     "output_type": "execute_result"
    },
    {
     "data": {
      "image/png": "[encoded data removed]",
      "text/plain": [
       "<Figure size 432x288 with 1 Axes>"
      ]
     },
     "metadata": {
      "needs_background": "light"
     },
     "output_type": "display_data"
    }
   ],
   "source": [
    "sns.heatmap(\n",
    "    data=np.array(f.iloc[:, 0]).reshape(64, -1).T,\n",
    "    vmin=0,\n",
    "    vmax=1.0,\n",
    "    cbar=False,\n",
    "    cmap=custom_color_map\n",
    ")"
   ]
  },
  {
   "cell_type": "code",
   "execution_count": null,
   "id": "078e2261",
   "metadata": {},
   "outputs": [],
   "source": []
  },
  {
   "cell_type": "markdown",
   "id": "d303e9e0",
   "metadata": {},
   "source": [
    "## Samples\n",
    "\n",
    "We are taking this example for the category *United States*"
   ]
  },
  {
   "cell_type": "code",
   "execution_count": 58,
   "id": "35709994",
   "metadata": {},
   "outputs": [
    {
     "data": {
      "text/html": [
       "<div>\n",
       "<style scoped>\n",
       "    .dataframe tbody tr th:only-of-type {\n",
       "        vertical-align: middle;\n",
       "    }\n",
       "\n",
       "    .dataframe tbody tr th {\n",
       "        vertical-align: top;\n",
       "    }\n",
       "\n",
       "    .dataframe thead th {\n",
       "        text-align: right;\n",
       "    }\n",
       "</style>\n",
       "<table border=\"1\" class=\"dataframe\">\n",
       "  <thead>\n",
       "    <tr style=\"text-align: right;\">\n",
       "      <th></th>\n",
       "      <th>category</th>\n",
       "      <th>input</th>\n",
       "      <th>true</th>\n",
       "      <th>pred</th>\n",
       "      <th>neuron_1</th>\n",
       "      <th>neuron_2</th>\n",
       "      <th>neuron_3</th>\n",
       "      <th>neuron_4</th>\n",
       "      <th>neuron_5</th>\n",
       "      <th>neuron_6</th>\n",
       "      <th>neuron_7</th>\n",
       "      <th>neuron_8</th>\n",
       "      <th>neuron_9</th>\n",
       "      <th>neuron_10</th>\n",
       "      <th>neuron_11</th>\n",
       "      <th>neuron_12</th>\n",
       "      <th>neuron_13</th>\n",
       "      <th>neuron_14</th>\n",
       "      <th>neuron_15</th>\n",
       "      <th>neuron_16</th>\n",
       "    </tr>\n",
       "  </thead>\n",
       "  <tbody>\n",
       "    <tr>\n",
       "      <th>0</th>\n",
       "      <td>['http://dbpedia.org/resource/United_States']</td>\n",
       "      <td>[0, 0, 0, 0, 0, 0, 0, 0, 0, 0, 0, 0, 0, 0, 0, ...</td>\n",
       "      <td>0</td>\n",
       "      <td>0</td>\n",
       "      <td>1.529219</td>\n",
       "      <td>0.876424</td>\n",
       "      <td>1.369729</td>\n",
       "      <td>-1.059959</td>\n",
       "      <td>-0.539351</td>\n",
       "      <td>-0.841103</td>\n",
       "      <td>-0.711532</td>\n",
       "      <td>-1.07275</td>\n",
       "      <td>-0.74689</td>\n",
       "      <td>-1.937051</td>\n",
       "      <td>0.599291</td>\n",
       "      <td>-0.841957</td>\n",
       "      <td>1.17754</td>\n",
       "      <td>0.931433</td>\n",
       "      <td>0.776959</td>\n",
       "      <td>-1.029904</td>\n",
       "    </tr>\n",
       "  </tbody>\n",
       "</table>\n",
       "</div>"
      ],
      "text/plain": [
       "                                        category  \\\n",
       "0  ['http://dbpedia.org/resource/United_States']   \n",
       "\n",
       "                                               input  true  pred  neuron_1  \\\n",
       "0  [0, 0, 0, 0, 0, 0, 0, 0, 0, 0, 0, 0, 0, 0, 0, ...     0     0  1.529219   \n",
       "\n",
       "   neuron_2  neuron_3  neuron_4  neuron_5  neuron_6  neuron_7  neuron_8  \\\n",
       "0  0.876424  1.369729 -1.059959 -0.539351 -0.841103 -0.711532  -1.07275   \n",
       "\n",
       "   neuron_9  neuron_10  neuron_11  neuron_12  neuron_13  neuron_14  neuron_15  \\\n",
       "0  -0.74689  -1.937051   0.599291  -0.841957    1.17754   0.931433   0.776959   \n",
       "\n",
       "   neuron_16  \n",
       "0  -1.029904  "
      ]
     },
     "execution_count": 58,
     "metadata": {},
     "output_type": "execute_result"
    }
   ],
   "source": [
    "sample = pd.read_csv(\"./sample.csv\") # A random sample belonging to the category we're taking the example of\n",
    "sample = sample.drop(columns='Unnamed: 0')\n",
    "sample"
   ]
  },
  {
   "cell_type": "code",
   "execution_count": 59,
   "id": "f94d93ff",
   "metadata": {},
   "outputs": [
    {
     "data": {
      "text/html": [
       "<div>\n",
       "<style scoped>\n",
       "    .dataframe tbody tr th:only-of-type {\n",
       "        vertical-align: middle;\n",
       "    }\n",
       "\n",
       "    .dataframe tbody tr th {\n",
       "        vertical-align: top;\n",
       "    }\n",
       "\n",
       "    .dataframe thead th {\n",
       "        text-align: right;\n",
       "    }\n",
       "</style>\n",
       "<table border=\"1\" class=\"dataframe\">\n",
       "  <thead>\n",
       "    <tr style=\"text-align: right;\">\n",
       "      <th></th>\n",
       "      <th>neuron_1</th>\n",
       "      <th>neuron_2</th>\n",
       "      <th>neuron_3</th>\n",
       "      <th>neuron_4</th>\n",
       "      <th>neuron_5</th>\n",
       "      <th>neuron_6</th>\n",
       "      <th>neuron_7</th>\n",
       "      <th>neuron_8</th>\n",
       "      <th>neuron_9</th>\n",
       "      <th>neuron_10</th>\n",
       "      <th>neuron_11</th>\n",
       "      <th>neuron_12</th>\n",
       "      <th>neuron_13</th>\n",
       "      <th>neuron_14</th>\n",
       "      <th>neuron_15</th>\n",
       "      <th>neuron_16</th>\n",
       "    </tr>\n",
       "  </thead>\n",
       "  <tbody>\n",
       "    <tr>\n",
       "      <th>0</th>\n",
       "      <td>-0.055622</td>\n",
       "      <td>-0.057293</td>\n",
       "      <td>-0.057292</td>\n",
       "      <td>0.058816</td>\n",
       "      <td>0.045854</td>\n",
       "      <td>0.050967</td>\n",
       "      <td>0.050121</td>\n",
       "      <td>0.059194</td>\n",
       "      <td>0.051427</td>\n",
       "      <td>0.030108</td>\n",
       "      <td>-0.04577</td>\n",
       "      <td>0.053857</td>\n",
       "      <td>-0.056786</td>\n",
       "      <td>-0.055678</td>\n",
       "      <td>-0.051753</td>\n",
       "      <td>0.057172</td>\n",
       "    </tr>\n",
       "  </tbody>\n",
       "</table>\n",
       "</div>"
      ],
      "text/plain": [
       "   neuron_1  neuron_2  neuron_3  neuron_4  neuron_5  neuron_6  neuron_7  \\\n",
       "0 -0.055622 -0.057293 -0.057292  0.058816  0.045854  0.050967  0.050121   \n",
       "\n",
       "   neuron_8  neuron_9  neuron_10  neuron_11  neuron_12  neuron_13  neuron_14  \\\n",
       "0  0.059194  0.051427   0.030108   -0.04577   0.053857  -0.056786  -0.055678   \n",
       "\n",
       "   neuron_15  neuron_16  \n",
       "0  -0.051753   0.057172  "
      ]
     },
     "execution_count": 59,
     "metadata": {},
     "output_type": "execute_result"
    }
   ],
   "source": [
    "data_1 = pd.read_csv('data_1.csv') # The activation for not a category\n",
    "data_1 = data_1.drop(columns='Unnamed: 0')\n",
    "data_1"
   ]
  },
  {
   "cell_type": "code",
   "execution_count": 60,
   "id": "7120ee2e",
   "metadata": {},
   "outputs": [
    {
     "data": {
      "text/html": [
       "<div>\n",
       "<style scoped>\n",
       "    .dataframe tbody tr th:only-of-type {\n",
       "        vertical-align: middle;\n",
       "    }\n",
       "\n",
       "    .dataframe tbody tr th {\n",
       "        vertical-align: top;\n",
       "    }\n",
       "\n",
       "    .dataframe thead th {\n",
       "        text-align: right;\n",
       "    }\n",
       "</style>\n",
       "<table border=\"1\" class=\"dataframe\">\n",
       "  <thead>\n",
       "    <tr style=\"text-align: right;\">\n",
       "      <th></th>\n",
       "      <th>0</th>\n",
       "      <th>1</th>\n",
       "      <th>2</th>\n",
       "      <th>3</th>\n",
       "      <th>4</th>\n",
       "      <th>5</th>\n",
       "      <th>6</th>\n",
       "      <th>7</th>\n",
       "      <th>8</th>\n",
       "      <th>9</th>\n",
       "      <th>10</th>\n",
       "      <th>11</th>\n",
       "      <th>12</th>\n",
       "      <th>13</th>\n",
       "      <th>14</th>\n",
       "      <th>15</th>\n",
       "    </tr>\n",
       "  </thead>\n",
       "  <tbody>\n",
       "    <tr>\n",
       "      <th>0</th>\n",
       "      <td>0.373237</td>\n",
       "      <td>0.384448</td>\n",
       "      <td>0.384438</td>\n",
       "      <td>-0.394668</td>\n",
       "      <td>-0.307689</td>\n",
       "      <td>-0.342</td>\n",
       "      <td>-0.336322</td>\n",
       "      <td>-0.397201</td>\n",
       "      <td>-0.345086</td>\n",
       "      <td>-0.202029</td>\n",
       "      <td>0.307125</td>\n",
       "      <td>-0.36139</td>\n",
       "      <td>0.381044</td>\n",
       "      <td>0.373612</td>\n",
       "      <td>0.347276</td>\n",
       "      <td>-0.383637</td>\n",
       "    </tr>\n",
       "  </tbody>\n",
       "</table>\n",
       "</div>"
      ],
      "text/plain": [
       "          0         1         2         3         4      5         6  \\\n",
       "0  0.373237  0.384448  0.384438 -0.394668 -0.307689 -0.342 -0.336322   \n",
       "\n",
       "          7         8         9        10       11        12        13  \\\n",
       "0 -0.397201 -0.345086 -0.202029  0.307125 -0.36139  0.381044  0.373612   \n",
       "\n",
       "         14        15  \n",
       "0  0.347276 -0.383637  "
      ]
     },
     "execution_count": 60,
     "metadata": {},
     "output_type": "execute_result"
    }
   ],
   "source": [
    "diff = pd.read_csv('diff.csv') # The original diff between in and out the category\n",
    "diff = diff.drop(columns='Unnamed: 0')\n",
    "diff"
   ]
  },
  {
   "cell_type": "code",
   "execution_count": 61,
   "id": "c255f468",
   "metadata": {},
   "outputs": [
    {
     "data": {
      "image/png": "[encoded data removed]",
      "text/plain": [
       "<Figure size 432x288 with 1 Axes>"
      ]
     },
     "metadata": {
      "needs_background": "light"
     },
     "output_type": "display_data"
    }
   ],
   "source": [
    "# The regular heatmap\n",
    "ax = sns.heatmap(\n",
    "    data=diff,\n",
    "    vmin=-1.0,\n",
    "    vmax=1.0,\n",
    "    cbar=False,\n",
    "    cmap=custom_color_map\n",
    ")"
   ]
  },
  {
   "cell_type": "code",
   "execution_count": 62,
   "id": "8fbfe908",
   "metadata": {},
   "outputs": [
    {
     "data": {
      "text/html": [
       "<div>\n",
       "<style scoped>\n",
       "    .dataframe tbody tr th:only-of-type {\n",
       "        vertical-align: middle;\n",
       "    }\n",
       "\n",
       "    .dataframe tbody tr th {\n",
       "        vertical-align: top;\n",
       "    }\n",
       "\n",
       "    .dataframe thead th {\n",
       "        text-align: right;\n",
       "    }\n",
       "</style>\n",
       "<table border=\"1\" class=\"dataframe\">\n",
       "  <thead>\n",
       "    <tr style=\"text-align: right;\">\n",
       "      <th></th>\n",
       "      <th>neuron_1</th>\n",
       "      <th>neuron_2</th>\n",
       "      <th>neuron_3</th>\n",
       "      <th>neuron_4</th>\n",
       "      <th>neuron_5</th>\n",
       "      <th>neuron_6</th>\n",
       "      <th>neuron_7</th>\n",
       "      <th>neuron_8</th>\n",
       "      <th>neuron_9</th>\n",
       "      <th>neuron_10</th>\n",
       "      <th>neuron_11</th>\n",
       "      <th>neuron_12</th>\n",
       "      <th>neuron_13</th>\n",
       "      <th>neuron_14</th>\n",
       "      <th>neuron_15</th>\n",
       "      <th>neuron_16</th>\n",
       "    </tr>\n",
       "  </thead>\n",
       "  <tbody>\n",
       "    <tr>\n",
       "      <th>0</th>\n",
       "      <td>1.529219</td>\n",
       "      <td>0.876424</td>\n",
       "      <td>1.369729</td>\n",
       "      <td>-1.059959</td>\n",
       "      <td>-0.539351</td>\n",
       "      <td>-0.841103</td>\n",
       "      <td>-0.711532</td>\n",
       "      <td>-1.07275</td>\n",
       "      <td>-0.74689</td>\n",
       "      <td>-1.937051</td>\n",
       "      <td>0.599291</td>\n",
       "      <td>-0.841957</td>\n",
       "      <td>1.17754</td>\n",
       "      <td>0.931433</td>\n",
       "      <td>0.776959</td>\n",
       "      <td>-1.029904</td>\n",
       "    </tr>\n",
       "  </tbody>\n",
       "</table>\n",
       "</div>"
      ],
      "text/plain": [
       "   neuron_1  neuron_2  neuron_3  neuron_4  neuron_5  neuron_6  neuron_7  \\\n",
       "0  1.529219  0.876424  1.369729 -1.059959 -0.539351 -0.841103 -0.711532   \n",
       "\n",
       "   neuron_8  neuron_9  neuron_10  neuron_11  neuron_12  neuron_13  neuron_14  \\\n",
       "0  -1.07275  -0.74689  -1.937051   0.599291  -0.841957    1.17754   0.931433   \n",
       "\n",
       "   neuron_15  neuron_16  \n",
       "0   0.776959  -1.029904  "
      ]
     },
     "execution_count": 62,
     "metadata": {},
     "output_type": "execute_result"
    }
   ],
   "source": [
    "# Taking only the activation columns for our sample\n",
    "activations_cols = [col for col in sample.columns if \"neuron\" in col]\n",
    "sample = sample.loc[:, sample.columns.isin(activations_cols)]\n",
    "sample"
   ]
  },
  {
   "cell_type": "code",
   "execution_count": 63,
   "id": "5389b868",
   "metadata": {},
   "outputs": [
    {
     "data": {
      "text/plain": [
       "(1, 16)"
      ]
     },
     "execution_count": 63,
     "metadata": {},
     "output_type": "execute_result"
    }
   ],
   "source": [
    "# Computing the difference between the sample and out of the category our sample belongs of\n",
    "diff_sample = np.array(sample) - np.array(data_1.T[0])\n",
    "diff_sample.shape"
   ]
  },
  {
   "cell_type": "code",
   "execution_count": 64,
   "id": "0a431352",
   "metadata": {},
   "outputs": [
    {
     "data": {
      "image/png": "[encoded data removed]",
      "text/plain": [
       "<Figure size 432x288 with 1 Axes>"
      ]
     },
     "metadata": {
      "needs_background": "light"
     },
     "output_type": "display_data"
    }
   ],
   "source": [
    "ax = sns.heatmap(\n",
    "    data=diff_sample,\n",
    "    vmin=-1.0,\n",
    "    vmax=1.0,\n",
    "    cbar=False,\n",
    "    cmap=custom_color_map\n",
    ") # The heatmap of the difference of the sample"
   ]
  },
  {
   "cell_type": "code",
   "execution_count": null,
   "id": "1749319a",
   "metadata": {},
   "outputs": [],
   "source": []
  }
 ],
 "metadata": {
  "kernelspec": {
   "display_name": "rnn-films",
   "language": "python",
   "name": "rnn-films"
  },
  "language_info": {
   "codemirror_mode": {
    "name": "ipython",
    "version": 3
   },
   "file_extension": ".py",
   "mimetype": "text/x-python",
   "name": "python",
   "nbconvert_exporter": "python",
   "pygments_lexer": "ipython3",
   "version": "3.9.7"
  }
 },
 "nbformat": 4,
 "nbformat_minor": 5
}
