{
 "cells": [
  {
   "cell_type": "markdown",
   "id": "42282499",
   "metadata": {},
   "source": [
    "# Illustrations of neural network to include in pres"
   ]
  },
  {
   "cell_type": "markdown",
   "id": "52a34e80",
   "metadata": {},
   "source": [
    "https://github.com/paulgavrikov/visualkeras/blob/master/examples/vgg16.py"
   ]
  },
  {
   "cell_type": "code",
   "execution_count": 1,
   "id": "1d2ebdcc",
   "metadata": {
    "scrolled": true
   },
   "outputs": [
    {
     "name": "stdout",
     "output_type": "stream",
     "text": [
      "Collecting visualkeras\n",
      "  Downloading visualkeras-0.0.2-py3-none-any.whl (12 kB)\n",
      "Collecting aggdraw>=1.3.11\n",
      "  Downloading aggdraw-1.3.14-cp39-cp39-win_amd64.whl (47 kB)\n",
      "Requirement already satisfied: pillow>=6.2.0 in d:\\users\\maxim\\anaconda3\\envs\\rnn-films\\lib\\site-packages (from visualkeras) (8.4.0)\n",
      "Requirement already satisfied: numpy>=1.18.1 in d:\\users\\maxim\\anaconda3\\envs\\rnn-films\\lib\\site-packages (from visualkeras) (1.20.3)\n",
      "Installing collected packages: aggdraw, visualkeras\n",
      "Successfully installed aggdraw-1.3.14 visualkeras-0.0.2\n"
     ]
    }
   ],
   "source": [
    "!pip install visualkeras"
   ]
  },
  {
   "cell_type": "code",
   "execution_count": 2,
   "id": "9fc33fc1",
   "metadata": {},
   "outputs": [
    {
     "name": "stdout",
     "output_type": "stream",
     "text": [
      "Model: \"sequential_2\"\n",
      "_________________________________________________________________\n",
      " Layer (type)                Output Shape              Param #   \n",
      "=================================================================\n",
      " embedding_2 (Embedding)     (None, 99, 64)            640000    \n",
      "                                                                 \n",
      " lstm_1 (LSTM)               (None, 99, 128)           98816     \n",
      "                                                                 \n",
      " lstm_2 (LSTM)               (None, 99, 128)           131584    \n",
      "                                                                 \n",
      " lstm_3 (LSTM)               (None, 128)               131584    \n",
      "                                                                 \n",
      " dense_4 (Dense)             (None, 64)                8256      \n",
      "                                                                 \n",
      " dense_5 (Dense)             (None, 3)                 195       \n",
      "                                                                 \n",
      "=================================================================\n",
      "Total params: 1,010,435\n",
      "Trainable params: 1,010,435\n",
      "Non-trainable params: 0\n",
      "_________________________________________________________________\n"
     ]
    }
   ],
   "source": [
    "from tensorflow import keras\n",
    "\n",
    "model = keras.models.load_model('./models/rnn-3')\n",
    "model.summary()"
   ]
  },
  {
   "cell_type": "code",
   "execution_count": 7,
   "id": "d176ea23",
   "metadata": {},
   "outputs": [],
   "source": [
    "import tensorflow as tf\n",
    "from tensorflow.keras.models import Sequential\n",
    "from tensorflow.keras.layers import Dense, LSTM, Embedding, Dropout, SpatialDropout1D\n",
    "from tensorflow.keras.optimizers import Adam, RMSprop, Adadelta, Adagrad\n",
    "from keras.callbacks import EarlyStopping\n",
    "\n",
    "model = Sequential()\n",
    "model.add(Embedding(input_dim=300, output_dim=64, input_length=99))\n",
    "\n",
    "# model.add(SpatialDropout1D(0.4))\n",
    "\n",
    "# Need to activate with tanh and set recurrent_dropout to 0 for the GPU to process\n",
    "# Initially activation='relu' & recurrent_dropout=0.2\n",
    "model.add(LSTM(128, activation='tanh', dropout=0.2, recurrent_dropout=0, return_sequences=True, name=\"lstm_1\"))\n",
    "model.add(LSTM(128, activation='tanh', dropout=0.2, recurrent_dropout=0, return_sequences=True, name=\"lstm_2\"))\n",
    "model.add(LSTM(128, activation='tanh', dropout=0.2, recurrent_dropout=0, name=\"lstm_3\"))\n",
    "\n",
    "model.add(Dense(64, activation='relu')) \n",
    "\n",
    "# model.add(Dropout(0.4))\n",
    "\n",
    "model.add(Dense(3, activation='softmax')) "
   ]
  },
  {
   "cell_type": "code",
   "execution_count": 8,
   "id": "d62d0ccd",
   "metadata": {},
   "outputs": [
    {
     "ename": "TypeError",
     "evalue": "'int' object is not iterable",
     "output_type": "error",
     "traceback": [
      "\u001b[1;31m---------------------------------------------------------------------------\u001b[0m",
      "\u001b[1;31mTypeError\u001b[0m                                 Traceback (most recent call last)",
      "\u001b[1;32m~\\AppData\\Local\\Temp/ipykernel_11624/3814527188.py\u001b[0m in \u001b[0;36m<module>\u001b[1;34m\u001b[0m\n\u001b[0;32m      1\u001b[0m \u001b[1;32mimport\u001b[0m \u001b[0mvisualkeras\u001b[0m\u001b[1;33m\u001b[0m\u001b[1;33m\u001b[0m\u001b[0m\n\u001b[0;32m      2\u001b[0m \u001b[1;33m\u001b[0m\u001b[0m\n\u001b[1;32m----> 3\u001b[1;33m \u001b[0mvisualkeras\u001b[0m\u001b[1;33m.\u001b[0m\u001b[0mlayered_view\u001b[0m\u001b[1;33m(\u001b[0m\u001b[0mmodel\u001b[0m\u001b[1;33m)\u001b[0m\u001b[1;33m\u001b[0m\u001b[1;33m\u001b[0m\u001b[0m\n\u001b[0m",
      "\u001b[1;32mD:\\users\\maxim\\anaconda3\\envs\\rnn-films\\lib\\site-packages\\visualkeras\\layered.py\u001b[0m in \u001b[0;36mlayered_view\u001b[1;34m(model, to_file, min_z, min_xy, max_z, max_xy, scale_z, scale_xy, type_ignore, index_ignore, color_map, one_dim_orientation, background_fill, draw_volume, padding, spacing, draw_funnel, shade_step, legend, font, font_color)\u001b[0m\n\u001b[0;32m     98\u001b[0m             \u001b[0mx\u001b[0m \u001b[1;33m=\u001b[0m \u001b[0mmin\u001b[0m\u001b[1;33m(\u001b[0m\u001b[0mmax\u001b[0m\u001b[1;33m(\u001b[0m\u001b[0mshape\u001b[0m\u001b[1;33m[\u001b[0m\u001b[1;36m1\u001b[0m\u001b[1;33m]\u001b[0m \u001b[1;33m*\u001b[0m \u001b[0mscale_xy\u001b[0m\u001b[1;33m,\u001b[0m \u001b[0mx\u001b[0m\u001b[1;33m)\u001b[0m\u001b[1;33m,\u001b[0m \u001b[0mmax_xy\u001b[0m\u001b[1;33m)\u001b[0m\u001b[1;33m\u001b[0m\u001b[1;33m\u001b[0m\u001b[0m\n\u001b[0;32m     99\u001b[0m             \u001b[0my\u001b[0m \u001b[1;33m=\u001b[0m \u001b[0mmin\u001b[0m\u001b[1;33m(\u001b[0m\u001b[0mmax\u001b[0m\u001b[1;33m(\u001b[0m\u001b[0mshape\u001b[0m\u001b[1;33m[\u001b[0m\u001b[1;36m2\u001b[0m\u001b[1;33m]\u001b[0m \u001b[1;33m*\u001b[0m \u001b[0mscale_xy\u001b[0m\u001b[1;33m,\u001b[0m \u001b[0my\u001b[0m\u001b[1;33m)\u001b[0m\u001b[1;33m,\u001b[0m \u001b[0mmax_xy\u001b[0m\u001b[1;33m)\u001b[0m\u001b[1;33m\u001b[0m\u001b[1;33m\u001b[0m\u001b[0m\n\u001b[1;32m--> 100\u001b[1;33m             \u001b[0mz\u001b[0m \u001b[1;33m=\u001b[0m \u001b[0mmin\u001b[0m\u001b[1;33m(\u001b[0m\u001b[0mmax\u001b[0m\u001b[1;33m(\u001b[0m\u001b[0mz\u001b[0m\u001b[1;33m)\u001b[0m\u001b[1;33m,\u001b[0m \u001b[0mmax_z\u001b[0m\u001b[1;33m)\u001b[0m\u001b[1;33m\u001b[0m\u001b[1;33m\u001b[0m\u001b[0m\n\u001b[0m\u001b[0;32m    101\u001b[0m         \u001b[1;32melif\u001b[0m \u001b[0mlen\u001b[0m\u001b[1;33m(\u001b[0m\u001b[0mshape\u001b[0m\u001b[1;33m)\u001b[0m \u001b[1;33m==\u001b[0m \u001b[1;36m2\u001b[0m\u001b[1;33m:\u001b[0m\u001b[1;33m\u001b[0m\u001b[1;33m\u001b[0m\u001b[0m\n\u001b[0;32m    102\u001b[0m             \u001b[1;32mif\u001b[0m \u001b[0mone_dim_orientation\u001b[0m \u001b[1;33m==\u001b[0m \u001b[1;34m'x'\u001b[0m\u001b[1;33m:\u001b[0m\u001b[1;33m\u001b[0m\u001b[1;33m\u001b[0m\u001b[0m\n",
      "\u001b[1;31mTypeError\u001b[0m: 'int' object is not iterable"
     ]
    }
   ],
   "source": [
    "import visualkeras\n",
    "\n",
    "visualkeras.layered_view(model)"
   ]
  },
  {
   "cell_type": "code",
   "execution_count": null,
   "id": "51273877",
   "metadata": {},
   "outputs": [],
   "source": []
  }
 ],
 "metadata": {
  "kernelspec": {
   "display_name": "rnn-films",
   "language": "python",
   "name": "rnn-films"
  },
  "language_info": {
   "codemirror_mode": {
    "name": "ipython",
    "version": 3
   },
   "file_extension": ".py",
   "mimetype": "text/x-python",
   "name": "python",
   "nbconvert_exporter": "python",
   "pygments_lexer": "ipython3",
   "version": "3.9.7"
  }
 },
 "nbformat": 4,
 "nbformat_minor": 5
}
