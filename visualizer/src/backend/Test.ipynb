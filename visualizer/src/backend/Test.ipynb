{
 "cells": [
  {
   "cell_type": "code",
   "execution_count": 52,
   "id": "b680621a",
   "metadata": {},
   "outputs": [],
   "source": [
    "import pandas as pd\n",
    "import numpy as np\n",
    "import seaborn as sns\n",
    "\n",
    "%matplotlib inline\n",
    "import matplotlib\n",
    "import matplotlib.colors\n",
    "from matplotlib.colors import LinearSegmentedColormap\n",
    "import matplotlib as pyplot"
   ]
  },
  {
   "cell_type": "code",
   "execution_count": 6,
   "id": "c98d2e30",
   "metadata": {},
   "outputs": [
    {
     "name": "stdout",
     "output_type": "stream",
     "text": [
      "Name: pandas\n",
      "Version: 1.4.2\n",
      "Summary: Powerful data structures for data analysis, time series, and statistics\n",
      "Home-page: https://pandas.pydata.org\n",
      "Author: The Pandas Development Team\n",
      "Author-email: pandas-dev@python.org\n",
      "License: BSD-3-Clause\n",
      "Location: d:\\users\\maxim\\anaconda3\\envs\\rnn-films\\lib\\site-packages\n",
      "Requires: pytz, python-dateutil, numpy\n",
      "Required-by: statsmodels, seaborn\n"
     ]
    }
   ],
   "source": [
    "!pip show pandas"
   ]
  },
  {
   "cell_type": "code",
   "execution_count": 7,
   "id": "83e1c4b7",
   "metadata": {},
   "outputs": [
    {
     "name": "stdout",
     "output_type": "stream",
     "text": [
      "Requirement already satisfied: pandas==1.4.2 in d:\\users\\maxim\\anaconda3\\envs\\rnn-films\\lib\\site-packages (1.4.2)\n",
      "Requirement already satisfied: pytz>=2020.1 in d:\\users\\maxim\\anaconda3\\envs\\rnn-films\\lib\\site-packages (from pandas==1.4.2) (2021.3)\n",
      "Requirement already satisfied: numpy>=1.18.5 in d:\\users\\maxim\\anaconda3\\envs\\rnn-films\\lib\\site-packages (from pandas==1.4.2) (1.20.3)\n",
      "Requirement already satisfied: python-dateutil>=2.8.1 in d:\\users\\maxim\\anaconda3\\envs\\rnn-films\\lib\\site-packages (from pandas==1.4.2) (2.8.2)\n",
      "Requirement already satisfied: six>=1.5 in d:\\users\\maxim\\anaconda3\\envs\\rnn-films\\lib\\site-packages (from python-dateutil>=2.8.1->pandas==1.4.2) (1.16.0)\n"
     ]
    }
   ],
   "source": [
    "!pip install --upgrade pandas==1.4.2"
   ]
  },
  {
   "cell_type": "code",
   "execution_count": 10,
   "id": "a53660fd",
   "metadata": {
    "scrolled": false
   },
   "outputs": [
    {
     "data": {
      "text/plain": [
       "(1, 65)"
      ]
     },
     "execution_count": 10,
     "metadata": {},
     "output_type": "execute_result"
    }
   ],
   "source": [
    "diff = pd.read_csv('./diff.csv')\n",
    "diff.shape"
   ]
  },
  {
   "cell_type": "code",
   "execution_count": 11,
   "id": "e961fcbd",
   "metadata": {},
   "outputs": [
    {
     "data": {
      "text/html": [
       "<div>\n",
       "<style scoped>\n",
       "    .dataframe tbody tr th:only-of-type {\n",
       "        vertical-align: middle;\n",
       "    }\n",
       "\n",
       "    .dataframe tbody tr th {\n",
       "        vertical-align: top;\n",
       "    }\n",
       "\n",
       "    .dataframe thead th {\n",
       "        text-align: right;\n",
       "    }\n",
       "</style>\n",
       "<table border=\"1\" class=\"dataframe\">\n",
       "  <thead>\n",
       "    <tr style=\"text-align: right;\">\n",
       "      <th></th>\n",
       "      <th>Unnamed: 0</th>\n",
       "      <th>0</th>\n",
       "      <th>1</th>\n",
       "      <th>2</th>\n",
       "      <th>3</th>\n",
       "      <th>4</th>\n",
       "      <th>5</th>\n",
       "      <th>6</th>\n",
       "      <th>7</th>\n",
       "      <th>8</th>\n",
       "      <th>...</th>\n",
       "      <th>54</th>\n",
       "      <th>55</th>\n",
       "      <th>56</th>\n",
       "      <th>57</th>\n",
       "      <th>58</th>\n",
       "      <th>59</th>\n",
       "      <th>60</th>\n",
       "      <th>61</th>\n",
       "      <th>62</th>\n",
       "      <th>63</th>\n",
       "    </tr>\n",
       "  </thead>\n",
       "  <tbody>\n",
       "    <tr>\n",
       "      <th>0</th>\n",
       "      <td>0</td>\n",
       "      <td>-0.199056</td>\n",
       "      <td>-0.040466</td>\n",
       "      <td>-0.034301</td>\n",
       "      <td>-0.045169</td>\n",
       "      <td>0.196959</td>\n",
       "      <td>-0.503442</td>\n",
       "      <td>0.165151</td>\n",
       "      <td>-0.115969</td>\n",
       "      <td>0.07204</td>\n",
       "      <td>...</td>\n",
       "      <td>-0.147089</td>\n",
       "      <td>-0.114145</td>\n",
       "      <td>0.028444</td>\n",
       "      <td>0.120295</td>\n",
       "      <td>-0.020843</td>\n",
       "      <td>0.075597</td>\n",
       "      <td>-0.085518</td>\n",
       "      <td>0.048289</td>\n",
       "      <td>-0.155566</td>\n",
       "      <td>0.08207</td>\n",
       "    </tr>\n",
       "  </tbody>\n",
       "</table>\n",
       "<p>1 rows × 65 columns</p>\n",
       "</div>"
      ],
      "text/plain": [
       "   Unnamed: 0         0         1         2         3         4         5  \\\n",
       "0           0 -0.199056 -0.040466 -0.034301 -0.045169  0.196959 -0.503442   \n",
       "\n",
       "          6         7        8  ...        54        55        56        57  \\\n",
       "0  0.165151 -0.115969  0.07204  ... -0.147089 -0.114145  0.028444  0.120295   \n",
       "\n",
       "         58        59        60        61        62       63  \n",
       "0 -0.020843  0.075597 -0.085518  0.048289 -0.155566  0.08207  \n",
       "\n",
       "[1 rows x 65 columns]"
      ]
     },
     "execution_count": 11,
     "metadata": {},
     "output_type": "execute_result"
    }
   ],
   "source": [
    "diff"
   ]
  },
  {
   "cell_type": "code",
   "execution_count": 15,
   "id": "170c21e1",
   "metadata": {},
   "outputs": [
    {
     "data": {
      "text/plain": [
       "Index(['Unnamed: 0', '0', '1', '2', '3', '4', '5', '6', '7', '8', '9', '10',\n",
       "       '11', '12', '13', '14', '15', '16', '17', '18', '19', '20', '21', '22',\n",
       "       '23', '24', '25', '26', '27', '28', '29', '30', '31', '32', '33', '34',\n",
       "       '35', '36', '37', '38', '39', '40', '41', '42', '43', '44', '45', '46',\n",
       "       '47', '48', '49', '50', '51', '52', '53', '54', '55', '56', '57', '58',\n",
       "       '59', '60', '61', '62', '63'],\n",
       "      dtype='object')"
      ]
     },
     "execution_count": 15,
     "metadata": {},
     "output_type": "execute_result"
    }
   ],
   "source": [
    "diff.columns"
   ]
  },
  {
   "cell_type": "code",
   "execution_count": 23,
   "id": "158c4d93",
   "metadata": {
    "scrolled": true
   },
   "outputs": [
    {
     "data": {
      "text/html": [
       "<div>\n",
       "<style scoped>\n",
       "    .dataframe tbody tr th:only-of-type {\n",
       "        vertical-align: middle;\n",
       "    }\n",
       "\n",
       "    .dataframe tbody tr th {\n",
       "        vertical-align: top;\n",
       "    }\n",
       "\n",
       "    .dataframe thead th {\n",
       "        text-align: right;\n",
       "    }\n",
       "</style>\n",
       "<table border=\"1\" class=\"dataframe\">\n",
       "  <thead>\n",
       "    <tr style=\"text-align: right;\">\n",
       "      <th></th>\n",
       "      <th>0</th>\n",
       "      <th>1</th>\n",
       "      <th>2</th>\n",
       "      <th>3</th>\n",
       "      <th>4</th>\n",
       "      <th>5</th>\n",
       "      <th>6</th>\n",
       "      <th>7</th>\n",
       "      <th>8</th>\n",
       "      <th>9</th>\n",
       "      <th>...</th>\n",
       "      <th>54</th>\n",
       "      <th>55</th>\n",
       "      <th>56</th>\n",
       "      <th>57</th>\n",
       "      <th>58</th>\n",
       "      <th>59</th>\n",
       "      <th>60</th>\n",
       "      <th>61</th>\n",
       "      <th>62</th>\n",
       "      <th>63</th>\n",
       "    </tr>\n",
       "  </thead>\n",
       "  <tbody>\n",
       "    <tr>\n",
       "      <th>0</th>\n",
       "      <td>-0.199056</td>\n",
       "      <td>-0.040466</td>\n",
       "      <td>-0.034301</td>\n",
       "      <td>-0.045169</td>\n",
       "      <td>0.196959</td>\n",
       "      <td>-0.503442</td>\n",
       "      <td>0.165151</td>\n",
       "      <td>-0.115969</td>\n",
       "      <td>0.07204</td>\n",
       "      <td>0.214808</td>\n",
       "      <td>...</td>\n",
       "      <td>-0.147089</td>\n",
       "      <td>-0.114145</td>\n",
       "      <td>0.028444</td>\n",
       "      <td>0.120295</td>\n",
       "      <td>-0.020843</td>\n",
       "      <td>0.075597</td>\n",
       "      <td>-0.085518</td>\n",
       "      <td>0.048289</td>\n",
       "      <td>-0.155566</td>\n",
       "      <td>0.08207</td>\n",
       "    </tr>\n",
       "  </tbody>\n",
       "</table>\n",
       "<p>1 rows × 64 columns</p>\n",
       "</div>"
      ],
      "text/plain": [
       "          0         1         2         3         4         5         6  \\\n",
       "0 -0.199056 -0.040466 -0.034301 -0.045169  0.196959 -0.503442  0.165151   \n",
       "\n",
       "          7        8         9  ...        54        55        56        57  \\\n",
       "0 -0.115969  0.07204  0.214808  ... -0.147089 -0.114145  0.028444  0.120295   \n",
       "\n",
       "         58        59        60        61        62       63  \n",
       "0 -0.020843  0.075597 -0.085518  0.048289 -0.155566  0.08207  \n",
       "\n",
       "[1 rows x 64 columns]"
      ]
     },
     "execution_count": 23,
     "metadata": {},
     "output_type": "execute_result"
    }
   ],
   "source": [
    "diff = diff.drop(columns=['Unnamed: 0'])\n",
    "diff"
   ]
  },
  {
   "cell_type": "code",
   "execution_count": 29,
   "id": "5647fc23",
   "metadata": {},
   "outputs": [
    {
     "data": {
      "text/plain": [
       "(64, 2)"
      ]
     },
     "execution_count": 29,
     "metadata": {},
     "output_type": "execute_result"
    }
   ],
   "source": [
    "rdf = pd.read_csv('./rdf.csv')\n",
    "rdf.shape"
   ]
  },
  {
   "cell_type": "code",
   "execution_count": 30,
   "id": "38012707",
   "metadata": {},
   "outputs": [
    {
     "data": {
      "text/html": [
       "<div>\n",
       "<style scoped>\n",
       "    .dataframe tbody tr th:only-of-type {\n",
       "        vertical-align: middle;\n",
       "    }\n",
       "\n",
       "    .dataframe tbody tr th {\n",
       "        vertical-align: top;\n",
       "    }\n",
       "\n",
       "    .dataframe thead th {\n",
       "        text-align: right;\n",
       "    }\n",
       "</style>\n",
       "<table border=\"1\" class=\"dataframe\">\n",
       "  <thead>\n",
       "    <tr style=\"text-align: right;\">\n",
       "      <th></th>\n",
       "      <th>Unnamed: 0</th>\n",
       "      <th>0</th>\n",
       "    </tr>\n",
       "  </thead>\n",
       "  <tbody>\n",
       "    <tr>\n",
       "      <th>0</th>\n",
       "      <td>0</td>\n",
       "      <td>0.000032</td>\n",
       "    </tr>\n",
       "    <tr>\n",
       "      <th>1</th>\n",
       "      <td>1</td>\n",
       "      <td>0.090413</td>\n",
       "    </tr>\n",
       "    <tr>\n",
       "      <th>2</th>\n",
       "      <td>2</td>\n",
       "      <td>0.158989</td>\n",
       "    </tr>\n",
       "    <tr>\n",
       "      <th>3</th>\n",
       "      <td>3</td>\n",
       "      <td>0.587073</td>\n",
       "    </tr>\n",
       "    <tr>\n",
       "      <th>4</th>\n",
       "      <td>4</td>\n",
       "      <td>0.002474</td>\n",
       "    </tr>\n",
       "    <tr>\n",
       "      <th>...</th>\n",
       "      <td>...</td>\n",
       "      <td>...</td>\n",
       "    </tr>\n",
       "    <tr>\n",
       "      <th>59</th>\n",
       "      <td>59</td>\n",
       "      <td>0.040392</td>\n",
       "    </tr>\n",
       "    <tr>\n",
       "      <th>60</th>\n",
       "      <td>60</td>\n",
       "      <td>0.043294</td>\n",
       "    </tr>\n",
       "    <tr>\n",
       "      <th>61</th>\n",
       "      <td>61</td>\n",
       "      <td>0.075661</td>\n",
       "    </tr>\n",
       "    <tr>\n",
       "      <th>62</th>\n",
       "      <td>62</td>\n",
       "      <td>0.002442</td>\n",
       "    </tr>\n",
       "    <tr>\n",
       "      <th>63</th>\n",
       "      <td>63</td>\n",
       "      <td>0.044203</td>\n",
       "    </tr>\n",
       "  </tbody>\n",
       "</table>\n",
       "<p>64 rows × 2 columns</p>\n",
       "</div>"
      ],
      "text/plain": [
       "    Unnamed: 0         0\n",
       "0            0  0.000032\n",
       "1            1  0.090413\n",
       "2            2  0.158989\n",
       "3            3  0.587073\n",
       "4            4  0.002474\n",
       "..         ...       ...\n",
       "59          59  0.040392\n",
       "60          60  0.043294\n",
       "61          61  0.075661\n",
       "62          62  0.002442\n",
       "63          63  0.044203\n",
       "\n",
       "[64 rows x 2 columns]"
      ]
     },
     "execution_count": 30,
     "metadata": {},
     "output_type": "execute_result"
    }
   ],
   "source": [
    "rdf"
   ]
  },
  {
   "cell_type": "code",
   "execution_count": 36,
   "id": "ec57bb4c",
   "metadata": {},
   "outputs": [
    {
     "data": {
      "text/html": [
       "<div>\n",
       "<style scoped>\n",
       "    .dataframe tbody tr th:only-of-type {\n",
       "        vertical-align: middle;\n",
       "    }\n",
       "\n",
       "    .dataframe tbody tr th {\n",
       "        vertical-align: top;\n",
       "    }\n",
       "\n",
       "    .dataframe thead th {\n",
       "        text-align: right;\n",
       "    }\n",
       "</style>\n",
       "<table border=\"1\" class=\"dataframe\">\n",
       "  <thead>\n",
       "    <tr style=\"text-align: right;\">\n",
       "      <th></th>\n",
       "      <th>0</th>\n",
       "    </tr>\n",
       "  </thead>\n",
       "  <tbody>\n",
       "    <tr>\n",
       "      <th>0</th>\n",
       "      <td>0.000032</td>\n",
       "    </tr>\n",
       "    <tr>\n",
       "      <th>1</th>\n",
       "      <td>0.090413</td>\n",
       "    </tr>\n",
       "    <tr>\n",
       "      <th>2</th>\n",
       "      <td>0.158989</td>\n",
       "    </tr>\n",
       "    <tr>\n",
       "      <th>3</th>\n",
       "      <td>0.587073</td>\n",
       "    </tr>\n",
       "    <tr>\n",
       "      <th>4</th>\n",
       "      <td>0.002474</td>\n",
       "    </tr>\n",
       "    <tr>\n",
       "      <th>...</th>\n",
       "      <td>...</td>\n",
       "    </tr>\n",
       "    <tr>\n",
       "      <th>59</th>\n",
       "      <td>0.040392</td>\n",
       "    </tr>\n",
       "    <tr>\n",
       "      <th>60</th>\n",
       "      <td>0.043294</td>\n",
       "    </tr>\n",
       "    <tr>\n",
       "      <th>61</th>\n",
       "      <td>0.075661</td>\n",
       "    </tr>\n",
       "    <tr>\n",
       "      <th>62</th>\n",
       "      <td>0.002442</td>\n",
       "    </tr>\n",
       "    <tr>\n",
       "      <th>63</th>\n",
       "      <td>0.044203</td>\n",
       "    </tr>\n",
       "  </tbody>\n",
       "</table>\n",
       "<p>64 rows × 1 columns</p>\n",
       "</div>"
      ],
      "text/plain": [
       "           0\n",
       "0   0.000032\n",
       "1   0.090413\n",
       "2   0.158989\n",
       "3   0.587073\n",
       "4   0.002474\n",
       "..       ...\n",
       "59  0.040392\n",
       "60  0.043294\n",
       "61  0.075661\n",
       "62  0.002442\n",
       "63  0.044203\n",
       "\n",
       "[64 rows x 1 columns]"
      ]
     },
     "execution_count": 36,
     "metadata": {},
     "output_type": "execute_result"
    }
   ],
   "source": [
    "rdf = rdf.drop(columns=['Unnamed: 0'])\n",
    "rdf"
   ]
  },
  {
   "cell_type": "code",
   "execution_count": 44,
   "id": "681c72a3",
   "metadata": {
    "scrolled": true
   },
   "outputs": [
    {
     "data": {
      "text/plain": [
       "0     1\n",
       "1     0\n",
       "2     0\n",
       "3     0\n",
       "4     1\n",
       "     ..\n",
       "59    0\n",
       "60    0\n",
       "61    0\n",
       "62    1\n",
       "63    0\n",
       "Name: 0, Length: 64, dtype: int64"
      ]
     },
     "execution_count": 44,
     "metadata": {},
     "output_type": "execute_result"
    }
   ],
   "source": [
    "rdf.iloc[:, 0].apply(lambda x: 0 if x > 0.01 else 1)"
   ]
  },
  {
   "cell_type": "code",
   "execution_count": 93,
   "id": "3697e7c1",
   "metadata": {},
   "outputs": [
    {
     "data": {
      "text/html": [
       "<div>\n",
       "<style scoped>\n",
       "    .dataframe tbody tr th:only-of-type {\n",
       "        vertical-align: middle;\n",
       "    }\n",
       "\n",
       "    .dataframe tbody tr th {\n",
       "        vertical-align: top;\n",
       "    }\n",
       "\n",
       "    .dataframe thead th {\n",
       "        text-align: right;\n",
       "    }\n",
       "</style>\n",
       "<table border=\"1\" class=\"dataframe\">\n",
       "  <thead>\n",
       "    <tr style=\"text-align: right;\">\n",
       "      <th></th>\n",
       "      <th>0</th>\n",
       "      <th>0</th>\n",
       "    </tr>\n",
       "  </thead>\n",
       "  <tbody>\n",
       "    <tr>\n",
       "      <th>0</th>\n",
       "      <td>-0.199056</td>\n",
       "      <td>0.000032</td>\n",
       "    </tr>\n",
       "    <tr>\n",
       "      <th>1</th>\n",
       "      <td>-0.040466</td>\n",
       "      <td>0.090413</td>\n",
       "    </tr>\n",
       "    <tr>\n",
       "      <th>2</th>\n",
       "      <td>-0.034301</td>\n",
       "      <td>0.158989</td>\n",
       "    </tr>\n",
       "    <tr>\n",
       "      <th>3</th>\n",
       "      <td>-0.045169</td>\n",
       "      <td>0.587073</td>\n",
       "    </tr>\n",
       "    <tr>\n",
       "      <th>4</th>\n",
       "      <td>0.196959</td>\n",
       "      <td>0.002474</td>\n",
       "    </tr>\n",
       "    <tr>\n",
       "      <th>...</th>\n",
       "      <td>...</td>\n",
       "      <td>...</td>\n",
       "    </tr>\n",
       "    <tr>\n",
       "      <th>59</th>\n",
       "      <td>0.075597</td>\n",
       "      <td>0.040392</td>\n",
       "    </tr>\n",
       "    <tr>\n",
       "      <th>60</th>\n",
       "      <td>-0.085518</td>\n",
       "      <td>0.043294</td>\n",
       "    </tr>\n",
       "    <tr>\n",
       "      <th>61</th>\n",
       "      <td>0.048289</td>\n",
       "      <td>0.075661</td>\n",
       "    </tr>\n",
       "    <tr>\n",
       "      <th>62</th>\n",
       "      <td>-0.155566</td>\n",
       "      <td>0.002442</td>\n",
       "    </tr>\n",
       "    <tr>\n",
       "      <th>63</th>\n",
       "      <td>0.082070</td>\n",
       "      <td>0.044203</td>\n",
       "    </tr>\n",
       "  </tbody>\n",
       "</table>\n",
       "<p>64 rows × 2 columns</p>\n",
       "</div>"
      ],
      "text/plain": [
       "           0         0\n",
       "0  -0.199056  0.000032\n",
       "1  -0.040466  0.090413\n",
       "2  -0.034301  0.158989\n",
       "3  -0.045169  0.587073\n",
       "4   0.196959  0.002474\n",
       "..       ...       ...\n",
       "59  0.075597  0.040392\n",
       "60 -0.085518  0.043294\n",
       "61  0.048289  0.075661\n",
       "62 -0.155566  0.002442\n",
       "63  0.082070  0.044203\n",
       "\n",
       "[64 rows x 2 columns]"
      ]
     },
     "execution_count": 93,
     "metadata": {},
     "output_type": "execute_result"
    }
   ],
   "source": [
    "diff_rdf = pd.concat([diff.T.reset_index(), rdf], axis=1).drop(columns=['index'])\n",
    "diff_rdf"
   ]
  },
  {
   "cell_type": "code",
   "execution_count": 94,
   "id": "30c3a51b",
   "metadata": {},
   "outputs": [],
   "source": [
    "norm = matplotlib.colors.Normalize(-1, 1)\n",
    "colors = [[norm(-1.0), \"cyan\"],\n",
    "        [norm(-0.6), \"lightblue\"],\n",
    "        [norm(0.0), \"black\"],\n",
    "        [norm(0.6), \"lightyellow\"],\n",
    "        [norm(1.0), \"yellow\"]]\n",
    "\n",
    "custom_color_map = LinearSegmentedColormap.from_list(\n",
    "    \"\",\n",
    "    colors=colors,\n",
    ")"
   ]
  },
  {
   "cell_type": "code",
   "execution_count": 95,
   "id": "4085e5f9",
   "metadata": {},
   "outputs": [
    {
     "data": {
      "text/plain": [
       "array([[-0.19905573, -0.04046608, -0.03430105, -0.04516891,  0.19695902,\n",
       "        -0.5034418 ,  0.16515113, -0.11596861,  0.07204024,  0.21480793,\n",
       "         0.20009589, -0.0932519 ,  0.09358702,  0.10126595,  0.39862746,\n",
       "         0.04871985,  0.10526384, -0.38500652,  0.1929766 ,  0.09185514,\n",
       "         0.2718469 ,  0.21955703,  0.04808212,  0.09744605, -0.17637262,\n",
       "        -0.11405554,  0.33036122, -0.23367517,  0.16058642,  0.03190183,\n",
       "         0.26704898, -0.17887385, -0.08312494,  0.2841816 , -0.02594088,\n",
       "         0.12925008, -0.24953306,  0.05275662, -0.20139955,  0.10025719,\n",
       "         0.37055048, -0.26487762, -0.25456902, -0.28993505,  0.19150443,\n",
       "        -0.09246742, -0.4662676 , -0.01975596,  0.13082251,  0.20500676,\n",
       "         0.20457518,  0.21488681,  0.04531046, -0.27053073, -0.14708881,\n",
       "        -0.11414508,  0.02844436,  0.12029457, -0.02084268,  0.07559704,\n",
       "        -0.08551759,  0.04828948, -0.15556566,  0.08207034]])"
      ]
     },
     "execution_count": 95,
     "metadata": {},
     "output_type": "execute_result"
    }
   ],
   "source": [
    "np.array(diff_rdf.iloc[:, 0]).reshape(64, -1).T"
   ]
  },
  {
   "cell_type": "code",
   "execution_count": 96,
   "id": "5aea7d15",
   "metadata": {},
   "outputs": [
    {
     "data": {
      "text/plain": [
       "<AxesSubplot:>"
      ]
     },
     "execution_count": 96,
     "metadata": {},
     "output_type": "execute_result"
    },
    {
     "data": {
      "image/png": "[encoded data removed]",
      "text/plain": [
       "<Figure size 432x288 with 1 Axes>"
      ]
     },
     "metadata": {
      "needs_background": "light"
     },
     "output_type": "display_data"
    }
   ],
   "source": [
    "sns.heatmap(\n",
    "    data=np.array(diff_rdf.iloc[:, 0]).reshape(64, -1).T,\n",
    "    vmin=0,\n",
    "    vmax=1.0,\n",
    "    cbar=False,\n",
    "    cmap=custom_color_map\n",
    ")"
   ]
  },
  {
   "cell_type": "markdown",
   "id": "165f1481",
   "metadata": {},
   "source": [
    "### Filter by pvalue\n",
    "\n",
    "which means put 0 when pvalue > 0.01"
   ]
  },
  {
   "cell_type": "code",
   "execution_count": 109,
   "id": "4484b223",
   "metadata": {},
   "outputs": [
    {
     "data": {
      "text/html": [
       "<div>\n",
       "<style scoped>\n",
       "    .dataframe tbody tr th:only-of-type {\n",
       "        vertical-align: middle;\n",
       "    }\n",
       "\n",
       "    .dataframe tbody tr th {\n",
       "        vertical-align: top;\n",
       "    }\n",
       "\n",
       "    .dataframe thead th {\n",
       "        text-align: right;\n",
       "    }\n",
       "</style>\n",
       "<table border=\"1\" class=\"dataframe\">\n",
       "  <thead>\n",
       "    <tr style=\"text-align: right;\">\n",
       "      <th></th>\n",
       "      <th>0</th>\n",
       "      <th>0</th>\n",
       "    </tr>\n",
       "  </thead>\n",
       "  <tbody>\n",
       "    <tr>\n",
       "      <th>0</th>\n",
       "      <td>-0.199056</td>\n",
       "      <td>0.000032</td>\n",
       "    </tr>\n",
       "    <tr>\n",
       "      <th>1</th>\n",
       "      <td>-0.040466</td>\n",
       "      <td>0.090413</td>\n",
       "    </tr>\n",
       "    <tr>\n",
       "      <th>2</th>\n",
       "      <td>-0.034301</td>\n",
       "      <td>0.158989</td>\n",
       "    </tr>\n",
       "    <tr>\n",
       "      <th>3</th>\n",
       "      <td>-0.045169</td>\n",
       "      <td>0.587073</td>\n",
       "    </tr>\n",
       "    <tr>\n",
       "      <th>4</th>\n",
       "      <td>0.196959</td>\n",
       "      <td>0.002474</td>\n",
       "    </tr>\n",
       "    <tr>\n",
       "      <th>...</th>\n",
       "      <td>...</td>\n",
       "      <td>...</td>\n",
       "    </tr>\n",
       "    <tr>\n",
       "      <th>59</th>\n",
       "      <td>0.075597</td>\n",
       "      <td>0.040392</td>\n",
       "    </tr>\n",
       "    <tr>\n",
       "      <th>60</th>\n",
       "      <td>-0.085518</td>\n",
       "      <td>0.043294</td>\n",
       "    </tr>\n",
       "    <tr>\n",
       "      <th>61</th>\n",
       "      <td>0.048289</td>\n",
       "      <td>0.075661</td>\n",
       "    </tr>\n",
       "    <tr>\n",
       "      <th>62</th>\n",
       "      <td>-0.155566</td>\n",
       "      <td>0.002442</td>\n",
       "    </tr>\n",
       "    <tr>\n",
       "      <th>63</th>\n",
       "      <td>0.082070</td>\n",
       "      <td>0.044203</td>\n",
       "    </tr>\n",
       "  </tbody>\n",
       "</table>\n",
       "<p>64 rows × 2 columns</p>\n",
       "</div>"
      ],
      "text/plain": [
       "           0         0\n",
       "0  -0.199056  0.000032\n",
       "1  -0.040466  0.090413\n",
       "2  -0.034301  0.158989\n",
       "3  -0.045169  0.587073\n",
       "4   0.196959  0.002474\n",
       "..       ...       ...\n",
       "59  0.075597  0.040392\n",
       "60 -0.085518  0.043294\n",
       "61  0.048289  0.075661\n",
       "62 -0.155566  0.002442\n",
       "63  0.082070  0.044203\n",
       "\n",
       "[64 rows x 2 columns]"
      ]
     },
     "execution_count": 109,
     "metadata": {},
     "output_type": "execute_result"
    }
   ],
   "source": [
    "diff_rdf"
   ]
  },
  {
   "cell_type": "code",
   "execution_count": 110,
   "id": "aec6c5cf",
   "metadata": {},
   "outputs": [],
   "source": [
    "f = diff_rdf"
   ]
  },
  {
   "cell_type": "code",
   "execution_count": 118,
   "id": "4a481bf4",
   "metadata": {},
   "outputs": [],
   "source": [
    "for i in range(len(f.iloc[:, 0])):\n",
    "    if f.iloc[i, 1] > 0.01:\n",
    "        f.iloc[i, 0] = 0.5"
   ]
  },
  {
   "cell_type": "code",
   "execution_count": 119,
   "id": "1ed9b397",
   "metadata": {},
   "outputs": [
    {
     "data": {
      "text/html": [
       "<div>\n",
       "<style scoped>\n",
       "    .dataframe tbody tr th:only-of-type {\n",
       "        vertical-align: middle;\n",
       "    }\n",
       "\n",
       "    .dataframe tbody tr th {\n",
       "        vertical-align: top;\n",
       "    }\n",
       "\n",
       "    .dataframe thead th {\n",
       "        text-align: right;\n",
       "    }\n",
       "</style>\n",
       "<table border=\"1\" class=\"dataframe\">\n",
       "  <thead>\n",
       "    <tr style=\"text-align: right;\">\n",
       "      <th></th>\n",
       "      <th>0</th>\n",
       "      <th>0</th>\n",
       "    </tr>\n",
       "  </thead>\n",
       "  <tbody>\n",
       "    <tr>\n",
       "      <th>0</th>\n",
       "      <td>-0.199056</td>\n",
       "      <td>0.000032</td>\n",
       "    </tr>\n",
       "    <tr>\n",
       "      <th>1</th>\n",
       "      <td>0.500000</td>\n",
       "      <td>0.090413</td>\n",
       "    </tr>\n",
       "    <tr>\n",
       "      <th>2</th>\n",
       "      <td>0.500000</td>\n",
       "      <td>0.158989</td>\n",
       "    </tr>\n",
       "    <tr>\n",
       "      <th>3</th>\n",
       "      <td>0.500000</td>\n",
       "      <td>0.587073</td>\n",
       "    </tr>\n",
       "    <tr>\n",
       "      <th>4</th>\n",
       "      <td>0.196959</td>\n",
       "      <td>0.002474</td>\n",
       "    </tr>\n",
       "    <tr>\n",
       "      <th>...</th>\n",
       "      <td>...</td>\n",
       "      <td>...</td>\n",
       "    </tr>\n",
       "    <tr>\n",
       "      <th>59</th>\n",
       "      <td>0.500000</td>\n",
       "      <td>0.040392</td>\n",
       "    </tr>\n",
       "    <tr>\n",
       "      <th>60</th>\n",
       "      <td>0.500000</td>\n",
       "      <td>0.043294</td>\n",
       "    </tr>\n",
       "    <tr>\n",
       "      <th>61</th>\n",
       "      <td>0.500000</td>\n",
       "      <td>0.075661</td>\n",
       "    </tr>\n",
       "    <tr>\n",
       "      <th>62</th>\n",
       "      <td>-0.155566</td>\n",
       "      <td>0.002442</td>\n",
       "    </tr>\n",
       "    <tr>\n",
       "      <th>63</th>\n",
       "      <td>0.500000</td>\n",
       "      <td>0.044203</td>\n",
       "    </tr>\n",
       "  </tbody>\n",
       "</table>\n",
       "<p>64 rows × 2 columns</p>\n",
       "</div>"
      ],
      "text/plain": [
       "           0         0\n",
       "0  -0.199056  0.000032\n",
       "1   0.500000  0.090413\n",
       "2   0.500000  0.158989\n",
       "3   0.500000  0.587073\n",
       "4   0.196959  0.002474\n",
       "..       ...       ...\n",
       "59  0.500000  0.040392\n",
       "60  0.500000  0.043294\n",
       "61  0.500000  0.075661\n",
       "62 -0.155566  0.002442\n",
       "63  0.500000  0.044203\n",
       "\n",
       "[64 rows x 2 columns]"
      ]
     },
     "execution_count": 119,
     "metadata": {},
     "output_type": "execute_result"
    }
   ],
   "source": [
    "f"
   ]
  },
  {
   "cell_type": "code",
   "execution_count": 120,
   "id": "2bfef2da",
   "metadata": {},
   "outputs": [
    {
     "data": {
      "text/plain": [
       "<AxesSubplot:>"
      ]
     },
     "execution_count": 120,
     "metadata": {},
     "output_type": "execute_result"
    },
    {
     "data": {
      "image/png": "[encoded data removed]",
      "text/plain": [
       "<Figure size 432x288 with 1 Axes>"
      ]
     },
     "metadata": {
      "needs_background": "light"
     },
     "output_type": "display_data"
    }
   ],
   "source": [
    "sns.heatmap(\n",
    "    data=np.array(f.iloc[:, 0]).reshape(64, -1).T,\n",
    "    vmin=0,\n",
    "    vmax=1.0,\n",
    "    cbar=False,\n",
    "    cmap=custom_color_map\n",
    ")"
   ]
  },
  {
   "cell_type": "code",
   "execution_count": null,
   "id": "078e2261",
   "metadata": {},
   "outputs": [],
   "source": []
  }
 ],
 "metadata": {
  "kernelspec": {
   "display_name": "rnn-films",
   "language": "python",
   "name": "rnn-films"
  },
  "language_info": {
   "codemirror_mode": {
    "name": "ipython",
    "version": 3
   },
   "file_extension": ".py",
   "mimetype": "text/x-python",
   "name": "python",
   "nbconvert_exporter": "python",
   "pygments_lexer": "ipython3",
   "version": "3.9.7"
  }
 },
 "nbformat": 4,
 "nbformat_minor": 5
}
