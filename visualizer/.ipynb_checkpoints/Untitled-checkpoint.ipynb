{
 "cells": [
  {
   "cell_type": "markdown",
   "id": "5c4244f6",
   "metadata": {
    "pycharm": {
     "name": "#%% md\n"
    }
   },
   "source": [
    "# Going through data"
   ]
  },
  {
   "cell_type": "code",
   "execution_count": 9,
   "id": "91a7b1ad",
   "metadata": {
    "pycharm": {
     "name": "#%%\n"
    }
   },
   "outputs": [],
   "source": [
    "import pandas as pd\n",
    "import numpy as np"
   ]
  },
  {
   "cell_type": "code",
   "execution_count": 10,
   "id": "3fe5a3db",
   "metadata": {
    "pycharm": {
     "name": "#%%\n"
    }
   },
   "outputs": [
    {
     "data": {
      "text/plain": [
       "(17403, 5)"
      ]
     },
     "execution_count": 10,
     "metadata": {},
     "output_type": "execute_result"
    }
   ],
   "source": [
    "df = pd.read_json('./data/bycountry_ds.json')\n",
    "df.shape"
   ]
  },
  {
   "cell_type": "code",
   "execution_count": 11,
   "id": "958781c8",
   "metadata": {
    "pycharm": {
     "name": "#%%\n"
    }
   },
   "outputs": [
    {
     "data": {
      "text/html": [
       "<div>\n",
       "<style scoped>\n",
       "    .dataframe tbody tr th:only-of-type {\n",
       "        vertical-align: middle;\n",
       "    }\n",
       "\n",
       "    .dataframe tbody tr th {\n",
       "        vertical-align: top;\n",
       "    }\n",
       "\n",
       "    .dataframe thead th {\n",
       "        text-align: right;\n",
       "    }\n",
       "</style>\n",
       "<table border=\"1\" class=\"dataframe\">\n",
       "  <thead>\n",
       "    <tr style=\"text-align: right;\">\n",
       "      <th></th>\n",
       "      <th>category</th>\n",
       "      <th>input</th>\n",
       "      <th>output_low</th>\n",
       "      <th>output_medium</th>\n",
       "      <th>output_high</th>\n",
       "    </tr>\n",
       "  </thead>\n",
       "  <tbody>\n",
       "    <tr>\n",
       "      <th>http://dbpedia.org/resource/...All_the_Marbles</th>\n",
       "      <td>[United States]</td>\n",
       "      <td>[0, 0, 0, 0, 0, 0, 0, 0, 0, 0, 0, 0, 0, 0, 0, ...</td>\n",
       "      <td>0</td>\n",
       "      <td>1</td>\n",
       "      <td>0</td>\n",
       "    </tr>\n",
       "    <tr>\n",
       "      <th>http://dbpedia.org/resource/An_Eye_for_an_Eye_(1981_film)</th>\n",
       "      <td>[United States]</td>\n",
       "      <td>[0, 0, 0, 0, 0, 0, 0, 0, 0, 0, 0, 0, 0, 0, 0, ...</td>\n",
       "      <td>0</td>\n",
       "      <td>1</td>\n",
       "      <td>0</td>\n",
       "    </tr>\n",
       "    <tr>\n",
       "      <th>http://dbpedia.org/resource/Brain_Dead_(1990_film)</th>\n",
       "      <td>[United States]</td>\n",
       "      <td>[0, 0, 0, 0, 0, 0, 0, 0, 0, 0, 0, 0, 0, 0, 0, ...</td>\n",
       "      <td>0</td>\n",
       "      <td>1</td>\n",
       "      <td>0</td>\n",
       "    </tr>\n",
       "    <tr>\n",
       "      <th>http://dbpedia.org/resource/For_Pete's_Sake_(film)</th>\n",
       "      <td>[United States]</td>\n",
       "      <td>[0, 0, 0, 0, 0, 0, 0, 0, 0, 0, 0, 0, 0, 0, 0, ...</td>\n",
       "      <td>0</td>\n",
       "      <td>1</td>\n",
       "      <td>0</td>\n",
       "    </tr>\n",
       "    <tr>\n",
       "      <th>http://dbpedia.org/resource/Hannah_Montana:_The_Movie</th>\n",
       "      <td>[United States]</td>\n",
       "      <td>[25, 6677, 48, 2, 138, 5, 331, 1, 7, 25, 6983,...</td>\n",
       "      <td>0</td>\n",
       "      <td>0</td>\n",
       "      <td>1</td>\n",
       "    </tr>\n",
       "  </tbody>\n",
       "</table>\n",
       "</div>"
      ],
      "text/plain": [
       "                                                           category  \\\n",
       "http://dbpedia.org/resource/...All_the_Marbles      [United States]   \n",
       "http://dbpedia.org/resource/An_Eye_for_an_Eye_(...  [United States]   \n",
       "http://dbpedia.org/resource/Brain_Dead_(1990_film)  [United States]   \n",
       "http://dbpedia.org/resource/For_Pete's_Sake_(film)  [United States]   \n",
       "http://dbpedia.org/resource/Hannah_Montana:_The...  [United States]   \n",
       "\n",
       "                                                                                                input  \\\n",
       "http://dbpedia.org/resource/...All_the_Marbles      [0, 0, 0, 0, 0, 0, 0, 0, 0, 0, 0, 0, 0, 0, 0, ...   \n",
       "http://dbpedia.org/resource/An_Eye_for_an_Eye_(...  [0, 0, 0, 0, 0, 0, 0, 0, 0, 0, 0, 0, 0, 0, 0, ...   \n",
       "http://dbpedia.org/resource/Brain_Dead_(1990_film)  [0, 0, 0, 0, 0, 0, 0, 0, 0, 0, 0, 0, 0, 0, 0, ...   \n",
       "http://dbpedia.org/resource/For_Pete's_Sake_(film)  [0, 0, 0, 0, 0, 0, 0, 0, 0, 0, 0, 0, 0, 0, 0, ...   \n",
       "http://dbpedia.org/resource/Hannah_Montana:_The...  [25, 6677, 48, 2, 138, 5, 331, 1, 7, 25, 6983,...   \n",
       "\n",
       "                                                    output_low  output_medium  \\\n",
       "http://dbpedia.org/resource/...All_the_Marbles               0              1   \n",
       "http://dbpedia.org/resource/An_Eye_for_an_Eye_(...           0              1   \n",
       "http://dbpedia.org/resource/Brain_Dead_(1990_film)           0              1   \n",
       "http://dbpedia.org/resource/For_Pete's_Sake_(film)           0              1   \n",
       "http://dbpedia.org/resource/Hannah_Montana:_The...           0              0   \n",
       "\n",
       "                                                    output_high  \n",
       "http://dbpedia.org/resource/...All_the_Marbles                0  \n",
       "http://dbpedia.org/resource/An_Eye_for_an_Eye_(...            0  \n",
       "http://dbpedia.org/resource/Brain_Dead_(1990_film)            0  \n",
       "http://dbpedia.org/resource/For_Pete's_Sake_(film)            0  \n",
       "http://dbpedia.org/resource/Hannah_Montana:_The...            1  "
      ]
     },
     "execution_count": 11,
     "metadata": {},
     "output_type": "execute_result"
    }
   ],
   "source": [
    "df.head()"
   ]
  },
  {
   "cell_type": "code",
   "execution_count": 12,
   "id": "41b5f652",
   "metadata": {
    "pycharm": {
     "name": "#%%\n"
    }
   },
   "outputs": [],
   "source": [
    "from tensorflow import keras"
   ]
  },
  {
   "cell_type": "code",
   "execution_count": 13,
   "id": "74153a31",
   "metadata": {
    "pycharm": {
     "name": "#%%\n"
    }
   },
   "outputs": [],
   "source": [
    "model = keras.models.load_model('./models/bycountry_model')"
   ]
  },
  {
   "cell_type": "code",
   "execution_count": 14,
   "id": "d5170063",
   "metadata": {
    "pycharm": {
     "name": "#%%\n"
    },
    "scrolled": true
   },
   "outputs": [
    {
     "name": "stdout",
     "output_type": "stream",
     "text": [
      "Model: \"sequential\"\n",
      "_________________________________________________________________\n",
      " Layer (type)                Output Shape              Param #   \n",
      "=================================================================\n",
      " embedding (Embedding)       (None, 100, 64)           640000    \n",
      "                                                                 \n",
      " lstm_3 (LSTM)               (None, 32)                12416     \n",
      "                                                                 \n",
      " dense (Dense)               (None, 3)                 99        \n",
      "                                                                 \n",
      "=================================================================\n",
      "Total params: 652,515\n",
      "Trainable params: 652,515\n",
      "Non-trainable params: 0\n",
      "_________________________________________________________________\n"
     ]
    }
   ],
   "source": [
    "model.summary()"
   ]
  },
  {
   "cell_type": "code",
   "execution_count": 15,
   "id": "77ef6ec6",
   "metadata": {
    "pycharm": {
     "name": "#%%\n"
    }
   },
   "outputs": [
    {
     "name": "stdout",
     "output_type": "stream",
     "text": [
      "0 embedding\n",
      "1 lstm_3\n",
      "<function tanh at 0x0000018B01E6A3A0>\n",
      "2 dense\n",
      "<function softmax at 0x0000018B01E665E0>\n"
     ]
    }
   ],
   "source": [
    "for i, layer in enumerate(model.layers):\n",
    "    print(i, layer.name)\n",
    "    if i != 0: # Embedding does not have activation function\n",
    "        print(layer.activation)"
   ]
  },
  {
   "cell_type": "code",
   "execution_count": 16,
   "id": "9a9ad3fb",
   "metadata": {
    "pycharm": {
     "name": "#%%\n"
    }
   },
   "outputs": [],
   "source": [
    "from tensorflow.keras.models import Sequential\n",
    "from tensorflow.keras.layers import Dense, LSTM, Embedding, Dropout"
   ]
  },
  {
   "cell_type": "markdown",
   "id": "ffaccfdd",
   "metadata": {
    "pycharm": {
     "name": "#%% md\n"
    }
   },
   "source": [
    "Building a recomposed model"
   ]
  },
  {
   "cell_type": "code",
   "execution_count": 17,
   "id": "96415279",
   "metadata": {
    "pycharm": {
     "name": "#%%\n"
    }
   },
   "outputs": [],
   "source": [
    "layer_to_explore = 0"
   ]
  },
  {
   "cell_type": "code",
   "execution_count": 18,
   "id": "5ce44629",
   "metadata": {
    "pycharm": {
     "name": "#%%\n"
    }
   },
   "outputs": [
    {
     "name": "stdout",
     "output_type": "stream",
     "text": [
      "Adding layer 0\n",
      "Model: \"sequential\"\n",
      "_________________________________________________________________\n",
      " Layer (type)                Output Shape              Param #   \n",
      "=================================================================\n",
      " embedding (Embedding)       (None, 100, 64)           640000    \n",
      "                                                                 \n",
      "=================================================================\n",
      "Total params: 640,000\n",
      "Trainable params: 640,000\n",
      "Non-trainable params: 0\n",
      "_________________________________________________________________\n"
     ]
    }
   ],
   "source": [
    "model2 = Sequential()\n",
    "\n",
    "for i in range(len(model.layers)):\n",
    "    if i < layer_to_explore + 1:\n",
    "        print(f\"Adding layer {i}\")\n",
    "        model2.add(model.layers[i])\n",
    "        \n",
    "model2.summary()"
   ]
  },
  {
   "cell_type": "markdown",
   "id": "d53319f5",
   "metadata": {
    "pycharm": {
     "name": "#%% md\n"
    }
   },
   "source": [
    "Format for the input to be passed to model.predict"
   ]
  },
  {
   "cell_type": "code",
   "execution_count": 19,
   "id": "0c54790c",
   "metadata": {
    "pycharm": {
     "name": "#%%\n"
    }
   },
   "outputs": [
    {
     "data": {
      "text/plain": [
       "(17403, 100)"
      ]
     },
     "execution_count": 19,
     "metadata": {},
     "output_type": "execute_result"
    }
   ],
   "source": [
    "inputs = []\n",
    "for i in range(len(df.input)):\n",
    "    inputs.append(np.array(df.input.iloc[i]))\n",
    "\n",
    "inputs = np.array(inputs)\n",
    "inputs.shape"
   ]
  },
  {
   "cell_type": "code",
   "execution_count": 20,
   "id": "6979d454",
   "metadata": {
    "pycharm": {
     "name": "#%%\n"
    }
   },
   "outputs": [
    {
     "name": "stdout",
     "output_type": "stream",
     "text": [
      "544/544 [==============================] - 1s 1ms/step\n"
     ]
    },
    {
     "data": {
      "text/plain": [
       "array([[[ 0.03974721, -0.01969532, -0.03421203, ..., -0.0004223 ,\n",
       "          0.0011404 ,  0.08591275],\n",
       "        [ 0.03974721, -0.01969532, -0.03421203, ..., -0.0004223 ,\n",
       "          0.0011404 ,  0.08591275],\n",
       "        [ 0.03974721, -0.01969532, -0.03421203, ..., -0.0004223 ,\n",
       "          0.0011404 ,  0.08591275],\n",
       "        ...,\n",
       "        [-0.04529711, -0.03400601,  0.01857534, ...,  0.02998969,\n",
       "          0.02016949, -0.00056641],\n",
       "        [-0.01474597, -0.04339802,  0.01841702, ...,  0.04422619,\n",
       "         -0.07639269,  0.08313026],\n",
       "        [-0.03443238, -0.0105089 ,  0.05758018, ...,  0.0113349 ,\n",
       "          0.06457688,  0.0321545 ]],\n",
       "\n",
       "       [[ 0.03974721, -0.01969532, -0.03421203, ..., -0.0004223 ,\n",
       "          0.0011404 ,  0.08591275],\n",
       "        [ 0.03974721, -0.01969532, -0.03421203, ..., -0.0004223 ,\n",
       "          0.0011404 ,  0.08591275],\n",
       "        [ 0.03974721, -0.01969532, -0.03421203, ..., -0.0004223 ,\n",
       "          0.0011404 ,  0.08591275],\n",
       "        ...,\n",
       "        [ 0.01513298, -0.03770915, -0.03066242, ..., -0.01248638,\n",
       "          0.03348966, -0.09291409],\n",
       "        [-0.00131787,  0.07299867,  0.0504068 , ..., -0.04151214,\n",
       "         -0.07215175,  0.00025167],\n",
       "        [-0.04309957, -0.04786665,  0.01945728, ..., -0.02479992,\n",
       "          0.06116972,  0.01434513]],\n",
       "\n",
       "       [[ 0.03974721, -0.01969532, -0.03421203, ..., -0.0004223 ,\n",
       "          0.0011404 ,  0.08591275],\n",
       "        [ 0.03974721, -0.01969532, -0.03421203, ..., -0.0004223 ,\n",
       "          0.0011404 ,  0.08591275],\n",
       "        [ 0.03974721, -0.01969532, -0.03421203, ..., -0.0004223 ,\n",
       "          0.0011404 ,  0.08591275],\n",
       "        ...,\n",
       "        [-0.00393985,  0.02806127,  0.0330717 , ...,  0.04950216,\n",
       "          0.01935902, -0.01001856],\n",
       "        [-0.04990508, -0.04687634, -0.0215791 , ...,  0.03829369,\n",
       "          0.01874041, -0.081048  ],\n",
       "        [ 0.12834173, -0.06352377,  0.02975387, ..., -0.02653576,\n",
       "         -0.08562071, -0.01191955]],\n",
       "\n",
       "       ...,\n",
       "\n",
       "       [[ 0.03974721, -0.01969532, -0.03421203, ..., -0.0004223 ,\n",
       "          0.0011404 ,  0.08591275],\n",
       "        [ 0.03974721, -0.01969532, -0.03421203, ..., -0.0004223 ,\n",
       "          0.0011404 ,  0.08591275],\n",
       "        [ 0.03974721, -0.01969532, -0.03421203, ..., -0.0004223 ,\n",
       "          0.0011404 ,  0.08591275],\n",
       "        ...,\n",
       "        [ 0.11979214, -0.20556505, -0.10238527, ...,  0.10340957,\n",
       "         -0.1152216 , -0.02983778],\n",
       "        [ 0.09676605, -0.07328958, -0.02578007, ...,  0.05157114,\n",
       "         -0.05994465, -0.02624149],\n",
       "        [ 0.00895922,  0.08250994,  0.06805609, ..., -0.0411225 ,\n",
       "         -0.03316772,  0.06730584]],\n",
       "\n",
       "       [[ 0.03974721, -0.01969532, -0.03421203, ..., -0.0004223 ,\n",
       "          0.0011404 ,  0.08591275],\n",
       "        [ 0.03974721, -0.01969532, -0.03421203, ..., -0.0004223 ,\n",
       "          0.0011404 ,  0.08591275],\n",
       "        [ 0.03974721, -0.01969532, -0.03421203, ..., -0.0004223 ,\n",
       "          0.0011404 ,  0.08591275],\n",
       "        ...,\n",
       "        [-0.0122092 , -0.03787209, -0.04847671, ...,  0.05571109,\n",
       "         -0.05844788,  0.0138105 ],\n",
       "        [-0.05565671,  0.08828702,  0.04402608, ..., -0.03397422,\n",
       "         -0.01613035, -0.06353335],\n",
       "        [ 0.03938504,  0.02111584, -0.00566506, ...,  0.09423741,\n",
       "         -0.03262352,  0.06749546]],\n",
       "\n",
       "       [[ 0.03974721, -0.01969532, -0.03421203, ..., -0.0004223 ,\n",
       "          0.0011404 ,  0.08591275],\n",
       "        [ 0.03974721, -0.01969532, -0.03421203, ..., -0.0004223 ,\n",
       "          0.0011404 ,  0.08591275],\n",
       "        [ 0.03974721, -0.01969532, -0.03421203, ..., -0.0004223 ,\n",
       "          0.0011404 ,  0.08591275],\n",
       "        ...,\n",
       "        [ 0.09800611, -0.01456383,  0.02335821, ..., -0.01959869,\n",
       "         -0.03921679, -0.06558701],\n",
       "        [-0.01610515,  0.08450573,  0.07559892, ..., -0.0345804 ,\n",
       "          0.0404539 ,  0.05871983],\n",
       "        [-0.13888569,  0.01539506,  0.07995451, ..., -0.0627111 ,\n",
       "          0.09051562,  0.01329379]]], dtype=float32)"
      ]
     },
     "execution_count": 20,
     "metadata": {},
     "output_type": "execute_result"
    }
   ],
   "source": [
    "model2.predict(inputs)"
   ]
  },
  {
   "cell_type": "markdown",
   "id": "9ae80218",
   "metadata": {
    "pycharm": {
     "name": "#%% md\n"
    }
   },
   "source": [
    "## Getting all the unique categories"
   ]
  },
  {
   "cell_type": "code",
   "execution_count": 21,
   "id": "c5f6c990",
   "metadata": {
    "pycharm": {
     "name": "#%%\n"
    }
   },
   "outputs": [],
   "source": [
    "# Need to check if the country is real\n",
    "def get_unique_categories(df):\n",
    "    unique_categories = []\n",
    "    for i in range(len(df.category)):\n",
    "        for cat in df.category[i]:\n",
    "            if cat not in unique_categories and cat != '':\n",
    "                unique_categories.append(cat)\n",
    "                \n",
    "    return unique_categories\n",
    "\n",
    "def get_popular_categories(df, thresh=500):\n",
    "    categories = get_unique_categories(df)\n",
    "    \n",
    "    dic = {}\n",
    "    for category in categories:\n",
    "        dic[category] = len(df[df.category.apply(lambda x: category in x)])\n",
    "        \n",
    "    return_dic = {c: n for c, n in dic.items() if n >= thresh}\n",
    "    \n",
    "    return sorted(return_dic.items(), key=lambda x: x[1], reverse=True) # Return sorted dictionary"
   ]
  },
  {
   "cell_type": "code",
   "execution_count": 22,
   "id": "9a839ab2",
   "metadata": {
    "pycharm": {
     "name": "#%%\n"
    },
    "scrolled": true
   },
   "outputs": [
    {
     "data": {
      "text/plain": [
       "['United States',\n",
       " 'France',\n",
       " 'Australia',\n",
       " 'United Kingdom',\n",
       " 'Mexico',\n",
       " 'Argentina',\n",
       " 'Italy',\n",
       " 'Spain',\n",
       " 'United States, Mexico',\n",
       " 'Belgium',\n",
       " 'Germany',\n",
       " 'Brazil',\n",
       " 'Japan',\n",
       " 'Lebanon',\n",
       " 'Ireland',\n",
       " 'Canada',\n",
       " 'Luxembourg',\n",
       " 'West Germany',\n",
       " 'USA',\n",
       " 'Russia',\n",
       " 'China',\n",
       " 'Serbia',\n",
       " 'Indonesia',\n",
       " 'Hong Kong',\n",
       " 'Switzerland',\n",
       " 'Armenia',\n",
       " 'Austria',\n",
       " 'India',\n",
       " 'Iran',\n",
       " 'Taiwan',\n",
       " 'Soviet Union',\n",
       " 'South Africa',\n",
       " 'Romania',\n",
       " 'South Korea',\n",
       " 'Cambodia',\n",
       " 'Netherlands',\n",
       " 'Sweden',\n",
       " 'Singapore',\n",
       " 'Poland',\n",
       " 'Norway',\n",
       " 'Mali',\n",
       " 'Czech Republic',\n",
       " 'Denmark',\n",
       " 'New Zealand',\n",
       " 'Lithuania',\n",
       " 'Jordan',\n",
       " 'Hungary',\n",
       " 'United States/Mexico',\n",
       " 'Yugoslavia',\n",
       " 'Italy, France',\n",
       " 'Colombia',\n",
       " 'Monaco',\n",
       " 'Syria',\n",
       " 'Slovakia',\n",
       " 'Ukraine',\n",
       " 'Morocco',\n",
       " 'Pakistan',\n",
       " 'Thailand',\n",
       " 'Israel',\n",
       " 'Mainland China',\n",
       " 'Bulgaria',\n",
       " 'Portugal',\n",
       " 'Nigeria',\n",
       " 'Chile',\n",
       " 'Peru',\n",
       " 'Iceland',\n",
       " 'Algeria',\n",
       " 'Tunisia',\n",
       " 'Greece',\n",
       " 'Malaysia',\n",
       " 'Cameroon',\n",
       " 'Kenya',\n",
       " 'Vietnam',\n",
       " 'Japan, United States',\n",
       " 'Puerto Rico',\n",
       " 'Finland',\n",
       " 'Kuwait',\n",
       " 'Libya',\n",
       " 'Paraguay',\n",
       " 'Turkey',\n",
       " 'Panama',\n",
       " 'Terrebonne',\n",
       " 'Saudi Arabia',\n",
       " 'UK / France',\n",
       " 'Czechoslovakia',\n",
       " 'France, Germany, Spain',\n",
       " 'Burkina Faso',\n",
       " 'France, Belgium',\n",
       " 'Italy, United States',\n",
       " 'United Arab Emirates',\n",
       " 'United States, Canada',\n",
       " 'Georgia',\n",
       " 'Spain, Portugal',\n",
       " 'Indonesia, Ecuador',\n",
       " 'Netherlands, Ireland',\n",
       " 'Poland, Pakistan',\n",
       " 'USA, Tanzania',\n",
       " 'Venezuela',\n",
       " 'Cuba',\n",
       " 'United States of America',\n",
       " 'United Kingdom \\nUnited States',\n",
       " 'Scotland',\n",
       " 'United states',\n",
       " 'France / Italy',\n",
       " 'United States / Israel',\n",
       " 'France/Italy',\n",
       " 'Sweden, Denmark, Italy',\n",
       " 'Liechtenstein',\n",
       " 'UK',\n",
       " 'Egypt',\n",
       " 'Italy/France',\n",
       " 'East Germany',\n",
       " '* Spain\\n* United Kingdom',\n",
       " 'United Kingdom, United States',\n",
       " 'Russia, Ukraine',\n",
       " 'Croatia',\n",
       " 'Bosnia and Herzegovina',\n",
       " 'Macedonia',\n",
       " 'Italy / France',\n",
       " 'Qatar',\n",
       " 'Cayman Islands',\n",
       " 'Malta',\n",
       " '*United States\\n*Russia',\n",
       " 'Albania',\n",
       " 'United Kingdom United States',\n",
       " 'Myanmar',\n",
       " 'Madagascar',\n",
       " 'Greenland',\n",
       " 'Mongolia',\n",
       " 'United Kingdom, Canada',\n",
       " 'France-Italy',\n",
       " 'Germany, United States',\n",
       " 'FR Yugoslavia',\n",
       " 'United Statesref|Fight Club, a film by the American studio 20th Century Fox, is often found in databases and related summaries to have the countries US and Germany, the latter being ascribable to the role of international funding.|group=\"nb\"',\n",
       " 'United Kingdom, United States, Japan',\n",
       " 'English',\n",
       " 'U.S',\n",
       " 'South Korean',\n",
       " 'US',\n",
       " 'Palestine',\n",
       " 'United States, France',\n",
       " 'Afghanistan',\n",
       " '* United States\\n* Canada',\n",
       " 'Iraq',\n",
       " 'France / Germany',\n",
       " 'CanadaFranceGermanySpainPortugal',\n",
       " 'Hong Kong/Thailand',\n",
       " 'Bangladesh',\n",
       " 'Senegal / France / Burkina Faso / Cameroon / Morocco / Tunisia',\n",
       " 'Kazakhstan',\n",
       " 'CanadaKuwait',\n",
       " 'Sweden, Denmark',\n",
       " 'United Kingdom / Zimbabwe',\n",
       " 'United Kingdom / Republic of South Africa',\n",
       " 'Hungary, West Germany, Austria',\n",
       " 'Canada, U.K.',\n",
       " 'U.S.',\n",
       " 'Israel,',\n",
       " 'Wales',\n",
       " '\"afi\" />',\n",
       " 'El Salvador',\n",
       " 'Republic of Ireland',\n",
       " 'Germany/Canada',\n",
       " 'SFR Yugoslavia',\n",
       " 'Dominican Republic',\n",
       " 'Germany, Israel',\n",
       " 'Germany, Switzerland',\n",
       " 'United Kingdom / France',\n",
       " 'United States/United Kingdom',\n",
       " 'Northern Ireland',\n",
       " 'Tamil Nadu',\n",
       " 'United States/Canada',\n",
       " 'Philippines',\n",
       " 'The Bahamas',\n",
       " 'Switzerland/Germany/South Africa',\n",
       " 'Great Britain',\n",
       " 'Germany, France, Ireland',\n",
       " 'Germany / United Kingdom',\n",
       " 'United Stades',\n",
       " 'United Kingdom / France / Italy',\n",
       " 'Ecuador',\n",
       " 'Canada / United Kingdom / France',\n",
       " '* United States\\n* Germany\\n* United Kingdom\\n* India',\n",
       " 'Mainland China and Taiwan',\n",
       " 'PhilippinesFrance',\n",
       " 'Finland / Sweden / UK',\n",
       " 'United States, India',\n",
       " 'Australia and New Zealand co-production',\n",
       " 'Taiwanese',\n",
       " 'America',\n",
       " 'British Hong Kong',\n",
       " 'Russian',\n",
       " 'Estonia',\n",
       " 'Latvia',\n",
       " 'Senegal',\n",
       " 'Yemen',\n",
       " 'North Macedonia',\n",
       " 'Uruguay',\n",
       " 'Slovenia',\n",
       " 'Mozambique',\n",
       " 'Korea',\n",
       " 'Australia, Italy',\n",
       " 'United States, Russia',\n",
       " 'Zambia',\n",
       " 'Sri Lanka',\n",
       " 'Switzerland / United States',\n",
       " 'Australian',\n",
       " 'Spanish',\n",
       " 'Belarus',\n",
       " 'Guatemala',\n",
       " 'Canada, France',\n",
       " 'Guinea',\n",
       " 'Unites States',\n",
       " 'Botswana',\n",
       " 'Hong Kong, China',\n",
       " 'French',\n",
       " 'Ethiopia',\n",
       " 'Nepal']"
      ]
     },
     "execution_count": 22,
     "metadata": {},
     "output_type": "execute_result"
    }
   ],
   "source": [
    "get_unique_categories(df)"
   ]
  },
  {
   "cell_type": "code",
   "execution_count": 23,
   "id": "2c02d828",
   "metadata": {
    "pycharm": {
     "name": "#%%\n"
    }
   },
   "outputs": [
    {
     "data": {
      "text/plain": [
       "[('United States', 10734),\n",
       " ('United Kingdom', 1757),\n",
       " ('France', 1725),\n",
       " ('Hong Kong', 804),\n",
       " ('Australia', 592),\n",
       " ('Japan', 580),\n",
       " ('China', 567)]"
      ]
     },
     "execution_count": 23,
     "metadata": {},
     "output_type": "execute_result"
    }
   ],
   "source": [
    "get_popular_categories(df)"
   ]
  },
  {
   "cell_type": "markdown",
   "id": "4eaf9399",
   "metadata": {
    "pycharm": {
     "name": "#%% md\n"
    }
   },
   "source": [
    "## Getting inputs for a specific category"
   ]
  },
  {
   "cell_type": "code",
   "execution_count": 24,
   "id": "c2f6456c",
   "metadata": {
    "pycharm": {
     "name": "#%%\n"
    }
   },
   "outputs": [],
   "source": [
    "def get_inputs_for_cat(category, df):\n",
    "    raw_inputs = df[df.category.apply(lambda x: category in x)].input\n",
    "    inputs = []\n",
    "    for i in range(len(raw_inputs)):\n",
    "        inputs.append(raw_inputs[i])\n",
    "    return np.array(inputs)"
   ]
  },
  {
   "cell_type": "code",
   "execution_count": 25,
   "id": "f418e0d8",
   "metadata": {
    "pycharm": {
     "name": "#%%\n"
    }
   },
   "outputs": [
    {
     "data": {
      "text/plain": [
       "array([[   0,    0,    0, ...,  108,   23,  192],\n",
       "       [   0,    0,    0, ..., 1372,  287,  121],\n",
       "       [   0,    0,    0, ...,    9,  141, 2048],\n",
       "       ...,\n",
       "       [   0,    0,    0, ...,   22,  608, 1051],\n",
       "       [   0,    0,    0, ...,   99,   24,   26],\n",
       "       [   0,    0,    0, ...,  101, 3619, 1568]])"
      ]
     },
     "execution_count": 25,
     "metadata": {},
     "output_type": "execute_result"
    }
   ],
   "source": [
    "get_inputs_for_cat('France', df)"
   ]
  },
  {
   "cell_type": "markdown",
   "id": "fdfdc619",
   "metadata": {
    "pycharm": {
     "name": "#%% md\n"
    }
   },
   "source": [
    "## Getting all activations and standardize the DataFrame"
   ]
  },
  {
   "cell_type": "code",
   "execution_count": 26,
   "id": "154d6228",
   "metadata": {
    "pycharm": {
     "name": "#%%\n"
    }
   },
   "outputs": [],
   "source": [
    "def standardize(df):\n",
    "    \"\"\"\n",
    "    Standardize the whole dataframe\n",
    "    \"\"\"\n",
    "    df_s = df.copy()\n",
    "    for col in df:\n",
    "        if \"neuron\" in col:\n",
    "            df_s[col] = (df[col] - df[col].mean()) / df[col].std()\n",
    "\n",
    "    return df_s"
   ]
  },
  {
   "cell_type": "code",
   "execution_count": 29,
   "id": "2fd7a552",
   "metadata": {
    "pycharm": {
     "name": "#%%\n"
    }
   },
   "outputs": [],
   "source": [
    "def get_all_activations(df, model):\n",
    "    new_df = pd.DataFrame()\n",
    "    \n",
    "    raw_inputs = df.input\n",
    "    inputs = []\n",
    "    for i in range(len(raw_inputs)):\n",
    "        inputs.append(raw_inputs[i])\n",
    "    \n",
    "    new_df['category'] = df.category\n",
    "    new_df['input'] = df.input\n",
    "    new_df['output_low'] = df.output_low\n",
    "    new_df['output_medium'] = df.output_medium\n",
    "    new_df['output_high'] = df.output_high\n",
    "\n",
    "    activations = model.predict(inputs)\n",
    "    \n",
    "    if isinstance(model.layers[-1], Embedding):\n",
    "        mean_activations = []\n",
    "        for a in activations:\n",
    "            mean_activations.append(pd.DataFrame(a).mean())\n",
    "        activations = np.array(mean_activations)\n",
    "    \n",
    "    for neuron_index, value_list in enumerate(activations.T):\n",
    "        index = f\"neuron_{neuron_index + 1}\"\n",
    "        new_df[index] = value_list\n",
    "    \n",
    "    return standardize(new_df)"
   ]
  },
  {
   "cell_type": "code",
   "execution_count": 30,
   "id": "1aec8e8d",
   "metadata": {
    "pycharm": {
     "name": "#%%\n"
    },
    "scrolled": true
   },
   "outputs": [
    {
     "name": "stdout",
     "output_type": "stream",
     "text": [
      "544/544 [==============================] - 1s 1ms/step\n"
     ]
    }
   ],
   "source": [
    "df_act = get_all_activations(df, model2)"
   ]
  },
  {
   "cell_type": "code",
   "execution_count": 31,
   "id": "cf8a81ff",
   "metadata": {
    "pycharm": {
     "name": "#%%\n"
    }
   },
   "outputs": [
    {
     "data": {
      "text/html": [
       "<div>\n",
       "<style scoped>\n",
       "    .dataframe tbody tr th:only-of-type {\n",
       "        vertical-align: middle;\n",
       "    }\n",
       "\n",
       "    .dataframe tbody tr th {\n",
       "        vertical-align: top;\n",
       "    }\n",
       "\n",
       "    .dataframe thead th {\n",
       "        text-align: right;\n",
       "    }\n",
       "</style>\n",
       "<table border=\"1\" class=\"dataframe\">\n",
       "  <thead>\n",
       "    <tr style=\"text-align: right;\">\n",
       "      <th></th>\n",
       "      <th>category</th>\n",
       "      <th>input</th>\n",
       "      <th>output_low</th>\n",
       "      <th>output_medium</th>\n",
       "      <th>output_high</th>\n",
       "      <th>neuron_1</th>\n",
       "      <th>neuron_2</th>\n",
       "      <th>neuron_3</th>\n",
       "      <th>neuron_4</th>\n",
       "      <th>neuron_5</th>\n",
       "      <th>...</th>\n",
       "      <th>neuron_55</th>\n",
       "      <th>neuron_56</th>\n",
       "      <th>neuron_57</th>\n",
       "      <th>neuron_58</th>\n",
       "      <th>neuron_59</th>\n",
       "      <th>neuron_60</th>\n",
       "      <th>neuron_61</th>\n",
       "      <th>neuron_62</th>\n",
       "      <th>neuron_63</th>\n",
       "      <th>neuron_64</th>\n",
       "    </tr>\n",
       "  </thead>\n",
       "  <tbody>\n",
       "    <tr>\n",
       "      <th>http://dbpedia.org/resource/...All_the_Marbles</th>\n",
       "      <td>[United States]</td>\n",
       "      <td>[0, 0, 0, 0, 0, 0, 0, 0, 0, 0, 0, 0, 0, 0, 0, ...</td>\n",
       "      <td>0</td>\n",
       "      <td>1</td>\n",
       "      <td>0</td>\n",
       "      <td>0.559446</td>\n",
       "      <td>-0.626746</td>\n",
       "      <td>-0.417425</td>\n",
       "      <td>0.138396</td>\n",
       "      <td>-0.136656</td>\n",
       "      <td>...</td>\n",
       "      <td>-0.305144</td>\n",
       "      <td>0.257885</td>\n",
       "      <td>0.606571</td>\n",
       "      <td>-0.417875</td>\n",
       "      <td>0.242642</td>\n",
       "      <td>0.388801</td>\n",
       "      <td>0.322166</td>\n",
       "      <td>1.351504</td>\n",
       "      <td>-0.384197</td>\n",
       "      <td>0.361185</td>\n",
       "    </tr>\n",
       "    <tr>\n",
       "      <th>http://dbpedia.org/resource/An_Eye_for_an_Eye_(1981_film)</th>\n",
       "      <td>[United States]</td>\n",
       "      <td>[0, 0, 0, 0, 0, 0, 0, 0, 0, 0, 0, 0, 0, 0, 0, ...</td>\n",
       "      <td>0</td>\n",
       "      <td>1</td>\n",
       "      <td>0</td>\n",
       "      <td>0.884020</td>\n",
       "      <td>-0.341018</td>\n",
       "      <td>-0.691006</td>\n",
       "      <td>-0.001622</td>\n",
       "      <td>-0.012691</td>\n",
       "      <td>...</td>\n",
       "      <td>-0.148851</td>\n",
       "      <td>-0.699400</td>\n",
       "      <td>0.874093</td>\n",
       "      <td>-0.785004</td>\n",
       "      <td>1.101952</td>\n",
       "      <td>-0.434895</td>\n",
       "      <td>0.854354</td>\n",
       "      <td>-0.740948</td>\n",
       "      <td>0.159677</td>\n",
       "      <td>0.775867</td>\n",
       "    </tr>\n",
       "    <tr>\n",
       "      <th>http://dbpedia.org/resource/Brain_Dead_(1990_film)</th>\n",
       "      <td>[United States]</td>\n",
       "      <td>[0, 0, 0, 0, 0, 0, 0, 0, 0, 0, 0, 0, 0, 0, 0, ...</td>\n",
       "      <td>0</td>\n",
       "      <td>1</td>\n",
       "      <td>0</td>\n",
       "      <td>0.924017</td>\n",
       "      <td>-0.841655</td>\n",
       "      <td>-1.086050</td>\n",
       "      <td>1.307938</td>\n",
       "      <td>-0.056966</td>\n",
       "      <td>...</td>\n",
       "      <td>-1.214888</td>\n",
       "      <td>0.146180</td>\n",
       "      <td>1.186676</td>\n",
       "      <td>-0.520141</td>\n",
       "      <td>0.669142</td>\n",
       "      <td>0.442470</td>\n",
       "      <td>1.153972</td>\n",
       "      <td>-0.018434</td>\n",
       "      <td>-0.007657</td>\n",
       "      <td>1.178281</td>\n",
       "    </tr>\n",
       "    <tr>\n",
       "      <th>http://dbpedia.org/resource/For_Pete's_Sake_(film)</th>\n",
       "      <td>[United States]</td>\n",
       "      <td>[0, 0, 0, 0, 0, 0, 0, 0, 0, 0, 0, 0, 0, 0, 0, ...</td>\n",
       "      <td>0</td>\n",
       "      <td>1</td>\n",
       "      <td>0</td>\n",
       "      <td>0.940986</td>\n",
       "      <td>-1.002291</td>\n",
       "      <td>-0.812359</td>\n",
       "      <td>0.176989</td>\n",
       "      <td>-0.184155</td>\n",
       "      <td>...</td>\n",
       "      <td>-0.764838</td>\n",
       "      <td>0.182817</td>\n",
       "      <td>0.906534</td>\n",
       "      <td>-0.821189</td>\n",
       "      <td>0.889162</td>\n",
       "      <td>0.313685</td>\n",
       "      <td>0.981176</td>\n",
       "      <td>-0.241054</td>\n",
       "      <td>0.798173</td>\n",
       "      <td>1.116786</td>\n",
       "    </tr>\n",
       "    <tr>\n",
       "      <th>http://dbpedia.org/resource/Hannah_Montana:_The_Movie</th>\n",
       "      <td>[United States]</td>\n",
       "      <td>[25, 6677, 48, 2, 138, 5, 331, 1, 7, 25, 6983,...</td>\n",
       "      <td>0</td>\n",
       "      <td>0</td>\n",
       "      <td>1</td>\n",
       "      <td>-1.907907</td>\n",
       "      <td>2.399191</td>\n",
       "      <td>2.257580</td>\n",
       "      <td>-0.623897</td>\n",
       "      <td>0.844510</td>\n",
       "      <td>...</td>\n",
       "      <td>1.734569</td>\n",
       "      <td>-3.226828</td>\n",
       "      <td>-2.479399</td>\n",
       "      <td>2.344262</td>\n",
       "      <td>-1.660769</td>\n",
       "      <td>-1.299489</td>\n",
       "      <td>-2.022695</td>\n",
       "      <td>0.434185</td>\n",
       "      <td>-0.665651</td>\n",
       "      <td>-1.535369</td>\n",
       "    </tr>\n",
       "  </tbody>\n",
       "</table>\n",
       "<p>5 rows × 69 columns</p>\n",
       "</div>"
      ],
      "text/plain": [
       "                                                           category  \\\n",
       "http://dbpedia.org/resource/...All_the_Marbles      [United States]   \n",
       "http://dbpedia.org/resource/An_Eye_for_an_Eye_(...  [United States]   \n",
       "http://dbpedia.org/resource/Brain_Dead_(1990_film)  [United States]   \n",
       "http://dbpedia.org/resource/For_Pete's_Sake_(film)  [United States]   \n",
       "http://dbpedia.org/resource/Hannah_Montana:_The...  [United States]   \n",
       "\n",
       "                                                                                                input  \\\n",
       "http://dbpedia.org/resource/...All_the_Marbles      [0, 0, 0, 0, 0, 0, 0, 0, 0, 0, 0, 0, 0, 0, 0, ...   \n",
       "http://dbpedia.org/resource/An_Eye_for_an_Eye_(...  [0, 0, 0, 0, 0, 0, 0, 0, 0, 0, 0, 0, 0, 0, 0, ...   \n",
       "http://dbpedia.org/resource/Brain_Dead_(1990_film)  [0, 0, 0, 0, 0, 0, 0, 0, 0, 0, 0, 0, 0, 0, 0, ...   \n",
       "http://dbpedia.org/resource/For_Pete's_Sake_(film)  [0, 0, 0, 0, 0, 0, 0, 0, 0, 0, 0, 0, 0, 0, 0, ...   \n",
       "http://dbpedia.org/resource/Hannah_Montana:_The...  [25, 6677, 48, 2, 138, 5, 331, 1, 7, 25, 6983,...   \n",
       "\n",
       "                                                    output_low  output_medium  \\\n",
       "http://dbpedia.org/resource/...All_the_Marbles               0              1   \n",
       "http://dbpedia.org/resource/An_Eye_for_an_Eye_(...           0              1   \n",
       "http://dbpedia.org/resource/Brain_Dead_(1990_film)           0              1   \n",
       "http://dbpedia.org/resource/For_Pete's_Sake_(film)           0              1   \n",
       "http://dbpedia.org/resource/Hannah_Montana:_The...           0              0   \n",
       "\n",
       "                                                    output_high  neuron_1  \\\n",
       "http://dbpedia.org/resource/...All_the_Marbles                0  0.559446   \n",
       "http://dbpedia.org/resource/An_Eye_for_an_Eye_(...            0  0.884020   \n",
       "http://dbpedia.org/resource/Brain_Dead_(1990_film)            0  0.924017   \n",
       "http://dbpedia.org/resource/For_Pete's_Sake_(film)            0  0.940986   \n",
       "http://dbpedia.org/resource/Hannah_Montana:_The...            1 -1.907907   \n",
       "\n",
       "                                                    neuron_2  neuron_3  \\\n",
       "http://dbpedia.org/resource/...All_the_Marbles     -0.626746 -0.417425   \n",
       "http://dbpedia.org/resource/An_Eye_for_an_Eye_(... -0.341018 -0.691006   \n",
       "http://dbpedia.org/resource/Brain_Dead_(1990_film) -0.841655 -1.086050   \n",
       "http://dbpedia.org/resource/For_Pete's_Sake_(film) -1.002291 -0.812359   \n",
       "http://dbpedia.org/resource/Hannah_Montana:_The...  2.399191  2.257580   \n",
       "\n",
       "                                                    neuron_4  neuron_5  ...  \\\n",
       "http://dbpedia.org/resource/...All_the_Marbles      0.138396 -0.136656  ...   \n",
       "http://dbpedia.org/resource/An_Eye_for_an_Eye_(... -0.001622 -0.012691  ...   \n",
       "http://dbpedia.org/resource/Brain_Dead_(1990_film)  1.307938 -0.056966  ...   \n",
       "http://dbpedia.org/resource/For_Pete's_Sake_(film)  0.176989 -0.184155  ...   \n",
       "http://dbpedia.org/resource/Hannah_Montana:_The... -0.623897  0.844510  ...   \n",
       "\n",
       "                                                    neuron_55  neuron_56  \\\n",
       "http://dbpedia.org/resource/...All_the_Marbles      -0.305144   0.257885   \n",
       "http://dbpedia.org/resource/An_Eye_for_an_Eye_(...  -0.148851  -0.699400   \n",
       "http://dbpedia.org/resource/Brain_Dead_(1990_film)  -1.214888   0.146180   \n",
       "http://dbpedia.org/resource/For_Pete's_Sake_(film)  -0.764838   0.182817   \n",
       "http://dbpedia.org/resource/Hannah_Montana:_The...   1.734569  -3.226828   \n",
       "\n",
       "                                                    neuron_57  neuron_58  \\\n",
       "http://dbpedia.org/resource/...All_the_Marbles       0.606571  -0.417875   \n",
       "http://dbpedia.org/resource/An_Eye_for_an_Eye_(...   0.874093  -0.785004   \n",
       "http://dbpedia.org/resource/Brain_Dead_(1990_film)   1.186676  -0.520141   \n",
       "http://dbpedia.org/resource/For_Pete's_Sake_(film)   0.906534  -0.821189   \n",
       "http://dbpedia.org/resource/Hannah_Montana:_The...  -2.479399   2.344262   \n",
       "\n",
       "                                                    neuron_59  neuron_60  \\\n",
       "http://dbpedia.org/resource/...All_the_Marbles       0.242642   0.388801   \n",
       "http://dbpedia.org/resource/An_Eye_for_an_Eye_(...   1.101952  -0.434895   \n",
       "http://dbpedia.org/resource/Brain_Dead_(1990_film)   0.669142   0.442470   \n",
       "http://dbpedia.org/resource/For_Pete's_Sake_(film)   0.889162   0.313685   \n",
       "http://dbpedia.org/resource/Hannah_Montana:_The...  -1.660769  -1.299489   \n",
       "\n",
       "                                                    neuron_61  neuron_62  \\\n",
       "http://dbpedia.org/resource/...All_the_Marbles       0.322166   1.351504   \n",
       "http://dbpedia.org/resource/An_Eye_for_an_Eye_(...   0.854354  -0.740948   \n",
       "http://dbpedia.org/resource/Brain_Dead_(1990_film)   1.153972  -0.018434   \n",
       "http://dbpedia.org/resource/For_Pete's_Sake_(film)   0.981176  -0.241054   \n",
       "http://dbpedia.org/resource/Hannah_Montana:_The...  -2.022695   0.434185   \n",
       "\n",
       "                                                    neuron_63  neuron_64  \n",
       "http://dbpedia.org/resource/...All_the_Marbles      -0.384197   0.361185  \n",
       "http://dbpedia.org/resource/An_Eye_for_an_Eye_(...   0.159677   0.775867  \n",
       "http://dbpedia.org/resource/Brain_Dead_(1990_film)  -0.007657   1.178281  \n",
       "http://dbpedia.org/resource/For_Pete's_Sake_(film)   0.798173   1.116786  \n",
       "http://dbpedia.org/resource/Hannah_Montana:_The...  -0.665651  -1.535369  \n",
       "\n",
       "[5 rows x 69 columns]"
      ]
     },
     "execution_count": 31,
     "metadata": {},
     "output_type": "execute_result"
    }
   ],
   "source": [
    "df_act.head()"
   ]
  },
  {
   "cell_type": "code",
   "execution_count": 32,
   "id": "8336d5de",
   "metadata": {
    "pycharm": {
     "name": "#%%\n"
    }
   },
   "outputs": [],
   "source": [
    "c = \"France\"\n",
    "\n",
    "df_s = df_act.copy()"
   ]
  },
  {
   "cell_type": "code",
   "execution_count": 33,
   "id": "df455350",
   "metadata": {
    "pycharm": {
     "name": "#%%\n"
    }
   },
   "outputs": [],
   "source": [
    "def get_cat_df(category, df):\n",
    "    \"\"\"\n",
    "    df : The standardized dataframe\n",
    "    \"\"\"\n",
    "    return df[df.category.apply(lambda x: category in x)]\n",
    "\n",
    "def get_activation_for_cat(category, df):\n",
    "    \"\"\"\n",
    "    df : The standardized dataframe\n",
    "    \"\"\"\n",
    "    return get_cat_df(category, df).iloc[:, 5:]"
   ]
  },
  {
   "cell_type": "code",
   "execution_count": 34,
   "id": "b416ec7d",
   "metadata": {
    "pycharm": {
     "name": "#%%\n"
    }
   },
   "outputs": [
    {
     "data": {
      "text/html": [
       "<div>\n",
       "<style scoped>\n",
       "    .dataframe tbody tr th:only-of-type {\n",
       "        vertical-align: middle;\n",
       "    }\n",
       "\n",
       "    .dataframe tbody tr th {\n",
       "        vertical-align: top;\n",
       "    }\n",
       "\n",
       "    .dataframe thead th {\n",
       "        text-align: right;\n",
       "    }\n",
       "</style>\n",
       "<table border=\"1\" class=\"dataframe\">\n",
       "  <thead>\n",
       "    <tr style=\"text-align: right;\">\n",
       "      <th></th>\n",
       "      <th>neuron_1</th>\n",
       "      <th>neuron_2</th>\n",
       "      <th>neuron_3</th>\n",
       "      <th>neuron_4</th>\n",
       "      <th>neuron_5</th>\n",
       "      <th>neuron_6</th>\n",
       "      <th>neuron_7</th>\n",
       "      <th>neuron_8</th>\n",
       "      <th>neuron_9</th>\n",
       "      <th>neuron_10</th>\n",
       "      <th>...</th>\n",
       "      <th>neuron_55</th>\n",
       "      <th>neuron_56</th>\n",
       "      <th>neuron_57</th>\n",
       "      <th>neuron_58</th>\n",
       "      <th>neuron_59</th>\n",
       "      <th>neuron_60</th>\n",
       "      <th>neuron_61</th>\n",
       "      <th>neuron_62</th>\n",
       "      <th>neuron_63</th>\n",
       "      <th>neuron_64</th>\n",
       "    </tr>\n",
       "  </thead>\n",
       "  <tbody>\n",
       "    <tr>\n",
       "      <th>http://dbpedia.org/resource/Molière_(2007_film)</th>\n",
       "      <td>0.348198</td>\n",
       "      <td>-0.794039</td>\n",
       "      <td>-0.746418</td>\n",
       "      <td>0.582287</td>\n",
       "      <td>0.167642</td>\n",
       "      <td>-0.740846</td>\n",
       "      <td>0.192265</td>\n",
       "      <td>0.076393</td>\n",
       "      <td>0.316168</td>\n",
       "      <td>-0.685410</td>\n",
       "      <td>...</td>\n",
       "      <td>-0.664023</td>\n",
       "      <td>0.007377</td>\n",
       "      <td>0.554011</td>\n",
       "      <td>-0.317597</td>\n",
       "      <td>0.799769</td>\n",
       "      <td>0.056555</td>\n",
       "      <td>0.796466</td>\n",
       "      <td>0.128014</td>\n",
       "      <td>0.323023</td>\n",
       "      <td>0.693544</td>\n",
       "    </tr>\n",
       "    <tr>\n",
       "      <th>http://dbpedia.org/resource/RocknRolla</th>\n",
       "      <td>0.198034</td>\n",
       "      <td>0.250019</td>\n",
       "      <td>0.127240</td>\n",
       "      <td>-0.280743</td>\n",
       "      <td>0.140509</td>\n",
       "      <td>-0.102993</td>\n",
       "      <td>0.442850</td>\n",
       "      <td>1.357964</td>\n",
       "      <td>-1.091688</td>\n",
       "      <td>-0.953780</td>\n",
       "      <td>...</td>\n",
       "      <td>0.328048</td>\n",
       "      <td>-0.614881</td>\n",
       "      <td>0.258655</td>\n",
       "      <td>-0.293385</td>\n",
       "      <td>0.418967</td>\n",
       "      <td>-0.272319</td>\n",
       "      <td>0.117064</td>\n",
       "      <td>-1.091244</td>\n",
       "      <td>0.565506</td>\n",
       "      <td>0.377459</td>\n",
       "    </tr>\n",
       "    <tr>\n",
       "      <th>http://dbpedia.org/resource/Certified_Copy_(film)</th>\n",
       "      <td>0.222499</td>\n",
       "      <td>-0.922626</td>\n",
       "      <td>0.186660</td>\n",
       "      <td>-0.047788</td>\n",
       "      <td>-0.758021</td>\n",
       "      <td>0.040938</td>\n",
       "      <td>-0.798748</td>\n",
       "      <td>1.146190</td>\n",
       "      <td>0.370711</td>\n",
       "      <td>1.134992</td>\n",
       "      <td>...</td>\n",
       "      <td>0.609671</td>\n",
       "      <td>-0.131772</td>\n",
       "      <td>0.102529</td>\n",
       "      <td>-0.263605</td>\n",
       "      <td>0.216028</td>\n",
       "      <td>1.044291</td>\n",
       "      <td>-0.274303</td>\n",
       "      <td>0.371624</td>\n",
       "      <td>1.120725</td>\n",
       "      <td>-0.206528</td>\n",
       "    </tr>\n",
       "    <tr>\n",
       "      <th>http://dbpedia.org/resource/Dumas_(film)</th>\n",
       "      <td>0.904933</td>\n",
       "      <td>-0.957628</td>\n",
       "      <td>-1.034476</td>\n",
       "      <td>0.204405</td>\n",
       "      <td>0.068782</td>\n",
       "      <td>-0.670019</td>\n",
       "      <td>-0.487408</td>\n",
       "      <td>0.755710</td>\n",
       "      <td>-0.707906</td>\n",
       "      <td>-0.397625</td>\n",
       "      <td>...</td>\n",
       "      <td>-0.657402</td>\n",
       "      <td>0.022341</td>\n",
       "      <td>1.091926</td>\n",
       "      <td>-0.770867</td>\n",
       "      <td>1.275712</td>\n",
       "      <td>0.431930</td>\n",
       "      <td>1.035029</td>\n",
       "      <td>-0.747855</td>\n",
       "      <td>0.247841</td>\n",
       "      <td>1.190663</td>\n",
       "    </tr>\n",
       "    <tr>\n",
       "      <th>http://dbpedia.org/resource/On_Tour_(2010_film)</th>\n",
       "      <td>-0.436538</td>\n",
       "      <td>0.781863</td>\n",
       "      <td>0.706391</td>\n",
       "      <td>-0.896806</td>\n",
       "      <td>-0.230721</td>\n",
       "      <td>0.292222</td>\n",
       "      <td>-1.611280</td>\n",
       "      <td>-0.574841</td>\n",
       "      <td>0.293067</td>\n",
       "      <td>1.257739</td>\n",
       "      <td>...</td>\n",
       "      <td>0.978226</td>\n",
       "      <td>-0.271073</td>\n",
       "      <td>-0.908032</td>\n",
       "      <td>0.515729</td>\n",
       "      <td>-0.825195</td>\n",
       "      <td>-0.649072</td>\n",
       "      <td>-0.397633</td>\n",
       "      <td>-0.405573</td>\n",
       "      <td>-1.074348</td>\n",
       "      <td>-1.267304</td>\n",
       "    </tr>\n",
       "    <tr>\n",
       "      <th>...</th>\n",
       "      <td>...</td>\n",
       "      <td>...</td>\n",
       "      <td>...</td>\n",
       "      <td>...</td>\n",
       "      <td>...</td>\n",
       "      <td>...</td>\n",
       "      <td>...</td>\n",
       "      <td>...</td>\n",
       "      <td>...</td>\n",
       "      <td>...</td>\n",
       "      <td>...</td>\n",
       "      <td>...</td>\n",
       "      <td>...</td>\n",
       "      <td>...</td>\n",
       "      <td>...</td>\n",
       "      <td>...</td>\n",
       "      <td>...</td>\n",
       "      <td>...</td>\n",
       "      <td>...</td>\n",
       "      <td>...</td>\n",
       "      <td>...</td>\n",
       "    </tr>\n",
       "    <tr>\n",
       "      <th>http://dbpedia.org/resource/Marona's_Fantastic_Tale</th>\n",
       "      <td>0.650398</td>\n",
       "      <td>-0.639815</td>\n",
       "      <td>-0.883391</td>\n",
       "      <td>0.809173</td>\n",
       "      <td>-1.018388</td>\n",
       "      <td>-0.184792</td>\n",
       "      <td>-0.192133</td>\n",
       "      <td>0.842520</td>\n",
       "      <td>-0.706727</td>\n",
       "      <td>-0.606164</td>\n",
       "      <td>...</td>\n",
       "      <td>-0.694032</td>\n",
       "      <td>0.250809</td>\n",
       "      <td>0.577989</td>\n",
       "      <td>-0.529915</td>\n",
       "      <td>0.748591</td>\n",
       "      <td>0.812764</td>\n",
       "      <td>0.823939</td>\n",
       "      <td>-0.332374</td>\n",
       "      <td>-0.202361</td>\n",
       "      <td>0.933891</td>\n",
       "    </tr>\n",
       "    <tr>\n",
       "      <th>http://dbpedia.org/resource/Notturno_(film)</th>\n",
       "      <td>1.133672</td>\n",
       "      <td>-1.035538</td>\n",
       "      <td>-1.223558</td>\n",
       "      <td>1.158884</td>\n",
       "      <td>-0.840309</td>\n",
       "      <td>-0.679704</td>\n",
       "      <td>-0.556683</td>\n",
       "      <td>-0.097757</td>\n",
       "      <td>-0.651814</td>\n",
       "      <td>0.202461</td>\n",
       "      <td>...</td>\n",
       "      <td>-1.035298</td>\n",
       "      <td>0.870612</td>\n",
       "      <td>0.858820</td>\n",
       "      <td>-1.203577</td>\n",
       "      <td>0.633411</td>\n",
       "      <td>1.516069</td>\n",
       "      <td>0.884247</td>\n",
       "      <td>0.611267</td>\n",
       "      <td>-0.713123</td>\n",
       "      <td>0.920261</td>\n",
       "    </tr>\n",
       "    <tr>\n",
       "      <th>http://dbpedia.org/resource/Only_the_Animals_(film)</th>\n",
       "      <td>1.215208</td>\n",
       "      <td>-0.940130</td>\n",
       "      <td>-1.198337</td>\n",
       "      <td>0.737477</td>\n",
       "      <td>0.257004</td>\n",
       "      <td>-1.293000</td>\n",
       "      <td>0.255731</td>\n",
       "      <td>0.519041</td>\n",
       "      <td>-1.163790</td>\n",
       "      <td>-0.897468</td>\n",
       "      <td>...</td>\n",
       "      <td>-0.491858</td>\n",
       "      <td>-0.259222</td>\n",
       "      <td>1.016652</td>\n",
       "      <td>-0.697007</td>\n",
       "      <td>1.476852</td>\n",
       "      <td>0.308962</td>\n",
       "      <td>1.244065</td>\n",
       "      <td>-0.806881</td>\n",
       "      <td>0.594742</td>\n",
       "      <td>1.370082</td>\n",
       "    </tr>\n",
       "    <tr>\n",
       "      <th>http://dbpedia.org/resource/The_Sonata</th>\n",
       "      <td>0.432165</td>\n",
       "      <td>-0.732883</td>\n",
       "      <td>-0.782586</td>\n",
       "      <td>0.890745</td>\n",
       "      <td>0.190159</td>\n",
       "      <td>-0.864135</td>\n",
       "      <td>0.566034</td>\n",
       "      <td>-0.290305</td>\n",
       "      <td>-0.007671</td>\n",
       "      <td>0.028851</td>\n",
       "      <td>...</td>\n",
       "      <td>-1.005454</td>\n",
       "      <td>0.515506</td>\n",
       "      <td>0.584147</td>\n",
       "      <td>-0.546230</td>\n",
       "      <td>0.535583</td>\n",
       "      <td>0.259034</td>\n",
       "      <td>0.437021</td>\n",
       "      <td>-0.232494</td>\n",
       "      <td>-0.175843</td>\n",
       "      <td>0.512139</td>\n",
       "    </tr>\n",
       "    <tr>\n",
       "      <th>http://dbpedia.org/resource/Walking_the_Camino:_Six_Ways_to_Santiago</th>\n",
       "      <td>0.731269</td>\n",
       "      <td>-0.569880</td>\n",
       "      <td>-0.975117</td>\n",
       "      <td>1.181445</td>\n",
       "      <td>-0.949331</td>\n",
       "      <td>-0.813501</td>\n",
       "      <td>-0.181357</td>\n",
       "      <td>0.557722</td>\n",
       "      <td>-0.976363</td>\n",
       "      <td>0.196267</td>\n",
       "      <td>...</td>\n",
       "      <td>-0.709136</td>\n",
       "      <td>-0.181619</td>\n",
       "      <td>0.678532</td>\n",
       "      <td>-0.082304</td>\n",
       "      <td>0.536049</td>\n",
       "      <td>1.346691</td>\n",
       "      <td>0.853342</td>\n",
       "      <td>-0.084667</td>\n",
       "      <td>-0.874078</td>\n",
       "      <td>0.990641</td>\n",
       "    </tr>\n",
       "  </tbody>\n",
       "</table>\n",
       "<p>1725 rows × 64 columns</p>\n",
       "</div>"
      ],
      "text/plain": [
       "                                                    neuron_1  neuron_2  \\\n",
       "http://dbpedia.org/resource/Molière_(2007_film)     0.348198 -0.794039   \n",
       "http://dbpedia.org/resource/RocknRolla              0.198034  0.250019   \n",
       "http://dbpedia.org/resource/Certified_Copy_(film)   0.222499 -0.922626   \n",
       "http://dbpedia.org/resource/Dumas_(film)            0.904933 -0.957628   \n",
       "http://dbpedia.org/resource/On_Tour_(2010_film)    -0.436538  0.781863   \n",
       "...                                                      ...       ...   \n",
       "http://dbpedia.org/resource/Marona's_Fantastic_...  0.650398 -0.639815   \n",
       "http://dbpedia.org/resource/Notturno_(film)         1.133672 -1.035538   \n",
       "http://dbpedia.org/resource/Only_the_Animals_(f...  1.215208 -0.940130   \n",
       "http://dbpedia.org/resource/The_Sonata              0.432165 -0.732883   \n",
       "http://dbpedia.org/resource/Walking_the_Camino:...  0.731269 -0.569880   \n",
       "\n",
       "                                                    neuron_3  neuron_4  \\\n",
       "http://dbpedia.org/resource/Molière_(2007_film)    -0.746418  0.582287   \n",
       "http://dbpedia.org/resource/RocknRolla              0.127240 -0.280743   \n",
       "http://dbpedia.org/resource/Certified_Copy_(film)   0.186660 -0.047788   \n",
       "http://dbpedia.org/resource/Dumas_(film)           -1.034476  0.204405   \n",
       "http://dbpedia.org/resource/On_Tour_(2010_film)     0.706391 -0.896806   \n",
       "...                                                      ...       ...   \n",
       "http://dbpedia.org/resource/Marona's_Fantastic_... -0.883391  0.809173   \n",
       "http://dbpedia.org/resource/Notturno_(film)        -1.223558  1.158884   \n",
       "http://dbpedia.org/resource/Only_the_Animals_(f... -1.198337  0.737477   \n",
       "http://dbpedia.org/resource/The_Sonata             -0.782586  0.890745   \n",
       "http://dbpedia.org/resource/Walking_the_Camino:... -0.975117  1.181445   \n",
       "\n",
       "                                                    neuron_5  neuron_6  \\\n",
       "http://dbpedia.org/resource/Molière_(2007_film)     0.167642 -0.740846   \n",
       "http://dbpedia.org/resource/RocknRolla              0.140509 -0.102993   \n",
       "http://dbpedia.org/resource/Certified_Copy_(film)  -0.758021  0.040938   \n",
       "http://dbpedia.org/resource/Dumas_(film)            0.068782 -0.670019   \n",
       "http://dbpedia.org/resource/On_Tour_(2010_film)    -0.230721  0.292222   \n",
       "...                                                      ...       ...   \n",
       "http://dbpedia.org/resource/Marona's_Fantastic_... -1.018388 -0.184792   \n",
       "http://dbpedia.org/resource/Notturno_(film)        -0.840309 -0.679704   \n",
       "http://dbpedia.org/resource/Only_the_Animals_(f...  0.257004 -1.293000   \n",
       "http://dbpedia.org/resource/The_Sonata              0.190159 -0.864135   \n",
       "http://dbpedia.org/resource/Walking_the_Camino:... -0.949331 -0.813501   \n",
       "\n",
       "                                                    neuron_7  neuron_8  \\\n",
       "http://dbpedia.org/resource/Molière_(2007_film)     0.192265  0.076393   \n",
       "http://dbpedia.org/resource/RocknRolla              0.442850  1.357964   \n",
       "http://dbpedia.org/resource/Certified_Copy_(film)  -0.798748  1.146190   \n",
       "http://dbpedia.org/resource/Dumas_(film)           -0.487408  0.755710   \n",
       "http://dbpedia.org/resource/On_Tour_(2010_film)    -1.611280 -0.574841   \n",
       "...                                                      ...       ...   \n",
       "http://dbpedia.org/resource/Marona's_Fantastic_... -0.192133  0.842520   \n",
       "http://dbpedia.org/resource/Notturno_(film)        -0.556683 -0.097757   \n",
       "http://dbpedia.org/resource/Only_the_Animals_(f...  0.255731  0.519041   \n",
       "http://dbpedia.org/resource/The_Sonata              0.566034 -0.290305   \n",
       "http://dbpedia.org/resource/Walking_the_Camino:... -0.181357  0.557722   \n",
       "\n",
       "                                                    neuron_9  neuron_10  ...  \\\n",
       "http://dbpedia.org/resource/Molière_(2007_film)     0.316168  -0.685410  ...   \n",
       "http://dbpedia.org/resource/RocknRolla             -1.091688  -0.953780  ...   \n",
       "http://dbpedia.org/resource/Certified_Copy_(film)   0.370711   1.134992  ...   \n",
       "http://dbpedia.org/resource/Dumas_(film)           -0.707906  -0.397625  ...   \n",
       "http://dbpedia.org/resource/On_Tour_(2010_film)     0.293067   1.257739  ...   \n",
       "...                                                      ...        ...  ...   \n",
       "http://dbpedia.org/resource/Marona's_Fantastic_... -0.706727  -0.606164  ...   \n",
       "http://dbpedia.org/resource/Notturno_(film)        -0.651814   0.202461  ...   \n",
       "http://dbpedia.org/resource/Only_the_Animals_(f... -1.163790  -0.897468  ...   \n",
       "http://dbpedia.org/resource/The_Sonata             -0.007671   0.028851  ...   \n",
       "http://dbpedia.org/resource/Walking_the_Camino:... -0.976363   0.196267  ...   \n",
       "\n",
       "                                                    neuron_55  neuron_56  \\\n",
       "http://dbpedia.org/resource/Molière_(2007_film)     -0.664023   0.007377   \n",
       "http://dbpedia.org/resource/RocknRolla               0.328048  -0.614881   \n",
       "http://dbpedia.org/resource/Certified_Copy_(film)    0.609671  -0.131772   \n",
       "http://dbpedia.org/resource/Dumas_(film)            -0.657402   0.022341   \n",
       "http://dbpedia.org/resource/On_Tour_(2010_film)      0.978226  -0.271073   \n",
       "...                                                       ...        ...   \n",
       "http://dbpedia.org/resource/Marona's_Fantastic_...  -0.694032   0.250809   \n",
       "http://dbpedia.org/resource/Notturno_(film)         -1.035298   0.870612   \n",
       "http://dbpedia.org/resource/Only_the_Animals_(f...  -0.491858  -0.259222   \n",
       "http://dbpedia.org/resource/The_Sonata              -1.005454   0.515506   \n",
       "http://dbpedia.org/resource/Walking_the_Camino:...  -0.709136  -0.181619   \n",
       "\n",
       "                                                    neuron_57  neuron_58  \\\n",
       "http://dbpedia.org/resource/Molière_(2007_film)      0.554011  -0.317597   \n",
       "http://dbpedia.org/resource/RocknRolla               0.258655  -0.293385   \n",
       "http://dbpedia.org/resource/Certified_Copy_(film)    0.102529  -0.263605   \n",
       "http://dbpedia.org/resource/Dumas_(film)             1.091926  -0.770867   \n",
       "http://dbpedia.org/resource/On_Tour_(2010_film)     -0.908032   0.515729   \n",
       "...                                                       ...        ...   \n",
       "http://dbpedia.org/resource/Marona's_Fantastic_...   0.577989  -0.529915   \n",
       "http://dbpedia.org/resource/Notturno_(film)          0.858820  -1.203577   \n",
       "http://dbpedia.org/resource/Only_the_Animals_(f...   1.016652  -0.697007   \n",
       "http://dbpedia.org/resource/The_Sonata               0.584147  -0.546230   \n",
       "http://dbpedia.org/resource/Walking_the_Camino:...   0.678532  -0.082304   \n",
       "\n",
       "                                                    neuron_59  neuron_60  \\\n",
       "http://dbpedia.org/resource/Molière_(2007_film)      0.799769   0.056555   \n",
       "http://dbpedia.org/resource/RocknRolla               0.418967  -0.272319   \n",
       "http://dbpedia.org/resource/Certified_Copy_(film)    0.216028   1.044291   \n",
       "http://dbpedia.org/resource/Dumas_(film)             1.275712   0.431930   \n",
       "http://dbpedia.org/resource/On_Tour_(2010_film)     -0.825195  -0.649072   \n",
       "...                                                       ...        ...   \n",
       "http://dbpedia.org/resource/Marona's_Fantastic_...   0.748591   0.812764   \n",
       "http://dbpedia.org/resource/Notturno_(film)          0.633411   1.516069   \n",
       "http://dbpedia.org/resource/Only_the_Animals_(f...   1.476852   0.308962   \n",
       "http://dbpedia.org/resource/The_Sonata               0.535583   0.259034   \n",
       "http://dbpedia.org/resource/Walking_the_Camino:...   0.536049   1.346691   \n",
       "\n",
       "                                                    neuron_61  neuron_62  \\\n",
       "http://dbpedia.org/resource/Molière_(2007_film)      0.796466   0.128014   \n",
       "http://dbpedia.org/resource/RocknRolla               0.117064  -1.091244   \n",
       "http://dbpedia.org/resource/Certified_Copy_(film)   -0.274303   0.371624   \n",
       "http://dbpedia.org/resource/Dumas_(film)             1.035029  -0.747855   \n",
       "http://dbpedia.org/resource/On_Tour_(2010_film)     -0.397633  -0.405573   \n",
       "...                                                       ...        ...   \n",
       "http://dbpedia.org/resource/Marona's_Fantastic_...   0.823939  -0.332374   \n",
       "http://dbpedia.org/resource/Notturno_(film)          0.884247   0.611267   \n",
       "http://dbpedia.org/resource/Only_the_Animals_(f...   1.244065  -0.806881   \n",
       "http://dbpedia.org/resource/The_Sonata               0.437021  -0.232494   \n",
       "http://dbpedia.org/resource/Walking_the_Camino:...   0.853342  -0.084667   \n",
       "\n",
       "                                                    neuron_63  neuron_64  \n",
       "http://dbpedia.org/resource/Molière_(2007_film)      0.323023   0.693544  \n",
       "http://dbpedia.org/resource/RocknRolla               0.565506   0.377459  \n",
       "http://dbpedia.org/resource/Certified_Copy_(film)    1.120725  -0.206528  \n",
       "http://dbpedia.org/resource/Dumas_(film)             0.247841   1.190663  \n",
       "http://dbpedia.org/resource/On_Tour_(2010_film)     -1.074348  -1.267304  \n",
       "...                                                       ...        ...  \n",
       "http://dbpedia.org/resource/Marona's_Fantastic_...  -0.202361   0.933891  \n",
       "http://dbpedia.org/resource/Notturno_(film)         -0.713123   0.920261  \n",
       "http://dbpedia.org/resource/Only_the_Animals_(f...   0.594742   1.370082  \n",
       "http://dbpedia.org/resource/The_Sonata              -0.175843   0.512139  \n",
       "http://dbpedia.org/resource/Walking_the_Camino:...  -0.874078   0.990641  \n",
       "\n",
       "[1725 rows x 64 columns]"
      ]
     },
     "execution_count": 34,
     "metadata": {},
     "output_type": "execute_result"
    }
   ],
   "source": [
    "get_activation_for_cat('France', df_s)"
   ]
  },
  {
   "cell_type": "code",
   "execution_count": 35,
   "id": "d7405fdf",
   "metadata": {
    "pycharm": {
     "name": "#%%\n"
    }
   },
   "outputs": [],
   "source": [
    "def get_activation_for_not_cat(category, df):\n",
    "    \"\"\"\n",
    "    df : The standardized dataframe\n",
    "    \"\"\"\n",
    "    return getNotCatDF(category, df).iloc[:, 5:]\n",
    "\n",
    "def getNotCatDF(cat, df): # Standardized df\n",
    "    \"\"\"\n",
    "    df : The standardized dataframe\n",
    "    \"\"\"\n",
    "    return df[df.category.apply(lambda x: cat not in x)]"
   ]
  },
  {
   "cell_type": "code",
   "execution_count": 36,
   "id": "f76406a5",
   "metadata": {
    "pycharm": {
     "name": "#%%\n"
    },
    "scrolled": false
   },
   "outputs": [
    {
     "data": {
      "text/html": [
       "<div>\n",
       "<style scoped>\n",
       "    .dataframe tbody tr th:only-of-type {\n",
       "        vertical-align: middle;\n",
       "    }\n",
       "\n",
       "    .dataframe tbody tr th {\n",
       "        vertical-align: top;\n",
       "    }\n",
       "\n",
       "    .dataframe thead th {\n",
       "        text-align: right;\n",
       "    }\n",
       "</style>\n",
       "<table border=\"1\" class=\"dataframe\">\n",
       "  <thead>\n",
       "    <tr style=\"text-align: right;\">\n",
       "      <th></th>\n",
       "      <th>neuron_1</th>\n",
       "      <th>neuron_2</th>\n",
       "      <th>neuron_3</th>\n",
       "      <th>neuron_4</th>\n",
       "      <th>neuron_5</th>\n",
       "      <th>neuron_6</th>\n",
       "      <th>neuron_7</th>\n",
       "      <th>neuron_8</th>\n",
       "      <th>neuron_9</th>\n",
       "      <th>neuron_10</th>\n",
       "      <th>...</th>\n",
       "      <th>neuron_55</th>\n",
       "      <th>neuron_56</th>\n",
       "      <th>neuron_57</th>\n",
       "      <th>neuron_58</th>\n",
       "      <th>neuron_59</th>\n",
       "      <th>neuron_60</th>\n",
       "      <th>neuron_61</th>\n",
       "      <th>neuron_62</th>\n",
       "      <th>neuron_63</th>\n",
       "      <th>neuron_64</th>\n",
       "    </tr>\n",
       "  </thead>\n",
       "  <tbody>\n",
       "    <tr>\n",
       "      <th>http://dbpedia.org/resource/Gold_(2016_film)</th>\n",
       "      <td>-1.214893</td>\n",
       "      <td>1.401758</td>\n",
       "      <td>1.473389</td>\n",
       "      <td>-0.260814</td>\n",
       "      <td>0.306183</td>\n",
       "      <td>0.975753</td>\n",
       "      <td>0.622377</td>\n",
       "      <td>-1.366948</td>\n",
       "      <td>1.475065</td>\n",
       "      <td>1.096261</td>\n",
       "      <td>...</td>\n",
       "      <td>1.131114</td>\n",
       "      <td>-0.689490</td>\n",
       "      <td>-0.974882</td>\n",
       "      <td>0.079474</td>\n",
       "      <td>-0.638770</td>\n",
       "      <td>-0.122600</td>\n",
       "      <td>-1.491122</td>\n",
       "      <td>0.236120</td>\n",
       "      <td>1.058699</td>\n",
       "      <td>-1.011974</td>\n",
       "    </tr>\n",
       "    <tr>\n",
       "      <th>http://dbpedia.org/resource/Ip_Man_(film_series)</th>\n",
       "      <td>-2.438253</td>\n",
       "      <td>2.172896</td>\n",
       "      <td>4.832415</td>\n",
       "      <td>-3.269683</td>\n",
       "      <td>5.102280</td>\n",
       "      <td>2.193130</td>\n",
       "      <td>5.320123</td>\n",
       "      <td>3.559929</td>\n",
       "      <td>-3.404595</td>\n",
       "      <td>-1.432071</td>\n",
       "      <td>...</td>\n",
       "      <td>3.564557</td>\n",
       "      <td>-2.262113</td>\n",
       "      <td>-2.210178</td>\n",
       "      <td>3.626378</td>\n",
       "      <td>-1.273179</td>\n",
       "      <td>-4.773576</td>\n",
       "      <td>-2.763824</td>\n",
       "      <td>-5.442496</td>\n",
       "      <td>0.715285</td>\n",
       "      <td>-1.640845</td>\n",
       "    </tr>\n",
       "    <tr>\n",
       "      <th>http://dbpedia.org/resource/The_Five-Year_Engagement</th>\n",
       "      <td>0.355350</td>\n",
       "      <td>0.459939</td>\n",
       "      <td>0.097886</td>\n",
       "      <td>0.269360</td>\n",
       "      <td>1.127045</td>\n",
       "      <td>-0.630933</td>\n",
       "      <td>1.274838</td>\n",
       "      <td>0.350993</td>\n",
       "      <td>-1.050725</td>\n",
       "      <td>-1.528512</td>\n",
       "      <td>...</td>\n",
       "      <td>-0.262009</td>\n",
       "      <td>-0.275425</td>\n",
       "      <td>0.306355</td>\n",
       "      <td>0.823712</td>\n",
       "      <td>0.579690</td>\n",
       "      <td>0.296446</td>\n",
       "      <td>0.353801</td>\n",
       "      <td>-1.996011</td>\n",
       "      <td>0.888593</td>\n",
       "      <td>0.472586</td>\n",
       "    </tr>\n",
       "    <tr>\n",
       "      <th>http://dbpedia.org/resource/Black_Rain_(1989_American_film)</th>\n",
       "      <td>-2.316592</td>\n",
       "      <td>2.364087</td>\n",
       "      <td>1.641010</td>\n",
       "      <td>-2.163541</td>\n",
       "      <td>2.593331</td>\n",
       "      <td>1.607067</td>\n",
       "      <td>2.090266</td>\n",
       "      <td>-0.226109</td>\n",
       "      <td>0.710738</td>\n",
       "      <td>-1.170414</td>\n",
       "      <td>...</td>\n",
       "      <td>2.756041</td>\n",
       "      <td>-0.800280</td>\n",
       "      <td>-2.046790</td>\n",
       "      <td>2.032354</td>\n",
       "      <td>-1.952059</td>\n",
       "      <td>-1.838396</td>\n",
       "      <td>-2.095149</td>\n",
       "      <td>-0.945635</td>\n",
       "      <td>0.493390</td>\n",
       "      <td>-1.753067</td>\n",
       "    </tr>\n",
       "    <tr>\n",
       "      <th>http://dbpedia.org/resource/Pain_&amp;_Gain</th>\n",
       "      <td>-1.490942</td>\n",
       "      <td>1.365678</td>\n",
       "      <td>0.458307</td>\n",
       "      <td>-0.924717</td>\n",
       "      <td>3.104132</td>\n",
       "      <td>-0.211915</td>\n",
       "      <td>2.704236</td>\n",
       "      <td>-1.374140</td>\n",
       "      <td>-0.975398</td>\n",
       "      <td>0.616539</td>\n",
       "      <td>...</td>\n",
       "      <td>0.876379</td>\n",
       "      <td>0.083753</td>\n",
       "      <td>-0.862645</td>\n",
       "      <td>0.652306</td>\n",
       "      <td>-0.932478</td>\n",
       "      <td>-0.667388</td>\n",
       "      <td>-1.067616</td>\n",
       "      <td>0.370674</td>\n",
       "      <td>-0.433532</td>\n",
       "      <td>-0.751333</td>\n",
       "    </tr>\n",
       "    <tr>\n",
       "      <th>...</th>\n",
       "      <td>...</td>\n",
       "      <td>...</td>\n",
       "      <td>...</td>\n",
       "      <td>...</td>\n",
       "      <td>...</td>\n",
       "      <td>...</td>\n",
       "      <td>...</td>\n",
       "      <td>...</td>\n",
       "      <td>...</td>\n",
       "      <td>...</td>\n",
       "      <td>...</td>\n",
       "      <td>...</td>\n",
       "      <td>...</td>\n",
       "      <td>...</td>\n",
       "      <td>...</td>\n",
       "      <td>...</td>\n",
       "      <td>...</td>\n",
       "      <td>...</td>\n",
       "      <td>...</td>\n",
       "      <td>...</td>\n",
       "      <td>...</td>\n",
       "    </tr>\n",
       "    <tr>\n",
       "      <th>http://dbpedia.org/resource/Beautiful_Creatures_(2013_film)</th>\n",
       "      <td>-0.670433</td>\n",
       "      <td>0.315225</td>\n",
       "      <td>0.281294</td>\n",
       "      <td>-0.361757</td>\n",
       "      <td>0.890629</td>\n",
       "      <td>-0.522530</td>\n",
       "      <td>1.271669</td>\n",
       "      <td>1.738652</td>\n",
       "      <td>-0.855841</td>\n",
       "      <td>-0.588031</td>\n",
       "      <td>...</td>\n",
       "      <td>0.882714</td>\n",
       "      <td>-0.191738</td>\n",
       "      <td>-0.426576</td>\n",
       "      <td>1.255115</td>\n",
       "      <td>0.052340</td>\n",
       "      <td>-1.420136</td>\n",
       "      <td>-0.151679</td>\n",
       "      <td>-1.164328</td>\n",
       "      <td>0.593529</td>\n",
       "      <td>0.176248</td>\n",
       "    </tr>\n",
       "    <tr>\n",
       "      <th>http://dbpedia.org/resource/Van_Wilder:_The_Rise_of_Taj</th>\n",
       "      <td>0.140985</td>\n",
       "      <td>-0.695302</td>\n",
       "      <td>-0.386000</td>\n",
       "      <td>0.537413</td>\n",
       "      <td>-0.569062</td>\n",
       "      <td>0.106870</td>\n",
       "      <td>0.289161</td>\n",
       "      <td>-0.043868</td>\n",
       "      <td>-1.036417</td>\n",
       "      <td>-0.320534</td>\n",
       "      <td>...</td>\n",
       "      <td>-0.742543</td>\n",
       "      <td>-0.687522</td>\n",
       "      <td>0.654632</td>\n",
       "      <td>-0.565945</td>\n",
       "      <td>1.254830</td>\n",
       "      <td>-0.672601</td>\n",
       "      <td>0.383037</td>\n",
       "      <td>-1.429172</td>\n",
       "      <td>0.791925</td>\n",
       "      <td>0.345140</td>\n",
       "    </tr>\n",
       "    <tr>\n",
       "      <th>http://dbpedia.org/resource/How_to_Talk_to_Girls_at_Parties_(film)</th>\n",
       "      <td>0.101123</td>\n",
       "      <td>-0.486120</td>\n",
       "      <td>0.245136</td>\n",
       "      <td>0.667446</td>\n",
       "      <td>-0.839155</td>\n",
       "      <td>0.131905</td>\n",
       "      <td>0.257501</td>\n",
       "      <td>-1.766413</td>\n",
       "      <td>1.715799</td>\n",
       "      <td>0.337343</td>\n",
       "      <td>...</td>\n",
       "      <td>-0.347094</td>\n",
       "      <td>0.539901</td>\n",
       "      <td>-0.124506</td>\n",
       "      <td>-0.349557</td>\n",
       "      <td>-0.243753</td>\n",
       "      <td>1.375097</td>\n",
       "      <td>0.037383</td>\n",
       "      <td>0.813383</td>\n",
       "      <td>-0.236085</td>\n",
       "      <td>-0.014841</td>\n",
       "    </tr>\n",
       "    <tr>\n",
       "      <th>http://dbpedia.org/resource/Mr._Jealousy</th>\n",
       "      <td>1.332626</td>\n",
       "      <td>-0.894248</td>\n",
       "      <td>-1.223650</td>\n",
       "      <td>0.833255</td>\n",
       "      <td>-0.212699</td>\n",
       "      <td>-1.242192</td>\n",
       "      <td>0.288710</td>\n",
       "      <td>-0.524434</td>\n",
       "      <td>-1.330183</td>\n",
       "      <td>-0.989203</td>\n",
       "      <td>...</td>\n",
       "      <td>-0.996044</td>\n",
       "      <td>0.194260</td>\n",
       "      <td>1.032126</td>\n",
       "      <td>-0.569493</td>\n",
       "      <td>1.183080</td>\n",
       "      <td>0.611235</td>\n",
       "      <td>1.120530</td>\n",
       "      <td>-0.524421</td>\n",
       "      <td>0.228912</td>\n",
       "      <td>1.252986</td>\n",
       "    </tr>\n",
       "    <tr>\n",
       "      <th>http://dbpedia.org/resource/The_Lightkeepers</th>\n",
       "      <td>0.284575</td>\n",
       "      <td>-0.378598</td>\n",
       "      <td>-0.135643</td>\n",
       "      <td>0.754974</td>\n",
       "      <td>-0.198940</td>\n",
       "      <td>-0.730117</td>\n",
       "      <td>-0.323889</td>\n",
       "      <td>0.050434</td>\n",
       "      <td>-0.565840</td>\n",
       "      <td>-1.103310</td>\n",
       "      <td>...</td>\n",
       "      <td>0.347161</td>\n",
       "      <td>0.548111</td>\n",
       "      <td>0.496159</td>\n",
       "      <td>0.088651</td>\n",
       "      <td>0.210998</td>\n",
       "      <td>-0.126119</td>\n",
       "      <td>0.510204</td>\n",
       "      <td>-0.905950</td>\n",
       "      <td>0.023795</td>\n",
       "      <td>0.628258</td>\n",
       "    </tr>\n",
       "  </tbody>\n",
       "</table>\n",
       "<p>1725 rows × 64 columns</p>\n",
       "</div>"
      ],
      "text/plain": [
       "                                                    neuron_1  neuron_2  \\\n",
       "http://dbpedia.org/resource/Gold_(2016_film)       -1.214893  1.401758   \n",
       "http://dbpedia.org/resource/Ip_Man_(film_series)   -2.438253  2.172896   \n",
       "http://dbpedia.org/resource/The_Five-Year_Engag...  0.355350  0.459939   \n",
       "http://dbpedia.org/resource/Black_Rain_(1989_Am... -2.316592  2.364087   \n",
       "http://dbpedia.org/resource/Pain_&_Gain            -1.490942  1.365678   \n",
       "...                                                      ...       ...   \n",
       "http://dbpedia.org/resource/Beautiful_Creatures... -0.670433  0.315225   \n",
       "http://dbpedia.org/resource/Van_Wilder:_The_Ris...  0.140985 -0.695302   \n",
       "http://dbpedia.org/resource/How_to_Talk_to_Girl...  0.101123 -0.486120   \n",
       "http://dbpedia.org/resource/Mr._Jealousy            1.332626 -0.894248   \n",
       "http://dbpedia.org/resource/The_Lightkeepers        0.284575 -0.378598   \n",
       "\n",
       "                                                    neuron_3  neuron_4  \\\n",
       "http://dbpedia.org/resource/Gold_(2016_film)        1.473389 -0.260814   \n",
       "http://dbpedia.org/resource/Ip_Man_(film_series)    4.832415 -3.269683   \n",
       "http://dbpedia.org/resource/The_Five-Year_Engag...  0.097886  0.269360   \n",
       "http://dbpedia.org/resource/Black_Rain_(1989_Am...  1.641010 -2.163541   \n",
       "http://dbpedia.org/resource/Pain_&_Gain             0.458307 -0.924717   \n",
       "...                                                      ...       ...   \n",
       "http://dbpedia.org/resource/Beautiful_Creatures...  0.281294 -0.361757   \n",
       "http://dbpedia.org/resource/Van_Wilder:_The_Ris... -0.386000  0.537413   \n",
       "http://dbpedia.org/resource/How_to_Talk_to_Girl...  0.245136  0.667446   \n",
       "http://dbpedia.org/resource/Mr._Jealousy           -1.223650  0.833255   \n",
       "http://dbpedia.org/resource/The_Lightkeepers       -0.135643  0.754974   \n",
       "\n",
       "                                                    neuron_5  neuron_6  \\\n",
       "http://dbpedia.org/resource/Gold_(2016_film)        0.306183  0.975753   \n",
       "http://dbpedia.org/resource/Ip_Man_(film_series)    5.102280  2.193130   \n",
       "http://dbpedia.org/resource/The_Five-Year_Engag...  1.127045 -0.630933   \n",
       "http://dbpedia.org/resource/Black_Rain_(1989_Am...  2.593331  1.607067   \n",
       "http://dbpedia.org/resource/Pain_&_Gain             3.104132 -0.211915   \n",
       "...                                                      ...       ...   \n",
       "http://dbpedia.org/resource/Beautiful_Creatures...  0.890629 -0.522530   \n",
       "http://dbpedia.org/resource/Van_Wilder:_The_Ris... -0.569062  0.106870   \n",
       "http://dbpedia.org/resource/How_to_Talk_to_Girl... -0.839155  0.131905   \n",
       "http://dbpedia.org/resource/Mr._Jealousy           -0.212699 -1.242192   \n",
       "http://dbpedia.org/resource/The_Lightkeepers       -0.198940 -0.730117   \n",
       "\n",
       "                                                    neuron_7  neuron_8  \\\n",
       "http://dbpedia.org/resource/Gold_(2016_film)        0.622377 -1.366948   \n",
       "http://dbpedia.org/resource/Ip_Man_(film_series)    5.320123  3.559929   \n",
       "http://dbpedia.org/resource/The_Five-Year_Engag...  1.274838  0.350993   \n",
       "http://dbpedia.org/resource/Black_Rain_(1989_Am...  2.090266 -0.226109   \n",
       "http://dbpedia.org/resource/Pain_&_Gain             2.704236 -1.374140   \n",
       "...                                                      ...       ...   \n",
       "http://dbpedia.org/resource/Beautiful_Creatures...  1.271669  1.738652   \n",
       "http://dbpedia.org/resource/Van_Wilder:_The_Ris...  0.289161 -0.043868   \n",
       "http://dbpedia.org/resource/How_to_Talk_to_Girl...  0.257501 -1.766413   \n",
       "http://dbpedia.org/resource/Mr._Jealousy            0.288710 -0.524434   \n",
       "http://dbpedia.org/resource/The_Lightkeepers       -0.323889  0.050434   \n",
       "\n",
       "                                                    neuron_9  neuron_10  ...  \\\n",
       "http://dbpedia.org/resource/Gold_(2016_film)        1.475065   1.096261  ...   \n",
       "http://dbpedia.org/resource/Ip_Man_(film_series)   -3.404595  -1.432071  ...   \n",
       "http://dbpedia.org/resource/The_Five-Year_Engag... -1.050725  -1.528512  ...   \n",
       "http://dbpedia.org/resource/Black_Rain_(1989_Am...  0.710738  -1.170414  ...   \n",
       "http://dbpedia.org/resource/Pain_&_Gain            -0.975398   0.616539  ...   \n",
       "...                                                      ...        ...  ...   \n",
       "http://dbpedia.org/resource/Beautiful_Creatures... -0.855841  -0.588031  ...   \n",
       "http://dbpedia.org/resource/Van_Wilder:_The_Ris... -1.036417  -0.320534  ...   \n",
       "http://dbpedia.org/resource/How_to_Talk_to_Girl...  1.715799   0.337343  ...   \n",
       "http://dbpedia.org/resource/Mr._Jealousy           -1.330183  -0.989203  ...   \n",
       "http://dbpedia.org/resource/The_Lightkeepers       -0.565840  -1.103310  ...   \n",
       "\n",
       "                                                    neuron_55  neuron_56  \\\n",
       "http://dbpedia.org/resource/Gold_(2016_film)         1.131114  -0.689490   \n",
       "http://dbpedia.org/resource/Ip_Man_(film_series)     3.564557  -2.262113   \n",
       "http://dbpedia.org/resource/The_Five-Year_Engag...  -0.262009  -0.275425   \n",
       "http://dbpedia.org/resource/Black_Rain_(1989_Am...   2.756041  -0.800280   \n",
       "http://dbpedia.org/resource/Pain_&_Gain              0.876379   0.083753   \n",
       "...                                                       ...        ...   \n",
       "http://dbpedia.org/resource/Beautiful_Creatures...   0.882714  -0.191738   \n",
       "http://dbpedia.org/resource/Van_Wilder:_The_Ris...  -0.742543  -0.687522   \n",
       "http://dbpedia.org/resource/How_to_Talk_to_Girl...  -0.347094   0.539901   \n",
       "http://dbpedia.org/resource/Mr._Jealousy            -0.996044   0.194260   \n",
       "http://dbpedia.org/resource/The_Lightkeepers         0.347161   0.548111   \n",
       "\n",
       "                                                    neuron_57  neuron_58  \\\n",
       "http://dbpedia.org/resource/Gold_(2016_film)        -0.974882   0.079474   \n",
       "http://dbpedia.org/resource/Ip_Man_(film_series)    -2.210178   3.626378   \n",
       "http://dbpedia.org/resource/The_Five-Year_Engag...   0.306355   0.823712   \n",
       "http://dbpedia.org/resource/Black_Rain_(1989_Am...  -2.046790   2.032354   \n",
       "http://dbpedia.org/resource/Pain_&_Gain             -0.862645   0.652306   \n",
       "...                                                       ...        ...   \n",
       "http://dbpedia.org/resource/Beautiful_Creatures...  -0.426576   1.255115   \n",
       "http://dbpedia.org/resource/Van_Wilder:_The_Ris...   0.654632  -0.565945   \n",
       "http://dbpedia.org/resource/How_to_Talk_to_Girl...  -0.124506  -0.349557   \n",
       "http://dbpedia.org/resource/Mr._Jealousy             1.032126  -0.569493   \n",
       "http://dbpedia.org/resource/The_Lightkeepers         0.496159   0.088651   \n",
       "\n",
       "                                                    neuron_59  neuron_60  \\\n",
       "http://dbpedia.org/resource/Gold_(2016_film)        -0.638770  -0.122600   \n",
       "http://dbpedia.org/resource/Ip_Man_(film_series)    -1.273179  -4.773576   \n",
       "http://dbpedia.org/resource/The_Five-Year_Engag...   0.579690   0.296446   \n",
       "http://dbpedia.org/resource/Black_Rain_(1989_Am...  -1.952059  -1.838396   \n",
       "http://dbpedia.org/resource/Pain_&_Gain             -0.932478  -0.667388   \n",
       "...                                                       ...        ...   \n",
       "http://dbpedia.org/resource/Beautiful_Creatures...   0.052340  -1.420136   \n",
       "http://dbpedia.org/resource/Van_Wilder:_The_Ris...   1.254830  -0.672601   \n",
       "http://dbpedia.org/resource/How_to_Talk_to_Girl...  -0.243753   1.375097   \n",
       "http://dbpedia.org/resource/Mr._Jealousy             1.183080   0.611235   \n",
       "http://dbpedia.org/resource/The_Lightkeepers         0.210998  -0.126119   \n",
       "\n",
       "                                                    neuron_61  neuron_62  \\\n",
       "http://dbpedia.org/resource/Gold_(2016_film)        -1.491122   0.236120   \n",
       "http://dbpedia.org/resource/Ip_Man_(film_series)    -2.763824  -5.442496   \n",
       "http://dbpedia.org/resource/The_Five-Year_Engag...   0.353801  -1.996011   \n",
       "http://dbpedia.org/resource/Black_Rain_(1989_Am...  -2.095149  -0.945635   \n",
       "http://dbpedia.org/resource/Pain_&_Gain             -1.067616   0.370674   \n",
       "...                                                       ...        ...   \n",
       "http://dbpedia.org/resource/Beautiful_Creatures...  -0.151679  -1.164328   \n",
       "http://dbpedia.org/resource/Van_Wilder:_The_Ris...   0.383037  -1.429172   \n",
       "http://dbpedia.org/resource/How_to_Talk_to_Girl...   0.037383   0.813383   \n",
       "http://dbpedia.org/resource/Mr._Jealousy             1.120530  -0.524421   \n",
       "http://dbpedia.org/resource/The_Lightkeepers         0.510204  -0.905950   \n",
       "\n",
       "                                                    neuron_63  neuron_64  \n",
       "http://dbpedia.org/resource/Gold_(2016_film)         1.058699  -1.011974  \n",
       "http://dbpedia.org/resource/Ip_Man_(film_series)     0.715285  -1.640845  \n",
       "http://dbpedia.org/resource/The_Five-Year_Engag...   0.888593   0.472586  \n",
       "http://dbpedia.org/resource/Black_Rain_(1989_Am...   0.493390  -1.753067  \n",
       "http://dbpedia.org/resource/Pain_&_Gain             -0.433532  -0.751333  \n",
       "...                                                       ...        ...  \n",
       "http://dbpedia.org/resource/Beautiful_Creatures...   0.593529   0.176248  \n",
       "http://dbpedia.org/resource/Van_Wilder:_The_Ris...   0.791925   0.345140  \n",
       "http://dbpedia.org/resource/How_to_Talk_to_Girl...  -0.236085  -0.014841  \n",
       "http://dbpedia.org/resource/Mr._Jealousy             0.228912   1.252986  \n",
       "http://dbpedia.org/resource/The_Lightkeepers         0.023795   0.628258  \n",
       "\n",
       "[1725 rows x 64 columns]"
      ]
     },
     "execution_count": 36,
     "metadata": {},
     "output_type": "execute_result"
    }
   ],
   "source": [
    "actnc = get_activation_for_not_cat(c, df_s) # (15678, 32)\n",
    "\n",
    "actc = get_activation_for_cat(c, df_s) # (1725, 32)\n",
    "\n",
    "actnc.sample(len(actc))"
   ]
  },
  {
   "cell_type": "markdown",
   "id": "3ba78942",
   "metadata": {
    "pycharm": {
     "name": "#%% md\n"
    }
   },
   "source": [
    "https://likegeeks.com/seaborn-heatmap-tutorial/#Changing_heatmap_color"
   ]
  },
  {
   "cell_type": "code",
   "execution_count": 37,
   "id": "e90acd6c",
   "metadata": {
    "pycharm": {
     "name": "#%%\n"
    },
    "scrolled": false
   },
   "outputs": [
    {
     "name": "stdout",
     "output_type": "stream",
     "text": [
      "United States\n"
     ]
    },
    {
     "ename": "KeyboardInterrupt",
     "evalue": "",
     "output_type": "error",
     "traceback": [
      "\u001b[1;31m---------------------------------------------------------------------------\u001b[0m",
      "\u001b[1;31mKeyboardInterrupt\u001b[0m                         Traceback (most recent call last)",
      "\u001b[1;32m~\\AppData\\Local\\Temp/ipykernel_10964/1801122611.py\u001b[0m in \u001b[0;36m<module>\u001b[1;34m\u001b[0m\n\u001b[0;32m     25\u001b[0m \u001b[1;32mfor\u001b[0m \u001b[0mc\u001b[0m\u001b[1;33m,\u001b[0m \u001b[0mn\u001b[0m \u001b[1;32min\u001b[0m \u001b[0mget_popular_categories\u001b[0m\u001b[1;33m(\u001b[0m\u001b[0mdf\u001b[0m\u001b[1;33m)\u001b[0m\u001b[1;33m:\u001b[0m\u001b[1;33m\u001b[0m\u001b[1;33m\u001b[0m\u001b[0m\n\u001b[0;32m     26\u001b[0m     \u001b[0mprint\u001b[0m\u001b[1;33m(\u001b[0m\u001b[0mc\u001b[0m\u001b[1;33m)\u001b[0m\u001b[1;33m\u001b[0m\u001b[1;33m\u001b[0m\u001b[0m\n\u001b[1;32m---> 27\u001b[1;33m     \u001b[0mr\u001b[0m \u001b[1;33m=\u001b[0m \u001b[0mfind_pv\u001b[0m\u001b[1;33m(\u001b[0m\u001b[0mc\u001b[0m\u001b[1;33m)\u001b[0m\u001b[1;33m\u001b[0m\u001b[1;33m\u001b[0m\u001b[0m\n\u001b[0m\u001b[0;32m     28\u001b[0m     \u001b[0mrdf\u001b[0m \u001b[1;33m=\u001b[0m \u001b[0mpd\u001b[0m\u001b[1;33m.\u001b[0m\u001b[0mDataFrame\u001b[0m\u001b[1;33m(\u001b[0m\u001b[0mr\u001b[0m\u001b[1;33m)\u001b[0m\u001b[1;33m\u001b[0m\u001b[1;33m\u001b[0m\u001b[0m\n\u001b[0;32m     29\u001b[0m \u001b[1;33m\u001b[0m\u001b[0m\n",
      "\u001b[1;32m~\\AppData\\Local\\Temp/ipykernel_10964/1801122611.py\u001b[0m in \u001b[0;36mfind_pv\u001b[1;34m(category)\u001b[0m\n\u001b[0;32m     12\u001b[0m     \u001b[0mreses\u001b[0m \u001b[1;33m=\u001b[0m \u001b[1;33m[\u001b[0m\u001b[1;33m]\u001b[0m\u001b[1;33m\u001b[0m\u001b[1;33m\u001b[0m\u001b[0m\n\u001b[0;32m     13\u001b[0m     \u001b[1;32mfor\u001b[0m \u001b[0mi\u001b[0m \u001b[1;32min\u001b[0m \u001b[0mrange\u001b[0m\u001b[1;33m(\u001b[0m\u001b[1;36m1000\u001b[0m\u001b[1;33m)\u001b[0m\u001b[1;33m:\u001b[0m\u001b[1;33m\u001b[0m\u001b[1;33m\u001b[0m\u001b[0m\n\u001b[1;32m---> 14\u001b[1;33m         \u001b[0mactncs\u001b[0m \u001b[1;33m=\u001b[0m \u001b[0mactnc\u001b[0m\u001b[1;33m.\u001b[0m\u001b[0msample\u001b[0m\u001b[1;33m(\u001b[0m\u001b[0mlen\u001b[0m\u001b[1;33m(\u001b[0m\u001b[0mactc\u001b[0m\u001b[1;33m)\u001b[0m\u001b[1;33m,\u001b[0m \u001b[0mreplace\u001b[0m\u001b[1;33m=\u001b[0m\u001b[1;32mTrue\u001b[0m\u001b[1;33m)\u001b[0m\u001b[1;33m\u001b[0m\u001b[1;33m\u001b[0m\u001b[0m\n\u001b[0m\u001b[0;32m     15\u001b[0m         \u001b[0mres\u001b[0m \u001b[1;33m=\u001b[0m \u001b[1;33m[\u001b[0m\u001b[1;33m]\u001b[0m\u001b[1;33m\u001b[0m\u001b[1;33m\u001b[0m\u001b[0m\n\u001b[0;32m     16\u001b[0m         \u001b[1;32mfor\u001b[0m \u001b[0mcol\u001b[0m \u001b[1;32min\u001b[0m \u001b[0mactc\u001b[0m\u001b[1;33m:\u001b[0m\u001b[1;33m\u001b[0m\u001b[1;33m\u001b[0m\u001b[0m\n",
      "\u001b[1;32mD:\\users\\maxim\\anaconda3\\envs\\rnn-films\\lib\\site-packages\\pandas\\core\\generic.py\u001b[0m in \u001b[0;36msample\u001b[1;34m(self, n, frac, replace, weights, random_state, axis, ignore_index)\u001b[0m\n\u001b[0;32m   5364\u001b[0m \u001b[1;33m\u001b[0m\u001b[0m\n\u001b[0;32m   5365\u001b[0m         \u001b[0mlocs\u001b[0m \u001b[1;33m=\u001b[0m \u001b[0mrs\u001b[0m\u001b[1;33m.\u001b[0m\u001b[0mchoice\u001b[0m\u001b[1;33m(\u001b[0m\u001b[0maxis_length\u001b[0m\u001b[1;33m,\u001b[0m \u001b[0msize\u001b[0m\u001b[1;33m=\u001b[0m\u001b[0mn\u001b[0m\u001b[1;33m,\u001b[0m \u001b[0mreplace\u001b[0m\u001b[1;33m=\u001b[0m\u001b[0mreplace\u001b[0m\u001b[1;33m,\u001b[0m \u001b[0mp\u001b[0m\u001b[1;33m=\u001b[0m\u001b[0mweights\u001b[0m\u001b[1;33m)\u001b[0m\u001b[1;33m\u001b[0m\u001b[1;33m\u001b[0m\u001b[0m\n\u001b[1;32m-> 5366\u001b[1;33m         \u001b[0mresult\u001b[0m \u001b[1;33m=\u001b[0m \u001b[0mself\u001b[0m\u001b[1;33m.\u001b[0m\u001b[0mtake\u001b[0m\u001b[1;33m(\u001b[0m\u001b[0mlocs\u001b[0m\u001b[1;33m,\u001b[0m \u001b[0maxis\u001b[0m\u001b[1;33m=\u001b[0m\u001b[0maxis\u001b[0m\u001b[1;33m)\u001b[0m\u001b[1;33m\u001b[0m\u001b[1;33m\u001b[0m\u001b[0m\n\u001b[0m\u001b[0;32m   5367\u001b[0m         \u001b[1;32mif\u001b[0m \u001b[0mignore_index\u001b[0m\u001b[1;33m:\u001b[0m\u001b[1;33m\u001b[0m\u001b[1;33m\u001b[0m\u001b[0m\n\u001b[0;32m   5368\u001b[0m             \u001b[0mresult\u001b[0m\u001b[1;33m.\u001b[0m\u001b[0mindex\u001b[0m \u001b[1;33m=\u001b[0m \u001b[0mibase\u001b[0m\u001b[1;33m.\u001b[0m\u001b[0mdefault_index\u001b[0m\u001b[1;33m(\u001b[0m\u001b[0mlen\u001b[0m\u001b[1;33m(\u001b[0m\u001b[0mresult\u001b[0m\u001b[1;33m)\u001b[0m\u001b[1;33m)\u001b[0m\u001b[1;33m\u001b[0m\u001b[1;33m\u001b[0m\u001b[0m\n",
      "\u001b[1;32mD:\\users\\maxim\\anaconda3\\envs\\rnn-films\\lib\\site-packages\\pandas\\core\\generic.py\u001b[0m in \u001b[0;36mtake\u001b[1;34m(self, indices, axis, is_copy, **kwargs)\u001b[0m\n\u001b[0;32m   3613\u001b[0m         \u001b[0mself\u001b[0m\u001b[1;33m.\u001b[0m\u001b[0m_consolidate_inplace\u001b[0m\u001b[1;33m(\u001b[0m\u001b[1;33m)\u001b[0m\u001b[1;33m\u001b[0m\u001b[1;33m\u001b[0m\u001b[0m\n\u001b[0;32m   3614\u001b[0m \u001b[1;33m\u001b[0m\u001b[0m\n\u001b[1;32m-> 3615\u001b[1;33m         new_data = self._mgr.take(\n\u001b[0m\u001b[0;32m   3616\u001b[0m             \u001b[0mindices\u001b[0m\u001b[1;33m,\u001b[0m \u001b[0maxis\u001b[0m\u001b[1;33m=\u001b[0m\u001b[0mself\u001b[0m\u001b[1;33m.\u001b[0m\u001b[0m_get_block_manager_axis\u001b[0m\u001b[1;33m(\u001b[0m\u001b[0maxis\u001b[0m\u001b[1;33m)\u001b[0m\u001b[1;33m,\u001b[0m \u001b[0mverify\u001b[0m\u001b[1;33m=\u001b[0m\u001b[1;32mTrue\u001b[0m\u001b[1;33m\u001b[0m\u001b[1;33m\u001b[0m\u001b[0m\n\u001b[0;32m   3617\u001b[0m         )\n",
      "\u001b[1;32mD:\\users\\maxim\\anaconda3\\envs\\rnn-films\\lib\\site-packages\\pandas\\core\\internals\\managers.py\u001b[0m in \u001b[0;36mtake\u001b[1;34m(self, indexer, axis, verify)\u001b[0m\n\u001b[0;32m    860\u001b[0m \u001b[1;33m\u001b[0m\u001b[0m\n\u001b[0;32m    861\u001b[0m         \u001b[0mn\u001b[0m \u001b[1;33m=\u001b[0m \u001b[0mself\u001b[0m\u001b[1;33m.\u001b[0m\u001b[0mshape\u001b[0m\u001b[1;33m[\u001b[0m\u001b[0maxis\u001b[0m\u001b[1;33m]\u001b[0m\u001b[1;33m\u001b[0m\u001b[1;33m\u001b[0m\u001b[0m\n\u001b[1;32m--> 862\u001b[1;33m         \u001b[0mindexer\u001b[0m \u001b[1;33m=\u001b[0m \u001b[0mmaybe_convert_indices\u001b[0m\u001b[1;33m(\u001b[0m\u001b[0mindexer\u001b[0m\u001b[1;33m,\u001b[0m \u001b[0mn\u001b[0m\u001b[1;33m,\u001b[0m \u001b[0mverify\u001b[0m\u001b[1;33m=\u001b[0m\u001b[0mverify\u001b[0m\u001b[1;33m)\u001b[0m\u001b[1;33m\u001b[0m\u001b[1;33m\u001b[0m\u001b[0m\n\u001b[0m\u001b[0;32m    863\u001b[0m \u001b[1;33m\u001b[0m\u001b[0m\n\u001b[0;32m    864\u001b[0m         \u001b[0mnew_labels\u001b[0m \u001b[1;33m=\u001b[0m \u001b[0mself\u001b[0m\u001b[1;33m.\u001b[0m\u001b[0maxes\u001b[0m\u001b[1;33m[\u001b[0m\u001b[0maxis\u001b[0m\u001b[1;33m]\u001b[0m\u001b[1;33m.\u001b[0m\u001b[0mtake\u001b[0m\u001b[1;33m(\u001b[0m\u001b[0mindexer\u001b[0m\u001b[1;33m)\u001b[0m\u001b[1;33m\u001b[0m\u001b[1;33m\u001b[0m\u001b[0m\n",
      "\u001b[1;32mD:\\users\\maxim\\anaconda3\\envs\\rnn-films\\lib\\site-packages\\pandas\\core\\indexers.py\u001b[0m in \u001b[0;36mmaybe_convert_indices\u001b[1;34m(indices, n, verify)\u001b[0m\n\u001b[0;32m    288\u001b[0m \u001b[1;33m\u001b[0m\u001b[0m\n\u001b[0;32m    289\u001b[0m     \u001b[1;32mif\u001b[0m \u001b[0mverify\u001b[0m\u001b[1;33m:\u001b[0m\u001b[1;33m\u001b[0m\u001b[1;33m\u001b[0m\u001b[0m\n\u001b[1;32m--> 290\u001b[1;33m         \u001b[0mmask\u001b[0m \u001b[1;33m=\u001b[0m \u001b[1;33m(\u001b[0m\u001b[0mindices\u001b[0m \u001b[1;33m>=\u001b[0m \u001b[0mn\u001b[0m\u001b[1;33m)\u001b[0m \u001b[1;33m|\u001b[0m \u001b[1;33m(\u001b[0m\u001b[0mindices\u001b[0m \u001b[1;33m<\u001b[0m \u001b[1;36m0\u001b[0m\u001b[1;33m)\u001b[0m\u001b[1;33m\u001b[0m\u001b[1;33m\u001b[0m\u001b[0m\n\u001b[0m\u001b[0;32m    291\u001b[0m         \u001b[1;32mif\u001b[0m \u001b[0mmask\u001b[0m\u001b[1;33m.\u001b[0m\u001b[0many\u001b[0m\u001b[1;33m(\u001b[0m\u001b[1;33m)\u001b[0m\u001b[1;33m:\u001b[0m\u001b[1;33m\u001b[0m\u001b[1;33m\u001b[0m\u001b[0m\n\u001b[0;32m    292\u001b[0m             \u001b[1;32mraise\u001b[0m \u001b[0mIndexError\u001b[0m\u001b[1;33m(\u001b[0m\u001b[1;34m\"indices are out-of-bounds\"\u001b[0m\u001b[1;33m)\u001b[0m\u001b[1;33m\u001b[0m\u001b[1;33m\u001b[0m\u001b[0m\n",
      "\u001b[1;31mKeyboardInterrupt\u001b[0m: "
     ]
    }
   ],
   "source": [
    "from scipy import stats\n",
    "import plotly.graph_objects as go\n",
    "import seaborn as sns\n",
    "import matplotlib.pyplot as plt\n",
    "import time\n",
    "\n",
    "def find_pv(category):\n",
    "    start_time = time.time()\n",
    "    \n",
    "    actc = get_activation_for_cat(category, df_s)\n",
    "    actnc = get_activation_for_not_cat(category, df_s)\n",
    "    reses = []\n",
    "    for i in range(1000):  \n",
    "        actncs = actnc.sample(len(actc), replace=True)\n",
    "        res = []\n",
    "        for col in actc:\n",
    "            p = stats.wilcoxon(np.array(actncs[col]), y=np.array(actc[col])).pvalue\n",
    "            res.append(p)\n",
    "        reses.append(res)\n",
    "    return_df = pd.DataFrame(np.array(reses)).mean()\n",
    "    \n",
    "    print(f\"--- For find_pv with c={category}: {time.time() - start_time}cseconds ---\")\n",
    "    return return_df\n",
    "\n",
    "def get_heatmaps_dict(self):\n",
    "    start_time = time.time()\n",
    "\n",
    "    dheatmaps = {}\n",
    "\n",
    "    heatmap_path = '../heatmaps/'\n",
    "\n",
    "    if not os.path.exists(heatmap_path):\n",
    "        os.makedirs(heatmap_path)\n",
    "\n",
    "    #for i in range(len(self.model.get_layers())):\n",
    "    for i in range(len(self.dfs)):\n",
    "        ddf = {}\n",
    "\n",
    "        current_path = os.path.join(heatmap_path, self.model.get_layers()[i].name)\n",
    "        if not os.path.exists(current_path):\n",
    "            os.makedirs(current_path)\n",
    "\n",
    "        for c, n in self.get_popular_categories(thresh=500):\n",
    "            for_cat = {}\n",
    "\n",
    "            r = self.find_pv(c, self.dfs[i])\n",
    "\n",
    "            # 1st heatmap\n",
    "            rdf = pd.DataFrame(r)\n",
    "            ax = sns.heatmap(rdf.T, cbar=False, cmap=\"Greys\")\n",
    "            fig = ax.get_figure()\n",
    "            path = f\"{current_path}/{c}-1.png\"\n",
    "            fig.savefig(path)\n",
    "\n",
    "                for_cat['heatmap-1'] = {}\n",
    "                for_cat['heatmap-1']['path'] = path\n",
    "                for_cat['heatmap-1']['data'] = np.array(rdf[0]).T\n",
    "\n",
    "                # 2nd heatmap\n",
    "                rdf[0] = rdf[0].apply(lambda x: 0 if x > 0.01 else 1)\n",
    "                ax = sns.heatmap(rdf.T, cbar=False, cmap=\"Greys\")\n",
    "                fig = ax.get_figure()\n",
    "                path = f\"{current_path}/{c}-2.png\"\n",
    "                fig.savefig(path)\n",
    "\n",
    "                for_cat['heatmap-2'] = {}\n",
    "                for_cat['heatmap-2']['path'] = path\n",
    "                for_cat['heatmap-2']['data'] = np.array(rdf[0]).T\n",
    "\n",
    "                # Add paths to dict\n",
    "                ddf[c] = for_cat\n",
    "\n",
    "            dheatmaps[self.model.get_layers()[i].name] = ddf\n",
    "\n",
    "        print(f\"--- For get_heatmaps_dict: {time.time() - start_time} seconds ---\")\n",
    "\n",
    "        return dheatmaps\n",
    "\n",
    "\"\"\"\n",
    "for c, n in get_popular_categories(df):\n",
    "    print(c)\n",
    "    r = find_pv(c)\n",
    "    rdf = pd.DataFrame(r)\n",
    "    \n",
    "    sns.heatmap(rdf.T, cmap=\"Greys\")\n",
    "    plt.show()\n",
    "    \n",
    "    \"\"\"\"\"\"\n",
    "    data = [go.Heatmap(z=rdf.T, zmin=0, zmax=1,\n",
    "            colorscale=['rgb(255, 255, 255)', 'rgb(0, 0, 0)'], \n",
    "            reversescale=False)]\n",
    "    layout = go.Layout(template='none', height=300)\n",
    "    fig = go.Figure(data=data, layout=layout)\n",
    "    fig.show()\"\"\"\n",
    "    \"\"\"\n",
    "    \n",
    "\n",
    "    rdf[0] = rdf[0].apply(lambda x: 0 if x > 0.01 else 1)\n",
    "    \n",
    "    sns.heatmap(rdf.T, cmap=\"Greys\")\n",
    "    plt.show()\n",
    "    \n",
    "    \"\"\"\"\"\"\n",
    "    data = [go.Heatmap(z=rdf.T, zmin=0, zmax=1,\n",
    "            colorscale=['rgb(0, 0, 0)', 'rgb(255, 255, 255)'], \n",
    "            reversescale=False)]\n",
    "    layout = go.Layout(template='none', height=300)\n",
    "    fig = go.Figure(data=data, layout=layout)\n",
    "    fig.show()\n",
    "    \"\"\"\"\"\""
   ]
  },
  {
   "cell_type": "code",
   "execution_count": null,
   "id": "201cb430",
   "metadata": {
    "pycharm": {
     "name": "#%%\n"
    }
   },
   "outputs": [],
   "source": [
    "def get_heatmaps_dict():\n",
    "    dheatmaps = {}\n",
    "    for c, n in get_popular_categories(df_s, thresh=500):\n",
    "        for_cat = {}\n",
    "\n",
    "        r = find_pv(c)\n",
    "\n",
    "        # 1st heatmap\n",
    "        rdf = pd.DataFrame(r)\n",
    "        ax = sns.heatmap(rdf.T, cbar=False, cmap=\"Greys\")\n",
    "        fig = ax.get_figure()\n",
    "        path = f\"../heatmaps/{c}-1.png\"\n",
    "        #fig.savefig(path)\n",
    "\n",
    "        for_cat['heatmap-1'] = {}\n",
    "        for_cat['heatmap-1']['path'] = path\n",
    "        for_cat['heatmap-1']['data'] = np.array(rdf[0]).T\n",
    "\n",
    "        # 2st heatmap\n",
    "        rdf[0] = rdf[0].apply(lambda x: 0 if x > 0.01 else 1)\n",
    "        ax = sns.heatmap(rdf.T, cbar=False, cmap=\"Greys\")\n",
    "        fig = ax.get_figure()\n",
    "        path = f\"../heatmaps/{c}-2.png\"\n",
    "        #fig.savefig(path)\n",
    "\n",
    "        for_cat['heatmap-2'] = {}\n",
    "        for_cat['heatmap-2']['path'] = path\n",
    "        for_cat['heatmap-2']['data'] = np.array(rdf[0]).T\n",
    "\n",
    "        # Add paths to dict\n",
    "        dheatmaps[c] = for_cat\n",
    "\n",
    "    return dheatmaps"
   ]
  },
  {
   "cell_type": "code",
   "execution_count": null,
   "id": "8d3bfd05",
   "metadata": {
    "pycharm": {
     "name": "#%%\n"
    }
   },
   "outputs": [],
   "source": [
    "def get_all_activations(df, model):\n",
    "    new_df = pd.DataFrame()\n",
    "    \n",
    "    raw_inputs = df.input\n",
    "    inputs = []\n",
    "    for i in range(len(raw_inputs)):\n",
    "        inputs.append(raw_inputs[i])\n",
    "    \n",
    "    new_df['category'] = df.category\n",
    "    new_df['input'] = df.input\n",
    "    new_df['output_low'] = df.output_low\n",
    "    new_df['output_medium'] = df.output_medium\n",
    "    new_df['output_high'] = df.output_high\n",
    "\n",
    "    activations = model.predict(inputs)\n",
    "    for neuron_index, value_list in enumerate(activations.T):\n",
    "        index = f\"neuron_{neuron_index + 1}\"\n",
    "        new_df[index] = value_list\n",
    "    \n",
    "    return standardize(new_df)"
   ]
  },
  {
   "cell_type": "code",
   "execution_count": null,
   "id": "317aef7c",
   "metadata": {
    "pycharm": {
     "name": "#%%\n"
    }
   },
   "outputs": [],
   "source": [
    "raw_inputs = df.input\n",
    "inputs = [x for x in df.input]\n",
    "\n",
    "new_df = pd.DataFrame()\n",
    "\n",
    "activations = model2.predict(inputs)\n",
    "activations"
   ]
  },
  {
   "cell_type": "code",
   "execution_count": null,
   "id": "710e642b",
   "metadata": {
    "pycharm": {
     "name": "#%%\n"
    }
   },
   "outputs": [],
   "source": [
    "activations.shape, activations.T.shape"
   ]
  },
  {
   "cell_type": "code",
   "execution_count": null,
   "id": "a4e63882",
   "metadata": {
    "pycharm": {
     "name": "#%%\n"
    }
   },
   "outputs": [],
   "source": [
    "activations[0][0].shape"
   ]
  },
  {
   "cell_type": "markdown",
   "id": "fa480f21",
   "metadata": {
    "pycharm": {
     "name": "#%% md\n"
    }
   },
   "source": [
    "## Going through embedding layer"
   ]
  },
  {
   "cell_type": "code",
   "execution_count": 9,
   "id": "b708bfdb",
   "metadata": {
    "pycharm": {
     "name": "#%%\n"
    }
   },
   "outputs": [
    {
     "ename": "NameError",
     "evalue": "name 'df' is not defined",
     "output_type": "error",
     "traceback": [
      "\u001b[1;31m---------------------------------------------------------------------------\u001b[0m",
      "\u001b[1;31mNameError\u001b[0m                                 Traceback (most recent call last)",
      "\u001b[1;32m~\\AppData\\Local\\Temp/ipykernel_22692/3132078843.py\u001b[0m in \u001b[0;36m<module>\u001b[1;34m\u001b[0m\n\u001b[1;32m----> 1\u001b[1;33m \u001b[0minputs\u001b[0m \u001b[1;33m=\u001b[0m \u001b[1;33m[\u001b[0m\u001b[0mx\u001b[0m \u001b[1;32mfor\u001b[0m \u001b[0mx\u001b[0m \u001b[1;32min\u001b[0m \u001b[0mdf\u001b[0m\u001b[1;33m.\u001b[0m\u001b[0minput\u001b[0m\u001b[1;33m]\u001b[0m\u001b[1;33m\u001b[0m\u001b[1;33m\u001b[0m\u001b[0m\n\u001b[0m\u001b[0;32m      2\u001b[0m \u001b[0minputs\u001b[0m\u001b[1;33m\u001b[0m\u001b[1;33m\u001b[0m\u001b[0m\n",
      "\u001b[1;31mNameError\u001b[0m: name 'df' is not defined"
     ]
    }
   ],
   "source": [
    "inputs = [x for x in df.input]\n",
    "inputs"
   ]
  },
  {
   "cell_type": "code",
   "execution_count": 10,
   "id": "c2a43161",
   "metadata": {
    "pycharm": {
     "name": "#%%\n"
    }
   },
   "outputs": [
    {
     "ename": "NameError",
     "evalue": "name 'Sequential' is not defined",
     "output_type": "error",
     "traceback": [
      "\u001b[1;31m---------------------------------------------------------------------------\u001b[0m",
      "\u001b[1;31mNameError\u001b[0m                                 Traceback (most recent call last)",
      "\u001b[1;32m~\\AppData\\Local\\Temp/ipykernel_22692/3631576457.py\u001b[0m in \u001b[0;36m<module>\u001b[1;34m\u001b[0m\n\u001b[1;32m----> 1\u001b[1;33m \u001b[0mnew_model\u001b[0m \u001b[1;33m=\u001b[0m \u001b[0mSequential\u001b[0m\u001b[1;33m(\u001b[0m\u001b[1;33m)\u001b[0m\u001b[1;33m\u001b[0m\u001b[1;33m\u001b[0m\u001b[0m\n\u001b[0m\u001b[0;32m      2\u001b[0m \u001b[0mnew_model\u001b[0m\u001b[1;33m.\u001b[0m\u001b[0madd\u001b[0m\u001b[1;33m(\u001b[0m\u001b[0mmodel\u001b[0m\u001b[1;33m.\u001b[0m\u001b[0mlayers\u001b[0m\u001b[1;33m[\u001b[0m\u001b[1;36m0\u001b[0m\u001b[1;33m]\u001b[0m\u001b[1;33m)\u001b[0m\u001b[1;33m\u001b[0m\u001b[1;33m\u001b[0m\u001b[0m\n\u001b[0;32m      3\u001b[0m \u001b[0mnew_model\u001b[0m\u001b[1;33m.\u001b[0m\u001b[0msummary\u001b[0m\u001b[1;33m(\u001b[0m\u001b[1;33m)\u001b[0m\u001b[1;33m\u001b[0m\u001b[1;33m\u001b[0m\u001b[0m\n",
      "\u001b[1;31mNameError\u001b[0m: name 'Sequential' is not defined"
     ]
    }
   ],
   "source": [
    "new_model = Sequential()\n",
    "new_model.add(model.layers[0])\n",
    "new_model.summary()"
   ]
  },
  {
   "cell_type": "code",
   "execution_count": 11,
   "id": "e9726489",
   "metadata": {
    "pycharm": {
     "name": "#%%\n"
    }
   },
   "outputs": [
    {
     "ename": "NameError",
     "evalue": "name 'new_model' is not defined",
     "output_type": "error",
     "traceback": [
      "\u001b[1;31m---------------------------------------------------------------------------\u001b[0m",
      "\u001b[1;31mNameError\u001b[0m                                 Traceback (most recent call last)",
      "\u001b[1;32m~\\AppData\\Local\\Temp/ipykernel_22692/2666871112.py\u001b[0m in \u001b[0;36m<module>\u001b[1;34m\u001b[0m\n\u001b[1;32m----> 1\u001b[1;33m \u001b[0mactivations\u001b[0m \u001b[1;33m=\u001b[0m \u001b[0mnew_model\u001b[0m\u001b[1;33m.\u001b[0m\u001b[0mpredict\u001b[0m\u001b[1;33m(\u001b[0m\u001b[0minputs\u001b[0m\u001b[1;33m)\u001b[0m\u001b[1;33m\u001b[0m\u001b[1;33m\u001b[0m\u001b[0m\n\u001b[0m\u001b[0;32m      2\u001b[0m \u001b[0mactivations\u001b[0m\u001b[1;33m.\u001b[0m\u001b[0mshape\u001b[0m\u001b[1;33m\u001b[0m\u001b[1;33m\u001b[0m\u001b[0m\n",
      "\u001b[1;31mNameError\u001b[0m: name 'new_model' is not defined"
     ]
    }
   ],
   "source": [
    "activations = new_model.predict(inputs)\n",
    "activations.shape"
   ]
  },
  {
   "cell_type": "markdown",
   "id": "9fa84240",
   "metadata": {
    "pycharm": {
     "name": "#%% md\n"
    }
   },
   "source": [
    "### ISSUE : Embedding layer returns 3D data\n",
    "\n",
    "Since Embedding layer return 3D data instead of 2D such as the other ones, we need to compute the mean to get 2-dimensional data and be able to process the further steps for the heatmap generation"
   ]
  },
  {
   "cell_type": "code",
   "execution_count": 12,
   "id": "962f930b",
   "metadata": {
    "pycharm": {
     "name": "#%%\n"
    }
   },
   "outputs": [
    {
     "ename": "NameError",
     "evalue": "name 'activations' is not defined",
     "output_type": "error",
     "traceback": [
      "\u001b[1;31m---------------------------------------------------------------------------\u001b[0m",
      "\u001b[1;31mNameError\u001b[0m                                 Traceback (most recent call last)",
      "\u001b[1;32m~\\AppData\\Local\\Temp/ipykernel_22692/911370139.py\u001b[0m in \u001b[0;36m<module>\u001b[1;34m\u001b[0m\n\u001b[0;32m      1\u001b[0m \u001b[0mmean_activations\u001b[0m \u001b[1;33m=\u001b[0m \u001b[1;33m[\u001b[0m\u001b[1;33m]\u001b[0m\u001b[1;33m\u001b[0m\u001b[1;33m\u001b[0m\u001b[0m\n\u001b[1;32m----> 2\u001b[1;33m \u001b[1;32mfor\u001b[0m \u001b[0mi\u001b[0m \u001b[1;32min\u001b[0m \u001b[0mactivations\u001b[0m\u001b[1;33m:\u001b[0m\u001b[1;33m\u001b[0m\u001b[1;33m\u001b[0m\u001b[0m\n\u001b[0m\u001b[0;32m      3\u001b[0m     \u001b[0mmean_activations\u001b[0m\u001b[1;33m.\u001b[0m\u001b[0mappend\u001b[0m\u001b[1;33m(\u001b[0m\u001b[0mpd\u001b[0m\u001b[1;33m.\u001b[0m\u001b[0mDataFrame\u001b[0m\u001b[1;33m(\u001b[0m\u001b[0mi\u001b[0m\u001b[1;33m)\u001b[0m\u001b[1;33m.\u001b[0m\u001b[0mmean\u001b[0m\u001b[1;33m(\u001b[0m\u001b[1;33m)\u001b[0m\u001b[1;33m)\u001b[0m\u001b[1;33m\u001b[0m\u001b[1;33m\u001b[0m\u001b[0m\n",
      "\u001b[1;31mNameError\u001b[0m: name 'activations' is not defined"
     ]
    }
   ],
   "source": [
    "mean_activations = []\n",
    "for i in activations:\n",
    "    mean_activations.append(pd.DataFrame(i).mean())"
   ]
  },
  {
   "cell_type": "code",
   "execution_count": 13,
   "id": "915b68c0",
   "metadata": {
    "pycharm": {
     "name": "#%%\n"
    }
   },
   "outputs": [
    {
     "ename": "NameError",
     "evalue": "name 'np' is not defined",
     "output_type": "error",
     "traceback": [
      "\u001b[1;31m---------------------------------------------------------------------------\u001b[0m",
      "\u001b[1;31mNameError\u001b[0m                                 Traceback (most recent call last)",
      "\u001b[1;32m~\\AppData\\Local\\Temp/ipykernel_22692/4057048240.py\u001b[0m in \u001b[0;36m<module>\u001b[1;34m\u001b[0m\n\u001b[1;32m----> 1\u001b[1;33m \u001b[0mmean_activations\u001b[0m \u001b[1;33m=\u001b[0m \u001b[0mnp\u001b[0m\u001b[1;33m.\u001b[0m\u001b[0marray\u001b[0m\u001b[1;33m(\u001b[0m\u001b[0mmean_activations\u001b[0m\u001b[1;33m)\u001b[0m\u001b[1;33m\u001b[0m\u001b[1;33m\u001b[0m\u001b[0m\n\u001b[0m\u001b[0;32m      2\u001b[0m \u001b[0mmean_activations\u001b[0m\u001b[1;33m.\u001b[0m\u001b[0mshape\u001b[0m\u001b[1;33m\u001b[0m\u001b[1;33m\u001b[0m\u001b[0m\n",
      "\u001b[1;31mNameError\u001b[0m: name 'np' is not defined"
     ]
    }
   ],
   "source": [
    "mean_activations = np.array(mean_activations)\n",
    "mean_activations.shape"
   ]
  },
  {
   "cell_type": "code",
   "execution_count": 14,
   "id": "52489c64",
   "metadata": {
    "pycharm": {
     "name": "#%%\n"
    }
   },
   "outputs": [
    {
     "ename": "NameError",
     "evalue": "name 'pd' is not defined",
     "output_type": "error",
     "traceback": [
      "\u001b[1;31m---------------------------------------------------------------------------\u001b[0m",
      "\u001b[1;31mNameError\u001b[0m                                 Traceback (most recent call last)",
      "\u001b[1;32m~\\AppData\\Local\\Temp/ipykernel_22692/1775018974.py\u001b[0m in \u001b[0;36m<module>\u001b[1;34m\u001b[0m\n\u001b[1;32m----> 1\u001b[1;33m \u001b[0mnew_df\u001b[0m \u001b[1;33m=\u001b[0m \u001b[0mpd\u001b[0m\u001b[1;33m.\u001b[0m\u001b[0mDataFrame\u001b[0m\u001b[1;33m(\u001b[0m\u001b[1;33m)\u001b[0m\u001b[1;33m\u001b[0m\u001b[1;33m\u001b[0m\u001b[0m\n\u001b[0m\u001b[0;32m      2\u001b[0m \u001b[1;33m\u001b[0m\u001b[0m\n\u001b[0;32m      3\u001b[0m \u001b[1;32mfor\u001b[0m \u001b[0mneuron_index\u001b[0m\u001b[1;33m,\u001b[0m \u001b[0mvalue_list\u001b[0m \u001b[1;32min\u001b[0m \u001b[0menumerate\u001b[0m\u001b[1;33m(\u001b[0m\u001b[0mmean_activations\u001b[0m\u001b[1;33m.\u001b[0m\u001b[0mT\u001b[0m\u001b[1;33m)\u001b[0m\u001b[1;33m:\u001b[0m\u001b[1;33m\u001b[0m\u001b[1;33m\u001b[0m\u001b[0m\n\u001b[0;32m      4\u001b[0m     \u001b[0mindex\u001b[0m \u001b[1;33m=\u001b[0m \u001b[1;34mf\"neuron_{neuron_index + 1}\"\u001b[0m\u001b[1;33m\u001b[0m\u001b[1;33m\u001b[0m\u001b[0m\n\u001b[0;32m      5\u001b[0m     \u001b[0mnew_df\u001b[0m\u001b[1;33m[\u001b[0m\u001b[0mindex\u001b[0m\u001b[1;33m]\u001b[0m \u001b[1;33m=\u001b[0m \u001b[0mvalue_list\u001b[0m\u001b[1;33m\u001b[0m\u001b[1;33m\u001b[0m\u001b[0m\n",
      "\u001b[1;31mNameError\u001b[0m: name 'pd' is not defined"
     ]
    }
   ],
   "source": [
    "new_df = pd.DataFrame()\n",
    "\n",
    "for neuron_index, value_list in enumerate(mean_activations.T):\n",
    "    index = f\"neuron_{neuron_index + 1}\"\n",
    "    new_df[index] = value_list"
   ]
  },
  {
   "cell_type": "code",
   "execution_count": 15,
   "id": "05979c4e",
   "metadata": {
    "pycharm": {
     "name": "#%%\n"
    }
   },
   "outputs": [
    {
     "ename": "NameError",
     "evalue": "name 'new_df' is not defined",
     "output_type": "error",
     "traceback": [
      "\u001b[1;31m---------------------------------------------------------------------------\u001b[0m",
      "\u001b[1;31mNameError\u001b[0m                                 Traceback (most recent call last)",
      "\u001b[1;32m~\\AppData\\Local\\Temp/ipykernel_22692/1560319772.py\u001b[0m in \u001b[0;36m<module>\u001b[1;34m\u001b[0m\n\u001b[1;32m----> 1\u001b[1;33m \u001b[0mnew_df\u001b[0m\u001b[1;33m\u001b[0m\u001b[1;33m\u001b[0m\u001b[0m\n\u001b[0m",
      "\u001b[1;31mNameError\u001b[0m: name 'new_df' is not defined"
     ]
    }
   ],
   "source": [
    "new_df"
   ]
  },
  {
   "cell_type": "code",
   "execution_count": 16,
   "id": "f41f5fd5",
   "metadata": {
    "pycharm": {
     "name": "#%%\n"
    }
   },
   "outputs": [
    {
     "ename": "NameError",
     "evalue": "name 'new_model' is not defined",
     "output_type": "error",
     "traceback": [
      "\u001b[1;31m---------------------------------------------------------------------------\u001b[0m",
      "\u001b[1;31mNameError\u001b[0m                                 Traceback (most recent call last)",
      "\u001b[1;32m~\\AppData\\Local\\Temp/ipykernel_22692/1944288596.py\u001b[0m in \u001b[0;36m<module>\u001b[1;34m\u001b[0m\n\u001b[1;32m----> 1\u001b[1;33m \u001b[0misinstance\u001b[0m\u001b[1;33m(\u001b[0m\u001b[0mnew_model\u001b[0m\u001b[1;33m.\u001b[0m\u001b[0mlayers\u001b[0m\u001b[1;33m[\u001b[0m\u001b[1;33m-\u001b[0m\u001b[1;36m1\u001b[0m\u001b[1;33m]\u001b[0m\u001b[1;33m,\u001b[0m \u001b[0mEmbedding\u001b[0m\u001b[1;33m)\u001b[0m\u001b[1;33m\u001b[0m\u001b[1;33m\u001b[0m\u001b[0m\n\u001b[0m",
      "\u001b[1;31mNameError\u001b[0m: name 'new_model' is not defined"
     ]
    }
   ],
   "source": [
    "isinstance(new_model.layers[-1], Embedding)"
   ]
  },
  {
   "cell_type": "code",
   "execution_count": 16,
   "id": "aeea2771",
   "metadata": {
    "pycharm": {
     "name": "#%%\n"
    }
   },
   "outputs": [],
   "source": []
  },
  {
   "cell_type": "code",
   "execution_count": 16,
   "id": "9ed0c0ef",
   "metadata": {
    "pycharm": {
     "name": "#%%\n"
    }
   },
   "outputs": [],
   "source": []
  },
  {
   "cell_type": "code",
   "execution_count": null,
   "id": "8c1aaaa9",
   "metadata": {
    "pycharm": {
     "name": "#%%\n"
    }
   },
   "outputs": [],
   "source": []
  }
 ],
 "metadata": {
  "kernelspec": {
   "display_name": "rnn-films",
   "language": "python",
   "name": "rnn-films"
  },
  "language_info": {
   "codemirror_mode": {
    "name": "ipython",
    "version": 3
   },
   "file_extension": ".py",
   "mimetype": "text/x-python",
   "name": "python",
   "nbconvert_exporter": "python",
   "pygments_lexer": "ipython3",
   "version": "3.9.7"
  }
 },
 "nbformat": 4,
 "nbformat_minor": 5
}
